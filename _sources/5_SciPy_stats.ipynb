{
 "cells": [
  {
   "cell_type": "markdown",
   "metadata": {},
   "source": [
    "# SciPy.stats"
   ]
  },
  {
   "cell_type": "markdown",
   "metadata": {},
   "source": [
    "If you come here without expecting Japanese, please click [Google translated version](https://translate.google.com/translate?hl=&sl=ja&tl=en&u=https%3A%2F%2Fpy4etrics.github.io%2F5_SciPy_stats.html) in English or the language of your choice.\n",
    "\n",
    "---"
   ]
  },
  {
   "cell_type": "markdown",
   "metadata": {},
   "source": [
    "`SciPy`（サイパイ）は，NumPyの大幅な拡張版と理解して良い。`SciPy`を読み込むとNumPyの関数などを利用できるようになる。しかし`SciPy`は大きなパッケージであり，全てを読み込む必要もない。従って，`NumPy`を読み込んで，`SciPy`のサブパッケージや関数を読み込むということで十分であろう。ここでは`SciPy`の`stats`というサブパッケージについて説明する。"
   ]
  },
  {
   "cell_type": "markdown",
   "metadata": {
    "heading_collapsed": true
   },
   "source": [
    "## 正規分布（Normal Distribution）"
   ]
  },
  {
   "cell_type": "markdown",
   "metadata": {
    "hidden": true
   },
   "source": [
    "正規分布のモジュール名は`norm`であり，以下が主な関数である。\n",
    "\n",
    "1. 確率密度関数： `norm.pdf(x, loc=0, scale=1)`\n",
    "    * `pdf`はProbability Density Functionの頭文字\n",
    "    * `loc` = 平均\n",
    "    * `scale` = 標準偏差\n",
    "    * `x` = $-\\infty$から$\\infty$の間の値\n",
    "    * 返り値：`x`の値が発生する確率（％）\n",
    "    * `loc`と`scale`を省略すると標準正規分布の確率密度関数となる。\n",
    "\n",
    "\n",
    "2. 累積分布関数： `norm.cdf(x, loc=0, scale=1)`\n",
    "    * `cdf`はCumulative Distribution Functionの頭文字\n",
    "    * `loc` = 平均\n",
    "    * `scale` = 標準偏差\n",
    "    * `x` = $-\\infty$から$\\infty$の間の値\n",
    "    * 返り値：`x`**以下**の値が発生する確率（％）\n",
    "    * `loc`と`scale`を省略すると標準正規分布の累積分布関数となる。\n",
    "\n",
    "\n",
    "3. パーセント・ポイント関数： `norm.ppf(a, loc=0, scale=1)`\n",
    "    * `ppf`はPercent Point Functionの頭文字\n",
    "    * `loc` = 平均\n",
    "    * `scale` = 標準偏差\n",
    "    * `a` = 0 ~ 1の間の値\n",
    "    * 返り値：累積分布関数の値が`a`である場合の`x`の値（累積分布関数の逆関数）\n",
    "    * `loc`と`scale`を省略すると標準正規分布のパーセント・ポイント関数となる。\n",
    "\n",
    "\n",
    "4. ランダム変数生成関数： `norm.rvs(loc=0, scale=1, size=1)`\n",
    "    * `rvs`はRandom VariableSの大文字の部分\n",
    "    * `loc` = 平均\n",
    "    * `scale` = 標準偏差\n",
    "    * `size` = 生成されるランダム変数の数\n",
    "    * 返り値：正規分布に従って発生したランダム変数\n",
    "    * `loc`と`scale`を省略すると標準正規分布のランダム変数生成関数となる。\n",
    "\n",
    "\n",
    "`scipy.stats`の`norm`，`NumPy`，`matplotlib.pyplot`を読み込む。"
   ]
  },
  {
   "cell_type": "code",
   "execution_count": 1,
   "metadata": {
    "hidden": true
   },
   "outputs": [],
   "source": [
    "from scipy.stats import norm\n",
    "import numpy as np\n",
    "import matplotlib.pyplot as plt"
   ]
  },
  {
   "cell_type": "markdown",
   "metadata": {
    "hidden": true
   },
   "source": [
    "**確率密度関数**"
   ]
  },
  {
   "cell_type": "code",
   "execution_count": 2,
   "metadata": {
    "hidden": true
   },
   "outputs": [
    {
     "data": {
      "text/plain": [
       "0.3989422804014327"
      ]
     },
     "execution_count": 2,
     "metadata": {},
     "output_type": "execute_result"
    }
   ],
   "source": [
    "norm.pdf(0)"
   ]
  },
  {
   "cell_type": "markdown",
   "metadata": {
    "hidden": true
   },
   "source": [
    "`0`が発生する確率は約`39.9%`とわかる。`norm.pdf(x)`のグラフを描くためには，$\\infty$から$\\infty$の`x`の返り値が必要になるが，ここでは`-4`から`4`の区間で100個の`x`の値で近似する。"
   ]
  },
  {
   "cell_type": "code",
   "execution_count": 3,
   "metadata": {
    "hidden": true
   },
   "outputs": [],
   "source": [
    "x = np.linspace(-4, 4, 100)"
   ]
  },
  {
   "cell_type": "markdown",
   "metadata": {
    "hidden": true
   },
   "source": [
    "この`x`を直接`norm.pdf()`に代入すると，全ての`x`の値に対しての返り値を得ることができる。それを`y_pdf`に割り当てる。"
   ]
  },
  {
   "cell_type": "code",
   "execution_count": 4,
   "metadata": {
    "hidden": true
   },
   "outputs": [],
   "source": [
    "y_pdf = norm.pdf(x)  # 標準正規分布"
   ]
  },
  {
   "cell_type": "code",
   "execution_count": 5,
   "metadata": {
    "hidden": true
   },
   "outputs": [
    {
     "data": {
      "image/png": "[encoded data removed]",
      "text/plain": [
       "<Figure size 432x288 with 1 Axes>"
      ]
     },
     "metadata": {
      "needs_background": "light"
     },
     "output_type": "display_data"
    }
   ],
   "source": [
    "plt.plot(x,y_pdf)\n",
    "plt.xlabel('x')\n",
    "plt.ylabel('p')\n",
    "plt.title('Standard Normal Distribution')\n",
    "pass"
   ]
  },
  {
   "cell_type": "markdown",
   "metadata": {
    "hidden": true
   },
   "source": [
    "**累積分布関数**"
   ]
  },
  {
   "cell_type": "code",
   "execution_count": 6,
   "metadata": {
    "hidden": true
   },
   "outputs": [],
   "source": [
    "y_cdf = norm.cdf(x)  # 標準正規分布"
   ]
  },
  {
   "cell_type": "code",
   "execution_count": 7,
   "metadata": {
    "hidden": true
   },
   "outputs": [
    {
     "data": {
      "image/png": "[encoded data removed]",
      "text/plain": [
       "<Figure size 432x288 with 1 Axes>"
      ]
     },
     "metadata": {
      "needs_background": "light"
     },
     "output_type": "display_data"
    }
   ],
   "source": [
    "plt.plot(x, y_cdf)\n",
    "plt.xlabel('x')\n",
    "plt.ylabel('P')\n",
    "plt.title('Cumulative Distribution Function')\n",
    "pass"
   ]
  },
  {
   "cell_type": "markdown",
   "metadata": {
    "hidden": true
   },
   "source": [
    "この関数を使うことにより，`x`の値が$X$の時，それ以下の値が発生する確率は何％かを計算できる。例えば，`x`が$0$以下の値を取る確率は"
   ]
  },
  {
   "cell_type": "code",
   "execution_count": 8,
   "metadata": {
    "hidden": true
   },
   "outputs": [
    {
     "data": {
      "text/plain": [
       "0.5"
      ]
     },
     "execution_count": 8,
     "metadata": {},
     "output_type": "execute_result"
    }
   ],
   "source": [
    "norm.cdf(0)"
   ]
  },
  {
   "cell_type": "markdown",
   "metadata": {
    "hidden": true
   },
   "source": [
    "確率密度関数が平均$0$（`loc=0`）を中心に左右対称のため確率は50%となる。では，`x`が$-4$以下の場合は？"
   ]
  },
  {
   "cell_type": "code",
   "execution_count": 9,
   "metadata": {
    "hidden": true
   },
   "outputs": [
    {
     "data": {
      "text/plain": [
       "3.167124183311986e-05"
      ]
     },
     "execution_count": 9,
     "metadata": {},
     "output_type": "execute_result"
    }
   ],
   "source": [
    "norm.cdf(-4)"
   ]
  },
  {
   "cell_type": "markdown",
   "metadata": {
    "hidden": true
   },
   "source": [
    "返り値の最後の`e-05`は$\\times 10^5$という意味。では，`x`が４**以上**の確率は？"
   ]
  },
  {
   "cell_type": "code",
   "execution_count": 10,
   "metadata": {
    "hidden": true
   },
   "outputs": [
    {
     "data": {
      "text/plain": [
       "3.167124183311998e-05"
      ]
     },
     "execution_count": 10,
     "metadata": {},
     "output_type": "execute_result"
    }
   ],
   "source": [
    "1-norm.cdf(4)"
   ]
  },
  {
   "cell_type": "markdown",
   "metadata": {
    "hidden": true
   },
   "source": [
    "**パーセント・ポイント関数**"
   ]
  },
  {
   "cell_type": "code",
   "execution_count": 11,
   "metadata": {
    "hidden": true
   },
   "outputs": [],
   "source": [
    "p = np.linspace(0,1,100)\n",
    "y_ppf = norm.ppf(p)  # 標準正規分布"
   ]
  },
  {
   "cell_type": "code",
   "execution_count": 12,
   "metadata": {
    "hidden": true
   },
   "outputs": [
    {
     "data": {
      "image/png": "[encoded data removed]",
      "text/plain": [
       "<Figure size 432x288 with 1 Axes>"
      ]
     },
     "metadata": {
      "needs_background": "light"
     },
     "output_type": "display_data"
    }
   ],
   "source": [
    "plt.plot(p,y_ppf)\n",
    "plt.xlabel('P')\n",
    "plt.ylabel('x')\n",
    "plt.title('Percent Point Function')\n",
    "pass"
   ]
  },
  {
   "cell_type": "markdown",
   "metadata": {
    "hidden": true
   },
   "source": [
    "パーセント・ポイント関数を使い，累積分布関数の値が`P`である場合の`x`の値を計算できる。`P=0.5`の場合の`x`は？"
   ]
  },
  {
   "cell_type": "code",
   "execution_count": 13,
   "metadata": {
    "hidden": true
   },
   "outputs": [
    {
     "data": {
      "text/plain": [
       "0.0"
      ]
     },
     "execution_count": 13,
     "metadata": {},
     "output_type": "execute_result"
    }
   ],
   "source": [
    "norm.ppf(0.5)"
   ]
  },
  {
   "cell_type": "markdown",
   "metadata": {
    "hidden": true
   },
   "source": [
    "`P=0.025`の場合の`x`は？"
   ]
  },
  {
   "cell_type": "code",
   "execution_count": 14,
   "metadata": {
    "hidden": true
   },
   "outputs": [
    {
     "data": {
      "text/plain": [
       "-1.9599639845400545"
      ]
     },
     "execution_count": 14,
     "metadata": {},
     "output_type": "execute_result"
    }
   ],
   "source": [
    "norm.ppf(0.025)"
   ]
  },
  {
   "cell_type": "markdown",
   "metadata": {
    "hidden": true
   },
   "source": [
    "`P=0.975`の場合の`x`は？"
   ]
  },
  {
   "cell_type": "code",
   "execution_count": 15,
   "metadata": {
    "hidden": true
   },
   "outputs": [
    {
     "data": {
      "text/plain": [
       "1.959963984540054"
      ]
     },
     "execution_count": 15,
     "metadata": {},
     "output_type": "execute_result"
    }
   ],
   "source": [
    "norm.ppf(0.975)"
   ]
  },
  {
   "cell_type": "markdown",
   "metadata": {
    "hidden": true
   },
   "source": [
    "**ランダム変数生成関数**\n",
    "\n",
    "10000個のランダム変数を生成しよう。"
   ]
  },
  {
   "cell_type": "code",
   "execution_count": 16,
   "metadata": {
    "hidden": true
   },
   "outputs": [],
   "source": [
    "y_rvs = norm.rvs(size=10_000)  # 標準正規分布"
   ]
  },
  {
   "cell_type": "code",
   "execution_count": 17,
   "metadata": {
    "hidden": true
   },
   "outputs": [
    {
     "data": {
      "image/png": "[encoded data removed]",
      "text/plain": [
       "<Figure size 432x288 with 1 Axes>"
      ]
     },
     "metadata": {
      "needs_background": "light"
     },
     "output_type": "display_data"
    }
   ],
   "source": [
    "plt.hist(y_rvs, bins=30)  #  bins=表示する棒の数（デフォルトは10)\n",
    "pass"
   ]
  },
  {
   "cell_type": "markdown",
   "metadata": {
    "hidden": true
   },
   "source": [
    "`y_rvs`は標準正規分布から生成されたが，`y_rvs`がどの分布関数から生成されたか不明だったとしよう。更に，`y_rvs`から元の確率密度関数を推定したいとしよう。その際に使う手法をカーネル密度推定と呼ぶ。`SciPy`にはそのための関数`gaussian_kde`が用意されている。`gaussian`（ガウシアン）とは天才数学者ガウスの名前からきており「ガウス的な」と理解すれば良い。`kde`はKernel Density Estimate（カーネル密度推定）の頭文字をとっている。"
   ]
  },
  {
   "cell_type": "code",
   "execution_count": 18,
   "metadata": {
    "hidden": true
   },
   "outputs": [
    {
     "data": {
      "image/png": "[encoded data removed]",
      "text/plain": [
       "<Figure size 432x288 with 1 Axes>"
      ]
     },
     "metadata": {
      "needs_background": "light"
     },
     "output_type": "display_data"
    }
   ],
   "source": [
    "from scipy.stats import gaussian_kde  # サブパッケージを読み込む\n",
    "kde = gaussian_kde(y_rvs)  # y_rvsから確率密度関数を推定\n",
    "plt.plot(x, kde(x))        # 横軸のxに対してプロット\n",
    "pass"
   ]
  },
  {
   "cell_type": "markdown",
   "metadata": {
    "hidden": true
   },
   "source": [
    "推定なので標準正規分布の確率密度関数と全く同じにはならないが，非常に近い。上の図と重ねると。"
   ]
  },
  {
   "cell_type": "code",
   "execution_count": 19,
   "metadata": {
    "hidden": true
   },
   "outputs": [
    {
     "data": {
      "image/png": "[encoded data removed]",
      "text/plain": [
       "<Figure size 432x288 with 1 Axes>"
      ]
     },
     "metadata": {
      "needs_background": "light"
     },
     "output_type": "display_data"
    }
   ],
   "source": [
    "plt.hist(y_rvs, bins=30, density=True)\n",
    "plt.plot(x, kde(x))\n",
    "pass"
   ]
  },
  {
   "cell_type": "markdown",
   "metadata": {
    "hidden": true
   },
   "source": [
    "`plt.hist()`にある`density=True`は縦軸を％表示にする引数である。これにより`plt.hist`のヒストグラムと`plt.plot()`のカーネル密度関数が同じスケールで表示されることになる。"
   ]
  },
  {
   "cell_type": "markdown",
   "metadata": {
    "heading_collapsed": true
   },
   "source": [
    "## その他の分布関数"
   ]
  },
  {
   "cell_type": "markdown",
   "metadata": {
    "heading_collapsed": true,
    "hidden": true
   },
   "source": [
    "### $t$分布"
   ]
  },
  {
   "cell_type": "markdown",
   "metadata": {
    "hidden": true
   },
   "source": [
    "$t$分布のモジュール名は`t`。\n",
    "```\n",
    "t.pdf(x, df)\n",
    "t.cdf(x, df)\n",
    "t.ppf(a, df)\n",
    "t.rvs(df, size=1)\n",
    "```\n",
    "* `dfn`：自由度（degree of freedom）\n",
    "\n",
    "`scipy.stats`の`t`を読み込み確率密度関数の図を表示する。"
   ]
  },
  {
   "cell_type": "code",
   "execution_count": 20,
   "metadata": {
    "hidden": true
   },
   "outputs": [
    {
     "data": {
      "image/png": "[encoded data removed]",
      "text/plain": [
       "<Figure size 432x288 with 1 Axes>"
      ]
     },
     "metadata": {
      "needs_background": "light"
     },
     "output_type": "display_data"
    }
   ],
   "source": [
    "from scipy.stats import t\n",
    "x = np.linspace(-4,4,100)\n",
    "y = t.pdf(x, df=1)\n",
    "plt.plot(x,y)\n",
    "pass"
   ]
  },
  {
   "cell_type": "markdown",
   "metadata": {
    "hidden": true
   },
   "source": [
    "`df=1`の場合に`x`の値が`-3`以下の確率は何か？"
   ]
  },
  {
   "cell_type": "code",
   "execution_count": 21,
   "metadata": {
    "hidden": true
   },
   "outputs": [
    {
     "data": {
      "text/plain": [
       "0.10241638234956672"
      ]
     },
     "execution_count": 21,
     "metadata": {},
     "output_type": "execute_result"
    }
   ],
   "source": [
    "t.cdf(-3, df=1)"
   ]
  },
  {
   "cell_type": "markdown",
   "metadata": {
    "hidden": true
   },
   "source": [
    "`df=1`の場合に`x`の値が`3`以上の確率は何か？"
   ]
  },
  {
   "cell_type": "code",
   "execution_count": 22,
   "metadata": {
    "hidden": true
   },
   "outputs": [
    {
     "data": {
      "text/plain": [
       "0.10241638234956674"
      ]
     },
     "execution_count": 22,
     "metadata": {},
     "output_type": "execute_result"
    }
   ],
   "source": [
    "1-t.cdf(3, df=1)"
   ]
  },
  {
   "cell_type": "markdown",
   "metadata": {
    "heading_collapsed": true,
    "hidden": true
   },
   "source": [
    "### $\\chi^2$分布"
   ]
  },
  {
   "cell_type": "markdown",
   "metadata": {
    "hidden": true
   },
   "source": [
    "$\\chi^2$分布のモジュール名は`chi2`。\n",
    "```\n",
    "chi2.pdf(x, df)\n",
    "chi2.cdf(x, df)\n",
    "chi2.ppf(a, df)\n",
    "chi2.rvs(df, size=1)\n",
    "```\n",
    "* `df`：自由度（degree of freedom）\n",
    "\n",
    "`scipy.stats`の`chi2`を読み込み確率密度関数の図を表示する。"
   ]
  },
  {
   "cell_type": "code",
   "execution_count": 23,
   "metadata": {
    "hidden": true
   },
   "outputs": [
    {
     "data": {
      "image/png": "[encoded data removed]",
      "text/plain": [
       "<Figure size 432x288 with 1 Axes>"
      ]
     },
     "metadata": {
      "needs_background": "light"
     },
     "output_type": "display_data"
    }
   ],
   "source": [
    "from scipy.stats import chi2\n",
    "x = np.linspace(0,12,100)\n",
    "y = chi2.pdf(x, df=3)\n",
    "plt.plot(x,y)\n",
    "pass"
   ]
  },
  {
   "cell_type": "markdown",
   "metadata": {
    "hidden": true
   },
   "source": [
    "`df=3`の場合に`x`の値が`1`以下の確率は何か？"
   ]
  },
  {
   "cell_type": "code",
   "execution_count": 24,
   "metadata": {
    "hidden": true
   },
   "outputs": [
    {
     "data": {
      "text/plain": [
       "0.19874804309879915"
      ]
     },
     "execution_count": 24,
     "metadata": {},
     "output_type": "execute_result"
    }
   ],
   "source": [
    "chi2.cdf(1, df=3)"
   ]
  },
  {
   "cell_type": "markdown",
   "metadata": {
    "hidden": true
   },
   "source": [
    "`df=3`の場合に`x`の値が`10`以上の確率は何か？"
   ]
  },
  {
   "cell_type": "code",
   "execution_count": 25,
   "metadata": {
    "hidden": true
   },
   "outputs": [
    {
     "data": {
      "text/plain": [
       "0.0185661354630432"
      ]
     },
     "execution_count": 25,
     "metadata": {},
     "output_type": "execute_result"
    }
   ],
   "source": [
    "1-chi2.cdf(10, df=3)"
   ]
  },
  {
   "cell_type": "markdown",
   "metadata": {
    "heading_collapsed": true,
    "hidden": true
   },
   "source": [
    "### $F$分布"
   ]
  },
  {
   "cell_type": "markdown",
   "metadata": {
    "hidden": true
   },
   "source": [
    "$F$分布のモジュール名は`f`。\n",
    "```\n",
    "f.pdf(x, dfn, dfd)\n",
    "f.cdf(x, dfn, dfd)\n",
    "f.ppf(a, dfn, dfd)\n",
    "f.rvs(dfn, dfd, size=1)\n",
    "```\n",
    "* `dfn`：分子の自由度（numerator degree of freedom）\n",
    "* `dfd`：分母自由度（denominator degree of freedom）\n",
    "\n",
    "`scipy.stats`の`f`を読み込み確率密度関数の図を表示する。"
   ]
  },
  {
   "cell_type": "code",
   "execution_count": 26,
   "metadata": {
    "hidden": true
   },
   "outputs": [
    {
     "data": {
      "image/png": "[encoded data removed]",
      "text/plain": [
       "<Figure size 432x288 with 1 Axes>"
      ]
     },
     "metadata": {
      "needs_background": "light"
     },
     "output_type": "display_data"
    }
   ],
   "source": [
    "from scipy.stats import f\n",
    "x = np.linspace(0.001,5,1000)\n",
    "y = f.pdf(x, dfn=5, dfd=1)\n",
    "plt.plot(x,y)\n",
    "pass"
   ]
  },
  {
   "cell_type": "markdown",
   "metadata": {
    "hidden": true
   },
   "source": [
    "`dfn=5`, `dfd=1`の場合に`x`の値が`0.1`以下の確率は何か？"
   ]
  },
  {
   "cell_type": "code",
   "execution_count": 27,
   "metadata": {
    "hidden": true
   },
   "outputs": [
    {
     "data": {
      "text/plain": [
       "0.02503101581845294"
      ]
     },
     "execution_count": 27,
     "metadata": {},
     "output_type": "execute_result"
    }
   ],
   "source": [
    "f.cdf(0.1, dfn=5, dfd=1)"
   ]
  },
  {
   "cell_type": "markdown",
   "metadata": {
    "hidden": true
   },
   "source": [
    "`dfn=5`, `dfd=1`の場合に`x`の値が`5`以上の確率は何か？"
   ]
  },
  {
   "cell_type": "code",
   "execution_count": 28,
   "metadata": {
    "hidden": true
   },
   "outputs": [
    {
     "data": {
      "text/plain": [
       "0.32657156446244606"
      ]
     },
     "execution_count": 28,
     "metadata": {},
     "output_type": "execute_result"
    }
   ],
   "source": [
    "1-f.cdf(5, dfn=5, dfd=1)"
   ]
  },
  {
   "cell_type": "markdown",
   "metadata": {
    "heading_collapsed": true,
    "hidden": true
   },
   "source": [
    "### 一様分布 (Uniform Distribution)"
   ]
  },
  {
   "cell_type": "markdown",
   "metadata": {
    "hidden": true
   },
   "source": [
    "一様分布のモジュール名は`uniform`。\n",
    "```\n",
    "uniform.pdf(x, loc=0, scale=1)\n",
    "uniform.cdf(x, loc=0, scale=1)\n",
    "uniform.ppf(a, loc=0, scale=1)\n",
    "uniform.rvs(loc=0, scale=1, size=1)\n",
    "```\n",
    "* `loc`：`x`の最小値\n",
    "* `scale`：`x`の幅\n",
    "    * `x`の最大値：`loc+scale`\n",
    "* `m`だけ「右」に平行移動させる場合は\n",
    "```\n",
    "loc=m   # scaleは省略\n",
    "```\n",
    "\n",
    "`scipy.stats`の`uniform`を読み込み確率密度関数の図を表示する。"
   ]
  },
  {
   "cell_type": "code",
   "execution_count": 29,
   "metadata": {
    "hidden": true
   },
   "outputs": [
    {
     "data": {
      "image/png": "[encoded data removed]",
      "text/plain": [
       "<Figure size 432x288 with 1 Axes>"
      ]
     },
     "metadata": {
      "needs_background": "light"
     },
     "output_type": "display_data"
    }
   ],
   "source": [
    "from scipy.stats import uniform\n",
    "x = np.linspace(0,12,100)\n",
    "y = uniform.pdf(x, loc=1, scale=9)\n",
    "plt.plot(x,y)\n",
    "pass"
   ]
  },
  {
   "cell_type": "markdown",
   "metadata": {
    "heading_collapsed": true,
    "hidden": true
   },
   "source": [
    "### ロジスティク分布（Logistic Distribution）"
   ]
  },
  {
   "cell_type": "markdown",
   "metadata": {
    "hidden": true
   },
   "source": [
    "ロジスティック分布のモジュール名は`logistic`。\n",
    "```\n",
    "logistic.pdf(x, loc=0, scale=1)\n",
    "logistic.cdf(x, loc=0, scale=1)\n",
    "logistic.ppf(a, loc=0, scale=1)\n",
    "logistic.rvs(loc=0, scale=1, size=1)\n",
    "```\n",
    "* `loc`：平均値\n",
    "* `scale`：分散に影響する値\n",
    "```\n",
    "logistic.pdf(x,loc,scale) = logistic.pdf(z), z=(x-loc)/scale\n",
    "```\n",
    "\n",
    "`scipy.stats`の`logistic`を読み込み確率密度関数の図を表示する。"
   ]
  },
  {
   "cell_type": "code",
   "execution_count": 30,
   "metadata": {
    "hidden": true
   },
   "outputs": [
    {
     "data": {
      "image/png": "[encoded data removed]",
      "text/plain": [
       "<Figure size 432x288 with 1 Axes>"
      ]
     },
     "metadata": {
      "needs_background": "light"
     },
     "output_type": "display_data"
    }
   ],
   "source": [
    "from scipy.stats import logistic\n",
    "x = np.linspace(-5,5,100)\n",
    "y = logistic.pdf(x)\n",
    "plt.plot(x,y)\n",
    "pass"
   ]
  }
 ],
 "metadata": {
  "kernelspec": {
   "display_name": "jb",
   "language": "python",
   "name": "jb"
  },
  "language_info": {
   "codemirror_mode": {
    "name": "ipython",
    "version": 3
   },
   "file_extension": ".py",
   "mimetype": "text/x-python",
   "name": "python",
   "nbconvert_exporter": "python",
   "pygments_lexer": "ipython3",
   "version": "3.8.5"
  },
  "toc": {
   "base_numbering": 1,
   "nav_menu": {},
   "number_sections": true,
   "sideBar": true,
   "skip_h1_title": false,
   "title_cell": "Table of Contents",
   "title_sidebar": "Contents",
   "toc_cell": false,
   "toc_position": {},
   "toc_section_display": true,
   "toc_window_display": false
  }
 },
 "nbformat": 4,
 "nbformat_minor": 2
}
