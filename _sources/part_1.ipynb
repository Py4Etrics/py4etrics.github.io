{
 "cells": [
  {
   "cell_type": "markdown",
   "metadata": {},
   "source": [
    "# １. `Python`の基礎\n",
    "**内容**\n",
    "1. {doc}`0_Preparations`\n",
    "   - `Python`や`Git`など使用するアプリのインストール及び使い方を簡単に説明する。\n",
    "1. {doc}`1_Python_Basics`\n",
    "   - 基本となる概念や文法などについて解説する。\n",
    "1. {doc}`2_NumPy`\n",
    "   - 数値計算には欠かせないパッケージ。\n",
    "1. {doc}`3_Pandas`\n",
    "   - データ分析で多用するパッケージ。\n",
    "1. {doc}`4_Matplotlib`\n",
    "   - データを様々な形で図示できるパッケージ。\n",
    "1. {doc}`5_SciPy_stats`\n",
    "   - `scipy`は科学技術計算には必須なパッケージであり、そのサブパッケージである`stats`の使い方を説明する。\n",
    "1. {doc}`6_things_to_note`\n",
    "   - コードを書く上で役に立つ点をまとめる。\n",
    "\n",
    "```{toctree}\n",
    ":hidden:\n",
    ":titlesonly:\n",
    "\n",
    "\n",
    "0_Preparations\n",
    "1_Python_Basics\n",
    "2_NumPy\n",
    "3_Pandas\n",
    "4_Matplotlib\n",
    "5_SciPy_stats\n",
    "6_things_to_note\n",
    "```"
   ]
  }
 ],
 "metadata": {
  "jupytext": {
   "text_representation": {
    "extension": ".md",
    "format_name": "myst"
   }
  },
  "kernelspec": {
   "display_name": "Python 3",
   "language": "python",
   "name": "python3"
  },
  "language_info": {
   "codemirror_mode": {
    "name": "ipython",
    "version": 3
   },
   "file_extension": ".py",
   "mimetype": "text/x-python",
   "name": "python",
   "nbconvert_exporter": "python",
   "pygments_lexer": "ipython3",
   "version": "3.8.2"
  },
  "source_map": [
   10
  ]
 },
 "nbformat": 4,
 "nbformat_minor": 4
}