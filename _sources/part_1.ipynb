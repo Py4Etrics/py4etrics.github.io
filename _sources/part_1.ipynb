{
 "cells": [
  {
   "cell_type": "markdown",
   "id": "3c0ca72c",
   "metadata": {},
   "source": [
    "<!--# `Python`の学習目次-->\n",
    "# 目次と内容\n",
    "\n",
    "<div name=\"html-admonition\" style=\"font-size: 0.8em\">\n",
    "<input type=\"button\" onclick=\"location.href='https://translate.google.com/translate?hl=&sl=ja&tl=en&u='+window.location;\" value=\"Google translation\" style=\"color:#ffffff;background-color:#008080; height:25px\" onmouseover=\"this.style.background='#99ccff'\" onmouseout=\"this.style.background='#008080'\"/> in English or the language of your choice.\n",
    "</div><br>\n",
    "\n",
    "1. {doc}`1_Python_Basics`\n",
    "   - 基本となる概念や文法などについて解説する。\n",
    "1. {doc}`2_NumPy`\n",
    "   - 数値計算やシミュレーションには欠かせないパッケージであり，その使い方について説明する。\n",
    "1. {doc}`3_Pandas`\n",
    "   - データ分析で多用するパッケージであり，その使い方について説明する。\n",
    "1. {doc}`4_Matplotlib`\n",
    "   - データを様々な形で図示できるパッケージであり，その使い方について説明する。\n",
    "1. {doc}`5_SciPy_stats`\n",
    "   - `scipy`は科学技術計算には必須なパッケージであり、そのサブパッケージである`stats`の使い方を説明する。\n",
    "1. {doc}`6_things_to_note`\n",
    "   - コードを書く上で役に立つ点をまとめる。"
   ]
  }
 ],
 "metadata": {
  "jupytext": {
   "text_representation": {
    "extension": ".md",
    "format_name": "myst"
   }
  },
  "kernelspec": {
   "display_name": "Python 3",
   "language": "python",
   "name": "python3"
  },
  "source_map": [
   10
  ]
 },
 "nbformat": 4,
 "nbformat_minor": 5
}