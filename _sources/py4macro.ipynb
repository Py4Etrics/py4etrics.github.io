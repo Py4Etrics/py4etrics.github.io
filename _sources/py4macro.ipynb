{
 "cells": [
  {
   "cell_type": "markdown",
   "id": "orange-encyclopedia",
   "metadata": {},
   "source": [
    "# Pythonで学ぶマクロ経済学 (中級＋レベル)\n",
    "\n",
    "[Pythonで学ぶマクロ経済学 (中級＋レベル)](https://py4macro.github.io/)\n",
    "\n",
    "第１部：Pythonの学習\n",
    "\n",
    "[　　Pythonの基礎](https://py4macro.github.io/1_Python_Basics.html)\n",
    "\n",
    "[　　NumPy](https://py4macro.github.io/2_NumPy.html)\n",
    "\n",
    "[　　Pandas](https://py4macro.github.io/3_Pandas.html)\n",
    "\n",
    "[　　Matplotlib](https://py4macro.github.io/4_Matplotlib.html)\n",
    "\n",
    "第２部：マクロ経済学 - 長期分析\n",
    "\n",
    "[　　発展会計と成長会計](https://py4macro.github.io/5_Income_Differences.html)\n",
    "\n",
    "[　　回帰分析](https://py4macro.github.io/6_Regression.html)\n",
    "\n",
    "[　　差分方程式と経済分析](https://py4macro.github.io/7_DifferenceEq.html)\n",
    "\n",
    "[　　ソロー・モデル](https://py4macro.github.io/8_Solow.html)\n",
    "\n",
    "[　　所得分布と所得収斂](https://py4macro.github.io/9_Convergence.html)\n",
    "\n",
    "第３部：マクロ経済学 - 短期分析\n",
    "\n",
    "[　　GDPと構成要素](https://py4macro.github.io/10_Data_Fluctuation.html)\n",
    "\n",
    "[　　法則・曲線・増加率](https://py4macro.github.io/11_Macro_Variables.html)\n",
    "\n",
    "[　　IS-MP-PCモデル](https://py4macro.github.io/12_IS-MP-PC.html)\n",
    "\n",
    "[　　ランダム変数と全要素生産性](https://py4macro.github.io/13_NumPy_random.html)\n",
    "\n",
    "[　　今後の計画](https://py4macro.github.io/Plan.html)\n",
    "\n",
    "第４部：参考\n",
    "\n",
    "[　　Pandas：プロット](https://py4macro.github.io/Pandas_plot.html)\n",
    "\n",
    "[　　解の求め方と最適化問題](https://py4macro.github.io/ScipyOptimize.html)\n",
    "\n",
    "[　　Tipsと注意点](https://py4macro.github.io/things_to_note.html)\n",
    "\n",
    "[　　成績分析](https://py4macro.github.io/Grade.html)"
   ]
  }
 ],
 "metadata": {
  "jupytext": {
   "text_representation": {
    "extension": ".md",
    "format_name": "myst"
   }
  },
  "kernelspec": {
   "display_name": "Python 3",
   "language": "python",
   "name": "python3"
  },
  "language_info": {
   "codemirror_mode": {
    "name": "ipython",
    "version": 3
   },
   "file_extension": ".py",
   "mimetype": "text/x-python",
   "name": "python",
   "nbconvert_exporter": "python",
   "pygments_lexer": "ipython3",
   "version": "3.8.5"
  },
  "source_map": [
   10
  ]
 },
 "nbformat": 4,
 "nbformat_minor": 5
}