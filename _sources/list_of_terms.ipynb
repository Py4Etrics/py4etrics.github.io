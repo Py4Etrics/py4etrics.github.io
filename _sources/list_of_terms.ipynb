{
 "cells": [
  {
   "cell_type": "markdown",
   "id": "e9a0b5e3",
   "metadata": {},
   "source": [
    "# 計量経済学用語\n",
    "\n",
    "If you come here without expecting Japanese, please click [Google translated version](https://translate.google.com/translate?hl=&sl=ja&tl=en&u=https%3A%2F%2Fpy4etrics.github.io%2F7_Review_of_Statistics.html) in English or the language of your choice.\n",
    "\n",
    "---\n",
    "\n",
    "* 横断面データ（cross-sectional data）\n",
    "    * ある時点において複数の対象を観察し収集したデータ（例えば，2018年の47都道府県の県内総生産）\n",
    "* 時系列データ（time-series data）\n",
    "    * ある項目について時間に沿って集めたデータ（例えば，1950~2018年の兵庫県の県内総生産の年次データ）\n",
    "* パネル・データ（panel ata）\n",
    "    * 横断面データと時系列データの両方の特徴を兼ね備えたデータ。（例えば，1990~2018年の47都道府県の県内総生産データ）\n",
    "* 観測値 ＝ observations (observed values)\n",
    "    * データの値（例えば，価格や人数）\n",
    "    * a value of individual data\n",
    "* 標本（サンプル）＝ sample \n",
    "    * 観測値で構成されるデータまたはデータ・セット\n",
    "    * a set of data\n",
    "* 標本の大きさ ＝ sample size ＝ サンプル・サイズ\n",
    "    * 母集団から$n$個の観測値を収集したとすると，$n$＝「標本の大きさ」\n",
    "* 標本数 ＝ number of samples\n",
    "    * 母集団から$n$個の観測値の標本を$N$組収集したとすると，$N$＝「標本数」\n",
    "    * $N$の標本数がある場合，個々の標本の大きさを$n_i$, $i=1,2,3,...N$と書くこともできる。\n",
    "* 統計量 ＝ statistics\n",
    "    * ２つの意味で使われる\n",
    "        1. 単純に標本データの特徴を要約するために使われる**関数**。平均の式が一例であり、データが「入力」であり、その平均が「出力」。標本によって異なるため確率変数（random variables）\n",
    "        1. 上の関数を使い計算した数値\n",
    "* 推定 ＝ estimation\n",
    "    * 母集団の未知のパラメータを計算し推知すること\n",
    "* 推定量 ＝ estimators\n",
    "    * **母集団のパラメータ**（母数）を推定するために用いる関数としての統計量（例えば，回帰直線の係数の式）\n",
    "        * 母集団のパラメータという真の値と比較してバイアスを考えることができるのが推定量であるが、統計量はそうではない\n",
    "    * 標本によって異なるため確率変数（random variables）\n",
    "* 推定値 ＝ estimates\n",
    "    * 母集団のパラメータを推知するために推定量を使い実際に計算して得た数値（例えば，回帰の定数項）\n",
    "    * 確率変数の実現値\n",
    "* 母集団回帰式 ＝ Population Regression Equation (PRE)\n",
    "    * 母集団の値を生成する回帰式（観測不可能）\n",
    "    \n",
    "        $$y = \\beta_0 + \\beta_1 x + u$$\n",
    "    \n",
    "* データ生成過程（Data Generating Process; DGP）\n",
    "    * データが生成される仕組み\n",
    "    * 母集団回帰式と同義\n",
    "* 誤差項（攪乱項）＝ (random) errors\n",
    "    * 母集団回帰式にある観測できないランダム変数（PREの$u$）\n",
    "* モデル = models\n",
    "    * 母集団のパラメータを推定するために使う回帰式\n",
    "    * 最小二乗法推定法は推定方法でありモデルではないので注意しよう（「OLSモデル」は存在しない）。\n",
    "* 残差 ＝ residuals\n",
    "    * 回帰式の被説明変数の観測値と予測値の差（次式の$\\hat{u}$）\n",
    "    \n",
    "        $$ \\hat{u}_i=y_i-\\hat{\\beta}_0-\\hat{\\beta}_1x_i$$\n",
    "    \n",
    "    * $\\hat{\\beta}_0$, $\\hat{\\beta}_0$はデータを使って計算した推定量\n",
    "    * $i=1,2,...n$（$n$は標本の大きさ）"
   ]
  }
 ],
 "metadata": {
  "jupytext": {
   "text_representation": {
    "extension": ".md",
    "format_name": "myst"
   }
  },
  "kernelspec": {
   "display_name": "Python 3",
   "language": "python",
   "name": "python3"
  },
  "language_info": {
   "codemirror_mode": {
    "name": "ipython",
    "version": 3
   },
   "file_extension": ".py",
   "mimetype": "text/x-python",
   "name": "python",
   "nbconvert_exporter": "python",
   "pygments_lexer": "ipython3",
   "version": "3.8.10"
  },
  "source_map": [
   10
  ]
 },
 "nbformat": 4,
 "nbformat_minor": 5
}