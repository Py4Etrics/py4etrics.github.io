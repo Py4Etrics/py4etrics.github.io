{
 "cells": [
  {
   "cell_type": "markdown",
   "id": "bc3726b7",
   "metadata": {},
   "source": [
    "# Data\n",
    "## 日本\n",
    "* [Data Go.jp](https://www.data.go.jp)\n",
    "* [e-Stat](https://www.e-stat.go.jp)\n",
    "* [地域経済分析システム](https://resas.go.jp)\n",
    "\n",
    "## 外国\n",
    "* [米国政府オープン・データ](https://www.data.gov)\n",
    "* [Kaggle](https://www.kaggle.com)\n",
    "* [IMF](https://data.imf.org/)\n",
    "* [IMF:World Economic Outlook](https://www.imf.org/external/pubs/ft/weo/2020/01/weodata/index.aspx)\n",
    "* [World Bank](https://databank.worldbank.org/home.aspx)\n",
    "* [World Development Indicators](https://databank.worldbank.org/source/world-development-indicators)\n",
    "* [Penn World Table](https://www.rug.nl/ggdc/productivity/pwt/)\n",
    "* [Maddison Data](https://www.rug.nl/ggdc/historicaldevelopment/maddison/)"
   ]
  }
 ],
 "metadata": {
  "jupytext": {
   "text_representation": {
    "extension": ".md",
    "format_name": "myst"
   }
  },
  "kernelspec": {
   "display_name": "Python 3",
   "language": "python",
   "name": "python3"
  },
  "source_map": [
   10
  ]
 },
 "nbformat": 4,
 "nbformat_minor": 5
}