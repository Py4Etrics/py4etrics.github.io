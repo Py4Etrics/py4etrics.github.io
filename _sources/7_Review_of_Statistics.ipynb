{
 "cells": [
  {
   "cell_type": "markdown",
   "metadata": {},
   "source": [
    "# 統計学の簡単な復習"
   ]
  },
  {
   "cell_type": "markdown",
   "metadata": {
    "heading_collapsed": true
   },
   "source": [
    "## 確率変数"
   ]
  },
  {
   "cell_type": "markdown",
   "metadata": {
    "hidden": true
   },
   "source": [
    "**定義**\n",
    "\n",
    "確率変数（random variables）とは，無作為のプロセスの結果として実数をとる変数であり，実現し観察されるまで値が未知の変数である。実現した値を実現値もしくは観察値と呼ぶ。次の記号を使って例を考える。\n",
    "* $X$：確率変数自体を示す記号\n",
    "* $x$：実現値\n",
    "\n",
    "例１（離散型確率変数）\n",
    "* サイコロの目：$X$\n",
    "* 実現可能な値の集合：$x\\in\\{1, 2, 3, 4, 5, 6\\}$\n",
    "* 実現値：$x=3$\n",
    "\n",
    "例２（連続型確率変数）\n",
    "* ランダムに選んだ経済学部の学生の身長：$X$\n",
    "* 実現可能な値の集合：$\\{x\\;|\\;0< x<\\infty\\}$\n",
    "* 実現値：175.920483.....cm"
   ]
  },
  {
   "cell_type": "markdown",
   "metadata": {
    "hidden": true
   },
   "source": [
    "---\n",
    "**確率変数のある値が発生する確率**\n",
    "* 例１：サイコロ\n",
    "    * $X=3$の確率は確率質量関数 $f(3)=1/6$で表される。\n",
    "    * 実現可能な値の確率の合計＝１，即ち $\\displaystyle\\sum_{x=1}^6f(x)=1$\n",
    "* 例２：ランダムに選んだ経済学部の学生の身長\n",
    "    * $X=175.92$の確率は確率密度関数 $f(175.92)=0.0204$で表される。\n",
    "    * 実現可能な値の確率の合計＝１，即ち $\\displaystyle\\int_0^{\\infty}f(x)dx=1$"
   ]
  },
  {
   "cell_type": "markdown",
   "metadata": {
    "heading_collapsed": true
   },
   "source": [
    "## 確率変数の特徴を示す尺度"
   ]
  },
  {
   "cell_type": "markdown",
   "metadata": {
    "hidden": true
   },
   "source": [
    "（以下で使う記号）\n",
    "\n",
    "$X,Y$：確率変数\n",
    "\n",
    "$x,y$：確率変数の実現値"
   ]
  },
  {
   "cell_type": "markdown",
   "metadata": {
    "hidden": true
   },
   "source": [
    "---\n",
    "**期待値（expected value）＝ 平均（average or mean）**\n",
    "\n",
    "$\\text{E}(X)=\\mu_X$\n",
    "\n",
    "（性質）\n",
    "* $\\text{E}(X)\\gtreqqless 0$\n",
    "* $\\text{E}(aX)=a\\text{E}(X)$\n",
    "* $\\text{E}(X+Y)=\\text{E}(X)+\\text{E}(Y)$\n",
    "* $\\text{E}(XY)=\\text{E}(X)\\cdot\\text{E}(Y)+\\text{Cov}(X,Y)$\n",
    "* $X$の単位に依存"
   ]
  },
  {
   "cell_type": "markdown",
   "metadata": {
    "hidden": true
   },
   "source": [
    "---\n",
    "**分散（variance）**\n",
    "\n",
    "$\\sigma_X^2\\equiv\\text{Var}(X)\\equiv\\text{E}\\left[(X-\\mu_X)^2\\right]=\\text{E}\\left[X^2\\right]-\\mu_X^2$\n",
    "\n",
    "（性質）\n",
    "* $\\text{Var}(X)\\geq 0$\n",
    "* $\\text{Var}(X+a)=\\text{Var}(X)$\n",
    "* $\\text{Var}(aX)=a^2\\text{Var}(X)$\n",
    "* $\\text{Var}(aX+bY)=a^2\\text{Var}(X)+b^2\\text{Var}(Y)+2ab\\cdot\\text{Cov}(X,Y)$\n",
    "* $\\text{Var}(aX-bY)=a^2\\text{Var}(X)+b^2\\text{Var}(Y)-2ab\\cdot\\text{Cov}(X,Y)$\n",
    "* $X$の単位に依存"
   ]
  },
  {
   "cell_type": "markdown",
   "metadata": {
    "hidden": true
   },
   "source": [
    "---\n",
    "**標準偏差（standard deviation）**\n",
    "\n",
    "$\\sigma_X\\equiv\\sqrt{\\text{Var}(X)}$\n",
    "\n",
    "（性質）\n",
    "* $X$の単位に依存"
   ]
  },
  {
   "cell_type": "markdown",
   "metadata": {
    "hidden": true
   },
   "source": [
    "---\n",
    "**共分散（covariance）**\n",
    "\n",
    "$\\sigma_{XY}\\equiv\\text{Cov}(X,Y)=\\text{E}\\left[(X-\\mu_X)(Y-\\mu_Y)\\right]$\n",
    "\n",
    "（性質）\n",
    "* $\\text{Cov}(X,Y)\\lesseqqgtr 0$\n",
    "* $\\text{Cov}(X,X)=\\text{Var}(X)$\n",
    "* $X$と$Y$の単位に依存"
   ]
  },
  {
   "cell_type": "markdown",
   "metadata": {
    "hidden": true
   },
   "source": [
    "---\n",
    "**相関係数（correlation coefficient）**\n",
    "\n",
    "$\\rho_{XY}\\equiv\\text{Corr}(X,Y)=\\dfrac{\\sigma_{XY}}{\\sigma_X\\cdot\\sigma_Y}\n",
    "=\\dfrac{\\text{Cov}(X,Y)}{\\sqrt{\\text{Var}(X)\\cdot\\text{Var}(Y)}}$\n",
    "\n",
    "（性質）\n",
    "* $-1\\leq\\rho_{XY}\\leq 1$\n",
    "* $X$と$Y$の単位に依存しない"
   ]
  },
  {
   "cell_type": "markdown",
   "metadata": {
    "heading_collapsed": true
   },
   "source": [
    "## 正規分布（Normal Distribution）"
   ]
  },
  {
   "cell_type": "markdown",
   "metadata": {
    "hidden": true
   },
   "source": [
    "別名：ガウス分布（Gausian Distribution）"
   ]
  },
  {
   "cell_type": "markdown",
   "metadata": {
    "heading_collapsed": true,
    "hidden": true
   },
   "source": [
    "### 確率密度関数と累積分布関数"
   ]
  },
  {
   "cell_type": "markdown",
   "metadata": {
    "hidden": true
   },
   "source": [
    "**確率密度関数**\n",
    "\n",
    "$$\n",
    "\\phi(x)=\\dfrac{1}{\\sqrt{2\\pi\\sigma_X}}e^{-\\frac{1}{2}\\left(\\frac{x-\\mu_X}{\\sigma_X}\\right)^2}\n",
    "$$\n",
    "\n",
    "* ２つのパラメータ：平均（$\\mu_X$）と分散（$\\sigma_X^2$）\n",
    "* 左右対称\n",
    "* 「$X$は平均$\\mu_X$，分散$\\sigma_X^2$の正規分布に従う」を記号で表現\n",
    "\n",
    "$$X\\sim N\\left(\\mu_X,\\sigma_X^2\\right)$$\n",
    "\n",
    "**確率分布関数**\n",
    "\n",
    "$$F(x)=\\int_{-\\infty}^x\\phi(s)ds$$"
   ]
  },
  {
   "cell_type": "markdown",
   "metadata": {
    "heading_collapsed": true,
    "hidden": true
   },
   "source": [
    "### 標準正規分布"
   ]
  },
  {
   "cell_type": "markdown",
   "metadata": {
    "hidden": true
   },
   "source": [
    "正規分布の変数$X$を次式\n",
    "\n",
    "$$\n",
    "Z=\\dfrac{X-\\mu_X}{\\sigma_X}\n",
    "$$\n",
    "\n",
    "で変換すると，$Z$の分布は標準正規分布に従う。\n",
    "\n",
    "$$Z\\sim N(0,1)$$"
   ]
  },
  {
   "cell_type": "markdown",
   "metadata": {
    "hidden": true
   },
   "source": [
    "### 多変量正規分布"
   ]
  },
  {
   "cell_type": "markdown",
   "metadata": {
    "hidden": true
   },
   "source": [
    "* ２つの確率変数$X_1$と$X_2$を考えよう。\n",
    "\n",
    "    $$\n",
    "    X_1\\sim N\\left(\\mu_1,\\sigma_1^2\\right),\\qquad\\qquad\n",
    "    X_2\\sim N\\left(\\mu_2,\\sigma_2^2\\right)\n",
    "    $$\n",
    "    \n",
    "    * この表記からは２つの確率変数に何らかの関係性が存在するかどうか不明であるが，通常この場合，$X_1$と$X_2$は「独立」と受け取られる。\n",
    "    \n",
    "* この２つの変数に「何らかの関係性」を明確にするために，次のようにまとめて書く：\n",
    "\n",
    "    $$\n",
    "    \\begin{bmatrix}\n",
    "        X_1\\\\X_2\n",
    "    \\end{bmatrix}\n",
    "    \\sim\n",
    "    N\\left(\n",
    "    \\begin{bmatrix}\n",
    "        \\mu_1\\\\ \\mu_2\n",
    "    \\end{bmatrix}\n",
    "    ,\n",
    "    \\begin{bmatrix}\n",
    "        \\sigma_1^2,&\\sigma_{12}\\\\\n",
    "        \\sigma_{21},& \\sigma_2^2    \n",
    "    \\end{bmatrix}\n",
    "    \\right)\n",
    "    $$\n",
    "\n",
    "    もしくは\n",
    "\n",
    "    $$\n",
    "    X\\sim N\\left(\\mu_X,\\Sigma_X\\right)\n",
    "    $$\n",
    "\n",
    "    * $X$：確率変数のベクトル $\\left(X_1,X_2\\right)^T$（$T$は「置換する」という意味で，列ベクトルにしている）\n",
    "    * $\\mu_X$：平均のベクトル $\\left(\\mu_1,\\mu_2\\right)^T$\n",
    "    * $\\Sigma_X$：分散共分散行列\n",
    "    \n",
    "        $$\n",
    "        \\Sigma_X=\n",
    "        \\begin{pmatrix}\n",
    "            \\sigma_1^2,&\\sigma_{12}\\\\\n",
    "            \\sigma_{21},& \\sigma_2^2\n",
    "        \\end{pmatrix}\n",
    "        $$\n",
    "        \n",
    "         * $\\sigma_{12}=\\sigma_{21}$は$X_1$と$X_2$の共分散\n",
    "         * 上で「何らかの関連性」と書いたが，それを$\\sigma_{12}$が捉えている。\n",
    "\n",
    "（共分散の解釈）\n",
    "* $\\sigma_{12}=0$：$X_1$と$X_2$は独立であり何の関係もない。即ち，\n",
    "    $X_1\\sim N\\left(\\mu_1,\\sigma_1^2\\right),\\;X_2\\sim N\\left(\\mu_2,\\sigma_2^2\\right)$\n",
    "  と別々に書いて何の問題もない。\n",
    "* $\\sigma_{12}>0$：$X_1$と$X_2$は「同じ方向」の値が抽出される傾向にある。例えば，両辺数ともプラスの値，もしくはマイナスの値。$\\sigma_{12}$が大きくなれば，その傾向はより強くなる。（注意：これは傾向であり，必ずそうはならない）\n",
    "* $\\sigma_{12}<0$：$X_1$と$X_2$は「逆方向」の値が抽出される傾向にある。例えば，$X_1$はプラスの値で$X_2$はマイナスの値，もしくはその反対。$\\sigma_{12}$の絶対値が大きくなれば，その傾向はより強くなる。（注意：これは傾向であり，必ずそうはならない）"
   ]
  },
  {
   "cell_type": "markdown",
   "metadata": {
    "heading_collapsed": true
   },
   "source": [
    "## 標本の特徴を示す数値的尺度"
   ]
  },
  {
   "cell_type": "markdown",
   "metadata": {
    "hidden": true
   },
   "source": [
    "母集団から標本を無作為に１つデータを抽出するとしよう。その場合，\n",
    "* 母集団 ＝ 実現可能な値の集合\n",
    "* 抽出するデータ ＝ 確率変数\n",
    "* 抽出後の値 ＝ 実現値\n",
    "\n",
    "この場合，標本の大きさは母集団より小さい（母集団の大きさが2以上と仮定）。"
   ]
  },
  {
   "cell_type": "markdown",
   "metadata": {
    "hidden": true
   },
   "source": [
    "上では１つのデータだけを抽出を考えたが，通常実証分析では複数のデータを扱い，データの種類によって母集団の大きさと標本の大きさを以下のように解釈することが可能である。\n",
    "\n",
    "* 時系列データ\n",
    "    * 時間は無限に続くため，無限の母集団からの標本抽出 $\\Rightarrow$ 標本の大きさは母集団より小さい。\n",
    "* 横断面データ\n",
    "    * 多くの場合，費用対効果から母集団から一部を標本を収集する $\\Rightarrow$ 標本の大きさは母集団より小さい。\n",
    "    * 母集団の大きさが小さい場合，標本の大きさは母集団の大きさと「等しい」ケースがある。\n",
    "        * 例えば，2018年神戸大学経済学部の中級マクロ経済学I定期試験の点数の場合，約300のデータ。\n",
    "        * この場合でも，標本の大きさは母集団より小さいと考えることができる。\n",
    "            * ある学生$i$さんの点数は確率変数と解釈できる。その場合，実現可能な値の集合（小数点は無視）は\n",
    "                $\\left\\{0,1,2,3,....,97,98,99,100\\right\\}$であり，点数の種類は101ある。この中なら１つの値だけが実現値として観察されている。更に，約300名の学生が試験を受けたので，母集団の大きさは約$101\\times 300=20200$となる。"
   ]
  },
  {
   "cell_type": "markdown",
   "metadata": {
    "hidden": true
   },
   "source": [
    "（「標本の大きさは母集団より小さい」の含意）\n",
    "* 母集団のパラメータを推定するための標本の統計量には必ず**誤差**が存在する。\n",
    "\n",
    "（コメント）\n",
    "\n",
    "標本のそれぞれの観測値が，同じ母集団から独立に（他の観測値との何の関連性もなく）抽出された場合，それらは\n",
    "**独立同一分布（idependently identically distributed;　略して IID）**に従うと呼ぶ。\n",
    "\n",
    "---\n",
    "（以下で使う記号）\n",
    "* 標本の大きさ：$n$\n",
    "* $i$番目の確率変数：$X_i$"
   ]
  },
  {
   "cell_type": "markdown",
   "metadata": {
    "hidden": true
   },
   "source": [
    "---\n",
    "**標本平均（sample mean）**\n",
    "* 確率変数の標本平均：$\\bar{X}=\\dfrac{1}{n}\\displaystyle\\sum_{i=1}^nX_i$\n",
    "* 標本平均の実現値：$\\bar{x}=\\dfrac{1}{n}\\displaystyle\\sum_{i=1}^nx_i$\n",
    "\n",
    "（特徴）\n",
    "* $\\bar{X}$は母集団平均の不偏推定量\n",
    "\n",
    "    $$\\text{E}(\\bar{X})=\\mu_X$$\n",
    "    \n",
    "* $\\bar{x}$はその推定値。\n",
    "* $X_i$がIIDの場合の$\\bar{X}$の分散\n",
    "\n",
    "    $$\n",
    "    \\text{Var}(\\bar{X})=\\dfrac{1}{n}\\sigma_{X}^2\n",
    "    $$\n",
    "    \n",
    "    * $n\\rightarrow\\infty\\;\\Rightarrow\\;\\text{Var}(\\bar{X})=0$"
   ]
  },
  {
   "cell_type": "markdown",
   "metadata": {
    "hidden": true
   },
   "source": [
    "---\n",
    "**標本分散（sample variance）**\n",
    "* 確率変数の標本分散：$\\hat{\\sigma}_X^2=\\dfrac{1}{n-1}\\displaystyle\\sum_{i=1}^n\\left(X_i-\\bar{X}\\right)^2$\n",
    "* 標本分散の実現値：$\\hat{\\sigma}_x^2=\\dfrac{1}{n-1}\\displaystyle\\sum_{i=1}^n\\left(x_i-\\bar{x}\\right)^2$\n",
    "\n",
    "（特徴）\n",
    "* $\\hat{\\sigma}_X^2$は母集団分散の不偏推定量\n",
    "* $\\hat{\\sigma}_x^2$はその推定値\n",
    "\n",
    "（注意）\n",
    "* 分母は $n-1$であり，これにより$\\hat{\\sigma}_X$は母集団分散の不偏推定量となる。"
   ]
  },
  {
   "cell_type": "markdown",
   "metadata": {
    "hidden": true
   },
   "source": [
    "---\n",
    "**標本平均の分散**\n",
    "* 確率変数の標本平均の分散$\\text{Var}(\\bar{X})=\\dfrac{1}{n}\\sigma_X^2$にある$\\sigma_X^2$は母集団の分散であり観測不可能。従って，推定する必要がある。その推定量として$\\hat{\\sigma}_X$を使う。\n",
    "\n",
    "    $$\n",
    "    \\widehat{\\text{Var}(\\bar{X})}=\\frac{1}{n}\\hat{\\sigma}_X^2\n",
    "    $$\n",
    "    \n",
    "* 以下を標準誤差と呼ぶ\n",
    "\n",
    "    $$\n",
    "    \\text{SE}(\\bar{X})=\\sqrt{\\widehat{\\text{Var}(\\bar{X})}}=\\frac{\\hat{\\sigma}_X}{\\sqrt{n}}\n",
    "    $$\n",
    "    \n",
    "    * 母集団平均の推定量$\\bar{X}$には誤差があり，その正確性を示す。"
   ]
  },
  {
   "cell_type": "markdown",
   "metadata": {
    "hidden": true
   },
   "source": [
    "---\n",
    "**標本標準偏差**\n",
    "\n",
    "* 確率変数の標本標準偏差：$\\hat{\\sigma}_X$\n",
    "* 標本標準偏差の実現値：$\\hat{\\sigma}_x$\n",
    "\n",
    "（注意）\n",
    "* $\\hat{\\sigma}_X$は母集団標準偏差の不偏推定量では**ない**"
   ]
  },
  {
   "cell_type": "markdown",
   "metadata": {
    "hidden": true
   },
   "source": [
    "---\n",
    "**標本共分散**\n",
    "* 確率変数の共分散\n",
    "\n",
    "    $$\n",
    "    \\hat{\\sigma}_{XY}=\\frac{1}{n-1}\\sum_{i=1}^{n}\\left(X_i-\\bar{X}\\right)\\left(Y_i-\\bar{Y}\\right)\n",
    "    $$\n",
    "    \n",
    "* 共分散の実現値\n",
    "\n",
    "    $$\n",
    "    \\hat{\\sigma}_{xy}=\\frac{1}{n-1}\\sum_{i=1}^{n}\\left(x_i-\\bar{x}\\right)\\left(y_i-\\bar{y}\\right)\n",
    "    $$\n",
    "\n",
    "（注意）\n",
    "* 分母は $n-1$であり，これにより$\\hat{\\sigma}_X$は母集団共分散の不偏推定量となる。"
   ]
  },
  {
   "cell_type": "markdown",
   "metadata": {
    "hidden": true
   },
   "source": [
    "---\n",
    "**標本相関係数**\n",
    "* 確率変数の相関係数\n",
    "\n",
    "$$r_{XY}=\\dfrac{\\hat{\\sigma}_{XY}}{\\hat{\\sigma}_X\\cdot\\hat{\\sigma}_Y}$$\n",
    "\n",
    "* 相関係数の実現値\n",
    "\n",
    "$$r_{xy}=\\dfrac{\\hat{\\sigma}_{xy}}{\\hat{\\sigma}_x\\cdot\\hat{\\sigma}_y}$$\n",
    "\n",
    "（注意）\n",
    "* $r_{XY}$は母集団相関係数の不偏推定量では**ない**"
   ]
  },
  {
   "cell_type": "code",
   "execution_count": null,
   "metadata": {
    "hidden": true
   },
   "outputs": [],
   "source": []
  }
 ],
 "metadata": {
  "celltoolbar": "Tags",
  "kernel_info": {
   "name": "python3"
  },
  "kernelspec": {
   "display_name": "latest",
   "language": "python",
   "name": "latest"
  },
  "language_info": {
   "codemirror_mode": {
    "name": "ipython",
    "version": 3
   },
   "file_extension": ".py",
   "mimetype": "text/x-python",
   "name": "python",
   "nbconvert_exporter": "python",
   "pygments_lexer": "ipython3",
   "version": "3.8.2"
  },
  "nteract": {
   "version": "0.15.0"
  },
  "toc": {
   "base_numbering": 1,
   "nav_menu": {},
   "number_sections": true,
   "sideBar": true,
   "skip_h1_title": false,
   "title_cell": "Table of Contents",
   "title_sidebar": "Contents",
   "toc_cell": false,
   "toc_position": {},
   "toc_section_display": true,
   "toc_window_display": false
  }
 },
 "nbformat": 4,
 "nbformat_minor": 2
}
