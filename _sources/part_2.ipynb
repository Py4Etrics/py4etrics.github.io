{
 "cells": [
  {
   "cell_type": "markdown",
   "id": "8b709a54",
   "metadata": {},
   "source": [
    "<!--# ２. `Python`を使った計量経済分析-->\n",
    "# 目次と内容\n",
    "\n",
    "<div name=\"html-admonition\" style=\"font-size: 0.8em\">\n",
    "<input type=\"button\" onclick=\"location.href='https://translate.google.com/translate?hl=&sl=ja&tl=en&u='+window.location;\" value=\"Google translation\" style=\"color:#ffffff;background-color:#008080; height:25px\" onmouseover=\"this.style.background='#99ccff'\" onmouseout=\"this.style.background='#008080'\"/> in English or the language of your choice.\n",
    "</div><br>\n",
    "\n",
    "1. {doc}`7_Review_of_Statistics` \n",
    "   - 平均、分散、共分散などの計算方法の復習\n",
    "1. {doc}`list_of_terms`\n",
    "   - 計量経済学用語のリスト\n",
    "1. {doc}`8_Simple_Regression`\n",
    "   - 最も簡単な計量経済分析\n",
    "1. {doc}`9_Multiple_Regression`\n",
    "   - 複数の説明変数がある場合であり，ガウス・マルコフ定理について説明する。\n",
    "1. {doc}`10_Residuals`\n",
    "   - 残差を使い回帰分析に必要な仮定が成立しているかを図示でチェックする。\n",
    "1. {doc}`11_Inference`\n",
    "   - 仮説の検定など\n",
    "1. {doc}`12_Asymptotics`\n",
    "   - 標本サイズが大きい場合の分析\n",
    "1. {doc}`13_Dummies`\n",
    "   - ダミー変数やカテゴリー変数を扱う場合を考える\n",
    "1. {doc}`14_Hetero`\n",
    "   - 残差の均一分散の過程が成立しない場合の対処方法\n",
    "1. {doc}`15_Pooling`\n",
    "   - データに時系列とクロスセクションの情報がある場合の分析\n",
    "1. {doc}`16_linearmodels`\n",
    "   - パネル・データと操作変数法を扱うためのパッケージについての説明\n",
    "1. {doc}`17_Panel`\n",
    "   - パネル・データの利点を最大限に利用する手法\n",
    "1. {doc}`18_Zero_Conditional_Mean`\n",
    "   - ガウス・マルコフ定理の１つの仮定である「残差の条件付き期待値がゼロ」が成立しない場合のバイアスをシミュレーションで確認する\n",
    "1. {doc}`19_IV2SLS`\n",
    "   - 残差の条件付き期待値がゼロでない場合の対処方法\n",
    "1. {doc}`20_LogitProbit`\n",
    "   - ロジット・モデルとプロビット・モデルを使った分析方法\n",
    "1. {doc}`21_TruncregTobitHeckit`\n",
    "   - 切断回帰、Tobit、Heckitモデルを考える"
   ]
  }
 ],
 "metadata": {
  "jupytext": {
   "text_representation": {
    "extension": ".md",
    "format_name": "myst"
   }
  },
  "kernelspec": {
   "display_name": "Python 3",
   "language": "python",
   "name": "python3"
  },
  "source_map": [
   10
  ]
 },
 "nbformat": 4,
 "nbformat_minor": 5
}