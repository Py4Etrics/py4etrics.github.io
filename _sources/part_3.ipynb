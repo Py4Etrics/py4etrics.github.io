{
 "cells": [
  {
   "cell_type": "markdown",
   "metadata": {},
   "source": [
    "# ３. 番外編\n",
    "**内容**\n",
    "\n",
    "1. {doc}`0_Preparations`\n",
    "   - Pythonと関連ツール（GitやGitHubなど）のインストールと使い方について簡単に説明する。\n",
    "1. {doc}`Gapminder`\n",
    "   - [Gapminder](https://www.gapminder.org)は世界経済のGDPなどデータを駆使し興味深い分析をおこなっているサイトであり、ここではその時系列データを図示する。\n",
    "1. {doc}`Descriptive_stats_vs_Graphs`\n",
    "   - 記述統計だけではデータの性質は分からないことを示す有名なデータを紹介する。\n",
    "1. {doc}`Grade`\n",
    "   - 神戸大学のウリボーネット上にある成績を使い成績分析を行う。成績をコピーして使うので他大学でも使える？\n",
    "1. {doc}`data_source`\n",
    "   - データベースのリスト\n",
    "\n",
    "\n",
    "\n",
    "```{toctree}\n",
    ":hidden:\n",
    ":titlesonly:\n",
    "\n",
    "\n",
    "0_Preparations\n",
    "Gapminder\n",
    "Descriptive_stats_vs_Graphs\n",
    "Grade\n",
    "data_source\n",
    "```"
   ]
  }
 ],
 "metadata": {
  "jupytext": {
   "text_representation": {
    "extension": ".md",
    "format_name": "myst"
   }
  },
  "kernelspec": {
   "display_name": "Python 3",
   "language": "python",
   "name": "python3"
  },
  "language_info": {
   "codemirror_mode": {
    "name": "ipython",
    "version": 3
   },
   "file_extension": ".py",
   "mimetype": "text/x-python",
   "name": "python",
   "nbconvert_exporter": "python",
   "pygments_lexer": "ipython3",
   "version": "3.8.5"
  },
  "source_map": [
   10
  ]
 },
 "nbformat": 4,
 "nbformat_minor": 4
}