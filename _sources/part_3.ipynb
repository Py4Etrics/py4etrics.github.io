{
 "cells": [
  {
   "cell_type": "markdown",
   "id": "4c6948b6",
   "metadata": {},
   "source": [
    "<!--# ３. 番外編-->\n",
    "# 目次と内容\n",
    "\n",
    "```{margin}\n",
    "<div name=\"html-admonition\">\n",
    "Do you want to read in a differnt language? Open the \n",
    "<input type=\"button\" onclick=\"location.href='https://translate.google.com/translate?hl=&sl=ja&tl=en&u='+window.location;\" value=\"Google translated version\" style=\"color:#ffffff;background-color:#008080;\" onmouseover=\"this.style.background='#99ccff'\" onmouseout=\"this.style.background='#008080'\"/>\n",
    "in English or the language of your choice.\n",
    "</div>\n",
    "```\n",
    "\n",
    "1. {doc}`Descriptive_stats_vs_Graphs`\n",
    "    - 記述統計だけではデータの性質は分からないことを示す有名なデータを紹介する。\n",
    "1. {doc}`data_source`\n",
    "    - データベースのリスト\n",
    "1. [Pythonで学ぶマクロ経済学 (中級＋レベル)](https://py4macro.github.io)\n",
    "    - データとシミュレーションを駆使して，中級レベルより一歩進んだマクロ経済学を考える。\n",
    "1. [経済学のためのPython入門](https://py4basics.github.io)\n",
    "    - タイトルの通り。"
   ]
  }
 ],
 "metadata": {
  "jupytext": {
   "text_representation": {
    "extension": ".md",
    "format_name": "myst"
   }
  },
  "kernelspec": {
   "display_name": "Python 3",
   "language": "python",
   "name": "python3"
  },
  "language_info": {
   "codemirror_mode": {
    "name": "ipython",
    "version": 3
   },
   "file_extension": ".py",
   "mimetype": "text/x-python",
   "name": "python",
   "nbconvert_exporter": "python",
   "pygments_lexer": "ipython3",
   "version": "3.9.16"
  },
  "source_map": [
   10
  ]
 },
 "nbformat": 4,
 "nbformat_minor": 5
}