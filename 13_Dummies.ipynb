{
 "cells": [
  {
   "cell_type": "markdown",
   "metadata": {},
   "source": [
    "# 質的変数と回帰分析"
   ]
  },
  {
   "cell_type": "code",
   "execution_count": 1,
   "metadata": {},
   "outputs": [],
   "source": [
    "import numpy as np\n",
    "import pandas as pd\n",
    "from statsmodels.formula.api import ols\n",
    "import wooldridge"
   ]
  },
  {
   "cell_type": "markdown",
   "metadata": {},
   "source": [
    "実証分析で使う変数を次の２種類に区別することができる。\n",
    "1. 量的変数（体重，賃金など）\n",
    "2. 質的変数（性別，人種，地域など）\n",
    "\n",
    "今までは量的変数を考えたが，ここでは質的変数について議論する。まず男女のような２つの属性に分けるダミー変数を考える。その後に，より一般的な3つ以上の属性をに特徴付けられるカテゴリー変数を扱う場合を説明する。"
   ]
  },
  {
   "cell_type": "markdown",
   "metadata": {
    "heading_collapsed": true
   },
   "source": [
    "## ダミー変数"
   ]
  },
  {
   "cell_type": "markdown",
   "metadata": {
    "heading_collapsed": true,
    "hidden": true
   },
   "source": [
    "### ケース１：定数項だけの回帰分析"
   ]
  },
  {
   "cell_type": "markdown",
   "metadata": {
    "heading_collapsed": true,
    "hidden": true
   },
   "source": [
    "#### ダミー変数なし"
   ]
  },
  {
   "cell_type": "markdown",
   "metadata": {
    "hidden": true
   },
   "source": [
    "直感的な説明にするために説明変数が定数項だけの回帰分析から始める。\n",
    "具体的には次の回帰式を考える。\n",
    "\n",
    "$y=\\beta_0+u$\n",
    "\n",
    "実は，この場合のOLS推定量$\\hat{\\beta}_0$は被説明変数$y$の平均と等しいことになる。この結果を確認するために以下では`wooldridge`パッケージの`wage1`のデータを使う。"
   ]
  },
  {
   "cell_type": "code",
   "execution_count": 2,
   "metadata": {
    "hidden": true,
    "tags": [
     "output_scroll"
    ]
   },
   "outputs": [
    {
     "name": "stdout",
     "output_type": "stream",
     "text": [
      "name of dataset: wage1\n",
      "no of variables: 24\n",
      "no of observations: 526\n",
      "\n",
      "+----------+---------------------------------+\n",
      "| variable | label                           |\n",
      "+----------+---------------------------------+\n",
      "| wage     | average hourly earnings         |\n",
      "| educ     | years of education              |\n",
      "| exper    | years potential experience      |\n",
      "| tenure   | years with current employer     |\n",
      "| nonwhite | =1 if nonwhite                  |\n",
      "| female   | =1 if female                    |\n",
      "| married  | =1 if married                   |\n",
      "| numdep   | number of dependents            |\n",
      "| smsa     | =1 if live in SMSA              |\n",
      "| northcen | =1 if live in north central U.S |\n",
      "| south    | =1 if live in southern region   |\n",
      "| west     | =1 if live in western region    |\n",
      "| construc | =1 if work in construc. indus.  |\n",
      "| ndurman  | =1 if in nondur. manuf. indus.  |\n",
      "| trcommpu | =1 if in trans, commun, pub ut  |\n",
      "| trade    | =1 if in wholesale or retail    |\n",
      "| services | =1 if in services indus.        |\n",
      "| profserv | =1 if in prof. serv. indus.     |\n",
      "| profocc  | =1 if in profess. occupation    |\n",
      "| clerocc  | =1 if in clerical occupation    |\n",
      "| servocc  | =1 if in service occupation     |\n",
      "| lwage    | log(wage)                       |\n",
      "| expersq  | exper^2                         |\n",
      "| tenursq  | tenure^2                        |\n",
      "+----------+---------------------------------+\n",
      "\n",
      "These are data from the 1976 Current Population Survey, collected by\n",
      "Henry Farber when he and I were colleagues at MIT in 1988.\n"
     ]
    }
   ],
   "source": [
    "wage1 = wooldridge.data('wage1')\n",
    "wooldridge.data('wage1',description=True)"
   ]
  },
  {
   "cell_type": "markdown",
   "metadata": {
    "hidden": true
   },
   "source": [
    "時間平均賃金`wage`を被説明変数に設定する。`statsmodels`では，定数項だけの回帰式を考える場合，`1`をつか加える必要がある。"
   ]
  },
  {
   "cell_type": "code",
   "execution_count": 3,
   "metadata": {
    "hidden": true
   },
   "outputs": [
    {
     "data": {
      "text/plain": [
       "Intercept    5.896103\n",
       "dtype: float64"
      ]
     },
     "execution_count": 3,
     "metadata": {},
     "output_type": "execute_result"
    }
   ],
   "source": [
    "form_const = 'wage ~ 1'  # 定数項だけの場合は１が必要\n",
    "\n",
    "res_const = ols(form_const, data=wage1).fit()\n",
    "\n",
    "res_const.params"
   ]
  },
  {
   "cell_type": "markdown",
   "metadata": {
    "hidden": true
   },
   "source": [
    "この推定値が賃金の平均と等しいこをを確認するために，直接平均を計算する。"
   ]
  },
  {
   "cell_type": "code",
   "execution_count": 4,
   "metadata": {
    "hidden": true
   },
   "outputs": [
    {
     "data": {
      "text/plain": [
       "5.896102674787035"
      ]
     },
     "execution_count": 4,
     "metadata": {},
     "output_type": "execute_result"
    }
   ],
   "source": [
    "wage1.loc[:,'wage'].mean()"
   ]
  },
  {
   "cell_type": "markdown",
   "metadata": {
    "hidden": true
   },
   "source": [
    "この結果はGM仮定4の$\\text{E}(u|X)=0$から簡単に導出できる。この仮定を標本回帰式で考えると次式となる。\n",
    "\n",
    "$$\\frac{1}{N}\\sum_{i=1}^Nu_i=0$$\n",
    "\n",
    "この式の左辺にに回帰式を代入すると\n",
    "\n",
    "$$\\frac{1}{N}\\sum_{i=1}^N\\left( y_i-\\beta_0\\right)=\\bar{y}-\\beta_0$$\n",
    "\n",
    "この式が0となる$\\hat{\\beta_0}$がOLS推定量なので\n",
    "\n",
    "$$\\bar{y}=\\hat{\\beta_0}$$\n",
    "\n",
    "となる。"
   ]
  },
  {
   "cell_type": "markdown",
   "metadata": {
    "heading_collapsed": true,
    "hidden": true
   },
   "source": [
    "#### ダミー変数あり：２つのケース"
   ]
  },
  {
   "cell_type": "markdown",
   "metadata": {
    "hidden": true
   },
   "source": [
    "同じデータを使って$\\{0,1\\}$の値を取るダミー変数を考える。データセット`wage1`の中の`female`という変数があり，以下の値を取る。\n",
    "```\n",
    "女性の場合：female = 1\n",
    "男性の場合：female = 0\n",
    "```\n",
    "値が０のカテゴリーを**基本カテゴリー**という。\n",
    "\n",
    "$D$を`female`のダミー変数とすると回帰式は以下のようになる。\n",
    "\n",
    "$$\n",
    "y=\\beta_0+\\beta_1D\n",
    "$$\n",
    "\n",
    "さらに，この式は$D=\\{0,1\\}$の値によって以下のように表すことができる。\n",
    "\n",
    "男性：$D=0\\quad\\Rightarrow\\quad y=\\beta_0+u$\n",
    "\n",
    "女性：$D=1\\quad\\Rightarrow\\quad y=\\beta_0+\\beta_1+u$\n",
    "\n",
    "即ち，OLS推定量は以下を表すことになる。\n",
    "\n",
    "$\\hat{\\beta}_0$：男性の平均賃金\n",
    "\n",
    "$\\hat{\\beta}_0+\\hat{\\beta}_1$：女性の平均賃金\n",
    "\n",
    "この回帰式を使い，時間賃金の男女間の差について考察する。"
   ]
  },
  {
   "cell_type": "code",
   "execution_count": 5,
   "metadata": {
    "hidden": true
   },
   "outputs": [
    {
     "data": {
      "text/plain": [
       "Intercept    7.099489\n",
       "female      -2.511830\n",
       "dtype: float64"
      ]
     },
     "execution_count": 5,
     "metadata": {},
     "output_type": "execute_result"
    }
   ],
   "source": [
    "form_const_2 = 'wage ~ female'\n",
    "\n",
    "res_const_2 = ols(form_const_2, data=wage1).fit()\n",
    "\n",
    "res_const_2.params"
   ]
  },
  {
   "cell_type": "markdown",
   "metadata": {
    "hidden": true
   },
   "source": [
    "* `female=0`の場合は男性なので，定数項の値（約7.10）が男性の時間賃金の平均である。\n",
    "* `female=1`の場合は女性なので，女性の時間賃金の平均は\n",
    "\n",
    "    $$7.10-2.51\\approx 4.59$$\n",
    "\n",
    "即ち，男性（基本カテゴリー）と比べて女性の平均賃金は2.51ドル低い。\n",
    "\n",
    "データを使い直接男女の平均を計算して確認する。\n",
    "\n",
    "＜女性の場合＞"
   ]
  },
  {
   "cell_type": "code",
   "execution_count": 6,
   "metadata": {
    "hidden": true
   },
   "outputs": [
    {
     "data": {
      "text/plain": [
       "4.587658740225292"
      ]
     },
     "execution_count": 6,
     "metadata": {},
     "output_type": "execute_result"
    }
   ],
   "source": [
    "# 女性だけを抽出するTrue/False条件の作成\n",
    "cond_female = (wage1['female']==1)\n",
    "\n",
    "wage1.loc[cond_female,'wage'].mean()"
   ]
  },
  {
   "cell_type": "markdown",
   "metadata": {
    "hidden": true
   },
   "source": [
    "＜男性の場合＞"
   ]
  },
  {
   "cell_type": "code",
   "execution_count": 7,
   "metadata": {
    "hidden": true
   },
   "outputs": [
    {
     "data": {
      "text/plain": [
       "7.099489067157689"
      ]
     },
     "execution_count": 7,
     "metadata": {},
     "output_type": "execute_result"
    }
   ],
   "source": [
    "# 男性だけを抽出するTrue/False条件の作成\n",
    "cond_male = (wage1['female']==0)\n",
    "\n",
    "wage1.loc[cond_male,'wage'].mean()"
   ]
  },
  {
   "cell_type": "markdown",
   "metadata": {
    "hidden": true
   },
   "source": [
    "**（解釈）**\n",
    "* 女性の時間賃金は約2.51ドル低い\n",
    "* しかし比較する場合，同じ条件で比べるべきではないだろうか。例えば，未婚・既婚，教育年数や就労期間が賃金に影響する場合，この差を考慮すべきである。しかし，この回帰式にはそのような変数は含まれていないため，含まれていない変数の違いが賃金の違いに反映されている可能性が高い。"
   ]
  },
  {
   "cell_type": "markdown",
   "metadata": {
    "heading_collapsed": true,
    "hidden": true
   },
   "source": [
    "#### ダミー変数あり：４つのケース"
   ]
  },
  {
   "cell_type": "markdown",
   "metadata": {
    "hidden": true
   },
   "source": [
    "データセット`wage1`には`married`という変数が含まれており，以下の値をとる。\n",
    "```\n",
    "既婚者の場合：married = 1\n",
    "未婚者の場合：married = 0\n",
    "```\n",
    "`female`と組み合わせることにより，次の４つのケースを分けることができる。\n",
    "```\n",
    "未婚男性：female=0, married=0\n",
    "未婚女性：female=1, married=0\n",
    "既婚女性：female=1, married=1\n",
    "既婚男性：female=0, married=1\n",
    "```\n",
    "この４つのケースを捉えるために、`female`と`married`の値によって`0`もしくは`1`の値になるダミー変数を作成する。\n",
    "\n",
    "---\n",
    "＜ステップ１＞\n",
    "\n",
    "新たなダミー変数の作成ルールを定義する関数を作成する。この関数では`DataFrame`の行を引数とする。"
   ]
  },
  {
   "cell_type": "code",
   "execution_count": 8,
   "metadata": {
    "hidden": true
   },
   "outputs": [],
   "source": [
    "# 以下では row をDataFrameの行と考える。\n",
    "\n",
    "# 未婚男性の関数\n",
    "def singmale(row):\n",
    "    if row['female'] == 0 and row['married'] == 0:\n",
    "        return 1\n",
    "    else:\n",
    "        return 0\n",
    "\n",
    "# 既婚男性の関数\n",
    "def marmale(row):\n",
    "    if row['female'] == 0 and row['married'] == 1:\n",
    "        return 1\n",
    "    else:\n",
    "        return 0\n",
    "\n",
    "# 未婚女性の関数\n",
    "def singfem(row):\n",
    "    if row['female'] == 1 and row['married'] == 0:\n",
    "        return 1\n",
    "    else:\n",
    "        return 0\n",
    "\n",
    "# 既婚女性の関数\n",
    "def marfem(row):\n",
    "    if row['female'] == 1 and row['married'] == 1:\n",
    "        return 1\n",
    "    else:\n",
    "        return 0"
   ]
  },
  {
   "cell_type": "markdown",
   "metadata": {
    "hidden": true
   },
   "source": [
    "＜ステップ２＞\n",
    "\n",
    "上の関数を使い，`wage1`に新たな列を追加する。\n",
    "\n",
    "以下のコードで使う`.apply()`は第１引数の関数を行または列に適用するメソッドである。`axis=1`は「任意の列に沿って各行に関数を適用する」ことを指定している（`axis='columns'`でもOK）。また、引数の関数に`()`は書かないことに注意しよう。即ち，引数に関数名（関数を参照する「参照記号」）を引数とすることにより，関数のオブジェクトを参照していることになる。即ち、`.apply()`は第１引数の関数を参照し、それを実行するメソッドである。"
   ]
  },
  {
   "cell_type": "code",
   "execution_count": 9,
   "metadata": {
    "hidden": true
   },
   "outputs": [
    {
     "data": {
      "text/html": [
       "<div>\n",
       "<style scoped>\n",
       "    .dataframe tbody tr th:only-of-type {\n",
       "        vertical-align: middle;\n",
       "    }\n",
       "\n",
       "    .dataframe tbody tr th {\n",
       "        vertical-align: top;\n",
       "    }\n",
       "\n",
       "    .dataframe thead th {\n",
       "        text-align: right;\n",
       "    }\n",
       "</style>\n",
       "<table border=\"1\" class=\"dataframe\">\n",
       "  <thead>\n",
       "    <tr style=\"text-align: right;\">\n",
       "      <th></th>\n",
       "      <th>wage</th>\n",
       "      <th>educ</th>\n",
       "      <th>exper</th>\n",
       "      <th>tenure</th>\n",
       "      <th>nonwhite</th>\n",
       "      <th>female</th>\n",
       "      <th>married</th>\n",
       "      <th>numdep</th>\n",
       "      <th>smsa</th>\n",
       "      <th>northcen</th>\n",
       "      <th>...</th>\n",
       "      <th>profocc</th>\n",
       "      <th>clerocc</th>\n",
       "      <th>servocc</th>\n",
       "      <th>lwage</th>\n",
       "      <th>expersq</th>\n",
       "      <th>tenursq</th>\n",
       "      <th>singmale</th>\n",
       "      <th>marmale</th>\n",
       "      <th>singfem</th>\n",
       "      <th>marfem</th>\n",
       "    </tr>\n",
       "  </thead>\n",
       "  <tbody>\n",
       "    <tr>\n",
       "      <th>0</th>\n",
       "      <td>3.10</td>\n",
       "      <td>11</td>\n",
       "      <td>2</td>\n",
       "      <td>0</td>\n",
       "      <td>0</td>\n",
       "      <td>1</td>\n",
       "      <td>0</td>\n",
       "      <td>2</td>\n",
       "      <td>1</td>\n",
       "      <td>0</td>\n",
       "      <td>...</td>\n",
       "      <td>0</td>\n",
       "      <td>0</td>\n",
       "      <td>0</td>\n",
       "      <td>1.131402</td>\n",
       "      <td>4</td>\n",
       "      <td>0</td>\n",
       "      <td>0</td>\n",
       "      <td>0</td>\n",
       "      <td>1</td>\n",
       "      <td>0</td>\n",
       "    </tr>\n",
       "    <tr>\n",
       "      <th>1</th>\n",
       "      <td>3.24</td>\n",
       "      <td>12</td>\n",
       "      <td>22</td>\n",
       "      <td>2</td>\n",
       "      <td>0</td>\n",
       "      <td>1</td>\n",
       "      <td>1</td>\n",
       "      <td>3</td>\n",
       "      <td>1</td>\n",
       "      <td>0</td>\n",
       "      <td>...</td>\n",
       "      <td>0</td>\n",
       "      <td>0</td>\n",
       "      <td>1</td>\n",
       "      <td>1.175573</td>\n",
       "      <td>484</td>\n",
       "      <td>4</td>\n",
       "      <td>0</td>\n",
       "      <td>0</td>\n",
       "      <td>0</td>\n",
       "      <td>1</td>\n",
       "    </tr>\n",
       "    <tr>\n",
       "      <th>2</th>\n",
       "      <td>3.00</td>\n",
       "      <td>11</td>\n",
       "      <td>2</td>\n",
       "      <td>0</td>\n",
       "      <td>0</td>\n",
       "      <td>0</td>\n",
       "      <td>0</td>\n",
       "      <td>2</td>\n",
       "      <td>0</td>\n",
       "      <td>0</td>\n",
       "      <td>...</td>\n",
       "      <td>0</td>\n",
       "      <td>0</td>\n",
       "      <td>0</td>\n",
       "      <td>1.098612</td>\n",
       "      <td>4</td>\n",
       "      <td>0</td>\n",
       "      <td>1</td>\n",
       "      <td>0</td>\n",
       "      <td>0</td>\n",
       "      <td>0</td>\n",
       "    </tr>\n",
       "  </tbody>\n",
       "</table>\n",
       "<p>3 rows × 28 columns</p>\n",
       "</div>"
      ],
      "text/plain": [
       "   wage  educ  exper  tenure  nonwhite  female  married  numdep  smsa  \\\n",
       "0  3.10    11      2       0         0       1        0       2     1   \n",
       "1  3.24    12     22       2         0       1        1       3     1   \n",
       "2  3.00    11      2       0         0       0        0       2     0   \n",
       "\n",
       "   northcen  ...  profocc  clerocc  servocc     lwage  expersq  tenursq  \\\n",
       "0         0  ...        0        0        0  1.131402        4        0   \n",
       "1         0  ...        0        0        1  1.175573      484        4   \n",
       "2         0  ...        0        0        0  1.098612        4        0   \n",
       "\n",
       "   singmale  marmale  singfem  marfem  \n",
       "0         0        0        1       0  \n",
       "1         0        0        0       1  \n",
       "2         1        0        0       0  \n",
       "\n",
       "[3 rows x 28 columns]"
      ]
     },
     "execution_count": 9,
     "metadata": {},
     "output_type": "execute_result"
    }
   ],
   "source": [
    "wage1.loc[:,'singmale'] = wage1.apply(singmale, axis=1)\n",
    "wage1.loc[:,'marmale'] = wage1.apply(marmale, axis=1)\n",
    "wage1.loc[:,'singfem'] = wage1.apply(singfem, axis='columns')\n",
    "wage1.loc[:,'marfem'] = wage1.apply(marfem, axis='columns')\n",
    "\n",
    "wage1.head(3)"
   ]
  },
  {
   "cell_type": "markdown",
   "metadata": {
    "hidden": true
   },
   "source": [
    "一方でコードを書く際、似たものをコピペして少しだけ変更することを繰り返すとエラーや意図しない結果につながる可能性が高くなる。その場合は、次のように`for`ループで書くことを薦める。\n",
    "\n",
    "まず辞書を作成する：\n",
    "* キーを列のラベル\n",
    "* 値を関数名"
   ]
  },
  {
   "cell_type": "code",
   "execution_count": 10,
   "metadata": {
    "hidden": true
   },
   "outputs": [],
   "source": [
    "func_dict = {'singmale':singmale,\n",
    "             'marmale':marmale,\n",
    "             'singfem':singfem,\n",
    "             'marfem':marfem}"
   ]
  },
  {
   "cell_type": "markdown",
   "metadata": {
    "hidden": true
   },
   "source": [
    "次に`func_dict`を使い`for`ループで列を追加する。ここで`key`は辞書のキーを指す。"
   ]
  },
  {
   "cell_type": "code",
   "execution_count": 11,
   "metadata": {
    "hidden": true
   },
   "outputs": [
    {
     "data": {
      "text/html": [
       "<div>\n",
       "<style scoped>\n",
       "    .dataframe tbody tr th:only-of-type {\n",
       "        vertical-align: middle;\n",
       "    }\n",
       "\n",
       "    .dataframe tbody tr th {\n",
       "        vertical-align: top;\n",
       "    }\n",
       "\n",
       "    .dataframe thead th {\n",
       "        text-align: right;\n",
       "    }\n",
       "</style>\n",
       "<table border=\"1\" class=\"dataframe\">\n",
       "  <thead>\n",
       "    <tr style=\"text-align: right;\">\n",
       "      <th></th>\n",
       "      <th>wage</th>\n",
       "      <th>educ</th>\n",
       "      <th>exper</th>\n",
       "      <th>tenure</th>\n",
       "      <th>nonwhite</th>\n",
       "      <th>female</th>\n",
       "      <th>married</th>\n",
       "      <th>numdep</th>\n",
       "      <th>smsa</th>\n",
       "      <th>northcen</th>\n",
       "      <th>...</th>\n",
       "      <th>profocc</th>\n",
       "      <th>clerocc</th>\n",
       "      <th>servocc</th>\n",
       "      <th>lwage</th>\n",
       "      <th>expersq</th>\n",
       "      <th>tenursq</th>\n",
       "      <th>singmale</th>\n",
       "      <th>marmale</th>\n",
       "      <th>singfem</th>\n",
       "      <th>marfem</th>\n",
       "    </tr>\n",
       "  </thead>\n",
       "  <tbody>\n",
       "    <tr>\n",
       "      <th>0</th>\n",
       "      <td>3.10</td>\n",
       "      <td>11</td>\n",
       "      <td>2</td>\n",
       "      <td>0</td>\n",
       "      <td>0</td>\n",
       "      <td>1</td>\n",
       "      <td>0</td>\n",
       "      <td>2</td>\n",
       "      <td>1</td>\n",
       "      <td>0</td>\n",
       "      <td>...</td>\n",
       "      <td>0</td>\n",
       "      <td>0</td>\n",
       "      <td>0</td>\n",
       "      <td>1.131402</td>\n",
       "      <td>4</td>\n",
       "      <td>0</td>\n",
       "      <td>0</td>\n",
       "      <td>0</td>\n",
       "      <td>1</td>\n",
       "      <td>0</td>\n",
       "    </tr>\n",
       "    <tr>\n",
       "      <th>1</th>\n",
       "      <td>3.24</td>\n",
       "      <td>12</td>\n",
       "      <td>22</td>\n",
       "      <td>2</td>\n",
       "      <td>0</td>\n",
       "      <td>1</td>\n",
       "      <td>1</td>\n",
       "      <td>3</td>\n",
       "      <td>1</td>\n",
       "      <td>0</td>\n",
       "      <td>...</td>\n",
       "      <td>0</td>\n",
       "      <td>0</td>\n",
       "      <td>1</td>\n",
       "      <td>1.175573</td>\n",
       "      <td>484</td>\n",
       "      <td>4</td>\n",
       "      <td>0</td>\n",
       "      <td>0</td>\n",
       "      <td>0</td>\n",
       "      <td>1</td>\n",
       "    </tr>\n",
       "    <tr>\n",
       "      <th>2</th>\n",
       "      <td>3.00</td>\n",
       "      <td>11</td>\n",
       "      <td>2</td>\n",
       "      <td>0</td>\n",
       "      <td>0</td>\n",
       "      <td>0</td>\n",
       "      <td>0</td>\n",
       "      <td>2</td>\n",
       "      <td>0</td>\n",
       "      <td>0</td>\n",
       "      <td>...</td>\n",
       "      <td>0</td>\n",
       "      <td>0</td>\n",
       "      <td>0</td>\n",
       "      <td>1.098612</td>\n",
       "      <td>4</td>\n",
       "      <td>0</td>\n",
       "      <td>1</td>\n",
       "      <td>0</td>\n",
       "      <td>0</td>\n",
       "      <td>0</td>\n",
       "    </tr>\n",
       "  </tbody>\n",
       "</table>\n",
       "<p>3 rows × 28 columns</p>\n",
       "</div>"
      ],
      "text/plain": [
       "   wage  educ  exper  tenure  nonwhite  female  married  numdep  smsa  \\\n",
       "0  3.10    11      2       0         0       1        0       2     1   \n",
       "1  3.24    12     22       2         0       1        1       3     1   \n",
       "2  3.00    11      2       0         0       0        0       2     0   \n",
       "\n",
       "   northcen  ...  profocc  clerocc  servocc     lwage  expersq  tenursq  \\\n",
       "0         0  ...        0        0        0  1.131402        4        0   \n",
       "1         0  ...        0        0        1  1.175573      484        4   \n",
       "2         0  ...        0        0        0  1.098612        4        0   \n",
       "\n",
       "   singmale  marmale  singfem  marfem  \n",
       "0         0        0        1       0  \n",
       "1         0        0        0       1  \n",
       "2         1        0        0       0  \n",
       "\n",
       "[3 rows x 28 columns]"
      ]
     },
     "execution_count": 11,
     "metadata": {},
     "output_type": "execute_result"
    }
   ],
   "source": [
    "for key in func_dict:\n",
    "    wage1.loc[:,key] = wage1.apply(func_dict[key], axis=1)\n",
    "\n",
    "wage1.head(3)"
   ]
  },
  {
   "cell_type": "markdown",
   "metadata": {
    "hidden": true
   },
   "source": [
    "---\n",
    "これら４つのケースを捉えるために次の回帰式を使う。\n",
    "\n",
    "$y=\\beta_0+\\beta_1D_1+\\beta_2D_2+\\beta_3D_3+u$\n",
    "\n",
    "* 基本カテゴリー：`singmale`\n",
    "* $D_1$=`marmale`\n",
    "* $D_2$=`singfem`\n",
    "* $D_3$=`marfem`"
   ]
  },
  {
   "cell_type": "markdown",
   "metadata": {
    "hidden": true
   },
   "source": [
    "---\n",
    "$D_1=\\{0,1\\}$、$D_2=\\{0,1\\}$、$D_3=\\{0,1\\}$の取る値を考慮すると，以下の４つのパターンに分けることができる。\n",
    "\n",
    "$D_1=0$ & $D_2=0$ & $D_3=0\\quad\\Rightarrow\\quad$\n",
    "$y=\\beta_0+u$\n",
    "\n",
    "$D_1=1$ & $D_2=0$ & $D_3=0\\quad\\Rightarrow\\quad$\n",
    "$y=\\beta_0+\\beta_1+u$\n",
    "\n",
    "$D_1=0$ & $D_2=1$ & $D_3=0\\quad\\Rightarrow\\quad$\n",
    "$y=\\beta_0+\\beta_2+u$\n",
    "\n",
    "$D_1=0$ & $D_2=0$ & $D_3=1\\quad\\Rightarrow\\quad$\n",
    "$y=\\beta_0+\\beta_3+u$\n",
    "\n",
    "即ち，OLS推定量は以下を表すことになる。\n",
    "\n",
    "$\\hat{\\beta}_0$：未婚男性の平均賃金\n",
    "\n",
    "$\\hat{\\beta}_0+\\hat{\\beta}_1$：既婚男性の平均賃金\n",
    "\n",
    "$\\hat{\\beta}_0+\\hat{\\beta}_2$：未婚女性の平均賃金\n",
    "\n",
    "$\\hat{\\beta}_0+\\hat{\\beta}_3$：既婚女性の平均賃金"
   ]
  },
  {
   "cell_type": "code",
   "execution_count": 12,
   "metadata": {
    "hidden": true
   },
   "outputs": [
    {
     "data": {
      "text/plain": [
       "Intercept    5.168023\n",
       "marmale      2.815009\n",
       "singfem     -0.556440\n",
       "marfem      -0.602114\n",
       "dtype: float64"
      ]
     },
     "execution_count": 12,
     "metadata": {},
     "output_type": "execute_result"
    }
   ],
   "source": [
    "form_const_4 = 'wage ~ marmale + singfem + marfem'\n",
    "\n",
    "res_const_4 = ols(form_const_4, data=wage1).fit()\n",
    "\n",
    "para4 = res_const_4.params\n",
    "para4"
   ]
  },
  {
   "cell_type": "markdown",
   "metadata": {
    "hidden": true
   },
   "source": [
    "（結果）\n",
    "* 未婚男性の平均賃金は約5.16\n",
    "* 未婚男性に比べて既婚男性の平均賃金は約2.82高い\n",
    "* 未婚男性に比べて未婚女性の平均賃金は約0.56低い\n",
    "* 未婚男性に比べて既婚女性の平均賃金は約0.60低い"
   ]
  },
  {
   "cell_type": "markdown",
   "metadata": {
    "hidden": true
   },
   "source": [
    "`wage1`のデータから直接計算して確認する。\n",
    "\n",
    "未婚男性の平均賃金"
   ]
  },
  {
   "cell_type": "code",
   "execution_count": 13,
   "metadata": {
    "hidden": true
   },
   "outputs": [
    {
     "data": {
      "text/plain": [
       "5.168023282705351"
      ]
     },
     "execution_count": 13,
     "metadata": {},
     "output_type": "execute_result"
    }
   ],
   "source": [
    "wage1.query('female==0 & married==0')['wage'].mean()"
   ]
  },
  {
   "cell_type": "code",
   "execution_count": 14,
   "metadata": {
    "hidden": true
   },
   "outputs": [
    {
     "data": {
      "text/plain": [
       "5.168023282705353"
      ]
     },
     "execution_count": 14,
     "metadata": {},
     "output_type": "execute_result"
    }
   ],
   "source": [
    "para4[0]"
   ]
  },
  {
   "cell_type": "markdown",
   "metadata": {
    "hidden": true
   },
   "source": [
    "既婚男性の平均賃金"
   ]
  },
  {
   "cell_type": "code",
   "execution_count": 15,
   "metadata": {
    "hidden": true
   },
   "outputs": [
    {
     "data": {
      "text/plain": [
       "7.983031926002909"
      ]
     },
     "execution_count": 15,
     "metadata": {},
     "output_type": "execute_result"
    }
   ],
   "source": [
    "wage1.query('female==0 & married==1')['wage'].mean()"
   ]
  },
  {
   "cell_type": "code",
   "execution_count": 16,
   "metadata": {
    "hidden": true
   },
   "outputs": [
    {
     "data": {
      "text/plain": [
       "7.983031926002912"
      ]
     },
     "execution_count": 16,
     "metadata": {},
     "output_type": "execute_result"
    }
   ],
   "source": [
    "para4[0]+para4[1]"
   ]
  },
  {
   "cell_type": "markdown",
   "metadata": {
    "hidden": true
   },
   "source": [
    "未婚女性の平均賃金"
   ]
  },
  {
   "cell_type": "code",
   "execution_count": 17,
   "metadata": {
    "hidden": true
   },
   "outputs": [
    {
     "data": {
      "text/plain": [
       "4.611583345135053"
      ]
     },
     "execution_count": 17,
     "metadata": {},
     "output_type": "execute_result"
    }
   ],
   "source": [
    "wage1.query('female==1 & married==0')['wage'].mean()"
   ]
  },
  {
   "cell_type": "code",
   "execution_count": 18,
   "metadata": {
    "hidden": true
   },
   "outputs": [
    {
     "data": {
      "text/plain": [
       "4.611583345135056"
      ]
     },
     "execution_count": 18,
     "metadata": {},
     "output_type": "execute_result"
    }
   ],
   "source": [
    "para4[0]+para4[2]"
   ]
  },
  {
   "cell_type": "markdown",
   "metadata": {
    "hidden": true
   },
   "source": [
    "既婚女性の平均賃金"
   ]
  },
  {
   "cell_type": "code",
   "execution_count": 19,
   "metadata": {
    "hidden": true
   },
   "outputs": [
    {
     "data": {
      "text/plain": [
       "4.565909099398238"
      ]
     },
     "execution_count": 19,
     "metadata": {},
     "output_type": "execute_result"
    }
   ],
   "source": [
    "wage1.query('female==1 & married==1')['wage'].mean()"
   ]
  },
  {
   "cell_type": "code",
   "execution_count": 20,
   "metadata": {
    "hidden": true
   },
   "outputs": [
    {
     "data": {
      "text/plain": [
       "4.5659090993982385"
      ]
     },
     "execution_count": 20,
     "metadata": {},
     "output_type": "execute_result"
    }
   ],
   "source": [
    "para4[0]+para4[3]"
   ]
  },
  {
   "cell_type": "markdown",
   "metadata": {
    "heading_collapsed": true,
    "hidden": true
   },
   "source": [
    "### ケース２：定量的変数の導入"
   ]
  },
  {
   "cell_type": "markdown",
   "metadata": {
    "hidden": true
   },
   "source": [
    "１つのダミー変数`female`だけが入るケースに次の変数を加えた回帰式を考える。\n",
    "* `educ`：教育年数\n",
    "* `exper`：雇用経験年数\n",
    "* `tenure`：勤続年数"
   ]
  },
  {
   "cell_type": "code",
   "execution_count": 21,
   "metadata": {
    "hidden": true
   },
   "outputs": [
    {
     "data": {
      "text/plain": [
       "Intercept   -1.567939\n",
       "female      -1.810852\n",
       "educ         0.571505\n",
       "exper        0.025396\n",
       "tenure       0.141005\n",
       "dtype: float64"
      ]
     },
     "execution_count": 21,
     "metadata": {},
     "output_type": "execute_result"
    }
   ],
   "source": [
    "form_1 = 'wage ~ female + educ + exper+ tenure'\n",
    "\n",
    "res_1 = ols(form_1, data=wage1).fit()\n",
    "\n",
    "res_1.params"
   ]
  },
  {
   "cell_type": "markdown",
   "metadata": {
    "hidden": true
   },
   "source": [
    "（解釈）\n",
    "* 賃金格差は約-1.81に減少した。これは`educ`, `exper`, `tenure`の影響を取り除いた結果である。言い換えると，教育，経験，就労期間を所与とすると（それらの変数が同じである場合という意味），女性の時間賃金は約1.8ドル低い。\n",
    "* 女性差別を捉えているのだろうか？回帰式にない変数（その影響は誤差項に入っている）が残っている可能性があるので，必ずしもそうではない。またその場合，欠落変数バイアスも発生し得る。"
   ]
  },
  {
   "cell_type": "markdown",
   "metadata": {
    "heading_collapsed": true,
    "hidden": true
   },
   "source": [
    "### ケース３：ダミー変数の交差項"
   ]
  },
  {
   "cell_type": "markdown",
   "metadata": {
    "hidden": true
   },
   "source": [
    "ケース１と２の被説明変数は`wage`をそのまま使ったが，ここでは対数を取り賃金方程式にダミー変数の交差項を入れて考察する。\n",
    "\n",
    "以下の回帰式を考える。\n",
    "\n",
    "$$y=\\beta_0+\\beta_1D+ \\beta_2Dx+\\beta_3x + u$$\n",
    "\n",
    "ここで$D$がダミー変数，$x=$は定量的変数であり，$Dx$がダミー変数の交差項である。ダミー変数が取る値$D=\\{0,1\\}$に分けて考えると，以下を推定することになる。\n",
    "\n",
    "$D=0\\quad\\Rightarrow\\quad\n",
    "y=\\beta_0+\\beta_3x + u$\n",
    "\n",
    "$D=1\\quad\\Rightarrow\\quad\n",
    "y=\\left(\\beta_0+\\beta_1\\right)+ \\left(\\beta_2+\\beta_3\\right)x + u$\n",
    "\n"
   ]
  },
  {
   "cell_type": "markdown",
   "metadata": {
    "hidden": true
   },
   "source": [
    "---\n",
    "具体例として$D=$\n",
    "`female`，$x=$`educ`とするとOLS推定量は以下を表すことになる。\n",
    "\n",
    "$\\hat{\\beta}_0$：（教育の効果を取り除いた）男性の平均賃金（対数）\n",
    "\n",
    "$\\hat{\\beta}_3$：男性の賃金に対する教育の効果（％）\n",
    "\n",
    "$\\hat{\\beta}_0+\\hat{\\beta}_1$：（教育の効果を取り除いた）女性の平均賃金（対数）\n",
    "\n",
    "$\\hat{\\beta}_2+\\hat{\\beta}_3$：女性の賃金に対する教育の効果（％）\n",
    "\n",
    "\n",
    "（注意）\n",
    "\n",
    "`statsmodels`の回帰式では$\\text{female}\\times \\text{educ}$を$\\text{female}:\\text{educ}$と書く。"
   ]
  },
  {
   "cell_type": "code",
   "execution_count": 22,
   "metadata": {
    "hidden": true
   },
   "outputs": [],
   "source": [
    "form_2 = 'np.log(wage) ~ female + female:educ + educ + exper + tenure'\n",
    "\n",
    "res_2 = ols(form_2, data=wage1).fit()"
   ]
  },
  {
   "cell_type": "code",
   "execution_count": 23,
   "metadata": {
    "hidden": true
   },
   "outputs": [
    {
     "name": "stdout",
     "output_type": "stream",
     "text": [
      "===============================================================================\n",
      "                  coef    std err          t      P>|t|      [0.025      0.975]\n",
      "-------------------------------------------------------------------------------\n",
      "Intercept       0.4647      0.123      3.781      0.000       0.223       0.706\n",
      "female         -0.2104      0.174     -1.209      0.227      -0.552       0.131\n",
      "female:educ    -0.0072      0.014     -0.534      0.593      -0.034       0.019\n",
      "educ            0.0903      0.009     10.359      0.000       0.073       0.107\n",
      "exper           0.0046      0.002      2.850      0.005       0.001       0.008\n",
      "tenure          0.0174      0.003      5.849      0.000       0.012       0.023\n",
      "===============================================================================\n"
     ]
    }
   ],
   "source": [
    "print(res_2.summary().tables[1])"
   ]
  },
  {
   "cell_type": "markdown",
   "metadata": {
    "hidden": true
   },
   "source": [
    "**$t$検定**\n",
    "* `female`\n",
    "    * 教育などの影響を省いた後の平均賃金の差\n",
    "    * 5%有意水準で$\\text{H}_0$`female`=0は棄却できない。\n",
    "* `female:educ`\n",
    "\n",
    "    * 教育などの影響を省いた後の教育の収益率の差\n",
    "    * 5%有意水準で$\\text{H}_0$\n",
    "    `female:educ`=0は棄却できない。\n",
    "\n",
    "**$F$検定**\n",
    "\n",
    "$\\text{H}_0$: `female`$=$\n",
    "`female:educ`$=0$の制約を考えよう。"
   ]
  },
  {
   "cell_type": "code",
   "execution_count": 24,
   "metadata": {
    "hidden": true
   },
   "outputs": [
    {
     "data": {
      "text/plain": [
       "array(3.89455469e-14)"
      ]
     },
     "execution_count": 24,
     "metadata": {},
     "output_type": "execute_result"
    }
   ],
   "source": [
    "hypotheses = 'female=0, female:educ=0'\n",
    "\n",
    "res_2.f_test(hypotheses).pvalue"
   ]
  },
  {
   "cell_type": "markdown",
   "metadata": {
    "hidden": true
   },
   "source": [
    "$\\text{H}_0$は棄却される。\n",
    "\n",
    "$t$検定では，`female`と`female:educ`はそれぞれの帰無仮説が棄却されなかったが，$F$検定では制約が棄却された。一貫性がなく説明変数が不足している可能性がある。"
   ]
  },
  {
   "cell_type": "markdown",
   "metadata": {
    "heading_collapsed": true
   },
   "source": [
    "## カテゴリー変数"
   ]
  },
  {
   "cell_type": "markdown",
   "metadata": {
    "hidden": true
   },
   "source": [
    "カテゴリー変数とは定性的な変数であり，男女もカテゴリー変数の一種である。カテゴリー変数をダミー変数に変換するには2つの方法がある。\n",
    "\n",
    "1. `statsmodels`にはカテゴリー変数に自動的にダミー変数を割り当てる機能がある。操作は簡単で，単に回帰式の中で`C()`の中にカテゴリー変数を入れるだけである。\n",
    "1. `C()`を使わない方法。"
   ]
  },
  {
   "cell_type": "markdown",
   "metadata": {
    "heading_collapsed": true,
    "hidden": true
   },
   "source": [
    "### `C()`を使う方法"
   ]
  },
  {
   "cell_type": "markdown",
   "metadata": {
    "hidden": true
   },
   "source": [
    "式の中にダミー変数を入れるためには，変数が`pandas`のカテゴリー型変数に変換される必要がある。回帰式の中で`C()`を使うと，文字型データなどは自動的に変換される。"
   ]
  },
  {
   "cell_type": "markdown",
   "metadata": {
    "heading_collapsed": true,
    "hidden": true
   },
   "source": [
    "#### 例１"
   ]
  },
  {
   "cell_type": "markdown",
   "metadata": {
    "hidden": true
   },
   "source": [
    "例として，男女のカテゴリーがある`wage1`のデータセットをもう一度使う。"
   ]
  },
  {
   "cell_type": "code",
   "execution_count": 25,
   "metadata": {
    "hidden": true
   },
   "outputs": [],
   "source": [
    "df = wage1.loc[:,['wage', 'female', 'educ']]"
   ]
  },
  {
   "cell_type": "markdown",
   "metadata": {
    "hidden": true
   },
   "source": [
    "`df`のメソッド`replace()`を使って`female`の列の値を以下のルールに沿って変換し，それを`df`に`sex`という列として入れ直す。\n",
    "* 1 $\\Rightarrow$ `female`\n",
    "* 0 $\\Rightarrow$ `male`\n",
    "\n",
    "`replace()`の中は辞書になっている（`replace()`の代わりに`map()`でもOK）。"
   ]
  },
  {
   "cell_type": "code",
   "execution_count": 26,
   "metadata": {
    "hidden": true
   },
   "outputs": [],
   "source": [
    "df.loc[:,'sex'] = df['female'].replace({1:'female',0:'male'})"
   ]
  },
  {
   "cell_type": "code",
   "execution_count": 27,
   "metadata": {
    "hidden": true
   },
   "outputs": [
    {
     "data": {
      "text/html": [
       "<div>\n",
       "<style scoped>\n",
       "    .dataframe tbody tr th:only-of-type {\n",
       "        vertical-align: middle;\n",
       "    }\n",
       "\n",
       "    .dataframe tbody tr th {\n",
       "        vertical-align: top;\n",
       "    }\n",
       "\n",
       "    .dataframe thead th {\n",
       "        text-align: right;\n",
       "    }\n",
       "</style>\n",
       "<table border=\"1\" class=\"dataframe\">\n",
       "  <thead>\n",
       "    <tr style=\"text-align: right;\">\n",
       "      <th></th>\n",
       "      <th>wage</th>\n",
       "      <th>female</th>\n",
       "      <th>educ</th>\n",
       "      <th>sex</th>\n",
       "    </tr>\n",
       "  </thead>\n",
       "  <tbody>\n",
       "    <tr>\n",
       "      <th>0</th>\n",
       "      <td>3.10</td>\n",
       "      <td>1</td>\n",
       "      <td>11</td>\n",
       "      <td>female</td>\n",
       "    </tr>\n",
       "    <tr>\n",
       "      <th>1</th>\n",
       "      <td>3.24</td>\n",
       "      <td>1</td>\n",
       "      <td>12</td>\n",
       "      <td>female</td>\n",
       "    </tr>\n",
       "    <tr>\n",
       "      <th>2</th>\n",
       "      <td>3.00</td>\n",
       "      <td>0</td>\n",
       "      <td>11</td>\n",
       "      <td>male</td>\n",
       "    </tr>\n",
       "  </tbody>\n",
       "</table>\n",
       "</div>"
      ],
      "text/plain": [
       "   wage  female  educ     sex\n",
       "0  3.10       1    11  female\n",
       "1  3.24       1    12  female\n",
       "2  3.00       0    11    male"
      ]
     },
     "execution_count": 27,
     "metadata": {},
     "output_type": "execute_result"
    }
   ],
   "source": [
    "df.head(3)"
   ]
  },
  {
   "cell_type": "markdown",
   "metadata": {
    "hidden": true
   },
   "source": [
    "`sex`の変数を`C()`に入れて回帰式を書いて計算。"
   ]
  },
  {
   "cell_type": "code",
   "execution_count": 28,
   "metadata": {
    "hidden": true
   },
   "outputs": [
    {
     "data": {
      "text/plain": [
       "Intercept        -1.650545\n",
       "C(sex)[T.male]    2.273362\n",
       "educ              0.506452\n",
       "dtype: float64"
      ]
     },
     "execution_count": 28,
     "metadata": {},
     "output_type": "execute_result"
    }
   ],
   "source": [
    "form_c = 'wage ~  C(sex) + educ'\n",
    "\n",
    "res_c = ols(form_c, data=df).fit()\n",
    "\n",
    "res_c.params"
   ]
  },
  {
   "cell_type": "markdown",
   "metadata": {
    "hidden": true
   },
   "source": [
    "---\n",
    "`C(sex)[T.male]`について\n",
    "* `T`は`Treatment`の頭文字で，通常のダミー変数を設定することを示している。\n",
    "* `male`は`male`の変数であることを表しており，自動的に`female`が基本カテゴリーに設定されたことが分かる。\n",
    "\n",
    "（結果）\n",
    "\n",
    "`C(sex)[T.male]`は`female`に比べて`male`の賃金は約2.27ドル高いことを示している。"
   ]
  },
  {
   "cell_type": "markdown",
   "metadata": {
    "hidden": true
   },
   "source": [
    "---\n",
    "一方で，基本カテゴリーを手動で設定したい場合がある。その場合には`C()`に`Treatment(\"＜設定したいカテゴリー＞\")`を引数として追加する。\n",
    "\n",
    "（注意）`Treatment()`の中は double quotations `\" \"`を使用すること。\n",
    "\n",
    "例えば，`male`を基本カテゴリーとする。"
   ]
  },
  {
   "cell_type": "code",
   "execution_count": 29,
   "metadata": {
    "hidden": true
   },
   "outputs": [
    {
     "data": {
      "text/plain": [
       "Intercept                              0.622817\n",
       "C(sex, Treatment(\"male\"))[T.female]   -2.273362\n",
       "educ                                   0.506452\n",
       "dtype: float64"
      ]
     },
     "execution_count": 29,
     "metadata": {},
     "output_type": "execute_result"
    }
   ],
   "source": [
    "form_cm = 'wage ~  C(sex,Treatment(\"male\")) + educ'\n",
    "\n",
    "res_cm = ols(form_cm, data=df).fit()\n",
    "\n",
    "res_cm.params"
   ]
  },
  {
   "cell_type": "markdown",
   "metadata": {
    "hidden": true
   },
   "source": [
    "この結果は，`male`基本カテゴリーとする以下の結果と同じである。"
   ]
  },
  {
   "cell_type": "code",
   "execution_count": 30,
   "metadata": {
    "hidden": true
   },
   "outputs": [
    {
     "data": {
      "text/plain": [
       "Intercept    0.622817\n",
       "female      -2.273362\n",
       "educ         0.506452\n",
       "dtype: float64"
      ]
     },
     "execution_count": 30,
     "metadata": {},
     "output_type": "execute_result"
    }
   ],
   "source": [
    "form_ca = 'wage ~  female + educ'\n",
    "\n",
    "res_ca = ols(form_ca, data=df).fit()\n",
    "\n",
    "res_ca.params"
   ]
  },
  {
   "cell_type": "markdown",
   "metadata": {
    "heading_collapsed": true,
    "hidden": true
   },
   "source": [
    "#### 例２"
   ]
  },
  {
   "cell_type": "markdown",
   "metadata": {
    "hidden": true
   },
   "source": [
    "米国ニュージャージーとペンシルベニアのファースト・フード店で人種と所得によって価格差別をおこなっているかを検証する例を取り上げる。`wooldridge`パッケージのデータセット`discrim`には以下の変数が含まれている。\n",
    "* フライド・ポテトの平均価格（`pfries`）\n",
    "* 人口における黒人の比率（`prpblck`）\n",
    "* 平均所得（`income`）\n",
    "* ４つのファースト・フード店（`chain`; カテゴリー変数で1~4の数字が使われている）\n",
    "    * `1`: Berger King\n",
    "    * `2`: KFC\n",
    "    * `3`: Roy Rogers\n",
    "    * `4`: Wendy's"
   ]
  },
  {
   "cell_type": "code",
   "execution_count": 31,
   "metadata": {
    "hidden": true,
    "tags": [
     "output_scroll"
    ]
   },
   "outputs": [
    {
     "name": "stdout",
     "output_type": "stream",
     "text": [
      "name of dataset: discrim\n",
      "no of variables: 37\n",
      "no of observations: 410\n",
      "\n",
      "+----------+----------------------------------------------+\n",
      "| variable | label                                        |\n",
      "+----------+----------------------------------------------+\n",
      "| psoda    | price of medium soda, 1st wave               |\n",
      "| pfries   | price of small fries, 1st wave               |\n",
      "| pentree  | price entree (burger or chicken), 1st wave   |\n",
      "| wagest   | starting wage, 1st wave                      |\n",
      "| nmgrs    | number of managers, 1st wave                 |\n",
      "| nregs    | number of registers, 1st wave                |\n",
      "| hrsopen  | hours open, 1st wave                         |\n",
      "| emp      | number of employees, 1st wave                |\n",
      "| psoda2   | price of medium soday, 2nd wave              |\n",
      "| pfries2  | price of small fries, 2nd wave               |\n",
      "| pentree2 | price entree, 2nd wave                       |\n",
      "| wagest2  | starting wage, 2nd wave                      |\n",
      "| nmgrs2   | number of managers, 2nd wave                 |\n",
      "| nregs2   | number of registers, 2nd wave                |\n",
      "| hrsopen2 | hours open, 2nd wave                         |\n",
      "| emp2     | number of employees, 2nd wave                |\n",
      "| compown  | =1 if company owned                          |\n",
      "| chain    | BK = 1, KFC = 2, Roy Rogers = 3, Wendy's = 4 |\n",
      "| density  | population density, town                     |\n",
      "| crmrte   | crime rate, town                             |\n",
      "| state    | NJ = 1, PA = 2                               |\n",
      "| prpblck  | proportion black, zipcode                    |\n",
      "| prppov   | proportion in poverty, zipcode               |\n",
      "| prpncar  | proportion no car, zipcode                   |\n",
      "| hseval   | median housing value, zipcode                |\n",
      "| nstores  | number of stores, zipcode                    |\n",
      "| income   | median family income, zipcode                |\n",
      "| county   | county label                                 |\n",
      "| lpsoda   | log(psoda)                                   |\n",
      "| lpfries  | log(pfries)                                  |\n",
      "| lhseval  | log(hseval)                                  |\n",
      "| lincome  | log(income)                                  |\n",
      "| ldensity | log(density)                                 |\n",
      "| NJ       | =1 for New Jersey                            |\n",
      "| BK       | =1 if Burger King                            |\n",
      "| KFC      | =1 if Kentucky Fried Chicken                 |\n",
      "| RR       | =1 if Roy Rogers                             |\n",
      "+----------+----------------------------------------------+\n",
      "\n",
      "K. Graddy (1997), “Do Fast-Food Chains Price Discriminate on the Race\n",
      "and Income Characteristics of an Area?” Journal of Business and\n",
      "Economic Statistics 15, 391-401. Professor Graddy kindly provided the\n",
      "data set.\n"
     ]
    }
   ],
   "source": [
    "discrim = wooldridge.data('discrim')\n",
    "wooldridge.data('discrim',description=True)"
   ]
  },
  {
   "cell_type": "markdown",
   "metadata": {
    "hidden": true
   },
   "source": [
    "それぞれのファースト・フード店の数を確認する。"
   ]
  },
  {
   "cell_type": "code",
   "execution_count": 32,
   "metadata": {
    "hidden": true
   },
   "outputs": [
    {
     "data": {
      "text/plain": [
       "1    171\n",
       "3     99\n",
       "2     80\n",
       "4     60\n",
       "Name: chain, dtype: int64"
      ]
     },
     "execution_count": 32,
     "metadata": {},
     "output_type": "execute_result"
    }
   ],
   "source": [
    "discrim['chain'].value_counts()"
   ]
  },
  {
   "cell_type": "markdown",
   "metadata": {
    "hidden": true
   },
   "source": [
    "OLS推定をおこなう。"
   ]
  },
  {
   "cell_type": "code",
   "execution_count": 33,
   "metadata": {
    "hidden": true
   },
   "outputs": [
    {
     "name": "stdout",
     "output_type": "stream",
     "text": [
      "==================================================================================\n",
      "                     coef    std err          t      P>|t|      [0.025      0.975]\n",
      "----------------------------------------------------------------------------------\n",
      "Intercept         -1.0812      0.222     -4.860      0.000      -1.519      -0.644\n",
      "C(chain)[T.2]     -0.0682      0.014     -4.943      0.000      -0.095      -0.041\n",
      "C(chain)[T.3]      0.0811      0.013      6.215      0.000       0.055       0.107\n",
      "C(chain)[T.4]     -0.0434      0.015     -2.892      0.004      -0.073      -0.014\n",
      "prpblck            0.1317      0.031      4.185      0.000       0.070       0.194\n",
      "np.log(income)     0.0914      0.021      4.441      0.000       0.051       0.132\n",
      "==================================================================================\n"
     ]
    }
   ],
   "source": [
    "form_p = 'np.log(pfries) ~ prpblck + np.log(income) + C(chain)'\n",
    "\n",
    "res_p = ols(form_p, data=discrim).fit()\n",
    "\n",
    "print(res_p.summary().tables[1])"
   ]
  },
  {
   "cell_type": "markdown",
   "metadata": {
    "hidden": true
   },
   "source": [
    "自動的にBerger Kingが基本カテゴリーに設定されている。\n",
    "\n",
    "（結果）\n",
    "* BKとKFCの価格比較\n",
    "\n",
    "    $$\n",
    "    \\ln P_{\\text{BK}}-\\ln P_{\\text{KFC}}=-0.0682 \\\\\n",
    "    \\quad\\Downarrow \\\\\n",
    "    \\dfrac{P_{\\text{BK}}}{P_{\\text{KFC}}}=e^{-0.0682}=1.071\n",
    "    $$\n",
    "    \n",
    "* `prpblck`と`np.log(income)`の$p$値は`0`に近く，帰無仮説は１％有意水準でも棄却できる。"
   ]
  },
  {
   "cell_type": "markdown",
   "metadata": {
    "heading_collapsed": true,
    "hidden": true
   },
   "source": [
    "### `C()`を使わない方法"
   ]
  },
  {
   "cell_type": "markdown",
   "metadata": {
    "hidden": true
   },
   "source": [
    "例２を使って説明する。まず説明の前準備として`discrim`の中で使う変数だけを取り出そう。"
   ]
  },
  {
   "cell_type": "code",
   "execution_count": 34,
   "metadata": {
    "hidden": true
   },
   "outputs": [
    {
     "data": {
      "text/html": [
       "<div>\n",
       "<style scoped>\n",
       "    .dataframe tbody tr th:only-of-type {\n",
       "        vertical-align: middle;\n",
       "    }\n",
       "\n",
       "    .dataframe tbody tr th {\n",
       "        vertical-align: top;\n",
       "    }\n",
       "\n",
       "    .dataframe thead th {\n",
       "        text-align: right;\n",
       "    }\n",
       "</style>\n",
       "<table border=\"1\" class=\"dataframe\">\n",
       "  <thead>\n",
       "    <tr style=\"text-align: right;\">\n",
       "      <th></th>\n",
       "      <th>pfries</th>\n",
       "      <th>prpblck</th>\n",
       "      <th>income</th>\n",
       "      <th>chain</th>\n",
       "    </tr>\n",
       "  </thead>\n",
       "  <tbody>\n",
       "    <tr>\n",
       "      <th>0</th>\n",
       "      <td>1.06</td>\n",
       "      <td>0.171154</td>\n",
       "      <td>44534.0</td>\n",
       "      <td>3</td>\n",
       "    </tr>\n",
       "    <tr>\n",
       "      <th>1</th>\n",
       "      <td>0.91</td>\n",
       "      <td>0.171154</td>\n",
       "      <td>44534.0</td>\n",
       "      <td>1</td>\n",
       "    </tr>\n",
       "    <tr>\n",
       "      <th>2</th>\n",
       "      <td>0.91</td>\n",
       "      <td>0.047360</td>\n",
       "      <td>41164.0</td>\n",
       "      <td>1</td>\n",
       "    </tr>\n",
       "    <tr>\n",
       "      <th>3</th>\n",
       "      <td>1.02</td>\n",
       "      <td>0.052839</td>\n",
       "      <td>50366.0</td>\n",
       "      <td>3</td>\n",
       "    </tr>\n",
       "    <tr>\n",
       "      <th>4</th>\n",
       "      <td>NaN</td>\n",
       "      <td>0.034480</td>\n",
       "      <td>72287.0</td>\n",
       "      <td>1</td>\n",
       "    </tr>\n",
       "  </tbody>\n",
       "</table>\n",
       "</div>"
      ],
      "text/plain": [
       "   pfries   prpblck   income  chain\n",
       "0    1.06  0.171154  44534.0      3\n",
       "1    0.91  0.171154  44534.0      1\n",
       "2    0.91  0.047360  41164.0      1\n",
       "3    1.02  0.052839  50366.0      3\n",
       "4     NaN  0.034480  72287.0      1"
      ]
     },
     "execution_count": 34,
     "metadata": {},
     "output_type": "execute_result"
    }
   ],
   "source": [
    "df_c = discrim.loc[:,['pfries', 'prpblck', 'income', 'chain']]\n",
    "df_c.head()"
   ]
  },
  {
   "cell_type": "markdown",
   "metadata": {
    "hidden": true
   },
   "source": [
    "`replace()`を使って`chain`の列の値を以下のルールに沿って変換する。\n",
    "* `1` $\\Rightarrow$ Berger King\n",
    "* `2` $\\Rightarrow$ KFC\n",
    "* `3` $\\Rightarrow$ Roy Rogers\n",
    "* `4` $\\Rightarrow$ Wendy's"
   ]
  },
  {
   "cell_type": "code",
   "execution_count": 35,
   "metadata": {
    "hidden": true
   },
   "outputs": [
    {
     "data": {
      "text/html": [
       "<div>\n",
       "<style scoped>\n",
       "    .dataframe tbody tr th:only-of-type {\n",
       "        vertical-align: middle;\n",
       "    }\n",
       "\n",
       "    .dataframe tbody tr th {\n",
       "        vertical-align: top;\n",
       "    }\n",
       "\n",
       "    .dataframe thead th {\n",
       "        text-align: right;\n",
       "    }\n",
       "</style>\n",
       "<table border=\"1\" class=\"dataframe\">\n",
       "  <thead>\n",
       "    <tr style=\"text-align: right;\">\n",
       "      <th></th>\n",
       "      <th>pfries</th>\n",
       "      <th>prpblck</th>\n",
       "      <th>income</th>\n",
       "      <th>chain</th>\n",
       "    </tr>\n",
       "  </thead>\n",
       "  <tbody>\n",
       "    <tr>\n",
       "      <th>0</th>\n",
       "      <td>1.06</td>\n",
       "      <td>0.171154</td>\n",
       "      <td>44534.0</td>\n",
       "      <td>Roy_Rogers</td>\n",
       "    </tr>\n",
       "    <tr>\n",
       "      <th>1</th>\n",
       "      <td>0.91</td>\n",
       "      <td>0.171154</td>\n",
       "      <td>44534.0</td>\n",
       "      <td>Berger_King</td>\n",
       "    </tr>\n",
       "    <tr>\n",
       "      <th>2</th>\n",
       "      <td>0.91</td>\n",
       "      <td>0.047360</td>\n",
       "      <td>41164.0</td>\n",
       "      <td>Berger_King</td>\n",
       "    </tr>\n",
       "    <tr>\n",
       "      <th>3</th>\n",
       "      <td>1.02</td>\n",
       "      <td>0.052839</td>\n",
       "      <td>50366.0</td>\n",
       "      <td>Roy_Rogers</td>\n",
       "    </tr>\n",
       "    <tr>\n",
       "      <th>4</th>\n",
       "      <td>NaN</td>\n",
       "      <td>0.034480</td>\n",
       "      <td>72287.0</td>\n",
       "      <td>Berger_King</td>\n",
       "    </tr>\n",
       "  </tbody>\n",
       "</table>\n",
       "</div>"
      ],
      "text/plain": [
       "   pfries   prpblck   income        chain\n",
       "0    1.06  0.171154  44534.0   Roy_Rogers\n",
       "1    0.91  0.171154  44534.0  Berger_King\n",
       "2    0.91  0.047360  41164.0  Berger_King\n",
       "3    1.02  0.052839  50366.0   Roy_Rogers\n",
       "4     NaN  0.034480  72287.0  Berger_King"
      ]
     },
     "execution_count": 35,
     "metadata": {},
     "output_type": "execute_result"
    }
   ],
   "source": [
    "df_c.loc[:,'chain'] = df_c['chain'].replace(\n",
    "                        {1:'Berger_King',2:'KFC',3:'Roy_Rogers',4:'Wendys'})\n",
    "\n",
    "df_c.head()"
   ]
  },
  {
   "cell_type": "markdown",
   "metadata": {
    "hidden": true
   },
   "source": [
    "`DataFrame`の特徴を確認する。"
   ]
  },
  {
   "cell_type": "code",
   "execution_count": 36,
   "metadata": {
    "hidden": true
   },
   "outputs": [
    {
     "name": "stdout",
     "output_type": "stream",
     "text": [
      "<class 'pandas.core.frame.DataFrame'>\n",
      "RangeIndex: 410 entries, 0 to 409\n",
      "Data columns (total 4 columns):\n",
      " #   Column   Non-Null Count  Dtype  \n",
      "---  ------   --------------  -----  \n",
      " 0   pfries   393 non-null    float64\n",
      " 1   prpblck  409 non-null    float64\n",
      " 2   income   409 non-null    float64\n",
      " 3   chain    410 non-null    object \n",
      "dtypes: float64(3), object(1)\n",
      "memory usage: 12.9+ KB\n"
     ]
    }
   ],
   "source": [
    "df_c.info()"
   ]
  },
  {
   "cell_type": "markdown",
   "metadata": {
    "hidden": true
   },
   "source": [
    "列`chain`は`object`となっており文字型であることがわかる。"
   ]
  },
  {
   "cell_type": "markdown",
   "metadata": {
    "hidden": true
   },
   "source": [
    "＜`C()`を使わない方法＞\n",
    "* `pandas`の関数である`pd.Categorical()`を使って列`chain`を`pandas`のカテゴリー型に変換する。"
   ]
  },
  {
   "cell_type": "code",
   "execution_count": 37,
   "metadata": {
    "hidden": true
   },
   "outputs": [
    {
     "name": "stdout",
     "output_type": "stream",
     "text": [
      "<class 'pandas.core.frame.DataFrame'>\n",
      "RangeIndex: 410 entries, 0 to 409\n",
      "Data columns (total 4 columns):\n",
      " #   Column   Non-Null Count  Dtype   \n",
      "---  ------   --------------  -----   \n",
      " 0   pfries   393 non-null    float64 \n",
      " 1   prpblck  409 non-null    float64 \n",
      " 2   income   409 non-null    float64 \n",
      " 3   chain    410 non-null    category\n",
      "dtypes: category(1), float64(3)\n",
      "memory usage: 10.3 KB\n"
     ]
    }
   ],
   "source": [
    "df_c['chain'] = pd.Categorical(df_c['chain'])\n",
    "df_c.info()"
   ]
  },
  {
   "cell_type": "markdown",
   "metadata": {
    "hidden": true
   },
   "source": [
    "列`chain`は`category`になっている。後は，`chain`をそのまま回帰式に使うだけである。"
   ]
  },
  {
   "cell_type": "code",
   "execution_count": 38,
   "metadata": {
    "hidden": true
   },
   "outputs": [
    {
     "name": "stdout",
     "output_type": "stream",
     "text": [
      "=======================================================================================\n",
      "                          coef    std err          t      P>|t|      [0.025      0.975]\n",
      "---------------------------------------------------------------------------------------\n",
      "Intercept              -1.0812      0.222     -4.860      0.000      -1.519      -0.644\n",
      "chain[T.KFC]           -0.0682      0.014     -4.943      0.000      -0.095      -0.041\n",
      "chain[T.Roy_Rogers]     0.0811      0.013      6.215      0.000       0.055       0.107\n",
      "chain[T.Wendys]        -0.0434      0.015     -2.892      0.004      -0.073      -0.014\n",
      "prpblck                 0.1317      0.031      4.185      0.000       0.070       0.194\n",
      "np.log(income)          0.0914      0.021      4.441      0.000       0.051       0.132\n",
      "=======================================================================================\n"
     ]
    }
   ],
   "source": [
    "form_c = 'np.log(pfries) ~ prpblck + np.log(income) + chain'\n",
    "\n",
    "res_c = ols(form_c, data=df_c).fit()\n",
    "\n",
    "print(res_c.summary().tables[1])"
   ]
  },
  {
   "cell_type": "markdown",
   "metadata": {
    "hidden": true
   },
   "source": [
    "`C()`を使って推定した結果と同じである。"
   ]
  }
 ],
 "metadata": {
  "celltoolbar": "Tags",
  "kernel_info": {
   "name": "py4etrics"
  },
  "kernelspec": {
   "display_name": "latest",
   "language": "python",
   "name": "latest"
  },
  "language_info": {
   "codemirror_mode": {
    "name": "ipython",
    "version": 3
   },
   "file_extension": ".py",
   "mimetype": "text/x-python",
   "name": "python",
   "nbconvert_exporter": "python",
   "pygments_lexer": "ipython3",
   "version": "3.8.2"
  },
  "nteract": {
   "version": "0.15.0"
  },
  "toc": {
   "base_numbering": 1,
   "nav_menu": {},
   "number_sections": true,
   "sideBar": true,
   "skip_h1_title": false,
   "title_cell": "Table of Contents",
   "title_sidebar": "Contents",
   "toc_cell": false,
   "toc_position": {},
   "toc_section_display": true,
   "toc_window_display": false
  }
 },
 "nbformat": 4,
 "nbformat_minor": 2
}
