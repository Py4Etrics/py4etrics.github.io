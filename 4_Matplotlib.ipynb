{
 "cells": [
  {
   "cell_type": "markdown",
   "metadata": {},
   "source": [
    "# Matplotlib"
   ]
  },
  {
   "cell_type": "markdown",
   "metadata": {},
   "source": [
    "<div name=\"html-admonition\" style=\"font-size: 0.8em\">\n",
    "<input type=\"button\" onclick=\"location.href='https://translate.google.com/translate?hl=&sl=ja&tl=en&u='+window.location;\" value=\"Google translation\" style=\"color:#ffffff;background-color:#008080; height:25px\" onmouseover=\"this.style.background='#99ccff'\" onmouseout=\"this.style.background='#008080'\"/> in English or the language of your choice.\n",
    "</div><br>"
   ]
  },
  {
   "cell_type": "markdown",
   "metadata": {},
   "source": [
    "Matplotlib（マットプロットリブ）は図を描くためのパッケージである。どこまで手の込んだ図を書くかによってコードが違ってくるが，ここでは`pyplot`というサブパッケージを使い，一番シンプルなコードになるものを紹介する。ここで説明することができない多くの機能が備わっているが，この[リンク](https://nbviewer.jupyter.org/github/jrjohansson/scientific-python-lectures/blob/master/Lecture-4-Matplotlib.ipynb)が参考になるだろう。\n",
    "\n",
    "通常，`plt`として読み込む。"
   ]
  },
  {
   "cell_type": "code",
   "execution_count": null,
   "metadata": {},
   "outputs": [],
   "source": [
    "import numpy as np\n",
    "import pandas as pd\n",
    "import matplotlib.pyplot as plt"
   ]
  },
  {
   "cell_type": "markdown",
   "metadata": {
    "heading_collapsed": true
   },
   "source": [
    "## 図の作成"
   ]
  },
  {
   "cell_type": "markdown",
   "metadata": {
    "hidden": true
   },
   "source": [
    "`df`を再度読み直す。今回は`year`を行ラベルにせず，インデックス番号をそのまま使う。"
   ]
  },
  {
   "cell_type": "code",
   "execution_count": null,
   "metadata": {
    "hidden": true
   },
   "outputs": [],
   "source": [
    "url = 'https://raw.githubusercontent.com/Haruyama-KobeU/Haruyama-KobeU.github.io/master/data/data1.csv'\n",
    "df = pd.read_csv(url).dropna()\n",
    "df.head(3)"
   ]
  },
  {
   "cell_type": "markdown",
   "metadata": {
    "hidden": true
   },
   "source": [
    "`gdp`を縦軸にした図を描く。**Jupyter Notebook**を使うと最小限必要なコードは１行となる。"
   ]
  },
  {
   "cell_type": "code",
   "execution_count": null,
   "metadata": {
    "hidden": true
   },
   "outputs": [],
   "source": [
    "plt.plot('gdp', data=df);"
   ]
  },
  {
   "cell_type": "markdown",
   "metadata": {
    "hidden": true
   },
   "source": [
    "* `()`内の最初の変数は縦軸の変数，次はデータの指定\n",
    "    * 下で説明するが最初の変数は横軸の変数が入ることになるが，この例では省略されているため，デフォルトとして行のインデックスが使われている。\n",
    "* デフォルトは線グラフ\n",
    "* 行の最後に`;`があることに注意。これは「以降の出力をストップ」といいう意味である。\n",
    "    * `;`は省略可能。省略すると特に必要でないものが示される（試そう！）\n",
    "\n",
    "`;`を使う代わりに\n",
    "```\n",
    "plt.plot('gdp', data=df)\n",
    "pass\n",
    "```\n",
    "としても同じ結果となる。`pass`は文字通り「それ以降の出力をパスする」という意味。もしくは\n",
    "```\n",
    "_ = plt.plot('gdp', data=df)\n",
    "```\n",
    "でもOK。ここでは，それ以降の出力を`_`に割り当てている。`_`を単独で使う場合，必要でない値を代入する変数によく使われる記号である。"
   ]
  },
  {
   "cell_type": "markdown",
   "metadata": {
    "hidden": true
   },
   "source": [
    "---\n",
    "上の図の不満な点は，横軸が不明なこと（単に`gdp`のデータ数に従って1,2,..と番号が振られている）。"
   ]
  },
  {
   "cell_type": "markdown",
   "metadata": {
    "hidden": true
   },
   "source": [
    "````{note}\n",
    "上のコードでは横軸の変数が指定されておらず，デフォルトでは行インデックスが使われことになる。従って，\n",
    "```\n",
    "df = df.set_index('year')\n",
    "```\n",
    "のように`year`を行インデックスに指定すると，自動的に横軸には`year`が入ることになる。このことを理解した上で，以下では横軸を明示的に指定する場合を想定して説明を続ける。\n",
    "````"
   ]
  },
  {
   "cell_type": "markdown",
   "metadata": {
    "hidden": true
   },
   "source": [
    "横軸の変数を指定するには，`()`内に該当する変数を追加するだけである。ただ順番に気をつけること。"
   ]
  },
  {
   "cell_type": "code",
   "execution_count": null,
   "metadata": {
    "hidden": true
   },
   "outputs": [],
   "source": [
    "plt.plot('year', 'gdp', data=df);"
   ]
  },
  {
   "cell_type": "markdown",
   "metadata": {
    "hidden": true
   },
   "source": [
    "コードをみて分かるように\n",
    "* `()`内の最初の変数は横軸の変数，２番目の変数は縦軸の変数，３番目はデータの指定\n",
    "\n",
    "３番目のデータ指定は「このデータの中にある`year`と`gdp`を使う」ことを意味しており，データ指定がなければ`Python`はどの`year`と`gdp`か分からずにエラーとなる。一方で，データ指定をせずに，直接横軸・縦軸の変数を指定することも可能である。以下がその例："
   ]
  },
  {
   "cell_type": "code",
   "execution_count": null,
   "metadata": {
    "hidden": true
   },
   "outputs": [],
   "source": [
    "plt.plot(df['year'], df['gdp']);"
   ]
  },
  {
   "cell_type": "markdown",
   "metadata": {
    "hidden": true
   },
   "source": [
    "上の図で何をプロットしているかを分かっている場合はこれで十分だが，論文などに使う場合は不十分である。以下では「飾り付け」をする。"
   ]
  },
  {
   "cell_type": "code",
   "execution_count": null,
   "metadata": {
    "hidden": true
   },
   "outputs": [],
   "source": [
    "plt.plot('year', 'gdp',       # 横軸の変数，　　縦軸の変数\n",
    "         color='red',         # 色 ：　赤\n",
    "         linestyle='dashed',  # 線のタイプ：点線\n",
    "         marker='o',          # マーカー：点\n",
    "         data=df)             # データの指定\n",
    "plt.xlabel('year')            # 横軸のラベル\n",
    "plt.ylabel('GDP')             # 縦軸のラベル\n",
    "plt.title('Gross Domestic Product', size=20)  # 図のタイトル   size=は省略可能\n",
    "plt.grid()                    # グリッドの表示"
   ]
  },
  {
   "cell_type": "markdown",
   "metadata": {
    "hidden": true
   },
   "source": [
    "様々なオプションが用意されている\n",
    "\n",
    "\n",
    "|色  | 省略形|\n",
    "|:---|:---:|\n",
    "|blue | b  |\n",
    "|green | g |\n",
    "|red | r   |\n",
    "|cyan | c  |\n",
    "|magenta | m |\n",
    "|yellow | y |\n",
    "|black | k |\n",
    "|white | w |\n",
    "\n",
    "\n",
    "|線のスタイル | 説明 |\n",
    "|:---:|:---------|\n",
    "|-  | solid line style |\n",
    "|-- |dashed line style |\n",
    "|-. | dash-dot line style |\n",
    "|:  | dotted line style |\n",
    "\n",
    "|マーカー | 説明 |\n",
    "|:------:|:----|\n",
    "|.\t| point marker |\n",
    "|,\t| pixel marker |\n",
    "|o\t| circle marker |\n",
    "|v\t| triangle_down marker |\n",
    "|\\* | star marker |\n",
    "|+\t|plus marker |\n",
    "|x\t| x marker |\n",
    "\n",
    "数多くのオプションがある。[ここを参照](https://matplotlib.org/api/pyplot_api.html#matplotlib.pyplot.plot)。"
   ]
  },
  {
   "cell_type": "markdown",
   "metadata": {
    "hidden": true
   },
   "source": [
    "このようなオプションも簡略化して書くこともできる。例えば，上のコードで\n",
    "```\n",
    "color='red',\n",
    "linestyle='dashed',\n",
    "marker='o',\n",
    "```\n",
    "の３行を以下の一行にまとめることも可能である。\n",
    "```\n",
    "'r--o',\n",
    "```"
   ]
  },
  {
   "cell_type": "markdown",
   "metadata": {
    "hidden": true
   },
   "source": [
    "**複数の図**\n",
    "\n",
    "単に`plt.plot()`を並べるだけである。"
   ]
  },
  {
   "cell_type": "code",
   "execution_count": null,
   "metadata": {
    "hidden": true
   },
   "outputs": [],
   "source": [
    "plt.plot('year', 'gdp', data=df)\n",
    "plt.plot('year', 'con', data=df)\n",
    "plt.plot('year', 'inv', data=df)\n",
    "plt.legend();   # 凡例"
   ]
  },
  {
   "cell_type": "markdown",
   "metadata": {
    "hidden": true
   },
   "source": [
    "**散布図の描画**"
   ]
  },
  {
   "cell_type": "code",
   "execution_count": null,
   "metadata": {
    "hidden": true
   },
   "outputs": [],
   "source": [
    "plt.scatter('gdp', 'con', data=df)  # 横軸の変数　　縦軸の変数\n",
    "plt.xlabel('GDP')                   #　横軸のラベル （省略可）\n",
    "plt.ylabel('Consumption');          # 縦軸のラベル（省略可）"
   ]
  },
  {
   "cell_type": "markdown",
   "metadata": {
    "hidden": true
   },
   "source": [
    "次のコードでも同じ結果となる。"
   ]
  },
  {
   "cell_type": "code",
   "execution_count": null,
   "metadata": {
    "hidden": true
   },
   "outputs": [],
   "source": [
    "plt.plot('gdp', 'con', 'o',  data=df)\n",
    "plt.xlabel('GDP')\n",
    "plt.ylabel('Consumption');"
   ]
  },
  {
   "cell_type": "markdown",
   "metadata": {
    "hidden": true
   },
   "source": [
    "ここで指定した`'o'`は，`marker='o', linestyle=''`の省略形である。例えば，`'o'`の代わりに`'o-'`として表示の変化を確かめてみよう。"
   ]
  },
  {
   "cell_type": "markdown",
   "metadata": {
    "hidden": true
   },
   "source": [
    "**ヒストグラム**"
   ]
  },
  {
   "cell_type": "code",
   "execution_count": null,
   "metadata": {
    "hidden": true
   },
   "outputs": [],
   "source": [
    "plt.hist(df['gdp'])\n",
    "plt.title('GDP')   # 省略可\n",
    "pass"
   ]
  },
  {
   "cell_type": "markdown",
   "metadata": {
    "hidden": true
   },
   "source": [
    "**パイチャート**"
   ]
  },
  {
   "cell_type": "code",
   "execution_count": null,
   "metadata": {
    "hidden": true
   },
   "outputs": [],
   "source": [
    "lab = ['Investment', 'Consumption']  # ラベルの作成\n",
    "dt = df.loc[1,['inv','con']]         # 2001年のデータを取り出す\n",
    "plt.pie(dt,                          # データの指定\n",
    "        labels=lab,                  # ラベルの指定 （省略可だが，ある方がわかりやすい）\n",
    "        autopct='%.2f')              # ％表示  （省略可）\n",
    "plt.title('GDP Share in 2001')       # タイトル （省略可）\n",
    "pass"
   ]
  },
  {
   "cell_type": "markdown",
   "metadata": {
    "hidden": true
   },
   "source": [
    "**ボックスプロット**\n",
    "\n",
    "解釈については[このサイト](https://towardsdatascience.com/understanding-boxplots-5e2df7bcbd51)を参照。"
   ]
  },
  {
   "cell_type": "code",
   "execution_count": null,
   "metadata": {
    "hidden": true
   },
   "outputs": [],
   "source": [
    "plt.boxplot(df['gdp'])\n",
    "plt.title('GDP')   # 省略可\n",
    "pass"
   ]
  },
  {
   "cell_type": "markdown",
   "metadata": {
    "heading_collapsed": true
   },
   "source": [
    "## 複数の図を並べて表示"
   ]
  },
  {
   "cell_type": "markdown",
   "metadata": {
    "hidden": true
   },
   "source": [
    "複数の図を「１つの図」として描画するために`subplot(a,b,c)`を使い，行と列を指定してそれぞれの図の位置を設定する。\n",
    "* `a`：行の数\n",
    "* `b`：列の数\n",
    "* `c`：行・列を使って位置を指定\n",
    "\n",
    "＜例：２×２の場合＞\n",
    "\n",
    "`subplot(2,2,1)`: 左上の位置を指定\n",
    "\n",
    "`subplot(2,2,2)`: 右上の位置を指定\n",
    "\n",
    "`subplot(2,2,3)`: 左下の位置を指定\n",
    "\n",
    "`subplot(2,2,4)`: 右下の位置を指定"
   ]
  },
  {
   "cell_type": "markdown",
   "metadata": {
    "hidden": true
   },
   "source": [
    "次の例では線形関数と２次関数を描くが，まず横軸の変数`x`のデータを作成する。"
   ]
  },
  {
   "cell_type": "code",
   "execution_count": null,
   "metadata": {
    "hidden": true
   },
   "outputs": [],
   "source": [
    "x = np.linspace(-2,2,100)"
   ]
  },
  {
   "cell_type": "markdown",
   "metadata": {
    "hidden": true
   },
   "source": [
    "図の作成"
   ]
  },
  {
   "cell_type": "code",
   "execution_count": null,
   "metadata": {
    "hidden": true
   },
   "outputs": [],
   "source": [
    "plt.figure(figsize=(10, 8))  # 図の大きさを設定（省略可）\n",
    "\n",
    "# n = 5\n",
    "plt.subplot(221)\n",
    "plt.plot(x, x)\n",
    "plt.title('A Positive Slope')\n",
    "\n",
    "# n = 10\n",
    "plt.subplot(222)\n",
    "plt.plot(x, -x)\n",
    "plt.title('A Negative Slope')\n",
    "\n",
    "# n = 100\n",
    "plt.subplot(223)\n",
    "plt.plot(x, x**2)\n",
    "plt.title('A U Shape')\n",
    "\n",
    "# n = 1000\n",
    "plt.subplot(224)\n",
    "plt.plot(x, -x**2)\n",
    "plt.title('An Inverted U Shape')\n",
    "pass"
   ]
  },
  {
   "cell_type": "markdown",
   "metadata": {
    "heading_collapsed": true
   },
   "source": [
    "## 図の保存方法"
   ]
  },
  {
   "cell_type": "markdown",
   "metadata": {
    "hidden": true
   },
   "source": [
    "### 方法１"
   ]
  },
  {
   "cell_type": "markdown",
   "metadata": {
    "hidden": true
   },
   "source": [
    "例として，図を`png`ファイルで保存する場合を考えよう。\n",
    "\n",
    "＜開いている`Jupyter Notebook`のファイルと同じフォルダーに保存する場合＞\n",
    "\n",
    "```\n",
    "plt.savefig('<ファイル名.png')\n",
    "```\n",
    "\n",
    "を使う。この場合`;`や`pass`を使を必要はない。"
   ]
  },
  {
   "cell_type": "code",
   "execution_count": null,
   "metadata": {
    "hidden": true
   },
   "outputs": [],
   "source": [
    "plt.plot('gdp', data=df)\n",
    "plt.savefig('gdp.png')"
   ]
  },
  {
   "cell_type": "markdown",
   "metadata": {
    "hidden": true
   },
   "source": [
    "保存できる画像ファイルの種類には以下がある。\n",
    "\n",
    "`png`，`jpg`，`pdf`，`ps`，`eps`，`svg`\n",
    "\n",
    "これらのフォーマットで保存する場合は，上のコードの`png`を`pdf`等に入れ替える。\n",
    "\n",
    "---\n",
    "＜Mac: 開いている`Jupyter Notebook`のファイルのサブフォルダーフォルダーに保存する場合＞\n",
    "\n",
    "例えば，サブフォルダー`temp`に画像を保存したい場合は\n",
    "```\n",
    "plt.savefig('./temp/<ファイル名.png')\n",
    "```\n",
    "とする。ここで`.`は開いている`Jupyter Notebook`のファイルがあるフォルダーを表しており，セル内で`pwd`を実行すると表示される。"
   ]
  },
  {
   "cell_type": "markdown",
   "metadata": {
    "hidden": true
   },
   "source": [
    "```{note}\n",
    "TerminalもしくはGit Bashで使うコマンド`pwd`をコードセルで使う事ができる。`%pwd`を実行すると`Jupyter Notebook`のカレント・ディレクトリのパスが表示される。`%`が最初にくるコマンドはMagic Commandと呼ばれるものであり，この他`%ls`や以下で説明する`%matplotlib`もある。非常に便利なので[このサイト](https://ipython.readthedocs.io/en/stable/interactive/magics.html)を参照して欲しい。\n",
    "```"
   ]
  },
  {
   "cell_type": "markdown",
   "metadata": {
    "hidden": true
   },
   "source": [
    "### 方法２"
   ]
  },
  {
   "cell_type": "markdown",
   "metadata": {
    "hidden": true
   },
   "source": [
    "この章の最初に次の３つのパッケージをインポートした。\n",
    "```\n",
    "import numpy as np\n",
    "import pandas as pd\n",
    "import matplotlib.pyplot as plt\n",
    "```\n",
    "第二の方法は，`matplotlib`を読み込む前に次のように`%matplotlib notebook`を読み込む。\n",
    "```\n",
    "%matplotlib notebook\n",
    "import numpy as np\n",
    "import pandas as pd\n",
    "import matplotlib.pyplot as plt\n",
    "```\n",
    "\n",
    "`%matplotlib notebook`を読み込み図示すると図を保存するアイコンが出てくるのでそれを押してみよう。"
   ]
  },
  {
   "cell_type": "markdown",
   "metadata": {
    "hidden": true
   },
   "source": [
    "````{warning}\n",
    "次のようなメッセージが表示される場合は，メニューから＜Kernel＞ → ＜Restart＞を選んで最初から読み直すと良いだろう。\n",
    "```\n",
    "Warning: Cannot change to a different GUI toolkit\n",
    "```\n",
    "````"
   ]
  },
  {
   "cell_type": "markdown",
   "metadata": {
    "heading_collapsed": true,
    "hidden": true
   },
   "source": [
    "### 方法３"
   ]
  },
  {
   "cell_type": "markdown",
   "metadata": {
    "hidden": true
   },
   "source": [
    "方法２の`%matplotlib notebook`の代わりに`%matplotlib qt`を読み込む。\n",
    "```\n",
    "%matplotlib qt\n",
    "import numpy as np\n",
    "import pandas as pd\n",
    "import matplotlib.pyplot as plt\n",
    "```\n",
    "\n",
    "図がポップアップとして表示され図を保存するアイコンが出てくるのでそれを押してみよう。"
   ]
  },
  {
   "cell_type": "markdown",
   "metadata": {
    "hidden": true
   },
   "source": [
    "````{warning}\n",
    "次のようなメッセージが表示される場合は，メニューから＜Kernel＞ → ＜Restart＞を選んで最初から読み直すと良いだろう。\n",
    "```\n",
    "Warning: Cannot change to a different GUI toolkit\n",
    "```\n",
    "````"
   ]
  }
 ],
 "metadata": {
  "kernel_info": {
   "name": "python3"
  },
  "kernelspec": {
   "display_name": "Python 3 (ipykernel)",
   "language": "python",
   "name": "python3"
  },
  "language_info": {
   "codemirror_mode": {
    "name": "ipython",
    "version": 3
   },
   "file_extension": ".py",
   "mimetype": "text/x-python",
   "name": "python",
   "nbconvert_exporter": "python",
   "pygments_lexer": "ipython3",
   "version": "3.10.4"
  },
  "nteract": {
   "version": "0.15.0"
  },
  "toc": {
   "base_numbering": 1,
   "nav_menu": {},
   "number_sections": true,
   "sideBar": true,
   "skip_h1_title": false,
   "title_cell": "Table of Contents",
   "title_sidebar": "Contents",
   "toc_cell": false,
   "toc_position": {},
   "toc_section_display": true,
   "toc_window_display": false
  }
 },
 "nbformat": 4,
 "nbformat_minor": 4
}
