{
 "cells": [
  {
   "cell_type": "markdown",
   "metadata": {},
   "source": [
    "# ３. 番外編\n",
    "**内容**\n",
    "\n",
    "1. {doc}`Gapminder`\n",
    "   - [Gapminder](https://www.gapminder.org)は世界経済のGDPなどデータを駆使し興味深い分析をおこなっているサイトであり、ここではその時系列データを図示する。\n",
    "1. {doc}`Descriptive_stats_vs_Graphs`\n",
    "   - 記述統計だけではデータの性質は分からないことを示す有名なデータを紹介する。\n",
    "\n",
    "```{toctree}\n",
    ":hidden:\n",
    ":titlesonly:\n",
    "\n",
    "\n",
    "Gapminder\n",
    "Descriptive_stats_vs_Graphs\n",
    "```"
   ]
  }
 ],
 "metadata": {
  "jupytext": {
   "text_representation": {
    "extension": ".md",
    "format_name": "myst"
   }
  },
  "kernelspec": {
   "display_name": "Python 3",
   "language": "python",
   "name": "python3"
  },
  "language_info": {
   "codemirror_mode": {
    "name": "ipython",
    "version": 3
   },
   "file_extension": ".py",
   "mimetype": "text/x-python",
   "name": "python",
   "nbconvert_exporter": "python",
   "pygments_lexer": "ipython3",
   "version": "3.8.2"
  },
  "source_map": [
   10
  ]
 },
 "nbformat": 4,
 "nbformat_minor": 4
}