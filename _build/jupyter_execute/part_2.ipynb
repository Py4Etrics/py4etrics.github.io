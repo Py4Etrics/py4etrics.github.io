{
 "cells": [
  {
   "cell_type": "markdown",
   "id": "second-baker",
   "metadata": {},
   "source": [
    "<!--# ２. `Python`を使った計量経済分析-->\n",
    "# 目次と内容\n",
    "\n",
    "If you come here without expecting Japanese, please click [Google translated version](https://translate.google.com/translate?hl=&sl=ja&tl=en&u=https%3A%2F%2Fpy4etrics.github.io%2Fpart_2.html) in English or the language of your choice.\n",
    "\n",
    "---\n",
    "\n",
    "1. {doc}`7_Review_of_Statistics` \n",
    "   - Review of Statistics\n",
    "   - 平均、分散、共分散などの計算方法の復習\n",
    "1. {doc}`list_of_terms`\n",
    "   - List of Ecoometrics Terms\n",
    "   - 計量経済学用語のリスト\n",
    "1. {doc}`8_Simple_Regression`\n",
    "   - Simple Regression\n",
    "   - 最も簡単な計量経済分析\n",
    "1. {doc}`9_Multiple_Regression`\n",
    "   - Multiple Regression\n",
    "   - 複数の説明変数がある場合であり，ガウス・マルコフ定理について説明する。\n",
    "1. {doc}`10_Residuals`\n",
    "   - Residual Diagnostics\n",
    "   - 残差を使い回帰分析に必要な仮定が成立しているかを図示でチェックする。\n",
    "1. {doc}`11_Inference`\n",
    "   - Inference\n",
    "   - 仮説の検定など\n",
    "1. {doc}`12_Asymptotics`\n",
    "   - Large Sample Properties\n",
    "   - 標本サイズが大きい場合の分析\n",
    "1. {doc}`13_Dummies`\n",
    "   - Dummy and Categorical Variables\n",
    "   - ダミー変数やカテゴリー変数を扱う場合を考える\n",
    "1. {doc}`14_Hetero`\n",
    "   - Heteroskedasticity\n",
    "   - 残差の均一分散の過程が成立しない場合の対処方法\n",
    "1. {doc}`15_Pooling`\n",
    "   - Pooled Data and Panel Data\n",
    "   - データに時系列とクロスセクションの情報がある場合の分析\n",
    "1. {doc}`16_linearmodels`\n",
    "   - Intorduction to linearmodels package\n",
    "   - パネル・データと操作変数法を扱うためのパッケージについての説明\n",
    "1. {doc}`17_Panel`\n",
    "   - Fixed Effects, Random Effects and Correlated Random Effects Models\n",
    "   - パネル・データの利点を最大限に利用する手法\n",
    "1. {doc}`18_Zero_Conditional_Mean`\n",
    "   - Violation of the Assumption of Zero Conditional Mean\n",
    "   - ガウス・マルコフ定理の１つの仮定である「残差の条件付き期待値がゼロ」が成立しない場合のバイアスをシミュレーションで確認する\n",
    "1. {doc}`19_IV2SLS`\n",
    "   - Instromental Variables and Two Stage Least  Squares\n",
    "   - 残差の条件付き期待値がゼロでない場合の対処方法\n",
    "1. {doc}`20_LogitProbit`\n",
    "   - Logit and Probit Models\n",
    "   - ロジット・モデルとプロビット・モデルを使った分析方法\n",
    "1. {doc}`21_TruncregTobitHeckit`\n",
    "   - Truncated Regression, Tobit and Heckit Models\n",
    "   - 切断回帰、Tobit、Heckitモデルを考える"
   ]
  }
 ],
 "metadata": {
  "jupytext": {
   "text_representation": {
    "extension": ".md",
    "format_name": "myst"
   }
  },
  "kernelspec": {
   "display_name": "Python 3",
   "language": "python",
   "name": "python3"
  },
  "language_info": {
   "codemirror_mode": {
    "name": "ipython",
    "version": 3
   },
   "file_extension": ".py",
   "mimetype": "text/x-python",
   "name": "python",
   "nbconvert_exporter": "python",
   "pygments_lexer": "ipython3",
   "version": "3.8.5"
  },
  "source_map": [
   10
  ]
 },
 "nbformat": 4,
 "nbformat_minor": 5
}