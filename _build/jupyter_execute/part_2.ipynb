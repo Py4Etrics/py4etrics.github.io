{
 "cells": [
  {
   "cell_type": "markdown",
   "metadata": {},
   "source": [
    "# ２. `Python`を使った計量経済分析\n",
    "**内容**\n",
    "\n",
    "1. {doc}`7_Review_of_Statistics`\n",
    "   - 平均、分散、共分散などの計算方法\n",
    "1. {doc}`8_Simple_Regression`\n",
    "   - 最も簡単な計量経済分析\n",
    "1. {doc}`9_Multiple_Regression`\n",
    "   - 複数の説明変数がある場合\n",
    "1. {doc}`10_Residuals`\n",
    "   - 残差を図示して回帰結果のチェック\n",
    "1. {doc}`11_Inference`\n",
    "   - 仮説の検定など\n",
    "1. {doc}`12_Asymptotics`\n",
    "   - 標本サイズが大きい場合の分析\n",
    "1. {doc}`13_Dummies`\n",
    "   - 質的変数を扱う場合\n",
    "1. {doc}`14_Heteroskedasticity`\n",
    "   - 残差の均一分散の過程が成立しない場合の対処方法\n",
    "1. {doc}`15_Pooling`\n",
    "   - データに時系列とクロスセクションの情報がある場合の分析\n",
    "1. {doc}`16_linearmodels`\n",
    "   - パネル・データと操作変数法を扱うためのパッケージについての説明\n",
    "1. {doc}`17_Panel`\n",
    "   - パネル・データの利点を最大限に利用する手法\n",
    "1. {doc}`18_Zero_Conditional_Mean`\n",
    "   - 残差の条件付き期待値がゼロでない場合のバイアスをシミュレーションで考える\n",
    "1. {doc}`19_IV2SLS`\n",
    "   - 残差の条件付き期待値がゼロでない場合の対処方法\n",
    "1. {doc}`20_LogitProbit`\n",
    "   - ロジット・モデルとプロビット・モデルを使った分析方法\n",
    "1. {doc}`21_TruncregTobitHeckit`\n",
    "   - 切断回帰、Tobit、Heckitモデルを考える\n",
    "\n",
    "```{toctree}\n",
    ":hidden:\n",
    ":titlesonly:\n",
    "\n",
    "\n",
    "7_Review_of_Statistics\n",
    "8_Simple_Regression\n",
    "9_Multiple_Regression\n",
    "10_Residuals\n",
    "11_Inference\n",
    "12_Asymptotics\n",
    "13_Dummies\n",
    "14_Heteroskedasticity\n",
    "15_Pooling\n",
    "16_linearmodels\n",
    "17_Panel\n",
    "18_Zero_Conditional_Mean\n",
    "19_IV2SLS\n",
    "20_LogitProbit\n",
    "21_TruncregTobitHeckit\n",
    "```"
   ]
  }
 ],
 "metadata": {
  "jupytext": {
   "text_representation": {
    "extension": ".md",
    "format_name": "myst"
   }
  },
  "kernelspec": {
   "display_name": "Python 3",
   "language": "python",
   "name": "python3"
  },
  "language_info": {
   "codemirror_mode": {
    "name": "ipython",
    "version": 3
   },
   "file_extension": ".py",
   "mimetype": "text/x-python",
   "name": "python",
   "nbconvert_exporter": "python",
   "pygments_lexer": "ipython3",
   "version": "3.8.2"
  },
  "source_map": [
   10
  ]
 },
 "nbformat": 4,
 "nbformat_minor": 4
}