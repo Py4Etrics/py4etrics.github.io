{
 "cells": [
  {
   "cell_type": "markdown",
   "metadata": {},
   "source": [
    "# パネル・データ分析"
   ]
  },
  {
   "cell_type": "code",
   "execution_count": 1,
   "metadata": {},
   "outputs": [],
   "source": [
    "import numpy as np\n",
    "from scipy.stats import norm, gaussian_kde\n",
    "import matplotlib.pyplot as plt\n",
    "import pandas as pd\n",
    "from linearmodels.panel.data import PanelData\n",
    "from linearmodels.panel import PanelOLS, PooledOLS, RandomEffects, compare\n",
    "from collections import OrderedDict\n",
    "import wooldridge\n",
    "from statsmodels.formula.api import ols"
   ]
  },
  {
   "cell_type": "markdown",
   "metadata": {},
   "source": [
    "パネル・データを使った次のモデルについて説明する。\n",
    "* 固定効果モデル（Fixed Effects Model）\n",
    "* ランダム効果モデル（Random Effects Model）\n",
    "* 相関ランダム効果モデル（Correlated Random Effects Model） "
   ]
  },
  {
   "cell_type": "markdown",
   "metadata": {
    "heading_collapsed": true
   },
   "source": [
    "## 固定効果モデル"
   ]
  },
  {
   "cell_type": "markdown",
   "metadata": {
    "heading_collapsed": true,
    "hidden": true
   },
   "source": [
    "### 説明"
   ]
  },
  {
   "cell_type": "markdown",
   "metadata": {
    "hidden": true
   },
   "source": [
    "パネル・データを使う場合の問題は観察単位の異質性を捉える変数 $a_i$ が説明変数 $x_{it}$ と相関することにより，単純なOLS推定量に異質性バイアスが発生することである。その対処方法として，回帰式から$a_i$をなくす１階差分推定について説明した。この章では，同じように$a_i$をなくす代替推定法として固定効果推定（Fixed Effects Estimator）について考える。まず，その基礎となる固定効果モデル（Fixed Effects Model; FEモデル）について解説する。"
   ]
  },
  {
   "cell_type": "markdown",
   "metadata": {
    "hidden": true
   },
   "source": [
    "次式を考えよう。\n",
    "\n",
    "$$y_{it}= \\beta_0 + a_i + \\beta_1x_{it}+u_{it}\\qquad i=1,2,..,n\\quad t=0,1,...,T\\qquad\\qquad\\left(\\text{式１}\\right)$$\n",
    "\n",
    "両辺のそれぞれの変数の時間に対しての平均を計算すると次式となる。\n",
    "\n",
    "$$\\bar{y}_i= \\beta_0 + a_i + \\beta_1\\bar{x}_i+\\bar{u}_i\\qquad\\qquad\\left(\\text{式２}\\right)$$\n",
    "\n",
    "（注意）$a_i$は時間に対して不変なため，$a_i$はそのままの値を取る。\n",
    "\n",
    "(式１)と(式２)の差を取ると次の固定効果推定式が導出できる。\n",
    "\n",
    "$$\\ddot{y}_i = \\beta_1\\ddot{x}_i+\\ddot{u}_i\\qquad\\qquad\\left(\\text{式３}\\right)$$\n",
    "\n",
    "ここで\n",
    "* $\\ddot{y}_i=y_i-\\bar{y}$\n",
    "* $\\ddot{x}_i=x_i-\\bar{x}$\n",
    "* $\\ddot{u}_i=u_i-\\bar{u}$\n",
    "\n",
    "は平均からの乖離（demeaned values）。"
   ]
  },
  {
   "cell_type": "markdown",
   "metadata": {
    "hidden": true
   },
   "source": [
    "＜良い点＞\n",
    "* （式３）には $a_i$ がない。\n",
    "* $a_i$ と $x_{it}$, $t=1,2,..,T$ を所与として $u_{it}$ の平均は0の仮定の下で，OLS推定量 $\\hat{\\beta}_1$ は\n",
    "    * 不偏性を満たす。\n",
    "    * $T$を一定として標本の大きさが十分に大きい場合，一致性を満たす。\n",
    "    * 固定効果推定量（Fixed Effects Estimator or FE Estimator）もしくは Between Estimatorと呼ばれる。\n",
    "    \n",
    "＜悪い点＞\n",
    "* 時間に対して一定の説明変数は，$a_i$と同じように，（式３）に残らない。従って，時間不変の変数の効果を推定することはできない。"
   ]
  },
  {
   "cell_type": "markdown",
   "metadata": {
    "heading_collapsed": true,
    "hidden": true
   },
   "source": [
    "### 「手計算」による推定"
   ]
  },
  {
   "cell_type": "markdown",
   "metadata": {
    "hidden": true
   },
   "source": [
    "`wagepan`というデータセットを使い，賃金に対する労働組合などの変数の効果を推定する。"
   ]
  },
  {
   "cell_type": "code",
   "execution_count": 2,
   "metadata": {
    "hidden": true,
    "tags": [
     "output_scroll"
    ]
   },
   "outputs": [
    {
     "name": "stdout",
     "output_type": "stream",
     "text": [
      "name of dataset: wagepan\n",
      "no of variables: 44\n",
      "no of observations: 4360\n",
      "\n",
      "+----------+------------------------+\n",
      "| variable | label                  |\n",
      "+----------+------------------------+\n",
      "| nr       | person identifier      |\n",
      "| year     | 1980 to 1987           |\n",
      "| agric    | =1 if in agriculture   |\n",
      "| black    | =1 if black            |\n",
      "| bus      |                        |\n",
      "| construc | =1 if in construction  |\n",
      "| ent      |                        |\n",
      "| exper    | labor mkt experience   |\n",
      "| fin      |                        |\n",
      "| hisp     | =1 if Hispanic         |\n",
      "| poorhlth | =1 if in poor health   |\n",
      "| hours    | annual hours worked    |\n",
      "| manuf    | =1 if in manufacturing |\n",
      "| married  | =1 if married          |\n",
      "| min      |                        |\n",
      "| nrthcen  | =1 if north central    |\n",
      "| nrtheast | =1 if north east       |\n",
      "| occ1     |                        |\n",
      "| occ2     |                        |\n",
      "| occ3     |                        |\n",
      "| occ4     |                        |\n",
      "| occ5     |                        |\n",
      "| occ6     |                        |\n",
      "| occ7     |                        |\n",
      "| occ8     |                        |\n",
      "| occ9     |                        |\n",
      "| per      |                        |\n",
      "| pro      |                        |\n",
      "| pub      |                        |\n",
      "| rur      |                        |\n",
      "| south    | =1 if south            |\n",
      "| educ     | years of schooling     |\n",
      "| tra      |                        |\n",
      "| trad     |                        |\n",
      "| union    | =1 if in union         |\n",
      "| lwage    | log(wage)              |\n",
      "| d81      | =1 if year == 1981     |\n",
      "| d82      |                        |\n",
      "| d83      |                        |\n",
      "| d84      |                        |\n",
      "| d85      |                        |\n",
      "| d86      |                        |\n",
      "| d87      |                        |\n",
      "| expersq  | exper^2                |\n",
      "+----------+------------------------+\n",
      "\n",
      "F. Vella and M. Verbeek (1998), “Whose Wages Do Unions Raise? A\n",
      "Dynamic Model of Unionism and Wage Rate Determination for Young Men,”\n",
      "Journal of Applied Econometrics 13, 163-183. I obtained the data from\n",
      "the Journal of Applied Econometrics data archive at\n",
      "http://qed.econ.queensu.ca/jae/. This is generally a nice resource for\n",
      "undergraduates looking to replicate or extend a published study.\n"
     ]
    }
   ],
   "source": [
    "wagepan = wooldridge.data('wagepan')\n",
    "wooldridge.data('wagepan', description=True)"
   ]
  },
  {
   "cell_type": "markdown",
   "metadata": {
    "hidden": true
   },
   "source": [
    "被説明変数\n",
    "* `lwage`：賃金（対数）\n",
    "\n",
    "説明変数\n",
    "* `union`：労働組合参加（ダミー変数）\n",
    "* `married`：未・既婚（ダミー変数）\n",
    "* `exper`：労働市場参加年数\n",
    "*  `d81`：1981年のダミー変数\n",
    "*  `d82`：1982年のダミー変数\n",
    "*  `d83`：1983年のダミー変数\n",
    "*  `d84`：1984年のダミー変数\n",
    "*  `d85`：1985年のダミー変数\n",
    "*  `d86`：1986年のダミー変数\n",
    "*  `d87`：1987年のダミー変数\n",
    "\n",
    "`DataFrame`の`groupby`を使って変数をグループ化する際に使う変数\n",
    "* `nr`：労働者のID"
   ]
  },
  {
   "cell_type": "markdown",
   "metadata": {
    "hidden": true
   },
   "source": [
    "```{admonition} コメント\n",
    ":class: tip\n",
    "時間に対して変化しない変数使えない。例えば，\n",
    "* `educ`（説明変数に入れば教育の収益率が推定可能である。）\n",
    "* `black`，`hisp`（を使うと人種間の賃金格差も推定できる。）\n",
    "\n",
    "は固定効果モデル回帰式には入れることができない。\n",
    "```"
   ]
  },
  {
   "cell_type": "code",
   "execution_count": 3,
   "metadata": {
    "hidden": true
   },
   "outputs": [
    {
     "name": "stdout",
     "output_type": "stream",
     "text": [
      "married: 0.04668\n",
      "union: 0.08\n",
      "expersq: -0.005185\n",
      "d81: 0.1512\n",
      "d82: 0.253\n",
      "d83: 0.3544\n",
      "d84: 0.4901\n",
      "d85: 0.6175\n",
      "d86: 0.7655\n",
      "d87: 0.925\n"
     ]
    }
   ],
   "source": [
    "# 説明変数のリスト\n",
    "exog = ['married','union','expersq','d81','d82','d83','d84','d85','d86','d87']\n",
    "\n",
    "# 全ての変数のリスト\n",
    "var = ['lwage']+exog\n",
    "\n",
    "# 使う変数だけで構成されるDataFrame\n",
    "df = wagepan.loc[:,['nr']+var]\n",
    "\n",
    "# varの平均からの乖離を計算（下の説明（１）を参照）\n",
    "df_g = df.groupby('nr')\n",
    "df_mean = df_g[var].transform('mean')\n",
    "df_md = df.loc[:,var]-df_mean\n",
    "\n",
    "# 説明変数の行列（下の説明（２）を参照）\n",
    "X = df_md.loc[:,exog].values\n",
    "\n",
    "# 被説明変数のベクトル\n",
    "Y = df_md.loc[:,'lwage'].values\n",
    "\n",
    "# OLSの計算\n",
    "params = np.linalg.inv((X.T)@X)@(X.T)@Y\n",
    "\n",
    "# 結果の表示（下の説明（３）を参照）\n",
    "for idx, name in enumerate(exog):\n",
    "    print(f'{name}: {params[idx]:.4}')"
   ]
  },
  {
   "cell_type": "markdown",
   "metadata": {
    "hidden": true
   },
   "source": [
    "説明（１）\n",
    "* `df.groupby('nr')`：`nr`でグループ化したオブジェクトを作成する（番外編のGapminderを参照）。\n",
    "* `df_g[var].transform('mean')`\n",
    "    * `df_g[var]`：グループ化計算のために`var`の変数だけを使うことを指定する。\n",
    "    * `.transform('mean')`：指定された変数（`var`）のグループ内平均（それぞれの`nr`内での平均）を計算し，その平均で構成される`DataFrame`を作成する。作成された`DataFrame`の行数は`df`と同じになり，グループ内平均が同じ列内でリピートされることになる。\n",
    "* `df.loc[:,var]-df_mean`：`var`のそれぞれの変数の平均からの乖離を計算する。\n",
    "\n",
    "説明（２）\n",
    "* `.values`は`DataFrame`を`numpy`の`array`として返す。\n",
    "\n",
    "説明（３）\n",
    "* `enumerate(exog)`は`exog`の変数のインデックスと変数名の両方をタプルとして返す。\n",
    "    * `for`ループで`enumerate()`は，引数にリストや`array`を入れると2つの値を返す。\n",
    "    * 1つ目の返り値：要素のインデックス\n",
    "    * 2つ目の返り値：要素自体\n",
    "    * 例えば，`enumerate(['A','B','C'])`であれば，返り値は`(0,'A')`，`(1,'B')`，`(2,'C')`となる。\n",
    "* `f'{name}: {params[idx]:.4}'`\n",
    "    * `f`：以前説明したf-string\n",
    "    * `{name}`：`exog`の変数名を代入する。\n",
    "    * `{params[idx]:.4}`\n",
    "        * `params[idx]`：`idx`番目の`params`を代入する。\n",
    "        * `:.4`：小数点第4位までを表示する。\n",
    "\n",
    "---\n",
    "「手計算」の結果は`linearmodels`を使う結果と同じになることを下で確認する。"
   ]
  },
  {
   "cell_type": "markdown",
   "metadata": {
    "heading_collapsed": true,
    "hidden": true
   },
   "source": [
    "### `linearmodels`を使う計算"
   ]
  },
  {
   "cell_type": "markdown",
   "metadata": {
    "hidden": true
   },
   "source": [
    "#### EntityEffects"
   ]
  },
  {
   "cell_type": "markdown",
   "metadata": {
    "hidden": true
   },
   "source": [
    "`linearmodels`には`PanelOLS`モジュールがあり，その関数`from_formula()`を使うことにより，`statsmodels`同様，回帰式を`y ~ x`の文字列で書くことが可能となる。その際，次の点に注意すること。\n",
    "* 固定効果推定をする場合，回帰式に`+ EntityEffect`を含める。\n",
    "    * このオプションにより変数の平均からの乖離は自動で計算されることになる。\n",
    "    * `+ EntityEffect`を含めないと`PooledOLS`（通常のOLS）と等しくなる。\n",
    "\n",
    "\n",
    "まず`wagepan`を`MultiIndex`化する。これにより`linearmodels`を使いFD推定可能となる。"
   ]
  },
  {
   "cell_type": "code",
   "execution_count": 4,
   "metadata": {
    "hidden": true
   },
   "outputs": [],
   "source": [
    "wagepan = wagepan.set_index(['nr','year'],drop=False)"
   ]
  },
  {
   "cell_type": "code",
   "execution_count": 5,
   "metadata": {
    "hidden": true,
    "tags": [
     "output_scroll"
    ]
   },
   "outputs": [
    {
     "data": {
      "text/html": [
       "<div>\n",
       "<style scoped>\n",
       "    .dataframe tbody tr th:only-of-type {\n",
       "        vertical-align: middle;\n",
       "    }\n",
       "\n",
       "    .dataframe tbody tr th {\n",
       "        vertical-align: top;\n",
       "    }\n",
       "\n",
       "    .dataframe thead th {\n",
       "        text-align: right;\n",
       "    }\n",
       "</style>\n",
       "<table border=\"1\" class=\"dataframe\">\n",
       "  <thead>\n",
       "    <tr style=\"text-align: right;\">\n",
       "      <th></th>\n",
       "      <th></th>\n",
       "      <th>nr</th>\n",
       "      <th>year</th>\n",
       "      <th>agric</th>\n",
       "      <th>black</th>\n",
       "      <th>bus</th>\n",
       "      <th>construc</th>\n",
       "      <th>ent</th>\n",
       "      <th>exper</th>\n",
       "      <th>fin</th>\n",
       "      <th>hisp</th>\n",
       "      <th>...</th>\n",
       "      <th>union</th>\n",
       "      <th>lwage</th>\n",
       "      <th>d81</th>\n",
       "      <th>d82</th>\n",
       "      <th>d83</th>\n",
       "      <th>d84</th>\n",
       "      <th>d85</th>\n",
       "      <th>d86</th>\n",
       "      <th>d87</th>\n",
       "      <th>expersq</th>\n",
       "    </tr>\n",
       "    <tr>\n",
       "      <th>nr</th>\n",
       "      <th>year</th>\n",
       "      <th></th>\n",
       "      <th></th>\n",
       "      <th></th>\n",
       "      <th></th>\n",
       "      <th></th>\n",
       "      <th></th>\n",
       "      <th></th>\n",
       "      <th></th>\n",
       "      <th></th>\n",
       "      <th></th>\n",
       "      <th></th>\n",
       "      <th></th>\n",
       "      <th></th>\n",
       "      <th></th>\n",
       "      <th></th>\n",
       "      <th></th>\n",
       "      <th></th>\n",
       "      <th></th>\n",
       "      <th></th>\n",
       "      <th></th>\n",
       "      <th></th>\n",
       "    </tr>\n",
       "  </thead>\n",
       "  <tbody>\n",
       "    <tr>\n",
       "      <th rowspan=\"5\" valign=\"top\">13</th>\n",
       "      <th>1980</th>\n",
       "      <td>13</td>\n",
       "      <td>1980</td>\n",
       "      <td>0</td>\n",
       "      <td>0</td>\n",
       "      <td>1</td>\n",
       "      <td>0</td>\n",
       "      <td>0</td>\n",
       "      <td>1</td>\n",
       "      <td>0</td>\n",
       "      <td>0</td>\n",
       "      <td>...</td>\n",
       "      <td>0</td>\n",
       "      <td>1.197540</td>\n",
       "      <td>0</td>\n",
       "      <td>0</td>\n",
       "      <td>0</td>\n",
       "      <td>0</td>\n",
       "      <td>0</td>\n",
       "      <td>0</td>\n",
       "      <td>0</td>\n",
       "      <td>1</td>\n",
       "    </tr>\n",
       "    <tr>\n",
       "      <th>1981</th>\n",
       "      <td>13</td>\n",
       "      <td>1981</td>\n",
       "      <td>0</td>\n",
       "      <td>0</td>\n",
       "      <td>0</td>\n",
       "      <td>0</td>\n",
       "      <td>0</td>\n",
       "      <td>2</td>\n",
       "      <td>0</td>\n",
       "      <td>0</td>\n",
       "      <td>...</td>\n",
       "      <td>1</td>\n",
       "      <td>1.853060</td>\n",
       "      <td>1</td>\n",
       "      <td>0</td>\n",
       "      <td>0</td>\n",
       "      <td>0</td>\n",
       "      <td>0</td>\n",
       "      <td>0</td>\n",
       "      <td>0</td>\n",
       "      <td>4</td>\n",
       "    </tr>\n",
       "    <tr>\n",
       "      <th>1982</th>\n",
       "      <td>13</td>\n",
       "      <td>1982</td>\n",
       "      <td>0</td>\n",
       "      <td>0</td>\n",
       "      <td>1</td>\n",
       "      <td>0</td>\n",
       "      <td>0</td>\n",
       "      <td>3</td>\n",
       "      <td>0</td>\n",
       "      <td>0</td>\n",
       "      <td>...</td>\n",
       "      <td>0</td>\n",
       "      <td>1.344462</td>\n",
       "      <td>0</td>\n",
       "      <td>1</td>\n",
       "      <td>0</td>\n",
       "      <td>0</td>\n",
       "      <td>0</td>\n",
       "      <td>0</td>\n",
       "      <td>0</td>\n",
       "      <td>9</td>\n",
       "    </tr>\n",
       "    <tr>\n",
       "      <th>1983</th>\n",
       "      <td>13</td>\n",
       "      <td>1983</td>\n",
       "      <td>0</td>\n",
       "      <td>0</td>\n",
       "      <td>1</td>\n",
       "      <td>0</td>\n",
       "      <td>0</td>\n",
       "      <td>4</td>\n",
       "      <td>0</td>\n",
       "      <td>0</td>\n",
       "      <td>...</td>\n",
       "      <td>0</td>\n",
       "      <td>1.433213</td>\n",
       "      <td>0</td>\n",
       "      <td>0</td>\n",
       "      <td>1</td>\n",
       "      <td>0</td>\n",
       "      <td>0</td>\n",
       "      <td>0</td>\n",
       "      <td>0</td>\n",
       "      <td>16</td>\n",
       "    </tr>\n",
       "    <tr>\n",
       "      <th>1984</th>\n",
       "      <td>13</td>\n",
       "      <td>1984</td>\n",
       "      <td>0</td>\n",
       "      <td>0</td>\n",
       "      <td>0</td>\n",
       "      <td>0</td>\n",
       "      <td>0</td>\n",
       "      <td>5</td>\n",
       "      <td>0</td>\n",
       "      <td>0</td>\n",
       "      <td>...</td>\n",
       "      <td>0</td>\n",
       "      <td>1.568125</td>\n",
       "      <td>0</td>\n",
       "      <td>0</td>\n",
       "      <td>0</td>\n",
       "      <td>1</td>\n",
       "      <td>0</td>\n",
       "      <td>0</td>\n",
       "      <td>0</td>\n",
       "      <td>25</td>\n",
       "    </tr>\n",
       "  </tbody>\n",
       "</table>\n",
       "<p>5 rows × 44 columns</p>\n",
       "</div>"
      ],
      "text/plain": [
       "         nr  year  agric  black  bus  construc  ent  exper  fin  hisp  ...  \\\n",
       "nr year                                                                ...   \n",
       "13 1980  13  1980      0      0    1         0    0      1    0     0  ...   \n",
       "   1981  13  1981      0      0    0         0    0      2    0     0  ...   \n",
       "   1982  13  1982      0      0    1         0    0      3    0     0  ...   \n",
       "   1983  13  1983      0      0    1         0    0      4    0     0  ...   \n",
       "   1984  13  1984      0      0    0         0    0      5    0     0  ...   \n",
       "\n",
       "         union     lwage  d81  d82  d83  d84  d85  d86  d87  expersq  \n",
       "nr year                                                               \n",
       "13 1980      0  1.197540    0    0    0    0    0    0    0        1  \n",
       "   1981      1  1.853060    1    0    0    0    0    0    0        4  \n",
       "   1982      0  1.344462    0    1    0    0    0    0    0        9  \n",
       "   1983      0  1.433213    0    0    1    0    0    0    0       16  \n",
       "   1984      0  1.568125    0    0    0    1    0    0    0       25  \n",
       "\n",
       "[5 rows x 44 columns]"
      ]
     },
     "execution_count": 5,
     "metadata": {},
     "output_type": "execute_result"
    }
   ],
   "source": [
    "wagepan.head()"
   ]
  },
  {
   "cell_type": "code",
   "execution_count": 6,
   "metadata": {
    "hidden": true,
    "tags": [
     "output_scroll"
    ]
   },
   "outputs": [
    {
     "name": "stdout",
     "output_type": "stream",
     "text": [
      "<class 'pandas.core.frame.DataFrame'>\n",
      "MultiIndex: 4360 entries, (13, 1980) to (12548, 1987)\n",
      "Data columns (total 44 columns):\n",
      " #   Column    Non-Null Count  Dtype  \n",
      "---  ------    --------------  -----  \n",
      " 0   nr        4360 non-null   int64  \n",
      " 1   year      4360 non-null   int64  \n",
      " 2   agric     4360 non-null   int64  \n",
      " 3   black     4360 non-null   int64  \n",
      " 4   bus       4360 non-null   int64  \n",
      " 5   construc  4360 non-null   int64  \n",
      " 6   ent       4360 non-null   int64  \n",
      " 7   exper     4360 non-null   int64  \n",
      " 8   fin       4360 non-null   int64  \n",
      " 9   hisp      4360 non-null   int64  \n",
      " 10  poorhlth  4360 non-null   int64  \n",
      " 11  hours     4360 non-null   int64  \n",
      " 12  manuf     4360 non-null   int64  \n",
      " 13  married   4360 non-null   int64  \n",
      " 14  min       4360 non-null   int64  \n",
      " 15  nrthcen   4360 non-null   int64  \n",
      " 16  nrtheast  4360 non-null   int64  \n",
      " 17  occ1      4360 non-null   int64  \n",
      " 18  occ2      4360 non-null   int64  \n",
      " 19  occ3      4360 non-null   int64  \n",
      " 20  occ4      4360 non-null   int64  \n",
      " 21  occ5      4360 non-null   int64  \n",
      " 22  occ6      4360 non-null   int64  \n",
      " 23  occ7      4360 non-null   int64  \n",
      " 24  occ8      4360 non-null   int64  \n",
      " 25  occ9      4360 non-null   int64  \n",
      " 26  per       4360 non-null   int64  \n",
      " 27  pro       4360 non-null   int64  \n",
      " 28  pub       4360 non-null   int64  \n",
      " 29  rur       4360 non-null   int64  \n",
      " 30  south     4360 non-null   int64  \n",
      " 31  educ      4360 non-null   int64  \n",
      " 32  tra       4360 non-null   int64  \n",
      " 33  trad      4360 non-null   int64  \n",
      " 34  union     4360 non-null   int64  \n",
      " 35  lwage     4360 non-null   float64\n",
      " 36  d81       4360 non-null   int64  \n",
      " 37  d82       4360 non-null   int64  \n",
      " 38  d83       4360 non-null   int64  \n",
      " 39  d84       4360 non-null   int64  \n",
      " 40  d85       4360 non-null   int64  \n",
      " 41  d86       4360 non-null   int64  \n",
      " 42  d87       4360 non-null   int64  \n",
      " 43  expersq   4360 non-null   int64  \n",
      "dtypes: float64(1), int64(43)\n",
      "memory usage: 1.5 MB\n"
     ]
    }
   ],
   "source": [
    "wagepan.info()"
   ]
  },
  {
   "cell_type": "markdown",
   "metadata": {
    "hidden": true
   },
   "source": [
    "次に`PanelData`オブジェクトに変換しデータの特徴を調べる。"
   ]
  },
  {
   "cell_type": "code",
   "execution_count": 7,
   "metadata": {
    "hidden": true
   },
   "outputs": [
    {
     "data": {
      "text/plain": [
       "(44, 8, 545)"
      ]
     },
     "execution_count": 7,
     "metadata": {},
     "output_type": "execute_result"
    }
   ],
   "source": [
    "wagepanp = PanelData(wagepan)\n",
    "wagepanp.shape"
   ]
  },
  {
   "cell_type": "markdown",
   "metadata": {
    "hidden": true
   },
   "source": [
    "* 44: 変数の数\n",
    "* 8: 期間数（年）\n",
    "* 545：観察単位の数（人数）"
   ]
  },
  {
   "cell_type": "markdown",
   "metadata": {
    "hidden": true
   },
   "source": [
    "次に，balanced もしくは unbalanced data set かを確認する。"
   ]
  },
  {
   "cell_type": "code",
   "execution_count": 8,
   "metadata": {
    "hidden": true
   },
   "outputs": [
    {
     "data": {
      "text/plain": [
       "True"
      ]
     },
     "execution_count": 8,
     "metadata": {},
     "output_type": "execute_result"
    }
   ],
   "source": [
    "(wagepanp.count()==wagepanp.nobs).all().all()"
   ]
  },
  {
   "cell_type": "markdown",
   "metadata": {
    "hidden": true
   },
   "source": [
    "このデータ・セットはbalancedだが，unbalanced だったとしても，固定効果モデルの考え方や以下で説明するコードは変わらない。"
   ]
  },
  {
   "cell_type": "markdown",
   "metadata": {
    "hidden": true
   },
   "source": [
    "---\n",
    "実際に回帰式を書くことにする。使い方は`statsmodels`と似ている。\n",
    "* `PanelOLS`モジュールの関数`.from_formula`を使い次のように引数を指定する。\n",
    "\n",
    "$$\\text{.from_formula}(\\text{回帰式}, \\text{データ})$$\n",
    "\n",
    "* `EntityEffects`を加える。\n",
    "* 定数項を入れたい場合は，`1`を回帰式に追加する。入れなければ定数項なしの推定となる。\n",
    "\n",
    "* 以下では時間ダミー`C(year)`が入るので入れない。"
   ]
  },
  {
   "cell_type": "code",
   "execution_count": 9,
   "metadata": {
    "hidden": true
   },
   "outputs": [],
   "source": [
    "formula_fe = 'lwage ~ married + union + expersq \\\n",
    "                      +d81+d82+d83+d84+d85+d86+d87 + EntityEffects'"
   ]
  },
  {
   "cell_type": "markdown",
   "metadata": {
    "hidden": true
   },
   "source": [
    "* 固定効果モデルのインスタンスの作成"
   ]
  },
  {
   "cell_type": "code",
   "execution_count": 10,
   "metadata": {
    "hidden": true
   },
   "outputs": [],
   "source": [
    "mod_fe = PanelOLS.from_formula(formula_fe, data=wagepan)"
   ]
  },
  {
   "cell_type": "markdown",
   "metadata": {
    "hidden": true
   },
   "source": [
    "* `statsmodels`と同じように，そこから得た結果にメソッド`.fit()`を使い計算し結果が返される。"
   ]
  },
  {
   "cell_type": "code",
   "execution_count": 11,
   "metadata": {
    "hidden": true
   },
   "outputs": [],
   "source": [
    "result_fe = mod_fe.fit()"
   ]
  },
  {
   "cell_type": "markdown",
   "metadata": {
    "hidden": true
   },
   "source": [
    "＜結果の表示方法＞\n",
    "1. `res_fe`を実行。\n",
    "1. `res_fe`に関数`print()`を使うと見やすい。\n",
    "1. `res_fe`には属性`summary`が用意されているが，表示方法1と同じ。\n",
    "1. `summary`には属性`tables`があり，２つの表がリストとして格納されている。\n",
    "    * `tables[0]`：検定統計量の表（`print()`を使うと見やすくなる）\n",
    "    * `tables[1]`：係数の推定値やp値などの表（`print()`を使うと見やすくなる）"
   ]
  },
  {
   "cell_type": "code",
   "execution_count": 12,
   "metadata": {
    "hidden": true
   },
   "outputs": [
    {
     "name": "stdout",
     "output_type": "stream",
     "text": [
      "                             Parameter Estimates                              \n",
      "==============================================================================\n",
      "            Parameter  Std. Err.     T-stat    P-value    Lower CI    Upper CI\n",
      "------------------------------------------------------------------------------\n",
      "married        0.0467     0.0183     2.5494     0.0108      0.0108      0.0826\n",
      "union          0.0800     0.0193     4.1430     0.0000      0.0421      0.1179\n",
      "expersq       -0.0052     0.0007    -7.3612     0.0000     -0.0066     -0.0038\n",
      "d81            0.1512     0.0219     6.8883     0.0000      0.1082      0.1942\n",
      "d82            0.2530     0.0244     10.360     0.0000      0.2051      0.3008\n",
      "d83            0.3544     0.0292     12.121     0.0000      0.2971      0.4118\n",
      "d84            0.4901     0.0362     13.529     0.0000      0.4191      0.5611\n",
      "d85            0.6175     0.0452     13.648     0.0000      0.5288      0.7062\n",
      "d86            0.7655     0.0561     13.638     0.0000      0.6555      0.8755\n",
      "d87            0.9250     0.0688     13.450     0.0000      0.7902      1.0599\n",
      "==============================================================================\n"
     ]
    }
   ],
   "source": [
    "print(result_fe.summary.tables[1])"
   ]
  },
  {
   "cell_type": "markdown",
   "metadata": {
    "hidden": true
   },
   "source": [
    "（結果）\n",
    "* `exper**2`の係数が負で統計的有意性が高いのは，賃金に対して経験の効果は低減することを示している。\n",
    "* `married`の係数は正であり，優位性が全くないわけではない。賃金の既婚プレミアムと呼ばれるものである。\n",
    "* `union`は労働組合の影響を示しているが，予測通りである。"
   ]
  },
  {
   "cell_type": "markdown",
   "metadata": {
    "hidden": true
   },
   "source": [
    "$R^2$を表示してみる。"
   ]
  },
  {
   "cell_type": "code",
   "execution_count": 13,
   "metadata": {
    "hidden": true
   },
   "outputs": [
    {
     "name": "stdout",
     "output_type": "stream",
     "text": [
      "                          PanelOLS Estimation Summary                           \n",
      "================================================================================\n",
      "Dep. Variable:                  lwage   R-squared:                        0.1806\n",
      "Estimator:                   PanelOLS   R-squared (Between):              0.2386\n",
      "No. Observations:                4360   R-squared (Within):               0.1806\n",
      "Date:                Mon, Jun 15 2020   R-squared (Overall):              0.2361\n",
      "Time:                        12:47:48   Log-likelihood                   -1324.8\n",
      "Cov. Estimator:            Unadjusted                                           \n",
      "                                        F-statistic:                      83.851\n",
      "Entities:                         545   P-value                           0.0000\n",
      "Avg Obs:                       8.0000   Distribution:                 F(10,3805)\n",
      "Min Obs:                       8.0000                                           \n",
      "Max Obs:                       8.0000   F-statistic (robust):             83.851\n",
      "                                        P-value                           0.0000\n",
      "Time periods:                       8   Distribution:                 F(10,3805)\n",
      "Avg Obs:                       545.00                                           \n",
      "Min Obs:                       545.00                                           \n",
      "Max Obs:                       545.00                                           \n",
      "                                                                                \n",
      "================================================================================\n"
     ]
    }
   ],
   "source": [
    "print(result_fe.summary.tables[0])"
   ]
  },
  {
   "cell_type": "markdown",
   "metadata": {
    "hidden": true
   },
   "source": [
    "この表にある$R^2$について説明する。\n",
    "* $R^2$＝$R^2(\\text{Within})$：(式３)を推定した際の$R^2$である（$\\ddot{y}_i$が$\\ddot{x}_i$によってどれだけ説明されたかを示す）。\n",
    "* $R^2(\\text{Between})$：(式２)を推定した際の$R^2$である（$\\hat{y}_i$が$\\hat{x}_i$によってどれだけ説明されたかを示す）。\n",
    "* $R^2(\\text{Overall})$：(式１)を推定した際の$R^2$である（${y}_i$が${x}_i$によってどれだけ説明されたかを示す）。"
   ]
  },
  {
   "cell_type": "markdown",
   "metadata": {
    "heading_collapsed": true,
    "hidden": true
   },
   "source": [
    "#### TimeEffects"
   ]
  },
  {
   "cell_type": "markdown",
   "metadata": {
    "hidden": true
   },
   "source": [
    "上の推定式では時間ダミー変数として使い，観察単位全てに共通な時間的な影響を捉えた。具体的には，インフレにより賃金は変化するが，その変化は全ての労働者には対して同じであり，その効果を時間ダミー変数が捉えている。それを**時間効果**と呼ぶ。このような時間ダミー変数を加えた理由は，時間効果が他の変数（例えば，`married`）の係数を「汚さない」ようにするためであり，よりピュアの効果を推定するためである。一方，`linearmodels`では，わざわざ時間ダミー変数を作らずとも`TimeEffects`を回帰式に追加することにより，時間効果を自動的に「排除」することができる。"
   ]
  },
  {
   "cell_type": "code",
   "execution_count": 14,
   "metadata": {
    "hidden": true
   },
   "outputs": [
    {
     "name": "stdout",
     "output_type": "stream",
     "text": [
      "                          PanelOLS Estimation Summary                           \n",
      "================================================================================\n",
      "Dep. Variable:                  lwage   R-squared:                        0.0216\n",
      "Estimator:                   PanelOLS   R-squared (Between):             -0.2717\n",
      "No. Observations:                4360   R-squared (Within):              -0.4809\n",
      "Date:                Mon, Jun 15 2020   R-squared (Overall):             -0.2808\n",
      "Time:                        12:47:48   Log-likelihood                   -1324.8\n",
      "Cov. Estimator:            Unadjusted                                           \n",
      "                                        F-statistic:                      27.959\n",
      "Entities:                         545   P-value                           0.0000\n",
      "Avg Obs:                       8.0000   Distribution:                  F(3,3805)\n",
      "Min Obs:                       8.0000                                           \n",
      "Max Obs:                       8.0000   F-statistic (robust):             27.959\n",
      "                                        P-value                           0.0000\n",
      "Time periods:                       8   Distribution:                  F(3,3805)\n",
      "Avg Obs:                       545.00                                           \n",
      "Min Obs:                       545.00                                           \n",
      "Max Obs:                       545.00                                           \n",
      "                                                                                \n",
      "                             Parameter Estimates                              \n",
      "==============================================================================\n",
      "            Parameter  Std. Err.     T-stat    P-value    Lower CI    Upper CI\n",
      "------------------------------------------------------------------------------\n",
      "married        0.0467     0.0183     2.5494     0.0108      0.0108      0.0826\n",
      "union          0.0800     0.0193     4.1430     0.0000      0.0421      0.1179\n",
      "expersq       -0.0052     0.0007    -7.3612     0.0000     -0.0066     -0.0038\n",
      "==============================================================================\n",
      "\n",
      "F-test for Poolability: 10.067\n",
      "P-value: 0.0000\n",
      "Distribution: F(551,3805)\n",
      "\n",
      "Included effects: Entity, Time\n"
     ]
    }
   ],
   "source": [
    "formula_fe2 = 'lwage ~ married + union + expersq + TimeEffects + EntityEffects'\n",
    "result_fe2 = PanelOLS.from_formula(formula_fe2, data=wagepan).fit()\n",
    "print(result_fe2)"
   ]
  },
  {
   "cell_type": "markdown",
   "metadata": {
    "hidden": true
   },
   "source": [
    "`result_fe`と同じ結果を確認できる。$R^2$の値は少し変わっているが，これは時間ダミーを入れて計算している訳ではないためである。"
   ]
  },
  {
   "cell_type": "markdown",
   "metadata": {
    "heading_collapsed": true
   },
   "source": [
    "## ダミー変数モデルとしての固定効果モデル"
   ]
  },
  {
   "cell_type": "markdown",
   "metadata": {
    "hidden": true
   },
   "source": [
    "固定効果推定量は，他の推定方法でも計算することができる。その１つがダミー変数推定である。アイデアは簡単で，観察単位のダミー変数を使い異質性を捉えるのである。推定方法も簡単で，（式１）に観察単位のダミー変数を加えて通常のOLS推定をおこなうだけである。\n",
    "\n",
    "上で使った`wagepan`を使い推定する。まず，観察単位のダミー変数として推定式に`C(nr)`を追加する"
   ]
  },
  {
   "cell_type": "code",
   "execution_count": 15,
   "metadata": {
    "hidden": true
   },
   "outputs": [],
   "source": [
    "formula_dum = 'lwage ~  1 + married + union + expersq \\\n",
    "                        +d81+d82+d83+d84+d85+d86+d87 + C(nr)'"
   ]
  },
  {
   "cell_type": "markdown",
   "metadata": {
    "hidden": true
   },
   "source": [
    "`PooledOLS`モジュールの関数`from_formula`を使って推定式を定義する。ここで`PooledOLS`とは，`statsmodels`で使う通常のOLS推定と同じである。"
   ]
  },
  {
   "cell_type": "code",
   "execution_count": 16,
   "metadata": {
    "hidden": true
   },
   "outputs": [],
   "source": [
    "result_dum = PooledOLS.from_formula(formula_dum, data=wagepan).fit()"
   ]
  },
  {
   "cell_type": "markdown",
   "metadata": {
    "hidden": true
   },
   "source": [
    "`nr`のダミー変数が544あるため，そのまま結果を表示せずに，以下のセルにあるフィルターを使いメインの変数だけを表示する。下のコードの`filter`で使う（`result_dum`に続く）属性・メソッドについて：\n",
    "* `params`：パラメーターを取得する属性\n",
    "* `index`：`params`のインデックスを取得する属性\n",
    "* `str`：`index`にある文字列を操作可能なオブジェクトとして取得する属性\n",
    "* `contains()`：引数の文字列が文字列の中にある場合`True`を返すメソッド\n",
    "* `( )`：括弧の中を先に評価するという意味\n",
    "* `tolist()`：リストに変換するメソッド"
   ]
  },
  {
   "cell_type": "code",
   "execution_count": 17,
   "metadata": {
    "hidden": true
   },
   "outputs": [
    {
     "data": {
      "text/plain": [
       "Intercept    0.933291\n",
       "married      0.046680\n",
       "union        0.080002\n",
       "expersq     -0.005185\n",
       "d81          0.151191\n",
       "d82          0.252971\n",
       "d83          0.354444\n",
       "d84          0.490115\n",
       "d85          0.617482\n",
       "d86          0.765497\n",
       "d87          0.925025\n",
       "Name: parameter, dtype: float64"
      ]
     },
     "execution_count": 17,
     "metadata": {},
     "output_type": "execute_result"
    }
   ],
   "source": [
    "filter = (result_dum.params.index.str.contains('nr') == False).tolist()\n",
    "result_dum.params[filter]"
   ]
  },
  {
   "cell_type": "markdown",
   "metadata": {
    "hidden": true
   },
   "source": [
    "３つの変数`I(exper**2)`，`married`，`union`の係数は固定効果モデルと等しいことが確認できる。\n",
    "\n",
    "t値とp値の表示には次のコードを使う。\n",
    "* t値：`result_dum.tstats[filter]`\n",
    "* p値：`result_dum.pvalues[filter]`\n",
    "\n",
    "この場合，`educ`等の時間に対して不変の変数も推定式に加えることが可能である。一方，この方法はパラメーターの数は544+11=555あり，自由度が非常に低くなるのが欠点である。\n",
    "\n",
    "\n",
    "（注意）\n",
    "\n",
    "この推定式に時間に対して不変の変数（例えば，`educ`，`blac`，`hisp`，`exper`）を追加すると推定できない（エラーが発生する）。理由は，それらの変数は`nr`ダミー変数と完全に同じ動きをするためである。"
   ]
  },
  {
   "cell_type": "markdown",
   "metadata": {
    "heading_collapsed": true
   },
   "source": [
    "## ランダム効果モデル"
   ]
  },
  {
   "cell_type": "markdown",
   "metadata": {
    "heading_collapsed": true,
    "hidden": true
   },
   "source": [
    "### 説明"
   ]
  },
  {
   "cell_type": "markdown",
   "metadata": {
    "hidden": true
   },
   "source": [
    "ここでは，パネル・データを使い推定するランダム効果モデル（Random Effects Model; RE Model）を解説する。もう一度（式１）を考えよう。\n",
    "\n",
    "（仮定） $a_i$は観察単位 $i$ に対して一定であるが，$i$によってその値は異なる。\n",
    "\n",
    "＜固定効果モデルの仮定＞\n",
    "* $\\text{Cov}\\left(a_ix_{it}\\right)\\neq 0,\\quad t=1,2,...,T$\n",
    "\n",
    "＜ランダム効果モデルの仮定＞\n",
    "* $\\text{Cov}\\left(a_ix_{it}\\right)=0,\\quad t=1,2,...,T$"
   ]
  },
  {
   "cell_type": "markdown",
   "metadata": {
    "hidden": true
   },
   "source": [
    "---\n",
    "この違いを念頭に（式１）を次式に書き換える。\n",
    "\n",
    "$$y_{it}= \\beta_0 + \\beta_1x_{it}+e_{it}\\qquad\\qquad\\left(\\text{式４}\\right)$$\n",
    "\n",
    "ここで，\n",
    "\n",
    "$$e_{it}=a_i+u_{it}$$\n",
    "\n",
    "しかし，\n",
    "\n",
    "$$\\text{Corr}\\left(e_{it},e_{is}\\right)\\neq 0,\\quad t\\neq s$$\n",
    "\n",
    "となることが示せる。即ち，誤差項が自己相関することになる。\n",
    "\n",
    "＜含意＞\n",
    "* $a_i$と$x_{it}$に相関がないため次の推定方法で一致性を満たす推定量を計算できる。\n",
    "    * １つの時点でお横断面データを使いOLS推定（でも他のデータはどうする？）\n",
    "    * 全てのデータを使い何の区別もなくプールするPooled OLS推定（しかしパネル・データの特性を有効利用していない）。\n",
    "* 時系列データを扱う場合，自己相関によりOLS推定量は効率性が低くなる。これは横断面データを扱う際の不均一分散が引き起こす問題と似ている。\n",
    "* １階差分推定や固定効果推定を使う必要はなく，使うと効率性が低い推定量となる。\n",
    "* 従って，問題は次の点：\n",
    "    * より効率性が高い推定方法はどのようなものか。"
   ]
  },
  {
   "cell_type": "markdown",
   "metadata": {
    "hidden": true
   },
   "source": [
    "---\n",
    "その方法がランダム効果推定と言われるもので，固定効果のように，変数を平均からの**部分的**な乖離に変換することにより可能となる。具体的には，次式が推定式となる。\n",
    "\n",
    "$$\\overset{\\circ}{y}_{it}=\\beta_0(1-\\theta)+\\beta_1\\overset{\\circ}{y}_{it}+\\overset{\\circ}{e}_{it}\\qquad\\qquad\\left(\\text{式５}\\right)$$\n",
    "\n",
    "ここで\n",
    "* $\\overset{\\circ}{y}_{it}=y_{it}-\\theta\\bar{y}_i$\n",
    "* $\\overset{\\circ}{x}_{it}=x_{it}-\\theta\\bar{x}_i$\n",
    "* $\\overset{\\circ}{e}_{it}=e_{it}-\\theta\\bar{e}_i$\n",
    "\n",
    "は変数の平均からの部分的な乖離であり，乖離の度合いを決める変数$\\theta$は\n",
    "\n",
    " $$\\theta = 1-\\sqrt{\\frac{\\sigma_u^2}{\\sigma_u^2+T\\sigma_a^2}}$$\n",
    "\n",
    "と定義される。$\\sigma_u^2$は$u_{it}$の分散，$\\sigma_a^2$は$a_{i}$の分散である。\n",
    "\n"
   ]
  },
  {
   "cell_type": "markdown",
   "metadata": {
    "hidden": true
   },
   "source": [
    "（直感）\n",
    "* $\\sigma_a^2=0$の場合$\\theta=0$となり，$a_i$は$i$に対して一定であり観察単位の異質性はないということである。その場合は，通常のOLSで推定することがベストとなる。\n",
    "* $\\sigma_a^2$が増加すると$\\theta$は大きくなり，より大きな平均からの乖離が必要となる。極端な場合，$\\sigma_a^2$が無限大に近づくと，$\\theta=1$となり$\\overset{\\circ}{y}=\\ddot{y}$となる。即ち，固定効果モデルはランダム効果モデルの極端な場合と解釈できる。\n",
    "\n",
    "（注意）\n",
    "* $\\theta$は事前にはわからないため推定する必要がある（`linearmodels`が自動的に計算する）。\n",
    "\n",
    "（良い点）\n",
    "* 時間に対して不変の説明変数があってもその係数を推定できる。\n",
    "* $\\text{Cov}\\left(a_ix_{it}\\right)= 0$が正しければ，推定量は一致性を満たす。しかし，不偏性は満たさない。"
   ]
  },
  {
   "cell_type": "markdown",
   "metadata": {
    "heading_collapsed": true,
    "hidden": true
   },
   "source": [
    "### 推定"
   ]
  },
  {
   "cell_type": "markdown",
   "metadata": {
    "hidden": true
   },
   "source": [
    "`exper`，`educ`，`black`，`hisp`を加えて回帰式を定義する。\n",
    "\n",
    "（注意）\n",
    "\n",
    "時間ダミー変数の代わりに`TimeEffects`を使わないように。入れることができますが，そのような仕様になっていません。"
   ]
  },
  {
   "cell_type": "code",
   "execution_count": 18,
   "metadata": {
    "hidden": true
   },
   "outputs": [],
   "source": [
    "formula_re = 'lwage ~ 1 + married + union + expersq \\\n",
    "                        + exper + educ + black + hisp \\\n",
    "                        +d81+d82+d83+d84+d85+d86+d87'"
   ]
  },
  {
   "cell_type": "markdown",
   "metadata": {
    "hidden": true
   },
   "source": [
    "`RandomEffects`のモジュールにある関数`from_formula`を使い計算する。"
   ]
  },
  {
   "cell_type": "code",
   "execution_count": 19,
   "metadata": {
    "hidden": true
   },
   "outputs": [],
   "source": [
    "result_re = RandomEffects.from_formula(formula_re, data=wagepan).fit()"
   ]
  },
  {
   "cell_type": "markdown",
   "metadata": {
    "hidden": true
   },
   "source": [
    "結果の表示。"
   ]
  },
  {
   "cell_type": "code",
   "execution_count": 20,
   "metadata": {
    "hidden": true
   },
   "outputs": [
    {
     "name": "stdout",
     "output_type": "stream",
     "text": [
      "                             Parameter Estimates                              \n",
      "==============================================================================\n",
      "            Parameter  Std. Err.     T-stat    P-value    Lower CI    Upper CI\n",
      "------------------------------------------------------------------------------\n",
      "Intercept      0.0234     0.1514     0.1546     0.8771     -0.2735      0.3203\n",
      "married        0.0638     0.0168     3.8035     0.0001      0.0309      0.0967\n",
      "union          0.1059     0.0179     5.9289     0.0000      0.0709      0.1409\n",
      "expersq       -0.0047     0.0007    -6.8623     0.0000     -0.0061     -0.0034\n",
      "exper          0.1058     0.0154     6.8706     0.0000      0.0756      0.1361\n",
      "educ           0.0919     0.0107     8.5744     0.0000      0.0709      0.1129\n",
      "black         -0.1394     0.0480    -2.9054     0.0037     -0.2334     -0.0453\n",
      "hisp           0.0217     0.0428     0.5078     0.6116     -0.0622      0.1057\n",
      "d81            0.0404     0.0247     1.6362     0.1019     -0.0080      0.0889\n",
      "d82            0.0309     0.0324     0.9519     0.3412     -0.0327      0.0944\n",
      "d83            0.0202     0.0417     0.4840     0.6284     -0.0616      0.1020\n",
      "d84            0.0430     0.0515     0.8350     0.4037     -0.0580      0.1440\n",
      "d85            0.0577     0.0615     0.9383     0.3482     -0.0629      0.1782\n",
      "d86            0.0918     0.0716     1.2834     0.1994     -0.0485      0.2321\n",
      "d87            0.1348     0.0817     1.6504     0.0989     -0.0253      0.2950\n",
      "==============================================================================\n"
     ]
    }
   ],
   "source": [
    "print(result_re.summary.tables[1])"
   ]
  },
  {
   "cell_type": "markdown",
   "metadata": {
    "hidden": true
   },
   "source": [
    "結果の解釈は下でする。\n",
    "\n",
    "RE推定では$\\theta$が重要な役目を果たすが，その値は`result_re`の属性`theta`を使うことにより`DataFrame`の形で表示できる。\n",
    "* balanced panel dataの場合，`theta`の値は一意で決まる。\n",
    "* unbalanced panel dataの場合，`theta`は観察単位毎に計算される。"
   ]
  },
  {
   "cell_type": "code",
   "execution_count": 21,
   "metadata": {
    "hidden": true
   },
   "outputs": [
    {
     "data": {
      "text/plain": [
       "theta    0.645059\n",
       "Name: 13, dtype: float64"
      ]
     },
     "execution_count": 21,
     "metadata": {},
     "output_type": "execute_result"
    }
   ],
   "source": [
    "result_re.theta.iloc[0,:]"
   ]
  },
  {
   "cell_type": "markdown",
   "metadata": {
    "hidden": true
   },
   "source": [
    "上で説明したが$\\theta$は$u_a$と$u_it$の分散である$\\sigma_a^2$と$\\sigma_u^2$に依存する。それらの値は，属性`variance_decomposition`を表示できる。以下の返り値の内容：\n",
    "* `Effects`：$\\sigma_a^2$\n",
    "* `Residual`：$\\sigma_u^2$\n",
    "* `Percept due to Effects`：$\\dfrac{\\sigma_a^2}{\\sigma_a^2+\\sigma_u^2}$"
   ]
  },
  {
   "cell_type": "code",
   "execution_count": 22,
   "metadata": {
    "hidden": true
   },
   "outputs": [
    {
     "data": {
      "text/plain": [
       "Effects                   0.106946\n",
       "Residual                  0.123324\n",
       "Percent due to Effects    0.464438\n",
       "Name: Variance Decomposition, dtype: float64"
      ]
     },
     "execution_count": 22,
     "metadata": {},
     "output_type": "execute_result"
    }
   ],
   "source": [
    "result_re.variance_decomposition"
   ]
  },
  {
   "cell_type": "markdown",
   "metadata": {
    "heading_collapsed": true
   },
   "source": [
    "## 相関ランダム効果モデル"
   ]
  },
  {
   "cell_type": "markdown",
   "metadata": {
    "heading_collapsed": true,
    "hidden": true
   },
   "source": [
    "### 説明"
   ]
  },
  {
   "cell_type": "markdown",
   "metadata": {
    "hidden": true
   },
   "source": [
    "相関ランダム効果モデル（CREモデル）は，固定効果モデルとランダム効果モデルの中間的な位置にあり，両方を包含している。（式１）を考えよう。更に，観察不可能な固定効果$a_i$は説明変数と次の関係にあると仮定する。\n",
    "\n",
    "$$a_i = \\alpha + \\gamma\\bar{x}_{it} + r_i\\qquad\\text{(式５)}$$\n",
    "\n",
    "* $\\bar{x}_i=\\dfrac{1}{T}\\sum_{t=1}^Tx_{it}$は説明変数の平均\n",
    "* $\\gamma$は$a_i$と$x_{it}$の相関関係を捉える係数\n",
    "* $r_i$は説明変数$x_{it}$と相関しないと仮定，即ち，$\\text{Cov}\\left(r_i\\bar{x}_{it}\\right)$\n",
    "\n",
    "（式５）を（式１）に代入すると次式を得る。\n",
    "\n",
    "$$y_{it}=\\alpha+\\beta x_{it} + \\gamma\\bar{x}_i + v_{it}\\qquad\\text{(式６)}$$\n",
    "\n",
    "ここで\n",
    "\n",
    "$$v_{it}=r_i + u_{it}$$"
   ]
  },
  {
   "cell_type": "markdown",
   "metadata": {
    "hidden": true
   },
   "source": [
    "（含意）\n",
    "* $\\text{Cov}\\left(r_i,\\bar{x}_{it}\\right)\\;\\Rightarrow\\;\\text{Cov}\\left(v_i,\\bar{x}_{it}\\right)$\n",
    "* REモデルと同じ構造となっており，違いは$\\bar{x}_i$が追加されている。\n",
    "    * `linearmodels`の`RandomEffects`モジュールが使える。\n",
    "* 次の結果が成立する。\n",
    "\n",
    "    $$\\hat{\\beta}_{FE}=\\hat{\\beta}_{CRE}$$\n",
    "    \n",
    "    * $\\hat{\\beta}_{FE}$：固定効果推定量\n",
    "    * $\\hat{\\beta}_{CRE}$：相関ランダム効果推定量\n",
    "    * この結果は，時間に対して不変な変数（例えば，`black`）を**含めても**成立する"
   ]
  },
  {
   "cell_type": "markdown",
   "metadata": {
    "heading_collapsed": true,
    "hidden": true
   },
   "source": [
    "### 推定"
   ]
  },
  {
   "cell_type": "markdown",
   "metadata": {
    "hidden": true
   },
   "source": [
    "まず $\\bar{x}_i$ を計算し，それを`wagepan`に追加する。そのために次の関数を定義する。\n",
    "\n",
    "（解説）\n",
    "\n",
    "* (1)：関数の引数\n",
    "    * `dframe`：データフレーム\n",
    "    * `ori_col`：平均を計算したい列\n",
    "    * `new_col`：計算した平均を入れる列\n",
    "* (2)：`ori_col`をグループ化し，グループ名とグループ平均からなる辞書の作成\n",
    "    * `groupby(level=0)`：行の第１インデックスに従ってグループ化\n",
    "    * `mean()`：グループ平均の計算\n",
    "    * `to_dict()`：行の第１インデックスにあるグループ名を`key`，グループ平均を`value`にする辞書の作成\n",
    "* (3)：行の第１インデックスに該当するグループ平均が並ぶリストの作成\n",
    "    * `index.get_level_values(0)`：行の第１インデックスの値を取得\n",
    "    * `to_series()`：`series`に変換\n",
    "    * `map(dict)`：`dict`の内容に従って上の`series`の値をグループ平均に入れ替える\n",
    "    * `tolist()`：リストに変換\n",
    "* (4)：`dframe`にグループ平均が並ぶ新しい列が追加し，そのラベルを`new_col`とする\n",
    "* (5)：`DataFrame`を返す"
   ]
  },
  {
   "cell_type": "code",
   "execution_count": 23,
   "metadata": {
    "hidden": true
   },
   "outputs": [],
   "source": [
    "def add_col_mean(dframe, ori_col, new_col):  # (1)\n",
    "    \n",
    "    dict = dframe.groupby(level=0)[ori_col].mean().to_dict()  # (2)\n",
    "    mean = dframe.index.get_level_values(0).to_series().map(dict).tolist()  # (3)\n",
    "    dframe.loc[:,new_col] = mean  # (4)\n",
    "    \n",
    "    return dframe   # (5)"
   ]
  },
  {
   "cell_type": "markdown",
   "metadata": {
    "hidden": true
   },
   "source": [
    "この関数を使い，`married`，`union`，`expersq`の平均を計算し`wagepan`に追加する。\n",
    "\n",
    "（コメント）`exper`は含めない。"
   ]
  },
  {
   "cell_type": "code",
   "execution_count": 24,
   "metadata": {
    "hidden": true
   },
   "outputs": [],
   "source": [
    "wagepan = add_col_mean(wagepan, 'married', 'married_mean')\n",
    "wagepan = add_col_mean(wagepan, 'union', 'union_mean')\n",
    "wagepan = add_col_mean(wagepan, 'expersq', 'expersq_mean')"
   ]
  },
  {
   "cell_type": "markdown",
   "metadata": {
    "hidden": true
   },
   "source": [
    "CRE推定と結果の表示"
   ]
  },
  {
   "cell_type": "code",
   "execution_count": 25,
   "metadata": {
    "hidden": true
   },
   "outputs": [
    {
     "name": "stdout",
     "output_type": "stream",
     "text": [
      "                        RandomEffects Estimation Summary                        \n",
      "================================================================================\n",
      "Dep. Variable:                  lwage   R-squared:                        0.1711\n",
      "Estimator:              RandomEffects   R-squared (Between):              0.0967\n",
      "No. Observations:                4360   R-squared (Within):               0.1806\n",
      "Date:                Mon, Jun 15 2020   R-squared (Overall):              0.1355\n",
      "Time:                        12:47:49   Log-likelihood                   -1609.8\n",
      "Cov. Estimator:            Unadjusted                                           \n",
      "                                        F-statistic:                      69.027\n",
      "Entities:                         545   P-value                           0.0000\n",
      "Avg Obs:                       8.0000   Distribution:                 F(13,4346)\n",
      "Min Obs:                       8.0000                                           \n",
      "Max Obs:                       8.0000   F-statistic (robust):             69.027\n",
      "                                        P-value                           0.0000\n",
      "Time periods:                       8   Distribution:                 F(13,4346)\n",
      "Avg Obs:                       545.00                                           \n",
      "Min Obs:                       545.00                                           \n",
      "Max Obs:                       545.00                                           \n",
      "                                                                                \n",
      "                              Parameter Estimates                               \n",
      "================================================================================\n",
      "              Parameter  Std. Err.     T-stat    P-value    Lower CI    Upper CI\n",
      "--------------------------------------------------------------------------------\n",
      "Intercept        1.1537     0.0502     22.979     0.0000      1.0552      1.2521\n",
      "married          0.0467     0.0183     2.5522     0.0107      0.0108      0.0825\n",
      "union            0.0800     0.0193     4.1475     0.0000      0.0422      0.1178\n",
      "expersq         -0.0052     0.0007    -7.3693     0.0000     -0.0066     -0.0038\n",
      "married_mean     0.1618     0.0469     3.4518     0.0006      0.0699      0.2536\n",
      "union_mean       0.1612     0.0526     3.0653     0.0022      0.0581      0.2644\n",
      "expersq_mean     0.0032     0.0009     3.4362     0.0006      0.0014      0.0050\n",
      "d81              0.1512     0.0219     6.8959     0.0000      0.1082      0.1942\n",
      "d82              0.2530     0.0244     10.371     0.0000      0.2052      0.3008\n",
      "d83              0.3544     0.0292     12.134     0.0000      0.2972      0.4117\n",
      "d84              0.4901     0.0362     13.544     0.0000      0.4192      0.5611\n",
      "d85              0.6175     0.0452     13.663     0.0000      0.5289      0.7061\n",
      "d86              0.7655     0.0561     13.654     0.0000      0.6556      0.8754\n",
      "d87              0.9250     0.0687     13.465     0.0000      0.7903      1.0597\n",
      "================================================================================\n"
     ]
    }
   ],
   "source": [
    "formula_cre = 'lwage ~ 1 + married + union + expersq \\\n",
    "                         + married_mean + union_mean + expersq_mean \\\n",
    "                         +d81+d82+d83+d84+d85+d86+d87'\n",
    "\n",
    "result_cre = RandomEffects.from_formula(formula_cre, data=wagepan).fit()\n",
    "\n",
    "print(result_cre)"
   ]
  },
  {
   "cell_type": "markdown",
   "metadata": {
    "heading_collapsed": true,
    "hidden": true
   },
   "source": [
    "### ２つの利点"
   ]
  },
  {
   "cell_type": "markdown",
   "metadata": {
    "hidden": true
   },
   "source": [
    "CREモデルの２つの利点を解説する。"
   ]
  },
  {
   "cell_type": "markdown",
   "metadata": {
    "heading_collapsed": true,
    "hidden": true
   },
   "source": [
    "#### FE対RE検定"
   ]
  },
  {
   "cell_type": "markdown",
   "metadata": {
    "hidden": true
   },
   "source": [
    "FEモデルとREモデルのどちらが適しているかを調べることができるHausman検定というものがある。CREモデルを使うことにより，同様の検定が簡単に行える。（式６）を考えよう。\n",
    "* $\\gamma=0$の場合，REモデルの（式５）と同じになり，REモデルが妥当ということになる。\n",
    "* $\\gamma\\neq 0$の場合，$a_i$と$\\bar{x}_{i}$は相関することになり，これは$\\text{Cov}\\left(a_i,{x}_{it}\\right)\\neq 0$を意味し，REモデルが妥当な推定方法となる。\n",
    "\n",
    "この考えを利用して，次の帰無仮説と対立仮説のもとで$\\gamma$の優位性を調べる。\n",
    "* $\\text{H}_0:\\;\\text{Cov}\\left(a_i,x_{it}\\right)=0$\n",
    "* $\\text{H}_a:\\;\\text{Cov}\\left(a_i,x_{it}\\right)\\neq 0$\n",
    "\n",
    "（コメント）\n",
    "* $\\gamma=0$を棄却できれば上の$\\text{H}_0$を棄却できる。\n",
    "* 平均の変数が$k$ある場合は，$\\gamma_1=\\gamma_2=\\cdots=\\gamma_k=0$を検定する。"
   ]
  },
  {
   "cell_type": "markdown",
   "metadata": {
    "hidden": true
   },
   "source": [
    "`result_cre`のメソッド`wald_test()`を使う。引数には文字列で指定する。"
   ]
  },
  {
   "cell_type": "code",
   "execution_count": 26,
   "metadata": {
    "hidden": true
   },
   "outputs": [
    {
     "data": {
      "text/plain": [
       "Linear Equality Hypothesis Test\n",
       "H0: Linear equality constraint is valid\n",
       "Statistic: 35.6454\n",
       "P-value: 0.0000\n",
       "Distributed: chi2(3)\n",
       "WaldTestStatistic, id: 0x7fb66493c700"
      ]
     },
     "execution_count": 26,
     "metadata": {},
     "output_type": "execute_result"
    }
   ],
   "source": [
    "# 検定する係数の値を設定する\n",
    "restriction = 'married_mean = union_mean = expersq_mean = 0'\n",
    "\n",
    "# 検定結果を表示する\n",
    "result_cre.wald_test(formula=restriction)"
   ]
  },
  {
   "cell_type": "markdown",
   "metadata": {
    "hidden": true
   },
   "source": [
    "p値が非常に小さいので，帰無仮説は棄却できる。従って，FEモデルが妥当だと結論づけることができる。"
   ]
  },
  {
   "cell_type": "markdown",
   "metadata": {
    "heading_collapsed": true,
    "hidden": true
   },
   "source": [
    "#### 一定な変数を含める"
   ]
  },
  {
   "cell_type": "markdown",
   "metadata": {
    "hidden": true
   },
   "source": [
    "（式６）に時間に対して一定は変数（$z_{i}$）を含めて\n",
    "\n",
    "$$y_{it}=\\alpha+\\beta x_{it}+\\gamma\\bar{x}_i+\\delta z_{i} +v_{it}\\qquad\\text{(式６)}$$\n",
    "\n",
    "をRE推定しても次の結果は成立する。\n",
    "\n",
    "$$\\hat{\\beta}_{FE}=\\hat{\\beta}_{CRE}$$"
   ]
  },
  {
   "cell_type": "markdown",
   "metadata": {
    "hidden": true
   },
   "source": [
    "---\n",
    "この結果を利用して，以下では次の変数を加えて回帰式を設定する。\n",
    "* 時間に対して一定な変数\n",
    "    * `educ`, `black`，`hisp`\n",
    "* 一定ではないが，FEにいれると推定できなかった変数\n",
    "    * `exper`"
   ]
  },
  {
   "cell_type": "code",
   "execution_count": 27,
   "metadata": {
    "hidden": true
   },
   "outputs": [
    {
     "name": "stdout",
     "output_type": "stream",
     "text": [
      "                              Parameter Estimates                               \n",
      "================================================================================\n",
      "              Parameter  Std. Err.     T-stat    P-value    Lower CI    Upper CI\n",
      "--------------------------------------------------------------------------------\n",
      "Intercept       -0.1288     0.1583    -0.8140     0.4157     -0.4391      0.1814\n",
      "married          0.0467     0.0183     2.5520     0.0107      0.0108      0.0825\n",
      "union            0.0800     0.0193     4.1473     0.0000      0.0422      0.1178\n",
      "expersq         -0.0052     0.0007    -7.3689     0.0000     -0.0066     -0.0038\n",
      "exper           -0.0504     0.0507    -0.9947     0.3200     -0.1499      0.0490\n",
      "educ             0.0946     0.0110     8.6115     0.0000      0.0731      0.1161\n",
      "black           -0.1388     0.0492    -2.8193     0.0048     -0.2353     -0.0423\n",
      "hisp             0.0048     0.0430     0.1110     0.9116     -0.0795      0.0891\n",
      "married_mean     0.0970     0.0454     2.1382     0.0326      0.0081      0.1859\n",
      "union_mean       0.1907     0.0507     3.7591     0.0002      0.0912      0.2901\n",
      "expersq_mean     0.0103     0.0033     3.1135     0.0019      0.0038      0.0168\n",
      "d81              0.2016     0.0552     3.6497     0.0003      0.0933      0.3099\n",
      "d82              0.3538     0.1043     3.3923     0.0007      0.1493      0.5583\n",
      "d83              0.5058     0.1549     3.2650     0.0011      0.2021      0.8094\n",
      "d84              0.6919     0.2060     3.3580     0.0008      0.2879      1.0958\n",
      "d85              0.8697     0.2575     3.3768     0.0007      0.3648      1.3746\n",
      "d86              1.0681     0.3094     3.4525     0.0006      0.4616      1.6746\n",
      "d87              1.2781     0.3615     3.5351     0.0004      0.5693      1.9869\n",
      "================================================================================\n"
     ]
    }
   ],
   "source": [
    "formula_cre2 = 'lwage ~ 1 + married + union + expersq \\\n",
    "                          + exper + educ + black + hisp \\\n",
    "                          + married_mean + union_mean + expersq_mean \\\n",
    "                          +d81+d82+d83+d84+d85+d86+d87'\n",
    "\n",
    "result_cre2 = RandomEffects.from_formula(formula_cre2, data=wagepan).fit()\n",
    "\n",
    "print(result_cre2.summary.tables[1])"
   ]
  },
  {
   "cell_type": "markdown",
   "metadata": {
    "hidden": true
   },
   "source": [
    "もう一度，FE対RE検定を行ってみよう。検定統計量（Statistics）は減少したが，以前帰無仮説は高い優位性で棄却できる。"
   ]
  },
  {
   "cell_type": "code",
   "execution_count": 28,
   "metadata": {
    "hidden": true
   },
   "outputs": [
    {
     "data": {
      "text/plain": [
       "Linear Equality Hypothesis Test\n",
       "H0: Linear equality constraint is valid\n",
       "Statistic: 26.0233\n",
       "P-value: 0.0000\n",
       "Distributed: chi2(3)\n",
       "WaldTestStatistic, id: 0x7fb664924730"
      ]
     },
     "execution_count": 28,
     "metadata": {},
     "output_type": "execute_result"
    }
   ],
   "source": [
    "result_cre2.wald_test(formula=restriction)"
   ]
  },
  {
   "cell_type": "markdown",
   "metadata": {
    "heading_collapsed": true
   },
   "source": [
    "## モデルの比較"
   ]
  },
  {
   "cell_type": "markdown",
   "metadata": {
    "hidden": true
   },
   "source": [
    "パネル・データを扱う場合の通常のアプローチは，使える推定法を使いその結果を比べることから始める。以下では以下のモデルを比べる。\n",
    "* 通常のOLS\n",
    "* 固定効果モデル\n",
    "* ランダム効果モデル\n",
    "* 相関ランダムモデル"
   ]
  },
  {
   "cell_type": "markdown",
   "metadata": {
    "heading_collapsed": true,
    "hidden": true
   },
   "source": [
    "### OLS"
   ]
  },
  {
   "cell_type": "markdown",
   "metadata": {
    "hidden": true
   },
   "source": [
    "`linearmodels`のモジュール`PooledOLS`では，観察単位や時間の区別なく全てのデータをプールしてOLS推定する。これは通常のOLSと同じ推定法と等しい。`PooledOLS`の関数`from_formula`を使い，以下のように推定する。"
   ]
  },
  {
   "cell_type": "code",
   "execution_count": 29,
   "metadata": {
    "hidden": true
   },
   "outputs": [
    {
     "name": "stdout",
     "output_type": "stream",
     "text": [
      "                             Parameter Estimates                              \n",
      "==============================================================================\n",
      "            Parameter  Std. Err.     T-stat    P-value    Lower CI    Upper CI\n",
      "------------------------------------------------------------------------------\n",
      "Intercept      0.0921     0.0783     1.1761     0.2396     -0.0614      0.2455\n",
      "married        0.1083     0.0157     6.8997     0.0000      0.0775      0.1390\n",
      "union          0.1825     0.0172     10.635     0.0000      0.1488      0.2161\n",
      "expersq       -0.0024     0.0008    -2.9413     0.0033     -0.0040     -0.0008\n",
      "exper          0.0672     0.0137     4.9095     0.0000      0.0404      0.0941\n",
      "educ           0.0913     0.0052     17.442     0.0000      0.0811      0.1016\n",
      "black         -0.1392     0.0236    -5.9049     0.0000     -0.1855     -0.0930\n",
      "hisp           0.0160     0.0208     0.7703     0.4412     -0.0248      0.0568\n",
      "d81            0.0583     0.0304     1.9214     0.0548     -0.0012      0.1178\n",
      "d82            0.0628     0.0332     1.8900     0.0588     -0.0023      0.1279\n",
      "d83            0.0620     0.0367     1.6915     0.0908     -0.0099      0.1339\n",
      "d84            0.0905     0.0401     2.2566     0.0241      0.0119      0.1691\n",
      "d85            0.1092     0.0434     2.5200     0.0118      0.0243      0.1942\n",
      "d86            0.1420     0.0464     3.0580     0.0022      0.0509      0.2330\n",
      "d87            0.1738     0.0494     3.5165     0.0004      0.0769      0.2707\n",
      "==============================================================================\n"
     ]
    }
   ],
   "source": [
    "formula_pool = 'lwage ~ 1 + married + union + expersq \\\n",
    "                        + exper + educ + black + hisp \\\n",
    "                        +d81+d82+d83+d84+d85+d86+d87'\n",
    "\n",
    "result_pool = PooledOLS.from_formula(formula_pool, data=wagepan).fit()\n",
    "\n",
    "print(result_pool.summary.tables[1])"
   ]
  },
  {
   "cell_type": "markdown",
   "metadata": {
    "hidden": true
   },
   "source": [
    "### 比較表の作成"
   ]
  },
  {
   "cell_type": "markdown",
   "metadata": {
    "hidden": true
   },
   "source": [
    "今までの推定結果を表にまとめるために，`linearmodels`の関数`compare`を使う。\n",
    "\n",
    "表作成の順番：\n",
    "1. `key`が表示したい推定方法の名前，`value`がその上で得た推定結果となる辞書を作る\n",
    "1. その辞書を`compare`の引数としてつかう。"
   ]
  },
  {
   "cell_type": "code",
   "execution_count": 30,
   "metadata": {
    "hidden": true
   },
   "outputs": [],
   "source": [
    "res = {'Pooled OLS':result_pool,\n",
    "       'FE': result_fe,\n",
    "       'RE': result_re,\n",
    "       'CRE': result_cre2\n",
    "      }\n",
    "\n",
    "# compare(res)"
   ]
  },
  {
   "cell_type": "markdown",
   "metadata": {
    "hidden": true
   },
   "source": [
    "このままでも良いか，この方法では推定結果を表示する順番を指定できない。例えば，`OLS`，`FE`，`RE`，`CRE`の順番で左から並べたいとしよう。その場合，`collections`パッケージにある関数`OrderedDict`をつかう。`{}`の中で並べた順番をそのまま維持してくれる関数である。"
   ]
  },
  {
   "cell_type": "code",
   "execution_count": 31,
   "metadata": {
    "hidden": true,
    "tags": [
     "output_scroll"
    ]
   },
   "outputs": [
    {
     "name": "stdout",
     "output_type": "stream",
     "text": [
      "                                     Model Comparison                                    \n",
      "=========================================================================================\n",
      "                            Pooled OLS             FE                RE               CRE\n",
      "-----------------------------------------------------------------------------------------\n",
      "Dep. Variable                    lwage          lwage             lwage             lwage\n",
      "Estimator                    PooledOLS       PanelOLS     RandomEffects     RandomEffects\n",
      "No. Observations                  4360           4360              4360              4360\n",
      "Cov. Est.                   Unadjusted     Unadjusted        Unadjusted        Unadjusted\n",
      "R-squared                       0.1893         0.1806            0.1806            0.1855\n",
      "R-Squared (Within)              0.1692         0.1806            0.1799            0.1806\n",
      "R-Squared (Between)             0.2066         0.2386            0.1853            0.2192\n",
      "R-Squared (Overall)             0.1893         0.2361            0.1828            0.2013\n",
      "F-statistic                     72.459         83.851            68.409            58.165\n",
      "P-value (F-stat)                0.0000         0.0000            0.0000            0.0000\n",
      "=====================     ============   ============   ===============   ===============\n",
      "Intercept                       0.0921                           0.0234           -0.1288\n",
      "                              (1.1761)                         (0.1546)         (-0.8140)\n",
      "married                         0.1083         0.0467            0.0638            0.0467\n",
      "                              (6.8997)       (2.5494)          (3.8035)          (2.5520)\n",
      "union                           0.1825         0.0800            0.1059            0.0800\n",
      "                              (10.635)       (4.1430)          (5.9289)          (4.1473)\n",
      "expersq                        -0.0024        -0.0052           -0.0047           -0.0052\n",
      "                             (-2.9413)      (-7.3612)         (-6.8623)         (-7.3689)\n",
      "exper                           0.0672                           0.1058           -0.0504\n",
      "                              (4.9095)                         (6.8706)         (-0.9947)\n",
      "educ                            0.0913                           0.0919            0.0946\n",
      "                              (17.442)                         (8.5744)          (8.6115)\n",
      "black                          -0.1392                          -0.1394           -0.1388\n",
      "                             (-5.9049)                        (-2.9054)         (-2.8193)\n",
      "hisp                            0.0160                           0.0217            0.0048\n",
      "                              (0.7703)                         (0.5078)          (0.1110)\n",
      "d81                             0.0583         0.1512            0.0404            0.2016\n",
      "                              (1.9214)       (6.8883)          (1.6362)          (3.6497)\n",
      "d82                             0.0628         0.2530            0.0309            0.3538\n",
      "                              (1.8900)       (10.360)          (0.9519)          (3.3923)\n",
      "d83                             0.0620         0.3544            0.0202            0.5058\n",
      "                              (1.6915)       (12.121)          (0.4840)          (3.2650)\n",
      "d84                             0.0905         0.4901            0.0430            0.6919\n",
      "                              (2.2566)       (13.529)          (0.8350)          (3.3580)\n",
      "d85                             0.1092         0.6175            0.0577            0.8697\n",
      "                              (2.5200)       (13.648)          (0.9383)          (3.3768)\n",
      "d86                             0.1420         0.7655            0.0918            1.0681\n",
      "                              (3.0580)       (13.638)          (1.2834)          (3.4525)\n",
      "d87                             0.1738         0.9250            0.1348            1.2781\n",
      "                              (3.5165)       (13.450)          (1.6504)          (3.5351)\n",
      "married_mean                                                                       0.0970\n",
      "                                                                                 (2.1382)\n",
      "union_mean                                                                         0.1907\n",
      "                                                                                 (3.7591)\n",
      "expersq_mean                                                                       0.0103\n",
      "                                                                                 (3.1135)\n",
      "======================= ============== ============== ================= =================\n",
      "Effects                                        Entity                                    \n",
      "-----------------------------------------------------------------------------------------\n",
      "\n",
      "T-stats reported in parentheses\n"
     ]
    }
   ],
   "source": [
    "res_ordered = OrderedDict(res)\n",
    "print(compare(res_ordered))"
   ]
  },
  {
   "cell_type": "markdown",
   "metadata": {
    "hidden": true
   },
   "source": [
    "* `married`\n",
    "    * OLSでの結婚プレミアムは10％以上あるが，FEでは半減している。これは観察単位の異質性$a_i$に生産性が含まれており，「生産性が高い人（高い$a_i$）は，結婚している可能性が高い」という考えと一貫性がある。即ち，$\\text{Cov}\\left(a_i,x_{it}\\right)>0$となり，これによりOLSでは以下のようなバイアスが発生すると解釈できる。\n",
    "        * 既婚 $\\Rightarrow$ 生産性（$a_i$）が高い $\\Rightarrow$ 賃金が上振れしやすい\n",
    "        * 未婚 $\\Rightarrow$ 生産性（$a_i$）が低い $\\Rightarrow$ 賃金が下振れしやすい\n",
    "    * FE推定法が示しているのは，そのようなバイアスを取り除いても，結婚プレミアムは存在する。考えられる理由は：\n",
    "        * 結婚は生産性を上昇させる\n",
    "        * 結婚は安定した生活を意味し，それに対して企業はより高い賃金を払う\n",
    "    * REは推定値はFEに比較的に近い。これは$\\hat{\\theta}>0.5$の値にも現れている。\n",
    "* `union`\n",
    "    * FEの値は労働組合の賃金に対する影響力を示している。\n",
    "    * OLSとFEの推定値を比較すると，約0.1減少している。OLSは労働組合の影響力を過大評価しており，観察単位の異質性が大きく働いていることがわかる。\n",
    "* `educ`，`black`，`hisp`\n",
    "    * OLSもREも推定値は似ている。"
   ]
  },
  {
   "cell_type": "markdown",
   "metadata": {
    "heading_collapsed": true,
    "hidden": true
   },
   "source": [
    "### FD vs. FE"
   ]
  },
  {
   "cell_type": "markdown",
   "metadata": {
    "hidden": true
   },
   "source": [
    "1階差分モデルと固定効果モデルを比較する。\n",
    "* $T=2$の場合，FDとFEは同じ（if there is intercept in FE）\n",
    "* $T\\geq 3$の場合：\n",
    "    * GM仮定に対応する仮定の下ではFDもFEも不偏性・一致性を満たす。\n",
    "    * 誤差項に系列相関がない場合，FEの方が効率性が高い\n",
    "    * 誤差項の系列相関がある場合，FDの方が良い。\n",
    "        * 例えば，誤差項がランダム・ウォークの場合$\\Delta u_{it}$は系列相関はない。\n",
    "        * FD推定をして$\\Delta u_{it}$を検定する。\n",
    "    * $N$が少なく$T$が大きい場合（例：$N=20$と$T=30$），時系列の特性が強くなるので，FDの方が良い\n",
    "* 実証研究では，FDとFEの結果の両方を報告すること。"
   ]
  },
  {
   "cell_type": "markdown",
   "metadata": {
    "heading_collapsed": true,
    "hidden": true
   },
   "source": [
    "### FE vs. RE"
   ]
  },
  {
   "cell_type": "markdown",
   "metadata": {
    "hidden": true
   },
   "source": [
    "固定効果モデルとランダム効果モデルを比較する。\n",
    "1. $a_i$はランダムか？\n",
    "    * 経済学の場合，説明変数は何らかの選択の結果の場合が多い。さらに，その選択が観察単位の特徴に依存する場合，$\\text{Cov}\\left(a_ix_{it}\\right)\\neq 0$となり，FEモデルの方が適切となる。\n",
    "    * 都道府県データのような場合，「大きな」母集団からランダムに抽出された説明変数とはならないかも知れない。むしろ，都道府県の切片がランダムではなく，単に異なると仮定する方が自然かも知れない。\n",
    "1. Hausman検定であれ他の検定であれ，間違う確率は存在する。以下では間違った場合どうなるかを考えた。\n",
    "    * $\\text{Cov}\\left(a_ix_{it}\\right)= 0$，即ち，REモデルが正しい場合：\n",
    "        * 誤差項の自己相関があるが，FE推定量は不偏性を満たす\n",
    "    * $\\text{Cov}\\left(a_ix_{it}\\right)\\neq 0$，即ち，FEモデルが正しい場合：\n",
    "        * GM仮定４が満たされないため，RE推定量は不偏性を満たさない\n",
    "\n",
    "Pros for RE\n",
    "1. FEの場合，時間に対して変化しない変数の係数を推定できない\n",
    "2. 回帰式が非線形の場合（例えば，Probit），FEでは対応できない。\n",
    "\n",
    "\n",
    "（結論）一般的にFEの方が適切な場合が多いのではないか。"
   ]
  },
  {
   "cell_type": "markdown",
   "metadata": {
    "heading_collapsed": true
   },
   "source": [
    "## シミュレーション"
   ]
  },
  {
   "cell_type": "markdown",
   "metadata": {
    "hidden": true
   },
   "source": [
    "（目的）真のモデルでは観察単位の固定効果がある場合を考え，FE推定量とRE推定量を比較する。\n",
    "\n",
    "単回帰を想定する。以下を真の値として設定する。"
   ]
  },
  {
   "cell_type": "code",
   "execution_count": 32,
   "metadata": {
    "hidden": true
   },
   "outputs": [],
   "source": [
    "b0 = 1  # 定数項\n",
    "b1 = 2  # スロープ係数"
   ]
  },
  {
   "cell_type": "markdown",
   "metadata": {
    "heading_collapsed": true,
    "hidden": true
   },
   "source": [
    "### 推定値の計算"
   ]
  },
  {
   "cell_type": "markdown",
   "metadata": {
    "hidden": true
   },
   "source": [
    "シミュレーションの基本パラメータ等の設定"
   ]
  },
  {
   "cell_type": "code",
   "execution_count": 33,
   "metadata": {
    "hidden": true
   },
   "outputs": [],
   "source": [
    "N = 100  # 観察単位の数\n",
    "T = 5  # 時間数\n",
    "ai = np.linspace(0,10,N)  # 観察単位の異質性"
   ]
  },
  {
   "cell_type": "markdown",
   "metadata": {
    "hidden": true
   },
   "source": [
    "`for`ループによる`DataFrame`の作成。"
   ]
  },
  {
   "cell_type": "code",
   "execution_count": 34,
   "metadata": {
    "hidden": true
   },
   "outputs": [],
   "source": [
    "df_sim = pd.DataFrame()  # 空のDataFrame\n",
    "\n",
    "for (idx,a) in enumerate(ai):\n",
    "    \n",
    "    x = norm.rvs(a,1,size=T)  # T個のaが平均となるランダムな数\n",
    "    u = norm.rvs(0,1,size=T)  # 誤差項\n",
    "    y = b0 + b1*x + a + u  # 被説明変数\n",
    "    df_idx = pd.DataFrame({'id':[idx]*T,    # 観察個体のID\n",
    "                         'time':np.array(range(T))+2000,\n",
    "                         'Y':y,\n",
    "                         'X':x,\n",
    "                         'ai':[a]*T})\n",
    "    df_sim = pd.concat([df_sim,df_idx])"
   ]
  },
  {
   "cell_type": "markdown",
   "metadata": {
    "hidden": true
   },
   "source": [
    "`DataFrame`の微調整。"
   ]
  },
  {
   "cell_type": "code",
   "execution_count": 35,
   "metadata": {
    "hidden": true
   },
   "outputs": [
    {
     "data": {
      "text/html": [
       "<div>\n",
       "<style scoped>\n",
       "    .dataframe tbody tr th:only-of-type {\n",
       "        vertical-align: middle;\n",
       "    }\n",
       "\n",
       "    .dataframe tbody tr th {\n",
       "        vertical-align: top;\n",
       "    }\n",
       "\n",
       "    .dataframe thead th {\n",
       "        text-align: right;\n",
       "    }\n",
       "</style>\n",
       "<table border=\"1\" class=\"dataframe\">\n",
       "  <thead>\n",
       "    <tr style=\"text-align: right;\">\n",
       "      <th></th>\n",
       "      <th></th>\n",
       "      <th>Y</th>\n",
       "      <th>X</th>\n",
       "      <th>ai</th>\n",
       "    </tr>\n",
       "    <tr>\n",
       "      <th>id</th>\n",
       "      <th>time</th>\n",
       "      <th></th>\n",
       "      <th></th>\n",
       "      <th></th>\n",
       "    </tr>\n",
       "  </thead>\n",
       "  <tbody>\n",
       "    <tr>\n",
       "      <th rowspan=\"5\" valign=\"top\">0</th>\n",
       "      <th>2000</th>\n",
       "      <td>-0.515716</td>\n",
       "      <td>-0.445760</td>\n",
       "      <td>0.0</td>\n",
       "    </tr>\n",
       "    <tr>\n",
       "      <th>2001</th>\n",
       "      <td>0.288410</td>\n",
       "      <td>-0.595419</td>\n",
       "      <td>0.0</td>\n",
       "    </tr>\n",
       "    <tr>\n",
       "      <th>2002</th>\n",
       "      <td>3.327810</td>\n",
       "      <td>1.827633</td>\n",
       "      <td>0.0</td>\n",
       "    </tr>\n",
       "    <tr>\n",
       "      <th>2003</th>\n",
       "      <td>3.763537</td>\n",
       "      <td>1.895559</td>\n",
       "      <td>0.0</td>\n",
       "    </tr>\n",
       "    <tr>\n",
       "      <th>2004</th>\n",
       "      <td>-0.972871</td>\n",
       "      <td>-1.160546</td>\n",
       "      <td>0.0</td>\n",
       "    </tr>\n",
       "  </tbody>\n",
       "</table>\n",
       "</div>"
      ],
      "text/plain": [
       "                Y         X   ai\n",
       "id time                         \n",
       "0  2000 -0.515716 -0.445760  0.0\n",
       "   2001  0.288410 -0.595419  0.0\n",
       "   2002  3.327810  1.827633  0.0\n",
       "   2003  3.763537  1.895559  0.0\n",
       "   2004 -0.972871 -1.160546  0.0"
      ]
     },
     "execution_count": 35,
     "metadata": {},
     "output_type": "execute_result"
    }
   ],
   "source": [
    "# id と time の列を 整数型に変換（省いても問題ない）\n",
    "df_sim['id'] = df_sim['id'].astype(int)\n",
    "df_sim['time'] = df_sim['time'].astype(int)\n",
    "\n",
    "# MultiIndex化\n",
    "df_sim = df_sim.set_index(['id','time'])\n",
    "\n",
    "df_sim.head()"
   ]
  },
  {
   "cell_type": "markdown",
   "metadata": {
    "hidden": true
   },
   "source": [
    "固定効果モデルによる推定。"
   ]
  },
  {
   "cell_type": "code",
   "execution_count": 36,
   "metadata": {
    "hidden": true
   },
   "outputs": [
    {
     "name": "stdout",
     "output_type": "stream",
     "text": [
      "                             Parameter Estimates                              \n",
      "==============================================================================\n",
      "            Parameter  Std. Err.     T-stat    P-value    Lower CI    Upper CI\n",
      "------------------------------------------------------------------------------\n",
      "X              1.9558     0.0474     41.246     0.0000      1.8626      2.0490\n",
      "==============================================================================\n"
     ]
    }
   ],
   "source": [
    "form_sim_fe = 'Y ~ X + EntityEffects'\n",
    "\n",
    "sim_fe = PanelOLS.from_formula(form_sim_fe, data=df_sim).fit()\n",
    "\n",
    "print(sim_fe.summary.tables[1])"
   ]
  },
  {
   "cell_type": "markdown",
   "metadata": {
    "hidden": true
   },
   "source": [
    "ランダム効果モデルによる推定。"
   ]
  },
  {
   "cell_type": "code",
   "execution_count": 37,
   "metadata": {
    "hidden": true
   },
   "outputs": [
    {
     "name": "stdout",
     "output_type": "stream",
     "text": [
      "                             Parameter Estimates                              \n",
      "==============================================================================\n",
      "            Parameter  Std. Err.     T-stat    P-value    Lower CI    Upper CI\n",
      "------------------------------------------------------------------------------\n",
      "Intercept      1.9760     0.1436     13.758     0.0000      1.6938      2.2582\n",
      "X              2.7955     0.0239     116.84     0.0000      2.7485      2.8425\n",
      "==============================================================================\n",
      "theta: [0.27728867]\n"
     ]
    }
   ],
   "source": [
    "form_sim_re = 'Y ~ 1 + X'\n",
    "\n",
    "sim_re = RandomEffects.from_formula(form_sim_re, data=df_sim).fit()\n",
    "\n",
    "print(sim_re.summary.tables[1])\n",
    "print('theta:', sim_re.theta.iloc[0,:].values)"
   ]
  },
  {
   "cell_type": "markdown",
   "metadata": {
    "hidden": true
   },
   "source": [
    "$\\text{Cov}\\left(a_i,x_{it}\\right)>0$により上方バイアスが発生している。"
   ]
  },
  {
   "cell_type": "markdown",
   "metadata": {
    "hidden": true
   },
   "source": [
    "相関ランダム効果モデルによる推定。\n",
    "\n",
    "まず，観察単位の`X`の平均の列を追加する。"
   ]
  },
  {
   "cell_type": "code",
   "execution_count": 38,
   "metadata": {
    "hidden": true
   },
   "outputs": [],
   "source": [
    "df_sim = add_col_mean(df_sim, 'X', 'X_mean')"
   ]
  },
  {
   "cell_type": "code",
   "execution_count": 39,
   "metadata": {
    "hidden": true
   },
   "outputs": [
    {
     "name": "stdout",
     "output_type": "stream",
     "text": [
      "                             Parameter Estimates                              \n",
      "==============================================================================\n",
      "            Parameter  Std. Err.     T-stat    P-value    Lower CI    Upper CI\n",
      "------------------------------------------------------------------------------\n",
      "Intercept      1.2484     0.1158     10.781     0.0000      1.0209      1.4759\n",
      "X              1.9558     0.0474     41.277     0.0000      1.8627      2.0489\n",
      "X_mean         0.9840     0.0513     19.172     0.0000      0.8831      1.0848\n",
      "==============================================================================\n"
     ]
    }
   ],
   "source": [
    "form_sim_cre = 'Y ~ 1 + X + X_mean'\n",
    "\n",
    "sim_cre = RandomEffects.from_formula(form_sim_cre, data=df_sim).fit()\n",
    "\n",
    "print(sim_cre.summary.tables[1])"
   ]
  },
  {
   "cell_type": "markdown",
   "metadata": {
    "hidden": true
   },
   "source": [
    "通常のOLS（Pooled OLS）による推定はバイアスが発生する。"
   ]
  },
  {
   "cell_type": "code",
   "execution_count": 40,
   "metadata": {
    "hidden": true
   },
   "outputs": [
    {
     "name": "stdout",
     "output_type": "stream",
     "text": [
      "                             Parameter Estimates                              \n",
      "==============================================================================\n",
      "            Parameter  Std. Err.     T-stat    P-value    Lower CI    Upper CI\n",
      "------------------------------------------------------------------------------\n",
      "Intercept      1.6570     0.1135     14.597     0.0000      1.4340      1.8801\n",
      "X              2.8587     0.0191     149.60     0.0000      2.8212      2.8963\n",
      "==============================================================================\n"
     ]
    }
   ],
   "source": [
    "form_sim_pool = 'Y ~ 1 + X'\n",
    "\n",
    "sim_pool = PooledOLS.from_formula(form_sim_pool, data=df_sim).fit()\n",
    "\n",
    "print(sim_pool.summary.tables[1])"
   ]
  },
  {
   "cell_type": "markdown",
   "metadata": {
    "heading_collapsed": true,
    "hidden": true
   },
   "source": [
    "### 推定値の分布"
   ]
  },
  {
   "cell_type": "markdown",
   "metadata": {
    "hidden": true
   },
   "source": [
    "基本的に上のシミュレーションのコードを応用する。"
   ]
  },
  {
   "cell_type": "code",
   "execution_count": 41,
   "metadata": {
    "hidden": true
   },
   "outputs": [],
   "source": [
    "N = 100  # 観察単位数\n",
    "T = 5  # 年数\n",
    "R = 100  # シミュレーションの回数\n",
    "ai = np.linspace(0,10,N)  # 観察単位の異質性"
   ]
  },
  {
   "cell_type": "markdown",
   "metadata": {
    "hidden": true
   },
   "source": [
    "（下のコードについて）\n",
    "* ランダム効果モデルの推定には`linearmodels`を使っている。固定効果モデルと通常のOLS推定にも`linearmodels`を使うと必要がない統計量も計算するため計算に時間が掛かる。少しでも計算時間を縮めるために「手計算」をする。"
   ]
  },
  {
   "cell_type": "code",
   "execution_count": 42,
   "metadata": {
    "hidden": true
   },
   "outputs": [],
   "source": [
    "bhat_fe_list = []  # FE推定値を入れるための空のリスト\n",
    "bhat_re_list = []  # RE推定値を入れるための空のリスト\n",
    "bhat_pool_list = []  # Pooled OLS推定値を入れるための空のリスト\n",
    "\n",
    "for _ in range(R):  # Rの値は下のコードで使わないので\"_\"に設定する\n",
    "    \n",
    "    df = pd.DataFrame()  # 空のDataFrame\n",
    "\n",
    "    # データの生成\n",
    "    for (idx,a) in enumerate(ai):\n",
    "        x = norm.rvs(a,1,size=T)  # T個のaが平均となるランダムな数\n",
    "        u = norm.rvs(0,1,size=T)  # T個の誤差項\n",
    "        y = b0 + b1*x + a + u  # T個の被説明変数\n",
    "        df_idx = pd.DataFrame({'id':[idx]*T,      # DataFrameへ表の追加\n",
    "                             'time':np.array(range(T))+2000,\n",
    "                             'Y':y,\n",
    "                             'X':x,\n",
    "                             'ai':[a]*T})\n",
    "        df = pd.concat([df,df_idx])\n",
    "        \n",
    "    # RE推定\n",
    "    df_re = df.set_index(['id','time'])  # MultiIndex化\n",
    "    form_sim_re = 'Y ~ 1 + X'\n",
    "    sim_re = RandomEffects.from_formula(form_sim_re, data=df_re).fit()\n",
    "    bhat_re_list.append(sim_re.params[1])\n",
    "\n",
    "    # FE推定\n",
    "    df_fe = df.loc[:,['Y','X']] - df.groupby('id')[['Y','X']].transform('mean')\n",
    "    Yfe = df_fe.loc[:,'Y'].values\n",
    "    Xfe = df_fe.loc[:,'X'].values[:,None]  # [:,None]は(N*T,1)の行列に変換\n",
    "    bhat_fe = (np.linalg.inv(Xfe.T@Xfe)@Xfe.T@Yfe)[0]\n",
    "    bhat_fe_list.append(bhat_fe)\n",
    "    \n",
    "    # Pooled OLS推定\n",
    "    c = np.ones(N*T)\n",
    "    Xpool = np.stack([c, df.loc[:,'X'].values], axis=1)\n",
    "    Ypool = df.loc[:,'Y'].values\n",
    "    bhat_pool = (np.linalg.inv(Xpool.T@Xpool)@Xpool.T@Ypool)[1]\n",
    "    bhat_pool_list.append(bhat_pool)"
   ]
  },
  {
   "cell_type": "markdown",
   "metadata": {
    "hidden": true
   },
   "source": [
    "分布の図示"
   ]
  },
  {
   "cell_type": "code",
   "execution_count": 43,
   "metadata": {
    "hidden": true
   },
   "outputs": [
    {
     "data": {
      "image/png": "[encoded data removed]",
      "text/plain": [
       "<Figure size 432x288 with 1 Axes>"
      ]
     },
     "metadata": {
      "filenames": {
       "image/png": "/Users/Tetsu/Documents/My_Simulation/Python/JupyterBooks/py4etrics.github.io/_build/jupyter_execute/17_Panel_133_0.png"
      },
      "needs_background": "light"
     },
     "output_type": "display_data"
    }
   ],
   "source": [
    "xx=np.linspace(1.6,3.1,num=100)  # 図を作成するために横軸の値を設定\n",
    "\n",
    "kde_model_fe=gaussian_kde(bhat_fe_list)  # FE推定量のカーネル密度関数を計算\n",
    "\n",
    "kde_model_re=gaussian_kde(bhat_re_list)  # RE推定量のカーネル密度関数を計算\n",
    "\n",
    "kde_model_pool=gaussian_kde(bhat_pool_list)  # Pooled OLS推定量のカーネル密度関数を計算\n",
    "\n",
    "plt.plot(xx, kde_model_fe(xx), 'g-', label='FE')  # FE推定量の分布プロット\n",
    "plt.plot(xx, kde_model_re(xx),'r-', label='RE')  # RE推定量の分布プロット\n",
    "plt.plot(xx, kde_model_pool(xx),'k-', label='Pooled OLS')  # RE推定量の分布プロット\n",
    "plt.axvline(x=b1,linestyle='dashed')  # 真の値での垂直線\n",
    "plt.ylabel('Kernel Density')  # 縦軸のラベル\n",
    "plt.legend()  # 凡例\n",
    "pass"
   ]
  },
  {
   "cell_type": "markdown",
   "metadata": {
    "heading_collapsed": true
   },
   "source": [
    "## 標準誤差の問題"
   ]
  },
  {
   "cell_type": "markdown",
   "metadata": {
    "hidden": true
   },
   "source": [
    "(式３)の固定効果モデルを考えよう。パネル・データの場合，次の2つの問題が発生する場合がある。\n",
    "* 残差の不均一分散\n",
    "* 残差の自己相関\n",
    "\n",
    "これらの問題が発生しても，基本的な仮定のもとでFE推定量は不偏性と一致性を満たす。しかし，係数の標準誤差は有効ではなくなり検定が無効となる。その対処方法として**クラスター頑健的推定**を使う。これは不均一分散の章で説明した不均一分散頑健的推定を自己相関に拡張し，パネル・データ用に考案された推定と理解すれば十分である。以下では，その使い方を説明する。"
   ]
  },
  {
   "cell_type": "markdown",
   "metadata": {
    "heading_collapsed": true,
    "hidden": true
   },
   "source": [
    "### 分散の確認"
   ]
  },
  {
   "cell_type": "markdown",
   "metadata": {
    "hidden": true
   },
   "source": [
    "`linearmodels`には残差の均一分散を調べるBreusch-Pagan検定やWhite検定をおこなうメソッドは用意されていない。ここでは`statsmodels`を使いWooldridge (2016,p.253)で説明されているWhite検定に基づく検定をおこなう。次に必要な変数を作成する。"
   ]
  },
  {
   "cell_type": "code",
   "execution_count": 44,
   "metadata": {
    "hidden": true
   },
   "outputs": [],
   "source": [
    "# 残差\n",
    "u_hat = result_fe.resids.values.flatten()\n",
    "\n",
    "# 被説明変数の予測値\n",
    "y_hat = result_fe.fitted_values.values.flatten()\n",
    "\n",
    "# DataFrameの作成\n",
    "df_white = pd.DataFrame({'u_hat':u_hat,'y_hat':y_hat})"
   ]
  },
  {
   "cell_type": "markdown",
   "metadata": {
    "hidden": true
   },
   "source": [
    "（上のコードの説明）\n",
    "* `resids`は残差を`DataFrame`として取得する属性\n",
    "* `fitted_values`は予測値を`DataFrame`として取得する属性\n",
    "* `values`は`DataFrame`を`array`として返す属性\n",
    "* `flatten()`は`array`が2次元になっているのを1次元に変換するメソッド\n",
    "    * `array([[..],[..],...[...]])`を`array([....])`に変換する。"
   ]
  },
  {
   "cell_type": "markdown",
   "metadata": {
    "hidden": true
   },
   "source": [
    "検定に使う式\n",
    "\n",
    "$$\\hat{u}^2=\\beta_0+\\beta_1\\hat{y}+\\beta_2\\hat{y}^2+e$$\n",
    "\n",
    "* $\\text{H}_0：\\beta_1=\\beta_2=0$（均一分散）\n",
    "* $\\text{H}_A：$帰無仮説は成立しない"
   ]
  },
  {
   "cell_type": "code",
   "execution_count": 45,
   "metadata": {
    "hidden": true
   },
   "outputs": [
    {
     "name": "stdout",
     "output_type": "stream",
     "text": [
      "=================================================================================\n",
      "                    coef    std err          t      P>|t|      [0.025      0.975]\n",
      "---------------------------------------------------------------------------------\n",
      "Intercept         0.1172      0.010     11.249      0.000       0.097       0.138\n",
      "y_hat            -0.0205      0.048     -0.428      0.668      -0.114       0.073\n",
      "I(y_hat ** 2)    -0.0550      0.099     -0.557      0.577      -0.248       0.138\n",
      "=================================================================================\n",
      "F検定のp値： 0.4354339447413128\n"
     ]
    }
   ],
   "source": [
    "form_white = 'I(u_hat**2) ~ y_hat + I(y_hat**2)'\n",
    "\n",
    "res_white = ols(form_white, data=df_white).fit()\n",
    "\n",
    "print(res_white.summary().tables[1])\n",
    "print('F検定のp値：',res_white.f_pvalue)"
   ]
  },
  {
   "cell_type": "markdown",
   "metadata": {
    "hidden": true
   },
   "source": [
    "帰無仮説は棄却できない。\n",
    "\n",
    "次に図を使い確認する。"
   ]
  },
  {
   "cell_type": "code",
   "execution_count": 46,
   "metadata": {
    "hidden": true
   },
   "outputs": [
    {
     "data": {
      "image/png": "[encoded data removed]",
      "text/plain": [
       "<Figure size 432x288 with 1 Axes>"
      ]
     },
     "metadata": {
      "filenames": {
       "image/png": "/Users/Tetsu/Documents/My_Simulation/Python/JupyterBooks/py4etrics.github.io/_build/jupyter_execute/17_Panel_143_0.png"
      },
      "needs_background": "light"
     },
     "output_type": "display_data"
    }
   ],
   "source": [
    "b0 = res_white.params[0] # beta0\n",
    "b1 = res_white.params[1] # beta1\n",
    "b2 = res_white.params[2] # beta2\n",
    "\n",
    "xx = np.linspace(min(y_hat), max(y_hat), 100) # x軸の値\n",
    "z = b0 + b1*xx + b1*xx**2  # 検定に使った式\n",
    "\n",
    "plt.scatter(y_hat, u_hat**2)  # u_hat, y_hatの散布図\n",
    "plt.plot(xx, z, 'red', linewidth=3)  # 検定の式の曲線\n",
    "plt.xlabel('y_hat')\n",
    "plt.ylabel('u_hat^2')\n",
    "pass"
   ]
  },
  {
   "cell_type": "markdown",
   "metadata": {
    "hidden": true
   },
   "source": [
    "（解説）\n",
    "* 上の検定で推定した式は赤い線である。殆ど平行になっているため帰無仮説を棄却できなかった。\n",
    "* 図の中で`y_hat`の値が`-0.2`を境に`u_hat`の変動はより大きくなっており，不均一分散の疑いが高い。"
   ]
  },
  {
   "cell_type": "markdown",
   "metadata": {
    "heading_collapsed": true,
    "hidden": true
   },
   "source": [
    "### 対処方法"
   ]
  },
  {
   "cell_type": "markdown",
   "metadata": {
    "hidden": true
   },
   "source": [
    "＜使い方＞\n",
    "* メソッド`fit()`に以下の引数を指定する。\n",
    "    * 不均一分散だけの場合：`cov_type='clustered', cluster_entity=True`\n",
    "    * 不均一分散と系列相関の場合：`cov_type='clustered', cluster_entity=True, cluster_time=True`\n",
    "\n",
    "\n",
    "（注意）\n",
    "* 係数の推定値は変わらない。\n",
    "* 係数の標準誤差だけが修正され，有効な検定ができるようになる。\n",
    "\n",
    "\n",
    "`wagepan`を使って上で推定した式にクラスター頑健的推定を使う。\n",
    "\n",
    "＜不均一分散かだけの場合＞"
   ]
  },
  {
   "cell_type": "code",
   "execution_count": 47,
   "metadata": {
    "hidden": true
   },
   "outputs": [
    {
     "name": "stdout",
     "output_type": "stream",
     "text": [
      "                             Parameter Estimates                              \n",
      "==============================================================================\n",
      "            Parameter  Std. Err.     T-stat    P-value    Lower CI    Upper CI\n",
      "------------------------------------------------------------------------------\n",
      "married        0.0467     0.0210     2.2245     0.0262      0.0055      0.0878\n",
      "union          0.0800     0.0227     3.5209     0.0004      0.0355      0.1246\n",
      "expersq       -0.0052     0.0008    -6.4058     0.0000     -0.0068     -0.0036\n",
      "d81            0.1512     0.0255     5.9195     0.0000      0.1011      0.2013\n",
      "d82            0.2530     0.0286     8.8340     0.0000      0.1968      0.3091\n",
      "d83            0.3544     0.0348     10.177     0.0000      0.2862      0.4227\n",
      "d84            0.4901     0.0454     10.792     0.0000      0.4011      0.5792\n",
      "d85            0.6175     0.0568     10.879     0.0000      0.5062      0.7288\n",
      "d86            0.7655     0.0712     10.755     0.0000      0.6259      0.9050\n",
      "d87            0.9250     0.0840     11.015     0.0000      0.7604      1.0897\n",
      "==============================================================================\n"
     ]
    }
   ],
   "source": [
    "mod_fe_clus1 = PanelOLS.from_formula(formula_fe, data=wagepan)\n",
    "\n",
    "res_fe_clus1 = mod_fe_clus1.fit(cov_type='clustered', cluster_entity=True)\n",
    "\n",
    "print(res_fe_clus1.summary.tables[1])"
   ]
  },
  {
   "cell_type": "markdown",
   "metadata": {
    "hidden": true
   },
   "source": [
    "＜不均一分散と系列相関の場合＞"
   ]
  },
  {
   "cell_type": "code",
   "execution_count": 48,
   "metadata": {
    "hidden": true
   },
   "outputs": [
    {
     "name": "stdout",
     "output_type": "stream",
     "text": [
      "                             Parameter Estimates                              \n",
      "==============================================================================\n",
      "            Parameter  Std. Err.     T-stat    P-value    Lower CI    Upper CI\n",
      "------------------------------------------------------------------------------\n",
      "married        0.0467     0.0165     2.8312     0.0047      0.0144      0.0790\n",
      "union          0.0800     0.0234     3.4242     0.0006      0.0342      0.1258\n",
      "expersq       -0.0052     0.0008    -6.6189     0.0000     -0.0067     -0.0036\n",
      "d81            0.1512     0.0066     23.020     0.0000      0.1383      0.1641\n",
      "d82            0.2530     0.0168     15.027     0.0000      0.2200      0.2860\n",
      "d83            0.3544     0.0255     13.886     0.0000      0.3044      0.4045\n",
      "d84            0.4901     0.0374     13.113     0.0000      0.4168      0.5634\n",
      "d85            0.6175     0.0499     12.366     0.0000      0.5196      0.7154\n",
      "d86            0.7655     0.0646     11.858     0.0000      0.6389      0.8921\n",
      "d87            0.9250     0.0776     11.913     0.0000      0.7728      1.0773\n",
      "==============================================================================\n"
     ]
    }
   ],
   "source": [
    "mod_fe_clus2 = PanelOLS.from_formula(formula_fe, data=wagepan)\n",
    "\n",
    "res_fe_clus2 = mod_fe_clus2.fit(cov_type='clustered', cluster_entity=True, cluster_time=True)\n",
    "\n",
    "print(res_fe_clus2.summary.tables[1])"
   ]
  }
 ],
 "metadata": {
  "celltoolbar": "Tags",
  "kernelspec": {
   "display_name": "latest",
   "language": "python",
   "name": "latest"
  },
  "language_info": {
   "codemirror_mode": {
    "name": "ipython",
    "version": 3
   },
   "file_extension": ".py",
   "mimetype": "text/x-python",
   "name": "python",
   "nbconvert_exporter": "python",
   "pygments_lexer": "ipython3",
   "version": "3.8.3"
  },
  "toc": {
   "base_numbering": 1,
   "nav_menu": {},
   "number_sections": true,
   "sideBar": true,
   "skip_h1_title": false,
   "title_cell": "Table of Contents",
   "title_sidebar": "Contents",
   "toc_cell": false,
   "toc_position": {},
   "toc_section_display": true,
   "toc_window_display": false
  }
 },
 "nbformat": 4,
 "nbformat_minor": 2
}