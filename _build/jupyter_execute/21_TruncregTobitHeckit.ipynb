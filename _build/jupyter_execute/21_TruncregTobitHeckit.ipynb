{
 "cells": [
  {
   "cell_type": "markdown",
   "metadata": {},
   "source": [
    "# 制限従属変数モデル"
   ]
  },
  {
   "cell_type": "markdown",
   "metadata": {},
   "source": [
    "If you come here without expecting Japanese, please click [Google translated version](https://translate.google.com/translate?hl=&sl=ja&tl=en&u=https%3A%2F%2Fpy4etrics.github.io%2F21_TruncregTobitHeckit.html) in English or the language of your choice.\n",
    "\n",
    "---"
   ]
  },
  {
   "cell_type": "code",
   "execution_count": 1,
   "metadata": {},
   "outputs": [],
   "source": [
    "import numpy as np\n",
    "import pandas as pd\n",
    "from scipy.stats import norm\n",
    "from statsmodels.formula.api import ols\n",
    "import matplotlib.pyplot as plt\n",
    "import wooldridge\n",
    "from see import see\n",
    "from py4etrics.truncreg import Truncreg\n",
    "from py4etrics.tobit import Tobit\n",
    "from py4etrics.heckit import Heckit\n",
    "from py4etrics.hetero_test import het_test_probit"
   ]
  },
  {
   "cell_type": "markdown",
   "metadata": {
    "heading_collapsed": true
   },
   "source": [
    "## 説明"
   ]
  },
  {
   "cell_type": "markdown",
   "metadata": {
    "hidden": true
   },
   "source": [
    "**制限従属変数**（Limited Dependent Variables; LDV）とは，被説明変数が取り得る値が大きく制限される場合を指す。`Logit`と`Probit`も制限従属変数の例であり，被説明変数は$(0,1)$に制限されている。この章では，違ったタイプの制限従属変数を考える。\n",
    "\n",
    "データの性質上２つに分けることができる。\n",
    "1. 切断データ（Truncated Data）\n",
    "    * 特定のデータが標本に含まれていない。\n",
    "    * 例：平成30年度「環境にやさしい企業行動調査」の調査対象企業は，従業員数500名以上となっており，500名未満の企業は含まれていない。\n",
    "1. 打ち切りデータ（Censored Data）\n",
    "    1. 端点解の場合\n",
    "        * 募金の金額の例：募金しない場合は０円だが，募金する人の額は正の値を取る。（下からの打ち切りデータ）\n",
    "    1. データ制約の場合\n",
    "        * 所得調査の例：Ｘ万円からＹ万円のようにカテゴリーでまとめる場合が通常であり，最高額カテゴリーはＺ万円以上のようになる。この場合，Ｚ万円以上の所得は全てＺ万円となる。（上からの打ち切りデータ）\n",
    "\n",
    "（コメント）以下のようにも呼ばれる\n",
    "* **下から**の打ち切りデータ ＝ **左から**の打ち切りデータ（left-censored）\n",
    "* **上から**の打ち切りデータ ＝ **右から**の打ち切りデータ（right-censored）"
   ]
  },
  {
   "cell_type": "markdown",
   "metadata": {
    "hidden": true
   },
   "source": [
    "---\n",
    "データの性質に分けて次のモデルの使い方を説明する。\n",
    "* 切断回帰モデル（Truncated Regression）：切断データ\n",
    "* Tobitモデル：打ち切りデータ\n",
    "* Heckitモデル：切断データで選択バイアス問題が発生する場合"
   ]
  },
  {
   "cell_type": "markdown",
   "metadata": {
    "heading_collapsed": true
   },
   "source": [
    "## 切断回帰モデル"
   ]
  },
  {
   "cell_type": "markdown",
   "metadata": {
    "heading_collapsed": true,
    "hidden": true
   },
   "source": [
    "### 説明"
   ]
  },
  {
   "cell_type": "markdown",
   "metadata": {
    "hidden": true
   },
   "source": [
    "無作為な形ではなく，ある特定の一部のデータが標本から欠らくしている切断データの分析を考える。例として，女性の労働供給を考えよう。\n",
    "\n",
    "$$\n",
    "\\begin{align*}\n",
    "&y_i=\\beta_0+\\beta_1x_i+u_i\\qquad i\\in\\cal{Y}\\\\\n",
    "&(y_i,x_i)\\text{は観察されない}\\qquad i\\in\\cal{N}\n",
    "\\end{align*}\n",
    "$$\n",
    "\n",
    "* $\\cal{Y}$：観測されたデータの集合（通常，無作為に選択されないと考える）。\n",
    "* $\\cal{N}$：観測されないデータの集合（通常，無作為に選択されないと考える）。\n",
    "* $x$：労働供給に関する決定要因（例えば，教育年数）\n",
    "* $u|x\\sim \\text{Normal}(0,\\sigma^2)$：労働供給に関するランダムな要素（例えば，好み）\n",
    "    * この仮定が非常に重要であり計算の前提となる。\n",
    "* $y_i$：実際の労働供給（非負の連続変数）\n",
    "\n",
    "＜＜結果＞＞\n",
    "* 標本集合$\\cal{Y}$は無作為標本ではない。従って，GM仮定２が満たされないためOLS推定量$\\hat{\\beta}_{\\text{ols}}$は不偏性を満たさない。また一致性も満たさない。\n",
    "\n",
    "---\n",
    "まずシミュレーションを使ってこの結果を直感的に確認する。"
   ]
  },
  {
   "cell_type": "markdown",
   "metadata": {
    "heading_collapsed": true,
    "hidden": true
   },
   "source": [
    "### シミュレーション"
   ]
  },
  {
   "cell_type": "code",
   "execution_count": 2,
   "metadata": {
    "hidden": true
   },
   "outputs": [],
   "source": [
    "# 標本の大きさ \n",
    "n = 100\n",
    "\n",
    "# y*を決定するx\n",
    "x = np.sort(norm.rvs(0,3,size=n))  # ランダム変数を生成し昇順に並べる\n",
    "\n",
    "# 被説明変数\n",
    "y = 1 + x + norm.rvs(0,3,size=n)\n",
    "\n",
    "# DataFrame\n",
    "df = pd.DataFrame({'Y':y, 'Y_trunc':y, 'X':x})\n",
    "\n",
    "# 閾値\n",
    "left = 0\n",
    "\n",
    "# 切断データの作成\n",
    "cond = (df.loc[:,'Y'] <= left)\n",
    "df.loc[cond,'Y_trunc'] = np.nan\n",
    "\n",
    "# 切断された被説明変数\n",
    "y_trunc = df['Y_trunc']"
   ]
  },
  {
   "cell_type": "markdown",
   "metadata": {
    "hidden": true
   },
   "source": [
    "ここで`np.nan`とは`NumPy`の定数であり，欠損値`NaN`を示す。`cond`の条件にある閾値`left=0`以下のデータは欠損値として設定されている。`NumPy`には次の定数もあるのでこの機会に紹介する。\n",
    "* `np.nan`：`NaN`\n",
    "* `np.inf`：（正の）無限\n",
    "* `np.e`：$e=2.71...$\n",
    "* `np.pi`：$\\pi=3.14...$"
   ]
  },
  {
   "cell_type": "markdown",
   "metadata": {
    "hidden": true
   },
   "source": [
    "母集団回帰式"
   ]
  },
  {
   "cell_type": "code",
   "execution_count": 3,
   "metadata": {
    "hidden": true
   },
   "outputs": [
    {
     "data": {
      "text/plain": [
       "Intercept    1.221595\n",
       "X            1.196727\n",
       "dtype: float64"
      ]
     },
     "execution_count": 3,
     "metadata": {},
     "output_type": "execute_result"
    }
   ],
   "source": [
    "formula_full = 'Y ~ X'\n",
    "\n",
    "result_full=  ols(formula_full, data=df).fit()\n",
    "\n",
    "b0_full,b1_full = result_full.params\n",
    "\n",
    "result_full.params"
   ]
  },
  {
   "cell_type": "markdown",
   "metadata": {
    "hidden": true
   },
   "source": [
    "切断データを使ったOLS回帰"
   ]
  },
  {
   "cell_type": "code",
   "execution_count": 4,
   "metadata": {
    "hidden": true
   },
   "outputs": [
    {
     "data": {
      "text/plain": [
       "Intercept    2.860036\n",
       "X            0.861730\n",
       "dtype: float64"
      ]
     },
     "execution_count": 4,
     "metadata": {},
     "output_type": "execute_result"
    }
   ],
   "source": [
    "formula_trunc = 'Y_trunc ~ X'\n",
    "\n",
    "result_trunc = ols(formula_trunc, data=df).fit()\n",
    "\n",
    "b0_trunc, b1_trunc = result_trunc.params\n",
    "\n",
    "result_trunc.params"
   ]
  },
  {
   "cell_type": "markdown",
   "metadata": {
    "hidden": true
   },
   "source": [
    "比較するために２つの結果を図示する。同じ図に描くために，先に切断データを整理する。"
   ]
  },
  {
   "cell_type": "code",
   "execution_count": 5,
   "metadata": {
    "hidden": true
   },
   "outputs": [],
   "source": [
    "x_trunc = df.dropna(subset=['Y_trunc']).loc[:,'X']  # 説明（１）\n",
    "x_min = min(x_trunc)  # 説明（２）\n",
    "x_max = max(x_trunc)  # 説明（３）"
   ]
  },
  {
   "cell_type": "markdown",
   "metadata": {
    "hidden": true
   },
   "source": [
    "（１）`.dropna()`を使って列`Y_trunc`から欠損値がある行を取り除き，列`X`を`x_trun`に割り当てる。\n",
    "\n",
    "（２）`x_trun`の最小値を設定。\n",
    "\n",
    "（２）`x_trun`の最大値を設定。\n",
    "\n",
    "`matplotlib`を使って２つの図を重ねて図示する。"
   ]
  },
  {
   "cell_type": "code",
   "execution_count": 6,
   "metadata": {
    "hidden": true
   },
   "outputs": [
    {
     "data": {
      "image/png": "[encoded data removed]",
      "text/plain": [
       "<Figure size 432x288 with 1 Axes>"
      ]
     },
     "metadata": {
      "filenames": {
       "image/png": "/Users/tetsu/Documents/My_Simulation/Python/JupyterBooks/py4etrics.github.io/_build/jupyter_execute/21_TruncregTobitHeckit_19_0.png"
      },
      "needs_background": "light"
     },
     "output_type": "display_data"
    }
   ],
   "source": [
    "# （１）母集団データの散布図\n",
    "plt.scatter(x, y, facecolors='none', edgecolors='gray',label=r'$y^{*}$')\n",
    "\n",
    "# （２）切断データの散布図\n",
    "plt.scatter(x, y_trunc, facecolors='gray', label=r'$y$ and $y^{*}$')\n",
    "\n",
    "# 母集団OLS\n",
    "plt.plot(x, b0_full+b1_full*x, 'k', linewidth=3, label='Population: $y^*$')\n",
    "\n",
    "# 切断回帰\n",
    "plt.plot(x_trunc, b0_trunc+b1_trunc*x_trunc, 'r', lw=3,label=r'Sample: $y> 0$')\n",
    "\n",
    "plt.xlabel('x')\n",
    "plt.ylabel(r'$y$ and $y^{*}$')\n",
    "plt.legend()\n",
    "pass"
   ]
  },
  {
   "cell_type": "markdown",
   "metadata": {
    "hidden": true
   },
   "source": [
    "＜`matplotlib`コードの説明＞\n",
    "\n",
    "（１）母集団データの散布図\n",
    "* 引数`facecolors`は全ての観測値の点の色を「なし」に設定する。\n",
    "* 引数`edgecolors`は全ての観測値の円周をグレーに設定する。\n",
    "* この２つにより，全ての観測値は左下の観測値のように白抜きのグレーの円として表示される。\n",
    "\n",
    "（２）切断データの散布図\n",
    "* 後にくる`plt.plot()`は前にある`plt.plot()`を上書きする。従って，切断データの観測値は母集団データの散布図上に重ねて表示されるため，引数`facecolors`を`gray`に設定することにより切断データだけをグレーの点として表示させることができる。"
   ]
  },
  {
   "cell_type": "markdown",
   "metadata": {
    "heading_collapsed": true,
    "hidden": true
   },
   "source": [
    "### 直感的な理解"
   ]
  },
  {
   "cell_type": "markdown",
   "metadata": {
    "hidden": true
   },
   "source": [
    "上の図を見るだけでも切断データによって引き起こされる問題をイメージすることはできるが，以下ではもう一歩踏み込んで推定量のバイアスの理由を直感的に考えてみる。\n",
    "\n",
    "**＜母集団回帰＞**\n",
    "\n",
    "母集団回帰式は\n",
    "\n",
    "$$y=\\beta_0+\\beta_1 x_1+e\\qquad\\text{(式１)}$$\n",
    "\n",
    "であり，全ての観測値をつかう（即ち，切断されたデータがない）場合の条件付き期待値である母集団回帰関数（母集団で平均で成立する回帰線）は\n",
    "\n",
    "$$\\text{E}\\left(y|x\\right)=\\beta_0+\\beta_1 x_1\\qquad\\text{(式２)}$$\n",
    "\n",
    "となる。"
   ]
  },
  {
   "cell_type": "markdown",
   "metadata": {
    "hidden": true
   },
   "source": [
    "**＜切断回帰＞**\n",
    "\n",
    "$y>0$のデータだけを使う回帰式は\n",
    "\n",
    "$$y_i=\\beta_0+\\beta_1 x_i+u_i\\qquad\\text{(式３)}$$\n",
    "\n",
    "となる。標本では$y_i\\leq 0$のデータが切断されているため，$y_i>0$を考慮し$x_i$を所与として(式３)の期待値を取ると\n",
    "\n",
    "$$\\text{E}\\left(y_i|y_i>0,x_i\\right)=\\beta_0+\\beta_1 x_i+\\sigma_u\\lambda\\left(w_i\\right)\\qquad\\text{(式４)}$$\n",
    "\n",
    "となる。ここで\n",
    "* $w_i\\equiv\\dfrac{A-(\\beta_0+\\beta_1x_i)}{\\sigma}$\n",
    "* $A$：下限の値（この例では`0`）\n",
    "* $\\sigma_u$：誤差項の標準偏差\n",
    "\n",
    "となるが，$\\sigma_u\\lambda\\left(w_i\\right)$の導出や$\\lambda\\left(\\cdot\\right)$の関数形が重要ではない。重要なのは，逆ミルズ比（inverse Mill's ratio）と呼ばれる$\\lambda(w_i)\\neq 0$の存在であり，$y>0$となる確率の影響を捉えているという点である。(式４)が$y>0$を考慮しているため，(式４)に基づいて次式\n",
    "\n",
    "$$\n",
    "y_i=\\beta_0+\\beta_1 x_i+\\sigma_u\\lambda\\left(w_i\\right)+\\nu_i\\qquad\\text{(式５)}\n",
    "$$\n",
    "\n",
    "を推定する必要がある。しかし(式３)をOLS推定すると，$\\lambda(x)$が欠落することになり，**欠落変数バイアス**が発生することになる。このバイアスは，上の図で黒と赤の回帰線の傾きの違いに現れている。OLS推定量はゼロ方向にバイアスが発生する事が知られている。"
   ]
  },
  {
   "cell_type": "markdown",
   "metadata": {
    "heading_collapsed": true,
    "hidden": true
   },
   "source": [
    "### `Truncreg`モジュールの使い方"
   ]
  },
  {
   "cell_type": "markdown",
   "metadata": {
    "hidden": true
   },
   "source": [
    "切断データを扱うために切断回帰モデルを展開する。ここでは具体的な内容は割愛するが，`Logit`と`Probit`と同じように最尤法をつかい推定する。\n",
    "\n",
    "* 切断回帰モデルの推定量は一致性を満たす。\n",
    "\n",
    "---\n",
    "`statsmodels`も`linearmodels`も`Tobit`推定のモジュールがない。その代わりに著者が作成した`py4etrics`パッケージの関数`trucreg`モジュールを使い推定する。これは`statsmodels`の`GenericMaximumLikelihoodModel`を使い実装したものである。使用する上で[このサイト](https://www.statsmodels.org/devel/examples/notebooks/generated/generic_mle.html)にある次の点に注意する必要がある。\n",
    "* `R`の推定値と小数点第４位まで同じになるが，標準偏差は小数点第２位までが同じとなる。"
   ]
  },
  {
   "cell_type": "markdown",
   "metadata": {
    "hidden": true
   },
   "source": [
    "````{note}\n",
    "MacではTerminal、WindowsではGit Bashを使い、次のコマンドで`py4etrics`モジュールをインストールできる。\n",
    "```\n",
    "pip install git+https://github.com/spring-haru/py4etrics.git\n",
    "```\n",
    "````"
   ]
  },
  {
   "cell_type": "markdown",
   "metadata": {
    "hidden": true,
    "tags": [
     "output_scroll"
    ]
   },
   "source": [
    "\n",
    "---\n",
    "＜使い方＞\n",
    "\n",
    "基本的に`statsmodels`の`ols`と同じだが，追加的な操作とオプションがある。\n",
    "1. 推定式を決める\n",
    "```\n",
    "    formula = 'y ~ 1 + x'\n",
    "```\n",
    "1. `Truncreg`の`from_formula`モジュールを使って推定\n",
    "```\n",
    "    Truncreg.from_formula(formula, left=<A>, right=<B>, data=<C>).fit()\n",
    "```\n",
    "\n",
    "ここで \n",
    "* `left`:左切断の値（デフォルトは$-\\infty$）\n",
    "* `right`:右切断の値（デフォルトは$\\infty$）\n",
    "* `deta`:データの指定\n",
    "* 切断方向の設定：\n",
    "    * `left`だけに値を設定する場合は左切断回帰（left-truncated）となる。\n",
    "    * `right`だけに値を設定する場合は右切断回帰（right-truncated）となる。\n",
    "    * `left`と`right`の両方に値を設定する場合は左右切断回帰（left- and right-truncated）となる。\n",
    "    * `left`と`right`の両方に値を設定しない場合は通常の最尤推定となる。"
   ]
  },
  {
   "cell_type": "markdown",
   "metadata": {
    "heading_collapsed": true,
    "hidden": true
   },
   "source": [
    "### 切断回帰推定"
   ]
  },
  {
   "cell_type": "markdown",
   "metadata": {
    "hidden": true
   },
   "source": [
    "例として`wooldridge`の`HTV`のデータを使い推定する。"
   ]
  },
  {
   "cell_type": "code",
   "execution_count": 7,
   "metadata": {
    "hidden": true,
    "tags": [
     "output_scroll"
    ]
   },
   "outputs": [
    {
     "name": "stdout",
     "output_type": "stream",
     "text": [
      "name of dataset: htv\n",
      "no of variables: 23\n",
      "no of observations: 1230\n",
      "\n",
      "+----------+---------------------------------+\n",
      "| variable | label                           |\n",
      "+----------+---------------------------------+\n",
      "| wage     | hourly wage, 1991               |\n",
      "| abil     | abil. measure, not standardized |\n",
      "| educ     | highest grade completed by 1991 |\n",
      "| ne       | =1 if in northeast, 1991        |\n",
      "| nc       | =1 if in nrthcntrl, 1991        |\n",
      "| west     | =1 if in west, 1991             |\n",
      "| south    | =1 if in south, 1991            |\n",
      "| exper    | potential experience            |\n",
      "| motheduc | highest grade, mother           |\n",
      "| fatheduc | highest grade, father           |\n",
      "| brkhme14 | =1 if broken home, age 14       |\n",
      "| sibs     | number of siblings              |\n",
      "| urban    | =1 if in urban area, 1991       |\n",
      "| ne18     | =1 if in NE, age 18             |\n",
      "| nc18     | =1 if in NC, age 18             |\n",
      "| south18  | =1 if in south, age 18          |\n",
      "| west18   | =1 if in west, age 18           |\n",
      "| urban18  | =1 if in urban area, age 18     |\n",
      "| tuit17   | college tuition, age 17         |\n",
      "| tuit18   | college tuition, age 18         |\n",
      "| lwage    | log(wage)                       |\n",
      "| expersq  | exper^2                         |\n",
      "| ctuit    | tuit18 - tuit17                 |\n",
      "+----------+---------------------------------+\n",
      "\n",
      "J.J. Heckman, J.L. Tobias, and E. Vytlacil (2003), “Simple Estimators\n",
      "for Treatment Parameters in a Latent-Variable Framework,” Review of\n",
      "Economics and Statistics 85, 748-755. Professor Tobias kindly provided\n",
      "the data, which were obtained from the 1991 National Longitudinal\n",
      "Survey of Youth. All people in the sample are males age 26 to 34. For\n",
      "confidentiality reasons, I have included only a subset of the\n",
      "variables used by the authors.\n"
     ]
    }
   ],
   "source": [
    "htv = wooldridge.data('HTV')\n",
    "wooldridge.data('HTV',description=True)"
   ]
  },
  {
   "cell_type": "markdown",
   "metadata": {
    "hidden": true
   },
   "source": [
    "＜目的＞\n",
    "\n",
    "教育（`educ`）が賃金（`wage`）に与える影響を探る。1991年の時間賃金を対数化した`lwage`を被説明変数として使い，次の説明変数を使う。\n",
    "* `educ`：1991年までに修了した最高学位の指標\n",
    "* `abil`：能力を捉える指標\n",
    "* `exper`：潜在的な労働経験\n",
    "* `nc`：米国北中部のダミー変数\n",
    "* `west`：米国西部のダミー変数\n",
    "* `south`：米国南部のダミー変数\n",
    "* `urban`：都市部のダミー変数"
   ]
  },
  {
   "cell_type": "markdown",
   "metadata": {
    "hidden": true
   },
   "source": [
    "まずOLS推定を行う。"
   ]
  },
  {
   "cell_type": "code",
   "execution_count": 8,
   "metadata": {
    "hidden": true
   },
   "outputs": [
    {
     "name": "stdout",
     "output_type": "stream",
     "text": [
      "==============================================================================\n",
      "                 coef    std err          t      P>|t|      [0.025      0.975]\n",
      "------------------------------------------------------------------------------\n",
      "Intercept      0.3987      0.185      2.158      0.031       0.036       0.761\n",
      "educ           0.1037      0.010     10.704      0.000       0.085       0.123\n",
      "abil           0.0558      0.008      6.565      0.000       0.039       0.072\n",
      "exper          0.0448      0.007      6.619      0.000       0.032       0.058\n",
      "nc            -0.1397      0.041     -3.440      0.001      -0.219      -0.060\n",
      "west          -0.1282      0.049     -2.638      0.008      -0.224      -0.033\n",
      "south         -0.1227      0.045     -2.742      0.006      -0.210      -0.035\n",
      "urban          0.2268      0.041      5.589      0.000       0.147       0.306\n",
      "==============================================================================\n"
     ]
    }
   ],
   "source": [
    "formula_trunc = 'lwage ~ 1 + educ + abil + exper + nc + west + south + urban'\n",
    "\n",
    "res_ols = ols(formula_trunc, data=htv).fit()\n",
    "\n",
    "print(res_ols.summary().tables[1])"
   ]
  },
  {
   "cell_type": "markdown",
   "metadata": {
    "hidden": true
   },
   "source": [
    "`educ`の係数は`0.1037`であり，標準誤差は`0.010`。\n",
    "\n",
    "次に，`wage`が`20`以上の観測値を取り除き，`20`未満のサンプルだけで推計する。"
   ]
  },
  {
   "cell_type": "code",
   "execution_count": 9,
   "metadata": {
    "hidden": true
   },
   "outputs": [
    {
     "name": "stdout",
     "output_type": "stream",
     "text": [
      "切断前の標本数：1230\n",
      "切断前の標本数：1066\n",
      "削除された標本数：164\n"
     ]
    }
   ],
   "source": [
    "htv_20 = htv.query('wage < 20')  # データの抽出\n",
    "\n",
    "print(f'切断前の標本数：{len(htv)}')\n",
    "print(f'切断前の標本数：{len(htv_20)}')\n",
    "print(f'削除された標本数：{len(htv)-len(htv_20)}')"
   ]
  },
  {
   "cell_type": "markdown",
   "metadata": {
    "hidden": true
   },
   "source": [
    "164のサンプルが取り除かれた。これにより，ランダムな標本ではなくなっていおり，GM仮定２が満たされていない。"
   ]
  },
  {
   "cell_type": "code",
   "execution_count": 10,
   "metadata": {
    "hidden": true
   },
   "outputs": [
    {
     "name": "stdout",
     "output_type": "stream",
     "text": [
      "==============================================================================\n",
      "                 coef    std err          t      P>|t|      [0.025      0.975]\n",
      "------------------------------------------------------------------------------\n",
      "Intercept      1.1795      0.174      6.795      0.000       0.839       1.520\n",
      "educ           0.0579      0.009      6.258      0.000       0.040       0.076\n",
      "abil           0.0548      0.008      7.168      0.000       0.040       0.070\n",
      "exper          0.0218      0.006      3.467      0.001       0.009       0.034\n",
      "nc            -0.1373      0.038     -3.644      0.000      -0.211      -0.063\n",
      "west          -0.1415      0.045     -3.120      0.002      -0.230      -0.053\n",
      "south         -0.1176      0.042     -2.833      0.005      -0.199      -0.036\n",
      "urban          0.1653      0.037      4.525      0.000       0.094       0.237\n",
      "==============================================================================\n"
     ]
    }
   ],
   "source": [
    "res_ols_20 = ols(formula_trunc,data=htv_20).fit()\n",
    "\n",
    "print(res_ols_20.summary().tables[1])"
   ]
  },
  {
   "cell_type": "markdown",
   "metadata": {
    "hidden": true
   },
   "source": [
    "`educ`の係数は`0.0579`に大きく下落している。切断データをOLS推定すると（ゼロ方向に）バイアスが発生することを示している。\n",
    "\n",
    "---\n",
    "次に，切断回帰推定をおこなう。\n",
    "* 右切断なので`right`に数値を設定する。\n",
    "* 説明変数が対数化されているため，それに合わせて`right=np.log(20)`とする。"
   ]
  },
  {
   "cell_type": "code",
   "execution_count": 11,
   "metadata": {
    "hidden": true
   },
   "outputs": [
    {
     "name": "stdout",
     "output_type": "stream",
     "text": [
      "Optimization terminated successfully.\n",
      "         Current function value: 0.481943\n",
      "         Iterations: 1216\n",
      "         Function evaluations: 1715\n"
     ]
    },
    {
     "name": "stdout",
     "output_type": "stream",
     "text": [
      "==============================================================================\n",
      "                 coef    std err          z      P>|z|      [0.025      0.975]\n",
      "------------------------------------------------------------------------------\n",
      "Intercept      0.6094      0.302      2.018      0.044       0.017       1.201\n",
      "educ           0.1060      0.017      6.312      0.000       0.073       0.139\n",
      "abil           0.0818      0.013      6.448      0.000       0.057       0.107\n",
      "exper          0.0356      0.011      3.309      0.001       0.015       0.057\n",
      "nc            -0.2552      0.068     -3.734      0.000      -0.389      -0.121\n",
      "west          -0.2652      0.081     -3.268      0.001      -0.424      -0.106\n",
      "south         -0.2078      0.074     -2.818      0.005      -0.352      -0.063\n",
      "urban          0.2657      0.059      4.478      0.000       0.149       0.382\n",
      "Log(Sigma)    -0.5433      0.039    -14.053      0.000      -0.619      -0.468\n",
      "==============================================================================\n"
     ]
    }
   ],
   "source": [
    "res_trunc = Truncreg.from_formula(formula_trunc,right=np.log(20),data=htv_20).fit()\n",
    "\n",
    "print(res_trunc.summary().tables[1])"
   ]
  },
  {
   "cell_type": "markdown",
   "metadata": {
    "hidden": true
   },
   "source": [
    "`educ`の係数は`0.1060`になり，切断される前の標本をOLS推定した際の係数と近い。\n",
    "\n",
    "（コメント）\n",
    "\n",
    "このように切断回帰は，切断データを使い`y`（賃金）に対する`x`（教育）の効果を推定可能とする。一方で，切断されたデータの中での`y`に対する`x`の効果に興味がある場合，その限界効果の絶対値は$\\left|\\hat{\\beta}_{\\text{Truncreg}}\\right|$よりも低くなる。"
   ]
  },
  {
   "cell_type": "markdown",
   "metadata": {
    "hidden": true
   },
   "source": [
    "＜`Log(Sigma)`について＞\n",
    "* 誤差項は正規分布に従うと仮定され，最尤法により変数の係数$\\beta$と誤差項の標準偏差$\\sigma$が推定される。誤差項の標準偏差の推定値または回帰の標準偏差（`Sigma` = Standard Error of Regression）の対数が`Log(Sigma)`である。"
   ]
  },
  {
   "cell_type": "markdown",
   "metadata": {
    "hidden": true
   },
   "source": [
    "---\n",
    "`dir()`もしくは`see()`を使い推定結果`res_trunc`の属性とメソッドを確認してみよう。"
   ]
  },
  {
   "cell_type": "code",
   "execution_count": 12,
   "metadata": {
    "hidden": true
   },
   "outputs": [
    {
     "data": {
      "text/plain": [
       "    <                <=               ==               !=               >\n",
       "    >=               dir()            hash()           help()           repr()\n",
       "    str()            .aic             .bic             .bootstrap()     .bse\n",
       "    .bsejac          .bsejhj          .conf_int()      .cov_kwds\n",
       "    .cov_params()    .cov_type        .covjac          .covjhj\n",
       "    .df_model        .df_modelwc      .df_resid        .endog           .exog\n",
       "    .f_test()        .fitted_endog    .fittedvalues    .get_nlfun()     .hessv\n",
       "    .initialize()    .k_constant      .llf             .llnull          .llr\n",
       "    .llr_pvalue      .load()          .mle_retvals     .mle_settings    .model\n",
       "    .nobs            .normalized_cov_params            .params\n",
       "    .predict()       .prsquared       .pvalues         .remove_data()\n",
       "    .resid           .result_null     .save()          .scale\n",
       "    .score_obsv      .set_null_options()               .summary()\n",
       "    .t_test()        .t_test_pairwise()                .tvalues         .use_t\n",
       "    .wald_test()     .wald_test_all_slopes             .wald_test_terms()"
      ]
     },
     "execution_count": 12,
     "metadata": {},
     "output_type": "execute_result"
    }
   ],
   "source": [
    "\n",
    "see(res_trunc)"
   ]
  },
  {
   "cell_type": "markdown",
   "metadata": {
    "hidden": true
   },
   "source": [
    "対数最尤関数の値"
   ]
  },
  {
   "cell_type": "code",
   "execution_count": 13,
   "metadata": {
    "hidden": true
   },
   "outputs": [
    {
     "data": {
      "text/plain": [
       "-513.7517026401044"
      ]
     },
     "execution_count": 13,
     "metadata": {},
     "output_type": "execute_result"
    }
   ],
   "source": [
    "res_trunc.llf"
   ]
  },
  {
   "cell_type": "markdown",
   "metadata": {
    "hidden": true
   },
   "source": [
    "疑似決定係数"
   ]
  },
  {
   "cell_type": "code",
   "execution_count": 14,
   "metadata": {
    "hidden": true
   },
   "outputs": [
    {
     "data": {
      "text/plain": [
       "0.17120380433327054"
      ]
     },
     "execution_count": 14,
     "metadata": {},
     "output_type": "execute_result"
    }
   ],
   "source": [
    "res_trunc.prsquared"
   ]
  },
  {
   "cell_type": "markdown",
   "metadata": {
    "hidden": true
   },
   "source": [
    "全ての説明変数（定数項以外）が０の場合の推定結果"
   ]
  },
  {
   "cell_type": "code",
   "execution_count": 15,
   "metadata": {
    "hidden": true
   },
   "outputs": [
    {
     "name": "stdout",
     "output_type": "stream",
     "text": [
      "                         Truncreg Regression Results                          \n",
      "==============================================================================\n",
      "Dep. Variable:                      y   Pseudo R-squ:                    0.000\n",
      "Model:                       Truncreg   Log-Likelihood:                 -619.9\n",
      "Method:            Maximum Likelihood   LL-Null:                        -619.9\n",
      "Date:                Sun, 06 Jun 2021   LL-Ratio:                         -0.0\n",
      "Time:                        13:36:21   LLR p-value:                       nan\n",
      "No. Observations:                1066   AIC:                            1241.8\n",
      "Df Residuals:                    1065   BIC:                            1246.7\n",
      "Df Model:                           0   Covariance Type:             nonrobust\n",
      "==============================================================================\n",
      "                 coef    std err          z      P>|z|      [0.025      0.975]\n",
      "------------------------------------------------------------------------------\n",
      "const          2.6140      0.058     44.907      0.000       2.500       2.728\n",
      "Log(Sigma)    -0.3590      0.047     -7.677      0.000      -0.451      -0.267\n",
      "==============================================================================\n"
     ]
    }
   ],
   "source": [
    "print(res_trunc.result_null.summary())"
   ]
  },
  {
   "cell_type": "markdown",
   "metadata": {
    "heading_collapsed": true,
    "hidden": true
   },
   "source": [
    "### 検定"
   ]
  },
  {
   "cell_type": "markdown",
   "metadata": {
    "hidden": true
   },
   "source": [
    "次に検定方法について説明する。\n",
    "\n",
    "**Wald検定の例１**\n",
    "\n",
    "$H_0$：定数項以外の全てのスロープ係数は０\n",
    "\n",
    "$H_A$：少なくとも１つの係数は０ではない\n",
    "\n",
    "この検定のために結果のメソッド`wald_test()`を使うが説明変数に含まれている`Log(Sigma)`は残る必要がある。従って，まず定数項と`Log(Sigma)`以外の係数名を`slopes_all`に割り当てる。\n"
   ]
  },
  {
   "cell_type": "code",
   "execution_count": 16,
   "metadata": {
    "hidden": true
   },
   "outputs": [],
   "source": [
    "slopes_all = res_trunc.model.exog_names[1:-1]"
   ]
  },
  {
   "cell_type": "markdown",
   "metadata": {
    "hidden": true
   },
   "source": [
    "結果`res_trunc`に属性`model`があり，その中に説明変数名の属性`exog_names`を使っている。定数項と最後にくる`Log(Sigma)`を省くために`[1:-1]`を指定している。"
   ]
  },
  {
   "cell_type": "code",
   "execution_count": 17,
   "metadata": {
    "hidden": true
   },
   "outputs": [
    {
     "data": {
      "text/plain": [
       "'<Wald test (chi2): statistic=[[173.22130439]], p-value=5.252840697862692e-34, df_denom=7>'"
      ]
     },
     "execution_count": 17,
     "metadata": {},
     "output_type": "execute_result"
    }
   ],
   "source": [
    "# Wald検定\n",
    "res_trunc.wald_test(slopes_all).summary()"
   ]
  },
  {
   "cell_type": "markdown",
   "metadata": {
    "hidden": true
   },
   "source": [
    "$p$値は非常に低いので`1%`の有意水準でも帰無仮説を棄却できる。同じ結果は次のコードでも示すことができる。"
   ]
  },
  {
   "cell_type": "code",
   "execution_count": 18,
   "metadata": {
    "hidden": true
   },
   "outputs": [
    {
     "data": {
      "text/plain": [
       "<class 'statsmodels.stats.contrast.ContrastResults'>\n",
       "<Wald test (chi2): statistic=[[173.22130439]], p-value=5.252840697862692e-34, df_denom=7>"
      ]
     },
     "execution_count": 18,
     "metadata": {},
     "output_type": "execute_result"
    }
   ],
   "source": [
    "res_trunc.wald_test_all_slopes"
   ]
  },
  {
   "cell_type": "markdown",
   "metadata": {
    "hidden": true
   },
   "source": [
    "２つ目の例を考えよう。\n",
    "\n",
    "**Wald検定の例２**\n",
    "\n",
    "$H_0$：`educ`+`abil`$=$`exper`\n",
    "\n",
    "$H_A$：`educ`+`abil`$\\neq$`exper`\n",
    "\n",
    "次の方法でおこなう。\n",
    "1. 制約式を文字列で設定する：`educ+abil=exper`\n",
    "1. 推定結果のメソッド`wald_test`に制約式を引数として実行する。"
   ]
  },
  {
   "cell_type": "code",
   "execution_count": 19,
   "metadata": {
    "hidden": true
   },
   "outputs": [
    {
     "data": {
      "text/plain": [
       "'<Wald test (chi2): statistic=[[130.94605757]], p-value=2.5442700082908885e-30, df_denom=1>'"
      ]
     },
     "execution_count": 19,
     "metadata": {},
     "output_type": "execute_result"
    }
   ],
   "source": [
    "res_trunc.wald_test('educ+abil=exper').summary()"
   ]
  },
  {
   "cell_type": "markdown",
   "metadata": {
    "hidden": true
   },
   "source": [
    "`1%`の有意水準でも帰無仮説を棄却できる。"
   ]
  },
  {
   "cell_type": "markdown",
   "metadata": {
    "heading_collapsed": true,
    "hidden": true
   },
   "source": [
    "### 予測値と残差"
   ]
  },
  {
   "cell_type": "markdown",
   "metadata": {
    "hidden": true
   },
   "source": [
    "次に２つの属性を紹介する。\n",
    "* `.fittedvalues`：以下の式で与えられる線形の予測値\n",
    "\n",
    "    $$\\hat{y}_i=\\hat{\\beta}_0+\\hat{\\beta}_1x_i$$\n",
    "    \n",
    "* `.resid`：以下の式で与えられる線形の残差\n",
    "\n",
    "    $$\\hat{u}_i=y_i-\\hat{y}_i$$\n",
    "    \n",
    "まず予測値の平均・最小値・最大値を計算してみる。"
   ]
  },
  {
   "cell_type": "code",
   "execution_count": 20,
   "metadata": {
    "hidden": true
   },
   "outputs": [
    {
     "name": "stdout",
     "output_type": "stream",
     "text": [
      "最小値：1.436527316538997\n",
      "平均：2.5085741631781104\n",
      "最大値：3.556185616340713\n"
     ]
    }
   ],
   "source": [
    "y_hat = res_trunc.fittedvalues\n",
    "\n",
    "print(f'最小値：{y_hat.min()}\\n平均：{y_hat.mean()}\\n最大値：{y_hat.max()}')"
   ]
  },
  {
   "cell_type": "markdown",
   "metadata": {
    "hidden": true
   },
   "source": [
    "次に残差を図示する。"
   ]
  },
  {
   "cell_type": "code",
   "execution_count": 21,
   "metadata": {
    "hidden": true
   },
   "outputs": [
    {
     "data": {
      "image/png": "[encoded data removed]",
      "text/plain": [
       "<Figure size 432x288 with 1 Axes>"
      ]
     },
     "metadata": {
      "filenames": {
       "image/png": "/Users/tetsu/Documents/My_Simulation/Python/JupyterBooks/py4etrics.github.io/_build/jupyter_execute/21_TruncregTobitHeckit_64_0.png"
      },
      "needs_background": "light"
     },
     "output_type": "display_data"
    }
   ],
   "source": [
    "u_hat = res_trunc.resid\n",
    "plt.scatter(y_hat,u_hat)\n",
    "plt.xlabel('y_hat')\n",
    "plt.ylabel('u_hat')\n",
    "pass"
   ]
  },
  {
   "cell_type": "markdown",
   "metadata": {
    "hidden": true
   },
   "source": [
    "データの切断による影響が右上に見て取れる。"
   ]
  },
  {
   "cell_type": "code",
   "execution_count": 22,
   "metadata": {
    "hidden": true,
    "tags": [
     "remove-cell"
    ]
   },
   "outputs": [
    {
     "data": {
      "text/plain": [
       "[<matplotlib.lines.Line2D at 0x7f81102188b0>]"
      ]
     },
     "execution_count": 22,
     "metadata": {},
     "output_type": "execute_result"
    },
    {
     "data": {
      "image/png": "[encoded data removed]",
      "text/plain": [
       "<Figure size 432x288 with 1 Axes>"
      ]
     },
     "metadata": {
      "filenames": {
       "image/png": "/Users/tetsu/Documents/My_Simulation/Python/JupyterBooks/py4etrics.github.io/_build/jupyter_execute/21_TruncregTobitHeckit_66_1.png"
      },
      "needs_background": "light"
     },
     "output_type": "display_data"
    }
   ],
   "source": [
    "from scipy.stats import truncnorm\n",
    "plt.scatter(htv_20['lwage'],y_hat)\n",
    "plt.ylim(0,10)\n",
    "plt.xlim(0,4)\n",
    "\n",
    "X = res_trunc.fittedvalues\n",
    "s = res_trunc.params[-1]\n",
    "right = (np.log(20) - X)/np.exp(s)\n",
    "imr = truncnorm.logpdf(-X/np.exp(s),a=-np.inf,b=right)\n",
    "yexp = X-np.exp(s)*imr\n",
    "plt.plot(htv_20['lwage'],yexp,'or')\n",
    "# norm.cdf(X, loc=l, scale=s)"
   ]
  },
  {
   "cell_type": "markdown",
   "metadata": {
    "heading_collapsed": true,
    "hidden": true
   },
   "source": [
    "### 誤差項の仮定について"
   ]
  },
  {
   "cell_type": "markdown",
   "metadata": {
    "hidden": true
   },
   "source": [
    "切断回帰推定は最尤法を使っており，次の仮定が重要な役割を果たしている。\n",
    "\n",
    "$$u|x\\sim N(0,\\sigma^2)$$\n",
    "\n",
    "即ち，説明変数を所与とすると誤差項は正規分布に従い分散は一定であるという仮定である。\n",
    "\n",
    "正規分布に関しての検定もあるが`py4etrics`には実装されていないので，この仮定の重要性を念頭に置いて推定すること。\n",
    "\n",
    "次に不均一分散について考える。確かめるためには検定をする必要があるが，`py4etrics`には実装されていない。その代わりに「目安」として，通常の係数の標準偏差と不均一分散頑健標準偏差の変化を調べてみる。"
   ]
  },
  {
   "cell_type": "code",
   "execution_count": 23,
   "metadata": {
    "hidden": true
   },
   "outputs": [
    {
     "data": {
      "text/plain": [
       "array([ 1.31490446,  6.14962225,  2.31798903, -0.29280846, -1.99746054,\n",
       "        3.82071956, -3.0276753 ,  2.77569196])"
      ]
     },
     "execution_count": 23,
     "metadata": {},
     "output_type": "execute_result"
    }
   ],
   "source": [
    "# 通常の標準偏差\n",
    "tr0 = res_trunc.bse\n",
    "\n",
    "# 不均一分散頑健標準編\n",
    "tr1 = Truncreg.from_formula(formula_trunc,right=np.log(20),\n",
    "                            data=htv_20).fit(cov_type='HC1',disp=False).bse\n",
    "\n",
    "# 不均一分散頑健標準編を使った場合の標準偏差の変化率（％）\n",
    "(100*(tr1-tr0)/tr0)[:-1]   # 最後は Log(Sigma) なので省く"
   ]
  },
  {
   "cell_type": "markdown",
   "metadata": {
    "hidden": true
   },
   "source": [
    "標準偏差が減少した変数と増加したし変数がある。特別に大きくないように見えるが，これは目安であることを念頭に置いておく必要がある。\n",
    "\n",
    "（注意）不均一分散の下での最尤推定\n",
    "* 推定量は一致性を満たさない\n",
    "* 標準誤差も一致性を満たさない\n",
    "    * 不均一分散頑健標準誤差を使うことが推奨されることがあるが（研究論文でもそうする研究者も多い），もともと係数の推定量が一致性を満たさないため，`cov_type`で指定する不均一分散頑健標準誤差の有用性に疑問が残る。（[参照](https://davegiles.blogspot.com/2013/05/robust-standard-errors-for-nonlinear.html)）"
   ]
  },
  {
   "cell_type": "markdown",
   "metadata": {
    "heading_collapsed": true
   },
   "source": [
    "## Tobitモデル"
   ]
  },
  {
   "cell_type": "markdown",
   "metadata": {
    "heading_collapsed": true,
    "hidden": true
   },
   "source": [
    "### 説明"
   ]
  },
  {
   "cell_type": "markdown",
   "metadata": {
    "hidden": true
   },
   "source": [
    "打ち切りデータを理解するために，切断データと比べて異なる点を説明する。\n",
    "* 切断データではデータセットに$(x_i,y_i),\\;i\\in\\cal{N}$が存在しないが，打ち切りデータには含まれる。しかし，$y_i$が打ち切りの下限や上限の値と等しくなる。\n",
    "\n",
    "例として女性の労働供給を考えよう。働いている女性は多いが労働市場から退出している女性も多いのが実状である。言いかえると，女性の労働供給（例えば，一週間の労働時間）は正の値をとるが，労働供給が０の女性も多くいる。これは数式で次のように表すことができる。\n",
    "\n",
    "$$\n",
    "\\begin{align*}\n",
    "&y^{*}=\\beta_0+\\beta_1x+u\\\\\n",
    "    &\\begin{cases}\n",
    "    y=y^{*}&\\quad\\text{if }y^{*}>0\\\\\n",
    "    y=0&\\quad\\text{if }y^{*}\\leq0\n",
    "    \\end{cases}\n",
    "\\end{align*}\n",
    "$$\n",
    "\n",
    "* $y^{*}$：潜在変数（例えば，効用と考えても良い）\n",
    "    * $y^{*}>0$の場合に実際に働き，労働供給は$y=y^{*}$となる。\n",
    "    * $y^{*}\\leq 0$の場合に働かないので$y=0$となる。\n",
    "    * $y^{*}$は観察不可能\n",
    "* $x$：労働供給に関する決定要因（例えば，教育年数）\n",
    "* $y$：実際の労働供給（非負の連続変数）\n",
    "* $u$：労働供給に関するランダムな要素（例えば，好み）\n",
    "\n",
    "    $$u|x\\sim \\text{Normal}(0,\\sigma^2)$$\n",
    "    \n",
    "    * この仮定が非常に重要であり，計算の前提となる。"
   ]
  },
  {
   "cell_type": "markdown",
   "metadata": {
    "hidden": true
   },
   "source": [
    "---\n",
    "（コメント）\n",
    "* 上の例では，女性が労働市場に参加するかしないかによって，$y$が正の値もしくは`0`を取る。即ち，`0`が下限になっている。上限の例として，人気歌手のコンサート・チケットがあげられる。チケット数は限られており，売り切れた場合の需要は上限を上回る。また，下限・上限の両方がある場合として大学入試が挙げられる。下限はセンター試験などでの「足切り」であり，上限は定員数でる。\n",
    "* 労働供給の例では，女性の選択の結果として$y$の値が観察される。これはミクロ経済学でおなじみの端点解の例である。"
   ]
  },
  {
   "cell_type": "markdown",
   "metadata": {
    "hidden": true
   },
   "source": [
    "---\n",
    "＜＜結果＞＞\n",
    "* $y>0$と$y=0$の両方のデータを使ったOLS推定量は不偏性・一致性を満たさない。\n",
    "\n",
    "---\n",
    "以下ではまずこの結果をシミュレーションを使って示し，解決策について説明する。"
   ]
  },
  {
   "cell_type": "markdown",
   "metadata": {
    "heading_collapsed": true,
    "hidden": true
   },
   "source": [
    "### シミュレーション"
   ]
  },
  {
   "cell_type": "code",
   "execution_count": 24,
   "metadata": {
    "hidden": true
   },
   "outputs": [],
   "source": [
    "# データの大きさ \n",
    "n = 100\n",
    "\n",
    "# y*を決定するx\n",
    "x = np.sort(norm.rvs(0,3,size=n))  # ランダム変数を生成し昇順に並べる\n",
    "\n",
    "# y*を生成\n",
    "y_star = x + norm.rvs(0,3,size=n)\n",
    "\n",
    "# yを生成\n",
    "y = y_star.copy()  #  copy()はコピーを作るメソッド\n",
    "y[y_star < 0] = 0  # y_star<0の場合，０を代入する\n",
    "\n",
    "# DataFrame\n",
    "df = pd.DataFrame({'Y':y, 'Y_star':y_star, 'X':x})"
   ]
  },
  {
   "cell_type": "markdown",
   "metadata": {
    "hidden": true
   },
   "source": [
    "母集団回帰式"
   ]
  },
  {
   "cell_type": "code",
   "execution_count": 25,
   "metadata": {
    "hidden": true
   },
   "outputs": [
    {
     "name": "stdout",
     "output_type": "stream",
     "text": [
      "Intercept   -0.410234\n",
      "X            0.901198\n",
      "dtype: float64\n"
     ]
    }
   ],
   "source": [
    "formula_star = 'Y_star ~ X'\n",
    "\n",
    "result_star= ols(formula_star, data=df).fit()\n",
    "\n",
    "b0_star,b1_star = result_star.params\n",
    "\n",
    "print(result_star.params)"
   ]
  },
  {
   "cell_type": "markdown",
   "metadata": {
    "hidden": true
   },
   "source": [
    "$y\\geq 0$を使ったOLS回帰"
   ]
  },
  {
   "cell_type": "code",
   "execution_count": 26,
   "metadata": {
    "hidden": true
   },
   "outputs": [
    {
     "name": "stdout",
     "output_type": "stream",
     "text": [
      "Intercept    1.361427\n",
      "X            0.363796\n",
      "dtype: float64\n"
     ]
    }
   ],
   "source": [
    "formula_sample = 'Y ~ X'\n",
    "\n",
    "result_corner = ols(formula_sample, data=df).fit()\n",
    "\n",
    "b0_corner, b1_corner = result_corner.params\n",
    "\n",
    "print(result_corner.params)"
   ]
  },
  {
   "cell_type": "markdown",
   "metadata": {
    "hidden": true
   },
   "source": [
    "図示"
   ]
  },
  {
   "cell_type": "code",
   "execution_count": 27,
   "metadata": {
    "hidden": true
   },
   "outputs": [
    {
     "data": {
      "image/png": "[encoded data removed]",
      "text/plain": [
       "<Figure size 432x288 with 1 Axes>"
      ]
     },
     "metadata": {
      "filenames": {
       "image/png": "/Users/tetsu/Documents/My_Simulation/Python/JupyterBooks/py4etrics.github.io/_build/jupyter_execute/21_TruncregTobitHeckit_83_0.png"
      },
      "needs_background": "light"
     },
     "output_type": "display_data"
    }
   ],
   "source": [
    "# y_starの散布図\n",
    "plt.scatter(x, y_star, facecolors='none', edgecolors='gray',label=r'$y^{*}$')\n",
    "\n",
    "# yの散布図\n",
    "plt.scatter(x, y, facecolors='gray', label=r'$y$ and $y^{*}$')\n",
    "\n",
    "# 母集団OLS\n",
    "plt.plot(x, b0_star+b1_star*x, 'k', linewidth=3, label='Full Data: $y^*$')\n",
    "\n",
    "# y>=0のOLS\n",
    "plt.plot(x, b0_corner+b1_corner*x, 'r', lw=3,label=r'Sample: $y\\geq 0$')\n",
    "\n",
    "plt.xlabel('x')\n",
    "plt.ylabel(r'$y$ and $y^{*}$')\n",
    "plt.legend()\n",
    "pass"
   ]
  },
  {
   "cell_type": "markdown",
   "metadata": {
    "hidden": true
   },
   "source": [
    "---\n",
    "この場合，$y<0$の値を全て$y=0$としてOLS推定しているため，不偏性・一致性が満たされないのは直感的に理解できる。実際，上で説明したように標本回帰式は\n",
    "\n",
    "$$\n",
    "\\begin{align*}\n",
    "&y^{*}=\\beta_0+\\beta_1x+u\\\\\n",
    "    &\\begin{cases}\n",
    "    y=y^{*}&\\quad\\text{if }y^{*}>0\\\\\n",
    "    y=0&\\quad\\text{if }y^{*}\\leq0\n",
    "    \\end{cases}\n",
    "\\end{align*}\n",
    "$$\n",
    "\n",
    "であるが，$y\\geq 0$の下での$y$の期待値 $\\text{E}(y|y>0,x)$ は複雑な非線形式なり，線形を仮定するOLS推定方で捉えることは不可能である。"
   ]
  },
  {
   "cell_type": "markdown",
   "metadata": {
    "heading_collapsed": true,
    "hidden": true
   },
   "source": [
    "### `Tobit`モジュールの使い方"
   ]
  },
  {
   "cell_type": "markdown",
   "metadata": {
    "hidden": true
   },
   "source": [
    "残念ながら`statsmodels`と`linearmodels`にも`Tobit`推定のモジュールがない。その代わりに著者が作成した`py4etrics`パッケージの`tobit`モジュールを使い推定する。このモジュールは`statsmodels`の`GenericMaximumLikelihoodModel`を使い実装したものである。使用する上で[このサイト](https://www.statsmodels.org/devel/examples/notebooks/generated/generic_mle.html)にある次の点に注意する必要がある。\n",
    "* `R`の推定値と小数点第４位まで同じになるが，標準偏差は小数点第２位までが同じとなる。"
   ]
  },
  {
   "cell_type": "markdown",
   "metadata": {
    "hidden": true
   },
   "source": [
    "---\n",
    "＜使い方＞\n",
    "\n",
    "基本的に`statsmodels`の`ols`と同じだが，追加的な操作とオプションがある。\n",
    "\n",
    "1. 下限・上限の設定：被説明変数`y`の値に従って`Numpy`の`array`もしくは`Pandas`の`Series`を作る。\n",
    "    * 下限がある場合：`-1`\n",
    "    * 上限がある場合：`1`\n",
    "    * 上限・下限がない場合：`0`\n",
    "1. 推定式を決める\n",
    "```\n",
    "    formula = 'y ~ 1 + x'\n",
    "```\n",
    "1. `Tobit`の`from_formula`モジュールを使って推定\n",
    "```\n",
    "    Tobit.from_formula(formula, cens=<A>, left=<B>, right=<C>, data=<D>).fit()\n",
    "```\n",
    "   ここで \n",
    "   \n",
    "    * `cens`：ステップ１で作成した下限・上限の設定`array`もしくは`Series`を指定する。\n",
    "    * `left`:下限の値（デフォルトは`0`）\n",
    "        * ステップ１で`-1`が設定されている場合のみ有効となる。\n",
    "    * `right`:上限の値（デフォルトは`0`）\n",
    "        * ステップ１で`1`が設定されている場合のみ有効となる。\n",
    "    * `deta`:データの指定\n",
    "\n",
    "（コメント）\n",
    "\n",
    "`Logit`や`Probit`と同じように，非線形モデルなため最尤法を使い推定する。"
   ]
  },
  {
   "cell_type": "markdown",
   "metadata": {
    "heading_collapsed": true,
    "hidden": true
   },
   "source": [
    "### Tobitモデルの推定"
   ]
  },
  {
   "cell_type": "markdown",
   "metadata": {
    "hidden": true
   },
   "source": [
    "以前使った`mroz`のデータを使う。"
   ]
  },
  {
   "cell_type": "code",
   "execution_count": 28,
   "metadata": {
    "hidden": true
   },
   "outputs": [],
   "source": [
    "mroz = wooldridge.data('mroz')"
   ]
  },
  {
   "cell_type": "markdown",
   "metadata": {
    "hidden": true
   },
   "source": [
    "女性の労働供給のモデルを考え，供給量`hours`を被説明変数とする。特に，`hours`は`0`が下限となっているため`Tobit`モデルが妥当だと考えられる。労働時間`hours`を図示すると`0`に多くの観測値があることがわかる。"
   ]
  },
  {
   "cell_type": "code",
   "execution_count": 29,
   "metadata": {
    "hidden": true
   },
   "outputs": [
    {
     "data": {
      "image/png": "[encoded data removed]",
      "text/plain": [
       "<Figure size 432x288 with 1 Axes>"
      ]
     },
     "metadata": {
      "filenames": {
       "image/png": "/Users/tetsu/Documents/My_Simulation/Python/JupyterBooks/py4etrics.github.io/_build/jupyter_execute/21_TruncregTobitHeckit_92_0.png"
      },
      "needs_background": "light"
     },
     "output_type": "display_data"
    }
   ],
   "source": [
    "plt.hist(mroz['hours'],bins=20)\n",
    "pass"
   ]
  },
  {
   "cell_type": "markdown",
   "metadata": {
    "hidden": true
   },
   "source": [
    "まず，下限の値を設定する。"
   ]
  },
  {
   "cell_type": "code",
   "execution_count": 30,
   "metadata": {
    "hidden": true
   },
   "outputs": [],
   "source": [
    "left = 0"
   ]
  },
  {
   "cell_type": "markdown",
   "metadata": {
    "hidden": true
   },
   "source": [
    "次に下限を示す`array`を作成する。"
   ]
  },
  {
   "cell_type": "code",
   "execution_count": 31,
   "metadata": {
    "hidden": true
   },
   "outputs": [
    {
     "data": {
      "text/plain": [
       " 0.0    428\n",
       "-1.0    325\n",
       "dtype: int64"
      ]
     },
     "execution_count": 31,
     "metadata": {},
     "output_type": "execute_result"
    }
   ],
   "source": [
    "cond = (mroz['hours'] == left)  #  フィルターの作成\n",
    "\n",
    "censor = np.zeros((len(mroz)))  # 0のarrayの作成\n",
    "\n",
    "censor[cond] = -1  #  条件に合わせて-1を代入\n",
    "\n",
    "pd.Series(censor).value_counts()  # Serieに変換し，内訳の確認"
   ]
  },
  {
   "cell_type": "markdown",
   "metadata": {
    "hidden": true
   },
   "source": [
    "次のコードでも同じ結果を得ることができる。"
   ]
  },
  {
   "cell_type": "code",
   "execution_count": 32,
   "metadata": {
    "hidden": true
   },
   "outputs": [],
   "source": [
    "censor = mroz['hours'].apply(lambda x: -1 if x==left else 0)"
   ]
  },
  {
   "cell_type": "markdown",
   "metadata": {
    "hidden": true
   },
   "source": [
    "推定"
   ]
  },
  {
   "cell_type": "code",
   "execution_count": 33,
   "metadata": {
    "hidden": true
   },
   "outputs": [
    {
     "name": "stdout",
     "output_type": "stream",
     "text": [
      "Optimization terminated successfully.\n",
      "         Current function value: 5.071839\n",
      "         Iterations: 2441\n",
      "         Function evaluations: 3552\n",
      "                              Tobit Regression Results                             \n",
      "===================================================================================\n",
      "Dep. Variable:                       hours   Pseudo R-squ:                    0.034\n",
      "Method:                 Maximum Likelihood   Log-Likelihood:                -3819.1\n",
      "No. Observations:                      753   LL-Null:                       -3954.9\n",
      "No. Uncensored Obs:                    428   LL-Ratio:                        271.6\n",
      "No. Left-censored Obs:                 325   LLR p-value:                     0.000\n",
      "No. Right-censored Obs:                  0   AIC:                            7654.2\n",
      "Df Residuals:                          745   BIC:                            7691.2\n",
      "Df Model:                                7   Covariance Type:             nonrobust\n",
      "==============================================================================\n",
      "                 coef    std err          z      P>|z|      [0.025      0.975]\n",
      "------------------------------------------------------------------------------\n",
      "Intercept    965.3054    446.430      2.162      0.031      90.318    1840.292\n",
      "nwifeinc      -8.8142      4.459     -1.977      0.048     -17.554      -0.075\n",
      "educ          80.6456     21.583      3.737      0.000      38.343     122.948\n",
      "exper        131.5643     17.279      7.614      0.000      97.697     165.431\n",
      "expersq       -1.8642      0.538     -3.467      0.001      -2.918      -0.810\n",
      "age          -54.4050      7.418     -7.334      0.000     -68.945     -39.865\n",
      "kidslt6     -894.0218    111.878     -7.991      0.000   -1113.299    -674.745\n",
      "kidsge6      -16.2180     38.639     -0.420      0.675     -91.949      59.513\n",
      "Log(Sigma)     7.0229      0.037    189.514      0.000       6.950       7.096\n",
      "==============================================================================\n"
     ]
    }
   ],
   "source": [
    "formula = 'hours ~ 1 + nwifeinc + educ + exper + expersq + age + kidslt6 + kidsge6'\n",
    "\n",
    "res_tobit = Tobit.from_formula(formula,cens=censor,left=0,data=mroz).fit()\n",
    "\n",
    "print(res_tobit.summary())"
   ]
  },
  {
   "cell_type": "markdown",
   "metadata": {
    "hidden": true
   },
   "source": [
    "係数の解釈はOLSと同じようにおこなう。例えば，`educ`の推定値は約`80`なので，教育年数が一年増えると平均で労働時間が年間`80`時間増加することを示している。また`Log(Sigma)`は切断回帰モデルの場合の解釈と同じである。"
   ]
  },
  {
   "cell_type": "markdown",
   "metadata": {
    "hidden": true
   },
   "source": [
    "---\n",
    "`dir()`や`see()`を使うことにより属性とメソッドを確認できる。"
   ]
  },
  {
   "cell_type": "code",
   "execution_count": 34,
   "metadata": {
    "hidden": true
   },
   "outputs": [
    {
     "data": {
      "text/plain": [
       "    <                <=               ==               !=               >\n",
       "    >=               dir()            hash()           help()           repr()\n",
       "    str()            .aic             .bic             .bootstrap()     .bse\n",
       "    .bsejac          .bsejhj          .conf_int()      .cov_kwds\n",
       "    .cov_params()    .cov_type        .covjac          .covjhj\n",
       "    .df_model        .df_modelwc      .df_resid        .endog           .exog\n",
       "    .f_test()        .fitted_endog    .fittedvalues    .get_nlfun()     .hessv\n",
       "    .initialize()    .k_constant      .llf             .llnull          .llr\n",
       "    .llr_pvalue      .load()          .mle_retvals     .mle_settings    .model\n",
       "    .nobs            .normalized_cov_params            .obs\n",
       "    .params          .predict()       .prsquared       .pvalues\n",
       "    .remove_data()                    .resid           .result_null\n",
       "    .save()          .scale           .score_obsv      .set_null_options()\n",
       "    .summary()       .t_test()        .t_test_pairwise()\n",
       "    .tvalues         .use_t           .wald_test()     .wald_test_all_slopes\n",
       "    .wald_test_terms()"
      ]
     },
     "execution_count": 34,
     "metadata": {},
     "output_type": "execute_result"
    }
   ],
   "source": [
    "see(res_tobit)"
   ]
  },
  {
   "cell_type": "markdown",
   "metadata": {
    "hidden": true
   },
   "source": [
    "この中にあるメソッドを使って検定をおこなう。"
   ]
  },
  {
   "cell_type": "markdown",
   "metadata": {
    "heading_collapsed": true,
    "hidden": true
   },
   "source": [
    "### 検定と属性"
   ]
  },
  {
   "cell_type": "markdown",
   "metadata": {
    "hidden": true
   },
   "source": [
    "`Wald検定`を考えよう\n",
    "\n",
    "**Wald検定の例**\n",
    "\n",
    "$H_0$：`exper` $=$ `expersq` $=0$ & `kidslt6`$=$`kidsge6`\n",
    "\n",
    "$H_A$：$H_0$は成立しない\n",
    "\n",
    "検定方法は切断回帰の`Truncreg`モジュールと同じである。"
   ]
  },
  {
   "cell_type": "code",
   "execution_count": 35,
   "metadata": {
    "hidden": true
   },
   "outputs": [
    {
     "data": {
      "text/plain": [
       "'<Wald test (chi2): statistic=[[199.25029231]], p-value=6.125644333589546e-43, df_denom=3>'"
      ]
     },
     "execution_count": 35,
     "metadata": {},
     "output_type": "execute_result"
    }
   ],
   "source": [
    "res_tobit.wald_test('exper=expersq=0, kidslt6=kidsge6').summary()"
   ]
  },
  {
   "cell_type": "markdown",
   "metadata": {
    "hidden": true
   },
   "source": [
    "$p$値は非常に低いため，`1%`有意水準でも帰無仮説を棄却できる。"
   ]
  },
  {
   "cell_type": "markdown",
   "metadata": {
    "hidden": true
   },
   "source": [
    "---\n",
    "次の３つの属性も有用である。\n",
    "* `.fittedvalues`：以下の式で与えられる線形の予測値 $\\hat{y}^{*}$\n",
    "\n",
    "    $$\\hat{y}_i^{*}=\\hat{\\beta}_0+\\hat{\\beta}_1x_i$$\n",
    "    \n",
    "* `.fitted_endog`：被説明変数の予測値 $\\text{E}(y|x)$ （正規分布に基づいた非線形）\n",
    "* `.resid`：以下の式で与えられる線形の残差\n",
    "\n",
    "    $$\\hat{u}_i=y_i-\\hat{y}_i^{*}$$"
   ]
  },
  {
   "cell_type": "code",
   "execution_count": 36,
   "metadata": {
    "hidden": true
   },
   "outputs": [
    {
     "data": {
      "image/png": "[encoded data removed]",
      "text/plain": [
       "<Figure size 432x288 with 1 Axes>"
      ]
     },
     "metadata": {
      "filenames": {
       "image/png": "/Users/tetsu/Documents/My_Simulation/Python/JupyterBooks/py4etrics.github.io/_build/jupyter_execute/21_TruncregTobitHeckit_110_0.png"
      },
      "needs_background": "light"
     },
     "output_type": "display_data"
    }
   ],
   "source": [
    "y_star_hat = res_tobit.fittedvalues\n",
    "\n",
    "u_hat = res_tobit.resid\n",
    "\n",
    "plt.scatter(y_star_hat,u_hat)\n",
    "pass"
   ]
  },
  {
   "cell_type": "markdown",
   "metadata": {
    "hidden": true
   },
   "source": [
    "図の左下は切り打ちデータを反映している。"
   ]
  },
  {
   "cell_type": "markdown",
   "metadata": {
    "heading_collapsed": true,
    "hidden": true
   },
   "source": [
    "### 残差について"
   ]
  },
  {
   "cell_type": "markdown",
   "metadata": {
    "hidden": true
   },
   "source": [
    "\n",
    "切断回帰推定と同じように最尤法を使っているので，推定量の標準偏差の変化を使い残差の不均一について考えてみる。"
   ]
  },
  {
   "cell_type": "code",
   "execution_count": 37,
   "metadata": {
    "hidden": true
   },
   "outputs": [
    {
     "data": {
      "text/plain": [
       "array([ 0.37097722,  1.45558822,  1.12862999,  7.83263648,  6.92988313,\n",
       "       -3.52864485,  4.88515771,  1.92090598])"
      ]
     },
     "execution_count": 37,
     "metadata": {},
     "output_type": "execute_result"
    }
   ],
   "source": [
    "# 通常の標準偏差\n",
    "to0 = res_tobit.bse\n",
    "\n",
    "# 不均一分散標準偏差\n",
    "res_tobit_HC1 = Tobit.from_formula(formula,cens=censor,left=left,\n",
    "                         data=mroz).fit(cov_type='HC1',disp=False)\n",
    "to1 = res_tobit_HC1.bse\n",
    "\n",
    "# 不均一分算標準偏差を使った場合の標準偏差の変化（％）\n",
    "(100*(to1-to0)/to0)[:-1]     # Log(Sigma)を省く"
   ]
  },
  {
   "cell_type": "markdown",
   "metadata": {
    "hidden": true
   },
   "source": [
    "全ての係数の標準誤差は30％程変化している。何らかの問題を示唆しているかも知れない。\n",
    "\n",
    "\n",
    "（注意）不均一分散の下でお最尤推定\n",
    "* 推定量は一致性を満たさない\n",
    "* 標準誤差も一致性を満たさない\n",
    "    * 不均一分散頑健標準誤差を使うことが推奨されることがあるが（研究論文でもそうする研究者も多い），もともと係数の推定量が一致性を満たさないため，`cov_type`で指定する不均一分散頑健標準誤差の有用性に疑問が残る。（[参照](https://davegiles.blogspot.com/2013/05/robust-standard-errors-for-nonlinear.html)）"
   ]
  },
  {
   "cell_type": "markdown",
   "metadata": {
    "heading_collapsed": true
   },
   "source": [
    "## Heckitモデル"
   ]
  },
  {
   "cell_type": "markdown",
   "metadata": {
    "heading_collapsed": true,
    "hidden": true
   },
   "source": [
    "### 説明"
   ]
  },
  {
   "cell_type": "markdown",
   "metadata": {
    "hidden": true
   },
   "source": [
    "`Heckit`モデルは切断回帰モデルの拡張版であり，選択バイアス問題が疑われる場合に威力を発揮する。例を使って選択バイアス問題を説明する。\n",
    "\n",
    "＜選択バイアス問題：例１＞\n",
    "\n",
    "日本全国の大学４年生にある試験（単位取得できるが必須ではない）を受けさせ，その平均点を使って卒業生全体の学力を測るとしよう。しかし，勉強時間が短い学生は受験しない傾向にあるとしよう。\n",
    "\n",
    "２つのシナリオ\n",
    "* シナリオ１：学生を無作為に選び（強制的に）受験させる。\n",
    "* シナリオ２：希望する学生だけに受けさせる。\n",
    "\n",
    "結果\n",
    "* シナリオ１：ランダム抽出なので平均点は全体像を反映している。\n",
    "* シナリオ２：勉強時間が短い学生は受験しなくなり，比較的に勉強時間が長い学生が受験することになり平均点が上がることになる。全体像を歪める結果がでる可能性がある。"
   ]
  },
  {
   "cell_type": "markdown",
   "metadata": {
    "hidden": true
   },
   "source": [
    "＜選択バイアス問題：例２＞\n",
    "\n",
    "賃金に対する大学教育１年間の平均的効果を検証するとしよう。サンプルは大学卒業生と大学に進学しなかった高校卒業生。目的は全体像の把握であり，以下を考える。\n",
    "\n",
    "$$\\dfrac{W_{\\text{大}}-W_{\\text{高}}}{4}\\qquad (式１)$$\n",
    "\n",
    "* $W_{\\text{大}}$：大卒の平均賃金\n",
    "* $W_{\\text{高}}$：高卒の平均賃金\n",
    "\n",
    "次の仮定を置く：\n",
    "* 教育が高いほど賃金は高い。\n",
    "* 他の条件が同じであれば，教育が高いほど働く傾向にある（機会費用が高いため）\n",
    "\n",
    "２つのシナリオ\n",
    "* 起こりえないシナリオ：卒業生をを無作為に選び（強制的に）働かせて賃金のデータを集める。\n",
    "* 現実的なシナリオ：自由に労働者が働くか働かないかを決め，働いている労働者のデータを集める。\n",
    "\n",
    "結果：\n",
    "* 起こりえないシナリオ：ランダム抽出なので(式１)は全体像を反映している。\n",
    "* 現実的なシナリオ：教育水準が低い人（高卒）ほど働かな人いが多い傾向にある。特に，賃金が低い人ほど労働市場から退出する場合（労働供給の減少），高卒の平均賃金$W_{\\text{高}}$は上昇することになり，(式１)は下落する。大学教育１年の効果は，低く推定され全体像を歪める結果となる。"
   ]
  },
  {
   "cell_type": "markdown",
   "metadata": {
    "hidden": true
   },
   "source": [
    "---\n",
    "これらの例が示唆するように，選択問題を無視して単純にOLS推定しても推定量にバイアスが発生する可能性がある。この問題に対処する推定方法の１つが`Heckit`モデルである。`Heckit`モデルは２段階で推定する。\n",
    "\n",
    "＜第１段階＞\n",
    "\n",
    "`Probit`モデルを使った２項選択に関する推定（例えば，労働市場に参加するしないの選択）\n",
    "\n",
    "$$\n",
    "\\begin{align*}\n",
    "&z_i^{*}=\\alpha_0+\\alpha_1w_i+u_i\\qquad\\text{(式５)}\\\\\n",
    "    &\\begin{cases}\n",
    "        z_i=1&\\quad\\text{if }z_i^{*}>0\\\\\n",
    "        z_i=0&\\quad\\text{if }z_i^{*}\\leq0\n",
    "    \\end{cases}\n",
    "\\end{align*}\n",
    "$$\n",
    "\n",
    "* $z_i^{*}$：選択に関する潜在変数（例えば，効用）\n",
    "* $z_i$：選択を示す指標（例えば，１＝働く，０＝働かない）\n",
    "* $w_i$：選択に影響する要因（例えば，働く時間に影響を及ぼす要因として幼児の数）\n",
    "\n",
    "＜第２段階＞\n",
    "\n",
    "第一段階の結果を使い`OLS`推定（例えば，賃金の推定）\n",
    "\n",
    "$$\n",
    "\\begin{align*}\n",
    "&y_i^{*}=\\beta_0+\\beta_1x_i+\\rho\\sigma_e\\lambda\\left(\\hat{k}_i\\right)+e_i\\qquad\\text{(式６)}\\\\\n",
    "    &\\begin{cases}\n",
    "        y_i=y_i^{*}&\\quad\\text{if }z_i=1\\\\\n",
    "        y_i\\text{は切断される}&\\quad\\text{if }z_i= 0\n",
    "    \\end{cases}\n",
    "\\end{align*}\n",
    "$$\n",
    "\n",
    "* $y_i^{*}$：興味がある変数（例えば，労働者の賃金）\n",
    "* $y_i$：実際に観測される$y_i^{*}$の値\n",
    "* $x_i$：$y_i^{*}$に影響する要因（例えば，教育，経験）\n",
    "\n",
    "ここで\n",
    "* $\\hat{k}_i$：第一段階における$\\dfrac{A-\\hat{\\alpha}_0-\\hat{\\alpha}_1w_i}{\\sigma_u}$の推定量\n",
    "* $A=0$：下限の値\n",
    "* $\\sigma_e$：$e_i$の標準偏差\n",
    "* $\\sigma_u$：$u_i$の標準偏差\n",
    "* $\\rho=\\text{Cov}(u_i,e_i)$"
   ]
  },
  {
   "cell_type": "markdown",
   "metadata": {
    "hidden": true
   },
   "source": [
    "（コメント）\n",
    "* ある仮定のもとで`Heckit`推定量は一致性を満たす。\n",
    "* `Heckit`を使わずに，(式６)を直接OLS推定すると$\\lambda\\left(\\hat{w}_i\\right)$を無視することになり，欠落変数バイアスが発生する。\n",
    "* $\\rho=0$の場合，(式６)を直接OLS推定しても欠落変数バイアスは発生しない。この場合，`Heckit`モデルを使う必要はない。即ち，$\\rho\\sigma_e$のOLS推定量でバイアスが発生しいるか確認できる。\n",
    "\n",
    "（注意）\n",
    "* 上の説明では，$k_i$も$x_i$も１変数として説明したが，実際には複数の変数を使うことになる。その際，第１段階の説明変数（上の例では，$k_i$）には第２段階の説明変数に**ない**変数を少なくとも１つ入れる必要がある。"
   ]
  },
  {
   "cell_type": "markdown",
   "metadata": {
    "heading_collapsed": true,
    "hidden": true
   },
   "source": [
    "### `Heckit`モジュールの使い方"
   ]
  },
  {
   "cell_type": "markdown",
   "metadata": {
    "hidden": true
   },
   "source": [
    "`statsmodels`も`linearmodels`も`Heckit`推定の正式モジュールがない。その代わり`statsmodels`に正式にmergeされていない`Heckman`モジュールに基づいて著者が作成した`heckit`モジュールを使う。これにより上述の説明したステップに沿って自動で推定可能となる。"
   ]
  },
  {
   "cell_type": "markdown",
   "metadata": {
    "hidden": true
   },
   "source": [
    "---\n",
    "＜使い方：ステップ１〜６＞\n",
    "\n",
    "今まで`statsmodels`を使う場合，`from_formula`メソッドを使ったが，それを使わない方法もある。`Heckit`の使い方はその方法に沿っている。\n",
    "\n",
    "1. 変数を準備する前準備\n",
    "    * (式５)と(式６)を使った説明で，第１段階の被説明変数$z_i$と第２段階の被説明変数$y_i$は次のように連動していることに留意しよう。\n",
    "        $$\n",
    "        \\begin{align*}\n",
    "            &z_i=1\\;\\Rightarrow\\; y_i=y^*_i\\\\\n",
    "            &z_i=0\\;\\Rightarrow\\; y_i\\text{は切断}\n",
    "        \\end{align*}\n",
    "        $$\n",
    "    * この点を利用し，`Heckit`モジュールでは第１段階の被説明変数$z_i$を指定する必要がない。その代わりに，$z_i=0$の場合には$y_i=$`NaN`となるように設定する必要がある。\n",
    "1. 第１段階と第２段階で使う全ての変数が入った`DataFrame`を作成する。以下の説明では`df`と呼ぶ。\n",
    "1. 第２段階の被説明変数を`endog`として定義する。例えば，`df`の列`y`にある場合，以下のようにする。\n",
    "    ```\n",
    "        endog = df.loc[:,'y']\n",
    "    ```\n",
    "1. 第２段階の説明変数だけを抜き取って`exog`という`DataFrame`を作成し，それに定数項の列を加える。例えば，`x1`，`x2`，`x3`が該当する変数だとすると，以下のようにする。また`exog`に定数項を加える。\n",
    "    ```\n",
    "        exog = df.loc[:,[x1,x2,x3]]\n",
    "        exog['Intercept'] = 1.0\n",
    "    ```\n",
    "1. 第１段階の説明変数だけを抜き取って`exog_select`という`DataFrame`を作成し，それに定数項の列を加える。例えば，`w1`，`w2`，`w3`が該当する変数だとすると，以下のようにする。また`exog_select`に定数項を加える。\n",
    "    ```\n",
    "        exog_select = df.loc[:,[w1,w2,w3]]\n",
    "        exog_select['Intercept'] = 1.0\n",
    "    ```\n",
    "1. 以下のように`Heckit`を使い推定する。\n",
    "    ```\n",
    "        Heckit(endog, exog, exog_select).fit()\n",
    "    ```"
   ]
  },
  {
   "cell_type": "markdown",
   "metadata": {
    "heading_collapsed": true,
    "hidden": true
   },
   "source": [
    "### 推定"
   ]
  },
  {
   "cell_type": "markdown",
   "metadata": {
    "heading_collapsed": true,
    "hidden": true
   },
   "source": [
    "#### `mroz`を使った推定"
   ]
  },
  {
   "cell_type": "markdown",
   "metadata": {
    "hidden": true
   },
   "source": [
    "上で使った`mroz`のデータセットを使い推定する。\n",
    "* 第１段階の説明変数：`educ`，`exper`，`expersq`，`nwifeinc`，`age`，`kidslt6`，`kidsge6` \n",
    "* 第２段階の被説明変数：`lwage`\n",
    "* 第２段階の説明変数：`educ`，`exper`，`expersq`\n",
    "\n",
    "（目的）\n",
    "* 教育の収益率の推定。"
   ]
  },
  {
   "cell_type": "markdown",
   "metadata": {
    "hidden": true
   },
   "source": [
    "ステップ１"
   ]
  },
  {
   "cell_type": "markdown",
   "metadata": {
    "hidden": true
   },
   "source": [
    "`inlf`は，1975年に既婚女性が労働市場に参加した場合は`1`，参加しなかった場合は`0`になるダミー変数である。この変数を使い，変数作成の前準備として次の２点を確認する。\n",
    "* `inlf`=1の場合，`lwage`は`NaN`ではない。\n",
    "* `inlf`=0の場合，`lwage`は`NaN`である。"
   ]
  },
  {
   "cell_type": "code",
   "execution_count": 38,
   "metadata": {
    "hidden": true
   },
   "outputs": [
    {
     "data": {
      "text/plain": [
       "0"
      ]
     },
     "execution_count": 38,
     "metadata": {},
     "output_type": "execute_result"
    }
   ],
   "source": [
    "mroz.query('inlf == 1')['lwage'].isna().sum()"
   ]
  },
  {
   "cell_type": "markdown",
   "metadata": {
    "hidden": true
   },
   "source": [
    "このコードの`.isna()`は`lwage`が`NaN`であれば`True`を返す（`isnan()`ではないことに注意，また`isnull()`でも可）。その合計`.sum()`が`0`なので，「`inlf`=1の場合，`lwage`は`NaN`ではない」ことが確認できた。"
   ]
  },
  {
   "cell_type": "code",
   "execution_count": 39,
   "metadata": {
    "hidden": true
   },
   "outputs": [
    {
     "data": {
      "text/plain": [
       "0"
      ]
     },
     "execution_count": 39,
     "metadata": {},
     "output_type": "execute_result"
    }
   ],
   "source": [
    "( ~mroz.query('inlf == 0')['lwage'].isnull() ).sum()"
   ]
  },
  {
   "cell_type": "markdown",
   "metadata": {
    "hidden": true
   },
   "source": [
    "このコードの`()`の中を考えよう。上のコードと同じように，`mroz.query('inlf == 0')['lwage'].isnull()`は`lwage`が`NaN`であれば`True`を返すが，その先頭に`~`をつけるとその逆の`False`を返すことになる。`~`は「反転」という意味である。その合計`.sum()`が`0`なので，「`inlf`=0の場合，`lwage`は`NaN`である」ことが確認できた。"
   ]
  },
  {
   "cell_type": "code",
   "execution_count": 40,
   "metadata": {
    "hidden": true
   },
   "outputs": [],
   "source": [
    "# ステップ２：　mros\n",
    "\n",
    "# ステップ３：第２段階の被説明変数\n",
    "endog = mroz.loc[:,'lwage']\n",
    "\n",
    "# ステップ４：第２段階の説明変数\n",
    "exog = mroz.loc[:,['educ', 'exper', 'expersq']]\n",
    "exog['Intercept'] = 1.0\n",
    "\n",
    "\n",
    "# ステップ５：第１段階の説明変数\n",
    "exog_select = mroz.loc[:,['educ', 'exper', 'expersq','nwifeinc', 'age', 'kidslt6', 'kidsge6', ]]\n",
    "exog_select['Intercept'] = 1.0"
   ]
  },
  {
   "cell_type": "markdown",
   "metadata": {
    "hidden": true
   },
   "source": [
    "推定を行う際，`fit()`にオプションを追加し不均一分散頑健標準誤差を指定する。\n",
    "* `cov_type_1`：第１段階推定でのオプション\n",
    "* `cov_type_2`：第２段階推定でのオプション\n",
    "\n",
    "（注意）\n",
    "* オプションを追加しない場合は，`nonrobust`がデフォルトとなる。"
   ]
  },
  {
   "cell_type": "markdown",
   "metadata": {
    "hidden": true
   },
   "source": [
    "ステップ６"
   ]
  },
  {
   "cell_type": "code",
   "execution_count": 41,
   "metadata": {
    "hidden": true
   },
   "outputs": [
    {
     "name": "stdout",
     "output_type": "stream",
     "text": [
      "                           Heckit Regression Results                            \n",
      "================================================================================\n",
      "Dep. Variable:                    lwage   R-squared:                       0.156\n",
      "Model:                           Heckit   Adj. R-squared:                  0.150\n",
      "Method:                Heckman Two-Step   F-statistics:                   26.148\n",
      "Date:                  Sun, 06 Jun 2021   Prob (F-statistic):              0.000\n",
      "Time:                          13:37:40   Cov in 1st Stage:            nonrobust\n",
      "No. Total Obs.:                     753   Cov in 2nd Stage:                  HC1\n",
      "No. Censored Obs.:                  325                                         \n",
      "No. Uncensored Obs.:                428                                         \n",
      "==============================================================================\n",
      "                 coef    std err          z      P>|z|      [0.025      0.975]\n",
      "------------------------------------------------------------------------------\n",
      "educ           0.1091      0.016      7.026      0.000       0.079       0.139\n",
      "exper          0.0439      0.016      2.699      0.007       0.012       0.076\n",
      "expersq       -0.0009      0.000     -1.957      0.050      -0.002    1.15e-06\n",
      "Intercept     -0.5781      0.305     -1.895      0.058      -1.176       0.020\n",
      "==============================================================================\n",
      "                 coef    std err          z      P>|z|      [0.025      0.975]\n",
      "------------------------------------------------------------------------------\n",
      "educ           0.1309      0.025      5.183      0.000       0.081       0.180\n",
      "exper          0.1233      0.019      6.590      0.000       0.087       0.160\n",
      "expersq       -0.0019      0.001     -3.145      0.002      -0.003      -0.001\n",
      "nwifeinc      -0.0120      0.005     -2.484      0.013      -0.022      -0.003\n",
      "age           -0.0529      0.008     -6.235      0.000      -0.069      -0.036\n",
      "kidslt6       -0.8683      0.119     -7.326      0.000      -1.101      -0.636\n",
      "kidsge6        0.0360      0.043      0.828      0.408      -0.049       0.121\n",
      "Intercept      0.2701      0.509      0.531      0.595      -0.727       1.267\n",
      "================================================================================\n",
      "                   coef    std err          z      P>|z|      [0.025      0.975]\n",
      "--------------------------------------------------------------------------------\n",
      "IMR (Lambda)     0.0323      0.134      0.241      0.809      -0.230       0.294\n",
      "=====================================\n",
      "rho:                            0.049\n",
      "sigma:                          0.664\n",
      "=====================================\n",
      "\n",
      "First table are the estimates for the regression (response) equation.\n",
      "Second table are the estimates for the selection equation.\n",
      "Third table is the estimate for the coef of the inverse Mills ratio (Heckman's Lambda).\n"
     ]
    }
   ],
   "source": [
    "res_heckit = Heckit(endog, exog, exog_select).fit(cov_type_2='HC1')\n",
    "\n",
    "print(res_heckit.summary())"
   ]
  },
  {
   "cell_type": "markdown",
   "metadata": {
    "hidden": true
   },
   "source": [
    "* 上段の表：第２段階推定\n",
    "* 中断の表：第１段階推定\n",
    "* 下段の表\n",
    "    * `IMR`：逆ミルズ比（(式６)の$\\lambda\\left(\\hat{w}_i\\right)$）\n",
    "    * `rho`：第１・第２段階の誤差項の共分散（(式６)の$\\rho$）\n",
    "    * `sigma`：第２段階誤差項の標準偏差（(式６)の$\\sigma_e$）\n",
    "\n",
    "（注意）表には通常の標準誤差が表示されている。不均一分散頑健標準誤差は以下で手動で計算する。\n",
    "\n",
    "---\n",
    "第２段階結果の属性とメソッドは`dir()`や`see()`で確認できる。"
   ]
  },
  {
   "cell_type": "code",
   "execution_count": 42,
   "metadata": {
    "hidden": true
   },
   "outputs": [
    {
     "data": {
      "text/plain": [
       "    <                  <=                 ==                 !=\n",
       "    >                  >=                 dir()              hash()\n",
       "    help()             repr()             str()              .HC1_se\n",
       "    .bse               .centered_tss      .conf_int()        .corr_eqnerrors\n",
       "    .cov_HC1           .cov_params()      .cov_type_1        .cov_type_2\n",
       "    .df_model          .df_resid          .endog             .ess\n",
       "    .exog              .f_pvalue          .f_test()          .fittedvalues\n",
       "    .fvalue            .initialize()      .k_constant        .llf?\n",
       "    .load()            .method            .model             .mse_model\n",
       "    .mse_resid         .mse_total         .nobs\n",
       "    .normalized_cov_params                .params\n",
       "    .params_inverse_mills                 .pinv_wexog        .predict()\n",
       "    .pvalues           .remove_data()     .resid             .rsquared\n",
       "    .rsquared_adj      .save()            .scale             .select_res\n",
       "    .ssr               .stderr_inverse_mills                 .summary()\n",
       "    .t_test()          .t_test_pairwise()                    .tvalues\n",
       "    .uncentered_tss    .use_t             .var_reg_error     .wald_test()\n",
       "    .wald_test_terms()                    .wendog            .wexog\n",
       "    .wresid"
      ]
     },
     "execution_count": 42,
     "metadata": {},
     "output_type": "execute_result"
    }
   ],
   "source": [
    "see(res_heckit)"
   ]
  },
  {
   "cell_type": "markdown",
   "metadata": {
    "hidden": true
   },
   "source": [
    "例えば，`predict()`は予測値を返す。この中にはまだ実装されていないものも含まれている。\n",
    "\n",
    "また，この中に`select_res`とあるが，この属性を使い第１段階推定のに関する属性・メソッドを確認できる。"
   ]
  },
  {
   "cell_type": "code",
   "execution_count": 43,
   "metadata": {
    "hidden": true
   },
   "outputs": [
    {
     "data": {
      "text/plain": [
       "    <                  <=                 ==                 !=\n",
       "    >                  >=                 dir()              hash()\n",
       "    help()             repr()             str()              .aic\n",
       "    .bic               .bse               .conf_int()        .cov_kwds\n",
       "    .cov_params()      .cov_type          .df_model          .df_resid\n",
       "    .f_test()          .fittedvalues      .get_margeff()     .initialize()\n",
       "    .k_constant        .llf               .llnull            .llr\n",
       "    .llr_pvalue        .load()            .mle_retvals       .mle_settings\n",
       "    .model             .nobs              .normalized_cov_params\n",
       "    .params            .pred_table()      .predict()         .prsquared\n",
       "    .pvalues           .remove_data()     .resid_dev\n",
       "    .resid_generalized                    .resid_pearson     .resid_response\n",
       "    .save()            .scale             .set_null_options()\n",
       "    .summary()         .summary2()        .t_test()\n",
       "    .t_test_pairwise()                    .tvalues           .use_t\n",
       "    .wald_test()       .wald_test_terms()"
      ]
     },
     "execution_count": 43,
     "metadata": {},
     "output_type": "execute_result"
    }
   ],
   "source": [
    "see(res_heckit.select_res)"
   ]
  },
  {
   "cell_type": "markdown",
   "metadata": {
    "hidden": true
   },
   "source": [
    "例えば，`fittedvalues`は予測値を返す。次のコードでは基本統計量を表示できる。"
   ]
  },
  {
   "cell_type": "code",
   "execution_count": 44,
   "metadata": {
    "hidden": true
   },
   "outputs": [
    {
     "name": "stdout",
     "output_type": "stream",
     "text": [
      "                          Probit Regression Results                           \n",
      "==============================================================================\n",
      "Dep. Variable:                      y   No. Observations:                  753\n",
      "Model:                         Probit   Df Residuals:                      745\n",
      "Method:                           MLE   Df Model:                            7\n",
      "Date:                Sun, 06 Jun 2021   Pseudo R-squ.:                  0.2206\n",
      "Time:                        13:37:40   Log-Likelihood:                -401.30\n",
      "converged:                       True   LL-Null:                       -514.87\n",
      "Covariance Type:            nonrobust   LLR p-value:                 2.009e-45\n",
      "==============================================================================\n"
     ]
    }
   ],
   "source": [
    "print(res_heckit.select_res.summary().tables[0])"
   ]
  },
  {
   "cell_type": "markdown",
   "metadata": {
    "hidden": true
   },
   "source": [
    "この表にある`Dep. Variable: y`の`y`は第１段階の被説明変数を表しているが，第２段階の被説明変数`lwage`を使っているためこのような表記になっている。"
   ]
  },
  {
   "cell_type": "markdown",
   "metadata": {
    "heading_collapsed": true,
    "hidden": true
   },
   "source": [
    "#### 結果の解釈"
   ]
  },
  {
   "cell_type": "markdown",
   "metadata": {
    "hidden": true
   },
   "source": [
    "* 第２段階推定の`educ`の係数は`0.1091`であり統計的に有意。\n",
    "\n",
    "この結果を単純なOLSと比べよう。（`lwage`にある`NaN`は自動的に除外される。）"
   ]
  },
  {
   "cell_type": "code",
   "execution_count": 45,
   "metadata": {
    "hidden": true
   },
   "outputs": [
    {
     "name": "stdout",
     "output_type": "stream",
     "text": [
      "==============================================================================\n",
      "                 coef    std err          z      P>|z|      [0.025      0.975]\n",
      "------------------------------------------------------------------------------\n",
      "Intercept     -0.5220      0.202     -2.589      0.010      -0.917      -0.127\n",
      "educ           0.1075      0.013      8.131      0.000       0.082       0.133\n",
      "exper          0.0416      0.015      2.722      0.006       0.012       0.072\n",
      "expersq       -0.0008      0.000     -1.931      0.053      -0.002    1.21e-05\n",
      "==============================================================================\n"
     ]
    }
   ],
   "source": [
    "formula = 'lwage ~ educ + exper + expersq'\n",
    "\n",
    "res = ols(formula, data=mroz).fit(cov_type='HC1')\n",
    "\n",
    "print(res.summary().tables[1])"
   ]
  },
  {
   "cell_type": "markdown",
   "metadata": {
    "hidden": true
   },
   "source": [
    "`educ`のOLS推定値は`0.1075`で`Heckit`推定値と大きく変わらない。これは選択バイアスが殆どないことを示唆している。実際，`IMR`（逆ミルズ比）のp値は`0.809`であり，係数は０とする通常の有意水準で帰無仮説を棄却できない。即ち，単純なOLS推定では逆ミルズ比の欠落変数バイアスが発生していないことを意味する。\n",
    "\n",
    "次に切断回帰推定を考えてみよう。"
   ]
  },
  {
   "cell_type": "code",
   "execution_count": 46,
   "metadata": {
    "hidden": true
   },
   "outputs": [
    {
     "data": {
      "image/png": "[encoded data removed]",
      "text/plain": [
       "<Figure size 432x288 with 1 Axes>"
      ]
     },
     "metadata": {
      "filenames": {
       "image/png": "/Users/tetsu/Documents/My_Simulation/Python/JupyterBooks/py4etrics.github.io/_build/jupyter_execute/21_TruncregTobitHeckit_149_0.png"
      },
      "needs_background": "light"
     },
     "output_type": "display_data"
    }
   ],
   "source": [
    "plt.hist(mroz['wage'].dropna(),bins=20)\n",
    "pass"
   ]
  },
  {
   "cell_type": "code",
   "execution_count": 47,
   "metadata": {
    "hidden": true
   },
   "outputs": [
    {
     "name": "stdout",
     "output_type": "stream",
     "text": [
      "Optimization terminated successfully.\n",
      "         Current function value: 1.008409\n",
      "         Iterations: 68\n",
      "         Function evaluations: 122\n"
     ]
    },
    {
     "name": "stdout",
     "output_type": "stream",
     "text": [
      "==============================================================================\n",
      "                 coef    std err          z      P>|z|      [0.025      0.975]\n",
      "------------------------------------------------------------------------------\n",
      "Intercept     -0.5220      0.202     -2.589      0.010      -0.917      -0.127\n",
      "educ           0.1075      0.013      8.131      0.000       0.082       0.133\n",
      "exper          0.0416      0.015      2.722      0.006       0.012       0.072\n",
      "expersq       -0.0008      0.000     -1.931      0.053      -0.002    1.21e-05\n",
      "==============================================================================\n"
     ]
    }
   ],
   "source": [
    "thresh = np.log(mroz['wage'].min()*0.5)  # 左切断の下限\n",
    "\n",
    "formula = 'lwage ~ 1 + educ + exper + expersq'\n",
    "\n",
    "res_trunc = Truncreg.from_formula(formula, left=thresh,\n",
    "                                  data=mroz.dropna(subset=['lwage'])).fit()\n",
    "\n",
    "print(res.summary().tables[1])"
   ]
  },
  {
   "cell_type": "markdown",
   "metadata": {
    "hidden": true
   },
   "source": [
    "この推定では，`wage`の最小値の50%の値の対数を下限の値に設定している。`wage=0`を下限にしてもよいが，その場合，`np.log(0)`はマイナス無限になり，通常の最尤推定と同じになる。切断回帰推定を使っても結果は変わらない。即ち，選択バイアスが大きな問題ではないことを示唆している。\n",
    "\n",
    "---\n",
    "第１段階推定では`Probit`モデルを使っているが，以下では不均一分散に関して検定を行う。"
   ]
  },
  {
   "cell_type": "code",
   "execution_count": 48,
   "metadata": {
    "hidden": true
   },
   "outputs": [
    {
     "name": "stdout",
     "output_type": "stream",
     "text": [
      "H0: homoscedasticity\n",
      "HA: heteroscedasticity\n",
      " \n",
      "Wald test: 8.665 \n",
      "p-value:   0.278 \n",
      "df freedom:  7.\n"
     ]
    }
   ],
   "source": [
    "het_test_probit(res_heckit.select_res)"
   ]
  },
  {
   "cell_type": "markdown",
   "metadata": {
    "hidden": true
   },
   "source": [
    "帰無仮説は棄却できない。"
   ]
  }
 ],
 "metadata": {
  "celltoolbar": "Tags",
  "kernelspec": {
   "display_name": "Python 3",
   "language": "python",
   "name": "python3"
  },
  "language_info": {
   "codemirror_mode": {
    "name": "ipython",
    "version": 3
   },
   "file_extension": ".py",
   "mimetype": "text/x-python",
   "name": "python",
   "nbconvert_exporter": "python",
   "pygments_lexer": "ipython3",
   "version": "3.8.5"
  },
  "nteract": {
   "version": "0.23.3"
  },
  "toc": {
   "base_numbering": 1,
   "nav_menu": {},
   "number_sections": true,
   "sideBar": true,
   "skip_h1_title": false,
   "title_cell": "Table of Contents",
   "title_sidebar": "Contents",
   "toc_cell": false,
   "toc_position": {},
   "toc_section_display": true,
   "toc_window_display": false
  }
 },
 "nbformat": 4,
 "nbformat_minor": 2
}