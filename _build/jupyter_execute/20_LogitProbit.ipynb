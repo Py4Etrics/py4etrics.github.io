{
 "cells": [
  {
   "cell_type": "markdown",
   "metadata": {},
   "source": [
    "# 離散選択モデル"
   ]
  },
  {
   "cell_type": "code",
   "execution_count": 1,
   "metadata": {},
   "outputs": [],
   "source": [
    "from scipy.stats import logistic, norm, chi2\n",
    "import numpy as np\n",
    "import matplotlib.pyplot as plt\n",
    "from see import *\n",
    "import pandas as pd\n",
    "from statsmodels.formula.api import ols, logit, probit\n",
    "import wooldridge\n",
    "from py4etrics.hetero_test import *"
   ]
  },
  {
   "cell_type": "markdown",
   "metadata": {
    "heading_collapsed": true
   },
   "source": [
    "## 説明"
   ]
  },
  {
   "cell_type": "markdown",
   "metadata": {
    "hidden": true
   },
   "source": [
    "```{margin}\n",
    "<div name=\"html-admonition\">\n",
    "Do you want to read in a differnt language? Open the \n",
    "<input type=\"button\" onclick=\"location.href='https://translate.google.com/translate?hl=&sl=ja&tl=en&u='+window.location;\" value=\"Google translated version\" style=\"color:#ffffff;background-color:#008080;\" onmouseover=\"this.style.background='#99ccff'\" onmouseout=\"this.style.background='#008080'\"/>\n",
    "in English or the language of your choice.\n",
    "</div>\n",
    "```"
   ]
  },
  {
   "cell_type": "markdown",
   "metadata": {
    "hidden": true
   },
   "source": [
    "次の２つのモデルを考える。\n",
    "* Logitモデル\n",
    "* Probitモデル\n",
    "\n",
    "\n",
    "例として，労働市場参加の決定要因を考えよう。就業する場合は$y=1$，しない場合は$y=0$となる２値反応モデルと考えることができる。\n",
    "\n",
    "＜考え方＞\n",
    "* 潜在変数（効用とも解釈可能） $y^{*}$ が $y^{*}>0$ の場合は労働市場に参加し，$y^{*}\\leq0$ の場合は参加しないとする。\n",
    "* $y^{*}$は要因$x$と誤差項に依存する。\n",
    "\n",
    "    $$\n",
    "    y=\n",
    "    \\begin{cases}\n",
    "        1\\quad\\text{ if}&y^{*}=\\beta_0+\\beta_1x+e > 0\\\\\n",
    "        0\\quad\\text{ if}&y^{*}=\\beta_0+\\beta_1x+e \\leq 0\\\\\n",
    "    \\end{cases}\n",
    "    \\qquad (式０)\n",
    "    $$\n",
    "    \n",
    "    * $\\beta_0$：定数項\n",
    "    * $\\beta_1$：要因$x$の影響を捉える係数\n",
    "    * $e$：誤差項\n",
    "        * $x$（例えば，教育水準）が同じであっても，$e$（例えば，嗜好）によって労働市場参加の決定が異なる。"
   ]
  },
  {
   "cell_type": "markdown",
   "metadata": {
    "hidden": true
   },
   "source": [
    "* $x$を所与として労働市場に参加する確率：$P(y=1|x)$を考えよう。\n",
    "\n",
    "    $$ P(y=1|x)=P(y^{*}>0|x)=P(e>-(\\beta_0+\\beta_1x)|x)=1-G(-(\\beta_0+\\beta_1x))$$\n",
    "    \n",
    "    ここでG(.)はeの累積分布関数である。対称分布関数を仮定すると\n",
    "\n",
    "    $$ 1-G(-z)=G(z)\\qquad\\; z=\\beta_0+\\beta_1x$$\n",
    "\n",
    "    となる。またG(.)にどの分布を仮定するかによって，LogitモデルとProbitモデルに分けることができる。\n",
    "    \n",
    "    * Logitモデル：eはLogistic分布に従うと仮定\n",
    "\n",
    "        $$G(z)=L(z)=\\dfrac{\\exp(z)}{1+\\exp(z)}:\\quad\\text{(Logistic累積確率分布)}$$\n",
    "\n",
    "    * Probitモデル：eは標準正規分布に従うと仮定\n",
    "\n",
    "        $$G(z)=\\Phi(z)=\\text{標準正規分布の累積確率分布}$$\n",
    "\n",
    "* LogitモデルとProbitモデルは次式で表される。\n",
    "\n",
    "    $$\n",
    "    P(y=1|x)=G(\\beta_0+\\beta_1x)=\n",
    "    \\begin{cases}\n",
    "        L(\\beta_0+\\beta_1x)&\\;\\text{Logitモデル}\\\\\n",
    "        \\Phi(\\beta_0+\\beta_1x)&\\;\\text{Probitモデル}\n",
    "    \\end{cases}\n",
    "    \\qquad\\text{(式１)}\n",
    "    $$"
   ]
  },
  {
   "cell_type": "markdown",
   "metadata": {
    "hidden": true
   },
   "source": [
    "---\n",
    "下の図はロジスティクス分布と標準正規分布の累積密度関数を表している。"
   ]
  },
  {
   "cell_type": "code",
   "execution_count": 2,
   "metadata": {
    "hidden": true
   },
   "outputs": [
    {
     "data": {
      "image/png": "[encoded data removed]",
      "text/plain": [
       "<Figure size 432x288 with 1 Axes>"
      ]
     },
     "metadata": {
      "filenames": {
       "image/png": "/Users/tetsu/Documents/My_Simulation/Python/JupyterBooks/py4etrics.github.io/_build/jupyter_execute/20_LogitProbit_7_0.png"
      },
      "needs_background": "light"
     },
     "output_type": "display_data"
    }
   ],
   "source": [
    "x = np.linspace(-4,4,100)\n",
    "y_logistic = logistic.cdf(x)\n",
    "y_norm = norm.cdf(x)\n",
    "plt.plot(x, y_logistic,label='Logistic')\n",
    "plt.plot(x, y_norm, label='Normal')\n",
    "plt.hlines(y=0.5,xmin=-4,xmax=4,linestyles='--')\n",
    "plt.xlabel('z')\n",
    "plt.title(r'Cumulative Distribution Functions: $G(z)$')\n",
    "plt.legend()\n",
    "plt.grid()\n",
    "pass"
   ]
  },
  {
   "cell_type": "markdown",
   "metadata": {
    "hidden": true
   },
   "source": [
    "---\n",
    "（コメント）\n",
    "* (式１)に使うデータ\n",
    "    * 左辺の被説明変数：$y=\\{0,1\\}$\n",
    "    * 右辺の説明変数：$x$は通常の変数\n",
    "* (式１)を最尤法（Maximum Likelihood Estimate; MLE）を使って非線形推定\n",
    "    * 推定には`statsmodels`を使う。\n",
    "    * (式１)の推計に基づく予測値 ＝ $x$を所与とする労働市場に参加する確率\n",
    "* OLS推定では検定に$t$・$F$検定を使ったが，その代わりに最尤法のもとでの検定には３つある\n",
    "    * Wald検定\n",
    "    * 尤度比検定（Likelihood Ratio Test）\n",
    "    * LM（Lagrange Multiperlier）検定（Score検定とも呼ばれる）\n",
    "    * （大標本のもとで同じとなる; 使いやすいものを選択）"
   ]
  },
  {
   "cell_type": "markdown",
   "metadata": {
    "hidden": true
   },
   "source": [
    "（注意１）\n",
    "* 「理想的な」仮定のもとで，最尤推定量は\n",
    "    * 一致性を満たす\n",
    "    * 漸近的に（大標本）**正規分布**に従う\n",
    "    * 漸近的に（大標本）効率的である\n",
    "* 最尤推定量が一致性を満たさない要因に以下を含む（Green, 5th ed, p.679）\n",
    "    * 誤差項のの不均一分散\n",
    "    * 内生的説明変数\n",
    "    * 欠落変数（右辺にある説明変数と相関しなくてもバイアスが発生する）"
   ]
  },
  {
   "cell_type": "markdown",
   "metadata": {
    "hidden": true
   },
   "source": [
    "＜＜不均一分散が疑われる場合の問題＞＞\n",
    "* OLS推定（復習であり，ここでは使わない）\n",
    "    * 推定量は不偏性・一致性を満たす\n",
    "    * 標準誤差は一致性を失う\n",
    "        * 不均一分散頑健標準誤差を使うことにより，有効な検定を行うことが可能（即ち，推定量は一致性を満たしているので，標準誤差を修正することにより有効な検定となる）\n",
    "* ML推定\n",
    "    * 推定量は**一致性を満たさない**\n",
    "    * 標準誤差も一致性を満たさない\n",
    "        * 不均一分散頑健標準誤差を使うことが推奨されることがあるが（研究論文でもそうする研究者も多い）。しかし，係数の推定量は一致性を満たさないままなので，標準誤差だけを修正してもどこまで意味があるのか疑問である。即ち，この場合の不均一分散頑健標準誤差の有用性に疑問が残る（[参照](https://davegiles.blogspot.com/2013/05/robust-standard-errors-for-nonlinear.html)）。**このことは次章の制限従属変数モデルに当てはまるので注意すること。**\n",
    "* 不均一分散に関しての対処方法\n",
    "    * 均一分散の下での標準誤差と不均一分散頑健標準誤差に大きな差がなければ，不均一分散の問題は「大きくない」と考える。ただし目安。\n",
    "    * 不均一分散の検定をおこなう。"
   ]
  },
  {
   "cell_type": "markdown",
   "metadata": {
    "heading_collapsed": true
   },
   "source": [
    "## 推定"
   ]
  },
  {
   "cell_type": "markdown",
   "metadata": {
    "heading_collapsed": true,
    "hidden": true
   },
   "source": [
    "### データ"
   ]
  },
  {
   "cell_type": "markdown",
   "metadata": {
    "hidden": true
   },
   "source": [
    "以下では，`mroz`のデータを使って女性の労働市場参加について考える。"
   ]
  },
  {
   "cell_type": "code",
   "execution_count": 3,
   "metadata": {
    "hidden": true
   },
   "outputs": [
    {
     "name": "stdout",
     "output_type": "stream",
     "text": [
      "name of dataset: mroz\n",
      "no of variables: 22\n",
      "no of observations: 753\n",
      "\n",
      "+----------+---------------------------------+\n",
      "| variable | label                           |\n",
      "+----------+---------------------------------+\n",
      "| inlf     | =1 if in lab frce, 1975         |\n",
      "| hours    | hours worked, 1975              |\n",
      "| kidslt6  | # kids < 6 years                |\n",
      "| kidsge6  | # kids 6-18                     |\n",
      "| age      | woman's age in yrs              |\n",
      "| educ     | years of schooling              |\n",
      "| wage     | est. wage from earn, hrs        |\n",
      "| repwage  | rep. wage at interview in 1976  |\n",
      "| hushrs   | hours worked by husband, 1975   |\n",
      "| husage   | husband's age                   |\n",
      "| huseduc  | husband's years of schooling    |\n",
      "| huswage  | husband's hourly wage, 1975     |\n",
      "| faminc   | family income, 1975             |\n",
      "| mtr      | fed. marg. tax rte facing woman |\n",
      "| motheduc | mother's years of schooling     |\n",
      "| fatheduc | father's years of schooling     |\n",
      "| unem     | unem. rate in county of resid.  |\n",
      "| city     | =1 if live in SMSA              |\n",
      "| exper    | actual labor mkt exper          |\n",
      "| nwifeinc | (faminc - wage*hours)/1000      |\n",
      "| lwage    | log(wage)                       |\n",
      "| expersq  | exper^2                         |\n",
      "+----------+---------------------------------+\n",
      "\n",
      "T.A. Mroz (1987), “The Sensitivity of an Empirical Model of Married\n",
      "Women’s Hours of Work to Economic and Statistical Assumptions,”\n",
      "Econometrica 55, 765-799. Professor Ernst R. Berndt, of MIT, kindly\n",
      "provided the data, which he obtained from Professor Mroz.\n"
     ]
    }
   ],
   "source": [
    "mroz = wooldridge.data('mroz')\n",
    "wooldridge.data('mroz', description=True)"
   ]
  },
  {
   "cell_type": "markdown",
   "metadata": {
    "hidden": true
   },
   "source": [
    "* 被説明変数\n",
    "    * `inlf`：1975年に労働市場に参加した場合１，しない場合は０\n",
    "* 説明変数\n",
    "    * `nwifeinc`：(`faminc` - `wage`*`hours`)/1000\n",
    "        * `faminc`：1975年の世帯所得\n",
    "        * `wage`：賃金\n",
    "        * `hours`：就業時間\n",
    "    * `educ`：教育年数\n",
    "    * `exper`：労働市場参加期間\n",
    "    * `expersq`：`exper`の２乗\n",
    "    * `age`：女性の年齢\n",
    "    * `kidslt6`：6歳未満の子供の数\n",
    "    * `kidsge6`：6〜18さいの子供の数"
   ]
  },
  {
   "cell_type": "markdown",
   "metadata": {
    "heading_collapsed": true,
    "hidden": true
   },
   "source": [
    "### Logitモデル"
   ]
  },
  {
   "cell_type": "markdown",
   "metadata": {
    "hidden": true
   },
   "source": [
    "回帰式の設定"
   ]
  },
  {
   "cell_type": "code",
   "execution_count": 4,
   "metadata": {
    "hidden": true
   },
   "outputs": [],
   "source": [
    "formula = 'inlf ~ nwifeinc + educ + exper + expersq + age + kidslt6 + kidsge6'"
   ]
  },
  {
   "cell_type": "markdown",
   "metadata": {
    "hidden": true
   },
   "source": [
    "推定の計算には`statsmodels`の`logit`関数を使う。使い方は`statsmodels`の`ols`と同じである。"
   ]
  },
  {
   "cell_type": "code",
   "execution_count": 5,
   "metadata": {
    "hidden": true
   },
   "outputs": [
    {
     "name": "stdout",
     "output_type": "stream",
     "text": [
      "Optimization terminated successfully.\n",
      "         Current function value: 0.533553\n",
      "         Iterations 6\n"
     ]
    }
   ],
   "source": [
    "res_logit = logit(formula, data=mroz).fit()"
   ]
  },
  {
   "cell_type": "markdown",
   "metadata": {
    "hidden": true
   },
   "source": [
    "結果の表示"
   ]
  },
  {
   "cell_type": "code",
   "execution_count": 6,
   "metadata": {
    "hidden": true,
    "scrolled": true
   },
   "outputs": [
    {
     "name": "stdout",
     "output_type": "stream",
     "text": [
      "                           Logit Regression Results                           \n",
      "==============================================================================\n",
      "Dep. Variable:                   inlf   No. Observations:                  753\n",
      "Model:                          Logit   Df Residuals:                      745\n",
      "Method:                           MLE   Df Model:                            7\n",
      "Date:                Sun, 08 May 2022   Pseudo R-squ.:                  0.2197\n",
      "Time:                        17:33:19   Log-Likelihood:                -401.77\n",
      "converged:                       True   LL-Null:                       -514.87\n",
      "Covariance Type:            nonrobust   LLR p-value:                 3.159e-45\n",
      "==============================================================================\n",
      "                 coef    std err          z      P>|z|      [0.025      0.975]\n",
      "------------------------------------------------------------------------------\n",
      "Intercept      0.4255      0.860      0.494      0.621      -1.261       2.112\n",
      "nwifeinc      -0.0213      0.008     -2.535      0.011      -0.038      -0.005\n",
      "educ           0.2212      0.043      5.091      0.000       0.136       0.306\n",
      "exper          0.2059      0.032      6.422      0.000       0.143       0.269\n",
      "expersq       -0.0032      0.001     -3.104      0.002      -0.005      -0.001\n",
      "age           -0.0880      0.015     -6.040      0.000      -0.117      -0.059\n",
      "kidslt6       -1.4434      0.204     -7.090      0.000      -1.842      -1.044\n",
      "kidsge6        0.0601      0.075      0.804      0.422      -0.086       0.207\n",
      "==============================================================================\n"
     ]
    }
   ],
   "source": [
    "print(res_logit.summary())"
   ]
  },
  {
   "cell_type": "markdown",
   "metadata": {
    "hidden": true
   },
   "source": [
    "`dir()`や`see()`を使うと，推定結果の属性やメソッドを確認できる。"
   ]
  },
  {
   "cell_type": "code",
   "execution_count": 7,
   "metadata": {
    "hidden": true
   },
   "outputs": [
    {
     "data": {
      "text/plain": [
       "    <                  <=                 ==                 !=\n",
       "    >                  >=                 dir()              hash()\n",
       "    help()             repr()             str()              .aic\n",
       "    .bic               .bse               .conf_int()        .cov_kwds\n",
       "    .cov_params()      .cov_type          .df_model          .df_resid\n",
       "    .f_test()          .fittedvalues      .get_margeff()     .initialize()\n",
       "    .k_constant        .llf               .llnull            .llr\n",
       "    .llr_pvalue        .load()            .mle_retvals       .mle_settings\n",
       "    .model             .nobs              .normalized_cov_params\n",
       "    .params            .pred_table()      .predict()         .prsquared\n",
       "    .pvalues           .remove_data()     .resid_dev\n",
       "    .resid_generalized                    .resid_pearson     .resid_response\n",
       "    .save()            .scale             .set_null_options()\n",
       "    .summary()         .summary2()        .t_test()\n",
       "    .t_test_pairwise()                    .tvalues           .use_t\n",
       "    .wald_test()       .wald_test_terms()"
      ]
     },
     "execution_count": 7,
     "metadata": {},
     "output_type": "execute_result"
    }
   ],
   "source": [
    "see(res_logit)"
   ]
  },
  {
   "cell_type": "markdown",
   "metadata": {
    "hidden": true
   },
   "source": [
    "例えば，`bse`は係数の標準誤差の属性である。"
   ]
  },
  {
   "cell_type": "markdown",
   "metadata": {
    "hidden": true
   },
   "source": [
    "---\n",
    "不均一分散について考察する。誤差項の分散が均一か不均一かを考える上で，２つの方法を説明する。\n",
    "\n",
    "1. 不均一分散頑健標準誤差を使う場合と使わない場合の標準誤差を比べる。\n",
    "    * 違いが小さければ，均一分散の可能性が高い。\n",
    "    * しかし，これは１つの目安である。\n",
    "1. 検定を用いる\n",
    "    * 考え方：不均一分散の仮定の下で最尤推定し，均一分散と比較する。\n",
    "\n",
    "---\n",
    "方法１を考えよう。"
   ]
  },
  {
   "cell_type": "code",
   "execution_count": 8,
   "metadata": {
    "hidden": true
   },
   "outputs": [
    {
     "data": {
      "text/plain": [
       "Intercept   -0.140629\n",
       "nwifeinc     7.726361\n",
       "educ         2.259971\n",
       "exper        0.664423\n",
       "expersq     -0.427766\n",
       "age         -0.983628\n",
       "kidslt6     -0.274232\n",
       "kidsge6      6.738482\n",
       "dtype: float64"
      ]
     },
     "execution_count": 8,
     "metadata": {},
     "output_type": "execute_result"
    }
   ],
   "source": [
    "# 上で推定した係数の標準誤差。\n",
    "l0=res_logit.bse\n",
    "\n",
    "# 不均一分散頑健標準誤差\n",
    "l1=logit(formula, data=mroz).fit(cov_type='HC1',disp=False).bse\n",
    "\n",
    "# `HC1`を使うことによる標準誤差の変化率（％）\n",
    "100*(l1-l0)/l0"
   ]
  },
  {
   "cell_type": "markdown",
   "metadata": {
    "hidden": true
   },
   "source": [
    "大きく違っているようにもみえない。\n",
    "\n",
    "次に方法２である検定をおこなう。まず`py4etrics`パッケージにある`hetero_test`モジュールを読み込み，その中に`het_test_logit()`という関数をつかう。"
   ]
  },
  {
   "cell_type": "markdown",
   "metadata": {
    "hidden": true
   },
   "source": [
    "````{note}\n",
    "MacではTerminal、WindowsではGit Bashを使い、次のコマンドで`py4etrics`モジュールをインストールできる。\n",
    "```\n",
    "pip install git+https://github.com/spring-haru/py4etrics.git\n",
    "```\n",
    "````"
   ]
  },
  {
   "cell_type": "markdown",
   "metadata": {
    "hidden": true
   },
   "source": [
    "引数に推定結果のインスタンスを指定することにより，不均一分散のWald検定をおこなうことができる。"
   ]
  },
  {
   "cell_type": "code",
   "execution_count": 9,
   "metadata": {
    "hidden": true
   },
   "outputs": [
    {
     "name": "stdout",
     "output_type": "stream",
     "text": [
      "H0: homoscedasticity\n",
      "HA: heteroscedasticity\n",
      " \n",
      "Wald test: 9.547 \n",
      "p-value:   0.216 \n",
      "df freedom:  7.\n"
     ]
    },
    {
     "name": "stderr",
     "output_type": "stream",
     "text": [
      "/Users/tetsu/opt/anaconda3/envs/jb/lib/python3.9/site-packages/statsmodels/base/model.py:1889: FutureWarning: The behavior of wald_test will change after 0.14 to returning scalar test statistic values. To get the future behavior now, set scalar to True. To silence this message while retaining the legacy behavior, set scalar to False.\n",
      "  warnings.warn(\n"
     ]
    }
   ],
   "source": [
    "het_test_logit(res_logit)"
   ]
  },
  {
   "cell_type": "markdown",
   "metadata": {
    "hidden": true
   },
   "source": [
    "10%の有意水準でも均一分散の帰無仮説を棄却できない。"
   ]
  },
  {
   "cell_type": "markdown",
   "metadata": {
    "heading_collapsed": true,
    "hidden": true
   },
   "source": [
    "### Probitモデル"
   ]
  },
  {
   "cell_type": "markdown",
   "metadata": {
    "hidden": true
   },
   "source": [
    "推定の計算には`statsmodels`の`probit`関数を使う。使い方は`logit`と同じである。上と同じデータと同じ`formula`を使う。"
   ]
  },
  {
   "cell_type": "code",
   "execution_count": 10,
   "metadata": {
    "hidden": true
   },
   "outputs": [
    {
     "name": "stdout",
     "output_type": "stream",
     "text": [
      "Optimization terminated successfully.\n",
      "         Current function value: 0.532938\n",
      "         Iterations 5\n"
     ]
    }
   ],
   "source": [
    "res_probit = probit(formula, data=mroz).fit()"
   ]
  },
  {
   "cell_type": "code",
   "execution_count": 11,
   "metadata": {
    "hidden": true
   },
   "outputs": [
    {
     "name": "stdout",
     "output_type": "stream",
     "text": [
      "                          Probit Regression Results                           \n",
      "==============================================================================\n",
      "Dep. Variable:                   inlf   No. Observations:                  753\n",
      "Model:                         Probit   Df Residuals:                      745\n",
      "Method:                           MLE   Df Model:                            7\n",
      "Date:                Sun, 08 May 2022   Pseudo R-squ.:                  0.2206\n",
      "Time:                        17:33:19   Log-Likelihood:                -401.30\n",
      "converged:                       True   LL-Null:                       -514.87\n",
      "Covariance Type:            nonrobust   LLR p-value:                 2.009e-45\n",
      "==============================================================================\n",
      "                 coef    std err          z      P>|z|      [0.025      0.975]\n",
      "------------------------------------------------------------------------------\n",
      "Intercept      0.2701      0.509      0.531      0.595      -0.727       1.267\n",
      "nwifeinc      -0.0120      0.005     -2.484      0.013      -0.022      -0.003\n",
      "educ           0.1309      0.025      5.183      0.000       0.081       0.180\n",
      "exper          0.1233      0.019      6.590      0.000       0.087       0.160\n",
      "expersq       -0.0019      0.001     -3.145      0.002      -0.003      -0.001\n",
      "age           -0.0529      0.008     -6.235      0.000      -0.069      -0.036\n",
      "kidslt6       -0.8683      0.119     -7.326      0.000      -1.101      -0.636\n",
      "kidsge6        0.0360      0.043      0.828      0.408      -0.049       0.121\n",
      "==============================================================================\n"
     ]
    }
   ],
   "source": [
    "print(res_probit.summary())"
   ]
  },
  {
   "cell_type": "markdown",
   "metadata": {
    "hidden": true
   },
   "source": [
    "`dir()`や`see()`を使うと，推定結果の属性やメソッドを確認できる。"
   ]
  },
  {
   "cell_type": "code",
   "execution_count": 12,
   "metadata": {
    "hidden": true
   },
   "outputs": [
    {
     "data": {
      "text/plain": [
       "    <                  <=                 ==                 !=\n",
       "    >                  >=                 dir()              hash()\n",
       "    help()             repr()             str()              .aic\n",
       "    .bic               .bse               .conf_int()        .cov_kwds\n",
       "    .cov_params()      .cov_type          .df_model          .df_resid\n",
       "    .f_test()          .fittedvalues      .get_margeff()     .initialize()\n",
       "    .k_constant        .llf               .llnull            .llr\n",
       "    .llr_pvalue        .load()            .mle_retvals       .mle_settings\n",
       "    .model             .nobs              .normalized_cov_params\n",
       "    .params            .pred_table()      .predict()         .prsquared\n",
       "    .pvalues           .remove_data()     .resid_dev\n",
       "    .resid_generalized                    .resid_pearson     .resid_response\n",
       "    .save()            .scale             .set_null_options()\n",
       "    .summary()         .summary2()        .t_test()\n",
       "    .t_test_pairwise()                    .tvalues           .use_t\n",
       "    .wald_test()       .wald_test_terms()"
      ]
     },
     "execution_count": 12,
     "metadata": {},
     "output_type": "execute_result"
    }
   ],
   "source": [
    "see(res_probit)"
   ]
  },
  {
   "cell_type": "markdown",
   "metadata": {
    "hidden": true
   },
   "source": [
    "---\n",
    "不均一分散について考察する。"
   ]
  },
  {
   "cell_type": "code",
   "execution_count": 13,
   "metadata": {
    "hidden": true
   },
   "outputs": [
    {
     "data": {
      "text/plain": [
       "Intercept   -0.738030\n",
       "nwifeinc     9.653354\n",
       "educ         2.169440\n",
       "exper        0.666688\n",
       "expersq      0.055315\n",
       "age         -1.528876\n",
       "kidslt6     -2.021420\n",
       "kidsge6      4.114557\n",
       "dtype: float64"
      ]
     },
     "execution_count": 13,
     "metadata": {},
     "output_type": "execute_result"
    }
   ],
   "source": [
    "# 上で推定した係数の標準誤差。\n",
    "p0=res_probit.bse\n",
    "\n",
    "# 不均一分散頑健標準誤差\n",
    "p1=probit(formula, data=mroz).fit(cov_type='HC1',disp=False).bse\n",
    "\n",
    "# `HC1`を使うことによる標準誤差の変化率（％）\n",
    "100*(p1-p0)/p0"
   ]
  },
  {
   "cell_type": "markdown",
   "metadata": {
    "hidden": true
   },
   "source": [
    "大きく違っているようにはみえない。"
   ]
  },
  {
   "cell_type": "markdown",
   "metadata": {
    "hidden": true
   },
   "source": [
    "次に検定をおこなう。`py4etrics`パッケージの`hetero_test`モジュールにある`het_test_probit()`という関数を使う。使い方は`het_test_probit()`とおなじである。"
   ]
  },
  {
   "cell_type": "code",
   "execution_count": 14,
   "metadata": {
    "hidden": true
   },
   "outputs": [
    {
     "name": "stdout",
     "output_type": "stream",
     "text": [
      "H0: homoscedasticity\n",
      "HA: heteroscedasticity\n",
      " \n",
      "Wald test: 8.665 \n",
      "p-value:   0.278 \n",
      "df freedom:  7.\n"
     ]
    },
    {
     "name": "stderr",
     "output_type": "stream",
     "text": [
      "/Users/tetsu/opt/anaconda3/envs/jb/lib/python3.9/site-packages/statsmodels/base/model.py:1889: FutureWarning: The behavior of wald_test will change after 0.14 to returning scalar test statistic values. To get the future behavior now, set scalar to True. To silence this message while retaining the legacy behavior, set scalar to False.\n",
      "  warnings.warn(\n"
     ]
    }
   ],
   "source": [
    "het_test_probit(res_probit)"
   ]
  },
  {
   "cell_type": "markdown",
   "metadata": {
    "hidden": true
   },
   "source": [
    "10%の有意水準でも均一分散の帰無仮説を棄却できない。"
   ]
  },
  {
   "cell_type": "markdown",
   "metadata": {
    "heading_collapsed": true
   },
   "source": [
    "## 係数の推定値の解釈"
   ]
  },
  {
   "cell_type": "markdown",
   "metadata": {
    "hidden": true
   },
   "source": [
    "まず，`logit`と`probit`の結果を比べてわかるのは，係数の推定値は非常に似ているという点である。では，係数をどのように解釈できるのか考える。"
   ]
  },
  {
   "cell_type": "markdown",
   "metadata": {
    "hidden": true
   },
   "source": [
    "＜通常のOLSの場合＞\n",
    "\n",
    "推定式が\n",
    "\n",
    "$$\n",
    "\\hat{y}=\\hat{\\beta}_0+\\hat{\\beta}_1x\n",
    "$$\n",
    "\n",
    "の場合，$\\hat{\\beta}_1$の解釈は簡単である。$\\dfrac{\\partial\\hat{y}}{\\partial x}=\\hat{\\beta}_1$となるので，（他の変数を一定にしたまま）$x$を一単位変化させた場合の$\\hat{y}$に対する限界効果である。その限界効果は$x$に依存せず一定である。"
   ]
  },
  {
   "cell_type": "markdown",
   "metadata": {
    "hidden": true
   },
   "source": [
    "---\n",
    "＜Logit・Probitモデルの場合＞\n",
    "\n",
    "$G(.)$の関数があるため，少し違ってくる。(式１)を微分すると次の結果を得る。\n",
    "\n",
    "$$\n",
    "\\dfrac{\\partial\\hat{y}}{\\partial x}=\n",
    "\\hat{\\beta}_1\\cdot g\\left(\\hat{\\beta}_0+\\hat{\\beta}_1x\\right), \\qquad g(z)=\\frac{dG(z)}{dz}\n",
    "$$\n",
    "\n",
    "重要な点は，$g\\left(\\hat{\\beta}_0+\\hat{\\beta}_1 x\\right)$は$x$に依存しているため，$x$が一単位変化した場合の限界効果は$x$の値に依存しているということである。限界効果を評価したい場合，$x$に何かの値を代入することにより評価する。ではどの値を使えば良いのか。２つの方法考える。\n",
    "\n",
    "* Partial Effects at Average（平均での限界効果）：平均である$\\bar{x}$で評価する。\n",
    "    \n",
    "    $$\n",
    "    \\text{PEA}=\n",
    "    \\hat{\\beta}_1\\cdot g\\left(\\hat{\\beta}_0+\\hat{\\beta}_1\\bar{x}\\right)\n",
    "    $$\n",
    "\n",
    "* Average Partial Effects（平均限界効果）：全ての$x$値で評価した限界効果の平均\n",
    "        \n",
    "    $$\n",
    "    \\text{APE}=\\dfrac{1}{n}\\sum_{i=1}^n\n",
    "    \\hat{\\beta}_1\\cdot g\\left(\\hat{\\beta}_0+\\hat{\\beta}_1\\hat{x}\\right)\n",
    "    $$\n",
    "\n",
    "（解釈）\n",
    "\n",
    "$x$が１単位増加すると労働市場参加の確率（$P(y=1|x)=G(\\beta_0+\\beta_1x)$）はどれだけ変化するかを示す。"
   ]
  },
  {
   "cell_type": "markdown",
   "metadata": {
    "hidden": true
   },
   "source": [
    "---\n",
    "`statsmodels`では，推定結果（上の例では，`res_logit`と`res_probit`）のメソッド`get_margeff()`を使うことにより自動的に計算してくれる。デフォルトではAPEを返す。PEAには次の引数を使う。\n",
    "* PEA：`at='mean'`\n",
    "* APE：`at='overall'`（デフォルト）\n",
    "\n",
    "また，`get_margeff()`は計算するだけなので，メソッド`summary()`を使って結果を表示する。"
   ]
  },
  {
   "cell_type": "code",
   "execution_count": 15,
   "metadata": {
    "hidden": true
   },
   "outputs": [
    {
     "name": "stdout",
     "output_type": "stream",
     "text": [
      "        Logit Marginal Effects       \n",
      "=====================================\n",
      "Dep. Variable:                   inlf\n",
      "Method:                          dydx\n",
      "At:                           overall\n",
      "==============================================================================\n",
      "                dy/dx    std err          z      P>|z|      [0.025      0.975]\n",
      "------------------------------------------------------------------------------\n",
      "nwifeinc      -0.0038      0.001     -2.571      0.010      -0.007      -0.001\n",
      "educ           0.0395      0.007      5.414      0.000       0.025       0.054\n",
      "exper          0.0368      0.005      7.139      0.000       0.027       0.047\n",
      "expersq       -0.0006      0.000     -3.176      0.001      -0.001      -0.000\n",
      "age           -0.0157      0.002     -6.603      0.000      -0.020      -0.011\n",
      "kidslt6       -0.2578      0.032     -8.070      0.000      -0.320      -0.195\n",
      "kidsge6        0.0107      0.013      0.805      0.421      -0.015       0.037\n",
      "==============================================================================\n",
      "        Logit Marginal Effects       \n",
      "=====================================\n",
      "Dep. Variable:                   inlf\n",
      "Method:                          dydx\n",
      "At:                              mean\n",
      "==============================================================================\n",
      "                dy/dx    std err          z      P>|z|      [0.025      0.975]\n",
      "------------------------------------------------------------------------------\n",
      "nwifeinc      -0.0052      0.002     -2.534      0.011      -0.009      -0.001\n",
      "educ           0.0538      0.011      5.092      0.000       0.033       0.074\n",
      "exper          0.0501      0.008      6.397      0.000       0.035       0.065\n",
      "expersq       -0.0008      0.000     -3.096      0.002      -0.001      -0.000\n",
      "age           -0.0214      0.004     -6.046      0.000      -0.028      -0.014\n",
      "kidslt6       -0.3509      0.050     -7.070      0.000      -0.448      -0.254\n",
      "kidsge6        0.0146      0.018      0.804      0.422      -0.021       0.050\n",
      "==============================================================================\n"
     ]
    }
   ],
   "source": [
    "print(res_logit.get_margeff().summary())\n",
    "print(res_logit.get_margeff(at='mean').summary())"
   ]
  },
  {
   "cell_type": "code",
   "execution_count": 16,
   "metadata": {
    "hidden": true
   },
   "outputs": [
    {
     "name": "stdout",
     "output_type": "stream",
     "text": [
      "       Probit Marginal Effects       \n",
      "=====================================\n",
      "Dep. Variable:                   inlf\n",
      "Method:                          dydx\n",
      "At:                           overall\n",
      "==============================================================================\n",
      "                dy/dx    std err          z      P>|z|      [0.025      0.975]\n",
      "------------------------------------------------------------------------------\n",
      "nwifeinc      -0.0036      0.001     -2.509      0.012      -0.006      -0.001\n",
      "educ           0.0394      0.007      5.452      0.000       0.025       0.054\n",
      "exper          0.0371      0.005      7.200      0.000       0.027       0.047\n",
      "expersq       -0.0006      0.000     -3.205      0.001      -0.001      -0.000\n",
      "age           -0.0159      0.002     -6.739      0.000      -0.021      -0.011\n",
      "kidslt6       -0.2612      0.032     -8.197      0.000      -0.324      -0.199\n",
      "kidsge6        0.0108      0.013      0.829      0.407      -0.015       0.036\n",
      "==============================================================================\n",
      "       Probit Marginal Effects       \n",
      "=====================================\n",
      "Dep. Variable:                   inlf\n",
      "Method:                          dydx\n",
      "At:                              mean\n",
      "==============================================================================\n",
      "                dy/dx    std err          z      P>|z|      [0.025      0.975]\n",
      "------------------------------------------------------------------------------\n",
      "nwifeinc      -0.0047      0.002     -2.484      0.013      -0.008      -0.001\n",
      "educ           0.0511      0.010      5.186      0.000       0.032       0.070\n",
      "exper          0.0482      0.007      6.575      0.000       0.034       0.063\n",
      "expersq       -0.0007      0.000     -3.141      0.002      -0.001      -0.000\n",
      "age           -0.0206      0.003     -6.241      0.000      -0.027      -0.014\n",
      "kidslt6       -0.3392      0.046     -7.316      0.000      -0.430      -0.248\n",
      "kidsge6        0.0141      0.017      0.828      0.408      -0.019       0.047\n",
      "==============================================================================\n"
     ]
    }
   ],
   "source": [
    "print(res_probit.get_margeff().summary())\n",
    "print(res_probit.get_margeff(at='mean').summary())"
   ]
  },
  {
   "cell_type": "markdown",
   "metadata": {
    "hidden": true
   },
   "source": [
    "APEとPEAの値だけを取り題したい場合は，属性`margeff`を使うと良いだろう。"
   ]
  },
  {
   "cell_type": "code",
   "execution_count": 17,
   "metadata": {
    "hidden": true
   },
   "outputs": [
    {
     "data": {
      "text/plain": [
       "array([-0.00469623,  0.05112871,  0.04817705, -0.00073705, -0.02064317,\n",
       "       -0.33915138,  0.0140628 ])"
      ]
     },
     "execution_count": 17,
     "metadata": {},
     "output_type": "execute_result"
    }
   ],
   "source": [
    "res_probit.get_margeff(at='mean').margeff"
   ]
  },
  {
   "cell_type": "markdown",
   "metadata": {
    "heading_collapsed": true
   },
   "source": [
    "## 推定結果の表（上段右）"
   ]
  },
  {
   "cell_type": "markdown",
   "metadata": {
    "hidden": true
   },
   "source": [
    "推定結果の表を説明するために`logit`の結果を再度表示する。（`probit`も同じ項目が表示されている）"
   ]
  },
  {
   "cell_type": "code",
   "execution_count": 18,
   "metadata": {
    "hidden": true
   },
   "outputs": [
    {
     "name": "stdout",
     "output_type": "stream",
     "text": [
      "                           Logit Regression Results                           \n",
      "==============================================================================\n",
      "Dep. Variable:                   inlf   No. Observations:                  753\n",
      "Model:                          Logit   Df Residuals:                      745\n",
      "Method:                           MLE   Df Model:                            7\n",
      "Date:                Sun, 08 May 2022   Pseudo R-squ.:                  0.2197\n",
      "Time:                        17:33:19   Log-Likelihood:                -401.77\n",
      "converged:                       True   LL-Null:                       -514.87\n",
      "Covariance Type:            nonrobust   LLR p-value:                 3.159e-45\n",
      "==============================================================================\n"
     ]
    }
   ],
   "source": [
    "print(res_logit.summary().tables[0])"
   ]
  },
  {
   "cell_type": "markdown",
   "metadata": {
    "hidden": true
   },
   "source": [
    "* `No. Observations`：観測値の数（データの大きさ）\n",
    "    * 属性`nobs`\n",
    "* `DF Residuals`：定数以外の係数の数\n",
    "    * 属性`df_resid`\n",
    "* `DF Model`：定数以外の係数の数\n",
    "    * 属性`df_model`\n",
    "* `Pseudo R-squ`（疑似決定係数）：\n",
    "    * MLEはOLSではないため$R^2$はない。その代わりになる指標がPseudo $R^2$（疑似決定係数）といわれるものであり，その１つが表にあるMcFaddenが考案した Pseudo $R^2$。\n",
    "    * 属性`prsquared`\n",
    "* `Log-Likelihood`（残差の対数尤度）\n",
    "    * 大きいほど当てはまり良い\n",
    "    * 属性`llf`\n",
    "* `LL-Null`（定数以外の係数を０に制限した場合の残差の対数尤度）\n",
    "    * 属性`llnull`\n",
    "* `LLR p-value`：\n",
    "    * 定数項（Intercept）以外の係数が全て０であるという帰無仮説のもとでのp値。ここでは非常に小さな数字であり，帰無仮説を棄却できる。\n",
    "    * 属性`llr_pvalue`"
   ]
  },
  {
   "cell_type": "markdown",
   "metadata": {
    "heading_collapsed": true
   },
   "source": [
    "## 尤度比検定"
   ]
  },
  {
   "cell_type": "markdown",
   "metadata": {
    "hidden": true
   },
   "source": [
    "尤度比検定（Likelihood Ratio Test）について説明する。検定量は，次式に従って制限を課す場合と課さない場合の残差の対数尤度を使って計算する。\n",
    "\n",
    "$$LR=2\\left(\\cal{L}_{ur}-\\cal{L}_{r}\\right)$$\n",
    "\n",
    "\n",
    "* $\\cal{L}_{ur}$：制限がない場合の対数尤度\n",
    "* $\\cal{L}_{r}$：制限がある場合の対数尤度\n",
    "\n",
    "$LR$は漸近的にカイ二乗分布に従う。\n",
    "\n",
    "$$LR\\sim \\chi_q^2,\\qquad q=\\text{制限される係数の数}$$"
   ]
  },
  {
   "cell_type": "markdown",
   "metadata": {
    "heading_collapsed": true,
    "hidden": true
   },
   "source": [
    "### 例１"
   ]
  },
  {
   "cell_type": "markdown",
   "metadata": {
    "hidden": true
   },
   "source": [
    "例として，Probit推定を考える。\n",
    "\n",
    "$\\text{H}_0$：定数項以外の係数は全て０\n",
    "\n",
    "$\\text{H}_A$：$\\text{H}_0$は成立しない"
   ]
  },
  {
   "cell_type": "code",
   "execution_count": 19,
   "metadata": {
    "hidden": true
   },
   "outputs": [
    {
     "data": {
      "text/plain": [
       "0.0"
      ]
     },
     "execution_count": 19,
     "metadata": {},
     "output_type": "execute_result"
    }
   ],
   "source": [
    "ll_ur = res_probit.llf  # 制限を課さない場合の対数尤度\n",
    "\n",
    "ll_r = res_probit.llnull  # 制限を課す場合の対数尤度\n",
    "\n",
    "LR = 2*(ll_ur-ll_r)  # LR統計量\n",
    "\n",
    "dof = res_probit.df_model  #  自由度＝制限を課すパラメータの数\n",
    "\n",
    "1- chi2.cdf(LR, dof)"
   ]
  },
  {
   "cell_type": "markdown",
   "metadata": {
    "hidden": true
   },
   "source": [
    "1%水準で帰無仮説は棄却できる。\n",
    "\n",
    "この結果は推定結果の表にある`LLR p-value`と同じであり，`res_probit`の属性`.llr_pvalue`を使って直接表示することも可能である。"
   ]
  },
  {
   "cell_type": "code",
   "execution_count": 20,
   "metadata": {
    "hidden": true
   },
   "outputs": [
    {
     "data": {
      "text/plain": [
       "2.0086732957629427e-45"
      ]
     },
     "execution_count": 20,
     "metadata": {},
     "output_type": "execute_result"
    }
   ],
   "source": [
    "res_probit.llr_pvalue"
   ]
  },
  {
   "cell_type": "markdown",
   "metadata": {
    "heading_collapsed": true,
    "hidden": true
   },
   "source": [
    "### 例２"
   ]
  },
  {
   "cell_type": "markdown",
   "metadata": {
    "hidden": true
   },
   "source": [
    "次に，Probit推定を考える。\n",
    "\n",
    "$\\text{H}_0$：`exper`，`expersq`，`age`の係数は０\n",
    "\n",
    "$\\text{H}_A$：$\\text{H}_0$は成立しない\n",
    "\n",
    "帰無仮説の下での推定をおこなう。"
   ]
  },
  {
   "cell_type": "code",
   "execution_count": 21,
   "metadata": {
    "hidden": true
   },
   "outputs": [
    {
     "name": "stdout",
     "output_type": "stream",
     "text": [
      "Optimization terminated successfully.\n",
      "         Current function value: 0.617290\n",
      "         Iterations 5\n"
     ]
    }
   ],
   "source": [
    "formula_0 = 'inlf ~ nwifeinc + educ + kidslt6 + kidsge6'\n",
    "\n",
    "res_probit_0 = probit(formula_0, data=mroz).fit(cov_type='HC1')"
   ]
  },
  {
   "cell_type": "code",
   "execution_count": 22,
   "metadata": {
    "hidden": true
   },
   "outputs": [
    {
     "data": {
      "text/plain": [
       "0.0"
      ]
     },
     "execution_count": 22,
     "metadata": {},
     "output_type": "execute_result"
    }
   ],
   "source": [
    "ll_ur = res_probit.llf  # 制限を課さない場合の対数尤度\n",
    "\n",
    "ll_r = res_probit_0.llf  # 制限を課す場合の対数尤度\n",
    "\n",
    "LR = 2*(ll_ur-ll_r)  # LR統計量\n",
    "\n",
    "dof = 3  #  自由度＝制限を課すパラメータの数\n",
    "\n",
    "1- chi2.cdf(LR, dof)"
   ]
  },
  {
   "cell_type": "markdown",
   "metadata": {
    "hidden": true
   },
   "source": [
    "1%水準で帰無仮説は棄却できる。"
   ]
  },
  {
   "cell_type": "markdown",
   "metadata": {
    "heading_collapsed": true
   },
   "source": [
    "## 線形確率モデル"
   ]
  },
  {
   "cell_type": "markdown",
   "metadata": {
    "hidden": true
   },
   "source": [
    "線形確率モデル（Linear Probability Model）を考えるために，関数$G(.)$に関して以下を仮定する。\n",
    "\n",
    "$$\n",
    "G(z) = z\n",
    "$$\n",
    "\n",
    "線形確率モデルの利点は，通常のOLS推定が可能だということである。しかし，誤差項は不均一分散となるため以下では不均一分散頑健標準誤差を使う。"
   ]
  },
  {
   "cell_type": "code",
   "execution_count": 23,
   "metadata": {
    "hidden": true
   },
   "outputs": [
    {
     "name": "stdout",
     "output_type": "stream",
     "text": [
      "                            OLS Regression Results                            \n",
      "==============================================================================\n",
      "Dep. Variable:                   inlf   R-squared:                       0.264\n",
      "Model:                            OLS   Adj. R-squared:                  0.257\n",
      "Method:                 Least Squares   F-statistic:                     62.48\n",
      "Date:                Sun, 08 May 2022   Prob (F-statistic):           1.30e-70\n",
      "Time:                        17:33:19   Log-Likelihood:                -423.89\n",
      "No. Observations:                 753   AIC:                             863.8\n",
      "Df Residuals:                     745   BIC:                             900.8\n",
      "Df Model:                           7                                         \n",
      "Covariance Type:                  HC1                                         \n",
      "==============================================================================\n",
      "                 coef    std err          z      P>|z|      [0.025      0.975]\n",
      "------------------------------------------------------------------------------\n",
      "Intercept      0.5855      0.152      3.846      0.000       0.287       0.884\n",
      "nwifeinc      -0.0034      0.002     -2.233      0.026      -0.006      -0.000\n",
      "educ           0.0380      0.007      5.229      0.000       0.024       0.052\n",
      "exper          0.0395      0.006      6.797      0.000       0.028       0.051\n",
      "expersq       -0.0006      0.000     -3.138      0.002      -0.001      -0.000\n",
      "age           -0.0161      0.002     -6.707      0.000      -0.021      -0.011\n",
      "kidslt6       -0.2618      0.032     -8.237      0.000      -0.324      -0.200\n",
      "kidsge6        0.0130      0.014      0.962      0.336      -0.014       0.040\n",
      "==============================================================================\n",
      "Omnibus:                      169.137   Durbin-Watson:                   0.494\n",
      "Prob(Omnibus):                  0.000   Jarque-Bera (JB):               36.741\n",
      "Skew:                          -0.196   Prob(JB):                     1.05e-08\n",
      "Kurtosis:                       1.991   Cond. No.                     3.06e+03\n",
      "==============================================================================\n",
      "\n",
      "Notes:\n",
      "[1] Standard Errors are heteroscedasticity robust (HC1)\n",
      "[2] The condition number is large, 3.06e+03. This might indicate that there are\n",
      "strong multicollinearity or other numerical problems.\n"
     ]
    }
   ],
   "source": [
    "res_lin = ols(formula, mroz).fit(cov_type='HC1')\n",
    "\n",
    "print(res_lin.summary())"
   ]
  },
  {
   "cell_type": "markdown",
   "metadata": {
    "hidden": true
   },
   "source": [
    "この推定法の問題は，確率の予測値が$[0,1]$に収まらない場合があることである。この点については以下で確認する。"
   ]
  },
  {
   "cell_type": "markdown",
   "metadata": {
    "heading_collapsed": true
   },
   "source": [
    "## ３つのモデルの比較"
   ]
  },
  {
   "cell_type": "markdown",
   "metadata": {
    "hidden": true
   },
   "source": [
    "上述の３つのモデルの推定結果のメソッド`predict()`は\n",
    "\n",
    "　　　労働参加の確率$P(y=1|x)$の予測値\n",
    "\n",
    "を返す。\n",
    "\n",
    "---\n",
    "＜＜注意＞＞\n",
    "\n",
    "* 推定結果には属性`fittedvalues`があるが，３つのモデルでは以下が返される。\n",
    "\n",
    "    $$\\hat{\\beta}_0+\\hat{\\beta}_1x$$\n",
    "\n",
    "* 解釈\n",
    "    * 線形確率モデル：労働参加の確率$P(y=1|x)$の予測値（`predict()`と同じ）\n",
    "    * Logit・Probitモデル：潜在変数（または効用）$y^*$の予測値"
   ]
  },
  {
   "cell_type": "markdown",
   "metadata": {
    "hidden": true
   },
   "source": [
    "---\n",
    "線形確率モデルでは，労働参加の確率は１以上もしくは０以下になり得る。"
   ]
  },
  {
   "cell_type": "code",
   "execution_count": 24,
   "metadata": {
    "hidden": true
   },
   "outputs": [
    {
     "name": "stdout",
     "output_type": "stream",
     "text": [
      "1を上回る予測値の数：17\n",
      "0を下回る予測値の数：16\n"
     ]
    }
   ],
   "source": [
    "no_1 = (res_lin.fittedvalues>1).sum()\n",
    "\n",
    "no_0 = (res_lin.fittedvalues<0).sum()\n",
    "\n",
    "print(f'1を上回る予測値の数：{no_1}\\n0を下回る予測値の数：{no_0}')"
   ]
  },
  {
   "cell_type": "markdown",
   "metadata": {
    "hidden": true
   },
   "source": [
    "---\n",
    "LogitモデルとProbitモデルの予測値を図を使って比べてみる。"
   ]
  },
  {
   "cell_type": "code",
   "execution_count": 25,
   "metadata": {
    "hidden": true
   },
   "outputs": [
    {
     "data": {
      "image/png": "[encoded data removed]",
      "text/plain": [
       "<Figure size 288x288 with 1 Axes>"
      ]
     },
     "metadata": {
      "filenames": {
       "image/png": "/Users/tetsu/Documents/My_Simulation/Python/JupyterBooks/py4etrics.github.io/_build/jupyter_execute/20_LogitProbit_79_0.png"
      },
      "needs_background": "light"
     },
     "output_type": "display_data"
    }
   ],
   "source": [
    "xx = np.linspace(0,1,100)\n",
    "\n",
    "y_logit = res_logit.predict()\n",
    "y_probit = res_probit.predict()\n",
    "\n",
    "plt.figure(figsize=(4,4))  # 図のサイズ\n",
    "plt.scatter(y_logit,y_probit, label='comparison')\n",
    "plt.plot(xx, xx, color='red', linewidth = 2, label='45 degree line')\n",
    "plt.xlabel('Predicted Probability of Logistic Model')\n",
    "plt.ylabel('Predicted Probability of Probit Model')\n",
    "plt.legend()\n",
    "pass"
   ]
  },
  {
   "cell_type": "markdown",
   "metadata": {
    "hidden": true
   },
   "source": [
    "LogitモデルとProbitモデルの予測確率は殆ど変わらない。ではLogitとProbitのどちらをどのような基準で選ぶべきか。*Microeconometrics Using Stata* (2009)は次を推奨している。\n",
    "* 対数尤度（log likelihood）が高い方を選ぶ。\n",
    "\n",
    "確認するために，それぞれの結果の属性`.llf`を比べる。"
   ]
  },
  {
   "cell_type": "code",
   "execution_count": 26,
   "metadata": {
    "hidden": true
   },
   "outputs": [
    {
     "data": {
      "text/plain": [
       "(-401.76515113438177, -401.30219317389515)"
      ]
     },
     "execution_count": 26,
     "metadata": {},
     "output_type": "execute_result"
    }
   ],
   "source": [
    "res_logit.llf, res_probit.llf"
   ]
  },
  {
   "cell_type": "markdown",
   "metadata": {
    "hidden": true
   },
   "source": [
    "Probitの対数尤度が高いが，殆ど変わらない。この結果は上の図にも反映されている。"
   ]
  }
 ],
 "metadata": {
  "kernelspec": {
   "display_name": "Python 3",
   "language": "python",
   "name": "python3"
  },
  "language_info": {
   "codemirror_mode": {
    "name": "ipython",
    "version": 3
   },
   "file_extension": ".py",
   "mimetype": "text/x-python",
   "name": "python",
   "nbconvert_exporter": "python",
   "pygments_lexer": "ipython3",
   "version": "3.9.0"
  },
  "nteract": {
   "version": "0.23.1"
  },
  "toc": {
   "base_numbering": 1,
   "nav_menu": {},
   "number_sections": true,
   "sideBar": true,
   "skip_h1_title": false,
   "title_cell": "Table of Contents",
   "title_sidebar": "Contents",
   "toc_cell": false,
   "toc_position": {},
   "toc_section_display": true,
   "toc_window_display": false
  }
 },
 "nbformat": 4,
 "nbformat_minor": 2
}