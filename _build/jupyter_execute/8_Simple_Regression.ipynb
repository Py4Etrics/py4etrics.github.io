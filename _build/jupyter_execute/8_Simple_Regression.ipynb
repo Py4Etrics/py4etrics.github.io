{
 "cells": [
  {
   "cell_type": "markdown",
   "metadata": {},
   "source": [
    "# 単回帰分析"
   ]
  },
  {
   "cell_type": "code",
   "execution_count": 1,
   "metadata": {},
   "outputs": [],
   "source": [
    "import numpy as np\n",
    "import pandas as pd\n",
    "from scipy.stats import norm\n",
    "import matplotlib.pyplot as plt\n",
    "import wooldridge  # wooldridgeのデータ・パッケージ\n",
    "from statsmodels.formula.api import ols  # 回帰分析のパッケージ\n",
    "from see import see  # 属性を調べるパッケージ\n",
    "from numba import njit  # シミュレーションの計算を高速化する"
   ]
  },
  {
   "cell_type": "markdown",
   "metadata": {
    "heading_collapsed": true
   },
   "source": [
    "## 説明"
   ]
  },
  {
   "cell_type": "markdown",
   "metadata": {
    "hidden": true
   },
   "source": [
    "説明変数が１つの単回帰（Simple Regression）を考える。\n",
    "\n",
    "$$y_i=\\beta_0+\\beta_1 x_i + u_i$$\n",
    "\n",
    "ここで使う変数の呼び名は複数あるので混同しないように。\n",
    "* $y_i$： 被説明変数（explained variable）\n",
    "    * 従属変数（dependent variable）\n",
    "    * regressand\n",
    "* $x_i$： 説明変数（explanatory variable）\n",
    "    * 独立変数（independent variable）\n",
    "    * regressor\n",
    "* $u_i$： 誤差項（errors)\n",
    "    * 観測不可能なランダムな要素\n",
    "    * 平均はゼロと仮定する（重回帰分析の章でより詳しく説明する）\n",
    "* $i=1,2,...n$：観測値のインデックス\n",
    "* $\\beta_0$：定数項（観測不可能なため推定する）\n",
    "* $\\beta_1$：スロープ係数（観測不可能なため推定する）"
   ]
  },
  {
   "cell_type": "markdown",
   "metadata": {
    "hidden": true
   },
   "source": [
    "---\n",
    "**最小二乗法推定法（Ordinary Least Squares; OLS）**\n",
    "\n",
    "$$\\sum_{i=1}^n\\left(y_i-\\beta_0-\\beta_1 x_i\\right)^2$$\n",
    "\n",
    "を最小化する$\\beta_0$と$\\beta_1$を選択すると以下を得る：\n",
    "\n",
    "$$\n",
    "\\hat{\\beta}_0=\\bar{y}-\\hat{\\beta}_1\\bar{x},\\qquad\\qquad\n",
    "\\hat{\\beta}_1=\\frac{\\text{Cov}(x,y)}{\\text{Var}(x)}\n",
    "$$\n",
    "\n",
    "* `^`（ハット）がある変数（$\\hat{\\beta}_0$と$\\hat{\\beta}_1$）を**OLS推定量**と呼ぶ\n",
    "* `-`（バー）がある変数（例えば，$\\bar{y}$）は平均値\n",
    "* $\\text{Cov}(x,y)=$ $x$と$y$の共分散\n",
    "* $\\text{Var}(x)=$ $x$の分散\n",
    "* $x$のように添え字$i$を省いた場合は，$x_1$から$x_n$までの全ての観測値という意味（$y$も同じ）"
   ]
  },
  {
   "cell_type": "markdown",
   "metadata": {
    "hidden": true
   },
   "source": [
    "また以下を定義する。\n",
    "* 予測値 $\\hat{y}_i$\n",
    "\n",
    "$$\\hat{y}_i=\\hat{\\beta}_0 + \\hat{\\beta}_1x_i$$\n",
    "\n",
    "* 残差 $\\hat{u}_i$\n",
    "\n",
    "$$\\hat{u}_i=y_i-\\hat{y}_i$$"
   ]
  },
  {
   "cell_type": "markdown",
   "metadata": {
    "heading_collapsed": true
   },
   "source": [
    "## データ"
   ]
  },
  {
   "cell_type": "markdown",
   "metadata": {
    "hidden": true
   },
   "source": [
    "Wooldridge (2019)で使われるデータセットは全て`wooldridge`のパッケージに含まれている。そのパッケージからからデータを読み込んで使うことにする。"
   ]
  },
  {
   "cell_type": "markdown",
   "metadata": {
    "hidden": true
   },
   "source": [
    "````{note}\n",
    "MacではTerminal、WindowsではGit Bashを使い、次のコマンドで`wooldridge`パッケージをインストールできる。\n",
    "```\n",
    "pip install wooldridge\n",
    "```\n",
    "````"
   ]
  },
  {
   "cell_type": "markdown",
   "metadata": {
    "hidden": true
   },
   "source": [
    "使う関数は`data()`であり，引数なしで実行するとデータセットのリストが表示される。"
   ]
  },
  {
   "cell_type": "code",
   "execution_count": 2,
   "metadata": {
    "hidden": true
   },
   "outputs": [
    {
     "name": "stdout",
     "output_type": "stream",
     "text": [
      "  J.M. Wooldridge (2016) Introductory Econometrics: A Modern Approach,\n",
      "  Cengage Learning, 6th edition.\n",
      "\n",
      "  401k       401ksubs    admnrev       affairs     airfare\n",
      "  alcohol    apple       approval      athlet1     athlet2\n",
      "  attend     audit       barium        beauty      benefits\n",
      "  beveridge  big9salary  bwght         bwght2      campus\n",
      "  card       catholic    cement        census2000  ceosal1\n",
      "  ceosal2    charity     consump       corn        countymurders\n",
      "  cps78_85   cps91       crime1        crime2      crime3\n",
      "  crime4     discrim     driving       earns       econmath\n",
      "  elem94_95  engin       expendshares  ezanders    ezunem\n",
      "  fair       fertil1     fertil2       fertil3     fish\n",
      "  fringe     gpa1        gpa2          gpa3        happiness\n",
      "  hprice1    hprice2     hprice3       hseinv      htv\n",
      "  infmrt     injury      intdef        intqrt      inven\n",
      "  jtrain     jtrain2     jtrain3       kielmc      lawsch85\n",
      "  loanapp    lowbrth     mathpnl       meap00_01   meap01\n",
      "  meap93     meapsingle  minwage       mlb1        mroz\n",
      "  murder     nbasal      nyse          okun        openness\n",
      "  pension    phillips    pntsprd       prison      prminwge\n",
      "  rdchem     rdtelec     recid         rental      return\n",
      "  saving     sleep75     slp75_81      smoke       traffic1\n",
      "  traffic2   twoyear     volat         vote1       vote2\n",
      "  voucher    wage1       wage2         wagepan     wageprc\n",
      "  wine\n"
     ]
    }
   ],
   "source": [
    "wooldridge.data()"
   ]
  },
  {
   "cell_type": "markdown",
   "metadata": {
    "hidden": true
   },
   "source": [
    "この中にある`wage1`を使う。データ・セットを読み込むには、引数にデータ・セット名を文字列として入力する。返り値は`DataFrame`であり、\n",
    "回帰分析に使うために`df`に割り当てる。"
   ]
  },
  {
   "cell_type": "code",
   "execution_count": 3,
   "metadata": {
    "hidden": true
   },
   "outputs": [],
   "source": [
    "df = wooldridge.data('wage1')"
   ]
  },
  {
   "cell_type": "markdown",
   "metadata": {
    "hidden": true
   },
   "source": [
    "オプション`description=True`を追加するとデータの説明を表示することができる。"
   ]
  },
  {
   "cell_type": "code",
   "execution_count": 4,
   "metadata": {
    "hidden": true
   },
   "outputs": [
    {
     "name": "stdout",
     "output_type": "stream",
     "text": [
      "name of dataset: wage1\n",
      "no of variables: 24\n",
      "no of observations: 526\n",
      "\n",
      "+----------+---------------------------------+\n",
      "| variable | label                           |\n",
      "+----------+---------------------------------+\n",
      "| wage     | average hourly earnings         |\n",
      "| educ     | years of education              |\n",
      "| exper    | years potential experience      |\n",
      "| tenure   | years with current employer     |\n",
      "| nonwhite | =1 if nonwhite                  |\n",
      "| female   | =1 if female                    |\n",
      "| married  | =1 if married                   |\n",
      "| numdep   | number of dependents            |\n",
      "| smsa     | =1 if live in SMSA              |\n",
      "| northcen | =1 if live in north central U.S |\n",
      "| south    | =1 if live in southern region   |\n",
      "| west     | =1 if live in western region    |\n",
      "| construc | =1 if work in construc. indus.  |\n",
      "| ndurman  | =1 if in nondur. manuf. indus.  |\n",
      "| trcommpu | =1 if in trans, commun, pub ut  |\n",
      "| trade    | =1 if in wholesale or retail    |\n",
      "| services | =1 if in services indus.        |\n",
      "| profserv | =1 if in prof. serv. indus.     |\n",
      "| profocc  | =1 if in profess. occupation    |\n",
      "| clerocc  | =1 if in clerical occupation    |\n",
      "| servocc  | =1 if in service occupation     |\n",
      "| lwage    | log(wage)                       |\n",
      "| expersq  | exper^2                         |\n",
      "| tenursq  | tenure^2                        |\n",
      "+----------+---------------------------------+\n",
      "\n",
      "These are data from the 1976 Current Population Survey, collected by\n",
      "Henry Farber when he and I were colleagues at MIT in 1988.\n"
     ]
    }
   ],
   "source": [
    "wooldridge.data('wage1',description=True)"
   ]
  },
  {
   "cell_type": "markdown",
   "metadata": {
    "hidden": true
   },
   "source": [
    "このデータを使い次の問題を考える。\n",
    "\n",
    "「教育水準は賃金にどのような影響を与えるのか」\n",
    "\n",
    "* 被説明変数：`wage`（平均時給、単位：米ドル）\n",
    "* 説明変数：`educ`（教育年数、単位：年）\n",
    "\n",
    "まず関係する変数だけを取り出してみる。"
   ]
  },
  {
   "cell_type": "code",
   "execution_count": 5,
   "metadata": {
    "hidden": true
   },
   "outputs": [],
   "source": [
    "df = df.loc[:,['wage','educ']]"
   ]
  },
  {
   "cell_type": "markdown",
   "metadata": {
    "hidden": true
   },
   "source": [
    "最初の3行の表示をしてみよう。\n"
   ]
  },
  {
   "cell_type": "code",
   "execution_count": 6,
   "metadata": {
    "hidden": true
   },
   "outputs": [
    {
     "data": {
      "text/html": [
       "<div>\n",
       "<style scoped>\n",
       "    .dataframe tbody tr th:only-of-type {\n",
       "        vertical-align: middle;\n",
       "    }\n",
       "\n",
       "    .dataframe tbody tr th {\n",
       "        vertical-align: top;\n",
       "    }\n",
       "\n",
       "    .dataframe thead th {\n",
       "        text-align: right;\n",
       "    }\n",
       "</style>\n",
       "<table border=\"1\" class=\"dataframe\">\n",
       "  <thead>\n",
       "    <tr style=\"text-align: right;\">\n",
       "      <th></th>\n",
       "      <th>wage</th>\n",
       "      <th>educ</th>\n",
       "    </tr>\n",
       "  </thead>\n",
       "  <tbody>\n",
       "    <tr>\n",
       "      <th>0</th>\n",
       "      <td>3.10</td>\n",
       "      <td>11</td>\n",
       "    </tr>\n",
       "    <tr>\n",
       "      <th>1</th>\n",
       "      <td>3.24</td>\n",
       "      <td>12</td>\n",
       "    </tr>\n",
       "    <tr>\n",
       "      <th>2</th>\n",
       "      <td>3.00</td>\n",
       "      <td>11</td>\n",
       "    </tr>\n",
       "  </tbody>\n",
       "</table>\n",
       "</div>"
      ],
      "text/plain": [
       "   wage  educ\n",
       "0  3.10    11\n",
       "1  3.24    12\n",
       "2  3.00    11"
      ]
     },
     "execution_count": 6,
     "metadata": {},
     "output_type": "execute_result"
    }
   ],
   "source": [
    "df.head(3)"
   ]
  },
  {
   "cell_type": "markdown",
   "metadata": {
    "hidden": true
   },
   "source": [
    "次に`DataFrame`の特徴を確認する。"
   ]
  },
  {
   "cell_type": "code",
   "execution_count": 7,
   "metadata": {
    "hidden": true
   },
   "outputs": [
    {
     "name": "stdout",
     "output_type": "stream",
     "text": [
      "<class 'pandas.core.frame.DataFrame'>\n",
      "RangeIndex: 526 entries, 0 to 525\n",
      "Data columns (total 2 columns):\n",
      " #   Column  Non-Null Count  Dtype  \n",
      "---  ------  --------------  -----  \n",
      " 0   wage    526 non-null    float64\n",
      " 1   educ    526 non-null    int64  \n",
      "dtypes: float64(1), int64(1)\n",
      "memory usage: 8.3 KB\n"
     ]
    }
   ],
   "source": [
    "df.info()"
   ]
  },
  {
   "cell_type": "markdown",
   "metadata": {
    "hidden": true
   },
   "source": [
    "また記述統計も必ず確認するように。"
   ]
  },
  {
   "cell_type": "code",
   "execution_count": 8,
   "metadata": {
    "hidden": true
   },
   "outputs": [
    {
     "data": {
      "text/html": [
       "<div>\n",
       "<style scoped>\n",
       "    .dataframe tbody tr th:only-of-type {\n",
       "        vertical-align: middle;\n",
       "    }\n",
       "\n",
       "    .dataframe tbody tr th {\n",
       "        vertical-align: top;\n",
       "    }\n",
       "\n",
       "    .dataframe thead th {\n",
       "        text-align: right;\n",
       "    }\n",
       "</style>\n",
       "<table border=\"1\" class=\"dataframe\">\n",
       "  <thead>\n",
       "    <tr style=\"text-align: right;\">\n",
       "      <th></th>\n",
       "      <th>wage</th>\n",
       "      <th>educ</th>\n",
       "    </tr>\n",
       "  </thead>\n",
       "  <tbody>\n",
       "    <tr>\n",
       "      <th>count</th>\n",
       "      <td>526.000000</td>\n",
       "      <td>526.000000</td>\n",
       "    </tr>\n",
       "    <tr>\n",
       "      <th>mean</th>\n",
       "      <td>5.896103</td>\n",
       "      <td>12.562738</td>\n",
       "    </tr>\n",
       "    <tr>\n",
       "      <th>std</th>\n",
       "      <td>3.693086</td>\n",
       "      <td>2.769022</td>\n",
       "    </tr>\n",
       "    <tr>\n",
       "      <th>min</th>\n",
       "      <td>0.530000</td>\n",
       "      <td>0.000000</td>\n",
       "    </tr>\n",
       "    <tr>\n",
       "      <th>25%</th>\n",
       "      <td>3.330000</td>\n",
       "      <td>12.000000</td>\n",
       "    </tr>\n",
       "    <tr>\n",
       "      <th>50%</th>\n",
       "      <td>4.650000</td>\n",
       "      <td>12.000000</td>\n",
       "    </tr>\n",
       "    <tr>\n",
       "      <th>75%</th>\n",
       "      <td>6.880000</td>\n",
       "      <td>14.000000</td>\n",
       "    </tr>\n",
       "    <tr>\n",
       "      <th>max</th>\n",
       "      <td>24.980000</td>\n",
       "      <td>18.000000</td>\n",
       "    </tr>\n",
       "  </tbody>\n",
       "</table>\n",
       "</div>"
      ],
      "text/plain": [
       "             wage        educ\n",
       "count  526.000000  526.000000\n",
       "mean     5.896103   12.562738\n",
       "std      3.693086    2.769022\n",
       "min      0.530000    0.000000\n",
       "25%      3.330000   12.000000\n",
       "50%      4.650000   12.000000\n",
       "75%      6.880000   14.000000\n",
       "max     24.980000   18.000000"
      ]
     },
     "execution_count": 8,
     "metadata": {},
     "output_type": "execute_result"
    }
   ],
   "source": [
    "df.describe()"
   ]
  },
  {
   "cell_type": "markdown",
   "metadata": {
    "heading_collapsed": true
   },
   "source": [
    "## 「手計算」"
   ]
  },
  {
   "cell_type": "markdown",
   "metadata": {
    "hidden": true
   },
   "source": [
    "`Python`では回帰分析の計算を自動化するパッケージが提供されており、後ほどその１つを紹介する。その前に、自動計算にはどのようなコードが使われているかを感じてもらうために「手計算」で、即ち、上で示した$\\hat{\\beta}_0$と$\\hat{\\beta}_1$の式を使い係数の推定値を計算してみる。まず分散共分散行列を計算する。"
   ]
  },
  {
   "cell_type": "code",
   "execution_count": 9,
   "metadata": {
    "hidden": true
   },
   "outputs": [
    {
     "data": {
      "text/plain": [
       "array([[13.63888436,  4.150864  ],\n",
       "       [ 4.150864  ,  7.66748506]])"
      ]
     },
     "execution_count": 9,
     "metadata": {},
     "output_type": "execute_result"
    }
   ],
   "source": [
    "mat_wage_educ = np.cov(df['wage'],df['educ'])\n",
    "mat_wage_educ"
   ]
  },
  {
   "cell_type": "markdown",
   "metadata": {
    "hidden": true
   },
   "source": [
    "共分散の値を`cov_wage_edu`に割り当てる。"
   ]
  },
  {
   "cell_type": "code",
   "execution_count": 10,
   "metadata": {
    "hidden": true
   },
   "outputs": [
    {
     "data": {
      "text/plain": [
       "4.15086399857298"
      ]
     },
     "execution_count": 10,
     "metadata": {},
     "output_type": "execute_result"
    }
   ],
   "source": [
    "cov_wage_educ = mat_wage_educ[0, 1]\n",
    "cov_wage_educ"
   ]
  },
  {
   "cell_type": "markdown",
   "metadata": {
    "hidden": true
   },
   "source": [
    "`wage`と`educ`の分散は次のコードで取得できる。"
   ]
  },
  {
   "cell_type": "code",
   "execution_count": 11,
   "metadata": {
    "hidden": true
   },
   "outputs": [
    {
     "data": {
      "text/plain": [
       "(13.638884363775007, 7.667485062466051)"
      ]
     },
     "execution_count": 11,
     "metadata": {},
     "output_type": "execute_result"
    }
   ],
   "source": [
    "mat_wage_educ[0,0], mat_wage_educ[1,1]"
   ]
  },
  {
   "cell_type": "markdown",
   "metadata": {
    "hidden": true
   },
   "source": [
    "次のように計算しても同じ値となる。"
   ]
  },
  {
   "cell_type": "code",
   "execution_count": 12,
   "metadata": {
    "hidden": true
   },
   "outputs": [
    {
     "data": {
      "text/plain": [
       "(13.63888436377501, 7.667485062466051)"
      ]
     },
     "execution_count": 12,
     "metadata": {},
     "output_type": "execute_result"
    }
   ],
   "source": [
    "var_wage = df['wage'].var(ddof=1)\n",
    "var_educ = df['educ'].var(ddof=1)\n",
    "var_wage, var_educ"
   ]
  },
  {
   "cell_type": "markdown",
   "metadata": {
    "hidden": true
   },
   "source": [
    "それぞれの変数の平均を計算する。"
   ]
  },
  {
   "cell_type": "code",
   "execution_count": 13,
   "metadata": {
    "hidden": true
   },
   "outputs": [],
   "source": [
    "mean_wage = df['wage'].mean()\n",
    "mean_educ = df['educ'].mean()"
   ]
  },
  {
   "cell_type": "markdown",
   "metadata": {
    "hidden": true
   },
   "source": [
    "上の式に従って$\\beta_1$の推定値 $\\left(\\hat{\\beta}_1\\right)$を計算する。"
   ]
  },
  {
   "cell_type": "code",
   "execution_count": 14,
   "metadata": {
    "hidden": true
   },
   "outputs": [
    {
     "data": {
      "text/plain": [
       "0.5413592546651744"
      ]
     },
     "execution_count": 14,
     "metadata": {},
     "output_type": "execute_result"
    }
   ],
   "source": [
    "b1hat = cov_wage_educ / var_educ\n",
    "b1hat"
   ]
  },
  {
   "cell_type": "markdown",
   "metadata": {
    "hidden": true
   },
   "source": [
    "同様に$\\beta_0$の推定値 $\\left(\\hat{\\beta}_0\\right)$も計算する。"
   ]
  },
  {
   "cell_type": "code",
   "execution_count": 15,
   "metadata": {
    "hidden": true
   },
   "outputs": [
    {
     "data": {
      "text/plain": [
       "-0.9048516119572092"
      ]
     },
     "execution_count": 15,
     "metadata": {},
     "output_type": "execute_result"
    }
   ],
   "source": [
    "b0hat = mean_wage - b1hat * mean_educ\n",
    "b0hat"
   ]
  },
  {
   "cell_type": "markdown",
   "metadata": {
    "heading_collapsed": true
   },
   "source": [
    "## `statsmodels`を使う"
   ]
  },
  {
   "cell_type": "markdown",
   "metadata": {
    "hidden": true
   },
   "source": [
    "`Python`では簡単なコードで回帰分析に関する多くの計算を行うことができるパッケージが提供されている。その内、代表的なパッケージが`statsmodels`である。次の順番で使い方を説明する。\n",
    "* `ols`サブパッケージを読み込む\n",
    "* 回帰式を定義する\n",
    "* 推定値の自動計算"
   ]
  },
  {
   "cell_type": "markdown",
   "metadata": {
    "hidden": true
   },
   "source": [
    "**サブパッケージの読み込み**\n",
    "\n",
    "`statsmodels`には多くのサブパッケージや関数があるが，ここでは回帰式を文字列で書くことができる`ols`関数をつかう。（他のコードの書き方もあるが，他のトピックで扱う。）"
   ]
  },
  {
   "cell_type": "markdown",
   "metadata": {
    "hidden": true
   },
   "source": [
    "**回帰式の定義**\n",
    "\n",
    "* 式を`''`で囲む（文字列）\n",
    "* 定数項である（$\\beta_0$）は自動的に挿入される。\n",
    "    * 定数を省きたい場合は式に`-1`を加える。\n",
    "    * 後に扱う`linearmodels`パッケージでは，定数が自動的に挿入されないので要注意。\n",
    "\n",
    "---\n",
    "定数項がある場合：\n",
    "```\n",
    "被説明変数 ~ 説明変数\n",
    "```\n",
    "定数項がない場合：\n",
    "```\n",
    "被説明変数 ~ -1 + 説明変数\n",
    "```\n",
    "\n",
    "---\n",
    "`wage`を被説明変数にし，定数項を加えて`educ`を説明変数をする場合，次のように書くことになる。"
   ]
  },
  {
   "cell_type": "code",
   "execution_count": 16,
   "metadata": {
    "hidden": true
   },
   "outputs": [],
   "source": [
    "formula = 'wage ~ educ'"
   ]
  },
  {
   "cell_type": "markdown",
   "metadata": {
    "hidden": true
   },
   "source": [
    "**自動計算**\n",
    "\n",
    "まず自動計算の準備として計算の対象となるもの（インスタンスと呼ばれるオブジェクト）を生成し、ここでは\"model\"の省略形の変数`mod`に割り当てる（`mod`でなくとも好きな変数名でOK）。ここで第１引数は上で定義した回帰式，第２引数`data`は使用するデータをを指定指定する。"
   ]
  },
  {
   "cell_type": "code",
   "execution_count": 17,
   "metadata": {
    "hidden": true
   },
   "outputs": [],
   "source": [
    "mod = ols(formula, data=df)"
   ]
  },
  {
   "cell_type": "markdown",
   "metadata": {
    "hidden": true
   },
   "source": [
    "`mod`の属性を調べてみよう。"
   ]
  },
  {
   "cell_type": "code",
   "execution_count": 18,
   "metadata": {
    "hidden": true
   },
   "outputs": [
    {
     "data": {
      "text/plain": [
       "    <                  <=                 ==                 !=\n",
       "    >                  >=                 dir()              hash()\n",
       "    help()             repr()             str()              .data\n",
       "    .df_model          .df_resid          .endog             .endog_names\n",
       "    .exog              .exog_names        .fit()\n",
       "    .fit_regularized()                    .formula           .from_formula()\n",
       "    .get_distribution()                   .hessian()         .hessian_factor()\n",
       "    .information()     .initialize()      .k_constant        .loglike()\n",
       "    .nobs              .predict()         .rank              .score()\n",
       "    .weights           .wendog            .wexog             .whiten()"
      ]
     },
     "execution_count": 18,
     "metadata": {},
     "output_type": "execute_result"
    }
   ],
   "source": [
    "see(mod)"
   ]
  },
  {
   "cell_type": "markdown",
   "metadata": {
    "hidden": true
   },
   "source": [
    "この中にOLS関連の計算を行うメソッド`fit()`が準備されており、それを使い結果を`res`に割り当てる（`res`はresultの略）。"
   ]
  },
  {
   "cell_type": "code",
   "execution_count": 19,
   "metadata": {
    "hidden": true
   },
   "outputs": [],
   "source": [
    "res = mod.fit()"
   ]
  },
  {
   "cell_type": "markdown",
   "metadata": {
    "hidden": true
   },
   "source": [
    "上の２つを分けずに一行で書いても良い。\n",
    "```\n",
    "res = old(formula, data=df).fit()\n",
    "```\n",
    "`res`の属性をチェックしてみよう。"
   ]
  },
  {
   "cell_type": "code",
   "execution_count": 20,
   "metadata": {
    "hidden": true
   },
   "outputs": [
    {
     "data": {
      "text/plain": [
       "    <                    <=                   ==                   !=\n",
       "    >                    >=                   dir()                hash()\n",
       "    help()               repr()               str()                .HC0_se\n",
       "    .HC1_se              .HC2_se              .HC3_se              .aic\n",
       "    .bic                 .bse                 .centered_tss\n",
       "    .compare_f_test()    .compare_lm_test()\n",
       "    .compare_lr_test()                        .condition_number    .conf_int()\n",
       "    .conf_int_el()       .cov_HC0             .cov_HC1             .cov_HC2\n",
       "    .cov_HC3             .cov_kwds            .cov_params()        .cov_type\n",
       "    .df_model            .df_resid            .eigenvals           .el_test()\n",
       "    .ess                 .f_pvalue            .f_test()\n",
       "    .fittedvalues        .fvalue              .get_influence()\n",
       "    .get_prediction()    .get_robustcov_results()\n",
       "    .initialize()        .k_constant          .llf                 .load()\n",
       "    .model               .mse_model           .mse_resid           .mse_total\n",
       "    .nobs                .normalized_cov_params\n",
       "    .outlier_test()      .params              .predict()           .pvalues\n",
       "    .remove_data()       .resid               .resid_pearson       .rsquared\n",
       "    .rsquared_adj        .save()              .scale               .ssr\n",
       "    .summary()           .summary2()          .t_test()\n",
       "    .t_test_pairwise()                        .tvalues\n",
       "    .uncentered_tss      .use_t               .wald_test()\n",
       "    .wald_test_terms()                        .wresid"
      ]
     },
     "execution_count": 20,
     "metadata": {},
     "output_type": "execute_result"
    }
   ],
   "source": [
    "see(res)"
   ]
  },
  {
   "cell_type": "markdown",
   "metadata": {
    "hidden": true
   },
   "source": [
    "例えば，上のリストの中に`.params`とあるが，この属性を使い係数の推定値を取り出すことができる。"
   ]
  },
  {
   "cell_type": "code",
   "execution_count": 21,
   "metadata": {
    "hidden": true
   },
   "outputs": [
    {
     "data": {
      "text/plain": [
       "Intercept   -0.904852\n",
       "educ         0.541359\n",
       "dtype: float64"
      ]
     },
     "execution_count": 21,
     "metadata": {},
     "output_type": "execute_result"
    }
   ],
   "source": [
    "res.params"
   ]
  },
  {
   "cell_type": "markdown",
   "metadata": {
    "hidden": true
   },
   "source": [
    "また`wage`の予測値は`res.fittedvalues`もしくは`res.predict()`で得ることができる。`res.fittedvalues`は属性であり`res.predict()`はメソッドであるが、後者は引数がない場合は前者と同じ結果を返すことになる。\n",
    "\n",
    "上のリストが示すように`res`には多くの情報が詰まっており，これらを駆使し，図を描いたり推定値の検定をおこなうことになる。\n",
    "\n",
    "この中にあるメソッド`summary()`を使うと，主な結果がまとめられた表を出力することが可能である。"
   ]
  },
  {
   "cell_type": "code",
   "execution_count": 22,
   "metadata": {
    "hidden": true
   },
   "outputs": [
    {
     "name": "stdout",
     "output_type": "stream",
     "text": [
      "                            OLS Regression Results                            \n",
      "==============================================================================\n",
      "Dep. Variable:                   wage   R-squared:                       0.165\n",
      "Model:                            OLS   Adj. R-squared:                  0.163\n",
      "Method:                 Least Squares   F-statistic:                     103.4\n",
      "Date:                Fri, 01 Jan 2021   Prob (F-statistic):           2.78e-22\n",
      "Time:                        19:30:09   Log-Likelihood:                -1385.7\n",
      "No. Observations:                 526   AIC:                             2775.\n",
      "Df Residuals:                     524   BIC:                             2784.\n",
      "Df Model:                           1                                         \n",
      "Covariance Type:            nonrobust                                         \n",
      "==============================================================================\n",
      "                 coef    std err          t      P>|t|      [0.025      0.975]\n",
      "------------------------------------------------------------------------------\n",
      "Intercept     -0.9049      0.685     -1.321      0.187      -2.250       0.441\n",
      "educ           0.5414      0.053     10.167      0.000       0.437       0.646\n",
      "==============================================================================\n",
      "Omnibus:                      212.554   Durbin-Watson:                   1.824\n",
      "Prob(Omnibus):                  0.000   Jarque-Bera (JB):              807.843\n",
      "Skew:                           1.861   Prob(JB):                    3.79e-176\n",
      "Kurtosis:                       7.797   Cond. No.                         60.2\n",
      "==============================================================================\n",
      "\n",
      "Notes:\n",
      "[1] Standard Errors assume that the covariance matrix of the errors is correctly specified.\n"
     ]
    }
   ],
   "source": [
    "print(res.summary())"
   ]
  },
  {
   "cell_type": "markdown",
   "metadata": {
    "hidden": true
   },
   "source": [
    "ここで`print()`関数を使ったが、使わなくとも同じ内容を表示できるので試してみよう。\n",
    "\n",
    "また，この表は３つの表から構成されており，必要な部分だけを表示することも可能である。\n",
    "```\n",
    "res.summary().tables[0]\n",
    "res.summary().tables[1]\n",
    "res.summary().tables[2]\n",
    "```\n",
    "例えば，係数の推定値に関する基本的な統計量だけを表示するには以下のようにすれば良い。"
   ]
  },
  {
   "cell_type": "code",
   "execution_count": 23,
   "metadata": {
    "hidden": true
   },
   "outputs": [
    {
     "name": "stdout",
     "output_type": "stream",
     "text": [
      "==============================================================================\n",
      "                 coef    std err          t      P>|t|      [0.025      0.975]\n",
      "------------------------------------------------------------------------------\n",
      "Intercept     -0.9049      0.685     -1.321      0.187      -2.250       0.441\n",
      "educ           0.5414      0.053     10.167      0.000       0.437       0.646\n",
      "==============================================================================\n"
     ]
    }
   ],
   "source": [
    "print(res.summary().tables[1])"
   ]
  },
  {
   "cell_type": "markdown",
   "metadata": {
    "hidden": true
   },
   "source": [
    "OLS推定結果を割り当てた`res`には，ここで説明した以外に数多くの属性が存在する。それらに関する説明は[このサイト](https://www.statsmodels.org/stable/generated/statsmodels.regression.linear_model.RegressionResults.html)を参照すること。"
   ]
  },
  {
   "cell_type": "markdown",
   "metadata": {
    "heading_collapsed": true
   },
   "source": [
    "## 図"
   ]
  },
  {
   "cell_type": "markdown",
   "metadata": {
    "hidden": true
   },
   "source": [
    "回帰分析の結果を図示するために、まず予測値の取得する。"
   ]
  },
  {
   "cell_type": "code",
   "execution_count": 24,
   "metadata": {
    "hidden": true
   },
   "outputs": [],
   "source": [
    "wage_hat = res.fittedvalues"
   ]
  },
  {
   "cell_type": "markdown",
   "metadata": {
    "hidden": true
   },
   "source": [
    "データの散布図と回帰直線を図示する。"
   ]
  },
  {
   "cell_type": "code",
   "execution_count": 25,
   "metadata": {
    "hidden": true
   },
   "outputs": [
    {
     "data": {
      "image/png": "[encoded data removed]",
      "text/plain": [
       "<Figure size 432x288 with 1 Axes>"
      ]
     },
     "metadata": {
      "filenames": {
       "image/png": "/Users/Tetsu/Documents/My_Simulation/Python/JupyterBooks/py4etrics.github.io/_build/jupyter_execute/8_Simple_Regression_62_0.png"
      },
      "needs_background": "light"
     },
     "output_type": "display_data"
    }
   ],
   "source": [
    "wage_hat = res.fittedvalues\n",
    "plt.scatter('educ', 'wage', data=df)\n",
    "plt.plot(df['educ'],wage_hat, 'r')\n",
    "plt.xlabel('Education')\n",
    "plt.ylabel('Wage')\n",
    "pass"
   ]
  },
  {
   "cell_type": "markdown",
   "metadata": {
    "heading_collapsed": true
   },
   "source": [
    "## モデルの適合度"
   ]
  },
  {
   "cell_type": "markdown",
   "metadata": {
    "hidden": true
   },
   "source": [
    "モデルの適合度を確認するために次を定義する。\n",
    "\n",
    "* SST（Total Sum of Squares; 全変動の平方和）\n",
    "\n",
    "$$\\text{SST}=\\sum_{i=1}^n\\left(y_i-\\bar{y}\\right)^2=(n-1)\\cdot\\text{Var}(y)$$\n",
    "\n",
    "* SSE（Explained Sum of Squares; 回帰変動の平方和）\n",
    "\n",
    "$$\n",
    "\\text{SSE}=\\sum_{i=1}^n\\left(\\hat{y}_i-\\bar{y}\\right)^2=(n-1)\\cdot\\text{Var}\\left(\\hat{y}\\right)\n",
    "$$\n",
    "\n",
    "* SSR（Residual Sum of Squares; 残差変動の平方和）\n",
    "\n",
    "$$\n",
    "\\text{SSR}=\\sum_{i=1}^n\\left(\\hat{u}_i-0\\right)^2=(n-1)\\cdot\\text{Var}\\left(\\hat{u}\\right)\n",
    "$$\n",
    "\n",
    "ここで，$\\text{Var}(z)=\\dfrac{1}{n-1}\\sum_{i=1}^n\\left(z_i-\\bar{z}\\right)^2$。これらを使い決定係数と自由度修正後の決定係数を定義する。"
   ]
  },
  {
   "cell_type": "markdown",
   "metadata": {
    "hidden": true
   },
   "source": [
    "---\n",
    "* 決定係数\n",
    "\n",
    "$$R^2=\\frac{SSE}{SST}=1-\\frac{SSR}{SST}$$\n",
    "\n",
    "$$\n",
    "R^2\n",
    "=\\frac{\\text{Var}\\left(\\hat{y}\\right)}{\\text{Var}\\left(y\\right)}\n",
    "=1-\\frac{\\text{Var}\\left(\\hat{u}\\right)}{\\text{Var}\\left(y\\right)}\n",
    "$$\n",
    "\n",
    "* 自由度修正後の決定係数\n",
    "\n",
    "$$\\overline{R}^2=1-(1-R^2)\\frac{n-1}{n-k-1}$$\n",
    "\n",
    "ここで，$k=$ **定数項以外の説明変数の数**　（上の例では$k=1$）\n",
    "\n",
    "ここで説明した変数の値は，上の例の`res`の属性として取得できる。\n",
    "```\n",
    "n = res.nobs\n",
    "k = res.df_model\n",
    "n-k-1 = res.df_resid\n",
    "SST = res.centered_tss\n",
    "SSE = res.ess\n",
    "SSR = res.ssr\n",
    "決定係数 = res.rsquared\n",
    "修正済み決定係数 = res.rsquared_adj\n",
    "```"
   ]
  },
  {
   "cell_type": "code",
   "execution_count": 26,
   "metadata": {
    "hidden": true
   },
   "outputs": [],
   "source": [
    "n = res.nobs\n",
    "k = res.df_model\n",
    "# n-k-1 = res.df_resid\n",
    "SST = res.centered_tss\n",
    "SSE = res.ess\n",
    "SSR = res.ssr"
   ]
  },
  {
   "cell_type": "markdown",
   "metadata": {
    "hidden": true
   },
   "source": [
    "**決定係数**"
   ]
  },
  {
   "cell_type": "code",
   "execution_count": 27,
   "metadata": {
    "hidden": true
   },
   "outputs": [
    {
     "data": {
      "text/plain": [
       "0.16475751099205138"
      ]
     },
     "execution_count": 27,
     "metadata": {},
     "output_type": "execute_result"
    }
   ],
   "source": [
    "res.rsquared"
   ]
  },
  {
   "cell_type": "code",
   "execution_count": 28,
   "metadata": {
    "hidden": true
   },
   "outputs": [
    {
     "data": {
      "text/plain": [
       "0.16475751099205138"
      ]
     },
     "execution_count": 28,
     "metadata": {},
     "output_type": "execute_result"
    }
   ],
   "source": [
    "1-SSR/SST"
   ]
  },
  {
   "cell_type": "code",
   "execution_count": 29,
   "metadata": {
    "hidden": true
   },
   "outputs": [
    {
     "data": {
      "text/plain": [
       "0.16475751099205127"
      ]
     },
     "execution_count": 29,
     "metadata": {},
     "output_type": "execute_result"
    }
   ],
   "source": [
    "u_hat = res.resid  # 残差\n",
    "wage = df['wage']  # 被説明変数\n",
    "R2 = 1 - np.var(u_hat) / np.var(wage)\n",
    "R2"
   ]
  },
  {
   "cell_type": "markdown",
   "metadata": {
    "hidden": true
   },
   "source": [
    "**修正済み決定係数**"
   ]
  },
  {
   "cell_type": "code",
   "execution_count": 30,
   "metadata": {
    "hidden": true
   },
   "outputs": [
    {
     "data": {
      "text/plain": [
       "0.16316353677638729"
      ]
     },
     "execution_count": 30,
     "metadata": {},
     "output_type": "execute_result"
    }
   ],
   "source": [
    "res.rsquared_adj"
   ]
  },
  {
   "cell_type": "code",
   "execution_count": 31,
   "metadata": {
    "hidden": true
   },
   "outputs": [
    {
     "data": {
      "text/plain": [
       "0.16316353677638729"
      ]
     },
     "execution_count": 31,
     "metadata": {},
     "output_type": "execute_result"
    }
   ],
   "source": [
    "adjR2 = 1-(1-R2)*(n-1)/(n-k-1)\n",
    "adjR2"
   ]
  },
  {
   "cell_type": "markdown",
   "metadata": {
    "heading_collapsed": true
   },
   "source": [
    "## 賃金の対数化"
   ]
  },
  {
   "cell_type": "markdown",
   "metadata": {
    "hidden": true
   },
   "source": [
    "上の回帰分析では被説明変数`wage`をそのまま使ったが，労働経済学では賃金の対数をとり推定するのが一般的である。そのような式を賃金方程式と呼ぶ。その考えに沿って，ここでは`wage`の自然対数変換をおこない回帰分析をおこなう。まず対数化賃金お変数を作成する。"
   ]
  },
  {
   "cell_type": "code",
   "execution_count": 32,
   "metadata": {
    "hidden": true
   },
   "outputs": [],
   "source": [
    "df['wage_log'] = np.log(df['wage'])"
   ]
  },
  {
   "cell_type": "code",
   "execution_count": 33,
   "metadata": {
    "hidden": true
   },
   "outputs": [],
   "source": [
    "formula = 'wage_log ~ educ'"
   ]
  },
  {
   "cell_type": "code",
   "execution_count": 34,
   "metadata": {
    "hidden": true
   },
   "outputs": [],
   "source": [
    "res = ols(formula, data=df).fit()"
   ]
  },
  {
   "cell_type": "code",
   "execution_count": 35,
   "metadata": {
    "hidden": true
   },
   "outputs": [
    {
     "name": "stdout",
     "output_type": "stream",
     "text": [
      "==============================================================================\n",
      "                 coef    std err          t      P>|t|      [0.025      0.975]\n",
      "------------------------------------------------------------------------------\n",
      "Intercept      0.5838      0.097      5.998      0.000       0.393       0.775\n",
      "educ           0.0827      0.008     10.935      0.000       0.068       0.098\n",
      "==============================================================================\n"
     ]
    }
   ],
   "source": [
    "print(res.summary().tables[1])"
   ]
  },
  {
   "cell_type": "markdown",
   "metadata": {
    "hidden": true
   },
   "source": [
    "結果を図示しよう。"
   ]
  },
  {
   "cell_type": "code",
   "execution_count": 36,
   "metadata": {
    "hidden": true
   },
   "outputs": [
    {
     "data": {
      "image/png": "[encoded data removed]",
      "text/plain": [
       "<Figure size 432x288 with 1 Axes>"
      ]
     },
     "metadata": {
      "filenames": {
       "image/png": "/Users/Tetsu/Documents/My_Simulation/Python/JupyterBooks/py4etrics.github.io/_build/jupyter_execute/8_Simple_Regression_81_0.png"
      },
      "needs_background": "light"
     },
     "output_type": "display_data"
    }
   ],
   "source": [
    "# 予測値の取得\n",
    "wage_log_hat = res.fittedvalues\n",
    "\n",
    "# 散布図と回帰曲線\n",
    "plt.scatter('educ', 'wage_log', data=df)\n",
    "plt.plot(df['educ'], wage_log_hat, 'r')\n",
    "plt.xlabel('Education')\n",
    "plt.ylabel('Log of Wage')\n",
    "pass"
   ]
  },
  {
   "cell_type": "markdown",
   "metadata": {
    "hidden": true
   },
   "source": [
    "＜結果の解釈＞\n",
    "\n",
    "`res`は次式の推定結果である。\n",
    "\n",
    "$$\\ln y = \\beta_0+\\beta_1x+u$$\n",
    "\n",
    "この式を$x$について微分すると\n",
    "\n",
    "$$\\dfrac{d\\ln y}{dx}=\\dfrac{dy/y}{dx}=\\dfrac{y\\text{の%変化}}{dx}=\\beta_1$$\n",
    "\n",
    "となる。即ち，$\\beta_1$は$x$（教育年数）が一単位増加した場合，$y$（賃金）が何％変化するかを示している。この値は教育の収益率である。OLS推定結果は教育年数が１年増えると賃金は8.2%増加することを示している。"
   ]
  },
  {
   "cell_type": "markdown",
   "metadata": {
    "hidden": true
   },
   "source": [
    "```{note}\n",
    "上の例では`wage_log`の変数を作成し計算したが、変数変換のコードを回帰式に直接書く方法もある。次章で説明することにする。\n",
    "```"
   ]
  },
  {
   "cell_type": "markdown",
   "metadata": {
    "heading_collapsed": true
   },
   "source": [
    "## シミュレーション：$OLS$推定"
   ]
  },
  {
   "cell_type": "markdown",
   "metadata": {
    "heading_collapsed": true,
    "hidden": true
   },
   "source": [
    "### 母集団の考え方"
   ]
  },
  {
   "cell_type": "markdown",
   "metadata": {
    "hidden": true
   },
   "source": [
    "母集団とは分析の対象となる共通の属性などを持つ個人・企業・産業・地域・国などの集合体といえる。ここで重要な点は母集団の大きさとランダム抽出の関係を理解することである。\n",
    "\n",
    "* 「人間の身長」の母集団：地球上の人間\n",
    "    * 全員の身長を測るのはあまりにも費用が高い $\\Rightarrow$ 標本の大きさ$<$母集団の大きさ\n",
    "* 「OECD諸国のGDP」の母集団：37カ国\n",
    "    * 2019年のGDPは簡単に入手可能だが、「標本の大きさ$=$母集団の大きさ」という意味なのだろうか。そうだとすれば，標本ではなく母集団全てのデータを扱うことになり，標本の概念である標準誤差などは意味がなくなることになる。しかし、「標本の大きさ$<$母集団」と解釈できる２つの考え方がある。\n",
    "        1. 時間は「無限」と考えることができる。その考えに従うと、37カ国のGDPデータも「無限」に存在することになる。従って、ある時点の37カ国のGDPのデータは、「無限」の母集団から抽出されたランダム変数と考えることができる。国と時間の概念で考えると母集団の大きさは$\\infty$となる。\n",
    "        2. 確率変数とは実現可能な数値から１つを実現させる関数である。またGDP自体は確率変数として解釈する方が自然である（「重回帰分析」で説明する仮定２を参照）。従って，37カ国の**実現可能なGDPの値が母集団**となる。この解釈によると「標本の大きさ$<$母集団の大きさ」となる。"
   ]
  },
  {
   "cell_type": "markdown",
   "metadata": {
    "heading_collapsed": true,
    "hidden": true
   },
   "source": [
    "### プラン"
   ]
  },
  {
   "cell_type": "markdown",
   "metadata": {
    "hidden": true
   },
   "source": [
    "回帰分析の理解を深めるするために、上述の母集団の考え方に基づいてシミュレーションを次の手順でおこなう。\n",
    "\n",
    "**＜Step 1＞**\n",
    "* 母集団の大きさは指定しない。\n",
    "* 母集団のデータを生成する回帰式（母集団回帰式）を定義する。\n",
    "\n",
    "    $$Y = \\beta_0 + \\beta_1 X + U$$\n",
    "\n",
    "    * 説明変数$X$と誤差項$U$はランダム変数であり，従って$Y$もランダム変数である。\n",
    "* 母集団から標本を$n$個抽出する。\n",
    "    * 抽出された値はランダム変数の実現値である。\n",
    "    \n",
    "        $$(y_1,x_1),\\;(y_2,x_2),.....(y_n,x_n)$$\n",
    "        \n",
    "    * 仮定\n",
    "        * $X$は正規分布に従う $\\Rightarrow$ $x_1,\\;x_2,..x_n$は$X$の実現値。\n",
    "        * $U$は正規分布に従う $\\Rightarrow$ $u_1,\\;u_2,..u_n$は$U$の実現値。\n",
    "        * $X$と$U$は無相関。\n",
    "        * 実現値$y_1,\\;y_2,..y_n$は母集団回帰式に従って生成される。\n",
    "        \n",
    "            $$y_i = \\beta_0 + \\beta_1 x_i + u_i,\\qquad i=1,2,3,....n$$\n",
    "            \n",
    "    * $\\beta_0$と$\\beta_1$は未知であり，$u_i$も観測不可能\n",
    "\n",
    "**＜Step 2＞**\n",
    "* $n$個の標本を使い回帰分析を行い，母集団の回帰式のパラメータを推定する。\n",
    "    * $\\hat{\\beta}_0$，$\\hat{\\beta}_1$"
   ]
  },
  {
   "cell_type": "markdown",
   "metadata": {
    "heading_collapsed": true,
    "hidden": true
   },
   "source": [
    "### シミュレーション"
   ]
  },
  {
   "cell_type": "markdown",
   "metadata": {
    "hidden": true
   },
   "source": [
    "母集団のパラメータを設定する。これはパラメータの真の値であり、この値を推定するのが回帰分析となる。"
   ]
  },
  {
   "cell_type": "code",
   "execution_count": 37,
   "metadata": {
    "hidden": true
   },
   "outputs": [],
   "source": [
    "b0 = 1.0  # 定数項\n",
    "b1 = 1.0  # 説明変数の係数\n",
    "su = 1.0  # 誤差項の標準偏差"
   ]
  },
  {
   "cell_type": "markdown",
   "metadata": {
    "hidden": true
   },
   "source": [
    "標本の大きさ"
   ]
  },
  {
   "cell_type": "code",
   "execution_count": 38,
   "metadata": {
    "hidden": true
   },
   "outputs": [],
   "source": [
    "n = 30"
   ]
  },
  {
   "cell_type": "markdown",
   "metadata": {
    "hidden": true
   },
   "source": [
    "標本抽出を抽出するが、次の無作為なプロセスを通して生成されるとする。"
   ]
  },
  {
   "cell_type": "code",
   "execution_count": 39,
   "metadata": {
    "hidden": true
   },
   "outputs": [],
   "source": [
    "x = norm.rvs(4, 1, size=n)\n",
    "u = norm.rvs(0, su, size=n)\n",
    "y = b0 + b1 * x + u"
   ]
  },
  {
   "cell_type": "markdown",
   "metadata": {
    "hidden": true
   },
   "source": [
    "このデータから`DataFrame`を作成する。`()`の中の`{}`は辞書である。"
   ]
  },
  {
   "cell_type": "code",
   "execution_count": 40,
   "metadata": {
    "hidden": true
   },
   "outputs": [],
   "source": [
    "df_sim = pd.DataFrame({'X':x, 'Y':y})"
   ]
  },
  {
   "cell_type": "markdown",
   "metadata": {
    "hidden": true
   },
   "source": [
    "`statsmodels`を使って`OLS`推定する。"
   ]
  },
  {
   "cell_type": "code",
   "execution_count": 41,
   "metadata": {
    "hidden": true
   },
   "outputs": [],
   "source": [
    "formula = 'Y ~ X'\n",
    "res_sim = ols(formula, data=df_sim).fit()"
   ]
  },
  {
   "cell_type": "markdown",
   "metadata": {
    "hidden": true
   },
   "source": [
    "係数の推定値を表示する。"
   ]
  },
  {
   "cell_type": "code",
   "execution_count": 42,
   "metadata": {
    "hidden": true
   },
   "outputs": [
    {
     "data": {
      "text/plain": [
       "Intercept    2.177088\n",
       "X            0.677502\n",
       "dtype: float64"
      ]
     },
     "execution_count": 42,
     "metadata": {},
     "output_type": "execute_result"
    }
   ],
   "source": [
    "res_sim.params"
   ]
  },
  {
   "cell_type": "markdown",
   "metadata": {
    "hidden": true
   },
   "source": [
    "母集団パラメータと比べると、推定誤差が発生していることがわかる。\n",
    "\n",
    "```{note}\n",
    "ランダム変数を発生させ回帰分析を行っていることに注意しよう。ここで生成したランダム変数は、読者が生成したランダム変数とは異なる。従って、係数の推定値も異なることになる。\n",
    "```"
   ]
  },
  {
   "cell_type": "markdown",
   "metadata": {
    "heading_collapsed": true,
    "hidden": true
   },
   "source": [
    "### 関数化"
   ]
  },
  {
   "cell_type": "markdown",
   "metadata": {
    "hidden": true
   },
   "source": [
    "次に、上で行ったシミュレーションのコードを関数をしてまとめることにする。\n",
    "\n",
    "`def`を使い`my_sim`という名前の関数を作成する。\n",
    "* 引数\n",
    "    * 標本の大きさ：`n`\n",
    "    * 真の定数項：`b0`（デフォルトは`1`）\n",
    "    * 真のスロープ係数：`b1`（デフォルトは`1`）\n",
    "    * 誤差項の標準偏差：`su`（デフォルトは`1`）\n",
    "* 返り値\n",
    "    * 定数項とスロープ係数の推定値（`pandas.Series`）"
   ]
  },
  {
   "cell_type": "code",
   "execution_count": 43,
   "metadata": {
    "hidden": true
   },
   "outputs": [],
   "source": [
    "def my_sim(n,b0=1,b1=1,su=1):  # nを指定する，　他はデフォルトを設定\n",
    "    \n",
    "    x = norm.rvs(4, 1, size=n)\n",
    "    u = norm.rvs(0, su, size=n)\n",
    "    y = b0 + b1 * x + u\n",
    "    \n",
    "    df_sim = pd.DataFrame({'X':x, 'Y':y})\n",
    "    \n",
    "    formula = 'Y ~ X'\n",
    "    res_sim = ols(formula, data=df_sim).fit()\n",
    "    \n",
    "    return res_sim.params"
   ]
  },
  {
   "cell_type": "markdown",
   "metadata": {
    "hidden": true
   },
   "source": [
    "標本の大きさを指定して関数を実行してみよう。"
   ]
  },
  {
   "cell_type": "code",
   "execution_count": 44,
   "metadata": {
    "hidden": true
   },
   "outputs": [
    {
     "data": {
      "text/plain": [
       "Intercept    1.215596\n",
       "X            0.954958\n",
       "dtype: float64"
      ]
     },
     "execution_count": 44,
     "metadata": {},
     "output_type": "execute_result"
    }
   ],
   "source": [
    "my_sim(100)"
   ]
  },
  {
   "cell_type": "markdown",
   "metadata": {
    "hidden": true
   },
   "source": [
    "`b0`，`b1`，`su`変えて計算してみよう。\n",
    "\n",
    "---\n",
    "シミュレーションで同じ計算を数十万回おこなう場合，１回のシミュレーションに時間がかかり，それをどのように高速化するかが問題になる。その際，役に立つパッケージが`Numba`であり，１行のコードを追加するだけで計算を驚く程高速化できる。しかし`Numba`には「相性」の問題がある。例えば，上の関数`my_sim()`で使った`statsmodels`，`pandas`，`scipy.stats`は`Numba`と相性が悪いが，`NumPy`は非常に相性が良い。また，`Numba`を使う際，リストよりも`array`を使う方が少しでも高速化を図ることができることも覚えておくと良いだろう。以下では，`Numba`を使うために`NumPy`を使う「手計算」による関数を考えることにする。"
   ]
  },
  {
   "cell_type": "code",
   "execution_count": 45,
   "metadata": {
    "hidden": true
   },
   "outputs": [],
   "source": [
    "def my_sim_manual(n,b0=1,b1=1,su=1):  # nは標本の大きさ，　他はデフォルトを設定\n",
    "    \n",
    "    x = np.random.normal(loc=4, scale=1, size=n)   # 以下を参照\n",
    "    u = np.random.normal(loc=0, scale=su, size=n)  # 以下を参照\n",
    "    y = b0 + b1 * x + u\n",
    "    \n",
    "    var_cov = np.cov(y,x)   # 分散共分散行列\n",
    "    cov_yx = var_cov[0,1]   # 共分散\n",
    "    var_y = var_cov[0,0]    # yの分散\n",
    "    var_x = var_cov[1,1]    # xの分散        \n",
    "    avr_y = y.mean()        # yの平均\n",
    "    avr_x = x.mean()        # xの平均\n",
    "    \n",
    "    b1hat = cov_yx / var_x  # スロープ係数の推定値\n",
    "    b0hat = avr_y - b1hat*avr_x  # 定数項の推定値\n",
    "    \n",
    "    return b0hat, b1hat     # 推定値"
   ]
  },
  {
   "cell_type": "markdown",
   "metadata": {
    "hidden": true
   },
   "source": [
    "ここで使った`np.random.normal()`について簡単に説明する。`NumPy`にはランダム変数を生成する`random`というサブパッケージがあり，その中の`normal()`を使う。これは`scipy.stats`の`norm.rvs()`と同じ引数を取り，同じ返り値を返す。"
   ]
  },
  {
   "cell_type": "code",
   "execution_count": 46,
   "metadata": {
    "hidden": true
   },
   "outputs": [
    {
     "data": {
      "text/plain": [
       "(0.45770857979337887, 1.1052293598777088)"
      ]
     },
     "execution_count": 46,
     "metadata": {},
     "output_type": "execute_result"
    }
   ],
   "source": [
    "my_sim_manual(100)"
   ]
  },
  {
   "cell_type": "markdown",
   "metadata": {
    "hidden": true
   },
   "source": [
    "`my_sim()`と`my_sim_manual()`の推定値が異なるのはランダム変数（`y`，`x`）の値が異なるためであり，それが推定誤差による影響である。"
   ]
  },
  {
   "cell_type": "markdown",
   "metadata": {
    "heading_collapsed": true,
    "hidden": true
   },
   "source": [
    "### ループを使ってシミュレーション"
   ]
  },
  {
   "cell_type": "markdown",
   "metadata": {
    "hidden": true
   },
   "source": [
    "標本による推定は誤差が発生する。その誤差はどれだけ大きく（小さく）何に依存するかを確認するために`for`ループを使い次のシミュレーションを行う。\n",
    "\n",
    "* 標本の大きさ`n`のデータを`N`組用意し（`N`は標本数），`OLS`推定を`N`回おこなう。\n",
    "* シミュレーション毎に計算した回帰係数の推定値の分布を図示する。\n",
    "\n",
    "まず`def`を使いシミュレーションの関数を作成するが，パラメータの推定値の計算には`statsmodels`を使わずに，`numpy`の関数を使い「手計算」とする。これにより計算を高速化するパッケージ`Numba`を使うことが可能となる。使い方は簡単でデコレーターと呼ばれる`@njit`（又は`@jit`）を関数の上に加えるだけである。これだけで計算速度が数十倍早くなる場合もある。そのために、まず上で使った`my_sim_manual`に`@njit`を加えて実行する。"
   ]
  },
  {
   "cell_type": "code",
   "execution_count": 47,
   "metadata": {
    "hidden": true
   },
   "outputs": [],
   "source": [
    "@njit\n",
    "def my_sim_manual(n,b0,b1,su):\n",
    "    \n",
    "    x = np.random.normal(loc=4, scale=1, size=n)\n",
    "    u = np.random.normal(loc=0, scale=su, size=n)\n",
    "    y = b0 + b1 * x + u\n",
    "    \n",
    "    var_cov = np.cov(y,x)\n",
    "    cov_yx = var_cov[0,1]\n",
    "    var_y = var_cov[0,0]\n",
    "    var_x = var_cov[1,1]\n",
    "    avr_y = y.mean()\n",
    "    avr_x = x.mean()\n",
    "    \n",
    "    b1hat = cov_yx / var_x\n",
    "    b0hat = avr_y - b1hat*avr_x\n",
    "    \n",
    "    return b0hat, b1hat"
   ]
  },
  {
   "cell_type": "markdown",
   "metadata": {
    "hidden": true
   },
   "source": [
    "次にシミュレーション用の関数を用意する。"
   ]
  },
  {
   "cell_type": "code",
   "execution_count": 48,
   "metadata": {
    "hidden": true
   },
   "outputs": [],
   "source": [
    "@njit\n",
    "def my_sim_loop(n,N,b0=1.0,b1=1.0,su=1.0):  # nとN以外はデフォルトを指定\n",
    "    \n",
    "    b0hat_arr = np.zeros(N)  # OLS推定量を入れるarray（0がN個並んでいる）\n",
    "    b1hat_arr = np.zeros(N)  # OLS推定量を入れるarray（0がN個並んでいる）\n",
    "\n",
    "    for i in range(N):  # N 回のループ\n",
    "        \n",
    "        # 返り値が２つあるので、割り当てる場合には左辺の変数を ',' で区切る \n",
    "        b0hat, b1hat = my_sim_manual(n,b0=b0,b1=b1,su=su)\n",
    "\n",
    "        b0hat_arr[i] = b0hat  # i番目に定数項の推定値をarrに追加\n",
    "        b1hat_arr[i] = b1hat  # i番目にスロープ係数の推定値をarrに追加\n",
    "        \n",
    "    return b0hat_arr, b1hat_arr  # N回ループ終了後にarrayをタプルとして返すオブジェクト"
   ]
  },
  {
   "cell_type": "markdown",
   "metadata": {
    "hidden": true
   },
   "source": [
    "標本の大きさを`50`、シミュレーションの回数を`100_000`としてシミュレーションを始める。"
   ]
  },
  {
   "cell_type": "code",
   "execution_count": 49,
   "metadata": {
    "hidden": true
   },
   "outputs": [],
   "source": [
    "b0hat, b1hat = my_sim_loop(n=50,N=100_000)"
   ]
  },
  {
   "cell_type": "markdown",
   "metadata": {
    "hidden": true
   },
   "source": [
    "```{note}\n",
    "初めて`my_sim_loop()`を実行すると`Numba`はコンパイルと呼ばれる高速化準備プロセスを経るため，`@njit`がない場合と比べて実行スピードは早くない。２回目の実行から`Numba`の効果が発揮されることになる。\n",
    "```"
   ]
  },
  {
   "cell_type": "markdown",
   "metadata": {
    "hidden": true
   },
   "source": [
    "$\\hat{\\beta}_0$の分布を図示する。"
   ]
  },
  {
   "cell_type": "code",
   "execution_count": 50,
   "metadata": {
    "hidden": true,
    "scrolled": true
   },
   "outputs": [
    {
     "data": {
      "image/png": "[encoded data removed]",
      "text/plain": [
       "<Figure size 432x288 with 1 Axes>"
      ]
     },
     "metadata": {
      "filenames": {
       "image/png": "/Users/Tetsu/Documents/My_Simulation/Python/JupyterBooks/py4etrics.github.io/_build/jupyter_execute/8_Simple_Regression_122_0.png"
      },
      "needs_background": "light"
     },
     "output_type": "display_data"
    }
   ],
   "source": [
    "plt.hist(b0hat,bins=30)\n",
    "pass"
   ]
  },
  {
   "cell_type": "markdown",
   "metadata": {
    "hidden": true
   },
   "source": [
    "$\\hat{\\beta}_1$の分布を図示する。"
   ]
  },
  {
   "cell_type": "code",
   "execution_count": 51,
   "metadata": {
    "hidden": true
   },
   "outputs": [
    {
     "data": {
      "image/png": "[encoded data removed]",
      "text/plain": [
       "<Figure size 432x288 with 1 Axes>"
      ]
     },
     "metadata": {
      "filenames": {
       "image/png": "/Users/Tetsu/Documents/My_Simulation/Python/JupyterBooks/py4etrics.github.io/_build/jupyter_execute/8_Simple_Regression_124_0.png"
      },
      "needs_background": "light"
     },
     "output_type": "display_data"
    }
   ],
   "source": [
    "plt.hist(b1hat,bins=30)\n",
    "pass"
   ]
  },
  {
   "cell_type": "markdown",
   "metadata": {
    "hidden": true
   },
   "source": [
    "`y`の理論値を図示するが，図示の時間短縮のために`N`回のシミュレーション中の最初の`r`回の回帰線だけを表示する。"
   ]
  },
  {
   "cell_type": "code",
   "execution_count": 52,
   "metadata": {
    "hidden": true
   },
   "outputs": [],
   "source": [
    "r = 1000"
   ]
  },
  {
   "cell_type": "markdown",
   "metadata": {
    "hidden": true
   },
   "source": [
    "`r`回の回帰線を`for`ループを使って重ねて図示する。"
   ]
  },
  {
   "cell_type": "code",
   "execution_count": 53,
   "metadata": {
    "hidden": true
   },
   "outputs": [
    {
     "data": {
      "image/png": "[encoded data removed]",
      "text/plain": [
       "<Figure size 432x288 with 1 Axes>"
      ]
     },
     "metadata": {
      "filenames": {
       "image/png": "/Users/Tetsu/Documents/My_Simulation/Python/JupyterBooks/py4etrics.github.io/_build/jupyter_execute/8_Simple_Regression_128_0.png"
      },
      "needs_background": "light"
     },
     "output_type": "display_data"
    }
   ],
   "source": [
    "xx = np.linspace(2,6,50)\n",
    "\n",
    "for i in range(r):  # r回のループで図示\n",
    "    yhat = b0hat[i] + b1hat[i]*xx  # yの予測値\n",
    "    plt.plot(xx, yhat, 'grey')  # yの予測値を図示\n",
    "    \n",
    "plt.xlabel('x')\n",
    "plt.ylabel('y')\n",
    "plt.ylim(0,10) # 縦軸の表示範囲を設定\n",
    "plt.title(f'{r} rounds of OLS simulation')\n",
    "pass"
   ]
  },
  {
   "cell_type": "markdown",
   "metadata": {
    "hidden": true
   },
   "source": [
    ">上のコード・ブロックの最後から２行目に`f'{r} rounds of OLS simulation'`とある。文字列の前に`f`を置き、文字列の中で上で定義した変数を`{}`で囲むとその変数の値を代入することができる。これを`f-string`と呼ぶ。\n",
    "\n",
    "---\n",
    "**＜シミュレーションの含意＞**\n",
    "\n",
    "まず上の２つのヒストグラムをみると，値にばらつきがある。これは推定量（$\\hat{\\beta}_0$と$\\hat{\\beta}_1$）が確率変数であるためである。その実現値は，真の値（$\\beta_0=1.0$と$\\beta_1=1.0$）を中心に左右対象に分布している。即ち，推定量は不偏性を満たしている。次の章で簡単に説明するが，上で行ったシミュレーションは不偏推定量に必要な仮定を満たしているためである。\n",
    "\n",
    "これを踏まえて，回帰直線の図を考えよう。同じ回帰式を使い`N`回のシミュレーションを行った後，最初の`r`個の回帰直線を重ねて描いているためパイプのような形になっている。一方で，実際の実証分析ではこのような繰り返しの試行は不可能であり多くの場合は一度だけである。言い換えると，実証研究では`N`個の回帰直線の中から１つだけを結果として「ランダムに選んでいる」のと等しい。この意味を更に考えるために，（標本の大きさは所与として）たまたま２組みのデータセットが手に入り，別々の回帰分析を行ったとしよう。その場合，パイプの幅が広ければ広いほど，２つの回帰直線の位置は大きく異なる可能性が高くなり，正確性が低い結果になる。逆に，パイプの幅が狭ければ狭いほど，２つの結果は似たものになり，より正確な推定結果となる。このように実証分析ではパイプの幅が可能な限り小さくなる工夫が必要になる。その１つが標本の大きさ`n`である。`n`が増えるとパイプは細くなり，極限$n\\rightarrow\\infty$（即ち，標本の大きさと母集団の大きさの差が限りなくゼロに近づく）ではパイプの形が直線（母集団回帰式）に近づくことになる。このように，実証分析において標本の大きさは非常に重要な役割を果たすことになる。"
   ]
  },
  {
   "cell_type": "markdown",
   "metadata": {
    "hidden": true
   },
   "source": [
    "```{warning}\n",
    "* このシミュレーションの場合，推定量の**一致性**が満たされているため，パイプが母集団回帰式に収束することになる。しかし一般的に必ずそうなるとは限らない。ある仮定のもとでのみ推定量は一致性を満たすことになる。\n",
    "* 推定方法によっては，不偏性は満たさないが一致性を満たす推定量も存在する。また，エギゾチックな例になるがその逆もあり得る。\n",
    "```"
   ]
  },
  {
   "cell_type": "markdown",
   "metadata": {
    "hidden": true
   },
   "source": [
    "----- Give it a try! -----\n",
    "\n",
    "標本の大きさ`n`を変えて試してみよう。例えば，10, 30, 100, 500, 1000。"
   ]
  }
 ],
 "metadata": {
  "celltoolbar": "Tags",
  "kernel_info": {
   "name": "py4etrics"
  },
  "kernelspec": {
   "display_name": "latest",
   "language": "python",
   "name": "latest"
  },
  "language_info": {
   "codemirror_mode": {
    "name": "ipython",
    "version": 3
   },
   "file_extension": ".py",
   "mimetype": "text/x-python",
   "name": "python",
   "nbconvert_exporter": "python",
   "pygments_lexer": "ipython3",
   "version": "3.8.5"
  },
  "nteract": {
   "version": "0.14.5"
  },
  "toc": {
   "base_numbering": 1,
   "nav_menu": {},
   "number_sections": true,
   "sideBar": true,
   "skip_h1_title": false,
   "title_cell": "Table of Contents",
   "title_sidebar": "Contents",
   "toc_cell": false,
   "toc_position": {},
   "toc_section_display": true,
   "toc_window_display": false
  }
 },
 "nbformat": 4,
 "nbformat_minor": 2
}