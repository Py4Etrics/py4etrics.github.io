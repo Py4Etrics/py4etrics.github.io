{
  "cells": [
    {
      "cell_type": "markdown",
      "source": [
        "# プーリング・データとパネル・データ"
      ],
      "metadata": {}
    },
    {
      "cell_type": "code",
      "source": [
        "import numpy as np\n",
        "import pandas as pd\n",
        "from statsmodels.formula.api import ols\n",
        "import wooldridge\n",
        "from scipy.stats import t"
      ],
      "outputs": [],
      "execution_count": 1,
      "metadata": {}
    },
    {
      "cell_type": "markdown",
      "source": [
        "## 説明"
      ],
      "metadata": {
        "heading_collapsed": true
      }
    },
    {
      "cell_type": "markdown",
      "source": [
        "独立に分布したプーリング・データ（independently distributed pooling data）とパネル・データ（panel data）を考える。両方とも横断面データと時系列データの両方の特徴を兼ね備えたデータである。"
      ],
      "metadata": {
        "hidden": true
      }
    },
    {
      "cell_type": "markdown",
      "source": [
        "---\n",
        "**独立に分布したプーリング・データ**には以下の特徴がある。\n",
        "* ある期間（例えば，2000年から2010年の間）に期間毎無作為に観察単位（例えば，消費者や企業）が抽出される。従って，時間（年次データであれば年）が違えば観察単位は変化する。\n",
        "* 時間の変化により必ずしも**同一分布**とはならない（即ち，分布は時間によって変化するかも知れない）。\n",
        "\n",
        "日本の統計の例に[労働力調査](http://www.stat.go.jp/data/roudou/index.html)がある。\n",
        "\n",
        "＜プーリング・データを使う利点＞\n",
        "* 横断データと比べるとデータ数が増えるため，より正確な推定量や検定統計量を得ることが可能となる。\n",
        "* 時間軸にそって独立した分布から標本を抽出するため，誤差項に自己相関はない。"
      ],
      "metadata": {
        "hidden": true
      }
    },
    {
      "cell_type": "markdown",
      "source": [
        "---\n",
        "**パネル・データ**には以下の特徴がある。\n",
        "* 初期時点で無作為に観察単位（例えば，消費者や企業）を抽出し，同じ観測単位を時間軸に沿って観測して集めたデータである。\n",
        "* 観測単位が同じであることが独立に分布したプーリング・データとの違いである。\n",
        "\n",
        "\n",
        "＜パネル・データを使う意義＞\n",
        "\n",
        "例として，各都道府県で行われた公共支出が県内の雇用に与える影響を推定したいとしよう。\n",
        "* 観察単位：47都道府県 $i=1,2,...,47$\n",
        "* 時系列範囲：2000~2020年 $t=2000,2001,...,2020$\n",
        "* 変数：県内の雇用（$L$），公共支出（$G$），$x$は「その他の変数」\n",
        "\n",
        "47都道府県と時間の２次元データとなっているため，次の推定方法が考えられる。\n",
        "* 年別に横断面データとしてクロス・セクション分析行う。\n",
        "\n",
        "    $$y_i = \\beta_{0} + \\beta_{1} G_i + \\beta_{2}x_i + u_i$$\n",
        "\n",
        "    しかし，それぞれの推定は20年間の間に起こる要因の変化の効果を無視することになり，公的支出の動的な側面を捉えていない。\n",
        "* 47都道府県別に時系列の推定を行う。\n",
        "\n",
        "    $$y_t = \\beta_{0} + \\beta_{1} G_t + \\beta_{2}x_t+ u_t$$\n",
        "\n",
        "    しかし，それぞれの推定は同じ日本の地域でありながら他の都道府県の影響を無視することになる。\n",
        "\n",
        "このように2次元のデータの1つの軸に沿ったデータだけを使うと何らかの影響を無視することになりうる。換言すると，パネル・データを使い異なる観察単位の動的なデータから得る情報を有効に使うことにより，より正確な推定量や検定統計量を得ることができることになる。"
      ],
      "metadata": {
        "hidden": true
      }
    },
    {
      "cell_type": "markdown",
      "source": [
        "## 独立に分布したプーリング・データ"
      ],
      "metadata": {
        "heading_collapsed": true
      }
    },
    {
      "cell_type": "markdown",
      "source": [
        "このタイプのデータ扱う上で注意する点：\n",
        "* 時系列の変数があるにも関わらず，被説明変数と少なくとも一部の説明変数とは時間不変の関係にあると暗に仮定することになる。\n",
        "* 時系列の要素があるため，変数は必ずしも同一分布から抽出さる訳ではない。例えば，多くの経済で賃金と教育水準の分布は変化していると考える方が妥当である。この問題に対処するために時間ダミーを使うことになる。"
      ],
      "metadata": {
        "hidden": true
      }
    },
    {
      "cell_type": "markdown",
      "source": [
        "`CPS78_85`のデータを使い推定方法を説明する。"
      ],
      "metadata": {
        "hidden": true
      }
    },
    {
      "cell_type": "code",
      "source": [
        "# データの読み込み\n",
        "cps = wooldridge.data('CPS78_85')"
      ],
      "outputs": [],
      "execution_count": 2,
      "metadata": {
        "hidden": true
      }
    },
    {
      "cell_type": "code",
      "source": [
        "# データの内容の確認\n",
        "wooldridge.data('CPS78_85', description=True)"
      ],
      "outputs": [
        {
          "output_type": "stream",
          "name": "stdout",
          "text": [
            "name of dataset: cps78_85\n",
            "no of variables: 15\n",
            "no of observations: 1084\n",
            "\n",
            "+----------+-----------------------+\n",
            "| variable | label                 |\n",
            "+----------+-----------------------+\n",
            "| educ     | years of schooling    |\n",
            "| south    | =1 if live in south   |\n",
            "| nonwhite | =1 if nonwhite        |\n",
            "| female   | =1 if female          |\n",
            "| married  | =1 if married         |\n",
            "| exper    | age - educ - 6        |\n",
            "| expersq  | exper^2               |\n",
            "| union    | =1 if belong to union |\n",
            "| lwage    | log hourly wage       |\n",
            "| age      | in years              |\n",
            "| year     | 78 or 85              |\n",
            "| y85      | =1 if year == 85      |\n",
            "| y85fem   | y85*female            |\n",
            "| y85educ  | y85*educ              |\n",
            "| y85union | y85*union             |\n",
            "+----------+-----------------------+\n",
            "\n",
            "Professor Henry Farber, now at Princeton University, compiled these\n",
            "data from the 1978 and 1985 Current Population Surveys. Professor\n",
            "Farber kindly provided these data when we were colleagues at MIT.\n"
          ]
        }
      ],
      "execution_count": 3,
      "metadata": {
        "hidden": true,
        "tags": [
          "output_scroll"
        ]
      }
    },
    {
      "cell_type": "markdown",
      "source": [
        "このデータセットには1978年と1985年の変数があり，ダミー変数に次のものが含まれている。\n",
        "* `y85`：1985年の時間ダミー変数\n",
        "* `female`：男女のダミー変数\n",
        "* `union`：労働組合員かどうかのダミー変数\n",
        "\n",
        "これを使い，賃金と教育の関係を検証する。"
      ],
      "metadata": {
        "hidden": true
      }
    },
    {
      "cell_type": "code",
      "source": [
        "# 回帰分析\n",
        "\n",
        "formula = 'lwage ~ y85 + educ + female + \\\n",
        "                   y85:educ + y85:female + \\\n",
        "                   exper + I((exper**2)/100) + union'\n",
        "\n",
        "result = ols(formula, cps).fit()"
      ],
      "outputs": [],
      "execution_count": 4,
      "metadata": {
        "hidden": true
      }
    },
    {
      "cell_type": "markdown",
      "source": [
        "（コメント）\n",
        "* `y85 + educ + female + y85:educ + y85:female`の部分は長いので`y85*(educ+female)`と省略して記述しても結果は同じ。\n",
        "* `lwage`は名目賃金の対数の値である。この場合，実質賃金を考える方が自然なため，インフレの影響を取り除く必要がある。1978年と1985年の消費者物価指数をそれぞれ$p_{78}$と$p_{85}$とすると，その比率$P\\equiv p_{85}/p_{78}$がその間のインフレの影響を捉える変数と考える。$P$を使い1985年の賃金を次式に従って実質化できる。 \n",
        "\n",
        "    $$\n",
        "    \\ln\\left(\\text{実質賃金}_{85}\\right) = \\ln\\left(\\frac{\\text{名目賃金}_{85}}{P}\\right) = \\ln\\left(\\text{名目賃金}_{85}\\right)-\\ln(P) = \\text{85年のlwage}- \\ln(P)\n",
        "    $$\n",
        "\n",
        "    この式から$\\ln(P)$は回帰式の右辺の定数項に含まれることがわかる。即ち，上の式を変えることなく`educ`の係数は実質賃金で測った教育の収益率，`female`は実質賃金での男女賃金格差と解釈できる。"
      ],
      "metadata": {
        "hidden": true
      }
    },
    {
      "cell_type": "code",
      "source": [
        "print(result.summary().tables[1])"
      ],
      "outputs": [
        {
          "output_type": "stream",
          "name": "stdout",
          "text": [
            "=========================================================================================\n",
            "                            coef    std err          t      P>|t|      [0.025      0.975]\n",
            "-----------------------------------------------------------------------------------------\n",
            "Intercept                 0.4589      0.093      4.911      0.000       0.276       0.642\n",
            "y85                       0.1178      0.124      0.952      0.341      -0.125       0.361\n",
            "educ                      0.0747      0.007     11.192      0.000       0.062       0.088\n",
            "female                   -0.3167      0.037     -8.648      0.000      -0.389      -0.245\n",
            "y85:educ                  0.0185      0.009      1.974      0.049       0.000       0.037\n",
            "y85:female                0.0851      0.051      1.658      0.098      -0.016       0.186\n",
            "exper                     0.0296      0.004      8.293      0.000       0.023       0.037\n",
            "I((exper ** 2) / 100)    -0.0399      0.008     -5.151      0.000      -0.055      -0.025\n",
            "union                     0.2021      0.030      6.672      0.000       0.143       0.262\n",
            "=========================================================================================\n"
          ]
        }
      ],
      "execution_count": 5,
      "metadata": {
        "hidden": true
      }
    },
    {
      "cell_type": "markdown",
      "source": [
        "教育の収益率\n",
        "* `educ`の係数0.0747が1978年における教育1年の収益率（約7.5%）。統計的有意性は非常に高い（p-value=0)\n",
        "* `y85:educ`の係数0.0185は1978年と1985年の値の差を表している。1985年の収益率は1.85%高く，5％水準で帰無仮説（1978年と1985年の収益率は同じ）を棄却できる。1985年の1年間の収益率は0.0747+0.0185=0.0932である（約9.3%）。"
      ],
      "metadata": {
        "hidden": true
      }
    },
    {
      "cell_type": "markdown",
      "source": [
        "男女間の賃金格差\n",
        "* `female`の係数`-0.3167`は1978年における値。即ち，女性の賃金は男性より約32%低く，統計的有意性は非常に高い（p値=0）。\n",
        "* `y85:female`の係数0.0851は1978年と1985年の値の差を表しており，1985年の賃金格差は約8.5%改善したことを意味する。\n",
        "* `y85:female`のp値0.098は両側検定であり，10％水準で帰無仮説（賃金格差は変化していない）を棄却できるが，5%水準では棄却できない。\n",
        "* 一方，`y85:female`は正の値であり，女性の賃金の改善が統計的有意かどうかが問題になる。この点を考慮し片側検定をおこなう。\n",
        "    * $H_0$: `y85:female`の係数 $＝0$\n",
        "    * $H_a$: `y85:female`の係数 $>0$"
      ],
      "metadata": {
        "hidden": true
      }
    },
    {
      "cell_type": "code",
      "source": [
        "t_value = result.tvalues['y85:female']  # y85:femaleのt値\n",
        "\n",
        "dof = result.df_resid  # 自由度 n-k-1"
      ],
      "outputs": [],
      "execution_count": 6,
      "metadata": {
        "hidden": true
      }
    },
    {
      "cell_type": "markdown",
      "source": [
        "`scipy.stats`を使い計算する。"
      ],
      "metadata": {
        "hidden": true
      }
    },
    {
      "cell_type": "code",
      "source": [
        "1-t.cdf(t_value, dof)  # p値の計算"
      ],
      "outputs": [
        {
          "output_type": "execute_result",
          "execution_count": 7,
          "data": {
            "text/plain": [
              "0.048840603301735674"
            ]
          },
          "metadata": {}
        }
      ],
      "execution_count": 7,
      "metadata": {
        "hidden": true
      }
    },
    {
      "cell_type": "markdown",
      "source": [
        "片側検定では，5%水準で帰無仮説を棄却できる。"
      ],
      "metadata": {
        "hidden": true
      }
    },
    {
      "cell_type": "markdown",
      "source": [
        "## プーリング・データの応用：差分の差分析"
      ],
      "metadata": {
        "heading_collapsed": true
      }
    },
    {
      "cell_type": "markdown",
      "source": [
        "### 説明"
      ],
      "metadata": {
        "heading_collapsed": true,
        "hidden": true
      }
    },
    {
      "cell_type": "markdown",
      "source": [
        "差分の差分析（Difference-in-Differences; DiD）を使うとプーリング・データを使い政策の効果を検証できる。"
      ],
      "metadata": {
        "hidden": true
      }
    },
    {
      "cell_type": "markdown",
      "source": [
        "＜基本的な考え＞\n",
        "* 例として，ゴミ焼却場の建築が近隣住宅価格に与える影響を考える。\n",
        "* `t`=0：政策実施前の年\n",
        "* `t`=1：政策実施後の年\n",
        "* `D`：住宅がゴミ焼却場の近くであれば１，そうでなければ０（距離のダミー変数）\n",
        "* `y`：住宅価格\n",
        "* 仮定：ゴミ焼却場が建設されなかったとしたら，データにある全ての住宅価格は同じ率で増加していただろう。\n",
        "* 次式を使って政策実施前と後それぞれで推定\n",
        "\n",
        "    $$y_t = \\alpha_t + \\gamma_t D + u\\qquad t=0,1$$\n",
        "    \n",
        "    * $\\hat{y}_0^{\\text{遠}}=\\hat{\\alpha}_0$：政策実施前の遠くに立地する住宅価格の平均\n",
        "    * $\\hat{y}_0^{\\text{近}}=\\hat{\\alpha}_0+\\hat{\\gamma}_0$：政策実施前の近くに立地する住宅価格の平均\n",
        "        * $\\hat{\\gamma}_0$：政策実施前の遠くと近くに立地する住宅価格の**差**\n",
        "    * $\\hat{y}_1^{\\text{遠}}=\\hat{\\alpha}_1$：政策実施後の遠くに立地する住宅価格の平均\n",
        "    * $\\hat{y}_1^{\\text{近}}=\\hat{\\alpha}_1+\\hat{\\gamma}_1$：政策実施後の近くに立地する住宅価格の平均\n",
        "        * $\\hat{\\gamma}_1$：政策実施後の遠くと近くに立地する住宅価格の**差**\n",
        "* 解釈（下の図を参考に）：\n",
        "    * $\\hat{\\gamma}_0$は政策実施前の住宅価格の差を示す。\n",
        "    * $\\hat{\\gamma}_1$は政策実施後の住宅価格の差を示す。\n",
        "    * $\\left(\\hat{\\gamma}_1-\\hat{\\gamma}_0\\right)$は政策実施後と前の住宅価格の差の差を示す。この「差の差」の変化で近くに立地する住宅価格の変化を考えることができる。もしこの差の差が`0`であれば（即ち，差は同じだった），住宅価格は影響を受けなかったと解釈できる。もしこの差がマイナスであれば（即ち，差に違いが生じた）近くに立地する住宅の価格は減少してしたと考えられる。"
      ],
      "metadata": {
        "hidden": true
      }
    },
    {
      "cell_type": "markdown",
      "source": [
        "```{image} /image/did.png\n",
        ":scale: 30%\n",
        ":align: center\n",
        "```"
      ],
      "metadata": {
        "hidden": true
      }
    },
    {
      "cell_type": "markdown",
      "source": [
        "上の議論から次のことが分かる。\n",
        "* 住宅価格の変化は上の図で示しているように次の「差の差」で捉えることができる。\n",
        "\n",
        "    $$\n",
        "    \\begin{align*}\n",
        "    \\hat{\\gamma}_1^{\\text{}}-\\hat{\\gamma}_0&=\\hat{y}_1^{\\text{近}}-\\hat{y}_0^{\\text{近}}-\\left(\\hat{\\alpha}_1-\\hat{\\alpha}_0\\right) \\\\\n",
        "    &=\\left(\\hat{y}_1^{\\text{近}}-\\hat{y}_0^{\\text{近}}\\right)-\\left(\\hat{y}_1^{\\text{遠}}-\\hat{y}_0^{\\text{遠}}\\right) \\\\ \n",
        "    &=\\left(\\hat{y}_1^{\\text{近}}-\\hat{y}_1^{\\text{遠}}\\right)-\\left(\\hat{y}_0^{\\text{近}}-\\hat{y}_0^{\\text{遠}}\\right)\n",
        "    \\end{align*}\n",
        "    $$\n",
        "\n",
        "* 住宅価格の変化の間違った計算：\n",
        "    * $\\hat{y}_1^{\\text{近}}-\\hat{y}_0^{\\text{近}}=\\left(\\hat{\\alpha}_1-\\hat{\\alpha}_0\\right)+\\left(\\hat{\\gamma}_1-\\hat{\\gamma}_0\\right)$\n",
        "    * $\\left(\\hat{\\alpha}_1-\\hat{\\alpha}_0\\right)$は，ゴミ焼却場建設から影響を「受けない（仮定）」遠\n",
        "    い場所に立地する住宅価格が時間と共に変化する部分を捉えており，ゴミ焼却場建設と関係なく発生する価格変化である。この部分を取り除かなければ，ゴミ焼却場建設の効果の推定量にバイアスが発生する。"
      ],
      "metadata": {
        "hidden": true
      }
    },
    {
      "cell_type": "markdown",
      "source": [
        "---\n",
        "＜`DiD`推定方法＞\n",
        "* 通常の`OLS`を使うが，時間ダミー変数を導入する。\n",
        "    * `T`：`t`=0の場合は０，`t`=1の場合は１\n",
        "* 推定式：\n",
        "\n",
        "    $$\n",
        "    y=\\beta_0+\\delta_0T + \\beta_1D + \\delta_1TD + u\n",
        "    $$\n",
        "    "
      ],
      "metadata": {
        "hidden": true
      }
    },
    {
      "cell_type": "markdown",
      "source": [
        "＜ダミー変数の値により4つのケースがある＞\n",
        "1. `T`=`D`=0の場合\n",
        "\n",
        "    $$\n",
        "    y=\\beta_0 + u\n",
        "    $$\n",
        "\n",
        "    $\\hat{y}_{0}^{\\text{遠}}\\equiv\\hat{\\beta}_0$：政策実施前の遠くに立地する住宅の平均価格\n",
        "    <br>\n",
        "\n",
        "1. `T`=0 と `D`=1の場合\n",
        "\n",
        "    $$\n",
        "    y=\\beta_0 + \\beta_1D + u\n",
        "    $$\n",
        "\n",
        "    $\\hat{y}_{0}^{\\text{近}}\\equiv\\hat{\\beta}_0+\\hat{\\beta}_1$：政策実施前の近くに立地する住宅の平均価格\n",
        "    <br>\n",
        "    \n",
        "1. `T`=1 と `D`=0の場合\n",
        "\n",
        "    $$\n",
        "    y=\\beta_0 + \\delta_0T + u\n",
        "    $$\n",
        "\n",
        "    $\\hat{y}_{1}^{\\text{遠}}\\equiv\\hat{\\beta}_0+\\hat{\\delta}_0$：政策実施後の遠くに立地する住宅の平均価格\n",
        "    <br>\n",
        "    \n",
        "1. `T`=`D`=1の場合\n",
        "\n",
        "    $$\n",
        "    y=\\beta_0 + \\delta_0T + \\beta_1D + \\delta_1TD + u\n",
        "    $$\n",
        "\n",
        "   $\\hat{y}_{1}^{\\text{近}}\\equiv\\hat{\\beta}_0+\\hat{\\delta}_0+\\hat{\\beta}_1+\\hat{\\delta}_1$：政策実施後の近くに立地する住宅の平均価格"
      ],
      "metadata": {
        "hidden": true
      }
    },
    {
      "cell_type": "markdown",
      "source": [
        "ここでの関心事は$\\hat{\\delta}_1$の推定値（負かどうか）であり，その統計的優位性である。この定義を使うと次式が成立することが確認できる。\n",
        "\n",
        "$$\\hat{\\delta}_1=\\left(\\hat{y}_1^{\\text{近}}-\\hat{y}_1^{\\text{遠}}\\right)-\\left(\\hat{y}_0^{\\text{近}}-\\hat{y}_0^{\\text{遠}}\\right)$$\n",
        "\n",
        "これは上で導出した式にある$\\hat{\\gamma}_1^{\\text{}}-\\hat{\\gamma}_0$と同じである。"
      ],
      "metadata": {
        "hidden": true
      }
    },
    {
      "cell_type": "markdown",
      "source": [
        "### `DiD`推定\n",
        "\n",
        "`keilmc`のデータを使いゴミ焼却場建設の近隣住宅価格に対する効果を実際に推計する。"
      ],
      "metadata": {
        "heading_collapsed": true,
        "hidden": true
      }
    },
    {
      "cell_type": "code",
      "source": [
        "kielmc = wooldridge.data('kielmc')\n",
        "\n",
        "wooldridge.data('kielmc', description=True)"
      ],
      "outputs": [
        {
          "output_type": "stream",
          "name": "stdout",
          "text": [
            "name of dataset: kielmc\n",
            "no of variables: 25\n",
            "no of observations: 321\n",
            "\n",
            "+----------+---------------------------------+\n",
            "| variable | label                           |\n",
            "+----------+---------------------------------+\n",
            "| year     | 1978 or 1981                    |\n",
            "| age      | age of house                    |\n",
            "| agesq    | age^2                           |\n",
            "| nbh      | neighborhood, 1-6               |\n",
            "| cbd      | dist. to cent. bus. dstrct, ft. |\n",
            "| intst    | dist. to interstate, ft.        |\n",
            "| lintst   | log(intst)                      |\n",
            "| price    | selling price                   |\n",
            "| rooms    | # rooms in house                |\n",
            "| area     | square footage of house         |\n",
            "| land     | square footage lot              |\n",
            "| baths    | # bathrooms                     |\n",
            "| dist     | dist. from house to incin., ft. |\n",
            "| ldist    | log(dist)                       |\n",
            "| wind     | prc. time wind incin. to house  |\n",
            "| lprice   | log(price)                      |\n",
            "| y81      | =1 if year == 1981              |\n",
            "| larea    | log(area)                       |\n",
            "| lland    | log(land)                       |\n",
            "| y81ldist | y81*ldist                       |\n",
            "| lintstsq | lintst^2                        |\n",
            "| nearinc  | =1 if dist <= 15840             |\n",
            "| y81nrinc | y81*nearinc                     |\n",
            "| rprice   | price, 1978 dollars             |\n",
            "| lrprice  | log(rprice)                     |\n",
            "+----------+---------------------------------+\n",
            "\n",
            "K.A. Kiel and K.T. McClain (1995), “House Prices During Siting\n",
            "Decision Stages: The Case of an Incinerator from Rumor Through\n",
            "Operation,” Journal of Environmental Economics and Management 28,\n",
            "241-255. Professor McClain kindly provided the data, of which I used\n",
            "only a subset.\n"
          ]
        }
      ],
      "execution_count": 8,
      "metadata": {
        "hidden": true,
        "tags": [
          "output_scroll"
        ]
      }
    },
    {
      "cell_type": "code",
      "source": [
        "formula = 'rprice ~ nearinc + y81 + nearinc:y81'\n",
        "\n",
        "result = ols(formula, data=kielmc).fit()"
      ],
      "outputs": [],
      "execution_count": 9,
      "metadata": {
        "hidden": true
      }
    },
    {
      "cell_type": "markdown",
      "source": [
        "（コメント）\n",
        "* 右辺を`nearinc * y81`と省略可能。"
      ],
      "metadata": {
        "hidden": true
      }
    },
    {
      "cell_type": "code",
      "source": [
        "print(result.summary().tables[1])"
      ],
      "outputs": [
        {
          "output_type": "stream",
          "name": "stdout",
          "text": [
            "===============================================================================\n",
            "                  coef    std err          t      P>|t|      [0.025      0.975]\n",
            "-------------------------------------------------------------------------------\n",
            "Intercept    8.252e+04   2726.910     30.260      0.000    7.72e+04    8.79e+04\n",
            "nearinc     -1.882e+04   4875.322     -3.861      0.000   -2.84e+04   -9232.293\n",
            "y81          1.879e+04   4050.065      4.640      0.000    1.08e+04    2.68e+04\n",
            "nearinc:y81 -1.186e+04   7456.646     -1.591      0.113   -2.65e+04    2806.867\n",
            "===============================================================================\n"
          ]
        }
      ],
      "execution_count": 10,
      "metadata": {
        "hidden": true
      }
    },
    {
      "cell_type": "markdown",
      "source": [
        "* `nearinc:y81`の係数は約-11860であり，10%水準の両側検定でも帰無仮説（係数は0）を棄却できない。\n",
        "* `nearinc:y81`は負の値であり住宅価格が減少したかを検証したい。従って，次の片側検定を行う。\n",
        "    * $H_0$: `nearinc:y81`の係数 $＝0$\n",
        "    * $H_a$: `nearinc:y81`の係数 $<0$"
      ],
      "metadata": {
        "hidden": true
      }
    },
    {
      "cell_type": "code",
      "source": [
        "t_value = result.tvalues['nearinc:y81']  # t値\n",
        "\n",
        "dof = result.df_resid  # 自由度 n-k-1\n",
        "\n",
        "t.cdf(t_value, dof)  # p値の計算"
      ],
      "outputs": [
        {
          "output_type": "execute_result",
          "execution_count": 11,
          "data": {
            "text/plain": [
              "0.0562974203495265"
            ]
          },
          "metadata": {}
        }
      ],
      "execution_count": 11,
      "metadata": {
        "hidden": true
      }
    },
    {
      "cell_type": "markdown",
      "source": [
        "片側検定では，10%水準で帰無仮説は棄却できるが，5%水準では棄却できない。負の効果のある程度の統計的有意性はあるようである。一方，上の回帰分析には次のことが言える。\n",
        "* 左辺には住宅価格の対数を置く方が妥当ではないか。それにより，価格変化をパーセンテージ推計できると同時に，実質価格という解釈も成立する。\n",
        "* 住宅価格に与える他の変数が欠落している可能性がある。\n",
        "\n",
        "---\n",
        "この2点を踏まえて，再度推定をおこなう。\n",
        "\n",
        "まず，`NumPy`を使い住宅価格に対数をとり推計する。"
      ],
      "metadata": {
        "hidden": true
      }
    },
    {
      "cell_type": "code",
      "source": [
        "formula_1 = 'np.log(rprice) ~ nearinc * y81'\n",
        "\n",
        "result_1 = ols(formula_1, data=kielmc).fit()\n",
        "\n",
        "print(result_1.summary().tables[1])"
      ],
      "outputs": [
        {
          "output_type": "stream",
          "name": "stdout",
          "text": [
            "===============================================================================\n",
            "                  coef    std err          t      P>|t|      [0.025      0.975]\n",
            "-------------------------------------------------------------------------------\n",
            "Intercept      11.2854      0.031    369.839      0.000      11.225      11.345\n",
            "nearinc        -0.3399      0.055     -6.231      0.000      -0.447      -0.233\n",
            "y81             0.1931      0.045      4.261      0.000       0.104       0.282\n",
            "nearinc:y81    -0.0626      0.083     -0.751      0.453      -0.227       0.102\n",
            "===============================================================================\n"
          ]
        }
      ],
      "execution_count": 12,
      "metadata": {
        "hidden": true
      }
    },
    {
      "cell_type": "markdown",
      "source": [
        "（結果）\n",
        "* 特に`nearinc:y81`の係数の統計的有意性が上昇したわけではない。\n",
        "\n",
        "次に，住宅価格に影響を及ぼしそうな変数を追加する。"
      ],
      "metadata": {
        "hidden": true
      }
    },
    {
      "cell_type": "code",
      "source": [
        "formula_2 = 'np.log(rprice) ~ nearinc * y81 + age + I(age**2) + \\\n",
        "            np.log(intst) + np.log(land) + np.log(area) + rooms + baths'\n",
        "\n",
        "result_2 = ols(formula_2, data=kielmc).fit()\n",
        "\n",
        "print(result_2.summary().tables[1])"
      ],
      "outputs": [
        {
          "output_type": "stream",
          "name": "stdout",
          "text": [
            "=================================================================================\n",
            "                    coef    std err          t      P>|t|      [0.025      0.975]\n",
            "---------------------------------------------------------------------------------\n",
            "Intercept         7.6517      0.416     18.399      0.000       6.833       8.470\n",
            "nearinc           0.0322      0.047      0.679      0.498      -0.061       0.126\n",
            "y81               0.1621      0.028      5.687      0.000       0.106       0.218\n",
            "nearinc:y81      -0.1315      0.052     -2.531      0.012      -0.234      -0.029\n",
            "age              -0.0084      0.001     -5.924      0.000      -0.011      -0.006\n",
            "I(age ** 2)    3.763e-05   8.67e-06      4.342      0.000    2.06e-05    5.47e-05\n",
            "np.log(intst)    -0.0614      0.032     -1.950      0.052      -0.123       0.001\n",
            "np.log(land)      0.0998      0.024      4.077      0.000       0.052       0.148\n",
            "np.log(area)      0.3508      0.051      6.813      0.000       0.249       0.452\n",
            "rooms             0.0473      0.017      2.732      0.007       0.013       0.081\n",
            "baths             0.0943      0.028      3.400      0.001       0.040       0.149\n",
            "=================================================================================\n"
          ]
        }
      ],
      "execution_count": 13,
      "metadata": {
        "hidden": true
      }
    },
    {
      "cell_type": "markdown",
      "source": [
        "（結果）\n",
        "* `nearinc:y81`の係数は，住宅価格が13.1%下落したことを示している。\n",
        "* p値はこの経済的効果が非常に有意にゼロではないことを示している。"
      ],
      "metadata": {
        "hidden": true
      }
    },
    {
      "cell_type": "markdown",
      "source": [
        "## パネル・データとその問題点"
      ],
      "metadata": {
        "heading_collapsed": true
      }
    },
    {
      "cell_type": "markdown",
      "source": [
        "### パネル・データについて"
      ],
      "metadata": {
        "heading_collapsed": true,
        "hidden": true
      }
    },
    {
      "cell_type": "markdown",
      "source": [
        "パネル・データを使い推定する場合，観察単位$i$と時間$t$の２つ次元を考慮した回帰式となる。説明を具体化するために，47都道府県での雇用に対する公共支出の効果を考えよう。\n",
        "\n",
        "$$\n",
        "y_{it}= \\alpha_{it} +\\beta_1x_{it}+u_{it}\\qquad i=1,2,...,n\\quad t=1,2\n",
        "$$\n",
        "\n",
        "ここで\n",
        "\n",
        "$$\n",
        "\\alpha_{i}=\\beta_0+a_{i}+\\delta_0D_t\n",
        "$$\n",
        "\n",
        "* $y_{it}$：都道府県$i$の$t$時点における雇用\n",
        "* $x_{it}$：都道府県$i$の$t$時点における公共支出\n",
        "* $\\alpha_{it}$：回帰曲線の切片。\n",
        "    * $i$がある（都道府県によって切片が異なる）理由：都道府県の間に存在しうる異質性を捉えている。\n",
        "        * 例えば，他県の公共支出からの影響を受けやすい（若しくは，受けにくい）県がある可能性がある。また，海に接している県や内陸の県では公共支出の効果は異なるかも知れない。また働き方や公共支出に対する県民特有の考え方や好みの違いもありうる。こういう要素は変化には時間が掛かり，推定期間内であれば一定と考えることができる。ありとあらゆる異質性が含まれるため，観察不可能と考えられる。\n",
        "    * $t$がある理由：公共支出以外の理由で時間と共に雇用は変化するかもしれない。時間トレンドの効果を捉える。\n",
        "    * 都道府県特有の定数項は3つに分ける。\n",
        "        * $\\beta_0$：共通の定数項\n",
        "        * $a_{i}$：都道府県別の定数項（**観察不可能**）\n",
        "        * $\\delta_0D_t$：時間による切片の変化を捉えており，$D_t$は時間ダミー変数\n",
        "            * $D_0=0$\n",
        "            * $D_1=1$\n",
        "* $u_{it}$：時間によって変化する観測不可能な誤差項（$i$と$t$に依存する誤差項であり，idiosyncratic errorsと呼ばれることがある）\n",
        "    * 仮定：$\\text{Cov}(x_{it},u_{it})=0$"
      ],
      "metadata": {
        "hidden": true
      }
    },
    {
      "cell_type": "markdown",
      "source": [
        "### OLS推定の問題点"
      ],
      "metadata": {
        "heading_collapsed": true,
        "hidden": true
      }
    },
    {
      "cell_type": "markdown",
      "source": [
        "$a_i$は観察不可能なため，上の回帰式は次のように表すことができる。\n",
        "\n",
        "$$\n",
        "y_{it}= \\beta_0 + \\delta_0D_t + \\beta_1x_{it}+e_{it}\\qquad e_{it}=a_i+u_{it}\n",
        "$$\n",
        "\n",
        "ここで$e_{it}$は観察不可能な誤差項。\n",
        "* $x_{it}$と$a_i$とが相関する場合，$x_{it}$と$e_{it}$は相関することになり，GM仮定４は成立しなくなる。\n",
        "\n",
        "    $$\n",
        "    \\text{Cov}\\left(x_{it}a_{it}\\right)\\neq 0\\quad \\Rightarrow\\quad \\text{Cov}\\left(x_{it}e_{it}\\right)\\neq 0\n",
        "    $$\n",
        "\n",
        "  即ち，$\\hat{\\beta}_1$は不偏性と一致性を失うことになる。\n",
        "* 「異質性バイアス」と呼ばれるが，本質的には$a_i$の欠落変数バイアスである。"
      ],
      "metadata": {
        "hidden": true
      }
    },
    {
      "cell_type": "markdown",
      "source": [
        "## １階差分推定の準備：`groupby`"
      ],
      "metadata": {
        "heading_collapsed": true
      }
    },
    {
      "cell_type": "markdown",
      "source": [
        "パネル・データを使った推定方法として１階差分推定（First Differenced Estimator）があり，それを使い推定する。その前準備として変数の差分の作成方法について説明する。\n",
        "\n",
        "`DataFrame`にはメソッド`groupby`があり，これを使うとカテゴリー変数がある列に従って行をグループ分けしグループ毎の様々な計算が可能となる。具体的な例としては[Gapminder](https://github.com/Haruyama-KobeU/Py4Etrics/blob/master/Gapminder.ipynb)を参照。ここでは`groupby`を使い差分の変数の作り方を説明する。\n",
        "\n",
        "例として使うデータを読み込む。"
      ],
      "metadata": {
        "hidden": true
      }
    },
    {
      "cell_type": "code",
      "source": [
        "# url の設定\n",
        "url = 'https://raw.githubusercontent.com/Haruyama-KobeU/Haruyama-KobeU.github.io/master/data/data4.csv'\n",
        "\n",
        "# 読み込み\n",
        "df = pd.read_csv(url)\n",
        "\n",
        "df"
      ],
      "outputs": [
        {
          "output_type": "execute_result",
          "execution_count": 14,
          "data": {
            "text/html": [
              "<div>\n",
              "<style scoped>\n",
              "    .dataframe tbody tr th:only-of-type {\n",
              "        vertical-align: middle;\n",
              "    }\n",
              "\n",
              "    .dataframe tbody tr th {\n",
              "        vertical-align: top;\n",
              "    }\n",
              "\n",
              "    .dataframe thead th {\n",
              "        text-align: right;\n",
              "    }\n",
              "</style>\n",
              "<table border=\"1\" class=\"dataframe\">\n",
              "  <thead>\n",
              "    <tr style=\"text-align: right;\">\n",
              "      <th></th>\n",
              "      <th>year</th>\n",
              "      <th>country</th>\n",
              "      <th>gdp</th>\n",
              "      <th>inv</th>\n",
              "      <th>con</th>\n",
              "      <th>pop</th>\n",
              "    </tr>\n",
              "  </thead>\n",
              "  <tbody>\n",
              "    <tr>\n",
              "      <th>0</th>\n",
              "      <td>2000</td>\n",
              "      <td>Australia</td>\n",
              "      <td>90</td>\n",
              "      <td>30.0</td>\n",
              "      <td>50.0</td>\n",
              "      <td>10</td>\n",
              "    </tr>\n",
              "    <tr>\n",
              "      <th>1</th>\n",
              "      <td>2001</td>\n",
              "      <td>Australia</td>\n",
              "      <td>100</td>\n",
              "      <td>40.0</td>\n",
              "      <td>80.0</td>\n",
              "      <td>11</td>\n",
              "    </tr>\n",
              "    <tr>\n",
              "      <th>2</th>\n",
              "      <td>2002</td>\n",
              "      <td>Australia</td>\n",
              "      <td>120</td>\n",
              "      <td>NaN</td>\n",
              "      <td>70.0</td>\n",
              "      <td>16</td>\n",
              "    </tr>\n",
              "    <tr>\n",
              "      <th>3</th>\n",
              "      <td>2000</td>\n",
              "      <td>Japan</td>\n",
              "      <td>100</td>\n",
              "      <td>20.0</td>\n",
              "      <td>80.0</td>\n",
              "      <td>8</td>\n",
              "    </tr>\n",
              "    <tr>\n",
              "      <th>4</th>\n",
              "      <td>2001</td>\n",
              "      <td>Japan</td>\n",
              "      <td>95</td>\n",
              "      <td>25.0</td>\n",
              "      <td>70.0</td>\n",
              "      <td>9</td>\n",
              "    </tr>\n",
              "    <tr>\n",
              "      <th>5</th>\n",
              "      <td>2002</td>\n",
              "      <td>Japan</td>\n",
              "      <td>93</td>\n",
              "      <td>21.0</td>\n",
              "      <td>72.0</td>\n",
              "      <td>10</td>\n",
              "    </tr>\n",
              "    <tr>\n",
              "      <th>6</th>\n",
              "      <td>2000</td>\n",
              "      <td>UK</td>\n",
              "      <td>100</td>\n",
              "      <td>30.0</td>\n",
              "      <td>70.0</td>\n",
              "      <td>11</td>\n",
              "    </tr>\n",
              "    <tr>\n",
              "      <th>7</th>\n",
              "      <td>2001</td>\n",
              "      <td>UK</td>\n",
              "      <td>110</td>\n",
              "      <td>39.0</td>\n",
              "      <td>71.0</td>\n",
              "      <td>12</td>\n",
              "    </tr>\n",
              "    <tr>\n",
              "      <th>8</th>\n",
              "      <td>2002</td>\n",
              "      <td>UK</td>\n",
              "      <td>115</td>\n",
              "      <td>55.0</td>\n",
              "      <td>NaN</td>\n",
              "      <td>14</td>\n",
              "    </tr>\n",
              "  </tbody>\n",
              "</table>\n",
              "</div>"
            ],
            "text/plain": [
              "   year    country  gdp   inv   con  pop\n",
              "0  2000  Australia   90  30.0  50.0   10\n",
              "1  2001  Australia  100  40.0  80.0   11\n",
              "2  2002  Australia  120   NaN  70.0   16\n",
              "3  2000      Japan  100  20.0  80.0    8\n",
              "4  2001      Japan   95  25.0  70.0    9\n",
              "5  2002      Japan   93  21.0  72.0   10\n",
              "6  2000         UK  100  30.0  70.0   11\n",
              "7  2001         UK  110  39.0  71.0   12\n",
              "8  2002         UK  115  55.0   NaN   14"
            ]
          },
          "metadata": {}
        }
      ],
      "execution_count": 14,
      "metadata": {
        "hidden": true
      }
    },
    {
      "cell_type": "markdown",
      "source": [
        "列`country`がカテゴリー変数であり，3つの国がある。この列を使いグループ分けする。\n",
        "\n",
        "まず前準備として，メソッド`.sort_values()`を使い列`country`で昇順に並び替え，その後，列`year`で昇順に並び替える。\n",
        "\n",
        "（コメント）\n",
        "\n",
        "以下のコードには`.reset_index(drop=True)`が追加されているが，これは行のインデックスを0,1,2,..と振り直すメソッドである。引数`drop=True`がなければ，元々あったインデックスが新たな列として追加される。試しに，最初から`df`を読み直して`.reset_index(drop=True)`を省いて下のコードを実行してみよう。"
      ],
      "metadata": {
        "hidden": true
      }
    },
    {
      "cell_type": "code",
      "source": [
        "df = df.sort_values(['country','year']).reset_index(drop=True)\n",
        "\n",
        "df"
      ],
      "outputs": [
        {
          "output_type": "execute_result",
          "execution_count": 15,
          "data": {
            "text/html": [
              "<div>\n",
              "<style scoped>\n",
              "    .dataframe tbody tr th:only-of-type {\n",
              "        vertical-align: middle;\n",
              "    }\n",
              "\n",
              "    .dataframe tbody tr th {\n",
              "        vertical-align: top;\n",
              "    }\n",
              "\n",
              "    .dataframe thead th {\n",
              "        text-align: right;\n",
              "    }\n",
              "</style>\n",
              "<table border=\"1\" class=\"dataframe\">\n",
              "  <thead>\n",
              "    <tr style=\"text-align: right;\">\n",
              "      <th></th>\n",
              "      <th>year</th>\n",
              "      <th>country</th>\n",
              "      <th>gdp</th>\n",
              "      <th>inv</th>\n",
              "      <th>con</th>\n",
              "      <th>pop</th>\n",
              "    </tr>\n",
              "  </thead>\n",
              "  <tbody>\n",
              "    <tr>\n",
              "      <th>0</th>\n",
              "      <td>2000</td>\n",
              "      <td>Australia</td>\n",
              "      <td>90</td>\n",
              "      <td>30.0</td>\n",
              "      <td>50.0</td>\n",
              "      <td>10</td>\n",
              "    </tr>\n",
              "    <tr>\n",
              "      <th>1</th>\n",
              "      <td>2001</td>\n",
              "      <td>Australia</td>\n",
              "      <td>100</td>\n",
              "      <td>40.0</td>\n",
              "      <td>80.0</td>\n",
              "      <td>11</td>\n",
              "    </tr>\n",
              "    <tr>\n",
              "      <th>2</th>\n",
              "      <td>2002</td>\n",
              "      <td>Australia</td>\n",
              "      <td>120</td>\n",
              "      <td>NaN</td>\n",
              "      <td>70.0</td>\n",
              "      <td>16</td>\n",
              "    </tr>\n",
              "    <tr>\n",
              "      <th>3</th>\n",
              "      <td>2000</td>\n",
              "      <td>Japan</td>\n",
              "      <td>100</td>\n",
              "      <td>20.0</td>\n",
              "      <td>80.0</td>\n",
              "      <td>8</td>\n",
              "    </tr>\n",
              "    <tr>\n",
              "      <th>4</th>\n",
              "      <td>2001</td>\n",
              "      <td>Japan</td>\n",
              "      <td>95</td>\n",
              "      <td>25.0</td>\n",
              "      <td>70.0</td>\n",
              "      <td>9</td>\n",
              "    </tr>\n",
              "    <tr>\n",
              "      <th>5</th>\n",
              "      <td>2002</td>\n",
              "      <td>Japan</td>\n",
              "      <td>93</td>\n",
              "      <td>21.0</td>\n",
              "      <td>72.0</td>\n",
              "      <td>10</td>\n",
              "    </tr>\n",
              "    <tr>\n",
              "      <th>6</th>\n",
              "      <td>2000</td>\n",
              "      <td>UK</td>\n",
              "      <td>100</td>\n",
              "      <td>30.0</td>\n",
              "      <td>70.0</td>\n",
              "      <td>11</td>\n",
              "    </tr>\n",
              "    <tr>\n",
              "      <th>7</th>\n",
              "      <td>2001</td>\n",
              "      <td>UK</td>\n",
              "      <td>110</td>\n",
              "      <td>39.0</td>\n",
              "      <td>71.0</td>\n",
              "      <td>12</td>\n",
              "    </tr>\n",
              "    <tr>\n",
              "      <th>8</th>\n",
              "      <td>2002</td>\n",
              "      <td>UK</td>\n",
              "      <td>115</td>\n",
              "      <td>55.0</td>\n",
              "      <td>NaN</td>\n",
              "      <td>14</td>\n",
              "    </tr>\n",
              "  </tbody>\n",
              "</table>\n",
              "</div>"
            ],
            "text/plain": [
              "   year    country  gdp   inv   con  pop\n",
              "0  2000  Australia   90  30.0  50.0   10\n",
              "1  2001  Australia  100  40.0  80.0   11\n",
              "2  2002  Australia  120   NaN  70.0   16\n",
              "3  2000      Japan  100  20.0  80.0    8\n",
              "4  2001      Japan   95  25.0  70.0    9\n",
              "5  2002      Japan   93  21.0  72.0   10\n",
              "6  2000         UK  100  30.0  70.0   11\n",
              "7  2001         UK  110  39.0  71.0   12\n",
              "8  2002         UK  115  55.0   NaN   14"
            ]
          },
          "metadata": {}
        }
      ],
      "execution_count": 15,
      "metadata": {
        "hidden": true
      }
    },
    {
      "cell_type": "markdown",
      "source": [
        "`country`でグループ化した`df_group`を作成する。"
      ],
      "metadata": {
        "hidden": true
      }
    },
    {
      "cell_type": "code",
      "source": [
        "df_group = df.groupby('country')\n",
        "\n",
        "df_group"
      ],
      "outputs": [
        {
          "output_type": "execute_result",
          "execution_count": 16,
          "data": {
            "text/plain": [
              "<pandas.core.groupby.generic.DataFrameGroupBy object at 0x7fb1eba880a0>"
            ]
          },
          "metadata": {}
        }
      ],
      "execution_count": 16,
      "metadata": {
        "hidden": true
      }
    },
    {
      "cell_type": "markdown",
      "source": [
        "このコードの出力が示すように，`df_group`は`DataFrameGroupBy`というクラス名のオブジェクト（データ型）であり，`DataFrame`とは異なる。これによりグループ別の計算が格段と容易になる。\n",
        "\n",
        "例えば，次のコードを使いそれぞれの経済の`gdp`の平均を計算することができる。"
      ],
      "metadata": {
        "hidden": true
      }
    },
    {
      "cell_type": "code",
      "source": [
        "df_group['gdp'].mean()"
      ],
      "outputs": [
        {
          "output_type": "execute_result",
          "execution_count": 17,
          "data": {
            "text/plain": [
              "country\n",
              "Australia    103.333333\n",
              "Japan         96.000000\n",
              "UK           108.333333\n",
              "Name: gdp, dtype: float64"
            ]
          },
          "metadata": {}
        }
      ],
      "execution_count": 17,
      "metadata": {
        "hidden": true
      }
    },
    {
      "cell_type": "markdown",
      "source": [
        "`mean()`は`df_group`に備わるメソッドである。他にも便利な使い方があるが，ここでは変数の差分の作りかを説明する。\n",
        "\n",
        "`df_group`にある変数の差分をとるためにメソッド`diff()`を使う。"
      ],
      "metadata": {
        "hidden": true
      }
    },
    {
      "cell_type": "code",
      "source": [
        "var = ['gdp', 'inv']\n",
        "\n",
        "df_diff = df_group[var].diff()\n",
        "\n",
        "df_diff"
      ],
      "outputs": [
        {
          "output_type": "execute_result",
          "execution_count": 18,
          "data": {
            "text/html": [
              "<div>\n",
              "<style scoped>\n",
              "    .dataframe tbody tr th:only-of-type {\n",
              "        vertical-align: middle;\n",
              "    }\n",
              "\n",
              "    .dataframe tbody tr th {\n",
              "        vertical-align: top;\n",
              "    }\n",
              "\n",
              "    .dataframe thead th {\n",
              "        text-align: right;\n",
              "    }\n",
              "</style>\n",
              "<table border=\"1\" class=\"dataframe\">\n",
              "  <thead>\n",
              "    <tr style=\"text-align: right;\">\n",
              "      <th></th>\n",
              "      <th>gdp</th>\n",
              "      <th>inv</th>\n",
              "    </tr>\n",
              "  </thead>\n",
              "  <tbody>\n",
              "    <tr>\n",
              "      <th>0</th>\n",
              "      <td>NaN</td>\n",
              "      <td>NaN</td>\n",
              "    </tr>\n",
              "    <tr>\n",
              "      <th>1</th>\n",
              "      <td>10.0</td>\n",
              "      <td>10.0</td>\n",
              "    </tr>\n",
              "    <tr>\n",
              "      <th>2</th>\n",
              "      <td>20.0</td>\n",
              "      <td>NaN</td>\n",
              "    </tr>\n",
              "    <tr>\n",
              "      <th>3</th>\n",
              "      <td>NaN</td>\n",
              "      <td>NaN</td>\n",
              "    </tr>\n",
              "    <tr>\n",
              "      <th>4</th>\n",
              "      <td>-5.0</td>\n",
              "      <td>5.0</td>\n",
              "    </tr>\n",
              "    <tr>\n",
              "      <th>5</th>\n",
              "      <td>-2.0</td>\n",
              "      <td>-4.0</td>\n",
              "    </tr>\n",
              "    <tr>\n",
              "      <th>6</th>\n",
              "      <td>NaN</td>\n",
              "      <td>NaN</td>\n",
              "    </tr>\n",
              "    <tr>\n",
              "      <th>7</th>\n",
              "      <td>10.0</td>\n",
              "      <td>9.0</td>\n",
              "    </tr>\n",
              "    <tr>\n",
              "      <th>8</th>\n",
              "      <td>5.0</td>\n",
              "      <td>16.0</td>\n",
              "    </tr>\n",
              "  </tbody>\n",
              "</table>\n",
              "</div>"
            ],
            "text/plain": [
              "    gdp   inv\n",
              "0   NaN   NaN\n",
              "1  10.0  10.0\n",
              "2  20.0   NaN\n",
              "3   NaN   NaN\n",
              "4  -5.0   5.0\n",
              "5  -2.0  -4.0\n",
              "6   NaN   NaN\n",
              "7  10.0   9.0\n",
              "8   5.0  16.0"
            ]
          },
          "metadata": {}
        }
      ],
      "execution_count": 18,
      "metadata": {
        "hidden": true
      }
    },
    {
      "cell_type": "markdown",
      "source": [
        "次に`df`と`df_diff`を横に結合する。"
      ],
      "metadata": {
        "hidden": true
      }
    },
    {
      "cell_type": "markdown",
      "source": [
        "**＜方法１：`pd.concat`＞**\n",
        "1. `df_diff`の列名を変更\n",
        "1. `pd.condat`を使い結合"
      ],
      "metadata": {
        "hidden": true
      }
    },
    {
      "cell_type": "code",
      "source": [
        "df_diff_1 = df_diff.rename(columns={'gdp':'gdp_diff','inv':'inv_diff'})\n",
        "\n",
        "df_diff_1"
      ],
      "outputs": [
        {
          "output_type": "execute_result",
          "execution_count": 19,
          "data": {
            "text/html": [
              "<div>\n",
              "<style scoped>\n",
              "    .dataframe tbody tr th:only-of-type {\n",
              "        vertical-align: middle;\n",
              "    }\n",
              "\n",
              "    .dataframe tbody tr th {\n",
              "        vertical-align: top;\n",
              "    }\n",
              "\n",
              "    .dataframe thead th {\n",
              "        text-align: right;\n",
              "    }\n",
              "</style>\n",
              "<table border=\"1\" class=\"dataframe\">\n",
              "  <thead>\n",
              "    <tr style=\"text-align: right;\">\n",
              "      <th></th>\n",
              "      <th>gdp_diff</th>\n",
              "      <th>inv_diff</th>\n",
              "    </tr>\n",
              "  </thead>\n",
              "  <tbody>\n",
              "    <tr>\n",
              "      <th>0</th>\n",
              "      <td>NaN</td>\n",
              "      <td>NaN</td>\n",
              "    </tr>\n",
              "    <tr>\n",
              "      <th>1</th>\n",
              "      <td>10.0</td>\n",
              "      <td>10.0</td>\n",
              "    </tr>\n",
              "    <tr>\n",
              "      <th>2</th>\n",
              "      <td>20.0</td>\n",
              "      <td>NaN</td>\n",
              "    </tr>\n",
              "    <tr>\n",
              "      <th>3</th>\n",
              "      <td>NaN</td>\n",
              "      <td>NaN</td>\n",
              "    </tr>\n",
              "    <tr>\n",
              "      <th>4</th>\n",
              "      <td>-5.0</td>\n",
              "      <td>5.0</td>\n",
              "    </tr>\n",
              "    <tr>\n",
              "      <th>5</th>\n",
              "      <td>-2.0</td>\n",
              "      <td>-4.0</td>\n",
              "    </tr>\n",
              "    <tr>\n",
              "      <th>6</th>\n",
              "      <td>NaN</td>\n",
              "      <td>NaN</td>\n",
              "    </tr>\n",
              "    <tr>\n",
              "      <th>7</th>\n",
              "      <td>10.0</td>\n",
              "      <td>9.0</td>\n",
              "    </tr>\n",
              "    <tr>\n",
              "      <th>8</th>\n",
              "      <td>5.0</td>\n",
              "      <td>16.0</td>\n",
              "    </tr>\n",
              "  </tbody>\n",
              "</table>\n",
              "</div>"
            ],
            "text/plain": [
              "   gdp_diff  inv_diff\n",
              "0       NaN       NaN\n",
              "1      10.0      10.0\n",
              "2      20.0       NaN\n",
              "3       NaN       NaN\n",
              "4      -5.0       5.0\n",
              "5      -2.0      -4.0\n",
              "6       NaN       NaN\n",
              "7      10.0       9.0\n",
              "8       5.0      16.0"
            ]
          },
          "metadata": {}
        }
      ],
      "execution_count": 19,
      "metadata": {
        "hidden": true
      }
    },
    {
      "cell_type": "code",
      "source": [
        "pd.concat([df, df_diff_1], axis='columns')"
      ],
      "outputs": [
        {
          "output_type": "execute_result",
          "execution_count": 20,
          "data": {
            "text/html": [
              "<div>\n",
              "<style scoped>\n",
              "    .dataframe tbody tr th:only-of-type {\n",
              "        vertical-align: middle;\n",
              "    }\n",
              "\n",
              "    .dataframe tbody tr th {\n",
              "        vertical-align: top;\n",
              "    }\n",
              "\n",
              "    .dataframe thead th {\n",
              "        text-align: right;\n",
              "    }\n",
              "</style>\n",
              "<table border=\"1\" class=\"dataframe\">\n",
              "  <thead>\n",
              "    <tr style=\"text-align: right;\">\n",
              "      <th></th>\n",
              "      <th>year</th>\n",
              "      <th>country</th>\n",
              "      <th>gdp</th>\n",
              "      <th>inv</th>\n",
              "      <th>con</th>\n",
              "      <th>pop</th>\n",
              "      <th>gdp_diff</th>\n",
              "      <th>inv_diff</th>\n",
              "    </tr>\n",
              "  </thead>\n",
              "  <tbody>\n",
              "    <tr>\n",
              "      <th>0</th>\n",
              "      <td>2000</td>\n",
              "      <td>Australia</td>\n",
              "      <td>90</td>\n",
              "      <td>30.0</td>\n",
              "      <td>50.0</td>\n",
              "      <td>10</td>\n",
              "      <td>NaN</td>\n",
              "      <td>NaN</td>\n",
              "    </tr>\n",
              "    <tr>\n",
              "      <th>1</th>\n",
              "      <td>2001</td>\n",
              "      <td>Australia</td>\n",
              "      <td>100</td>\n",
              "      <td>40.0</td>\n",
              "      <td>80.0</td>\n",
              "      <td>11</td>\n",
              "      <td>10.0</td>\n",
              "      <td>10.0</td>\n",
              "    </tr>\n",
              "    <tr>\n",
              "      <th>2</th>\n",
              "      <td>2002</td>\n",
              "      <td>Australia</td>\n",
              "      <td>120</td>\n",
              "      <td>NaN</td>\n",
              "      <td>70.0</td>\n",
              "      <td>16</td>\n",
              "      <td>20.0</td>\n",
              "      <td>NaN</td>\n",
              "    </tr>\n",
              "    <tr>\n",
              "      <th>3</th>\n",
              "      <td>2000</td>\n",
              "      <td>Japan</td>\n",
              "      <td>100</td>\n",
              "      <td>20.0</td>\n",
              "      <td>80.0</td>\n",
              "      <td>8</td>\n",
              "      <td>NaN</td>\n",
              "      <td>NaN</td>\n",
              "    </tr>\n",
              "    <tr>\n",
              "      <th>4</th>\n",
              "      <td>2001</td>\n",
              "      <td>Japan</td>\n",
              "      <td>95</td>\n",
              "      <td>25.0</td>\n",
              "      <td>70.0</td>\n",
              "      <td>9</td>\n",
              "      <td>-5.0</td>\n",
              "      <td>5.0</td>\n",
              "    </tr>\n",
              "    <tr>\n",
              "      <th>5</th>\n",
              "      <td>2002</td>\n",
              "      <td>Japan</td>\n",
              "      <td>93</td>\n",
              "      <td>21.0</td>\n",
              "      <td>72.0</td>\n",
              "      <td>10</td>\n",
              "      <td>-2.0</td>\n",
              "      <td>-4.0</td>\n",
              "    </tr>\n",
              "    <tr>\n",
              "      <th>6</th>\n",
              "      <td>2000</td>\n",
              "      <td>UK</td>\n",
              "      <td>100</td>\n",
              "      <td>30.0</td>\n",
              "      <td>70.0</td>\n",
              "      <td>11</td>\n",
              "      <td>NaN</td>\n",
              "      <td>NaN</td>\n",
              "    </tr>\n",
              "    <tr>\n",
              "      <th>7</th>\n",
              "      <td>2001</td>\n",
              "      <td>UK</td>\n",
              "      <td>110</td>\n",
              "      <td>39.0</td>\n",
              "      <td>71.0</td>\n",
              "      <td>12</td>\n",
              "      <td>10.0</td>\n",
              "      <td>9.0</td>\n",
              "    </tr>\n",
              "    <tr>\n",
              "      <th>8</th>\n",
              "      <td>2002</td>\n",
              "      <td>UK</td>\n",
              "      <td>115</td>\n",
              "      <td>55.0</td>\n",
              "      <td>NaN</td>\n",
              "      <td>14</td>\n",
              "      <td>5.0</td>\n",
              "      <td>16.0</td>\n",
              "    </tr>\n",
              "  </tbody>\n",
              "</table>\n",
              "</div>"
            ],
            "text/plain": [
              "   year    country  gdp   inv   con  pop  gdp_diff  inv_diff\n",
              "0  2000  Australia   90  30.0  50.0   10       NaN       NaN\n",
              "1  2001  Australia  100  40.0  80.0   11      10.0      10.0\n",
              "2  2002  Australia  120   NaN  70.0   16      20.0       NaN\n",
              "3  2000      Japan  100  20.0  80.0    8       NaN       NaN\n",
              "4  2001      Japan   95  25.0  70.0    9      -5.0       5.0\n",
              "5  2002      Japan   93  21.0  72.0   10      -2.0      -4.0\n",
              "6  2000         UK  100  30.0  70.0   11       NaN       NaN\n",
              "7  2001         UK  110  39.0  71.0   12      10.0       9.0\n",
              "8  2002         UK  115  55.0   NaN   14       5.0      16.0"
            ]
          },
          "metadata": {}
        }
      ],
      "execution_count": 20,
      "metadata": {
        "hidden": true
      }
    },
    {
      "cell_type": "markdown",
      "source": [
        "上のコードの`axis='columns'`は`axis=1`としてもOK。この方法は、`df`と`df_diff_1`の行の順序が同じという想定のもとで行っている。行の順番が同じでない場合や不明な場合は、次の方法が良いであろう。"
      ],
      "metadata": {
        "hidden": true
      }
    },
    {
      "cell_type": "markdown",
      "source": [
        "**＜方法２：`pd.merge`＞**\n",
        "\n",
        "`df`と`df_diff`を使い、方法１の２つのステップを１行で済ませる。次のコードでは3つの引数を指定している。\n",
        "* `left_index=True`\n",
        "    * `df`の行のインデックスに合わせて結合する。\n",
        "* `right_index=True`\n",
        "    * `df_diff`の行のインデックスに合わせて結合する。\n",
        "* `suffixes=('', '_diff')`\n",
        "    * 左の引数`''`：結合後，重複する左の`DataFrame`の列につける接尾辞（空の接尾辞）\n",
        "    * 右の引数`'_diff'`：結合後，重複する右の`DataFrame`の列につける接尾辞"
      ],
      "metadata": {
        "hidden": true
      }
    },
    {
      "cell_type": "code",
      "source": [
        "pd.merge(df, df_diff, left_index=True, right_index=True, suffixes=('', '_diff'))"
      ],
      "outputs": [
        {
          "output_type": "execute_result",
          "execution_count": 21,
          "data": {
            "text/html": [
              "<div>\n",
              "<style scoped>\n",
              "    .dataframe tbody tr th:only-of-type {\n",
              "        vertical-align: middle;\n",
              "    }\n",
              "\n",
              "    .dataframe tbody tr th {\n",
              "        vertical-align: top;\n",
              "    }\n",
              "\n",
              "    .dataframe thead th {\n",
              "        text-align: right;\n",
              "    }\n",
              "</style>\n",
              "<table border=\"1\" class=\"dataframe\">\n",
              "  <thead>\n",
              "    <tr style=\"text-align: right;\">\n",
              "      <th></th>\n",
              "      <th>year</th>\n",
              "      <th>country</th>\n",
              "      <th>gdp</th>\n",
              "      <th>inv</th>\n",
              "      <th>con</th>\n",
              "      <th>pop</th>\n",
              "      <th>gdp_diff</th>\n",
              "      <th>inv_diff</th>\n",
              "    </tr>\n",
              "  </thead>\n",
              "  <tbody>\n",
              "    <tr>\n",
              "      <th>0</th>\n",
              "      <td>2000</td>\n",
              "      <td>Australia</td>\n",
              "      <td>90</td>\n",
              "      <td>30.0</td>\n",
              "      <td>50.0</td>\n",
              "      <td>10</td>\n",
              "      <td>NaN</td>\n",
              "      <td>NaN</td>\n",
              "    </tr>\n",
              "    <tr>\n",
              "      <th>1</th>\n",
              "      <td>2001</td>\n",
              "      <td>Australia</td>\n",
              "      <td>100</td>\n",
              "      <td>40.0</td>\n",
              "      <td>80.0</td>\n",
              "      <td>11</td>\n",
              "      <td>10.0</td>\n",
              "      <td>10.0</td>\n",
              "    </tr>\n",
              "    <tr>\n",
              "      <th>2</th>\n",
              "      <td>2002</td>\n",
              "      <td>Australia</td>\n",
              "      <td>120</td>\n",
              "      <td>NaN</td>\n",
              "      <td>70.0</td>\n",
              "      <td>16</td>\n",
              "      <td>20.0</td>\n",
              "      <td>NaN</td>\n",
              "    </tr>\n",
              "    <tr>\n",
              "      <th>3</th>\n",
              "      <td>2000</td>\n",
              "      <td>Japan</td>\n",
              "      <td>100</td>\n",
              "      <td>20.0</td>\n",
              "      <td>80.0</td>\n",
              "      <td>8</td>\n",
              "      <td>NaN</td>\n",
              "      <td>NaN</td>\n",
              "    </tr>\n",
              "    <tr>\n",
              "      <th>4</th>\n",
              "      <td>2001</td>\n",
              "      <td>Japan</td>\n",
              "      <td>95</td>\n",
              "      <td>25.0</td>\n",
              "      <td>70.0</td>\n",
              "      <td>9</td>\n",
              "      <td>-5.0</td>\n",
              "      <td>5.0</td>\n",
              "    </tr>\n",
              "    <tr>\n",
              "      <th>5</th>\n",
              "      <td>2002</td>\n",
              "      <td>Japan</td>\n",
              "      <td>93</td>\n",
              "      <td>21.0</td>\n",
              "      <td>72.0</td>\n",
              "      <td>10</td>\n",
              "      <td>-2.0</td>\n",
              "      <td>-4.0</td>\n",
              "    </tr>\n",
              "    <tr>\n",
              "      <th>6</th>\n",
              "      <td>2000</td>\n",
              "      <td>UK</td>\n",
              "      <td>100</td>\n",
              "      <td>30.0</td>\n",
              "      <td>70.0</td>\n",
              "      <td>11</td>\n",
              "      <td>NaN</td>\n",
              "      <td>NaN</td>\n",
              "    </tr>\n",
              "    <tr>\n",
              "      <th>7</th>\n",
              "      <td>2001</td>\n",
              "      <td>UK</td>\n",
              "      <td>110</td>\n",
              "      <td>39.0</td>\n",
              "      <td>71.0</td>\n",
              "      <td>12</td>\n",
              "      <td>10.0</td>\n",
              "      <td>9.0</td>\n",
              "    </tr>\n",
              "    <tr>\n",
              "      <th>8</th>\n",
              "      <td>2002</td>\n",
              "      <td>UK</td>\n",
              "      <td>115</td>\n",
              "      <td>55.0</td>\n",
              "      <td>NaN</td>\n",
              "      <td>14</td>\n",
              "      <td>5.0</td>\n",
              "      <td>16.0</td>\n",
              "    </tr>\n",
              "  </tbody>\n",
              "</table>\n",
              "</div>"
            ],
            "text/plain": [
              "   year    country  gdp   inv   con  pop  gdp_diff  inv_diff\n",
              "0  2000  Australia   90  30.0  50.0   10       NaN       NaN\n",
              "1  2001  Australia  100  40.0  80.0   11      10.0      10.0\n",
              "2  2002  Australia  120   NaN  70.0   16      20.0       NaN\n",
              "3  2000      Japan  100  20.0  80.0    8       NaN       NaN\n",
              "4  2001      Japan   95  25.0  70.0    9      -5.0       5.0\n",
              "5  2002      Japan   93  21.0  72.0   10      -2.0      -4.0\n",
              "6  2000         UK  100  30.0  70.0   11       NaN       NaN\n",
              "7  2001         UK  110  39.0  71.0   12      10.0       9.0\n",
              "8  2002         UK  115  55.0   NaN   14       5.0      16.0"
            ]
          },
          "metadata": {}
        }
      ],
      "execution_count": 21,
      "metadata": {
        "hidden": true
      }
    },
    {
      "cell_type": "markdown",
      "source": [
        "`df`を上書きしたい場合は，`df=`を付け加える。"
      ],
      "metadata": {
        "hidden": true
      }
    },
    {
      "cell_type": "markdown",
      "source": [
        "## １階差分推定"
      ],
      "metadata": {
        "heading_collapsed": true
      }
    },
    {
      "cell_type": "markdown",
      "source": [
        "### 説明"
      ],
      "metadata": {
        "heading_collapsed": true,
        "hidden": true
      }
    },
    {
      "cell_type": "markdown",
      "source": [
        "異質性バイアスの一番簡単な解決方法が１階差分推定（First Differenced Estimator）である。考え方は非常に簡単である。次の１階差分を定義する。\n",
        "* $\\Delta y_{i}=y_{i1}-y_{i0}$\n",
        "* $\\Delta D = D_{1}-D_0 =1-0= 1$\n",
        "* $\\Delta x_{i}=x_{i1}-x_{i0}$\n",
        "* $\\Delta e_{i}=e_{i1}-e_{i0}=a_i+u_{i1}-\\left(a_i+u_{i0}\\right)=\\Delta u_{i}$\n",
        "    * $a_i$が削除される。\n",
        "\n",
        "これらを使い，上の式の１階差分をとると次式を得る。\n",
        "\n",
        "$$\n",
        "\\Delta y_{it}= \\delta_0 + \\beta_1\\Delta x_{i}+\\Delta u_{i}\\qquad i=1,2,...,n\n",
        "$$\n",
        "\n",
        "* 良い点\n",
        "    * （仮定により）$\\Delta x_{i}$と$\\Delta u_{i}$は相関しないため，GM仮定４は満たされることになる。\n",
        "* 悪い点\n",
        "    * $t=0$のデータを使えなくなるため，標本の大きさが小さくなる。\n",
        "    * 期間内の説明変数$\\Delta x_i$の変化が小さいと，不正確な推定になる（極端な場合，変化がないと推定不可能となる）。"
      ],
      "metadata": {
        "hidden": true
      }
    },
    {
      "cell_type": "markdown",
      "source": [
        "---\n",
        "＜推定方法＞\n",
        "\n",
        "データから１階差分を計算し，`statsmodels`を使いOLS推定すれば良い。以下ではパッケージ`wooldridge`にあるデータを使う。"
      ],
      "metadata": {
        "hidden": true
      }
    },
    {
      "cell_type": "markdown",
      "source": [
        "### 推定：２期間の場合"
      ],
      "metadata": {
        "heading_collapsed": true,
        "hidden": true
      }
    },
    {
      "cell_type": "markdown",
      "source": [
        "* 以下では`crime2`のデータを使い説明する。\n",
        "* このデータを使い，失業率が犯罪に負の影響を与えるかどうかを検証する。"
      ],
      "metadata": {
        "hidden": true
      }
    },
    {
      "cell_type": "markdown",
      "source": [
        "データの読み込み。"
      ],
      "metadata": {
        "hidden": true
      }
    },
    {
      "cell_type": "code",
      "source": [
        "crime2 = wooldridge.data('crime2')"
      ],
      "outputs": [],
      "execution_count": 22,
      "metadata": {
        "hidden": true
      }
    },
    {
      "cell_type": "markdown",
      "source": [
        "変数の説明。"
      ],
      "metadata": {
        "hidden": true
      }
    },
    {
      "cell_type": "code",
      "source": [
        "wooldridge.data('crime2', description=True)"
      ],
      "outputs": [
        {
          "output_type": "stream",
          "name": "stdout",
          "text": [
            "name of dataset: crime2\n",
            "no of variables: 34\n",
            "no of observations: 92\n",
            "\n",
            "+----------+----------------------------+\n",
            "| variable | label                      |\n",
            "+----------+----------------------------+\n",
            "| pop      | population                 |\n",
            "| crimes   | total number index crimes  |\n",
            "| unem     | unemployment rate          |\n",
            "| officers | number police officers     |\n",
            "| pcinc    | per capita income          |\n",
            "| west     | =1 if city in west         |\n",
            "| nrtheast | =1 if city in NE           |\n",
            "| south    | =1 if city in south        |\n",
            "| year     | 82 or 87                   |\n",
            "| area     | land area, square miles    |\n",
            "| d87      | =1 if year = 87            |\n",
            "| popden   | people per sq mile         |\n",
            "| crmrte   | crimes per 1000 people     |\n",
            "| offarea  | officers per sq mile       |\n",
            "| lawexpc  | law enforce. expend. pc, $ |\n",
            "| polpc    | police per 1000 people     |\n",
            "| lpop     | log(pop)                   |\n",
            "| loffic   | log(officers)              |\n",
            "| lpcinc   | log(pcinc)                 |\n",
            "| llawexpc | log(lawexpc)               |\n",
            "| lpopden  | log(popden)                |\n",
            "| lcrimes  | log(crimes)                |\n",
            "| larea    | log(area)                  |\n",
            "| lcrmrte  | log(crmrte)                |\n",
            "| clcrimes | change in lcrimes          |\n",
            "| clpop    | change in lpop             |\n",
            "| clcrmrte | change in lcrmrte          |\n",
            "| lpolpc   | log(polpc)                 |\n",
            "| clpolpc  | change in lpolpc           |\n",
            "| cllawexp | change in llawexp          |\n",
            "| cunem    | change in unem             |\n",
            "| clpopden | change in lpopden          |\n",
            "| lcrmrt_1 | lcrmrte lagged             |\n",
            "| ccrmrte  | change in crmrte           |\n",
            "+----------+----------------------------+\n",
            "\n",
            "These data were collected by David Dicicco, a former MSU\n",
            "undergraduate, for a final project. They came from various issues of\n",
            "the County and City Data Book, and are for the years 1982 and 1985.\n",
            "Unfortunately, I do not have the list of cities.\n"
          ]
        }
      ],
      "execution_count": 23,
      "metadata": {
        "hidden": true,
        "tags": [
          "output_scroll"
        ]
      }
    },
    {
      "cell_type": "markdown",
      "source": [
        "興味がある変数\n",
        "* `crmes`：犯罪率（1000人当たり犯罪数）\n",
        "* `unem`：失業率\n",
        "\n",
        "（コメント）\n",
        "\n",
        "データセットにはこの2つの変数の差分（`cunem`と`ccrmrte`）も用意されているが，以下では`groupby`を使って変数を作成する。"
      ],
      "metadata": {
        "hidden": true
      }
    },
    {
      "cell_type": "code",
      "source": [
        "crime2.head()"
      ],
      "outputs": [
        {
          "output_type": "execute_result",
          "execution_count": 24,
          "data": {
            "text/html": [
              "<div>\n",
              "<style scoped>\n",
              "    .dataframe tbody tr th:only-of-type {\n",
              "        vertical-align: middle;\n",
              "    }\n",
              "\n",
              "    .dataframe tbody tr th {\n",
              "        vertical-align: top;\n",
              "    }\n",
              "\n",
              "    .dataframe thead th {\n",
              "        text-align: right;\n",
              "    }\n",
              "</style>\n",
              "<table border=\"1\" class=\"dataframe\">\n",
              "  <thead>\n",
              "    <tr style=\"text-align: right;\">\n",
              "      <th></th>\n",
              "      <th>pop</th>\n",
              "      <th>crimes</th>\n",
              "      <th>unem</th>\n",
              "      <th>officers</th>\n",
              "      <th>pcinc</th>\n",
              "      <th>west</th>\n",
              "      <th>nrtheast</th>\n",
              "      <th>south</th>\n",
              "      <th>year</th>\n",
              "      <th>area</th>\n",
              "      <th>...</th>\n",
              "      <th>clcrimes</th>\n",
              "      <th>clpop</th>\n",
              "      <th>clcrmrte</th>\n",
              "      <th>lpolpc</th>\n",
              "      <th>clpolpc</th>\n",
              "      <th>cllawexp</th>\n",
              "      <th>cunem</th>\n",
              "      <th>clpopden</th>\n",
              "      <th>lcrmrt_1</th>\n",
              "      <th>ccrmrte</th>\n",
              "    </tr>\n",
              "  </thead>\n",
              "  <tbody>\n",
              "    <tr>\n",
              "      <th>0</th>\n",
              "      <td>229528.0</td>\n",
              "      <td>17136.0</td>\n",
              "      <td>8.2</td>\n",
              "      <td>326</td>\n",
              "      <td>8532</td>\n",
              "      <td>1</td>\n",
              "      <td>0</td>\n",
              "      <td>0</td>\n",
              "      <td>82</td>\n",
              "      <td>44.599998</td>\n",
              "      <td>...</td>\n",
              "      <td>NaN</td>\n",
              "      <td>NaN</td>\n",
              "      <td>NaN</td>\n",
              "      <td>0.350872</td>\n",
              "      <td>NaN</td>\n",
              "      <td>NaN</td>\n",
              "      <td>NaN</td>\n",
              "      <td>NaN</td>\n",
              "      <td>NaN</td>\n",
              "      <td>NaN</td>\n",
              "    </tr>\n",
              "    <tr>\n",
              "      <th>1</th>\n",
              "      <td>246815.0</td>\n",
              "      <td>17306.0</td>\n",
              "      <td>3.7</td>\n",
              "      <td>321</td>\n",
              "      <td>12155</td>\n",
              "      <td>1</td>\n",
              "      <td>0</td>\n",
              "      <td>0</td>\n",
              "      <td>87</td>\n",
              "      <td>44.599998</td>\n",
              "      <td>...</td>\n",
              "      <td>0.009871</td>\n",
              "      <td>0.072614</td>\n",
              "      <td>-0.062743</td>\n",
              "      <td>0.262802</td>\n",
              "      <td>-0.08807</td>\n",
              "      <td>0.977952</td>\n",
              "      <td>-4.5</td>\n",
              "      <td>0.072615</td>\n",
              "      <td>4.312912</td>\n",
              "      <td>-4.540268</td>\n",
              "    </tr>\n",
              "    <tr>\n",
              "      <th>2</th>\n",
              "      <td>814054.0</td>\n",
              "      <td>75654.0</td>\n",
              "      <td>8.1</td>\n",
              "      <td>1621</td>\n",
              "      <td>7551</td>\n",
              "      <td>1</td>\n",
              "      <td>0</td>\n",
              "      <td>0</td>\n",
              "      <td>82</td>\n",
              "      <td>375.000000</td>\n",
              "      <td>...</td>\n",
              "      <td>NaN</td>\n",
              "      <td>NaN</td>\n",
              "      <td>NaN</td>\n",
              "      <td>0.688772</td>\n",
              "      <td>NaN</td>\n",
              "      <td>NaN</td>\n",
              "      <td>NaN</td>\n",
              "      <td>NaN</td>\n",
              "      <td>NaN</td>\n",
              "      <td>NaN</td>\n",
              "    </tr>\n",
              "    <tr>\n",
              "      <th>3</th>\n",
              "      <td>933177.0</td>\n",
              "      <td>83960.0</td>\n",
              "      <td>5.4</td>\n",
              "      <td>1803</td>\n",
              "      <td>11363</td>\n",
              "      <td>1</td>\n",
              "      <td>0</td>\n",
              "      <td>0</td>\n",
              "      <td>87</td>\n",
              "      <td>375.000000</td>\n",
              "      <td>...</td>\n",
              "      <td>0.104170</td>\n",
              "      <td>0.136568</td>\n",
              "      <td>-0.032398</td>\n",
              "      <td>0.658612</td>\n",
              "      <td>-0.03016</td>\n",
              "      <td>0.200762</td>\n",
              "      <td>-2.7</td>\n",
              "      <td>0.136568</td>\n",
              "      <td>4.531899</td>\n",
              "      <td>-2.962654</td>\n",
              "    </tr>\n",
              "    <tr>\n",
              "      <th>4</th>\n",
              "      <td>374974.0</td>\n",
              "      <td>31352.0</td>\n",
              "      <td>9.0</td>\n",
              "      <td>633</td>\n",
              "      <td>8343</td>\n",
              "      <td>1</td>\n",
              "      <td>0</td>\n",
              "      <td>0</td>\n",
              "      <td>82</td>\n",
              "      <td>49.799999</td>\n",
              "      <td>...</td>\n",
              "      <td>NaN</td>\n",
              "      <td>NaN</td>\n",
              "      <td>NaN</td>\n",
              "      <td>0.523614</td>\n",
              "      <td>NaN</td>\n",
              "      <td>NaN</td>\n",
              "      <td>NaN</td>\n",
              "      <td>NaN</td>\n",
              "      <td>NaN</td>\n",
              "      <td>NaN</td>\n",
              "    </tr>\n",
              "  </tbody>\n",
              "</table>\n",
              "<p>5 rows × 34 columns</p>\n",
              "</div>"
            ],
            "text/plain": [
              "        pop   crimes  unem  officers  pcinc  west  nrtheast  south  year  \\\n",
              "0  229528.0  17136.0   8.2       326   8532     1         0      0    82   \n",
              "1  246815.0  17306.0   3.7       321  12155     1         0      0    87   \n",
              "2  814054.0  75654.0   8.1      1621   7551     1         0      0    82   \n",
              "3  933177.0  83960.0   5.4      1803  11363     1         0      0    87   \n",
              "4  374974.0  31352.0   9.0       633   8343     1         0      0    82   \n",
              "\n",
              "         area  ...  clcrimes     clpop  clcrmrte    lpolpc  clpolpc  cllawexp  \\\n",
              "0   44.599998  ...       NaN       NaN       NaN  0.350872      NaN       NaN   \n",
              "1   44.599998  ...  0.009871  0.072614 -0.062743  0.262802 -0.08807  0.977952   \n",
              "2  375.000000  ...       NaN       NaN       NaN  0.688772      NaN       NaN   \n",
              "3  375.000000  ...  0.104170  0.136568 -0.032398  0.658612 -0.03016  0.200762   \n",
              "4   49.799999  ...       NaN       NaN       NaN  0.523614      NaN       NaN   \n",
              "\n",
              "   cunem  clpopden  lcrmrt_1   ccrmrte  \n",
              "0    NaN       NaN       NaN       NaN  \n",
              "1   -4.5  0.072615  4.312912 -4.540268  \n",
              "2    NaN       NaN       NaN       NaN  \n",
              "3   -2.7  0.136568  4.531899 -2.962654  \n",
              "4    NaN       NaN       NaN       NaN  \n",
              "\n",
              "[5 rows x 34 columns]"
            ]
          },
          "metadata": {}
        }
      ],
      "execution_count": 24,
      "metadata": {
        "hidden": true,
        "tags": [
          "output_scroll"
        ]
      }
    },
    {
      "cell_type": "markdown",
      "source": [
        "このデータセットには，観察単位識別用の変数がない。しかし，行0と1が1つの地域のデータ，行2と3が別の地域のデータをなっていることがわかる（`year`を見るとわかる）。まず観察単位識別用のの列を作成する。"
      ],
      "metadata": {
        "hidden": true
      }
    },
    {
      "cell_type": "code",
      "source": [
        "# 観察単位の数\n",
        "n = len(crime2)/2\n",
        "\n",
        "# 観察単位ID用のリスト作成 [1,2,3,4....]\n",
        "lst = [i for i in range(1,int(n)+1)]\n",
        "\n",
        "# 観察単位ID用のリスト作成 [1,1,2,2,3,3,4,4....]\n",
        "country_list = pd.Series(lst).repeat(2).to_list()"
      ],
      "outputs": [],
      "execution_count": 25,
      "metadata": {
        "hidden": true
      }
    },
    {
      "cell_type": "markdown",
      "source": [
        "`country_list`の説明：\n",
        "1. `Series`のメソッド`repeat(2)`は`lst`の要素を２回リピートする`Series`を生成する。\n",
        "1. `to_list()`は`Series`をリストに変換するメソッド。\n",
        "\n",
        "データセットに列`county`を追加し確認する。"
      ],
      "metadata": {
        "hidden": true
      }
    },
    {
      "cell_type": "code",
      "source": [
        "crime2['county'] = country_list  # 追加\n",
        "\n",
        "crime2.loc[:,['county','year']].head()  # 確認"
      ],
      "outputs": [
        {
          "output_type": "execute_result",
          "execution_count": 26,
          "data": {
            "text/html": [
              "<div>\n",
              "<style scoped>\n",
              "    .dataframe tbody tr th:only-of-type {\n",
              "        vertical-align: middle;\n",
              "    }\n",
              "\n",
              "    .dataframe tbody tr th {\n",
              "        vertical-align: top;\n",
              "    }\n",
              "\n",
              "    .dataframe thead th {\n",
              "        text-align: right;\n",
              "    }\n",
              "</style>\n",
              "<table border=\"1\" class=\"dataframe\">\n",
              "  <thead>\n",
              "    <tr style=\"text-align: right;\">\n",
              "      <th></th>\n",
              "      <th>county</th>\n",
              "      <th>year</th>\n",
              "    </tr>\n",
              "  </thead>\n",
              "  <tbody>\n",
              "    <tr>\n",
              "      <th>0</th>\n",
              "      <td>1</td>\n",
              "      <td>82</td>\n",
              "    </tr>\n",
              "    <tr>\n",
              "      <th>1</th>\n",
              "      <td>1</td>\n",
              "      <td>87</td>\n",
              "    </tr>\n",
              "    <tr>\n",
              "      <th>2</th>\n",
              "      <td>2</td>\n",
              "      <td>82</td>\n",
              "    </tr>\n",
              "    <tr>\n",
              "      <th>3</th>\n",
              "      <td>2</td>\n",
              "      <td>87</td>\n",
              "    </tr>\n",
              "    <tr>\n",
              "      <th>4</th>\n",
              "      <td>3</td>\n",
              "      <td>82</td>\n",
              "    </tr>\n",
              "  </tbody>\n",
              "</table>\n",
              "</div>"
            ],
            "text/plain": [
              "   county  year\n",
              "0       1    82\n",
              "1       1    87\n",
              "2       2    82\n",
              "3       2    87\n",
              "4       3    82"
            ]
          },
          "metadata": {}
        }
      ],
      "execution_count": 26,
      "metadata": {
        "hidden": true
      }
    },
    {
      "cell_type": "markdown",
      "source": [
        "`unem`と`crmrte`の差分を求める。"
      ],
      "metadata": {
        "hidden": true
      }
    },
    {
      "cell_type": "code",
      "source": [
        "var = ['unem', 'crmrte']  # groupbyで差分を取る列の指定\n",
        "\n",
        "names = {'unem':'unem_diff', 'crmrte':'crmrte_diff'}  # 差分の列のラベル\n",
        "\n",
        "crime2_diff = crime2.groupby('county')[var].diff().rename(columns=names)\n",
        "\n",
        "crime2_diff.head()"
      ],
      "outputs": [
        {
          "output_type": "execute_result",
          "execution_count": 27,
          "data": {
            "text/html": [
              "<div>\n",
              "<style scoped>\n",
              "    .dataframe tbody tr th:only-of-type {\n",
              "        vertical-align: middle;\n",
              "    }\n",
              "\n",
              "    .dataframe tbody tr th {\n",
              "        vertical-align: top;\n",
              "    }\n",
              "\n",
              "    .dataframe thead th {\n",
              "        text-align: right;\n",
              "    }\n",
              "</style>\n",
              "<table border=\"1\" class=\"dataframe\">\n",
              "  <thead>\n",
              "    <tr style=\"text-align: right;\">\n",
              "      <th></th>\n",
              "      <th>unem_diff</th>\n",
              "      <th>crmrte_diff</th>\n",
              "    </tr>\n",
              "  </thead>\n",
              "  <tbody>\n",
              "    <tr>\n",
              "      <th>0</th>\n",
              "      <td>NaN</td>\n",
              "      <td>NaN</td>\n",
              "    </tr>\n",
              "    <tr>\n",
              "      <th>1</th>\n",
              "      <td>-4.5</td>\n",
              "      <td>-4.540268</td>\n",
              "    </tr>\n",
              "    <tr>\n",
              "      <th>2</th>\n",
              "      <td>NaN</td>\n",
              "      <td>NaN</td>\n",
              "    </tr>\n",
              "    <tr>\n",
              "      <th>3</th>\n",
              "      <td>-2.7</td>\n",
              "      <td>-2.962654</td>\n",
              "    </tr>\n",
              "    <tr>\n",
              "      <th>4</th>\n",
              "      <td>NaN</td>\n",
              "      <td>NaN</td>\n",
              "    </tr>\n",
              "  </tbody>\n",
              "</table>\n",
              "</div>"
            ],
            "text/plain": [
              "   unem_diff  crmrte_diff\n",
              "0        NaN          NaN\n",
              "1       -4.5    -4.540268\n",
              "2        NaN          NaN\n",
              "3       -2.7    -2.962654\n",
              "4        NaN          NaN"
            ]
          },
          "metadata": {}
        }
      ],
      "execution_count": 27,
      "metadata": {
        "hidden": true
      }
    },
    {
      "cell_type": "markdown",
      "source": [
        "`crime2_diff`を使って回帰分析をおこなう。\n",
        "\n",
        "（コメント）\n",
        "\n",
        "以下の計算では`NaN`は自動的に無視される。"
      ],
      "metadata": {
        "hidden": true
      }
    },
    {
      "cell_type": "code",
      "source": [
        "formula_1 = 'crmrte_diff ~ unem_diff'\n",
        "\n",
        "result_1 = ols(formula_1, crime2_diff).fit()\n",
        "\n",
        "print(result_1.summary().tables[1])"
      ],
      "outputs": [
        {
          "output_type": "stream",
          "name": "stdout",
          "text": [
            "==============================================================================\n",
            "                 coef    std err          t      P>|t|      [0.025      0.975]\n",
            "------------------------------------------------------------------------------\n",
            "Intercept     15.4022      4.702      3.276      0.002       5.926      24.879\n",
            "unem_diff      2.2180      0.878      2.527      0.015       0.449       3.987\n",
            "==============================================================================\n"
          ]
        }
      ],
      "execution_count": 28,
      "metadata": {
        "hidden": true
      }
    },
    {
      "cell_type": "markdown",
      "source": [
        "＜結果＞\n",
        "* 失業率が1%増加すると，犯罪率は約2.2%上昇する。\n",
        "    * この場合、微分を計算するのではなく、`unem_diff`に`1`を代入して解釈する。\n",
        "* 5％の水準で帰無仮説を棄却できる。\n",
        "* 次の片側検定を行う\n",
        "    * $H_0$: `unem`の係数 $＝0$\n",
        "    * $H_a$: `unem`の係数 $>0$"
      ],
      "metadata": {
        "hidden": true
      }
    },
    {
      "cell_type": "code",
      "source": [
        "t_value = result_1.tvalues['unem_diff']  # t値\n",
        "\n",
        "dof = result_1.df_resid  # 自由度 n-k-1\n",
        "\n",
        "1-t.cdf(t_value, dof)  # p値の計算"
      ],
      "outputs": [
        {
          "output_type": "execute_result",
          "execution_count": 29,
          "data": {
            "text/plain": [
              "0.007594658874412463"
            ]
          },
          "metadata": {}
        }
      ],
      "execution_count": 29,
      "metadata": {
        "hidden": true
      }
    },
    {
      "cell_type": "markdown",
      "source": [
        "片側検定では，1%水準で帰無仮説を棄却できる。"
      ],
      "metadata": {
        "hidden": true
      }
    },
    {
      "cell_type": "markdown",
      "source": [
        "---\n",
        "**＜参考１＞**\n",
        "\n",
        "１階差分推定を使わずに直接OLS推定するとどうなるかを確かめてみる。"
      ],
      "metadata": {
        "hidden": true
      }
    },
    {
      "cell_type": "code",
      "source": [
        "formula_ols_1 = 'crmrte ~ d87 + unem'\n",
        "\n",
        "result_ols_1 = ols(formula_ols_1, crime2).fit()\n",
        "\n",
        "print(result_ols_1.summary().tables[1])"
      ],
      "outputs": [
        {
          "output_type": "stream",
          "name": "stdout",
          "text": [
            "==============================================================================\n",
            "                 coef    std err          t      P>|t|      [0.025      0.975]\n",
            "------------------------------------------------------------------------------\n",
            "Intercept     93.4202     12.739      7.333      0.000      68.107     118.733\n",
            "d87            7.9404      7.975      0.996      0.322      -7.906      23.787\n",
            "unem           0.4265      1.188      0.359      0.720      -1.935       2.788\n",
            "==============================================================================\n"
          ]
        }
      ],
      "execution_count": 30,
      "metadata": {
        "hidden": true
      }
    },
    {
      "cell_type": "markdown",
      "source": [
        "* 失業の効果は過小評価されている。\n",
        "    * 地域の異質性を考慮しなため異質性バイアス（欠落変数バイアス）が発生している。\n",
        "* 統計的有意性も低い（p値は非常に高い）。\n",
        "\n",
        "---\n",
        "**＜参考２＞**\n",
        "\n",
        "参考１の回帰式にはダミー変数`d87`が入っており、年によって失業と犯罪の関係は異なることを捉えている。もしこのダミーが入らないと通常考えられる関係と逆の相関が発生する。"
      ],
      "metadata": {
        "hidden": true
      }
    },
    {
      "cell_type": "code",
      "source": [
        "formula_ols_2 = 'crmrte ~ unem'\n",
        "\n",
        "result_ols_2 = ols(formula_ols_2, crime2).fit()\n",
        "\n",
        "print(result_ols_2.summary().tables[1])"
      ],
      "outputs": [
        {
          "output_type": "stream",
          "name": "stdout",
          "text": [
            "==============================================================================\n",
            "                 coef    std err          t      P>|t|      [0.025      0.975]\n",
            "------------------------------------------------------------------------------\n",
            "Intercept    103.2434      8.059     12.811      0.000      87.233     119.253\n",
            "unem          -0.3077      0.932     -0.330      0.742      -2.159       1.543\n",
            "==============================================================================\n"
          ]
        }
      ],
      "execution_count": 31,
      "metadata": {
        "hidden": true
      }
    },
    {
      "cell_type": "markdown",
      "source": [
        "### 推定：３期間以上の場合"
      ],
      "metadata": {
        "heading_collapsed": true,
        "hidden": true
      }
    },
    {
      "cell_type": "markdown",
      "source": [
        "`crime4`のデータセットを使い，犯罪の決定要因について推定する。"
      ],
      "metadata": {
        "hidden": true
      }
    },
    {
      "cell_type": "code",
      "source": [
        "crime4 = wooldridge.data('crime4')\n",
        "crime4.head()"
      ],
      "outputs": [
        {
          "output_type": "execute_result",
          "execution_count": 32,
          "data": {
            "text/html": [
              "<div>\n",
              "<style scoped>\n",
              "    .dataframe tbody tr th:only-of-type {\n",
              "        vertical-align: middle;\n",
              "    }\n",
              "\n",
              "    .dataframe tbody tr th {\n",
              "        vertical-align: top;\n",
              "    }\n",
              "\n",
              "    .dataframe thead th {\n",
              "        text-align: right;\n",
              "    }\n",
              "</style>\n",
              "<table border=\"1\" class=\"dataframe\">\n",
              "  <thead>\n",
              "    <tr style=\"text-align: right;\">\n",
              "      <th></th>\n",
              "      <th>county</th>\n",
              "      <th>year</th>\n",
              "      <th>crmrte</th>\n",
              "      <th>prbarr</th>\n",
              "      <th>prbconv</th>\n",
              "      <th>prbpris</th>\n",
              "      <th>avgsen</th>\n",
              "      <th>polpc</th>\n",
              "      <th>density</th>\n",
              "      <th>taxpc</th>\n",
              "      <th>...</th>\n",
              "      <th>lpctymle</th>\n",
              "      <th>lpctmin</th>\n",
              "      <th>clcrmrte</th>\n",
              "      <th>clprbarr</th>\n",
              "      <th>clprbcon</th>\n",
              "      <th>clprbpri</th>\n",
              "      <th>clavgsen</th>\n",
              "      <th>clpolpc</th>\n",
              "      <th>cltaxpc</th>\n",
              "      <th>clmix</th>\n",
              "    </tr>\n",
              "  </thead>\n",
              "  <tbody>\n",
              "    <tr>\n",
              "      <th>0</th>\n",
              "      <td>1</td>\n",
              "      <td>81</td>\n",
              "      <td>0.039885</td>\n",
              "      <td>0.289696</td>\n",
              "      <td>0.402062</td>\n",
              "      <td>0.472222</td>\n",
              "      <td>5.61</td>\n",
              "      <td>0.001787</td>\n",
              "      <td>2.307159</td>\n",
              "      <td>25.697630</td>\n",
              "      <td>...</td>\n",
              "      <td>-2.433870</td>\n",
              "      <td>3.006608</td>\n",
              "      <td>NaN</td>\n",
              "      <td>NaN</td>\n",
              "      <td>NaN</td>\n",
              "      <td>NaN</td>\n",
              "      <td>NaN</td>\n",
              "      <td>NaN</td>\n",
              "      <td>NaN</td>\n",
              "      <td>NaN</td>\n",
              "    </tr>\n",
              "    <tr>\n",
              "      <th>1</th>\n",
              "      <td>1</td>\n",
              "      <td>82</td>\n",
              "      <td>0.038345</td>\n",
              "      <td>0.338111</td>\n",
              "      <td>0.433005</td>\n",
              "      <td>0.506993</td>\n",
              "      <td>5.59</td>\n",
              "      <td>0.001767</td>\n",
              "      <td>2.330254</td>\n",
              "      <td>24.874252</td>\n",
              "      <td>...</td>\n",
              "      <td>-2.449038</td>\n",
              "      <td>3.006608</td>\n",
              "      <td>-0.039376</td>\n",
              "      <td>0.154542</td>\n",
              "      <td>0.074143</td>\n",
              "      <td>0.071048</td>\n",
              "      <td>-0.003571</td>\n",
              "      <td>-0.011364</td>\n",
              "      <td>-0.032565</td>\n",
              "      <td>0.030857</td>\n",
              "    </tr>\n",
              "    <tr>\n",
              "      <th>2</th>\n",
              "      <td>1</td>\n",
              "      <td>83</td>\n",
              "      <td>0.030305</td>\n",
              "      <td>0.330449</td>\n",
              "      <td>0.525703</td>\n",
              "      <td>0.479705</td>\n",
              "      <td>5.80</td>\n",
              "      <td>0.001836</td>\n",
              "      <td>2.341801</td>\n",
              "      <td>26.451443</td>\n",
              "      <td>...</td>\n",
              "      <td>-2.464036</td>\n",
              "      <td>3.006608</td>\n",
              "      <td>-0.235316</td>\n",
              "      <td>-0.022922</td>\n",
              "      <td>0.193987</td>\n",
              "      <td>-0.055326</td>\n",
              "      <td>0.036879</td>\n",
              "      <td>0.038413</td>\n",
              "      <td>0.061477</td>\n",
              "      <td>-0.244732</td>\n",
              "    </tr>\n",
              "    <tr>\n",
              "      <th>3</th>\n",
              "      <td>1</td>\n",
              "      <td>84</td>\n",
              "      <td>0.034726</td>\n",
              "      <td>0.362525</td>\n",
              "      <td>0.604706</td>\n",
              "      <td>0.520104</td>\n",
              "      <td>6.89</td>\n",
              "      <td>0.001886</td>\n",
              "      <td>2.346420</td>\n",
              "      <td>26.842348</td>\n",
              "      <td>...</td>\n",
              "      <td>-2.478925</td>\n",
              "      <td>3.006608</td>\n",
              "      <td>0.136180</td>\n",
              "      <td>0.092641</td>\n",
              "      <td>0.140006</td>\n",
              "      <td>0.080857</td>\n",
              "      <td>0.172213</td>\n",
              "      <td>0.026930</td>\n",
              "      <td>0.014670</td>\n",
              "      <td>-0.027331</td>\n",
              "    </tr>\n",
              "    <tr>\n",
              "      <th>4</th>\n",
              "      <td>1</td>\n",
              "      <td>85</td>\n",
              "      <td>0.036573</td>\n",
              "      <td>0.325395</td>\n",
              "      <td>0.578723</td>\n",
              "      <td>0.497059</td>\n",
              "      <td>6.55</td>\n",
              "      <td>0.001924</td>\n",
              "      <td>2.364896</td>\n",
              "      <td>28.140337</td>\n",
              "      <td>...</td>\n",
              "      <td>-2.497306</td>\n",
              "      <td>3.006608</td>\n",
              "      <td>0.051825</td>\n",
              "      <td>-0.108054</td>\n",
              "      <td>-0.043918</td>\n",
              "      <td>-0.045320</td>\n",
              "      <td>-0.050606</td>\n",
              "      <td>0.020199</td>\n",
              "      <td>0.047223</td>\n",
              "      <td>0.172125</td>\n",
              "    </tr>\n",
              "  </tbody>\n",
              "</table>\n",
              "<p>5 rows × 59 columns</p>\n",
              "</div>"
            ],
            "text/plain": [
              "   county  year    crmrte    prbarr   prbconv   prbpris  avgsen     polpc  \\\n",
              "0       1    81  0.039885  0.289696  0.402062  0.472222    5.61  0.001787   \n",
              "1       1    82  0.038345  0.338111  0.433005  0.506993    5.59  0.001767   \n",
              "2       1    83  0.030305  0.330449  0.525703  0.479705    5.80  0.001836   \n",
              "3       1    84  0.034726  0.362525  0.604706  0.520104    6.89  0.001886   \n",
              "4       1    85  0.036573  0.325395  0.578723  0.497059    6.55  0.001924   \n",
              "\n",
              "    density      taxpc  ...  lpctymle   lpctmin  clcrmrte  clprbarr  clprbcon  \\\n",
              "0  2.307159  25.697630  ... -2.433870  3.006608       NaN       NaN       NaN   \n",
              "1  2.330254  24.874252  ... -2.449038  3.006608 -0.039376  0.154542  0.074143   \n",
              "2  2.341801  26.451443  ... -2.464036  3.006608 -0.235316 -0.022922  0.193987   \n",
              "3  2.346420  26.842348  ... -2.478925  3.006608  0.136180  0.092641  0.140006   \n",
              "4  2.364896  28.140337  ... -2.497306  3.006608  0.051825 -0.108054 -0.043918   \n",
              "\n",
              "   clprbpri  clavgsen   clpolpc   cltaxpc     clmix  \n",
              "0       NaN       NaN       NaN       NaN       NaN  \n",
              "1  0.071048 -0.003571 -0.011364 -0.032565  0.030857  \n",
              "2 -0.055326  0.036879  0.038413  0.061477 -0.244732  \n",
              "3  0.080857  0.172213  0.026930  0.014670 -0.027331  \n",
              "4 -0.045320 -0.050606  0.020199  0.047223  0.172125  \n",
              "\n",
              "[5 rows x 59 columns]"
            ]
          },
          "metadata": {}
        }
      ],
      "execution_count": 32,
      "metadata": {
        "hidden": true,
        "tags": [
          "output_scroll"
        ]
      }
    },
    {
      "cell_type": "code",
      "source": [
        "wooldridge.data('crime4', description=True)"
      ],
      "outputs": [
        {
          "output_type": "stream",
          "name": "stdout",
          "text": [
            "name of dataset: crime4\n",
            "no of variables: 59\n",
            "no of observations: 630\n",
            "\n",
            "+----------+---------------------------------+\n",
            "| variable | label                           |\n",
            "+----------+---------------------------------+\n",
            "| county   | county identifier               |\n",
            "| year     | 81 to 87                        |\n",
            "| crmrte   | crimes committed per person     |\n",
            "| prbarr   | 'probability' of arrest         |\n",
            "| prbconv  | 'probability' of conviction     |\n",
            "| prbpris  | 'probability' of prison sentenc |\n",
            "| avgsen   | avg. sentence, days             |\n",
            "| polpc    | police per capita               |\n",
            "| density  | people per sq. mile             |\n",
            "| taxpc    | tax revenue per capita          |\n",
            "| west     | =1 if in western N.C.           |\n",
            "| central  | =1 if in central N.C.           |\n",
            "| urban    | =1 if in SMSA                   |\n",
            "| pctmin80 | perc. minority, 1980            |\n",
            "| wcon     | weekly wage, construction       |\n",
            "| wtuc     | wkly wge, trns, util, commun    |\n",
            "| wtrd     | wkly wge, whlesle, retail trade |\n",
            "| wfir     | wkly wge, fin, ins, real est    |\n",
            "| wser     | wkly wge, service industry      |\n",
            "| wmfg     | wkly wge, manufacturing         |\n",
            "| wfed     | wkly wge, fed employees         |\n",
            "| wsta     | wkly wge, state employees       |\n",
            "| wloc     | wkly wge, local gov emps        |\n",
            "| mix      | offense mix: face-to-face/other |\n",
            "| pctymle  | percent young male              |\n",
            "| d82      | =1 if year == 82                |\n",
            "| d83      | =1 if year == 83                |\n",
            "| d84      | =1 if year == 84                |\n",
            "| d85      | =1 if year == 85                |\n",
            "| d86      | =1 if year == 86                |\n",
            "| d87      | =1 if year == 87                |\n",
            "| lcrmrte  | log(crmrte)                     |\n",
            "| lprbarr  | log(prbarr)                     |\n",
            "| lprbconv | log(prbconv)                    |\n",
            "| lprbpris | log(prbpris)                    |\n",
            "| lavgsen  | log(avgsen)                     |\n",
            "| lpolpc   | log(polpc)                      |\n",
            "| ldensity | log(density)                    |\n",
            "| ltaxpc   | log(taxpc)                      |\n",
            "| lwcon    | log(wcon)                       |\n",
            "| lwtuc    | log(wtuc)                       |\n",
            "| lwtrd    | log(wtrd)                       |\n",
            "| lwfir    | log(wfir)                       |\n",
            "| lwser    | log(wser)                       |\n",
            "| lwmfg    | log(wmfg)                       |\n",
            "| lwfed    | log(wfed)                       |\n",
            "| lwsta    | log(wsta)                       |\n",
            "| lwloc    | log(wloc)                       |\n",
            "| lmix     | log(mix)                        |\n",
            "| lpctymle | log(pctymle)                    |\n",
            "| lpctmin  | log(pctmin)                     |\n",
            "| clcrmrte | lcrmrte - lcrmrte[_n-1]         |\n",
            "| clprbarr | lprbarr - lprbarr[_n-1]         |\n",
            "| clprbcon | lprbconv - lprbconv[_n-1]       |\n",
            "| clprbpri | lprbpri - lprbpri[t-1]          |\n",
            "| clavgsen | lavgsen - lavgsen[t-1]          |\n",
            "| clpolpc  | lpolpc - lpolpc[t-1]            |\n",
            "| cltaxpc  | ltaxpc - ltaxpc[t-1]            |\n",
            "| clmix    | lmix - lmix[t-1]                |\n",
            "+----------+---------------------------------+\n",
            "\n",
            "From C. Cornwell and W. Trumball (1994), “Estimating the Economic\n",
            "Model of Crime with Panel Data,” Review of Economics and Statistics\n",
            "76, 360-366. Professor Cornwell kindly provided the data.\n"
          ]
        }
      ],
      "execution_count": 33,
      "metadata": {
        "hidden": true,
        "tags": [
          "output_scroll"
        ]
      }
    },
    {
      "cell_type": "markdown",
      "source": [
        "＜興味がある変数＞\n",
        "* 被説明変数\n",
        "    * `lcrmrte`：１人当たり犯罪数（対数）\n",
        "* 説明変数\n",
        "    * `lprbarr`：逮捕の確率（対数）\n",
        "    * `lprbconv`：有罪判決の確率（対数; 逮捕を所与として）\n",
        "    * `lprbpris`：刑務所に収監される確率（対数; 有罪判決を所与として）\n",
        "    * `lavgsen`：平均服役期間（対数）\n",
        "    * `lpolpc`：１人当たり警官数（対数）\n",
        "\n",
        "それぞれの変数の差分も用意されているが，以下では列`county`をグループ化しそれらの値を計算する。"
      ],
      "metadata": {
        "hidden": true
      }
    },
    {
      "cell_type": "code",
      "source": [
        "# グループ化\n",
        "crime4_group = crime4.groupby('county')\n",
        "\n",
        "# 差分を計算したい変数\n",
        "var = ['lcrmrte', 'lprbarr', 'lprbconv', 'lprbpris', 'lavgsen', 'lpolpc']\n",
        "\n",
        "# 差分のDataFrame\n",
        "crime4_diff = crime4_group[var].diff()\n",
        "\n",
        "# DataFrameの結合\n",
        "crime4 = pd.merge(crime4, crime4_diff, \n",
        "                  left_index=True, right_index=True,\n",
        "                  suffixes=('','_diff'))"
      ],
      "outputs": [],
      "execution_count": 34,
      "metadata": {
        "hidden": true
      }
    },
    {
      "cell_type": "markdown",
      "source": [
        "---\n",
        "推定式については，2期間モデルと同じように考える。違う点は，7年間の年次データであるため，６つの時間ダミー変数を入れることだけである。"
      ],
      "metadata": {
        "hidden": true
      }
    },
    {
      "cell_type": "code",
      "source": [
        "formula_2 = 'lcrmrte_diff ~ d83 + d84 + d85 + d86 + d87 + \\\n",
        "                            lprbarr_diff + lprbconv_diff + \\\n",
        "                            lprbpris_diff + lavgsen_diff + \\\n",
        "                            lpolpc_diff'"
      ],
      "outputs": [],
      "execution_count": 35,
      "metadata": {
        "hidden": true
      }
    },
    {
      "cell_type": "code",
      "source": [
        "result_2 = ols(formula_2, crime4).fit()\n",
        "\n",
        "print(result_2.summary().tables[1])"
      ],
      "outputs": [
        {
          "output_type": "stream",
          "name": "stdout",
          "text": [
            "=================================================================================\n",
            "                    coef    std err          t      P>|t|      [0.025      0.975]\n",
            "---------------------------------------------------------------------------------\n",
            "Intercept         0.0077      0.017      0.452      0.651      -0.026       0.041\n",
            "d83              -0.0999      0.024     -4.179      0.000      -0.147      -0.053\n",
            "d84              -0.0479      0.024     -2.040      0.042      -0.094      -0.002\n",
            "d85              -0.0046      0.023     -0.196      0.845      -0.051       0.042\n",
            "d86               0.0275      0.024      1.139      0.255      -0.020       0.075\n",
            "d87               0.0408      0.024      1.672      0.095      -0.007       0.089\n",
            "lprbarr_diff     -0.3275      0.030    -10.924      0.000      -0.386      -0.269\n",
            "lprbconv_diff    -0.2381      0.018    -13.058      0.000      -0.274      -0.202\n",
            "lprbpris_diff    -0.1650      0.026     -6.356      0.000      -0.216      -0.114\n",
            "lavgsen_diff     -0.0218      0.022     -0.985      0.325      -0.065       0.022\n",
            "lpolpc_diff       0.3984      0.027     14.821      0.000       0.346       0.451\n",
            "=================================================================================\n"
          ]
        }
      ],
      "execution_count": 36,
      "metadata": {
        "hidden": true
      }
    },
    {
      "cell_type": "markdown",
      "source": [
        "＜結果＞\n",
        "* `lprbarr`（逮捕の確率），`lprbconv`（有罪判決の確率），`lprbpris`（収監確率），`lavgsen`（平均服役期間）は全て予想通りの結果。\n",
        "* しかし平均服役期間はの統計的優位性は低い。（犯罪予防効果は低い？）\n",
        "* `lpolpc`（１人当たり警官数）の効果は正\n",
        "    * 警官が多くなると，犯罪数が同じであっても犯罪の報告は増える？\n",
        "    * 同時性バイアス？"
      ],
      "metadata": {
        "hidden": true
      }
    }
  ],
  "metadata": {
    "celltoolbar": "Tags",
    "kernelspec": {
      "display_name": "latest",
      "language": "python",
      "name": "latest"
    },
    "language_info": {
      "codemirror_mode": {
        "name": "ipython",
        "version": 3
      },
      "file_extension": ".py",
      "mimetype": "text/x-python",
      "name": "python",
      "nbconvert_exporter": "python",
      "pygments_lexer": "ipython3",
      "version": "3.8.2"
    },
    "toc": {
      "toc_position": {},
      "skip_h1_title": false,
      "number_sections": true,
      "title_cell": "Table of Contents",
      "toc_window_display": false,
      "base_numbering": 1,
      "toc_section_display": true,
      "title_sidebar": "Contents",
      "toc_cell": false,
      "nav_menu": {},
      "sideBar": true
    },
    "nteract": {
      "version": "0.23.3"
    }
  },
  "nbformat": 4,
  "nbformat_minor": 2
}