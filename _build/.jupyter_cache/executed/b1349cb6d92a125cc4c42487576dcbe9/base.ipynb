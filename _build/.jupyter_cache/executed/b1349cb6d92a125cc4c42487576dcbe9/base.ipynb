{
 "cells": [
  {
   "cell_type": "code",
   "execution_count": 1,
   "metadata": {},
   "outputs": [],
   "source": [
    "from scipy.stats import t, f\n",
    "import numpy as np\n",
    "import pandas as pd\n",
    "from statsmodels.formula.api import ols\n",
    "import matplotlib.pyplot as plt\n",
    "import wooldridge"
   ]
  },
  {
   "cell_type": "code",
   "execution_count": 2,
   "metadata": {
    "hidden": true
   },
   "outputs": [
    {
     "data": {
      "text/plain": [
       "1.7108820799094275"
      ]
     },
     "execution_count": 2,
     "metadata": {},
     "output_type": "execute_result"
    }
   ],
   "source": [
    "a = 0.05\n",
    "dof = 30-5-1\n",
    "t.ppf(1-a, dof)  # t.ppfについてはscipy.statsを参照"
   ]
  },
  {
   "cell_type": "code",
   "execution_count": 3,
   "metadata": {
    "hidden": true
   },
   "outputs": [
    {
     "data": {
      "text/plain": [
       "-1.7108820799094282"
      ]
     },
     "execution_count": 3,
     "metadata": {},
     "output_type": "execute_result"
    }
   ],
   "source": [
    "t.ppf(a, dof)"
   ]
  },
  {
   "cell_type": "code",
   "execution_count": 4,
   "metadata": {
    "hidden": true
   },
   "outputs": [
    {
     "data": {
      "text/plain": [
       "2.0638985616280205"
      ]
     },
     "execution_count": 4,
     "metadata": {},
     "output_type": "execute_result"
    }
   ],
   "source": [
    "t.ppf(1-a/2, dof)"
   ]
  },
  {
   "cell_type": "code",
   "execution_count": 5,
   "metadata": {
    "hidden": true
   },
   "outputs": [
    {
     "data": {
      "text/plain": [
       "0.10297414905105884"
      ]
     },
     "execution_count": 5,
     "metadata": {},
     "output_type": "execute_result"
    }
   ],
   "source": [
    "1-t.cdf(1.3, dof)   # t.cdfについてはscipy.statsを参照"
   ]
  },
  {
   "cell_type": "code",
   "execution_count": 6,
   "metadata": {
    "hidden": true
   },
   "outputs": [
    {
     "data": {
      "text/plain": [
       "0.02321075109161751"
      ]
     },
     "execution_count": 6,
     "metadata": {},
     "output_type": "execute_result"
    }
   ],
   "source": [
    "t.cdf(-2.1, dof)"
   ]
  },
  {
   "cell_type": "code",
   "execution_count": 7,
   "metadata": {
    "hidden": true
   },
   "outputs": [
    {
     "data": {
      "text/plain": [
       "0.02321075109161752"
      ]
     },
     "execution_count": 7,
     "metadata": {},
     "output_type": "execute_result"
    }
   ],
   "source": [
    "1-t.cdf(2.1, dof)"
   ]
  },
  {
   "cell_type": "code",
   "execution_count": 8,
   "metadata": {
    "hidden": true,
    "tags": [
     "output_scroll"
    ]
   },
   "outputs": [
    {
     "name": "stdout",
     "output_type": "stream",
     "text": [
      "name of dataset: gpa1\n",
      "no of variables: 29\n",
      "no of observations: 141\n",
      "\n",
      "+----------+--------------------------------+\n",
      "| variable | label                          |\n",
      "+----------+--------------------------------+\n",
      "| age      | in years                       |\n",
      "| soph     | =1 if sophomore                |\n",
      "| junior   | =1 if junior                   |\n",
      "| senior   | =1 if senior                   |\n",
      "| senior5  | =1 if fifth year senior        |\n",
      "| male     | =1 if male                     |\n",
      "| campus   | =1 if live on campus           |\n",
      "| business | =1 if business major           |\n",
      "| engineer | =1 if engineering major        |\n",
      "| colGPA   | MSU GPA                        |\n",
      "| hsGPA    | high school GPA                |\n",
      "| ACT      | 'achievement' score            |\n",
      "| job19    | =1 if job <= 19 hours          |\n",
      "| job20    | =1 if job >= 20 hours          |\n",
      "| drive    | =1 if drive to campus          |\n",
      "| bike     | =1 if bicycle to campus        |\n",
      "| walk     | =1 if walk to campus           |\n",
      "| voluntr  | =1 if do volunteer work        |\n",
      "| PC       | =1 of pers computer at sch     |\n",
      "| greek    | =1 if fraternity or sorority   |\n",
      "| car      | =1 if own car                  |\n",
      "| siblings | =1 if have siblings            |\n",
      "| bgfriend | =1 if boy- or girlfriend       |\n",
      "| clubs    | =1 if belong to MSU club       |\n",
      "| skipped  | avg lectures missed per week   |\n",
      "| alcohol  | avg # days per week drink alc. |\n",
      "| gradMI   | =1 if Michigan high school     |\n",
      "| fathcoll | =1 if father college grad      |\n",
      "| mothcoll | =1 if mother college grad      |\n",
      "+----------+--------------------------------+\n",
      "\n",
      "Christopher Lemmon, a former MSU undergraduate, collected these data\n",
      "from a survey he took of MSU students in Fall 1994.\n"
     ]
    }
   ],
   "source": [
    "gpa = wooldridge.data('gpa1')\n",
    "wooldridge.data('gpa1',description=True)"
   ]
  },
  {
   "cell_type": "code",
   "execution_count": 9,
   "metadata": {
    "hidden": true
   },
   "outputs": [],
   "source": [
    "formula_gpa = 'colGPA ~ hsGPA + ACT + skipped'\n",
    "res_gpa = ols(formula_gpa, data=gpa).fit()"
   ]
  },
  {
   "cell_type": "code",
   "execution_count": 10,
   "metadata": {
    "hidden": true
   },
   "outputs": [
    {
     "data": {
      "text/plain": [
       "Intercept    4.191039\n",
       "hsGPA        4.396260\n",
       "ACT          1.393319\n",
       "skipped     -3.196840\n",
       "dtype: float64"
      ]
     },
     "execution_count": 10,
     "metadata": {},
     "output_type": "execute_result"
    }
   ],
   "source": [
    "res_gpa.tvalues"
   ]
  },
  {
   "cell_type": "code",
   "execution_count": 11,
   "metadata": {
    "hidden": true
   },
   "outputs": [
    {
     "data": {
      "text/plain": [
       "Intercept     True\n",
       "hsGPA         True\n",
       "ACT          False\n",
       "skipped       True\n",
       "dtype: bool"
      ]
     },
     "execution_count": 11,
     "metadata": {},
     "output_type": "execute_result"
    }
   ],
   "source": [
    "def significance_check(res, a):\n",
    "    \"\"\"\n",
    "    res = statsmodelsによるOLS推定結果\n",
    "    a = 有意水準\n",
    "    H0棄却の場合はTrueを返す\n",
    "    （注意）定数項あり\n",
    "    \"\"\"\n",
    "    dof = res.nobs-res.df_model-1\n",
    "    result = abs(res.tvalues.values) > t.ppf(1-a/2, dof)\n",
    "    return pd.Series(result, index=res.tvalues.index)\n",
    "\n",
    "significance_check(res_gpa, 0.05)"
   ]
  },
  {
   "cell_type": "code",
   "execution_count": 12,
   "metadata": {
    "hidden": true
   },
   "outputs": [
    {
     "data": {
      "text/plain": [
       "Intercept    0.000050\n",
       "hsGPA        0.000022\n",
       "ACT          0.165780\n",
       "skipped      0.001725\n",
       "dtype: float64"
      ]
     },
     "execution_count": 12,
     "metadata": {},
     "output_type": "execute_result"
    }
   ],
   "source": [
    "res_gpa.pvalues"
   ]
  },
  {
   "cell_type": "code",
   "execution_count": 13,
   "metadata": {
    "hidden": true
   },
   "outputs": [
    {
     "name": "stdout",
     "output_type": "stream",
     "text": [
      "==============================================================================\n",
      "                 coef    std err          t      P>|t|      [0.025      0.975]\n",
      "------------------------------------------------------------------------------\n",
      "Intercept      1.3896      0.332      4.191      0.000       0.734       2.045\n",
      "hsGPA          0.4118      0.094      4.396      0.000       0.227       0.597\n",
      "ACT            0.0147      0.011      1.393      0.166      -0.006       0.036\n",
      "skipped       -0.0831      0.026     -3.197      0.002      -0.135      -0.032\n",
      "==============================================================================\n"
     ]
    }
   ],
   "source": [
    "print(res_gpa.summary().tables[1])"
   ]
  },
  {
   "cell_type": "code",
   "execution_count": 14,
   "metadata": {
    "hidden": true
   },
   "outputs": [
    {
     "data": {
      "text/plain": [
       "Intercept    0.331554\n",
       "hsGPA        0.093674\n",
       "ACT          0.010565\n",
       "skipped      0.025999\n",
       "dtype: float64"
      ]
     },
     "execution_count": 14,
     "metadata": {},
     "output_type": "execute_result"
    }
   ],
   "source": [
    "res_gpa.bse"
   ]
  },
  {
   "cell_type": "code",
   "execution_count": 15,
   "metadata": {
    "hidden": true
   },
   "outputs": [
    {
     "name": "stdout",
     "output_type": "stream",
     "text": [
      "                  0         1\n",
      "Intercept  0.733930  2.045178\n",
      "hsGPA      0.226582  0.597050\n",
      "ACT       -0.006171  0.035612\n",
      "skipped   -0.134523 -0.031703\n"
     ]
    }
   ],
   "source": [
    "print(res_gpa.conf_int())"
   ]
  },
  {
   "cell_type": "code",
   "execution_count": 16,
   "metadata": {
    "hidden": true
   },
   "outputs": [
    {
     "name": "stdout",
     "output_type": "stream",
     "text": [
      "                  0         1\n",
      "Intercept  0.523472  2.255635\n",
      "hsGPA      0.167121  0.656511\n",
      "ACT       -0.012877  0.042318\n",
      "skipped   -0.151026 -0.015200\n"
     ]
    }
   ],
   "source": [
    "print(res_gpa.conf_int(alpha=0.01))"
   ]
  },
  {
   "cell_type": "code",
   "execution_count": 17,
   "metadata": {
    "hidden": true
   },
   "outputs": [
    {
     "data": {
      "image/png": "[encoded data removed]",
      "text/plain": [
       "<Figure size 432x288 with 1 Axes>"
      ]
     },
     "metadata": {
      "needs_background": "light"
     },
     "output_type": "display_data"
    }
   ],
   "source": [
    "coef = res_gpa.params  #  推定値\n",
    "varname = coef.index  # 変数名\n",
    "ci = res_gpa.conf_int()  # 信頼区間を　ci　に入れる\n",
    "error = ci.iloc[:,1]-coef  # 信頼区間の幅の半分\n",
    "\n",
    "plt.errorbar(x=coef[1:], y=varname[1:], xerr=error[1:], fmt='o',capsize=5)  # 切片以外のエラーバー\n",
    "plt.axvline(0, color='red')  # 垂直線\n",
    "pass"
   ]
  },
  {
   "cell_type": "code",
   "execution_count": 18,
   "metadata": {
    "hidden": true,
    "tags": [
     "output_scroll"
    ]
   },
   "outputs": [
    {
     "name": "stdout",
     "output_type": "stream",
     "text": [
      "name of dataset: mlb1\n",
      "no of variables: 47\n",
      "no of observations: 353\n",
      "\n",
      "+----------+----------------------------+\n",
      "| variable | label                      |\n",
      "+----------+----------------------------+\n",
      "| salary   | 1993 season salary         |\n",
      "| teamsal  | team payroll               |\n",
      "| nl       | =1 if national league      |\n",
      "| years    | years in major leagues     |\n",
      "| games    | career games played        |\n",
      "| atbats   | career at bats             |\n",
      "| runs     | career runs scored         |\n",
      "| hits     | career hits                |\n",
      "| doubles  | career doubles             |\n",
      "| triples  | career triples             |\n",
      "| hruns    | career home runs           |\n",
      "| rbis     | career runs batted in      |\n",
      "| bavg     | career batting average     |\n",
      "| bb       | career walks               |\n",
      "| so       | career strike outs         |\n",
      "| sbases   | career stolen bases        |\n",
      "| fldperc  | career fielding perc       |\n",
      "| frstbase | = 1 if first base          |\n",
      "| scndbase | =1 if second base          |\n",
      "| shrtstop | =1 if shortstop            |\n",
      "| thrdbase | =1 if third base           |\n",
      "| outfield | =1 if outfield             |\n",
      "| catcher  | =1 if catcher              |\n",
      "| yrsallst | years as all-star          |\n",
      "| hispan   | =1 if hispanic             |\n",
      "| black    | =1 if black                |\n",
      "| whitepop | white pop. in city         |\n",
      "| blackpop | black pop. in city         |\n",
      "| hisppop  | hispanic pop. in city      |\n",
      "| pcinc    | city per capita income     |\n",
      "| gamesyr  | games per year in league   |\n",
      "| hrunsyr  | home runs per year         |\n",
      "| atbatsyr | at bats per year           |\n",
      "| allstar  | perc. of years an all-star |\n",
      "| slugavg  | career slugging average    |\n",
      "| rbisyr   | rbis per year              |\n",
      "| sbasesyr | stolen bases per year      |\n",
      "| runsyr   | runs scored per year       |\n",
      "| percwhte | percent white in city      |\n",
      "| percblck | percent black in city      |\n",
      "| perchisp | percent hispanic in city   |\n",
      "| blckpb   | black*percblck             |\n",
      "| hispph   | hispan*perchisp            |\n",
      "| whtepw   | white*percwhte             |\n",
      "| blckph   | black*perchisp             |\n",
      "| hisppb   | hispan*percblck            |\n",
      "| lsalary  | log(salary)                |\n",
      "+----------+----------------------------+\n",
      "\n",
      "Collected by G. Mark Holmes, a former MSU undergraduate, for a term\n",
      "project. The salary data were obtained from the New York Times, April\n",
      "11, 1993. The baseball statistics are from The Baseball Encyclopedia,\n",
      "9th edition, and the city population figures are from the Statistical\n",
      "Abstract of the United States.\n"
     ]
    }
   ],
   "source": [
    "mlb1 = wooldridge.data('mlb1')\n",
    "wooldridge.data('mlb1',description=True)"
   ]
  },
  {
   "cell_type": "code",
   "execution_count": 19,
   "metadata": {
    "hidden": true
   },
   "outputs": [],
   "source": [
    "formula_0 = 'np.log(salary) ~ years + gamesyr + bavg + hrunsyr + rbisyr'\n",
    "res_0 = ols(formula_0, data=mlb1).fit()"
   ]
  },
  {
   "cell_type": "code",
   "execution_count": 20,
   "metadata": {
    "hidden": true
   },
   "outputs": [],
   "source": [
    "formula_1 = 'np.log(salary) ~ years + gamesyr'\n",
    "res_1 = ols(formula_1, data=mlb1).fit()"
   ]
  },
  {
   "cell_type": "code",
   "execution_count": 21,
   "metadata": {
    "hidden": true
   },
   "outputs": [
    {
     "data": {
      "text/plain": [
       "9.55025352195195"
      ]
     },
     "execution_count": 21,
     "metadata": {},
     "output_type": "execute_result"
    }
   ],
   "source": [
    "# 決定係数\n",
    "r2_0 = res_0.rsquared\n",
    "r2_1 = res_1.rsquared\n",
    "\n",
    "n = res_0.nobs  # 標本の大きさ\n",
    "k = res_0.df_model  # 定数項以外の説明変数の数\n",
    "q = 3  # 制約式の数\n",
    "\n",
    "# F値:\n",
    "F = (r2_0 - r2_1) / (1 - r2_0) * (n - k - 1) / q\n",
    "F"
   ]
  },
  {
   "cell_type": "code",
   "execution_count": 22,
   "metadata": {
    "hidden": true
   },
   "outputs": [
    {
     "data": {
      "text/plain": [
       "2.6306414891156504"
      ]
     },
     "execution_count": 22,
     "metadata": {},
     "output_type": "execute_result"
    }
   ],
   "source": [
    "a = 0.05\n",
    "f.ppf(1-a, dfn=q, dfd=n-k-1)   # f.ppfについてはscipy.statsを参照"
   ]
  },
  {
   "cell_type": "code",
   "execution_count": 23,
   "metadata": {
    "hidden": true
   },
   "outputs": [
    {
     "data": {
      "text/plain": [
       "4.473708139829391e-06"
      ]
     },
     "execution_count": 23,
     "metadata": {},
     "output_type": "execute_result"
    }
   ],
   "source": [
    "1-f.cdf(F, dfn=q, dfd=n-k-1)"
   ]
  },
  {
   "cell_type": "code",
   "execution_count": 24,
   "metadata": {
    "hidden": true
   },
   "outputs": [],
   "source": [
    "hypotheses = 'bavg = 0, hrunsyr = 0, rbisyr = 0'"
   ]
  },
  {
   "cell_type": "code",
   "execution_count": 25,
   "metadata": {
    "hidden": true
   },
   "outputs": [],
   "source": [
    "res_f_test = res_0.f_test(hypotheses)"
   ]
  },
  {
   "cell_type": "code",
   "execution_count": 26,
   "metadata": {
    "hidden": true
   },
   "outputs": [
    {
     "data": {
      "text/plain": [
       "'<F test: F=array([[9.55025352]]), p=4.4737081398389455e-06, df_denom=347, df_num=3>'"
      ]
     },
     "execution_count": 26,
     "metadata": {},
     "output_type": "execute_result"
    }
   ],
   "source": [
    "res_f_test.summary()"
   ]
  },
  {
   "cell_type": "code",
   "execution_count": 27,
   "metadata": {
    "hidden": true
   },
   "outputs": [
    {
     "data": {
      "text/plain": [
       "117.0603200852145"
      ]
     },
     "execution_count": 27,
     "metadata": {},
     "output_type": "execute_result"
    }
   ],
   "source": [
    "res_0.fvalue"
   ]
  },
  {
   "cell_type": "code",
   "execution_count": 28,
   "metadata": {
    "hidden": true
   },
   "outputs": [
    {
     "data": {
      "text/plain": [
       "2.9380422932206435e-72"
      ]
     },
     "execution_count": 28,
     "metadata": {},
     "output_type": "execute_result"
    }
   ],
   "source": [
    "res_0.f_pvalue"
   ]
  },
  {
   "cell_type": "code",
   "execution_count": 29,
   "metadata": {
    "hidden": true
   },
   "outputs": [
    {
     "name": "stdout",
     "output_type": "stream",
     "text": [
      "                            OLS Regression Results                            \n",
      "==============================================================================\n",
      "Dep. Variable:         np.log(salary)   R-squared:                       0.628\n",
      "Model:                            OLS   Adj. R-squared:                  0.622\n",
      "Method:                 Least Squares   F-statistic:                     117.1\n",
      "Date:                Mon, 06 Jul 2020   Prob (F-statistic):           2.94e-72\n",
      "Time:                        12:00:00   Log-Likelihood:                -385.11\n",
      "No. Observations:                 353   AIC:                             782.2\n",
      "Df Residuals:                     347   BIC:                             805.4\n",
      "Df Model:                           5                                         \n",
      "Covariance Type:            nonrobust                                         \n",
      "==============================================================================\n",
      "                 coef    std err          t      P>|t|      [0.025      0.975]\n",
      "------------------------------------------------------------------------------\n",
      "Intercept     11.1924      0.289     38.752      0.000      10.624      11.760\n",
      "years          0.0689      0.012      5.684      0.000       0.045       0.093\n",
      "gamesyr        0.0126      0.003      4.742      0.000       0.007       0.018\n",
      "bavg           0.0010      0.001      0.887      0.376      -0.001       0.003\n",
      "hrunsyr        0.0144      0.016      0.899      0.369      -0.017       0.046\n",
      "rbisyr         0.0108      0.007      1.500      0.134      -0.003       0.025\n",
      "==============================================================================\n",
      "Omnibus:                        6.816   Durbin-Watson:                   1.265\n",
      "Prob(Omnibus):                  0.033   Jarque-Bera (JB):               10.197\n",
      "Skew:                          -0.068   Prob(JB):                      0.00610\n",
      "Kurtosis:                       3.821   Cond. No.                     2.09e+03\n",
      "==============================================================================\n",
      "\n",
      "Warnings:\n",
      "[1] Standard Errors assume that the covariance matrix of the errors is correctly specified.\n",
      "[2] The condition number is large, 2.09e+03. This might indicate that there are\n",
      "strong multicollinearity or other numerical problems.\n"
     ]
    }
   ],
   "source": [
    "print(res_0.summary())"
   ]
  }
 ],
 "metadata": {
  "celltoolbar": "Tags",
  "kernel_info": {
   "name": "py4etrics"
  },
  "kernelspec": {
   "display_name": "latest",
   "language": "python",
   "name": "latest"
  },
  "language_info": {
   "codemirror_mode": {
    "name": "ipython",
    "version": 3
   },
   "file_extension": ".py",
   "mimetype": "text/x-python",
   "name": "python",
   "nbconvert_exporter": "python",
   "pygments_lexer": "ipython3",
   "version": "3.8.3"
  },
  "nteract": {
   "version": "0.15.0"
  },
  "toc": {
   "base_numbering": 1,
   "nav_menu": {},
   "number_sections": true,
   "sideBar": true,
   "skip_h1_title": false,
   "title_cell": "Table of Contents",
   "title_sidebar": "Contents",
   "toc_cell": false,
   "toc_position": {},
   "toc_section_display": true,
   "toc_window_display": false
  }
 },
 "nbformat": 4,
 "nbformat_minor": 2
}