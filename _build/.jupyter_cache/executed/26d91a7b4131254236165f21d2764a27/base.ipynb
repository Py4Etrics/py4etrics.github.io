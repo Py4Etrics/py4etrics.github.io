{
 "cells": [
  {
   "cell_type": "code",
   "execution_count": 1,
   "metadata": {},
   "outputs": [],
   "source": [
    "import numpy as np\n",
    "import pandas as pd\n",
    "from scipy.stats import norm\n",
    "import matplotlib.pyplot as plt\n",
    "import wooldridge  # wooldridgeのデータ・パッケージ\n",
    "from statsmodels.formula.api import ols  # 回帰分析のパッケージ\n",
    "from see import see  # 属性を調べるパッケージ\n",
    "from numba import njit  # シミュレーションの計算を高速化する"
   ]
  },
  {
   "cell_type": "code",
   "execution_count": 2,
   "metadata": {
    "hidden": true
   },
   "outputs": [
    {
     "name": "stdout",
     "output_type": "stream",
     "text": [
      "  J.M. Wooldridge (2016) Introductory Econometrics: A Modern Approach,\n",
      "  Cengage Learning, 6th edition.\n",
      "\n",
      "  401k       401ksubs    admnrev       affairs     airfare\n",
      "  alcohol    apple       approval      athlet1     athlet2\n",
      "  attend     audit       barium        beauty      benefits\n",
      "  beveridge  big9salary  bwght         bwght2      campus\n",
      "  card       catholic    cement        census2000  ceosal1\n",
      "  ceosal2    charity     consump       corn        countymurders\n",
      "  cps78_85   cps91       crime1        crime2      crime3\n",
      "  crime4     discrim     driving       earns       econmath\n",
      "  elem94_95  engin       expendshares  ezanders    ezunem\n",
      "  fair       fertil1     fertil2       fertil3     fish\n",
      "  fringe     gpa1        gpa2          gpa3        happiness\n",
      "  hprice1    hprice2     hprice3       hseinv      htv\n",
      "  infmrt     injury      intdef        intqrt      inven\n",
      "  jtrain     jtrain2     jtrain3       kielmc      lawsch85\n",
      "  loanapp    lowbrth     mathpnl       meap00_01   meap01\n",
      "  meap93     meapsingle  minwage       mlb1        mroz\n",
      "  murder     nbasal      nyse          okun        openness\n",
      "  pension    phillips    pntsprd       prison      prminwge\n",
      "  rdchem     rdtelec     recid         rental      return\n",
      "  saving     sleep75     slp75_81      smoke       traffic1\n",
      "  traffic2   twoyear     volat         vote1       vote2\n",
      "  voucher    wage1       wage2         wagepan     wageprc\n",
      "  wine\n"
     ]
    }
   ],
   "source": [
    "wooldridge.data()"
   ]
  },
  {
   "cell_type": "code",
   "execution_count": 3,
   "metadata": {
    "hidden": true
   },
   "outputs": [],
   "source": [
    "df = wooldridge.data('wage1')"
   ]
  },
  {
   "cell_type": "code",
   "execution_count": 4,
   "metadata": {
    "hidden": true
   },
   "outputs": [
    {
     "name": "stdout",
     "output_type": "stream",
     "text": [
      "name of dataset: wage1\n",
      "no of variables: 24\n",
      "no of observations: 526\n",
      "\n",
      "+----------+---------------------------------+\n",
      "| variable | label                           |\n",
      "+----------+---------------------------------+\n",
      "| wage     | average hourly earnings         |\n",
      "| educ     | years of education              |\n",
      "| exper    | years potential experience      |\n",
      "| tenure   | years with current employer     |\n",
      "| nonwhite | =1 if nonwhite                  |\n",
      "| female   | =1 if female                    |\n",
      "| married  | =1 if married                   |\n",
      "| numdep   | number of dependents            |\n",
      "| smsa     | =1 if live in SMSA              |\n",
      "| northcen | =1 if live in north central U.S |\n",
      "| south    | =1 if live in southern region   |\n",
      "| west     | =1 if live in western region    |\n",
      "| construc | =1 if work in construc. indus.  |\n",
      "| ndurman  | =1 if in nondur. manuf. indus.  |\n",
      "| trcommpu | =1 if in trans, commun, pub ut  |\n",
      "| trade    | =1 if in wholesale or retail    |\n",
      "| services | =1 if in services indus.        |\n",
      "| profserv | =1 if in prof. serv. indus.     |\n",
      "| profocc  | =1 if in profess. occupation    |\n",
      "| clerocc  | =1 if in clerical occupation    |\n",
      "| servocc  | =1 if in service occupation     |\n",
      "| lwage    | log(wage)                       |\n",
      "| expersq  | exper^2                         |\n",
      "| tenursq  | tenure^2                        |\n",
      "+----------+---------------------------------+\n",
      "\n",
      "These are data from the 1976 Current Population Survey, collected by\n",
      "Henry Farber when he and I were colleagues at MIT in 1988.\n"
     ]
    }
   ],
   "source": [
    "wooldridge.data('wage1',description=True)"
   ]
  },
  {
   "cell_type": "code",
   "execution_count": 5,
   "metadata": {
    "hidden": true
   },
   "outputs": [],
   "source": [
    "df = df.loc[:,['wage','educ']]"
   ]
  },
  {
   "cell_type": "code",
   "execution_count": 6,
   "metadata": {
    "hidden": true
   },
   "outputs": [
    {
     "data": {
      "text/html": [
       "<div>\n",
       "<style scoped>\n",
       "    .dataframe tbody tr th:only-of-type {\n",
       "        vertical-align: middle;\n",
       "    }\n",
       "\n",
       "    .dataframe tbody tr th {\n",
       "        vertical-align: top;\n",
       "    }\n",
       "\n",
       "    .dataframe thead th {\n",
       "        text-align: right;\n",
       "    }\n",
       "</style>\n",
       "<table border=\"1\" class=\"dataframe\">\n",
       "  <thead>\n",
       "    <tr style=\"text-align: right;\">\n",
       "      <th></th>\n",
       "      <th>wage</th>\n",
       "      <th>educ</th>\n",
       "    </tr>\n",
       "  </thead>\n",
       "  <tbody>\n",
       "    <tr>\n",
       "      <th>0</th>\n",
       "      <td>3.10</td>\n",
       "      <td>11</td>\n",
       "    </tr>\n",
       "    <tr>\n",
       "      <th>1</th>\n",
       "      <td>3.24</td>\n",
       "      <td>12</td>\n",
       "    </tr>\n",
       "    <tr>\n",
       "      <th>2</th>\n",
       "      <td>3.00</td>\n",
       "      <td>11</td>\n",
       "    </tr>\n",
       "  </tbody>\n",
       "</table>\n",
       "</div>"
      ],
      "text/plain": [
       "   wage  educ\n",
       "0  3.10    11\n",
       "1  3.24    12\n",
       "2  3.00    11"
      ]
     },
     "execution_count": 6,
     "metadata": {},
     "output_type": "execute_result"
    }
   ],
   "source": [
    "df.head(3)"
   ]
  },
  {
   "cell_type": "code",
   "execution_count": 7,
   "metadata": {
    "hidden": true
   },
   "outputs": [
    {
     "name": "stdout",
     "output_type": "stream",
     "text": [
      "<class 'pandas.core.frame.DataFrame'>\n",
      "RangeIndex: 526 entries, 0 to 525\n",
      "Data columns (total 2 columns):\n",
      " #   Column  Non-Null Count  Dtype  \n",
      "---  ------  --------------  -----  \n",
      " 0   wage    526 non-null    float64\n",
      " 1   educ    526 non-null    int64  \n",
      "dtypes: float64(1), int64(1)\n",
      "memory usage: 8.3 KB\n"
     ]
    }
   ],
   "source": [
    "df.info()"
   ]
  },
  {
   "cell_type": "code",
   "execution_count": 8,
   "metadata": {
    "hidden": true
   },
   "outputs": [
    {
     "data": {
      "text/html": [
       "<div>\n",
       "<style scoped>\n",
       "    .dataframe tbody tr th:only-of-type {\n",
       "        vertical-align: middle;\n",
       "    }\n",
       "\n",
       "    .dataframe tbody tr th {\n",
       "        vertical-align: top;\n",
       "    }\n",
       "\n",
       "    .dataframe thead th {\n",
       "        text-align: right;\n",
       "    }\n",
       "</style>\n",
       "<table border=\"1\" class=\"dataframe\">\n",
       "  <thead>\n",
       "    <tr style=\"text-align: right;\">\n",
       "      <th></th>\n",
       "      <th>wage</th>\n",
       "      <th>educ</th>\n",
       "    </tr>\n",
       "  </thead>\n",
       "  <tbody>\n",
       "    <tr>\n",
       "      <th>count</th>\n",
       "      <td>526.000000</td>\n",
       "      <td>526.000000</td>\n",
       "    </tr>\n",
       "    <tr>\n",
       "      <th>mean</th>\n",
       "      <td>5.896103</td>\n",
       "      <td>12.562738</td>\n",
       "    </tr>\n",
       "    <tr>\n",
       "      <th>std</th>\n",
       "      <td>3.693086</td>\n",
       "      <td>2.769022</td>\n",
       "    </tr>\n",
       "    <tr>\n",
       "      <th>min</th>\n",
       "      <td>0.530000</td>\n",
       "      <td>0.000000</td>\n",
       "    </tr>\n",
       "    <tr>\n",
       "      <th>25%</th>\n",
       "      <td>3.330000</td>\n",
       "      <td>12.000000</td>\n",
       "    </tr>\n",
       "    <tr>\n",
       "      <th>50%</th>\n",
       "      <td>4.650000</td>\n",
       "      <td>12.000000</td>\n",
       "    </tr>\n",
       "    <tr>\n",
       "      <th>75%</th>\n",
       "      <td>6.880000</td>\n",
       "      <td>14.000000</td>\n",
       "    </tr>\n",
       "    <tr>\n",
       "      <th>max</th>\n",
       "      <td>24.980000</td>\n",
       "      <td>18.000000</td>\n",
       "    </tr>\n",
       "  </tbody>\n",
       "</table>\n",
       "</div>"
      ],
      "text/plain": [
       "             wage        educ\n",
       "count  526.000000  526.000000\n",
       "mean     5.896103   12.562738\n",
       "std      3.693086    2.769022\n",
       "min      0.530000    0.000000\n",
       "25%      3.330000   12.000000\n",
       "50%      4.650000   12.000000\n",
       "75%      6.880000   14.000000\n",
       "max     24.980000   18.000000"
      ]
     },
     "execution_count": 8,
     "metadata": {},
     "output_type": "execute_result"
    }
   ],
   "source": [
    "df.describe()"
   ]
  },
  {
   "cell_type": "code",
   "execution_count": 9,
   "metadata": {
    "hidden": true
   },
   "outputs": [
    {
     "data": {
      "text/plain": [
       "array([[13.63888436,  4.150864  ],\n",
       "       [ 4.150864  ,  7.66748506]])"
      ]
     },
     "execution_count": 9,
     "metadata": {},
     "output_type": "execute_result"
    }
   ],
   "source": [
    "mat_wage_educ = np.cov(df['wage'],df['educ'])\n",
    "mat_wage_educ"
   ]
  },
  {
   "cell_type": "code",
   "execution_count": 10,
   "metadata": {
    "hidden": true
   },
   "outputs": [
    {
     "data": {
      "text/plain": [
       "4.15086399857298"
      ]
     },
     "execution_count": 10,
     "metadata": {},
     "output_type": "execute_result"
    }
   ],
   "source": [
    "cov_wage_educ = mat_wage_educ[0, 1]\n",
    "cov_wage_educ"
   ]
  },
  {
   "cell_type": "code",
   "execution_count": 11,
   "metadata": {
    "hidden": true
   },
   "outputs": [
    {
     "data": {
      "text/plain": [
       "(13.638884363775007, 7.667485062466051)"
      ]
     },
     "execution_count": 11,
     "metadata": {},
     "output_type": "execute_result"
    }
   ],
   "source": [
    "mat_wage_educ[0,0], mat_wage_educ[1,1]"
   ]
  },
  {
   "cell_type": "code",
   "execution_count": 12,
   "metadata": {
    "hidden": true
   },
   "outputs": [
    {
     "data": {
      "text/plain": [
       "(13.63888436377501, 7.667485062466051)"
      ]
     },
     "execution_count": 12,
     "metadata": {},
     "output_type": "execute_result"
    }
   ],
   "source": [
    "var_wage = df['wage'].var(ddof=1)\n",
    "var_educ = df['educ'].var(ddof=1)\n",
    "var_wage, var_educ"
   ]
  },
  {
   "cell_type": "code",
   "execution_count": 13,
   "metadata": {
    "hidden": true
   },
   "outputs": [],
   "source": [
    "mean_wage = df['wage'].mean()\n",
    "mean_educ = df['educ'].mean()"
   ]
  },
  {
   "cell_type": "code",
   "execution_count": 14,
   "metadata": {
    "hidden": true
   },
   "outputs": [
    {
     "data": {
      "text/plain": [
       "0.5413592546651744"
      ]
     },
     "execution_count": 14,
     "metadata": {},
     "output_type": "execute_result"
    }
   ],
   "source": [
    "b1hat = cov_wage_educ / var_educ\n",
    "b1hat"
   ]
  },
  {
   "cell_type": "code",
   "execution_count": 15,
   "metadata": {
    "hidden": true
   },
   "outputs": [
    {
     "data": {
      "text/plain": [
       "-0.9048516119572092"
      ]
     },
     "execution_count": 15,
     "metadata": {},
     "output_type": "execute_result"
    }
   ],
   "source": [
    "b0hat = mean_wage - b1hat * mean_educ\n",
    "b0hat"
   ]
  },
  {
   "cell_type": "code",
   "execution_count": 16,
   "metadata": {
    "hidden": true
   },
   "outputs": [],
   "source": [
    "formula = 'wage ~ educ'"
   ]
  },
  {
   "cell_type": "code",
   "execution_count": 17,
   "metadata": {
    "hidden": true
   },
   "outputs": [],
   "source": [
    "mod = ols(formula, data=df)"
   ]
  },
  {
   "cell_type": "code",
   "execution_count": 18,
   "metadata": {
    "hidden": true
   },
   "outputs": [
    {
     "data": {
      "text/plain": [
       "    <                  <=                 ==                 !=\n",
       "    >                  >=                 dir()              hash()\n",
       "    help()             repr()             str()              .data\n",
       "    .df_model          .df_resid          .endog             .endog_names\n",
       "    .exog              .exog_names        .fit()\n",
       "    .fit_regularized()                    .formula           .from_formula()\n",
       "    .get_distribution()                   .hessian()         .hessian_factor()\n",
       "    .information()     .initialize()      .k_constant        .loglike()\n",
       "    .nobs              .predict()         .rank              .score()\n",
       "    .weights           .wendog            .wexog             .whiten()"
      ]
     },
     "execution_count": 18,
     "metadata": {},
     "output_type": "execute_result"
    }
   ],
   "source": [
    "see(mod)"
   ]
  },
  {
   "cell_type": "code",
   "execution_count": 19,
   "metadata": {
    "hidden": true
   },
   "outputs": [],
   "source": [
    "res = mod.fit()"
   ]
  },
  {
   "cell_type": "code",
   "execution_count": 20,
   "metadata": {
    "hidden": true
   },
   "outputs": [
    {
     "data": {
      "text/plain": [
       "    <                    <=                   ==                   !=\n",
       "    >                    >=                   dir()                hash()\n",
       "    help()               repr()               str()                .HC0_se\n",
       "    .HC1_se              .HC2_se              .HC3_se              .aic\n",
       "    .bic                 .bse                 .centered_tss\n",
       "    .compare_f_test()    .compare_lm_test()\n",
       "    .compare_lr_test()                        .condition_number    .conf_int()\n",
       "    .conf_int_el()       .cov_HC0             .cov_HC1             .cov_HC2\n",
       "    .cov_HC3             .cov_kwds            .cov_params()        .cov_type\n",
       "    .df_model            .df_resid            .eigenvals           .el_test()\n",
       "    .ess                 .f_pvalue            .f_test()\n",
       "    .fittedvalues        .fvalue              .get_influence()\n",
       "    .get_prediction()    .get_robustcov_results()\n",
       "    .initialize()        .k_constant          .llf                 .load()\n",
       "    .model               .mse_model           .mse_resid           .mse_total\n",
       "    .nobs                .normalized_cov_params\n",
       "    .outlier_test()      .params              .predict()           .pvalues\n",
       "    .remove_data()       .resid               .resid_pearson       .rsquared\n",
       "    .rsquared_adj        .save()              .scale               .ssr\n",
       "    .summary()           .summary2()          .t_test()\n",
       "    .t_test_pairwise()                        .tvalues\n",
       "    .uncentered_tss      .use_t               .wald_test()\n",
       "    .wald_test_terms()                        .wresid"
      ]
     },
     "execution_count": 20,
     "metadata": {},
     "output_type": "execute_result"
    }
   ],
   "source": [
    "see(res)"
   ]
  },
  {
   "cell_type": "code",
   "execution_count": 21,
   "metadata": {
    "hidden": true
   },
   "outputs": [
    {
     "data": {
      "text/plain": [
       "Intercept   -0.904852\n",
       "educ         0.541359\n",
       "dtype: float64"
      ]
     },
     "execution_count": 21,
     "metadata": {},
     "output_type": "execute_result"
    }
   ],
   "source": [
    "res.params"
   ]
  },
  {
   "cell_type": "code",
   "execution_count": 22,
   "metadata": {
    "hidden": true
   },
   "outputs": [
    {
     "name": "stdout",
     "output_type": "stream",
     "text": [
      "                            OLS Regression Results                            \n",
      "==============================================================================\n",
      "Dep. Variable:                   wage   R-squared:                       0.165\n",
      "Model:                            OLS   Adj. R-squared:                  0.163\n",
      "Method:                 Least Squares   F-statistic:                     103.4\n",
      "Date:                Wed, 02 Sep 2020   Prob (F-statistic):           2.78e-22\n",
      "Time:                        18:03:48   Log-Likelihood:                -1385.7\n",
      "No. Observations:                 526   AIC:                             2775.\n",
      "Df Residuals:                     524   BIC:                             2784.\n",
      "Df Model:                           1                                         \n",
      "Covariance Type:            nonrobust                                         \n",
      "==============================================================================\n",
      "                 coef    std err          t      P>|t|      [0.025      0.975]\n",
      "------------------------------------------------------------------------------\n",
      "Intercept     -0.9049      0.685     -1.321      0.187      -2.250       0.441\n",
      "educ           0.5414      0.053     10.167      0.000       0.437       0.646\n",
      "==============================================================================\n",
      "Omnibus:                      212.554   Durbin-Watson:                   1.824\n",
      "Prob(Omnibus):                  0.000   Jarque-Bera (JB):              807.843\n",
      "Skew:                           1.861   Prob(JB):                    3.79e-176\n",
      "Kurtosis:                       7.797   Cond. No.                         60.2\n",
      "==============================================================================\n",
      "\n",
      "Warnings:\n",
      "[1] Standard Errors assume that the covariance matrix of the errors is correctly specified.\n"
     ]
    }
   ],
   "source": [
    "print(res.summary())"
   ]
  },
  {
   "cell_type": "code",
   "execution_count": 23,
   "metadata": {
    "hidden": true
   },
   "outputs": [
    {
     "name": "stdout",
     "output_type": "stream",
     "text": [
      "==============================================================================\n",
      "                 coef    std err          t      P>|t|      [0.025      0.975]\n",
      "------------------------------------------------------------------------------\n",
      "Intercept     -0.9049      0.685     -1.321      0.187      -2.250       0.441\n",
      "educ           0.5414      0.053     10.167      0.000       0.437       0.646\n",
      "==============================================================================\n"
     ]
    }
   ],
   "source": [
    "print(res.summary().tables[1])"
   ]
  },
  {
   "cell_type": "code",
   "execution_count": 24,
   "metadata": {
    "hidden": true
   },
   "outputs": [],
   "source": [
    "wage_hat = res.fittedvalues"
   ]
  },
  {
   "cell_type": "code",
   "execution_count": 25,
   "metadata": {
    "hidden": true
   },
   "outputs": [
    {
     "data": {
      "image/png": "[encoded data removed]",
      "text/plain": [
       "<Figure size 432x288 with 1 Axes>"
      ]
     },
     "metadata": {
      "needs_background": "light"
     },
     "output_type": "display_data"
    }
   ],
   "source": [
    "wage_hat = res.fittedvalues\n",
    "plt.scatter('educ', 'wage', data=df)\n",
    "plt.plot(df['educ'],wage_hat, 'r')\n",
    "plt.xlabel('Education')\n",
    "plt.ylabel('Wage')\n",
    "pass"
   ]
  },
  {
   "cell_type": "code",
   "execution_count": 26,
   "metadata": {
    "hidden": true
   },
   "outputs": [],
   "source": [
    "n = res.nobs\n",
    "k = res.df_model\n",
    "# n-k-1 = res.df_resid\n",
    "SST = res.centered_tss\n",
    "SSE = res.ess\n",
    "SSR = res.ssr"
   ]
  },
  {
   "cell_type": "code",
   "execution_count": 27,
   "metadata": {
    "hidden": true
   },
   "outputs": [
    {
     "data": {
      "text/plain": [
       "0.16475751099205138"
      ]
     },
     "execution_count": 27,
     "metadata": {},
     "output_type": "execute_result"
    }
   ],
   "source": [
    "res.rsquared"
   ]
  },
  {
   "cell_type": "code",
   "execution_count": 28,
   "metadata": {
    "hidden": true
   },
   "outputs": [
    {
     "data": {
      "text/plain": [
       "0.16475751099205138"
      ]
     },
     "execution_count": 28,
     "metadata": {},
     "output_type": "execute_result"
    }
   ],
   "source": [
    "1-SSR/SST"
   ]
  },
  {
   "cell_type": "code",
   "execution_count": 29,
   "metadata": {
    "hidden": true
   },
   "outputs": [
    {
     "data": {
      "text/plain": [
       "0.16475751099205127"
      ]
     },
     "execution_count": 29,
     "metadata": {},
     "output_type": "execute_result"
    }
   ],
   "source": [
    "u_hat = res.resid  # 残差\n",
    "wage = df['wage']  # 被説明変数\n",
    "R2 = 1 - np.var(u_hat) / np.var(wage)\n",
    "R2"
   ]
  },
  {
   "cell_type": "code",
   "execution_count": 30,
   "metadata": {
    "hidden": true
   },
   "outputs": [
    {
     "data": {
      "text/plain": [
       "0.16316353677638729"
      ]
     },
     "execution_count": 30,
     "metadata": {},
     "output_type": "execute_result"
    }
   ],
   "source": [
    "res.rsquared_adj"
   ]
  },
  {
   "cell_type": "code",
   "execution_count": 31,
   "metadata": {
    "hidden": true
   },
   "outputs": [
    {
     "data": {
      "text/plain": [
       "0.16316353677638729"
      ]
     },
     "execution_count": 31,
     "metadata": {},
     "output_type": "execute_result"
    }
   ],
   "source": [
    "adjR2 = 1-(1-R2)*(n-1)/(n-k-1)\n",
    "adjR2"
   ]
  },
  {
   "cell_type": "code",
   "execution_count": 32,
   "metadata": {
    "hidden": true
   },
   "outputs": [],
   "source": [
    "formula_1 = 'np.log(wage) ~ educ'"
   ]
  },
  {
   "cell_type": "code",
   "execution_count": 33,
   "metadata": {
    "hidden": true
   },
   "outputs": [],
   "source": [
    "res_1 = ols(formula_1, data=df).fit()"
   ]
  },
  {
   "cell_type": "code",
   "execution_count": 34,
   "metadata": {
    "hidden": true
   },
   "outputs": [
    {
     "data": {
      "text/plain": [
       "Intercept    0.583773\n",
       "educ         0.082744\n",
       "dtype: float64"
      ]
     },
     "execution_count": 34,
     "metadata": {},
     "output_type": "execute_result"
    }
   ],
   "source": [
    "res_1.params"
   ]
  },
  {
   "cell_type": "code",
   "execution_count": 35,
   "metadata": {
    "hidden": true
   },
   "outputs": [
    {
     "data": {
      "image/png": "[encoded data removed]",
      "text/plain": [
       "<Figure size 432x288 with 1 Axes>"
      ]
     },
     "metadata": {
      "needs_background": "light"
     },
     "output_type": "display_data"
    }
   ],
   "source": [
    "wage_log_hat_1 = res_1.fittedvalues\n",
    "plt.scatter(df['educ'], np.log(df.loc[:,'wage']))\n",
    "plt.plot(df['educ'], wage_log_hat_1, 'r')\n",
    "plt.xlabel('Education')\n",
    "plt.ylabel('Log of Wage')\n",
    "pass"
   ]
  },
  {
   "cell_type": "code",
   "execution_count": 36,
   "metadata": {
    "hidden": true
   },
   "outputs": [],
   "source": [
    "df['wage_log'] = np.log(df['wage'])"
   ]
  },
  {
   "cell_type": "code",
   "execution_count": 37,
   "metadata": {
    "hidden": true
   },
   "outputs": [],
   "source": [
    "formula_2 = 'wage_log ~ educ'"
   ]
  },
  {
   "cell_type": "code",
   "execution_count": 38,
   "metadata": {
    "hidden": true
   },
   "outputs": [],
   "source": [
    "res_2 = ols(formula_2, data=df).fit()"
   ]
  },
  {
   "cell_type": "code",
   "execution_count": 39,
   "metadata": {
    "hidden": true
   },
   "outputs": [
    {
     "name": "stdout",
     "output_type": "stream",
     "text": [
      "==============================================================================\n",
      "                 coef    std err          t      P>|t|      [0.025      0.975]\n",
      "------------------------------------------------------------------------------\n",
      "Intercept      0.5838      0.097      5.998      0.000       0.393       0.775\n",
      "educ           0.0827      0.008     10.935      0.000       0.068       0.098\n",
      "==============================================================================\n"
     ]
    }
   ],
   "source": [
    "print(res_2.summary().tables[1])"
   ]
  },
  {
   "cell_type": "code",
   "execution_count": 40,
   "metadata": {
    "hidden": true
   },
   "outputs": [
    {
     "data": {
      "image/png": "[encoded data removed]",
      "text/plain": [
       "<Figure size 432x288 with 1 Axes>"
      ]
     },
     "metadata": {
      "needs_background": "light"
     },
     "output_type": "display_data"
    }
   ],
   "source": [
    "wage_log_hat_2 = res_2.fittedvalues\n",
    "plt.scatter('educ', 'wage_log', data=df)\n",
    "plt.plot(df['educ'], wage_log_hat_2, 'r')\n",
    "plt.xlabel('Education')\n",
    "plt.ylabel('Log of Wage')\n",
    "pass"
   ]
  },
  {
   "cell_type": "code",
   "execution_count": 41,
   "metadata": {
    "hidden": true
   },
   "outputs": [],
   "source": [
    "b0 = 1.0  # 定数項\n",
    "b1 = 1.0  # 説明変数の係数\n",
    "su = 1.0  # 誤差項の標準偏差"
   ]
  },
  {
   "cell_type": "code",
   "execution_count": 42,
   "metadata": {
    "hidden": true
   },
   "outputs": [],
   "source": [
    "n = 30"
   ]
  },
  {
   "cell_type": "code",
   "execution_count": 43,
   "metadata": {
    "hidden": true
   },
   "outputs": [],
   "source": [
    "x = norm.rvs(4, 1, size=n)\n",
    "u = norm.rvs(0, su, size=n)\n",
    "y = b0 + b1 * x + u"
   ]
  },
  {
   "cell_type": "code",
   "execution_count": 44,
   "metadata": {
    "hidden": true
   },
   "outputs": [],
   "source": [
    "df_sim = pd.DataFrame({'X':x, 'Y':y})"
   ]
  },
  {
   "cell_type": "code",
   "execution_count": 45,
   "metadata": {
    "hidden": true
   },
   "outputs": [],
   "source": [
    "formula = 'X ~ Y'\n",
    "res_sim = ols(formula, data=df_sim).fit()"
   ]
  },
  {
   "cell_type": "code",
   "execution_count": 46,
   "metadata": {
    "hidden": true
   },
   "outputs": [
    {
     "data": {
      "text/plain": [
       "Intercept    2.220171\n",
       "Y            0.415320\n",
       "dtype: float64"
      ]
     },
     "execution_count": 46,
     "metadata": {},
     "output_type": "execute_result"
    }
   ],
   "source": [
    "res_sim.params"
   ]
  },
  {
   "cell_type": "code",
   "execution_count": 47,
   "metadata": {
    "hidden": true
   },
   "outputs": [],
   "source": [
    "def my_sim(n,b0=1,b1=1,su=1):  # nを指定する，　他はデフォルトを設定\n",
    "    \n",
    "    x = norm.rvs(4, 1, size=n)\n",
    "    u = norm.rvs(0, su, size=n)\n",
    "    y = b0 + b1 * x + u\n",
    "    \n",
    "    df_sim = pd.DataFrame({'X':x, 'Y':y})\n",
    "    \n",
    "    formula = 'Y ~ X'\n",
    "    res_sim = ols(formula, data=df_sim).fit()\n",
    "    \n",
    "    return res_sim.params"
   ]
  },
  {
   "cell_type": "code",
   "execution_count": 48,
   "metadata": {
    "hidden": true
   },
   "outputs": [
    {
     "data": {
      "text/plain": [
       "Intercept    0.366396\n",
       "X            1.165363\n",
       "dtype: float64"
      ]
     },
     "execution_count": 48,
     "metadata": {},
     "output_type": "execute_result"
    }
   ],
   "source": [
    "my_sim(100)"
   ]
  },
  {
   "cell_type": "code",
   "execution_count": 49,
   "metadata": {
    "hidden": true
   },
   "outputs": [],
   "source": [
    "def my_sim_manual(n,b0=1,b1=1,su=1):  # nは標本の大きさ，　他はデフォルトを設定\n",
    "    \n",
    "    x = np.random.normal(loc=4, scale=1, size=n)   # 以下を参照\n",
    "    u = np.random.normal(loc=0, scale=su, size=n)  # 以下を参照\n",
    "    y = b0 + b1 * x + u\n",
    "    \n",
    "    var_cov = np.cov(y,x)   # 分散共分散行列\n",
    "    cov_yx = var_cov[0,1]   # 共分散\n",
    "    var_y = var_cov[0,0]    # yの分散\n",
    "    var_x = var_cov[1,1]    # xの分散        \n",
    "    avr_y = y.mean()        # yの平均\n",
    "    avr_x = x.mean()        # xの平均\n",
    "    \n",
    "    b1hat = cov_yx / var_x  # スロープ係数の推定値\n",
    "    b0hat = avr_y - b1hat*avr_x  # 定数項の推定値\n",
    "    \n",
    "    return b0hat, b1hat     # 推定値"
   ]
  },
  {
   "cell_type": "code",
   "execution_count": 50,
   "metadata": {
    "hidden": true
   },
   "outputs": [
    {
     "data": {
      "text/plain": [
       "(0.7706561346115786, 1.0765271413520427)"
      ]
     },
     "execution_count": 50,
     "metadata": {},
     "output_type": "execute_result"
    }
   ],
   "source": [
    "my_sim_manual(100)"
   ]
  },
  {
   "cell_type": "code",
   "execution_count": 51,
   "metadata": {
    "hidden": true
   },
   "outputs": [],
   "source": [
    "@njit\n",
    "def my_sim_manual(n,b0,b1,su):\n",
    "    \n",
    "    x = np.random.normal(loc=4, scale=1, size=n)\n",
    "    u = np.random.normal(loc=0, scale=su, size=n)\n",
    "    y = b0 + b1 * x + u\n",
    "    \n",
    "    var_cov = np.cov(y,x)\n",
    "    cov_yx = var_cov[0,1]\n",
    "    var_y = var_cov[0,0]\n",
    "    var_x = var_cov[1,1]\n",
    "    avr_y = y.mean()\n",
    "    avr_x = x.mean()\n",
    "    \n",
    "    b1hat = cov_yx / var_x\n",
    "    b0hat = avr_y - b1hat*avr_x\n",
    "    \n",
    "    return b0hat, b1hat"
   ]
  },
  {
   "cell_type": "code",
   "execution_count": 52,
   "metadata": {
    "hidden": true
   },
   "outputs": [],
   "source": [
    "@njit\n",
    "def my_sim_loop(n,N,b0=1.0,b1=1.0,su=1.0):  # nとN以外はデフォルトを指定\n",
    "    \n",
    "    b0hat_arr = np.zeros(N)  # OLS推定量を入れるarray（0がN個並んでいる）\n",
    "    b1hat_arr = np.zeros(N)  # OLS推定量を入れるarray（0がN個並んでいる）\n",
    "    \n",
    "    c = np.ones(n)  # 定数項（1.がn個並んでいる）\n",
    "    \n",
    "    for i in range(N):  # N 回のループ\n",
    "        \n",
    "        # 返り値が２つあるので、割り当てる場合には左辺の変数を ',' で区切る \n",
    "        b0hat, b1hat = my_sim_manual(n,b0=b0,b1=b1,su=su)\n",
    "\n",
    "        b0hat_arr[i] = b0hat  # i番目に定数項の推定値をarrに追加\n",
    "        b1hat_arr[i] = b1hat  # i番目にスロープ係数の推定値をarrに追加\n",
    "        \n",
    "    return b0hat_arr, b1hat_arr  # N回ループ終了後にarrayをタプルとして返すオブジェクト"
   ]
  },
  {
   "cell_type": "code",
   "execution_count": 53,
   "metadata": {
    "hidden": true
   },
   "outputs": [],
   "source": [
    "N=100_000"
   ]
  },
  {
   "cell_type": "code",
   "execution_count": 54,
   "metadata": {
    "hidden": true
   },
   "outputs": [],
   "source": [
    "b0hat, b1hat = my_sim_loop(50,N)"
   ]
  },
  {
   "cell_type": "code",
   "execution_count": 55,
   "metadata": {
    "hidden": true,
    "scrolled": true
   },
   "outputs": [
    {
     "data": {
      "image/png": "[encoded data removed]",
      "text/plain": [
       "<Figure size 432x288 with 1 Axes>"
      ]
     },
     "metadata": {
      "needs_background": "light"
     },
     "output_type": "display_data"
    }
   ],
   "source": [
    "plt.hist(b0hat,bins=30)\n",
    "pass"
   ]
  },
  {
   "cell_type": "code",
   "execution_count": 56,
   "metadata": {
    "hidden": true
   },
   "outputs": [
    {
     "data": {
      "image/png": "[encoded data removed]",
      "text/plain": [
       "<Figure size 432x288 with 1 Axes>"
      ]
     },
     "metadata": {
      "needs_background": "light"
     },
     "output_type": "display_data"
    }
   ],
   "source": [
    "plt.hist(b1hat,bins=30)\n",
    "pass"
   ]
  },
  {
   "cell_type": "code",
   "execution_count": 57,
   "metadata": {
    "hidden": true
   },
   "outputs": [],
   "source": [
    "r = 1000"
   ]
  },
  {
   "cell_type": "code",
   "execution_count": 58,
   "metadata": {
    "hidden": true
   },
   "outputs": [
    {
     "data": {
      "image/png": "[encoded data removed]",
      "text/plain": [
       "<Figure size 432x288 with 1 Axes>"
      ]
     },
     "metadata": {
      "needs_background": "light"
     },
     "output_type": "display_data"
    }
   ],
   "source": [
    "xx = np.linspace(2,6,50)\n",
    "\n",
    "for i in range(r):  # r回のループで図示\n",
    "    yhat = b0hat[i] + b1hat[i]*xx  # yの予測値\n",
    "    plt.plot(xx, yhat, 'grey')  # yの予測値を図示\n",
    "    \n",
    "plt.xlabel('x')\n",
    "plt.ylabel('y')\n",
    "plt.ylim(0,10) # 縦軸の表示範囲を設定\n",
    "plt.title(f'{r} rounds of OLS simulation')\n",
    "pass"
   ]
  }
 ],
 "metadata": {
  "celltoolbar": "Tags",
  "kernel_info": {
   "name": "py4etrics"
  },
  "kernelspec": {
   "display_name": "latest",
   "language": "python",
   "name": "latest"
  },
  "language_info": {
   "codemirror_mode": {
    "name": "ipython",
    "version": 3
   },
   "file_extension": ".py",
   "mimetype": "text/x-python",
   "name": "python",
   "nbconvert_exporter": "python",
   "pygments_lexer": "ipython3",
   "version": "3.8.5"
  },
  "nteract": {
   "version": "0.14.5"
  },
  "toc": {
   "base_numbering": 1,
   "nav_menu": {},
   "number_sections": true,
   "sideBar": true,
   "skip_h1_title": false,
   "title_cell": "Table of Contents",
   "title_sidebar": "Contents",
   "toc_cell": false,
   "toc_position": {},
   "toc_section_display": true,
   "toc_window_display": false
  }
 },
 "nbformat": 4,
 "nbformat_minor": 2
}