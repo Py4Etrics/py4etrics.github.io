{
 "cells": [
  {
   "cell_type": "code",
   "execution_count": 1,
   "metadata": {},
   "outputs": [],
   "source": [
    "import numpy as np\n",
    "import pandas as pd\n",
    "from linearmodels.iv import IV2SLS\n",
    "import wooldridge\n",
    "from scipy.stats import gaussian_kde, multivariate_normal, norm, uniform\n",
    "import matplotlib.pyplot as plt\n",
    "from scipy.stats import chi2"
   ]
  },
  {
   "cell_type": "code",
   "execution_count": 2,
   "metadata": {
    "hidden": true,
    "tags": [
     "output_scroll"
    ]
   },
   "outputs": [
    {
     "name": "stdout",
     "output_type": "stream",
     "text": [
      "name of dataset: mroz\n",
      "no of variables: 22\n",
      "no of observations: 753\n",
      "\n",
      "+----------+---------------------------------+\n",
      "| variable | label                           |\n",
      "+----------+---------------------------------+\n",
      "| inlf     | =1 if in lab frce, 1975         |\n",
      "| hours    | hours worked, 1975              |\n",
      "| kidslt6  | # kids < 6 years                |\n",
      "| kidsge6  | # kids 6-18                     |\n",
      "| age      | woman's age in yrs              |\n",
      "| educ     | years of schooling              |\n",
      "| wage     | est. wage from earn, hrs        |\n",
      "| repwage  | rep. wage at interview in 1976  |\n",
      "| hushrs   | hours worked by husband, 1975   |\n",
      "| husage   | husband's age                   |\n",
      "| huseduc  | husband's years of schooling    |\n",
      "| huswage  | husband's hourly wage, 1975     |\n",
      "| faminc   | family income, 1975             |\n",
      "| mtr      | fed. marg. tax rte facing woman |\n",
      "| motheduc | mother's years of schooling     |\n",
      "| fatheduc | father's years of schooling     |\n",
      "| unem     | unem. rate in county of resid.  |\n",
      "| city     | =1 if live in SMSA              |\n",
      "| exper    | actual labor mkt exper          |\n",
      "| nwifeinc | (faminc - wage*hours)/1000      |\n",
      "| lwage    | log(wage)                       |\n",
      "| expersq  | exper^2                         |\n",
      "+----------+---------------------------------+\n",
      "\n",
      "T.A. Mroz (1987), “The Sensitivity of an Empirical Model of Married\n",
      "Women’s Hours of Work to Economic and Statistical Assumptions,”\n",
      "Econometrica 55, 765-799. Professor Ernst R. Berndt, of MIT, kindly\n",
      "provided the data, which he obtained from Professor Mroz.\n"
     ]
    }
   ],
   "source": [
    "mroz = wooldridge.data('mroz').dropna(subset=['lwage'])  # 列'lwage'にNaNがある行は削除する\n",
    "\n",
    "wooldridge.data('mroz',description=True)"
   ]
  },
  {
   "cell_type": "code",
   "execution_count": 3,
   "metadata": {
    "hidden": true
   },
   "outputs": [],
   "source": [
    "form_1 = 'lwage ~ 1 + [educ ~ fatheduc]'"
   ]
  },
  {
   "cell_type": "code",
   "execution_count": 4,
   "metadata": {
    "hidden": true
   },
   "outputs": [],
   "source": [
    "mod_1 = IV2SLS.from_formula(form_1, data=mroz)"
   ]
  },
  {
   "cell_type": "code",
   "execution_count": 5,
   "metadata": {
    "hidden": true
   },
   "outputs": [],
   "source": [
    "res_1 = mod_1.fit(cov_type='unadjusted')"
   ]
  },
  {
   "cell_type": "code",
   "execution_count": 6,
   "metadata": {
    "hidden": true
   },
   "outputs": [
    {
     "name": "stdout",
     "output_type": "stream",
     "text": [
      "                             Parameter Estimates                              \n",
      "==============================================================================\n",
      "            Parameter  Std. Err.     T-stat    P-value    Lower CI    Upper CI\n",
      "------------------------------------------------------------------------------\n",
      "Intercept      0.4411     0.4451     0.9911     0.3216     -0.4312      1.3134\n",
      "educ           0.0592     0.0351     1.6878     0.0914     -0.0095      0.1279\n",
      "==============================================================================\n"
     ]
    }
   ],
   "source": [
    "print(res_1.summary.tables[1])"
   ]
  },
  {
   "cell_type": "code",
   "execution_count": 7,
   "metadata": {
    "hidden": true
   },
   "outputs": [],
   "source": [
    "stage_1 = 'educ ~ 1 + fatheduc'  # 回帰式\n",
    "\n",
    "res_stage_1 =IV2SLS.from_formula(stage_1, data=mroz).fit(cov_type='unadjusted')  # OLS推定\n",
    "\n",
    "educ_fit = res_stage_1.fitted_values  # educの予測値を取得"
   ]
  },
  {
   "cell_type": "code",
   "execution_count": 8,
   "metadata": {
    "hidden": true
   },
   "outputs": [
    {
     "name": "stdout",
     "output_type": "stream",
     "text": [
      "                             Parameter Estimates                              \n",
      "==============================================================================\n",
      "            Parameter  Std. Err.     T-stat    P-value    Lower CI    Upper CI\n",
      "------------------------------------------------------------------------------\n",
      "Intercept      0.4411     0.4660     0.9465     0.3439     -0.4723      1.3545\n",
      "educ_fit       0.0592     0.0367     1.6119     0.1070     -0.0128      0.1311\n",
      "==============================================================================\n"
     ]
    }
   ],
   "source": [
    "stage_2 = 'lwage ~ 1 + educ_fit'\n",
    "\n",
    "res_stage_2 =IV2SLS.from_formula(stage_2, data=mroz).fit(cov_type='unadjusted')  # OLS推定\n",
    "\n",
    "print(res_stage_2.summary.tables[1])"
   ]
  },
  {
   "cell_type": "code",
   "execution_count": 9,
   "metadata": {
    "hidden": true
   },
   "outputs": [
    {
     "name": "stdout",
     "output_type": "stream",
     "text": [
      "                             Parameter Estimates                              \n",
      "==============================================================================\n",
      "            Parameter  Std. Err.     T-stat    P-value    Lower CI    Upper CI\n",
      "------------------------------------------------------------------------------\n",
      "Intercept     -0.1852     0.1703    -1.0872     0.2770     -0.5191      0.1487\n",
      "educ           0.1086     0.0134     8.1178     0.0000      0.0824      0.1349\n",
      "==============================================================================\n"
     ]
    }
   ],
   "source": [
    "form_ols = 'lwage ~ 1 + educ'\n",
    "\n",
    "res_ols =IV2SLS.from_formula(form_ols, data=mroz).fit()  # OLS推定\n",
    "\n",
    "print(res_ols.summary.tables[1])"
   ]
  },
  {
   "cell_type": "code",
   "execution_count": 10,
   "metadata": {
    "hidden": true
   },
   "outputs": [
    {
     "name": "stdout",
     "output_type": "stream",
     "text": [
      "                            OLS Estimation Summary                            \n",
      "==============================================================================\n",
      "Dep. Variable:                   educ   R-squared:                      0.2081\n",
      "Estimator:                        OLS   Adj. R-squared:                 0.2043\n",
      "No. Observations:                 428   F-statistic:                    112.45\n",
      "Date:                Sat, Jul 11 2020   P-value (F-stat)                0.0000\n",
      "Time:                        18:14:06   Distribution:                  chi2(2)\n",
      "Cov. Estimator:            unadjusted                                         \n",
      "                                                                              \n",
      "                             Parameter Estimates                              \n",
      "==============================================================================\n",
      "            Parameter  Std. Err.     T-stat    P-value    Lower CI    Upper CI\n",
      "------------------------------------------------------------------------------\n",
      "Intercept      9.4801     0.3200     29.627     0.0000      8.8530      10.107\n",
      "fatheduc       0.1881     0.0335     5.6122     0.0000      0.1224      0.2538\n",
      "motheduc       0.1564     0.0357     4.3805     0.0000      0.0864      0.2263\n",
      "==============================================================================\n"
     ]
    }
   ],
   "source": [
    "form_check = 'educ ~ 1 + fatheduc + motheduc'\n",
    "\n",
    "res_check =IV2SLS.from_formula(form_check, data=mroz).fit(cov_type='unadjusted')\n",
    "\n",
    "print(res_check.summary)"
   ]
  },
  {
   "cell_type": "code",
   "execution_count": 11,
   "metadata": {
    "hidden": true
   },
   "outputs": [],
   "source": [
    "form_2 = 'lwage ~ 1 + exper + expersq +[educ ~ fatheduc + motheduc]'"
   ]
  },
  {
   "cell_type": "code",
   "execution_count": 12,
   "metadata": {
    "hidden": true
   },
   "outputs": [
    {
     "name": "stdout",
     "output_type": "stream",
     "text": [
      "                             Parameter Estimates                              \n",
      "==============================================================================\n",
      "            Parameter  Std. Err.     T-stat    P-value    Lower CI    Upper CI\n",
      "------------------------------------------------------------------------------\n",
      "Intercept      0.0481     0.3985     0.1207     0.9039     -0.7329      0.8291\n",
      "exper          0.0442     0.0134     3.3038     0.0010      0.0180      0.0704\n",
      "expersq       -0.0009     0.0004    -2.2485     0.0245     -0.0017     -0.0001\n",
      "educ           0.0614     0.0313     1.9622     0.0497   7.043e-05      0.1227\n",
      "==============================================================================\n"
     ]
    }
   ],
   "source": [
    "res_2 =IV2SLS.from_formula(form_2, data=mroz).fit(cov_type='unadjusted')\n",
    "\n",
    "print(res_2.summary.tables[1])"
   ]
  },
  {
   "cell_type": "code",
   "execution_count": 13,
   "metadata": {
    "hidden": true
   },
   "outputs": [],
   "source": [
    "N = 10_000"
   ]
  },
  {
   "cell_type": "code",
   "execution_count": 14,
   "metadata": {
    "hidden": true
   },
   "outputs": [],
   "source": [
    "b0 = 0.5\n",
    "b1 = 1\n",
    "b2 = 0.5"
   ]
  },
  {
   "cell_type": "code",
   "execution_count": 15,
   "metadata": {
    "hidden": true
   },
   "outputs": [],
   "source": [
    "def sim_iv(n,m,ols=False):  # n=標本の大きさ, m=x1とｚの共分散\n",
    "    \"\"\"\n",
    "    n: 標本の大きさ\n",
    "    m: 説明変数と対応する操作変数の相関性の度合い\n",
    "    ols: Boolean（デフォルト：False） \n",
    "        False: OLS推定とIV推定も一緒におこなう\n",
    "            返り値：２つのリスト（OLSとIV推定量）\n",
    "        True: IV推定のみ\n",
    "            返り値：１つのリストのみ\n",
    "    \"\"\"\n",
    "    rv_mean = [0, 0, 0]  # x1, x2, z1の平均\n",
    "    rv_cov = [[1.0, 0.3, m],  # x1, x2, z1の共分散行列\n",
    "              [0.3, 1.0, 0.0],  # 全ての変数の分散は１（対角成分）\n",
    "              [m,   0.0, 1.0]]  # Cov(x1,x2)=0.3,  Cov(x2,z)=0, Cov(x1,z)=m,\n",
    "    rv = multivariate_normal.rvs(rv_mean, rv_cov, size=n)  # x1, x2, z1をnセット抽出\n",
    "    x1 = rv[:,0]  # 説明変数\n",
    "    x2 = rv[:,1]  # 欠落変数\n",
    "    z = rv[:,2]  # 操作変数\n",
    "\n",
    "    b1_iv_list = []  # IV推定量を入れる空のリスト\n",
    "    b1_ols_list = []  # OLS推定量を入れる空のリスト\n",
    "    \n",
    "    c = np.ones(n)\n",
    "    \n",
    "    for j in range(N):  # N回のループ\n",
    "        \n",
    "        u = norm.rvs(size=n)  # 母集団の誤差項\n",
    "        y = b0 + b1*x1 + b2*x2 + u  # 母集団回帰式\n",
    "        \n",
    "        # IV 第１ステージ\n",
    "        Xiv1 = np.stack([c,z],axis=1)\n",
    "        pihat = np.linalg.inv((Xiv1.T)@Xiv1)@(Xiv1.T)@x1  # IV推定\n",
    "        x1hat = Xiv1@pihat  # x1の予測値\n",
    "        # IV 第２ステージ\n",
    "        Xiv2 = np.stack([c,x1hat],axis=1)        \n",
    "        beta_iv = np.linalg.inv((Xiv2.T)@Xiv2)@(Xiv2.T)@y  # IV推定\n",
    "        b1_iv_list.append(beta_iv[1])  # IV推定量をリストに追加\n",
    "\n",
    "        if ols==True:  # オプションols=Trueの場合はOLS推定もおこなう\n",
    "            \n",
    "            X = np.stack([c,x1],axis=1)\n",
    "            beta_ols = np.linalg.inv((X.T)@X)@(X.T)@y  # OLS推定\n",
    "            b1_ols_list.append(beta_ols[1])  # OLS推定量をリストに追加\n",
    "\n",
    "        else:  # ols=Falseの場合はOLS推定をおこなわない\n",
    "            pass\n",
    "\n",
    "    if ols==True:  # ols=True の場合の返り値の設定\n",
    "        return b1_iv_list, b1_ols_list\n",
    "    \n",
    "    else:  # ols=False の場合の返り値の設定\n",
    "        return b1_iv_list"
   ]
  },
  {
   "cell_type": "code",
   "execution_count": 16,
   "metadata": {
    "hidden": true
   },
   "outputs": [],
   "source": [
    "b1hat_iv, b1hat_ols = sim_iv(1000,0.9,ols=True)"
   ]
  },
  {
   "cell_type": "code",
   "execution_count": 17,
   "metadata": {
    "hidden": true
   },
   "outputs": [
    {
     "data": {
      "image/png": "[encoded data removed]",
      "text/plain": [
       "<Figure size 432x288 with 1 Axes>"
      ]
     },
     "metadata": {
      "needs_background": "light"
     },
     "output_type": "display_data"
    }
   ],
   "source": [
    "xx=np.linspace(0.8,1.3,num=100)  # 図を作成するために横軸の値を設定\n",
    "\n",
    "kde_model_ols=gaussian_kde(b1hat_ols)  # OLS推定量のカーネル密度関数を計算\n",
    "\n",
    "kde_model_iv=gaussian_kde(b1hat_iv)  # IV推定量のカーネル密度関数を計算\n",
    "\n",
    "plt.plot(xx, kde_model_ols(xx), 'g-', label='OLS')  # OLS推定量の分布プロット\n",
    "plt.plot(xx, kde_model_iv(xx),'r-', label='IV')  # IV推定量の分布プロット\n",
    "plt.axvline(x=b1,linestyle='dashed')\n",
    "plt.ylabel('Kernel Density')  # 縦軸のラベル\n",
    "plt.legend()  # 凡例\n",
    "pass"
   ]
  },
  {
   "cell_type": "code",
   "execution_count": 18,
   "metadata": {
    "hidden": true
   },
   "outputs": [],
   "source": [
    "b1hat_iv_30 = sim_iv(30,0.8)\n",
    "b1hat_iv_100 = sim_iv(100,0.8)\n",
    "b1hat_iv_1000 = sim_iv(1000,0.8)"
   ]
  },
  {
   "cell_type": "code",
   "execution_count": 19,
   "metadata": {
    "hidden": true
   },
   "outputs": [
    {
     "data": {
      "image/png": "[encoded data removed]",
      "text/plain": [
       "<Figure size 432x288 with 1 Axes>"
      ]
     },
     "metadata": {
      "needs_background": "light"
     },
     "output_type": "display_data"
    }
   ],
   "source": [
    "xx=np.linspace(0.5,1.5,num=100)  # 図を作成するために横軸の値を設定\n",
    "\n",
    "b1hat_iv_n_list = [b1hat_iv_30, b1hat_iv_100, b1hat_iv_1000]\n",
    "color_list = ['g-', 'r-', 'k-']\n",
    "label_list = ['n=30', 'n=100', 'n=1000']\n",
    "\n",
    "for (i, j, k) in zip(b1hat_iv_n_list, color_list, label_list):\n",
    "    kde_model_iv=gaussian_kde(i)  # IV推定量のカーネル密度推定を設定\n",
    "    b1_dist = kde_model_iv(xx)  # IV推定量のカーネル密度関数を計算\n",
    "    plt.plot(xx, b1_dist, j, label=k)  # IV推定量の分布プロット\n",
    "\n",
    "plt.axvline(x=b1,linestyle='dashed')\n",
    "plt.ylabel('Kernel Density')  # 縦軸のラベル\n",
    "plt.legend()  # 凡例\n",
    "pass"
   ]
  },
  {
   "cell_type": "code",
   "execution_count": 20,
   "metadata": {
    "hidden": true
   },
   "outputs": [],
   "source": [
    "b1hat_iv_weak = sim_iv(2000,0.1)\n",
    "b1hat_iv_mid = sim_iv(2000,0.4)\n",
    "b1hat_iv_strong = sim_iv(2000,0.8)"
   ]
  },
  {
   "cell_type": "code",
   "execution_count": 21,
   "metadata": {
    "hidden": true
   },
   "outputs": [
    {
     "data": {
      "image/png": "[encoded data removed]",
      "text/plain": [
       "<Figure size 432x288 with 1 Axes>"
      ]
     },
     "metadata": {
      "needs_background": "light"
     },
     "output_type": "display_data"
    }
   ],
   "source": [
    "xx=np.linspace(0.5,1.5,num=100)  # 図を作成するために横軸の値を設定\n",
    "\n",
    "b1hat_iv_n_list = [b1hat_iv_weak, b1hat_iv_mid, b1hat_iv_strong]\n",
    "color_list = ['g-', 'r-', 'k-']\n",
    "label_list = ['Cov(x1,z)=0.1', 'Cov(x1,z)=0.4', 'Cov(x1,z)=0.8']\n",
    "\n",
    "for (i, j, k) in zip(b1hat_iv_n_list, color_list, label_list):\n",
    "    kde_model_iv=gaussian_kde(i)  # OLS推定量のカーネル密度推定を設定\n",
    "    b1_dist = kde_model_iv(xx)  # OLS推定量のカーネル密度関数を計算\n",
    "    plt.plot(xx, b1_dist, j, label=k)  # OLS推定量の分布プロット\n",
    "\n",
    "plt.axvline(x=b1,linestyle='dashed')\n",
    "plt.ylabel('Kernel Density')  # 縦軸のラベル\n",
    "plt.legend()  # 凡例\n",
    "pass"
   ]
  },
  {
   "cell_type": "code",
   "execution_count": 22,
   "metadata": {
    "hidden": true
   },
   "outputs": [
    {
     "data": {
      "text/plain": [
       "Wu-Hausman test of exogeneity\n",
       "H0: All endogenous variables are exogenous\n",
       "Statistic: 2.8035\n",
       "P-value: 0.0948\n",
       "Distributed: F(1,423)\n",
       "WaldTestStatistic, id: 0x7fc8e2f191c0"
      ]
     },
     "execution_count": 22,
     "metadata": {},
     "output_type": "execute_result"
    }
   ],
   "source": [
    "res_2.wu_hausman()"
   ]
  },
  {
   "cell_type": "code",
   "execution_count": 23,
   "metadata": {
    "hidden": true
   },
   "outputs": [],
   "source": [
    "form_2a = 'educ ~ 1 + exper + expersq + motheduc + fatheduc'\n",
    "\n",
    "mod_2a = IV2SLS.from_formula(form_2a, data=mroz)\n",
    "\n",
    "res_2a = mod_2a.fit(cov_type='unadjusted')"
   ]
  },
  {
   "cell_type": "code",
   "execution_count": 24,
   "metadata": {
    "hidden": true
   },
   "outputs": [
    {
     "name": "stdout",
     "output_type": "stream",
     "text": [
      "                               Parameter Estimates                               \n",
      "=================================================================================\n",
      "               Parameter  Std. Err.     T-stat    P-value    Lower CI    Upper CI\n",
      "---------------------------------------------------------------------------------\n",
      "Intercept         0.0481     0.3923     0.1226     0.9024     -0.7207      0.8169\n",
      "educ              0.0614     0.0308     1.9932     0.0462      0.0010      0.1218\n",
      "exper             0.0442     0.0132     3.3559     0.0008      0.0184      0.0700\n",
      "expersq          -0.0009     0.0004    -2.2840     0.0224     -0.0017     -0.0001\n",
      "res_2a.resids     0.0582     0.0346     1.6810     0.0928     -0.0097      0.1260\n",
      "=================================================================================\n"
     ]
    }
   ],
   "source": [
    "form_2b = 'lwage ~ 1 + educ + exper + expersq + res_2a.resids'\n",
    "\n",
    "mod_2b = IV2SLS.from_formula(form_2b, data=mroz)\n",
    "\n",
    "res_2b = mod_2b.fit(cov_type='unadjusted')\n",
    "\n",
    "print(res_2b.summary.tables[1])"
   ]
  },
  {
   "cell_type": "code",
   "execution_count": 25,
   "metadata": {
    "hidden": true
   },
   "outputs": [
    {
     "data": {
      "text/plain": [
       "Wooldridge's regression test of exogeneity\n",
       "H0: Endogenous variables are exogenous\n",
       "Statistic: 2.8256\n",
       "P-value: 0.0928\n",
       "Distributed: chi2(1)\n",
       "WaldTestStatistic, id: 0x7fc8e43daf40"
      ]
     },
     "execution_count": 25,
     "metadata": {},
     "output_type": "execute_result"
    }
   ],
   "source": [
    "res_2.wooldridge_regression"
   ]
  },
  {
   "cell_type": "code",
   "execution_count": 26,
   "metadata": {
    "hidden": true
   },
   "outputs": [],
   "source": [
    "form_aux = 'res_2.resids ~ 1 + motheduc + fatheduc + exper + expersq' # 外生的説明変数を省いてもよい\n",
    "\n",
    "mod_aux = IV2SLS.from_formula(form_aux, data=mroz)\n",
    "\n",
    "res_aux = mod_aux.fit(cov_type='unadjusted')"
   ]
  },
  {
   "cell_type": "code",
   "execution_count": 27,
   "metadata": {
    "hidden": true
   },
   "outputs": [
    {
     "name": "stdout",
     "output_type": "stream",
     "text": [
      "0.5386372330714875\n"
     ]
    }
   ],
   "source": [
    "r2 = res_aux.rsquared  # 決定係数\n",
    "n = res_aux.nobs    # 標本の大きさ\n",
    "teststat = n * r2      # 検定統計量\n",
    "pval = 1 - chi2.cdf(teststat, 1)  # p値の計算\n",
    "print(pval)"
   ]
  },
  {
   "cell_type": "code",
   "execution_count": 28,
   "metadata": {
    "hidden": true
   },
   "outputs": [
    {
     "data": {
      "text/plain": [
       "Sargan's test of overidentification\n",
       "H0: The model is not overidentified.\n",
       "Statistic: 0.3781\n",
       "P-value: 0.5386\n",
       "Distributed: chi2(1)\n",
       "WaldTestStatistic, id: 0x7fc8e43b86d0"
      ]
     },
     "execution_count": 28,
     "metadata": {},
     "output_type": "execute_result"
    }
   ],
   "source": [
    "res_2.sargan"
   ]
  },
  {
   "cell_type": "code",
   "execution_count": 29,
   "metadata": {
    "hidden": true
   },
   "outputs": [
    {
     "name": "stdout",
     "output_type": "stream",
     "text": [
      "                             Parameter Estimates                              \n",
      "==============================================================================\n",
      "            Parameter  Std. Err.     T-stat    P-value    Lower CI    Upper CI\n",
      "------------------------------------------------------------------------------\n",
      "Intercept      2225.7     570.52     3.9011     0.0001      1107.5      3343.9\n",
      "educ          -183.75     58.684    -3.1312     0.0017     -298.77     -68.733\n",
      "age           -7.8061     9.3120    -0.8383     0.4019     -26.057      10.445\n",
      "kidslt6       -198.15     181.64    -1.0909     0.2753     -554.17      157.86\n",
      "nwifeinc      -10.170     6.5682    -1.5483     0.1215     -23.043      2.7039\n",
      "lwage          1639.6     467.27     3.5088     0.0005      723.73      2555.4\n",
      "==============================================================================\n"
     ]
    }
   ],
   "source": [
    "form_L = 'hours ~ 1 + educ + age + kidslt6 + nwifeinc + [lwage ~ exper + expersq]'\n",
    "\n",
    "mod_L = IV2SLS.from_formula(form_L, data=mroz)\n",
    "\n",
    "res_L = mod_L.fit(cov_type='unadjusted')\n",
    "\n",
    "print(res_L.summary.tables[1])"
   ]
  },
  {
   "cell_type": "code",
   "execution_count": 30,
   "metadata": {
    "hidden": true
   },
   "outputs": [
    {
     "name": "stdout",
     "output_type": "stream",
     "text": [
      "                             Parameter Estimates                              \n",
      "==============================================================================\n",
      "            Parameter  Std. Err.     T-stat    P-value    Lower CI    Upper CI\n",
      "------------------------------------------------------------------------------\n",
      "Intercept      1523.8     303.43     5.0219     0.0000      929.07      2118.5\n",
      "educ          -6.6219     17.989    -0.3681     0.7128     -41.879      28.636\n",
      "age            0.5623     5.1039     0.1102     0.9123     -9.4411      10.566\n",
      "kidslt6       -328.86     100.74    -3.2643     0.0011     -526.31     -131.40\n",
      "nwifeinc      -5.9185     3.6574    -1.6182     0.1056     -13.087      1.2500\n",
      "lwage         -2.0468     54.494    -0.0376     0.9700     -108.85      104.76\n",
      "==============================================================================\n"
     ]
    }
   ],
   "source": [
    "form_L_ols = 'hours ~ 1 + educ + age + kidslt6 + nwifeinc + lwage '\n",
    "\n",
    "mod_L_ols = IV2SLS.from_formula(form_L_ols, data=mroz)\n",
    "\n",
    "res_L_ols = mod_L_ols.fit(cov_type='unadjusted')\n",
    "\n",
    "print(res_L_ols.summary.tables[1])"
   ]
  },
  {
   "cell_type": "code",
   "execution_count": 31,
   "metadata": {
    "hidden": true
   },
   "outputs": [
    {
     "name": "stdout",
     "output_type": "stream",
     "text": [
      "                             Parameter Estimates                              \n",
      "==============================================================================\n",
      "            Parameter  Std. Err.     T-stat    P-value    Lower CI    Upper CI\n",
      "------------------------------------------------------------------------------\n",
      "Intercept     -0.6557     0.3358    -1.9527     0.0509     -1.3139      0.0024\n",
      "educ           0.1103     0.0154     7.1488     0.0000      0.0801      0.1406\n",
      "exper          0.0346     0.0194     1.7847     0.0743     -0.0034      0.0726\n",
      "expersq       -0.0007     0.0005    -1.5634     0.1179     -0.0016      0.0002\n",
      "hours          0.0001     0.0003     0.4974     0.6189     -0.0004      0.0006\n",
      "==============================================================================\n"
     ]
    }
   ],
   "source": [
    "form_P = 'lwage ~ 1 + educ + exper + expersq + [hours ~ age + kidslt6 + nwifeinc]'\n",
    "\n",
    "mod_P = IV2SLS.from_formula(form_P, data=mroz)\n",
    "\n",
    "res_P = mod_P.fit(cov_type='unadjusted')\n",
    "\n",
    "print(res_P.summary.tables[1])"
   ]
  },
  {
   "cell_type": "code",
   "execution_count": 32,
   "metadata": {
    "hidden": true
   },
   "outputs": [
    {
     "name": "stdout",
     "output_type": "stream",
     "text": [
      "                             Parameter Estimates                              \n",
      "==============================================================================\n",
      "            Parameter  Std. Err.     T-stat    P-value    Lower CI    Upper CI\n",
      "------------------------------------------------------------------------------\n",
      "Intercept     -0.4620     0.2027    -2.2797     0.0226     -0.8592     -0.0648\n",
      "educ           0.1062     0.0141     7.5400     0.0000      0.0786      0.1338\n",
      "exper          0.0447     0.0133     3.3590     0.0008      0.0186      0.0708\n",
      "expersq       -0.0009     0.0004    -2.1883     0.0286     -0.0016   -8.96e-05\n",
      "hours      -5.655e-05  4.353e-05    -1.2992     0.1939     -0.0001   2.876e-05\n",
      "==============================================================================\n"
     ]
    }
   ],
   "source": [
    "form_W_ols = 'lwage ~ 1 + educ + exper + expersq + hours'\n",
    "\n",
    "mod_W_ols = IV2SLS.from_formula(form_W_ols, data=mroz)\n",
    "\n",
    "res_W_ols = mod_W_ols.fit(cov_type='unadjusted')\n",
    "\n",
    "print(res_W_ols.summary.tables[1])"
   ]
  },
  {
   "cell_type": "code",
   "execution_count": 33,
   "metadata": {
    "hidden": true
   },
   "outputs": [],
   "source": [
    "n = 1000\n",
    "N = 10_000"
   ]
  },
  {
   "cell_type": "code",
   "execution_count": 34,
   "metadata": {
    "hidden": true
   },
   "outputs": [],
   "source": [
    "b0 = 1.0\n",
    "b1 = 1.0"
   ]
  },
  {
   "cell_type": "code",
   "execution_count": 35,
   "metadata": {
    "hidden": true
   },
   "outputs": [],
   "source": [
    "x_pop = uniform.rvs(1,10,size=n)  # 母集団の説明変数\n",
    "u = norm.rvs(scale=1, size=n)  # 母集団の誤差項\n",
    "y = b0 + b1*x_pop + u  # 母集団回帰式"
   ]
  },
  {
   "cell_type": "code",
   "execution_count": 36,
   "metadata": {
    "hidden": true
   },
   "outputs": [],
   "source": [
    "error_sd = 3"
   ]
  },
  {
   "cell_type": "code",
   "execution_count": 37,
   "metadata": {
    "hidden": true
   },
   "outputs": [],
   "source": [
    "# シミュレーションで計算した推定量を入れる空のリストの作成\n",
    "b1_ols_list = []  # OLS推定量\n",
    "b1_iv_list = []  # IV推定量\n",
    "\n",
    "for j in range(N):  # N回のループ\n",
    "    x = x_pop + norm.rvs(scale=error_sd, size=n)  # 測定誤差\n",
    "    z = x_pop + norm.rvs(scale=error_sd, size=n)  # 操作変数\n",
    "    \n",
    "    c = np.ones(n)  # 定数項\n",
    "    \n",
    "    # IV 第１ステージ\n",
    "    Xiv1 = np.stack([c,z],axis=1)\n",
    "    pihat = np.linalg.inv((Xiv1.T)@Xiv1)@(Xiv1.T)@x  # IV推定\n",
    "    xhat = Xiv1@pihat  # x1の予測値\n",
    "    # IV 第２ステージ\n",
    "    Xiv2 = np.stack([c,xhat],axis=1)        \n",
    "    beta_iv = np.linalg.inv((Xiv2.T)@Xiv2)@(Xiv2.T)@y  # IV推定\n",
    "    b1_iv_list.append(beta_iv[1])  # b1のIV推定量をリストに追加\n",
    "\n",
    "    # OLS\n",
    "    X = np.stack([c,x],axis=1)        \n",
    "    beta_ols = np.linalg.inv((X.T)@X)@(X.T)@y  # OLS推定\n",
    "    b1_ols_list.append(beta_ols[1])  # b1のOLS推定量"
   ]
  },
  {
   "cell_type": "code",
   "execution_count": 38,
   "metadata": {
    "hidden": true
   },
   "outputs": [
    {
     "data": {
      "image/png": "[encoded data removed]",
      "text/plain": [
       "<Figure size 432x288 with 1 Axes>"
      ]
     },
     "metadata": {
      "needs_background": "light"
     },
     "output_type": "display_data"
    }
   ],
   "source": [
    "xx=np.linspace(0.4,1.2,num=100)  # 図を作成するために横軸の値を設定\n",
    "\n",
    "kde_model_ols=gaussian_kde(b1_ols_list)  # t値のカーネル密度推定を設定\n",
    "b1_ols_dist = kde_model_ols(xx)\n",
    "\n",
    "kde_model_iv=gaussian_kde(b1_iv_list)  # t値のカーネル密度推定を設定\n",
    "b1_iv_dist = kde_model_iv(xx)\n",
    "\n",
    "plt.plot(xx, b1_ols_dist, 'g-', label='OLS Estimates')  # t値の分布プロット\n",
    "plt.plot(xx, b1_iv_dist,'r-', label='IV Estimates')  # t分布\n",
    "plt.axvline(x=b1,linestyle='dashed')\n",
    "plt.ylabel('Kernel Density')  # 縦軸のラベル\n",
    "plt.legend()\n",
    "pass"
   ]
  }
 ],
 "metadata": {
  "celltoolbar": "Tags",
  "kernelspec": {
   "display_name": "latest",
   "language": "python",
   "name": "latest"
  },
  "language_info": {
   "codemirror_mode": {
    "name": "ipython",
    "version": 3
   },
   "file_extension": ".py",
   "mimetype": "text/x-python",
   "name": "python",
   "nbconvert_exporter": "python",
   "pygments_lexer": "ipython3",
   "version": "3.8.3"
  },
  "toc": {
   "base_numbering": 1,
   "nav_menu": {},
   "number_sections": true,
   "sideBar": true,
   "skip_h1_title": false,
   "title_cell": "Table of Contents",
   "title_sidebar": "Contents",
   "toc_cell": false,
   "toc_position": {},
   "toc_section_display": true,
   "toc_window_display": false
  }
 },
 "nbformat": 4,
 "nbformat_minor": 2
}