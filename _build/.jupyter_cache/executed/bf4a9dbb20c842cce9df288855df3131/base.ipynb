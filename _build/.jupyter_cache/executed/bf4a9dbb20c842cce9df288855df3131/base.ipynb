{
 "cells": [
  {
   "cell_type": "code",
   "execution_count": 1,
   "metadata": {
    "hidden": true
   },
   "outputs": [],
   "source": [
    "import pandas as pd\n",
    "import matplotlib.pyplot as plt\n",
    "from see import see"
   ]
  },
  {
   "cell_type": "code",
   "execution_count": 2,
   "metadata": {
    "hidden": true
   },
   "outputs": [],
   "source": [
    "#ーーーーー dfに成績表を割り当てる ーーーーー\n",
    "\n",
    "# df = pd.read_clipboard()\n",
    "# df.head()"
   ]
  },
  {
   "cell_type": "code",
   "execution_count": 3,
   "metadata": {
    "hidden": true
   },
   "outputs": [],
   "source": [
    "#ーーーーー csvに保存 ーーーーー\n",
    "\n",
    "# df.to_csv('成績表20200708.csv')"
   ]
  },
  {
   "cell_type": "code",
   "execution_count": 4,
   "metadata": {
    "hidden": true
   },
   "outputs": [],
   "source": [
    "#ーーーーー 保存先のフォルダの確認 ーーーーー\n",
    "\n",
    "# %pwd"
   ]
  },
  {
   "cell_type": "code",
   "execution_count": 5,
   "metadata": {
    "hidden": true,
    "tags": [
     "output_scroll"
    ]
   },
   "outputs": [
    {
     "data": {
      "text/html": [
       "<div>\n",
       "<style scoped>\n",
       "    .dataframe tbody tr th:only-of-type {\n",
       "        vertical-align: middle;\n",
       "    }\n",
       "\n",
       "    .dataframe tbody tr th {\n",
       "        vertical-align: top;\n",
       "    }\n",
       "\n",
       "    .dataframe thead th {\n",
       "        text-align: right;\n",
       "    }\n",
       "</style>\n",
       "<table border=\"1\" class=\"dataframe\">\n",
       "  <thead>\n",
       "    <tr style=\"text-align: right;\">\n",
       "      <th></th>\n",
       "      <th>No.</th>\n",
       "      <th>区分</th>\n",
       "      <th>科目大区分</th>\n",
       "      <th>科目中区分</th>\n",
       "      <th>科目ナンバー</th>\n",
       "      <th>科目</th>\n",
       "      <th>単位数</th>\n",
       "      <th>修得年度</th>\n",
       "      <th>修得学期</th>\n",
       "      <th>評語</th>\n",
       "      <th>科目GP</th>\n",
       "      <th>合否</th>\n",
       "    </tr>\n",
       "  </thead>\n",
       "  <tbody>\n",
       "    <tr>\n",
       "      <th>0</th>\n",
       "      <td>1</td>\n",
       "      <td>全学共通授業科目</td>\n",
       "      <td>基礎教養科目</td>\n",
       "      <td>NaN</td>\n",
       "      <td>U1AA100</td>\n",
       "      <td>XX学</td>\n",
       "      <td>1</td>\n",
       "      <td>2020</td>\n",
       "      <td>前期</td>\n",
       "      <td>合格</td>\n",
       "      <td>-</td>\n",
       "      <td>合</td>\n",
       "    </tr>\n",
       "    <tr>\n",
       "      <th>1</th>\n",
       "      <td>2</td>\n",
       "      <td>全学共通授業科目</td>\n",
       "      <td>基礎教養科目</td>\n",
       "      <td>NaN</td>\n",
       "      <td>U1AA100</td>\n",
       "      <td>XX学</td>\n",
       "      <td>1</td>\n",
       "      <td>2020</td>\n",
       "      <td>前期</td>\n",
       "      <td>合格</td>\n",
       "      <td>-</td>\n",
       "      <td>合</td>\n",
       "    </tr>\n",
       "    <tr>\n",
       "      <th>2</th>\n",
       "      <td>3</td>\n",
       "      <td>全学共通授業科目</td>\n",
       "      <td>基礎教養科目</td>\n",
       "      <td>NaN</td>\n",
       "      <td>U1AA100</td>\n",
       "      <td>XX学</td>\n",
       "      <td>1</td>\n",
       "      <td>2020</td>\n",
       "      <td>前期</td>\n",
       "      <td>可</td>\n",
       "      <td>2</td>\n",
       "      <td>合</td>\n",
       "    </tr>\n",
       "    <tr>\n",
       "      <th>3</th>\n",
       "      <td>4</td>\n",
       "      <td>全学共通授業科目</td>\n",
       "      <td>基礎教養科目</td>\n",
       "      <td>NaN</td>\n",
       "      <td>U1AB100</td>\n",
       "      <td>XX学Ａ</td>\n",
       "      <td>1</td>\n",
       "      <td>2020</td>\n",
       "      <td>後期</td>\n",
       "      <td>秀</td>\n",
       "      <td>4.3</td>\n",
       "      <td>合</td>\n",
       "    </tr>\n",
       "    <tr>\n",
       "      <th>4</th>\n",
       "      <td>5</td>\n",
       "      <td>全学共通授業科目</td>\n",
       "      <td>基礎教養科目</td>\n",
       "      <td>NaN</td>\n",
       "      <td>U1AB100</td>\n",
       "      <td>XX学Ｂ</td>\n",
       "      <td>1</td>\n",
       "      <td>2019</td>\n",
       "      <td>後期</td>\n",
       "      <td>可</td>\n",
       "      <td>2</td>\n",
       "      <td>合</td>\n",
       "    </tr>\n",
       "    <tr>\n",
       "      <th>5</th>\n",
       "      <td>6</td>\n",
       "      <td>全学共通授業科目</td>\n",
       "      <td>基礎教養科目</td>\n",
       "      <td>NaN</td>\n",
       "      <td>U1AD100</td>\n",
       "      <td>X学Ａ</td>\n",
       "      <td>1</td>\n",
       "      <td>2019</td>\n",
       "      <td>後期</td>\n",
       "      <td>優</td>\n",
       "      <td>4</td>\n",
       "      <td>合</td>\n",
       "    </tr>\n",
       "    <tr>\n",
       "      <th>6</th>\n",
       "      <td>7</td>\n",
       "      <td>全学共通授業科目</td>\n",
       "      <td>基礎教養科目</td>\n",
       "      <td>NaN</td>\n",
       "      <td>U1AD100</td>\n",
       "      <td>X学Ｂ</td>\n",
       "      <td>1</td>\n",
       "      <td>2019</td>\n",
       "      <td>前期</td>\n",
       "      <td>秀</td>\n",
       "      <td>4.3</td>\n",
       "      <td>合</td>\n",
       "    </tr>\n",
       "    <tr>\n",
       "      <th>7</th>\n",
       "      <td>8</td>\n",
       "      <td>全学共通授業科目</td>\n",
       "      <td>基礎教養科目</td>\n",
       "      <td>NaN</td>\n",
       "      <td>U1AA100</td>\n",
       "      <td>X学</td>\n",
       "      <td>1</td>\n",
       "      <td>2018</td>\n",
       "      <td>前期</td>\n",
       "      <td>可</td>\n",
       "      <td>2</td>\n",
       "      <td>合</td>\n",
       "    </tr>\n",
       "    <tr>\n",
       "      <th>8</th>\n",
       "      <td>9</td>\n",
       "      <td>全学共通授業科目</td>\n",
       "      <td>基礎教養科目</td>\n",
       "      <td>NaN</td>\n",
       "      <td>U1AB100</td>\n",
       "      <td>X学Ａ</td>\n",
       "      <td>1</td>\n",
       "      <td>2018</td>\n",
       "      <td>後期</td>\n",
       "      <td>秀</td>\n",
       "      <td>4.3</td>\n",
       "      <td>合</td>\n",
       "    </tr>\n",
       "    <tr>\n",
       "      <th>9</th>\n",
       "      <td>10</td>\n",
       "      <td>全学共通授業科目</td>\n",
       "      <td>基礎教養科目</td>\n",
       "      <td>NaN</td>\n",
       "      <td>U1AB100</td>\n",
       "      <td>X学Ｂ</td>\n",
       "      <td>1</td>\n",
       "      <td>2018</td>\n",
       "      <td>後期</td>\n",
       "      <td>可</td>\n",
       "      <td>2</td>\n",
       "      <td>合</td>\n",
       "    </tr>\n",
       "    <tr>\n",
       "      <th>10</th>\n",
       "      <td>11</td>\n",
       "      <td>全学共通授業科目</td>\n",
       "      <td>基礎教養科目</td>\n",
       "      <td>NaN</td>\n",
       "      <td>U1AD100</td>\n",
       "      <td>X学Ａ</td>\n",
       "      <td>1</td>\n",
       "      <td>2018</td>\n",
       "      <td>後期</td>\n",
       "      <td>優</td>\n",
       "      <td>4</td>\n",
       "      <td>合</td>\n",
       "    </tr>\n",
       "    <tr>\n",
       "      <th>11</th>\n",
       "      <td>12</td>\n",
       "      <td>全学共通授業科目</td>\n",
       "      <td>基礎教養科目</td>\n",
       "      <td>NaN</td>\n",
       "      <td>U1AD100</td>\n",
       "      <td>X学Ｂ</td>\n",
       "      <td>1</td>\n",
       "      <td>2019</td>\n",
       "      <td>前期</td>\n",
       "      <td>秀</td>\n",
       "      <td>4.3</td>\n",
       "      <td>合</td>\n",
       "    </tr>\n",
       "    <tr>\n",
       "      <th>12</th>\n",
       "      <td>13</td>\n",
       "      <td>高度教養科目</td>\n",
       "      <td>高度教養科目</td>\n",
       "      <td>NaN</td>\n",
       "      <td>U1AA100</td>\n",
       "      <td>X学</td>\n",
       "      <td>1</td>\n",
       "      <td>2019</td>\n",
       "      <td>前期</td>\n",
       "      <td>可</td>\n",
       "      <td>2</td>\n",
       "      <td>合</td>\n",
       "    </tr>\n",
       "    <tr>\n",
       "      <th>13</th>\n",
       "      <td>14</td>\n",
       "      <td>高度教養科目</td>\n",
       "      <td>高度教養科目</td>\n",
       "      <td>NaN</td>\n",
       "      <td>U1AA100</td>\n",
       "      <td>X学</td>\n",
       "      <td>1</td>\n",
       "      <td>2019</td>\n",
       "      <td>前期</td>\n",
       "      <td>可</td>\n",
       "      <td>2</td>\n",
       "      <td>合</td>\n",
       "    </tr>\n",
       "    <tr>\n",
       "      <th>14</th>\n",
       "      <td>15</td>\n",
       "      <td>高度教養科目</td>\n",
       "      <td>高度教養科目</td>\n",
       "      <td>NaN</td>\n",
       "      <td>U1AA100</td>\n",
       "      <td>X学</td>\n",
       "      <td>1</td>\n",
       "      <td>2020</td>\n",
       "      <td>前期</td>\n",
       "      <td>優</td>\n",
       "      <td>4</td>\n",
       "      <td>合</td>\n",
       "    </tr>\n",
       "    <tr>\n",
       "      <th>15</th>\n",
       "      <td>16</td>\n",
       "      <td>専門科目</td>\n",
       "      <td>専門科目</td>\n",
       "      <td>NaN</td>\n",
       "      <td>U1AA100</td>\n",
       "      <td>XX学</td>\n",
       "      <td>2</td>\n",
       "      <td>2020</td>\n",
       "      <td>前期</td>\n",
       "      <td>可</td>\n",
       "      <td>2</td>\n",
       "      <td>合</td>\n",
       "    </tr>\n",
       "    <tr>\n",
       "      <th>16</th>\n",
       "      <td>17</td>\n",
       "      <td>専門科目</td>\n",
       "      <td>専門科目</td>\n",
       "      <td>NaN</td>\n",
       "      <td>U1AB100</td>\n",
       "      <td>XX学Ａ</td>\n",
       "      <td>1</td>\n",
       "      <td>2020</td>\n",
       "      <td>後期</td>\n",
       "      <td>秀</td>\n",
       "      <td>4.3</td>\n",
       "      <td>合</td>\n",
       "    </tr>\n",
       "    <tr>\n",
       "      <th>17</th>\n",
       "      <td>18</td>\n",
       "      <td>専門科目</td>\n",
       "      <td>専門科目</td>\n",
       "      <td>NaN</td>\n",
       "      <td>U1AB100</td>\n",
       "      <td>XX学Ｂ</td>\n",
       "      <td>4</td>\n",
       "      <td>2020</td>\n",
       "      <td>後期</td>\n",
       "      <td>可</td>\n",
       "      <td>2</td>\n",
       "      <td>合</td>\n",
       "    </tr>\n",
       "    <tr>\n",
       "      <th>18</th>\n",
       "      <td>19</td>\n",
       "      <td>専門科目</td>\n",
       "      <td>専門科目</td>\n",
       "      <td>NaN</td>\n",
       "      <td>U1AD100</td>\n",
       "      <td>X学Ａ</td>\n",
       "      <td>1</td>\n",
       "      <td>2019</td>\n",
       "      <td>後期</td>\n",
       "      <td>優</td>\n",
       "      <td>4</td>\n",
       "      <td>合</td>\n",
       "    </tr>\n",
       "    <tr>\n",
       "      <th>19</th>\n",
       "      <td>20</td>\n",
       "      <td>専門科目</td>\n",
       "      <td>専門科目</td>\n",
       "      <td>NaN</td>\n",
       "      <td>U1AD100</td>\n",
       "      <td>X学Ｂ</td>\n",
       "      <td>1</td>\n",
       "      <td>2019</td>\n",
       "      <td>前期</td>\n",
       "      <td>秀</td>\n",
       "      <td>4.3</td>\n",
       "      <td>合</td>\n",
       "    </tr>\n",
       "    <tr>\n",
       "      <th>20</th>\n",
       "      <td>21</td>\n",
       "      <td>専門科目</td>\n",
       "      <td>専門科目</td>\n",
       "      <td>NaN</td>\n",
       "      <td>U1AA100</td>\n",
       "      <td>X学</td>\n",
       "      <td>1</td>\n",
       "      <td>2019</td>\n",
       "      <td>前期</td>\n",
       "      <td>可</td>\n",
       "      <td>2</td>\n",
       "      <td>合</td>\n",
       "    </tr>\n",
       "    <tr>\n",
       "      <th>21</th>\n",
       "      <td>22</td>\n",
       "      <td>専門科目</td>\n",
       "      <td>専門科目</td>\n",
       "      <td>NaN</td>\n",
       "      <td>U1AB100</td>\n",
       "      <td>X学Ａ</td>\n",
       "      <td>2</td>\n",
       "      <td>2019</td>\n",
       "      <td>後期</td>\n",
       "      <td>秀</td>\n",
       "      <td>4.3</td>\n",
       "      <td>合</td>\n",
       "    </tr>\n",
       "    <tr>\n",
       "      <th>22</th>\n",
       "      <td>23</td>\n",
       "      <td>専門科目</td>\n",
       "      <td>専門科目</td>\n",
       "      <td>NaN</td>\n",
       "      <td>U1AB100</td>\n",
       "      <td>X学Ｂ</td>\n",
       "      <td>2</td>\n",
       "      <td>2018</td>\n",
       "      <td>後期</td>\n",
       "      <td>可</td>\n",
       "      <td>2</td>\n",
       "      <td>合</td>\n",
       "    </tr>\n",
       "    <tr>\n",
       "      <th>23</th>\n",
       "      <td>24</td>\n",
       "      <td>専門科目</td>\n",
       "      <td>専門科目</td>\n",
       "      <td>NaN</td>\n",
       "      <td>U1AD100</td>\n",
       "      <td>X学Ａ</td>\n",
       "      <td>2</td>\n",
       "      <td>2018</td>\n",
       "      <td>後期</td>\n",
       "      <td>優</td>\n",
       "      <td>4</td>\n",
       "      <td>合</td>\n",
       "    </tr>\n",
       "    <tr>\n",
       "      <th>24</th>\n",
       "      <td>25</td>\n",
       "      <td>専門科目</td>\n",
       "      <td>専門科目</td>\n",
       "      <td>NaN</td>\n",
       "      <td>U1AD100</td>\n",
       "      <td>X学Ａ</td>\n",
       "      <td>2</td>\n",
       "      <td>2018</td>\n",
       "      <td>後期</td>\n",
       "      <td>良</td>\n",
       "      <td>3</td>\n",
       "      <td>合</td>\n",
       "    </tr>\n",
       "    <tr>\n",
       "      <th>25</th>\n",
       "      <td>26</td>\n",
       "      <td>専門科目</td>\n",
       "      <td>専門科目</td>\n",
       "      <td>NaN</td>\n",
       "      <td>U1AD100</td>\n",
       "      <td>X学Ｂ</td>\n",
       "      <td>1</td>\n",
       "      <td>2018</td>\n",
       "      <td>前期</td>\n",
       "      <td>取消</td>\n",
       "      <td>-</td>\n",
       "      <td>NaN</td>\n",
       "    </tr>\n",
       "    <tr>\n",
       "      <th>26</th>\n",
       "      <td>27</td>\n",
       "      <td>専門科目</td>\n",
       "      <td>専門科目</td>\n",
       "      <td>NaN</td>\n",
       "      <td>U1AD100</td>\n",
       "      <td>X学Ｂ</td>\n",
       "      <td>1</td>\n",
       "      <td>2018</td>\n",
       "      <td>前期</td>\n",
       "      <td>不可</td>\n",
       "      <td>0</td>\n",
       "      <td>NaN</td>\n",
       "    </tr>\n",
       "    <tr>\n",
       "      <th>27</th>\n",
       "      <td>28</td>\n",
       "      <td>専門科目</td>\n",
       "      <td>専門科目</td>\n",
       "      <td>NaN</td>\n",
       "      <td>U1AD100</td>\n",
       "      <td>X学Ｂ</td>\n",
       "      <td>1</td>\n",
       "      <td>2018</td>\n",
       "      <td>前期</td>\n",
       "      <td>不可</td>\n",
       "      <td>*</td>\n",
       "      <td>否</td>\n",
       "    </tr>\n",
       "    <tr>\n",
       "      <th>28</th>\n",
       "      <td>29</td>\n",
       "      <td>専門科目</td>\n",
       "      <td>専門科目</td>\n",
       "      <td>NaN</td>\n",
       "      <td>U1AD100</td>\n",
       "      <td>X学Ｂ</td>\n",
       "      <td>1</td>\n",
       "      <td>2018</td>\n",
       "      <td>前期</td>\n",
       "      <td>取消</td>\n",
       "      <td>-</td>\n",
       "      <td>NaN</td>\n",
       "    </tr>\n",
       "    <tr>\n",
       "      <th>29</th>\n",
       "      <td>30</td>\n",
       "      <td>専門科目</td>\n",
       "      <td>専門科目</td>\n",
       "      <td>NaN</td>\n",
       "      <td>U1AD100</td>\n",
       "      <td>X学Ｂ</td>\n",
       "      <td>1</td>\n",
       "      <td>2018</td>\n",
       "      <td>前期</td>\n",
       "      <td>認定</td>\n",
       "      <td>-</td>\n",
       "      <td>合</td>\n",
       "    </tr>\n",
       "  </tbody>\n",
       "</table>\n",
       "</div>"
      ],
      "text/plain": [
       "    No.        区分   科目大区分  科目中区分   科目ナンバー    科目  単位数  修得年度 修得学期  評語 科目GP   合否\n",
       "0     1  全学共通授業科目  基礎教養科目    NaN  U1AA100   XX学    1  2020   前期  合格    -    合\n",
       "1     2  全学共通授業科目  基礎教養科目    NaN  U1AA100   XX学    1  2020   前期  合格    -    合\n",
       "2     3  全学共通授業科目  基礎教養科目    NaN  U1AA100   XX学    1  2020   前期   可    2    合\n",
       "3     4  全学共通授業科目  基礎教養科目    NaN  U1AB100  XX学Ａ    1  2020   後期   秀  4.3    合\n",
       "4     5  全学共通授業科目  基礎教養科目    NaN  U1AB100  XX学Ｂ    1  2019   後期   可    2    合\n",
       "5     6  全学共通授業科目  基礎教養科目    NaN  U1AD100   X学Ａ    1  2019   後期   優    4    合\n",
       "6     7  全学共通授業科目  基礎教養科目    NaN  U1AD100   X学Ｂ    1  2019   前期   秀  4.3    合\n",
       "7     8  全学共通授業科目  基礎教養科目    NaN  U1AA100    X学    1  2018   前期   可    2    合\n",
       "8     9  全学共通授業科目  基礎教養科目    NaN  U1AB100   X学Ａ    1  2018   後期   秀  4.3    合\n",
       "9    10  全学共通授業科目  基礎教養科目    NaN  U1AB100   X学Ｂ    1  2018   後期   可    2    合\n",
       "10   11  全学共通授業科目  基礎教養科目    NaN  U1AD100   X学Ａ    1  2018   後期   優    4    合\n",
       "11   12  全学共通授業科目  基礎教養科目    NaN  U1AD100   X学Ｂ    1  2019   前期   秀  4.3    合\n",
       "12   13    高度教養科目  高度教養科目    NaN  U1AA100    X学    1  2019   前期   可    2    合\n",
       "13   14    高度教養科目  高度教養科目    NaN  U1AA100    X学    1  2019   前期   可    2    合\n",
       "14   15    高度教養科目  高度教養科目    NaN  U1AA100    X学    1  2020   前期   優    4    合\n",
       "15   16      専門科目    専門科目    NaN  U1AA100   XX学    2  2020   前期   可    2    合\n",
       "16   17      専門科目    専門科目    NaN  U1AB100  XX学Ａ    1  2020   後期   秀  4.3    合\n",
       "17   18      専門科目    専門科目    NaN  U1AB100  XX学Ｂ    4  2020   後期   可    2    合\n",
       "18   19      専門科目    専門科目    NaN  U1AD100   X学Ａ    1  2019   後期   優    4    合\n",
       "19   20      専門科目    専門科目    NaN  U1AD100   X学Ｂ    1  2019   前期   秀  4.3    合\n",
       "20   21      専門科目    専門科目    NaN  U1AA100    X学    1  2019   前期   可    2    合\n",
       "21   22      専門科目    専門科目    NaN  U1AB100   X学Ａ    2  2019   後期   秀  4.3    合\n",
       "22   23      専門科目    専門科目    NaN  U1AB100   X学Ｂ    2  2018   後期   可    2    合\n",
       "23   24      専門科目    専門科目    NaN  U1AD100   X学Ａ    2  2018   後期   優    4    合\n",
       "24   25      専門科目    専門科目    NaN  U1AD100   X学Ａ    2  2018   後期   良    3    合\n",
       "25   26      専門科目    専門科目    NaN  U1AD100   X学Ｂ    1  2018   前期  取消    -  NaN\n",
       "26   27      専門科目    専門科目    NaN  U1AD100   X学Ｂ    1  2018   前期  不可    0  NaN\n",
       "27   28      専門科目    専門科目    NaN  U1AD100   X学Ｂ    1  2018   前期  不可    *    否\n",
       "28   29      専門科目    専門科目    NaN  U1AD100   X学Ｂ    1  2018   前期  取消    -  NaN\n",
       "29   30      専門科目    専門科目    NaN  U1AD100   X学Ｂ    1  2018   前期  認定    -    合"
      ]
     },
     "execution_count": 5,
     "metadata": {},
     "output_type": "execute_result"
    }
   ],
   "source": [
    "df = pd.read_csv('https://raw.githubusercontent.com/Haruyama-KobeU/Py4Basics/master/data/data_for_mark.csv')\n",
    "df"
   ]
  },
  {
   "cell_type": "code",
   "execution_count": 6,
   "metadata": {
    "hidden": true
   },
   "outputs": [
    {
     "data": {
      "text/plain": [
       "Index(['No.', '区分', '科目大区分', '科目中区分', '科目ナンバー', '科目', '単位数', '修得年度', '修得学期',\n",
       "       '評語', '科目GP', '合否'],\n",
       "      dtype='object')"
      ]
     },
     "execution_count": 6,
     "metadata": {},
     "output_type": "execute_result"
    }
   ],
   "source": [
    "col = df.columns\n",
    "col"
   ]
  },
  {
   "cell_type": "code",
   "execution_count": 7,
   "metadata": {
    "hidden": true
   },
   "outputs": [
    {
     "name": "stdout",
     "output_type": "stream",
     "text": [
      "No.\n",
      "区分\n",
      "科目大区分\n",
      "科目中区分\n",
      "科目ナンバー\n",
      "科目\n",
      "単位数\n",
      "修得年度\n",
      "修得学期\n",
      "評語\n",
      "科目GP\n",
      "合否\n"
     ]
    }
   ],
   "source": [
    "for c in col:\n",
    "    print(c)"
   ]
  },
  {
   "cell_type": "code",
   "execution_count": 8,
   "metadata": {
    "hidden": true
   },
   "outputs": [
    {
     "data": {
      "text/plain": [
       "array(['全学共通授業科目', '高度教養科目', '専門科目'], dtype=object)"
      ]
     },
     "execution_count": 8,
     "metadata": {},
     "output_type": "execute_result"
    }
   ],
   "source": [
    "df['区分'].unique()"
   ]
  },
  {
   "cell_type": "code",
   "execution_count": 9,
   "metadata": {
    "hidden": true
   },
   "outputs": [
    {
     "name": "stdout",
     "output_type": "stream",
     "text": [
      "区分 ['全学共通授業科目' '高度教養科目' '専門科目']\n",
      "科目大区分 ['基礎教養科目' '高度教養科目' '専門科目']\n",
      "科目中区分 [nan]\n",
      "科目ナンバー ['U1AA100' 'U1AB100' 'U1AD100']\n",
      "科目 ['XX学' 'XX学Ａ' 'XX学Ｂ' 'X学Ａ' 'X学Ｂ' 'X学']\n",
      "単位数 [1 2 4]\n",
      "修得年度 [2020 2019 2018]\n",
      "修得学期 ['前期' '後期']\n",
      "評語 ['合格' '可' '秀' '優' '良' '取消' '不可' '認定']\n",
      "科目GP ['-' '2' '4.3' '4' '3' '0' '*']\n",
      "合否 ['合' nan '否']\n"
     ]
    }
   ],
   "source": [
    "for c in col[1:]:      # Noの列を除外\n",
    "    x = df[c].unique()\n",
    "    print(c, x)"
   ]
  },
  {
   "cell_type": "code",
   "execution_count": 10,
   "metadata": {
    "hidden": true
   },
   "outputs": [],
   "source": [
    "df_other = df.query('区分 == \"全学共通授業科目\" or 区分 == \"高度教養科目\"')\n",
    "df_econ = df.query('区分 == \"専門科目\"')"
   ]
  },
  {
   "cell_type": "code",
   "execution_count": 11,
   "metadata": {
    "hidden": true
   },
   "outputs": [
    {
     "data": {
      "text/plain": [
       "(30, 15, 15)"
      ]
     },
     "execution_count": 11,
     "metadata": {},
     "output_type": "execute_result"
    }
   ],
   "source": [
    "len(df),len(df_other),len(df_econ)"
   ]
  },
  {
   "cell_type": "code",
   "execution_count": 12,
   "metadata": {
    "hidden": true
   },
   "outputs": [
    {
     "data": {
      "text/plain": [
       "array(['全学共通授業科目', '高度教養科目', '専門科目'], dtype=object)"
      ]
     },
     "execution_count": 12,
     "metadata": {},
     "output_type": "execute_result"
    }
   ],
   "source": [
    "kubun = df.loc[:,col[1]]\n",
    "\n",
    "kubun_arr = kubun.unique()\n",
    "kubun_arr"
   ]
  },
  {
   "cell_type": "code",
   "execution_count": 13,
   "metadata": {
    "hidden": true
   },
   "outputs": [],
   "source": [
    "other = ( ( kubun == kubun_arr[0] ) | ( kubun == kubun_arr[1] ) )\n",
    "econ = ( kubun == kubun_arr[2] )"
   ]
  },
  {
   "cell_type": "code",
   "execution_count": 14,
   "metadata": {
    "hidden": true
   },
   "outputs": [],
   "source": [
    "df_other = df.loc[other,:]\n",
    "df_econ = df.loc[econ,:]"
   ]
  },
  {
   "cell_type": "code",
   "execution_count": 15,
   "metadata": {
    "hidden": true
   },
   "outputs": [
    {
     "data": {
      "text/plain": [
       "(30, 15, 15)"
      ]
     },
     "execution_count": 15,
     "metadata": {},
     "output_type": "execute_result"
    }
   ],
   "source": [
    "len(df),len(df_other),len(df_econ)"
   ]
  },
  {
   "cell_type": "code",
   "execution_count": 16,
   "metadata": {
    "hidden": true
   },
   "outputs": [
    {
     "name": "stdout",
     "output_type": "stream",
     "text": [
      "私は春山ゼミに所属しています。\n"
     ]
    }
   ],
   "source": [
    "x='春山'\n",
    "print(f'私は{x}ゼミに所属しています。')"
   ]
  },
  {
   "cell_type": "code",
   "execution_count": 17,
   "metadata": {
    "hidden": true
   },
   "outputs": [
    {
     "name": "stdout",
     "output_type": "stream",
     "text": [
      "合計は6です。\n"
     ]
    }
   ],
   "source": [
    "l = [1,2,3]\n",
    "print(f'合計は{sum(l)}です。')"
   ]
  },
  {
   "cell_type": "code",
   "execution_count": 18,
   "metadata": {
    "hidden": true
   },
   "outputs": [
    {
     "data": {
      "text/plain": [
       "可     10\n",
       "秀      7\n",
       "優      5\n",
       "不可     2\n",
       "合格     2\n",
       "取消     2\n",
       "認定     1\n",
       "良      1\n",
       "Name: 評語, dtype: int64"
      ]
     },
     "execution_count": 18,
     "metadata": {},
     "output_type": "execute_result"
    }
   ],
   "source": [
    "df.loc[:,'評語'].value_counts()"
   ]
  },
  {
   "cell_type": "code",
   "execution_count": 19,
   "metadata": {
    "hidden": true
   },
   "outputs": [
    {
     "data": {
      "text/plain": [
       "array(['合格', '可', '秀', '優', '良', '取消', '不可', '認定'], dtype=object)"
      ]
     },
     "execution_count": 19,
     "metadata": {},
     "output_type": "execute_result"
    }
   ],
   "source": [
    "m = df.loc[:,'評語'].unique()\n",
    "m"
   ]
  },
  {
   "cell_type": "code",
   "execution_count": 20,
   "metadata": {
    "hidden": true
   },
   "outputs": [
    {
     "data": {
      "text/plain": [
       "['秀', '優', '良', '可', '合格', '認定', '不可', '取消']"
      ]
     },
     "execution_count": 20,
     "metadata": {},
     "output_type": "execute_result"
    }
   ],
   "source": [
    "mark = [m[2],m[3],m[4],m[1],m[0],m[-1],m[-2],m[-3]]\n",
    "mark"
   ]
  },
  {
   "cell_type": "code",
   "execution_count": 21,
   "metadata": {
    "hidden": true
   },
   "outputs": [
    {
     "name": "stdout",
     "output_type": "stream",
     "text": [
      "秀\n",
      "優\n",
      "良\n",
      "可\n",
      "合格\n",
      "認定\n",
      "不可\n",
      "取消\n",
      "--------\n",
      "合計\n"
     ]
    }
   ],
   "source": [
    "for m in mark:\n",
    "    print(m)\n",
    "\n",
    "print('--------\\n合計')"
   ]
  },
  {
   "cell_type": "code",
   "execution_count": 22,
   "metadata": {
    "hidden": true
   },
   "outputs": [
    {
     "data": {
      "text/plain": [
       "[7, 5, 1, 10, 2, 1, 2, 2]"
      ]
     },
     "execution_count": 22,
     "metadata": {},
     "output_type": "execute_result"
    }
   ],
   "source": [
    "lst = []\n",
    "\n",
    "for m in mark:\n",
    "    no = len(df.query('評語 == @m'))\n",
    "    lst.append(no)\n",
    "\n",
    "lst"
   ]
  },
  {
   "cell_type": "code",
   "execution_count": 23,
   "metadata": {
    "hidden": true
   },
   "outputs": [
    {
     "name": "stdout",
     "output_type": "stream",
     "text": [
      "秀 7\n",
      "優 5\n",
      "良 1\n",
      "可 10\n",
      "合格 2\n",
      "認定 1\n",
      "不可 2\n"
     ]
    },
    {
     "name": "stdout",
     "output_type": "stream",
     "text": [
      "取消 2\n",
      "--------\n",
      "合計 30\n"
     ]
    }
   ],
   "source": [
    "lst = []\n",
    "\n",
    "for m in mark:\n",
    "    no = len(df.query('評語 == @m'))\n",
    "    lst.append(no)\n",
    "    print(m, no)\n",
    "\n",
    "print('--------\\n合計',sum(lst))"
   ]
  },
  {
   "cell_type": "code",
   "execution_count": 24,
   "metadata": {
    "hidden": true
   },
   "outputs": [
    {
     "data": {
      "text/plain": [
       "可     33.3\n",
       "秀     23.3\n",
       "優     16.7\n",
       "不可     6.7\n",
       "合格     6.7\n",
       "取消     6.7\n",
       "認定     3.3\n",
       "良      3.3\n",
       "Name: 評語, dtype: float64"
      ]
     },
     "execution_count": 24,
     "metadata": {},
     "output_type": "execute_result"
    }
   ],
   "source": [
    "(100 * df.loc[:,'評語'].value_counts() / len(df.loc[:,'評語']) ).round(1)"
   ]
  },
  {
   "cell_type": "code",
   "execution_count": 25,
   "metadata": {
    "hidden": true
   },
   "outputs": [
    {
     "data": {
      "text/plain": [
       "[23.333333333333332,\n",
       " 16.666666666666668,\n",
       " 3.3333333333333335,\n",
       " 33.333333333333336,\n",
       " 6.666666666666667,\n",
       " 3.3333333333333335,\n",
       " 6.666666666666667,\n",
       " 6.666666666666667]"
      ]
     },
     "execution_count": 25,
     "metadata": {},
     "output_type": "execute_result"
    }
   ],
   "source": [
    "lst = []\n",
    "\n",
    "for m in mark:\n",
    "    percent = 100 * len(df.query('評語 == @m')) / len(df)\n",
    "    lst.append(percent)\n",
    "\n",
    "lst"
   ]
  },
  {
   "cell_type": "code",
   "execution_count": 26,
   "metadata": {
    "hidden": true
   },
   "outputs": [
    {
     "name": "stdout",
     "output_type": "stream",
     "text": [
      "秀 : 23.333333333333332\n",
      "優 : 16.666666666666668\n",
      "良 : 3.3333333333333335\n"
     ]
    },
    {
     "name": "stdout",
     "output_type": "stream",
     "text": [
      "可"
     ]
    },
    {
     "name": "stdout",
     "output_type": "stream",
     "text": [
      " : 33.333333333333336\n",
      "合格 : 6.666666666666667\n",
      "認定 : 3.3333333333333335\n",
      "不可 : 6.666666666666667\n",
      "取消 : 6.666666666666667\n",
      "-----------\n",
      "合計: 100.00000000000001\n"
     ]
    }
   ],
   "source": [
    "lst = []\n",
    "\n",
    "for m in mark:\n",
    "    percent = 100 * len(df.query('評語 == @m')) / len(df)\n",
    "    lst.append(percent)\n",
    "    print(m, f': {percent}')\n",
    "    \n",
    "print(f'-----------\\n合計: {sum(lst)}')"
   ]
  },
  {
   "cell_type": "code",
   "execution_count": 27,
   "metadata": {
    "hidden": true
   },
   "outputs": [
    {
     "name": "stdout",
     "output_type": "stream",
     "text": [
      "秀 : 23.3\n",
      "優 : 16.7\n",
      "良 : 3.3\n",
      "可 : 33.3\n",
      "合格 : 6.7\n",
      "認定 : 3.3\n",
      "不可 : 6.7\n",
      "取消 : 6.7\n",
      "-----------\n",
      "合計: 100\n"
     ]
    }
   ],
   "source": [
    "lst = []\n",
    "\n",
    "for m in mark:\n",
    "    percent = 100 * len(df.query('評語 == @m')) / len(df)\n",
    "    lst.append(percent)\n",
    "    print(m, f': {percent:.1f}')   # 小数点第ー位まで表示\n",
    "    \n",
    "print(f'-----------\\n合計: {sum(lst):.0f}')  # 小数点は表示しない"
   ]
  },
  {
   "cell_type": "code",
   "execution_count": 28,
   "metadata": {
    "hidden": true
   },
   "outputs": [
    {
     "name": "stdout",
     "output_type": "stream",
     "text": [
      "秀 23.3\n",
      "優 16.7\n",
      "良 3.3\n",
      "可 33.3\n",
      "合格 6.7\n",
      "認定 3.3\n",
      "不可 6.7\n",
      "取消 6.7\n",
      "----------\n",
      "合計 100\n"
     ]
    }
   ],
   "source": [
    "lst = []\n",
    "\n",
    "for m in mark:\n",
    "    percent = 100 * len(df.query('評語 == @m')) / len(df)\n",
    "    lst.append(percent)\n",
    "    print(m, '{:.1f}'.format(percent))\n",
    "    \n",
    "print('----------\\n合計 {:.0f}'.format(sum(lst)))"
   ]
  },
  {
   "cell_type": "code",
   "execution_count": 29,
   "metadata": {
    "hidden": true
   },
   "outputs": [
    {
     "data": {
      "text/plain": [
       "可     6\n",
       "秀     4\n",
       "優     3\n",
       "合格    2\n",
       "Name: 評語, dtype: int64"
      ]
     },
     "execution_count": 29,
     "metadata": {},
     "output_type": "execute_result"
    }
   ],
   "source": [
    "df_other.loc[:,'評語'].value_counts()"
   ]
  },
  {
   "cell_type": "code",
   "execution_count": 30,
   "metadata": {
    "hidden": true
   },
   "outputs": [
    {
     "name": "stdout",
     "output_type": "stream",
     "text": [
      "秀 4\n",
      "優"
     ]
    },
    {
     "name": "stdout",
     "output_type": "stream",
     "text": [
      " 3\n",
      "良 0\n",
      "可 6\n",
      "合格 2\n",
      "認定 0\n",
      "不可 0\n",
      "取消 0\n",
      "--------\n",
      "合計 15\n"
     ]
    }
   ],
   "source": [
    "lst = []\n",
    "\n",
    "for m in mark:\n",
    "    no = len(df_other.query('評語 == @m'))\n",
    "    lst.append(no)\n",
    "    print(m,no)\n",
    "    \n",
    "print(f'--------\\n合計 {sum(lst)}')"
   ]
  },
  {
   "cell_type": "code",
   "execution_count": 31,
   "metadata": {
    "hidden": true
   },
   "outputs": [
    {
     "data": {
      "text/plain": [
       "可     40.0\n",
       "秀     26.7\n",
       "優     20.0\n",
       "合格    13.3\n",
       "Name: 評語, dtype: float64"
      ]
     },
     "execution_count": 31,
     "metadata": {},
     "output_type": "execute_result"
    }
   ],
   "source": [
    "(100 * df_other.loc[:,'評語'].value_counts() / len(df_other.loc[:,'評語']) ).round(1)"
   ]
  },
  {
   "cell_type": "code",
   "execution_count": 32,
   "metadata": {
    "hidden": true
   },
   "outputs": [
    {
     "name": "stdout",
     "output_type": "stream",
     "text": [
      "秀 26.7\n",
      "優 20.0\n",
      "良 0.0\n",
      "可 40.0\n",
      "合格 13.3\n",
      "認定 0.0\n",
      "不可 0.0\n",
      "取消 0.0\n",
      "-----------\n",
      "合計 100\n"
     ]
    }
   ],
   "source": [
    "lst = []\n",
    "\n",
    "for m in mark:\n",
    "    percent = 100 * len(df_other.query('評語 == @m')) / len(df_other)\n",
    "    lst.append(percent)\n",
    "    print(m, f'{percent:.1f}')\n",
    "    \n",
    "print(f'-----------\\n合計 {sum(lst):.0f}')"
   ]
  },
  {
   "cell_type": "code",
   "execution_count": 33,
   "metadata": {
    "hidden": true
   },
   "outputs": [
    {
     "data": {
      "text/plain": [
       "可     4\n",
       "秀     3\n",
       "不可    2\n",
       "取消    2\n",
       "優     2\n",
       "認定    1\n",
       "良     1\n",
       "Name: 評語, dtype: int64"
      ]
     },
     "execution_count": 33,
     "metadata": {},
     "output_type": "execute_result"
    }
   ],
   "source": [
    "df_econ.loc[:,'評語'].value_counts()"
   ]
  },
  {
   "cell_type": "code",
   "execution_count": 34,
   "metadata": {
    "hidden": true
   },
   "outputs": [
    {
     "name": "stdout",
     "output_type": "stream",
     "text": [
      "秀 3\n",
      "優 2\n",
      "良 1\n",
      "可 4\n",
      "合格 0\n",
      "認定 1\n",
      "不可 2\n",
      "取消 2\n",
      "--------\n",
      "合計 15\n"
     ]
    }
   ],
   "source": [
    "lst = []\n",
    "\n",
    "for m in mark:\n",
    "    no = len(df_econ.query('評語 == @m'))\n",
    "    lst.append(no)\n",
    "    print(m,no)\n",
    "    \n",
    "print(f'--------\\n合計 {sum(lst)}')"
   ]
  },
  {
   "cell_type": "code",
   "execution_count": 35,
   "metadata": {
    "hidden": true
   },
   "outputs": [
    {
     "data": {
      "text/plain": [
       "可     26.7\n",
       "秀     20.0\n",
       "不可    13.3\n",
       "取消    13.3\n",
       "優     13.3\n",
       "認定     6.7\n",
       "良      6.7\n",
       "Name: 評語, dtype: float64"
      ]
     },
     "execution_count": 35,
     "metadata": {},
     "output_type": "execute_result"
    }
   ],
   "source": [
    "(100 * df_econ.loc[:,'評語'].value_counts() / len(df_econ.loc[:,'評語']) ).round(1)"
   ]
  },
  {
   "cell_type": "code",
   "execution_count": 36,
   "metadata": {
    "hidden": true
   },
   "outputs": [
    {
     "name": "stdout",
     "output_type": "stream",
     "text": [
      "秀 20.0\n",
      "優 13.3\n",
      "良 6.7\n",
      "可 26.7\n",
      "合格 0.0\n",
      "認定 6.7\n",
      "不可 13.3\n",
      "取消 13.3\n",
      "--------\n",
      "合計 100\n"
     ]
    }
   ],
   "source": [
    "lst = []\n",
    "\n",
    "for m in mark:\n",
    "    percent = 100 * len(df_econ.query('評語 == @m')) / len(df_econ)\n",
    "    lst.append(percent)\n",
    "    print(m, f'{percent:.1f}')\n",
    "    \n",
    "print(f'--------\\n合計 {sum(lst):.0f}')"
   ]
  },
  {
   "cell_type": "code",
   "execution_count": 37,
   "metadata": {
    "hidden": true
   },
   "outputs": [
    {
     "data": {
      "text/plain": [
       "array(['-', '2', '4.3', '4', '3', '0', '*'], dtype=object)"
      ]
     },
     "execution_count": 37,
     "metadata": {},
     "output_type": "execute_result"
    }
   ],
   "source": [
    "df.loc[:,'科目GP'].unique()"
   ]
  },
  {
   "cell_type": "code",
   "execution_count": 38,
   "metadata": {
    "hidden": true,
    "scrolled": true
   },
   "outputs": [
    {
     "data": {
      "text/html": [
       "<div>\n",
       "<style scoped>\n",
       "    .dataframe tbody tr th:only-of-type {\n",
       "        vertical-align: middle;\n",
       "    }\n",
       "\n",
       "    .dataframe tbody tr th {\n",
       "        vertical-align: top;\n",
       "    }\n",
       "\n",
       "    .dataframe thead th {\n",
       "        text-align: right;\n",
       "    }\n",
       "</style>\n",
       "<table border=\"1\" class=\"dataframe\">\n",
       "  <thead>\n",
       "    <tr style=\"text-align: right;\">\n",
       "      <th></th>\n",
       "      <th>No.</th>\n",
       "      <th>区分</th>\n",
       "      <th>科目大区分</th>\n",
       "      <th>科目中区分</th>\n",
       "      <th>科目ナンバー</th>\n",
       "      <th>科目</th>\n",
       "      <th>単位数</th>\n",
       "      <th>修得年度</th>\n",
       "      <th>修得学期</th>\n",
       "      <th>評語</th>\n",
       "      <th>科目GP</th>\n",
       "      <th>合否</th>\n",
       "    </tr>\n",
       "  </thead>\n",
       "  <tbody>\n",
       "    <tr>\n",
       "      <th>2</th>\n",
       "      <td>3</td>\n",
       "      <td>全学共通授業科目</td>\n",
       "      <td>基礎教養科目</td>\n",
       "      <td>NaN</td>\n",
       "      <td>U1AA100</td>\n",
       "      <td>XX学</td>\n",
       "      <td>1</td>\n",
       "      <td>2020</td>\n",
       "      <td>前期</td>\n",
       "      <td>可</td>\n",
       "      <td>2</td>\n",
       "      <td>合</td>\n",
       "    </tr>\n",
       "    <tr>\n",
       "      <th>3</th>\n",
       "      <td>4</td>\n",
       "      <td>全学共通授業科目</td>\n",
       "      <td>基礎教養科目</td>\n",
       "      <td>NaN</td>\n",
       "      <td>U1AB100</td>\n",
       "      <td>XX学Ａ</td>\n",
       "      <td>1</td>\n",
       "      <td>2020</td>\n",
       "      <td>後期</td>\n",
       "      <td>秀</td>\n",
       "      <td>4.3</td>\n",
       "      <td>合</td>\n",
       "    </tr>\n",
       "    <tr>\n",
       "      <th>4</th>\n",
       "      <td>5</td>\n",
       "      <td>全学共通授業科目</td>\n",
       "      <td>基礎教養科目</td>\n",
       "      <td>NaN</td>\n",
       "      <td>U1AB100</td>\n",
       "      <td>XX学Ｂ</td>\n",
       "      <td>1</td>\n",
       "      <td>2019</td>\n",
       "      <td>後期</td>\n",
       "      <td>可</td>\n",
       "      <td>2</td>\n",
       "      <td>合</td>\n",
       "    </tr>\n",
       "    <tr>\n",
       "      <th>5</th>\n",
       "      <td>6</td>\n",
       "      <td>全学共通授業科目</td>\n",
       "      <td>基礎教養科目</td>\n",
       "      <td>NaN</td>\n",
       "      <td>U1AD100</td>\n",
       "      <td>X学Ａ</td>\n",
       "      <td>1</td>\n",
       "      <td>2019</td>\n",
       "      <td>後期</td>\n",
       "      <td>優</td>\n",
       "      <td>4</td>\n",
       "      <td>合</td>\n",
       "    </tr>\n",
       "    <tr>\n",
       "      <th>6</th>\n",
       "      <td>7</td>\n",
       "      <td>全学共通授業科目</td>\n",
       "      <td>基礎教養科目</td>\n",
       "      <td>NaN</td>\n",
       "      <td>U1AD100</td>\n",
       "      <td>X学Ｂ</td>\n",
       "      <td>1</td>\n",
       "      <td>2019</td>\n",
       "      <td>前期</td>\n",
       "      <td>秀</td>\n",
       "      <td>4.3</td>\n",
       "      <td>合</td>\n",
       "    </tr>\n",
       "  </tbody>\n",
       "</table>\n",
       "</div>"
      ],
      "text/plain": [
       "   No.        区分   科目大区分  科目中区分   科目ナンバー    科目  単位数  修得年度 修得学期 評語 科目GP 合否\n",
       "2    3  全学共通授業科目  基礎教養科目    NaN  U1AA100   XX学    1  2020   前期  可    2  合\n",
       "3    4  全学共通授業科目  基礎教養科目    NaN  U1AB100  XX学Ａ    1  2020   後期  秀  4.3  合\n",
       "4    5  全学共通授業科目  基礎教養科目    NaN  U1AB100  XX学Ｂ    1  2019   後期  可    2  合\n",
       "5    6  全学共通授業科目  基礎教養科目    NaN  U1AD100   X学Ａ    1  2019   後期  優    4  合\n",
       "6    7  全学共通授業科目  基礎教養科目    NaN  U1AD100   X学Ｂ    1  2019   前期  秀  4.3  合"
      ]
     },
     "execution_count": 38,
     "metadata": {},
     "output_type": "execute_result"
    }
   ],
   "source": [
    "gpa = df.query(\"科目GP not in ['-', '*']\").copy()\n",
    "gpa.head()"
   ]
  },
  {
   "cell_type": "code",
   "execution_count": 39,
   "metadata": {
    "hidden": true
   },
   "outputs": [
    {
     "data": {
      "text/plain": [
       "array(['2', '4.3', '4', '3', '0'], dtype=object)"
      ]
     },
     "execution_count": 39,
     "metadata": {},
     "output_type": "execute_result"
    }
   ],
   "source": [
    "gpa['科目GP'].unique()"
   ]
  },
  {
   "cell_type": "code",
   "execution_count": 40,
   "metadata": {
    "hidden": true
   },
   "outputs": [
    {
     "data": {
      "text/plain": [
       "dtype('O')"
      ]
     },
     "execution_count": 40,
     "metadata": {},
     "output_type": "execute_result"
    }
   ],
   "source": [
    "gpa['科目GP'].dtypes"
   ]
  },
  {
   "cell_type": "code",
   "execution_count": 41,
   "metadata": {
    "hidden": true
   },
   "outputs": [],
   "source": [
    "gpa['科目GP'] = gpa['科目GP'].astype(float)"
   ]
  },
  {
   "cell_type": "code",
   "execution_count": 42,
   "metadata": {
    "hidden": true,
    "scrolled": true
   },
   "outputs": [
    {
     "data": {
      "text/plain": [
       "No.         int64\n",
       "区分         object\n",
       "科目大区分      object\n",
       "科目中区分     float64\n",
       "科目ナンバー     object\n",
       "科目         object\n",
       "単位数         int64\n",
       "修得年度        int64\n",
       "修得学期       object\n",
       "評語         object\n",
       "科目GP      float64\n",
       "合否         object\n",
       "dtype: object"
      ]
     },
     "execution_count": 42,
     "metadata": {},
     "output_type": "execute_result"
    }
   ],
   "source": [
    "gpa.dtypes"
   ]
  },
  {
   "cell_type": "code",
   "execution_count": 43,
   "metadata": {
    "hidden": true
   },
   "outputs": [
    {
     "data": {
      "text/html": [
       "<div>\n",
       "<style scoped>\n",
       "    .dataframe tbody tr th:only-of-type {\n",
       "        vertical-align: middle;\n",
       "    }\n",
       "\n",
       "    .dataframe tbody tr th {\n",
       "        vertical-align: top;\n",
       "    }\n",
       "\n",
       "    .dataframe thead th {\n",
       "        text-align: right;\n",
       "    }\n",
       "</style>\n",
       "<table border=\"1\" class=\"dataframe\">\n",
       "  <thead>\n",
       "    <tr style=\"text-align: right;\">\n",
       "      <th></th>\n",
       "      <th>No.</th>\n",
       "      <th>科目中区分</th>\n",
       "      <th>単位数</th>\n",
       "      <th>科目GP</th>\n",
       "    </tr>\n",
       "    <tr>\n",
       "      <th>修得年度</th>\n",
       "      <th></th>\n",
       "      <th></th>\n",
       "      <th></th>\n",
       "      <th></th>\n",
       "    </tr>\n",
       "  </thead>\n",
       "  <tbody>\n",
       "    <tr>\n",
       "      <th>2018</th>\n",
       "      <td>17.125000</td>\n",
       "      <td>NaN</td>\n",
       "      <td>1.375000</td>\n",
       "      <td>2.6625</td>\n",
       "    </tr>\n",
       "    <tr>\n",
       "      <th>2019</th>\n",
       "      <td>13.900000</td>\n",
       "      <td>NaN</td>\n",
       "      <td>1.100000</td>\n",
       "      <td>3.3200</td>\n",
       "    </tr>\n",
       "    <tr>\n",
       "      <th>2020</th>\n",
       "      <td>12.166667</td>\n",
       "      <td>NaN</td>\n",
       "      <td>1.666667</td>\n",
       "      <td>3.1000</td>\n",
       "    </tr>\n",
       "  </tbody>\n",
       "</table>\n",
       "</div>"
      ],
      "text/plain": [
       "            No.  科目中区分       単位数    科目GP\n",
       "修得年度                                    \n",
       "2018  17.125000    NaN  1.375000  2.6625\n",
       "2019  13.900000    NaN  1.100000  3.3200\n",
       "2020  12.166667    NaN  1.666667  3.1000"
      ]
     },
     "execution_count": 43,
     "metadata": {},
     "output_type": "execute_result"
    }
   ],
   "source": [
    "gpa_grouped = gpa.groupby('修得年度')\n",
    "gpa_mean = gpa_grouped.mean()\n",
    "gpa_mean"
   ]
  },
  {
   "cell_type": "code",
   "execution_count": 44,
   "metadata": {
    "hidden": true
   },
   "outputs": [
    {
     "data": {
      "text/plain": [
       "    .*                 []                 <                  <=\n",
       "    ==                 !=                 >                  >=\n",
       "    dir()              hash()             iter()             len()\n",
       "    repr()             str()              .agg()             .aggregate()\n",
       "    .all()             .any()             .apply()           .backfill()\n",
       "    .bfill()           .boxplot()         .corr()            .corrwith()\n",
       "    .count()           .cov()             .cumcount()        .cummax()\n",
       "    .cummin()          .cumprod()         .cumsum()          .describe()\n",
       "    .diff()            .dtypes            .expanding()       .ffill()\n",
       "    .fillna()          .filter()          .first()           .get_group()\n",
       "    .groups            .head()            .hist()            .idxmax()\n",
       "    .idxmin()          .indices           .last()            .mad()\n",
       "    .max()             .mean()            .median()          .min()\n",
       "    .ndim              .ngroup()          .ngroups           .nth()\n",
       "    .nunique()         .ohlc()            .pad()             .pct_change()\n",
       "    .pipe()            .plot()            .prod()            .quantile()\n",
       "    .rank()            .resample()        .rolling()         .sem()\n",
       "    .shift()           .size()            .skew()            .std()\n",
       "    .sum()             .tail()            .take()            .transform()\n",
       "    .tshift()          .var()             .修得学期          .修得年度          .区分\n",
       "    .単位数            .合否              .科目              .科目GP            .科目ナンバー\n",
       "    .科目中区分        .科目大区分        .評語"
      ]
     },
     "execution_count": 44,
     "metadata": {},
     "output_type": "execute_result"
    }
   ],
   "source": [
    "see(gpa_grouped)"
   ]
  },
  {
   "cell_type": "code",
   "execution_count": 45,
   "metadata": {
    "hidden": true
   },
   "outputs": [
    {
     "data": {
      "text/plain": [
       "Int64Index([2018, 2019, 2020], dtype='int64', name='修得年度')"
      ]
     },
     "execution_count": 45,
     "metadata": {},
     "output_type": "execute_result"
    }
   ],
   "source": [
    "gpa_mean.index"
   ]
  },
  {
   "cell_type": "code",
   "execution_count": 46,
   "metadata": {
    "hidden": true,
    "scrolled": true
   },
   "outputs": [
    {
     "data": {
      "text/plain": [
       "['2018', '2019', '2020']"
      ]
     },
     "execution_count": 46,
     "metadata": {},
     "output_type": "execute_result"
    }
   ],
   "source": [
    "yr = [str(i) for i in gpa_mean.index]\n",
    "yr"
   ]
  },
  {
   "cell_type": "code",
   "execution_count": 47,
   "metadata": {
    "hidden": true,
    "scrolled": false
   },
   "outputs": [
    {
     "data": {
      "image/png": "[encoded data removed]",
      "text/plain": [
       "<Figure size 432x288 with 1 Axes>"
      ]
     },
     "metadata": {
      "needs_background": "light"
     },
     "output_type": "display_data"
    }
   ],
   "source": [
    "plt.plot(yr,gpa_mean['科目GP'], 'o-')\n",
    "pass"
   ]
  },
  {
   "cell_type": "code",
   "execution_count": 48,
   "metadata": {
    "hidden": true
   },
   "outputs": [
    {
     "data": {
      "text/plain": [
       "Int64Index([2018, 2019, 2020], dtype='int64', name='修得年度')"
      ]
     },
     "execution_count": 48,
     "metadata": {},
     "output_type": "execute_result"
    }
   ],
   "source": [
    "yr = gpa_mean.index\n",
    "yr"
   ]
  },
  {
   "cell_type": "code",
   "execution_count": 49,
   "metadata": {
    "hidden": true
   },
   "outputs": [
    {
     "data": {
      "image/png": "[encoded data removed]",
      "text/plain": [
       "<Figure size 432x288 with 1 Axes>"
      ]
     },
     "metadata": {
      "needs_background": "light"
     },
     "output_type": "display_data"
    }
   ],
   "source": [
    "plt.plot('科目GP', 'o-', data=gpa_mean)\n",
    "plt.xticks(yr)\n",
    "pass"
   ]
  },
  {
   "cell_type": "code",
   "execution_count": 50,
   "metadata": {
    "hidden": true
   },
   "outputs": [
    {
     "data": {
      "text/html": [
       "<div>\n",
       "<style scoped>\n",
       "    .dataframe tbody tr th:only-of-type {\n",
       "        vertical-align: middle;\n",
       "    }\n",
       "\n",
       "    .dataframe tbody tr th {\n",
       "        vertical-align: top;\n",
       "    }\n",
       "\n",
       "    .dataframe thead th {\n",
       "        text-align: right;\n",
       "    }\n",
       "</style>\n",
       "<table border=\"1\" class=\"dataframe\">\n",
       "  <thead>\n",
       "    <tr style=\"text-align: right;\">\n",
       "      <th></th>\n",
       "      <th>No.</th>\n",
       "      <th>区分</th>\n",
       "      <th>科目大区分</th>\n",
       "      <th>科目中区分</th>\n",
       "      <th>科目ナンバー</th>\n",
       "      <th>科目</th>\n",
       "      <th>単位数</th>\n",
       "      <th>修得年度</th>\n",
       "      <th>修得学期</th>\n",
       "      <th>評語</th>\n",
       "      <th>科目GP</th>\n",
       "      <th>合否</th>\n",
       "    </tr>\n",
       "  </thead>\n",
       "  <tbody>\n",
       "    <tr>\n",
       "      <th>2</th>\n",
       "      <td>3</td>\n",
       "      <td>全学共通授業科目</td>\n",
       "      <td>基礎教養科目</td>\n",
       "      <td>NaN</td>\n",
       "      <td>U1AA100</td>\n",
       "      <td>XX学</td>\n",
       "      <td>1</td>\n",
       "      <td>2020</td>\n",
       "      <td>1</td>\n",
       "      <td>可</td>\n",
       "      <td>2.0</td>\n",
       "      <td>合</td>\n",
       "    </tr>\n",
       "    <tr>\n",
       "      <th>3</th>\n",
       "      <td>4</td>\n",
       "      <td>全学共通授業科目</td>\n",
       "      <td>基礎教養科目</td>\n",
       "      <td>NaN</td>\n",
       "      <td>U1AB100</td>\n",
       "      <td>XX学Ａ</td>\n",
       "      <td>1</td>\n",
       "      <td>2020</td>\n",
       "      <td>2</td>\n",
       "      <td>秀</td>\n",
       "      <td>4.3</td>\n",
       "      <td>合</td>\n",
       "    </tr>\n",
       "    <tr>\n",
       "      <th>4</th>\n",
       "      <td>5</td>\n",
       "      <td>全学共通授業科目</td>\n",
       "      <td>基礎教養科目</td>\n",
       "      <td>NaN</td>\n",
       "      <td>U1AB100</td>\n",
       "      <td>XX学Ｂ</td>\n",
       "      <td>1</td>\n",
       "      <td>2019</td>\n",
       "      <td>2</td>\n",
       "      <td>可</td>\n",
       "      <td>2.0</td>\n",
       "      <td>合</td>\n",
       "    </tr>\n",
       "    <tr>\n",
       "      <th>5</th>\n",
       "      <td>6</td>\n",
       "      <td>全学共通授業科目</td>\n",
       "      <td>基礎教養科目</td>\n",
       "      <td>NaN</td>\n",
       "      <td>U1AD100</td>\n",
       "      <td>X学Ａ</td>\n",
       "      <td>1</td>\n",
       "      <td>2019</td>\n",
       "      <td>2</td>\n",
       "      <td>優</td>\n",
       "      <td>4.0</td>\n",
       "      <td>合</td>\n",
       "    </tr>\n",
       "    <tr>\n",
       "      <th>6</th>\n",
       "      <td>7</td>\n",
       "      <td>全学共通授業科目</td>\n",
       "      <td>基礎教養科目</td>\n",
       "      <td>NaN</td>\n",
       "      <td>U1AD100</td>\n",
       "      <td>X学Ｂ</td>\n",
       "      <td>1</td>\n",
       "      <td>2019</td>\n",
       "      <td>1</td>\n",
       "      <td>秀</td>\n",
       "      <td>4.3</td>\n",
       "      <td>合</td>\n",
       "    </tr>\n",
       "  </tbody>\n",
       "</table>\n",
       "</div>"
      ],
      "text/plain": [
       "   No.        区分   科目大区分  科目中区分   科目ナンバー    科目  単位数  修得年度 修得学期 評語  科目GP 合否\n",
       "2    3  全学共通授業科目  基礎教養科目    NaN  U1AA100   XX学    1  2020    1  可   2.0  合\n",
       "3    4  全学共通授業科目  基礎教養科目    NaN  U1AB100  XX学Ａ    1  2020    2  秀   4.3  合\n",
       "4    5  全学共通授業科目  基礎教養科目    NaN  U1AB100  XX学Ｂ    1  2019    2  可   2.0  合\n",
       "5    6  全学共通授業科目  基礎教養科目    NaN  U1AD100   X学Ａ    1  2019    2  優   4.0  合\n",
       "6    7  全学共通授業科目  基礎教養科目    NaN  U1AD100   X学Ｂ    1  2019    1  秀   4.3  合"
      ]
     },
     "execution_count": 50,
     "metadata": {},
     "output_type": "execute_result"
    }
   ],
   "source": [
    "gpa['修得学期'] = gpa['修得学期'].replace({'前期':'1','後期':'2'})\n",
    "gpa.head()"
   ]
  },
  {
   "cell_type": "code",
   "execution_count": 51,
   "metadata": {
    "hidden": true,
    "scrolled": true
   },
   "outputs": [
    {
     "data": {
      "text/html": [
       "<div>\n",
       "<style scoped>\n",
       "    .dataframe tbody tr th:only-of-type {\n",
       "        vertical-align: middle;\n",
       "    }\n",
       "\n",
       "    .dataframe tbody tr th {\n",
       "        vertical-align: top;\n",
       "    }\n",
       "\n",
       "    .dataframe thead th {\n",
       "        text-align: right;\n",
       "    }\n",
       "</style>\n",
       "<table border=\"1\" class=\"dataframe\">\n",
       "  <thead>\n",
       "    <tr style=\"text-align: right;\">\n",
       "      <th></th>\n",
       "      <th></th>\n",
       "      <th>No.</th>\n",
       "      <th>科目中区分</th>\n",
       "      <th>単位数</th>\n",
       "      <th>科目GP</th>\n",
       "    </tr>\n",
       "    <tr>\n",
       "      <th>修得年度</th>\n",
       "      <th>修得学期</th>\n",
       "      <th></th>\n",
       "      <th></th>\n",
       "      <th></th>\n",
       "      <th></th>\n",
       "    </tr>\n",
       "  </thead>\n",
       "  <tbody>\n",
       "    <tr>\n",
       "      <th rowspan=\"2\" valign=\"top\">2018</th>\n",
       "      <th>1</th>\n",
       "      <td>17.500000</td>\n",
       "      <td>NaN</td>\n",
       "      <td>1.000000</td>\n",
       "      <td>1.000000</td>\n",
       "    </tr>\n",
       "    <tr>\n",
       "      <th>2</th>\n",
       "      <td>17.000000</td>\n",
       "      <td>NaN</td>\n",
       "      <td>1.500000</td>\n",
       "      <td>3.216667</td>\n",
       "    </tr>\n",
       "    <tr>\n",
       "      <th rowspan=\"2\" valign=\"top\">2019</th>\n",
       "      <th>1</th>\n",
       "      <td>14.500000</td>\n",
       "      <td>NaN</td>\n",
       "      <td>1.000000</td>\n",
       "      <td>3.150000</td>\n",
       "    </tr>\n",
       "    <tr>\n",
       "      <th>2</th>\n",
       "      <td>13.000000</td>\n",
       "      <td>NaN</td>\n",
       "      <td>1.250000</td>\n",
       "      <td>3.575000</td>\n",
       "    </tr>\n",
       "    <tr>\n",
       "      <th rowspan=\"2\" valign=\"top\">2020</th>\n",
       "      <th>1</th>\n",
       "      <td>11.333333</td>\n",
       "      <td>NaN</td>\n",
       "      <td>1.333333</td>\n",
       "      <td>2.666667</td>\n",
       "    </tr>\n",
       "    <tr>\n",
       "      <th>2</th>\n",
       "      <td>13.000000</td>\n",
       "      <td>NaN</td>\n",
       "      <td>2.000000</td>\n",
       "      <td>3.533333</td>\n",
       "    </tr>\n",
       "  </tbody>\n",
       "</table>\n",
       "</div>"
      ],
      "text/plain": [
       "                 No.  科目中区分       単位数      科目GP\n",
       "修得年度 修得学期                                      \n",
       "2018 1     17.500000    NaN  1.000000  1.000000\n",
       "     2     17.000000    NaN  1.500000  3.216667\n",
       "2019 1     14.500000    NaN  1.000000  3.150000\n",
       "     2     13.000000    NaN  1.250000  3.575000\n",
       "2020 1     11.333333    NaN  1.333333  2.666667\n",
       "     2     13.000000    NaN  2.000000  3.533333"
      ]
     },
     "execution_count": 51,
     "metadata": {},
     "output_type": "execute_result"
    }
   ],
   "source": [
    "gpa_grouped = gpa.groupby(['修得年度','修得学期'])\n",
    "gpa_mean = gpa_grouped.mean()\n",
    "gpa_mean"
   ]
  },
  {
   "cell_type": "code",
   "execution_count": 52,
   "metadata": {
    "hidden": true
   },
   "outputs": [
    {
     "data": {
      "text/html": [
       "<div>\n",
       "<style scoped>\n",
       "    .dataframe tbody tr th:only-of-type {\n",
       "        vertical-align: middle;\n",
       "    }\n",
       "\n",
       "    .dataframe tbody tr th {\n",
       "        vertical-align: top;\n",
       "    }\n",
       "\n",
       "    .dataframe thead th {\n",
       "        text-align: right;\n",
       "    }\n",
       "</style>\n",
       "<table border=\"1\" class=\"dataframe\">\n",
       "  <thead>\n",
       "    <tr style=\"text-align: right;\">\n",
       "      <th></th>\n",
       "      <th></th>\n",
       "      <th>No.</th>\n",
       "      <th>科目中区分</th>\n",
       "      <th>単位数</th>\n",
       "      <th>科目GP</th>\n",
       "    </tr>\n",
       "  </thead>\n",
       "  <tbody>\n",
       "    <tr>\n",
       "      <th rowspan=\"2\" valign=\"top\">2018</th>\n",
       "      <th>1</th>\n",
       "      <td>17.500000</td>\n",
       "      <td>NaN</td>\n",
       "      <td>1.000000</td>\n",
       "      <td>1.000000</td>\n",
       "    </tr>\n",
       "    <tr>\n",
       "      <th>2</th>\n",
       "      <td>17.000000</td>\n",
       "      <td>NaN</td>\n",
       "      <td>1.500000</td>\n",
       "      <td>3.216667</td>\n",
       "    </tr>\n",
       "    <tr>\n",
       "      <th rowspan=\"2\" valign=\"top\">2019</th>\n",
       "      <th>1</th>\n",
       "      <td>14.500000</td>\n",
       "      <td>NaN</td>\n",
       "      <td>1.000000</td>\n",
       "      <td>3.150000</td>\n",
       "    </tr>\n",
       "    <tr>\n",
       "      <th>2</th>\n",
       "      <td>13.000000</td>\n",
       "      <td>NaN</td>\n",
       "      <td>1.250000</td>\n",
       "      <td>3.575000</td>\n",
       "    </tr>\n",
       "    <tr>\n",
       "      <th rowspan=\"2\" valign=\"top\">2020</th>\n",
       "      <th>1</th>\n",
       "      <td>11.333333</td>\n",
       "      <td>NaN</td>\n",
       "      <td>1.333333</td>\n",
       "      <td>2.666667</td>\n",
       "    </tr>\n",
       "    <tr>\n",
       "      <th>2</th>\n",
       "      <td>13.000000</td>\n",
       "      <td>NaN</td>\n",
       "      <td>2.000000</td>\n",
       "      <td>3.533333</td>\n",
       "    </tr>\n",
       "  </tbody>\n",
       "</table>\n",
       "</div>"
      ],
      "text/plain": [
       "              No.  科目中区分       単位数      科目GP\n",
       "2018 1  17.500000    NaN  1.000000  1.000000\n",
       "     2  17.000000    NaN  1.500000  3.216667\n",
       "2019 1  14.500000    NaN  1.000000  3.150000\n",
       "     2  13.000000    NaN  1.250000  3.575000\n",
       "2020 1  11.333333    NaN  1.333333  2.666667\n",
       "     2  13.000000    NaN  2.000000  3.533333"
      ]
     },
     "execution_count": 52,
     "metadata": {},
     "output_type": "execute_result"
    }
   ],
   "source": [
    "gpa_mean.index.names = (None,None)\n",
    "gpa_mean"
   ]
  },
  {
   "cell_type": "code",
   "execution_count": 53,
   "metadata": {
    "hidden": true
   },
   "outputs": [
    {
     "data": {
      "text/plain": [
       "MultiIndex([(2018, '1'),\n",
       "            (2018, '2'),\n",
       "            (2019, '1'),\n",
       "            (2019, '2'),\n",
       "            (2020, '1'),\n",
       "            (2020, '2')],\n",
       "           )"
      ]
     },
     "execution_count": 53,
     "metadata": {},
     "output_type": "execute_result"
    }
   ],
   "source": [
    "gpa_mean.index"
   ]
  },
  {
   "cell_type": "code",
   "execution_count": 54,
   "metadata": {
    "hidden": true
   },
   "outputs": [
    {
     "data": {
      "text/plain": [
       "['2018-1', '2018-2', '2019-1', '2019-2', '2020-1', '2020-2']"
      ]
     },
     "execution_count": 54,
     "metadata": {},
     "output_type": "execute_result"
    }
   ],
   "source": [
    "yr_half = [str(i[0])+'-'+str(i[1]) for i in gpa_mean.index]\n",
    "yr_half"
   ]
  },
  {
   "cell_type": "code",
   "execution_count": 55,
   "metadata": {
    "hidden": true
   },
   "outputs": [
    {
     "data": {
      "image/png": "[encoded data removed]",
      "text/plain": [
       "<Figure size 432x288 with 1 Axes>"
      ]
     },
     "metadata": {
      "needs_background": "light"
     },
     "output_type": "display_data"
    }
   ],
   "source": [
    "plt.plot(yr_half, gpa_mean['科目GP'])\n",
    "pass"
   ]
  }
 ],
 "metadata": {
  "celltoolbar": "Tags",
  "kernelspec": {
   "display_name": "latest",
   "language": "python",
   "name": "latest"
  },
  "language_info": {
   "codemirror_mode": {
    "name": "ipython",
    "version": 3
   },
   "file_extension": ".py",
   "mimetype": "text/x-python",
   "name": "python",
   "nbconvert_exporter": "python",
   "pygments_lexer": "ipython3",
   "version": "3.8.3"
  },
  "toc": {
   "base_numbering": 1,
   "nav_menu": {},
   "number_sections": true,
   "sideBar": true,
   "skip_h1_title": false,
   "title_cell": "Table of Contents",
   "title_sidebar": "Contents",
   "toc_cell": false,
   "toc_position": {},
   "toc_section_display": true,
   "toc_window_display": false
  }
 },
 "nbformat": 4,
 "nbformat_minor": 4
}