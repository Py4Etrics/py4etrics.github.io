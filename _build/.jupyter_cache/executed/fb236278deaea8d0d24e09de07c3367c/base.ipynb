{
 "cells": [
  {
   "cell_type": "code",
   "execution_count": 1,
   "metadata": {},
   "outputs": [],
   "source": [
    "import numpy as np\n",
    "import pandas as pd\n",
    "from statsmodels.formula.api import ols\n",
    "import wooldridge\n",
    "from scipy.stats import t"
   ]
  },
  {
   "cell_type": "code",
   "execution_count": 2,
   "metadata": {
    "hidden": true
   },
   "outputs": [],
   "source": [
    "# データの読み込み\n",
    "cps = wooldridge.data('CPS78_85')"
   ]
  },
  {
   "cell_type": "code",
   "execution_count": 3,
   "metadata": {
    "hidden": true,
    "tags": [
     "output_scroll"
    ]
   },
   "outputs": [
    {
     "name": "stdout",
     "output_type": "stream",
     "text": [
      "name of dataset: cps78_85\n",
      "no of variables: 15\n",
      "no of observations: 1084\n",
      "\n",
      "+----------+-----------------------+\n",
      "| variable | label                 |\n",
      "+----------+-----------------------+\n",
      "| educ     | years of schooling    |\n",
      "| south    | =1 if live in south   |\n",
      "| nonwhite | =1 if nonwhite        |\n",
      "| female   | =1 if female          |\n",
      "| married  | =1 if married         |\n",
      "| exper    | age - educ - 6        |\n",
      "| expersq  | exper^2               |\n",
      "| union    | =1 if belong to union |\n",
      "| lwage    | log hourly wage       |\n",
      "| age      | in years              |\n",
      "| year     | 78 or 85              |\n",
      "| y85      | =1 if year == 85      |\n",
      "| y85fem   | y85*female            |\n",
      "| y85educ  | y85*educ              |\n",
      "| y85union | y85*union             |\n",
      "+----------+-----------------------+\n",
      "\n",
      "Professor Henry Farber, now at Princeton University, compiled these\n",
      "data from the 1978 and 1985 Current Population Surveys. Professor\n",
      "Farber kindly provided these data when we were colleagues at MIT.\n"
     ]
    }
   ],
   "source": [
    "# データの内容の確認\n",
    "wooldridge.data('CPS78_85', description=True)"
   ]
  },
  {
   "cell_type": "code",
   "execution_count": 4,
   "metadata": {
    "hidden": true
   },
   "outputs": [],
   "source": [
    "# 回帰分析\n",
    "\n",
    "formula = 'lwage ~ y85 + educ + female + \\\n",
    "                   y85:educ + y85:female + \\\n",
    "                   exper + I((exper**2)/100) + union'\n",
    "\n",
    "result = ols(formula, cps).fit()"
   ]
  },
  {
   "cell_type": "code",
   "execution_count": 5,
   "metadata": {
    "hidden": true
   },
   "outputs": [
    {
     "name": "stdout",
     "output_type": "stream",
     "text": [
      "=========================================================================================\n",
      "                            coef    std err          t      P>|t|      [0.025      0.975]\n",
      "-----------------------------------------------------------------------------------------\n",
      "Intercept                 0.4589      0.093      4.911      0.000       0.276       0.642\n",
      "y85                       0.1178      0.124      0.952      0.341      -0.125       0.361\n",
      "educ                      0.0747      0.007     11.192      0.000       0.062       0.088\n",
      "female                   -0.3167      0.037     -8.648      0.000      -0.389      -0.245\n",
      "y85:educ                  0.0185      0.009      1.974      0.049       0.000       0.037\n",
      "y85:female                0.0851      0.051      1.658      0.098      -0.016       0.186\n",
      "exper                     0.0296      0.004      8.293      0.000       0.023       0.037\n",
      "I((exper ** 2) / 100)    -0.0399      0.008     -5.151      0.000      -0.055      -0.025\n",
      "union                     0.2021      0.030      6.672      0.000       0.143       0.262\n",
      "=========================================================================================\n"
     ]
    }
   ],
   "source": [
    "print(result.summary().tables[1])"
   ]
  },
  {
   "cell_type": "code",
   "execution_count": 6,
   "metadata": {
    "hidden": true
   },
   "outputs": [],
   "source": [
    "t_value = result.tvalues['y85:female']  # y85:femaleのt値\n",
    "\n",
    "dof = result.df_resid  # 自由度 n-k-1"
   ]
  },
  {
   "cell_type": "code",
   "execution_count": 7,
   "metadata": {
    "hidden": true
   },
   "outputs": [
    {
     "data": {
      "text/plain": [
       "0.048840603301735674"
      ]
     },
     "execution_count": 7,
     "metadata": {},
     "output_type": "execute_result"
    }
   ],
   "source": [
    "1-t.cdf(t_value, dof)  # p値の計算"
   ]
  },
  {
   "cell_type": "code",
   "execution_count": 8,
   "metadata": {
    "hidden": true,
    "tags": [
     "output_scroll"
    ]
   },
   "outputs": [
    {
     "name": "stdout",
     "output_type": "stream",
     "text": [
      "name of dataset: kielmc\n",
      "no of variables: 25\n",
      "no of observations: 321\n",
      "\n",
      "+----------+---------------------------------+\n",
      "| variable | label                           |\n",
      "+----------+---------------------------------+\n",
      "| year     | 1978 or 1981                    |\n",
      "| age      | age of house                    |\n",
      "| agesq    | age^2                           |\n",
      "| nbh      | neighborhood, 1-6               |\n",
      "| cbd      | dist. to cent. bus. dstrct, ft. |\n",
      "| intst    | dist. to interstate, ft.        |\n",
      "| lintst   | log(intst)                      |\n",
      "| price    | selling price                   |\n",
      "| rooms    | # rooms in house                |\n",
      "| area     | square footage of house         |\n",
      "| land     | square footage lot              |\n",
      "| baths    | # bathrooms                     |\n",
      "| dist     | dist. from house to incin., ft. |\n",
      "| ldist    | log(dist)                       |\n",
      "| wind     | prc. time wind incin. to house  |\n",
      "| lprice   | log(price)                      |\n",
      "| y81      | =1 if year == 1981              |\n",
      "| larea    | log(area)                       |\n",
      "| lland    | log(land)                       |\n",
      "| y81ldist | y81*ldist                       |\n",
      "| lintstsq | lintst^2                        |\n",
      "| nearinc  | =1 if dist <= 15840             |\n",
      "| y81nrinc | y81*nearinc                     |\n",
      "| rprice   | price, 1978 dollars             |\n",
      "| lrprice  | log(rprice)                     |\n",
      "+----------+---------------------------------+\n",
      "\n",
      "K.A. Kiel and K.T. McClain (1995), “House Prices During Siting\n",
      "Decision Stages: The Case of an Incinerator from Rumor Through\n",
      "Operation,” Journal of Environmental Economics and Management 28,\n",
      "241-255. Professor McClain kindly provided the data, of which I used\n",
      "only a subset.\n"
     ]
    }
   ],
   "source": [
    "kielmc = wooldridge.data('kielmc')\n",
    "\n",
    "wooldridge.data('kielmc', description=True)"
   ]
  },
  {
   "cell_type": "code",
   "execution_count": 9,
   "metadata": {
    "hidden": true
   },
   "outputs": [],
   "source": [
    "formula = 'rprice ~ nearinc + y81 + nearinc:y81'\n",
    "\n",
    "result = ols(formula, data=kielmc).fit()"
   ]
  },
  {
   "cell_type": "code",
   "execution_count": 10,
   "metadata": {
    "hidden": true
   },
   "outputs": [
    {
     "name": "stdout",
     "output_type": "stream",
     "text": [
      "===============================================================================\n",
      "                  coef    std err          t      P>|t|      [0.025      0.975]\n",
      "-------------------------------------------------------------------------------\n",
      "Intercept    8.252e+04   2726.910     30.260      0.000    7.72e+04    8.79e+04\n",
      "nearinc     -1.882e+04   4875.322     -3.861      0.000   -2.84e+04   -9232.293\n",
      "y81          1.879e+04   4050.065      4.640      0.000    1.08e+04    2.68e+04\n",
      "nearinc:y81 -1.186e+04   7456.646     -1.591      0.113   -2.65e+04    2806.867\n",
      "===============================================================================\n"
     ]
    }
   ],
   "source": [
    "print(result.summary().tables[1])"
   ]
  },
  {
   "cell_type": "code",
   "execution_count": 11,
   "metadata": {
    "hidden": true
   },
   "outputs": [
    {
     "data": {
      "text/plain": [
       "0.0562974203495265"
      ]
     },
     "execution_count": 11,
     "metadata": {},
     "output_type": "execute_result"
    }
   ],
   "source": [
    "t_value = result.tvalues['nearinc:y81']  # t値\n",
    "\n",
    "dof = result.df_resid  # 自由度 n-k-1\n",
    "\n",
    "t.cdf(t_value, dof)  # p値の計算"
   ]
  },
  {
   "cell_type": "code",
   "execution_count": 12,
   "metadata": {
    "hidden": true
   },
   "outputs": [
    {
     "name": "stdout",
     "output_type": "stream",
     "text": [
      "===============================================================================\n",
      "                  coef    std err          t      P>|t|      [0.025      0.975]\n",
      "-------------------------------------------------------------------------------\n",
      "Intercept      11.2854      0.031    369.839      0.000      11.225      11.345\n",
      "nearinc        -0.3399      0.055     -6.231      0.000      -0.447      -0.233\n",
      "y81             0.1931      0.045      4.261      0.000       0.104       0.282\n",
      "nearinc:y81    -0.0626      0.083     -0.751      0.453      -0.227       0.102\n",
      "===============================================================================\n"
     ]
    }
   ],
   "source": [
    "formula_1 = 'np.log(rprice) ~ nearinc * y81'\n",
    "\n",
    "result_1 = ols(formula_1, data=kielmc).fit()\n",
    "\n",
    "print(result_1.summary().tables[1])"
   ]
  },
  {
   "cell_type": "code",
   "execution_count": 13,
   "metadata": {
    "hidden": true
   },
   "outputs": [
    {
     "name": "stdout",
     "output_type": "stream",
     "text": [
      "=================================================================================\n",
      "                    coef    std err          t      P>|t|      [0.025      0.975]\n",
      "---------------------------------------------------------------------------------\n",
      "Intercept         7.6517      0.416     18.399      0.000       6.833       8.470\n",
      "nearinc           0.0322      0.047      0.679      0.498      -0.061       0.126\n",
      "y81               0.1621      0.028      5.687      0.000       0.106       0.218\n",
      "nearinc:y81      -0.1315      0.052     -2.531      0.012      -0.234      -0.029\n",
      "age              -0.0084      0.001     -5.924      0.000      -0.011      -0.006\n",
      "I(age ** 2)    3.763e-05   8.67e-06      4.342      0.000    2.06e-05    5.47e-05\n",
      "np.log(intst)    -0.0614      0.032     -1.950      0.052      -0.123       0.001\n",
      "np.log(land)      0.0998      0.024      4.077      0.000       0.052       0.148\n",
      "np.log(area)      0.3508      0.051      6.813      0.000       0.249       0.452\n",
      "rooms             0.0473      0.017      2.732      0.007       0.013       0.081\n",
      "baths             0.0943      0.028      3.400      0.001       0.040       0.149\n",
      "=================================================================================\n"
     ]
    }
   ],
   "source": [
    "formula_2 = 'np.log(rprice) ~ nearinc * y81 + age + I(age**2) + \\\n",
    "            np.log(intst) + np.log(land) + np.log(area) + rooms + baths'\n",
    "\n",
    "result_2 = ols(formula_2, data=kielmc).fit()\n",
    "\n",
    "print(result_2.summary().tables[1])"
   ]
  },
  {
   "cell_type": "code",
   "execution_count": 14,
   "metadata": {
    "hidden": true
   },
   "outputs": [
    {
     "data": {
      "text/html": [
       "<div>\n",
       "<style scoped>\n",
       "    .dataframe tbody tr th:only-of-type {\n",
       "        vertical-align: middle;\n",
       "    }\n",
       "\n",
       "    .dataframe tbody tr th {\n",
       "        vertical-align: top;\n",
       "    }\n",
       "\n",
       "    .dataframe thead th {\n",
       "        text-align: right;\n",
       "    }\n",
       "</style>\n",
       "<table border=\"1\" class=\"dataframe\">\n",
       "  <thead>\n",
       "    <tr style=\"text-align: right;\">\n",
       "      <th></th>\n",
       "      <th>year</th>\n",
       "      <th>country</th>\n",
       "      <th>gdp</th>\n",
       "      <th>inv</th>\n",
       "      <th>con</th>\n",
       "      <th>pop</th>\n",
       "    </tr>\n",
       "  </thead>\n",
       "  <tbody>\n",
       "    <tr>\n",
       "      <th>0</th>\n",
       "      <td>2000</td>\n",
       "      <td>Australia</td>\n",
       "      <td>90</td>\n",
       "      <td>30.0</td>\n",
       "      <td>50.0</td>\n",
       "      <td>10</td>\n",
       "    </tr>\n",
       "    <tr>\n",
       "      <th>1</th>\n",
       "      <td>2001</td>\n",
       "      <td>Australia</td>\n",
       "      <td>100</td>\n",
       "      <td>40.0</td>\n",
       "      <td>80.0</td>\n",
       "      <td>11</td>\n",
       "    </tr>\n",
       "    <tr>\n",
       "      <th>2</th>\n",
       "      <td>2002</td>\n",
       "      <td>Australia</td>\n",
       "      <td>120</td>\n",
       "      <td>NaN</td>\n",
       "      <td>70.0</td>\n",
       "      <td>16</td>\n",
       "    </tr>\n",
       "    <tr>\n",
       "      <th>3</th>\n",
       "      <td>2000</td>\n",
       "      <td>Japan</td>\n",
       "      <td>100</td>\n",
       "      <td>20.0</td>\n",
       "      <td>80.0</td>\n",
       "      <td>8</td>\n",
       "    </tr>\n",
       "    <tr>\n",
       "      <th>4</th>\n",
       "      <td>2001</td>\n",
       "      <td>Japan</td>\n",
       "      <td>95</td>\n",
       "      <td>25.0</td>\n",
       "      <td>70.0</td>\n",
       "      <td>9</td>\n",
       "    </tr>\n",
       "    <tr>\n",
       "      <th>5</th>\n",
       "      <td>2002</td>\n",
       "      <td>Japan</td>\n",
       "      <td>93</td>\n",
       "      <td>21.0</td>\n",
       "      <td>72.0</td>\n",
       "      <td>10</td>\n",
       "    </tr>\n",
       "    <tr>\n",
       "      <th>6</th>\n",
       "      <td>2000</td>\n",
       "      <td>UK</td>\n",
       "      <td>100</td>\n",
       "      <td>30.0</td>\n",
       "      <td>70.0</td>\n",
       "      <td>11</td>\n",
       "    </tr>\n",
       "    <tr>\n",
       "      <th>7</th>\n",
       "      <td>2001</td>\n",
       "      <td>UK</td>\n",
       "      <td>110</td>\n",
       "      <td>39.0</td>\n",
       "      <td>71.0</td>\n",
       "      <td>12</td>\n",
       "    </tr>\n",
       "    <tr>\n",
       "      <th>8</th>\n",
       "      <td>2002</td>\n",
       "      <td>UK</td>\n",
       "      <td>115</td>\n",
       "      <td>55.0</td>\n",
       "      <td>NaN</td>\n",
       "      <td>14</td>\n",
       "    </tr>\n",
       "  </tbody>\n",
       "</table>\n",
       "</div>"
      ],
      "text/plain": [
       "   year    country  gdp   inv   con  pop\n",
       "0  2000  Australia   90  30.0  50.0   10\n",
       "1  2001  Australia  100  40.0  80.0   11\n",
       "2  2002  Australia  120   NaN  70.0   16\n",
       "3  2000      Japan  100  20.0  80.0    8\n",
       "4  2001      Japan   95  25.0  70.0    9\n",
       "5  2002      Japan   93  21.0  72.0   10\n",
       "6  2000         UK  100  30.0  70.0   11\n",
       "7  2001         UK  110  39.0  71.0   12\n",
       "8  2002         UK  115  55.0   NaN   14"
      ]
     },
     "execution_count": 14,
     "metadata": {},
     "output_type": "execute_result"
    }
   ],
   "source": [
    "# url の設定\n",
    "url = 'https://raw.githubusercontent.com/Haruyama-KobeU/Haruyama-KobeU.github.io/master/data/data4.csv'\n",
    "\n",
    "# 読み込み\n",
    "df = pd.read_csv(url)\n",
    "\n",
    "df"
   ]
  },
  {
   "cell_type": "code",
   "execution_count": 15,
   "metadata": {
    "hidden": true
   },
   "outputs": [
    {
     "data": {
      "text/html": [
       "<div>\n",
       "<style scoped>\n",
       "    .dataframe tbody tr th:only-of-type {\n",
       "        vertical-align: middle;\n",
       "    }\n",
       "\n",
       "    .dataframe tbody tr th {\n",
       "        vertical-align: top;\n",
       "    }\n",
       "\n",
       "    .dataframe thead th {\n",
       "        text-align: right;\n",
       "    }\n",
       "</style>\n",
       "<table border=\"1\" class=\"dataframe\">\n",
       "  <thead>\n",
       "    <tr style=\"text-align: right;\">\n",
       "      <th></th>\n",
       "      <th>year</th>\n",
       "      <th>country</th>\n",
       "      <th>gdp</th>\n",
       "      <th>inv</th>\n",
       "      <th>con</th>\n",
       "      <th>pop</th>\n",
       "    </tr>\n",
       "  </thead>\n",
       "  <tbody>\n",
       "    <tr>\n",
       "      <th>0</th>\n",
       "      <td>2000</td>\n",
       "      <td>Australia</td>\n",
       "      <td>90</td>\n",
       "      <td>30.0</td>\n",
       "      <td>50.0</td>\n",
       "      <td>10</td>\n",
       "    </tr>\n",
       "    <tr>\n",
       "      <th>1</th>\n",
       "      <td>2001</td>\n",
       "      <td>Australia</td>\n",
       "      <td>100</td>\n",
       "      <td>40.0</td>\n",
       "      <td>80.0</td>\n",
       "      <td>11</td>\n",
       "    </tr>\n",
       "    <tr>\n",
       "      <th>2</th>\n",
       "      <td>2002</td>\n",
       "      <td>Australia</td>\n",
       "      <td>120</td>\n",
       "      <td>NaN</td>\n",
       "      <td>70.0</td>\n",
       "      <td>16</td>\n",
       "    </tr>\n",
       "    <tr>\n",
       "      <th>3</th>\n",
       "      <td>2000</td>\n",
       "      <td>Japan</td>\n",
       "      <td>100</td>\n",
       "      <td>20.0</td>\n",
       "      <td>80.0</td>\n",
       "      <td>8</td>\n",
       "    </tr>\n",
       "    <tr>\n",
       "      <th>4</th>\n",
       "      <td>2001</td>\n",
       "      <td>Japan</td>\n",
       "      <td>95</td>\n",
       "      <td>25.0</td>\n",
       "      <td>70.0</td>\n",
       "      <td>9</td>\n",
       "    </tr>\n",
       "    <tr>\n",
       "      <th>5</th>\n",
       "      <td>2002</td>\n",
       "      <td>Japan</td>\n",
       "      <td>93</td>\n",
       "      <td>21.0</td>\n",
       "      <td>72.0</td>\n",
       "      <td>10</td>\n",
       "    </tr>\n",
       "    <tr>\n",
       "      <th>6</th>\n",
       "      <td>2000</td>\n",
       "      <td>UK</td>\n",
       "      <td>100</td>\n",
       "      <td>30.0</td>\n",
       "      <td>70.0</td>\n",
       "      <td>11</td>\n",
       "    </tr>\n",
       "    <tr>\n",
       "      <th>7</th>\n",
       "      <td>2001</td>\n",
       "      <td>UK</td>\n",
       "      <td>110</td>\n",
       "      <td>39.0</td>\n",
       "      <td>71.0</td>\n",
       "      <td>12</td>\n",
       "    </tr>\n",
       "    <tr>\n",
       "      <th>8</th>\n",
       "      <td>2002</td>\n",
       "      <td>UK</td>\n",
       "      <td>115</td>\n",
       "      <td>55.0</td>\n",
       "      <td>NaN</td>\n",
       "      <td>14</td>\n",
       "    </tr>\n",
       "  </tbody>\n",
       "</table>\n",
       "</div>"
      ],
      "text/plain": [
       "   year    country  gdp   inv   con  pop\n",
       "0  2000  Australia   90  30.0  50.0   10\n",
       "1  2001  Australia  100  40.0  80.0   11\n",
       "2  2002  Australia  120   NaN  70.0   16\n",
       "3  2000      Japan  100  20.0  80.0    8\n",
       "4  2001      Japan   95  25.0  70.0    9\n",
       "5  2002      Japan   93  21.0  72.0   10\n",
       "6  2000         UK  100  30.0  70.0   11\n",
       "7  2001         UK  110  39.0  71.0   12\n",
       "8  2002         UK  115  55.0   NaN   14"
      ]
     },
     "execution_count": 15,
     "metadata": {},
     "output_type": "execute_result"
    }
   ],
   "source": [
    "df = df.sort_values(['country','year']).reset_index(drop=True)\n",
    "\n",
    "df"
   ]
  },
  {
   "cell_type": "code",
   "execution_count": 16,
   "metadata": {
    "hidden": true
   },
   "outputs": [
    {
     "data": {
      "text/plain": [
       "<pandas.core.groupby.generic.DataFrameGroupBy object at 0x7ff3c6ad2ac0>"
      ]
     },
     "execution_count": 16,
     "metadata": {},
     "output_type": "execute_result"
    }
   ],
   "source": [
    "df_group = df.groupby('country')\n",
    "\n",
    "df_group"
   ]
  },
  {
   "cell_type": "code",
   "execution_count": 17,
   "metadata": {
    "hidden": true
   },
   "outputs": [
    {
     "data": {
      "text/plain": [
       "country\n",
       "Australia    103.333333\n",
       "Japan         96.000000\n",
       "UK           108.333333\n",
       "Name: gdp, dtype: float64"
      ]
     },
     "execution_count": 17,
     "metadata": {},
     "output_type": "execute_result"
    }
   ],
   "source": [
    "df_group['gdp'].mean()"
   ]
  },
  {
   "cell_type": "code",
   "execution_count": 18,
   "metadata": {
    "hidden": true
   },
   "outputs": [
    {
     "data": {
      "text/html": [
       "<div>\n",
       "<style scoped>\n",
       "    .dataframe tbody tr th:only-of-type {\n",
       "        vertical-align: middle;\n",
       "    }\n",
       "\n",
       "    .dataframe tbody tr th {\n",
       "        vertical-align: top;\n",
       "    }\n",
       "\n",
       "    .dataframe thead th {\n",
       "        text-align: right;\n",
       "    }\n",
       "</style>\n",
       "<table border=\"1\" class=\"dataframe\">\n",
       "  <thead>\n",
       "    <tr style=\"text-align: right;\">\n",
       "      <th></th>\n",
       "      <th>gdp</th>\n",
       "      <th>inv</th>\n",
       "    </tr>\n",
       "  </thead>\n",
       "  <tbody>\n",
       "    <tr>\n",
       "      <th>0</th>\n",
       "      <td>NaN</td>\n",
       "      <td>NaN</td>\n",
       "    </tr>\n",
       "    <tr>\n",
       "      <th>1</th>\n",
       "      <td>10.0</td>\n",
       "      <td>10.0</td>\n",
       "    </tr>\n",
       "    <tr>\n",
       "      <th>2</th>\n",
       "      <td>20.0</td>\n",
       "      <td>NaN</td>\n",
       "    </tr>\n",
       "    <tr>\n",
       "      <th>3</th>\n",
       "      <td>NaN</td>\n",
       "      <td>NaN</td>\n",
       "    </tr>\n",
       "    <tr>\n",
       "      <th>4</th>\n",
       "      <td>-5.0</td>\n",
       "      <td>5.0</td>\n",
       "    </tr>\n",
       "    <tr>\n",
       "      <th>5</th>\n",
       "      <td>-2.0</td>\n",
       "      <td>-4.0</td>\n",
       "    </tr>\n",
       "    <tr>\n",
       "      <th>6</th>\n",
       "      <td>NaN</td>\n",
       "      <td>NaN</td>\n",
       "    </tr>\n",
       "    <tr>\n",
       "      <th>7</th>\n",
       "      <td>10.0</td>\n",
       "      <td>9.0</td>\n",
       "    </tr>\n",
       "    <tr>\n",
       "      <th>8</th>\n",
       "      <td>5.0</td>\n",
       "      <td>16.0</td>\n",
       "    </tr>\n",
       "  </tbody>\n",
       "</table>\n",
       "</div>"
      ],
      "text/plain": [
       "    gdp   inv\n",
       "0   NaN   NaN\n",
       "1  10.0  10.0\n",
       "2  20.0   NaN\n",
       "3   NaN   NaN\n",
       "4  -5.0   5.0\n",
       "5  -2.0  -4.0\n",
       "6   NaN   NaN\n",
       "7  10.0   9.0\n",
       "8   5.0  16.0"
      ]
     },
     "execution_count": 18,
     "metadata": {},
     "output_type": "execute_result"
    }
   ],
   "source": [
    "var = ['gdp', 'inv']\n",
    "\n",
    "df_diff = df_group[var].diff()\n",
    "\n",
    "df_diff"
   ]
  },
  {
   "cell_type": "code",
   "execution_count": 19,
   "metadata": {
    "hidden": true
   },
   "outputs": [
    {
     "data": {
      "text/html": [
       "<div>\n",
       "<style scoped>\n",
       "    .dataframe tbody tr th:only-of-type {\n",
       "        vertical-align: middle;\n",
       "    }\n",
       "\n",
       "    .dataframe tbody tr th {\n",
       "        vertical-align: top;\n",
       "    }\n",
       "\n",
       "    .dataframe thead th {\n",
       "        text-align: right;\n",
       "    }\n",
       "</style>\n",
       "<table border=\"1\" class=\"dataframe\">\n",
       "  <thead>\n",
       "    <tr style=\"text-align: right;\">\n",
       "      <th></th>\n",
       "      <th>gdp_diff</th>\n",
       "      <th>inv_diff</th>\n",
       "    </tr>\n",
       "  </thead>\n",
       "  <tbody>\n",
       "    <tr>\n",
       "      <th>0</th>\n",
       "      <td>NaN</td>\n",
       "      <td>NaN</td>\n",
       "    </tr>\n",
       "    <tr>\n",
       "      <th>1</th>\n",
       "      <td>10.0</td>\n",
       "      <td>10.0</td>\n",
       "    </tr>\n",
       "    <tr>\n",
       "      <th>2</th>\n",
       "      <td>20.0</td>\n",
       "      <td>NaN</td>\n",
       "    </tr>\n",
       "    <tr>\n",
       "      <th>3</th>\n",
       "      <td>NaN</td>\n",
       "      <td>NaN</td>\n",
       "    </tr>\n",
       "    <tr>\n",
       "      <th>4</th>\n",
       "      <td>-5.0</td>\n",
       "      <td>5.0</td>\n",
       "    </tr>\n",
       "    <tr>\n",
       "      <th>5</th>\n",
       "      <td>-2.0</td>\n",
       "      <td>-4.0</td>\n",
       "    </tr>\n",
       "    <tr>\n",
       "      <th>6</th>\n",
       "      <td>NaN</td>\n",
       "      <td>NaN</td>\n",
       "    </tr>\n",
       "    <tr>\n",
       "      <th>7</th>\n",
       "      <td>10.0</td>\n",
       "      <td>9.0</td>\n",
       "    </tr>\n",
       "    <tr>\n",
       "      <th>8</th>\n",
       "      <td>5.0</td>\n",
       "      <td>16.0</td>\n",
       "    </tr>\n",
       "  </tbody>\n",
       "</table>\n",
       "</div>"
      ],
      "text/plain": [
       "   gdp_diff  inv_diff\n",
       "0       NaN       NaN\n",
       "1      10.0      10.0\n",
       "2      20.0       NaN\n",
       "3       NaN       NaN\n",
       "4      -5.0       5.0\n",
       "5      -2.0      -4.0\n",
       "6       NaN       NaN\n",
       "7      10.0       9.0\n",
       "8       5.0      16.0"
      ]
     },
     "execution_count": 19,
     "metadata": {},
     "output_type": "execute_result"
    }
   ],
   "source": [
    "df_diff_1 = df_diff.rename(columns={'gdp':'gdp_diff','inv':'inv_diff'})\n",
    "\n",
    "df_diff_1"
   ]
  },
  {
   "cell_type": "code",
   "execution_count": 20,
   "metadata": {
    "hidden": true
   },
   "outputs": [
    {
     "data": {
      "text/html": [
       "<div>\n",
       "<style scoped>\n",
       "    .dataframe tbody tr th:only-of-type {\n",
       "        vertical-align: middle;\n",
       "    }\n",
       "\n",
       "    .dataframe tbody tr th {\n",
       "        vertical-align: top;\n",
       "    }\n",
       "\n",
       "    .dataframe thead th {\n",
       "        text-align: right;\n",
       "    }\n",
       "</style>\n",
       "<table border=\"1\" class=\"dataframe\">\n",
       "  <thead>\n",
       "    <tr style=\"text-align: right;\">\n",
       "      <th></th>\n",
       "      <th>year</th>\n",
       "      <th>country</th>\n",
       "      <th>gdp</th>\n",
       "      <th>inv</th>\n",
       "      <th>con</th>\n",
       "      <th>pop</th>\n",
       "      <th>gdp_diff</th>\n",
       "      <th>inv_diff</th>\n",
       "    </tr>\n",
       "  </thead>\n",
       "  <tbody>\n",
       "    <tr>\n",
       "      <th>0</th>\n",
       "      <td>2000</td>\n",
       "      <td>Australia</td>\n",
       "      <td>90</td>\n",
       "      <td>30.0</td>\n",
       "      <td>50.0</td>\n",
       "      <td>10</td>\n",
       "      <td>NaN</td>\n",
       "      <td>NaN</td>\n",
       "    </tr>\n",
       "    <tr>\n",
       "      <th>1</th>\n",
       "      <td>2001</td>\n",
       "      <td>Australia</td>\n",
       "      <td>100</td>\n",
       "      <td>40.0</td>\n",
       "      <td>80.0</td>\n",
       "      <td>11</td>\n",
       "      <td>10.0</td>\n",
       "      <td>10.0</td>\n",
       "    </tr>\n",
       "    <tr>\n",
       "      <th>2</th>\n",
       "      <td>2002</td>\n",
       "      <td>Australia</td>\n",
       "      <td>120</td>\n",
       "      <td>NaN</td>\n",
       "      <td>70.0</td>\n",
       "      <td>16</td>\n",
       "      <td>20.0</td>\n",
       "      <td>NaN</td>\n",
       "    </tr>\n",
       "    <tr>\n",
       "      <th>3</th>\n",
       "      <td>2000</td>\n",
       "      <td>Japan</td>\n",
       "      <td>100</td>\n",
       "      <td>20.0</td>\n",
       "      <td>80.0</td>\n",
       "      <td>8</td>\n",
       "      <td>NaN</td>\n",
       "      <td>NaN</td>\n",
       "    </tr>\n",
       "    <tr>\n",
       "      <th>4</th>\n",
       "      <td>2001</td>\n",
       "      <td>Japan</td>\n",
       "      <td>95</td>\n",
       "      <td>25.0</td>\n",
       "      <td>70.0</td>\n",
       "      <td>9</td>\n",
       "      <td>-5.0</td>\n",
       "      <td>5.0</td>\n",
       "    </tr>\n",
       "    <tr>\n",
       "      <th>5</th>\n",
       "      <td>2002</td>\n",
       "      <td>Japan</td>\n",
       "      <td>93</td>\n",
       "      <td>21.0</td>\n",
       "      <td>72.0</td>\n",
       "      <td>10</td>\n",
       "      <td>-2.0</td>\n",
       "      <td>-4.0</td>\n",
       "    </tr>\n",
       "    <tr>\n",
       "      <th>6</th>\n",
       "      <td>2000</td>\n",
       "      <td>UK</td>\n",
       "      <td>100</td>\n",
       "      <td>30.0</td>\n",
       "      <td>70.0</td>\n",
       "      <td>11</td>\n",
       "      <td>NaN</td>\n",
       "      <td>NaN</td>\n",
       "    </tr>\n",
       "    <tr>\n",
       "      <th>7</th>\n",
       "      <td>2001</td>\n",
       "      <td>UK</td>\n",
       "      <td>110</td>\n",
       "      <td>39.0</td>\n",
       "      <td>71.0</td>\n",
       "      <td>12</td>\n",
       "      <td>10.0</td>\n",
       "      <td>9.0</td>\n",
       "    </tr>\n",
       "    <tr>\n",
       "      <th>8</th>\n",
       "      <td>2002</td>\n",
       "      <td>UK</td>\n",
       "      <td>115</td>\n",
       "      <td>55.0</td>\n",
       "      <td>NaN</td>\n",
       "      <td>14</td>\n",
       "      <td>5.0</td>\n",
       "      <td>16.0</td>\n",
       "    </tr>\n",
       "  </tbody>\n",
       "</table>\n",
       "</div>"
      ],
      "text/plain": [
       "   year    country  gdp   inv   con  pop  gdp_diff  inv_diff\n",
       "0  2000  Australia   90  30.0  50.0   10       NaN       NaN\n",
       "1  2001  Australia  100  40.0  80.0   11      10.0      10.0\n",
       "2  2002  Australia  120   NaN  70.0   16      20.0       NaN\n",
       "3  2000      Japan  100  20.0  80.0    8       NaN       NaN\n",
       "4  2001      Japan   95  25.0  70.0    9      -5.0       5.0\n",
       "5  2002      Japan   93  21.0  72.0   10      -2.0      -4.0\n",
       "6  2000         UK  100  30.0  70.0   11       NaN       NaN\n",
       "7  2001         UK  110  39.0  71.0   12      10.0       9.0\n",
       "8  2002         UK  115  55.0   NaN   14       5.0      16.0"
      ]
     },
     "execution_count": 20,
     "metadata": {},
     "output_type": "execute_result"
    }
   ],
   "source": [
    "pd.concat([df, df_diff_1], axis='columns')"
   ]
  },
  {
   "cell_type": "code",
   "execution_count": 21,
   "metadata": {
    "hidden": true
   },
   "outputs": [
    {
     "data": {
      "text/html": [
       "<div>\n",
       "<style scoped>\n",
       "    .dataframe tbody tr th:only-of-type {\n",
       "        vertical-align: middle;\n",
       "    }\n",
       "\n",
       "    .dataframe tbody tr th {\n",
       "        vertical-align: top;\n",
       "    }\n",
       "\n",
       "    .dataframe thead th {\n",
       "        text-align: right;\n",
       "    }\n",
       "</style>\n",
       "<table border=\"1\" class=\"dataframe\">\n",
       "  <thead>\n",
       "    <tr style=\"text-align: right;\">\n",
       "      <th></th>\n",
       "      <th>year</th>\n",
       "      <th>country</th>\n",
       "      <th>gdp</th>\n",
       "      <th>inv</th>\n",
       "      <th>con</th>\n",
       "      <th>pop</th>\n",
       "      <th>gdp_diff</th>\n",
       "      <th>inv_diff</th>\n",
       "    </tr>\n",
       "  </thead>\n",
       "  <tbody>\n",
       "    <tr>\n",
       "      <th>0</th>\n",
       "      <td>2000</td>\n",
       "      <td>Australia</td>\n",
       "      <td>90</td>\n",
       "      <td>30.0</td>\n",
       "      <td>50.0</td>\n",
       "      <td>10</td>\n",
       "      <td>NaN</td>\n",
       "      <td>NaN</td>\n",
       "    </tr>\n",
       "    <tr>\n",
       "      <th>1</th>\n",
       "      <td>2001</td>\n",
       "      <td>Australia</td>\n",
       "      <td>100</td>\n",
       "      <td>40.0</td>\n",
       "      <td>80.0</td>\n",
       "      <td>11</td>\n",
       "      <td>10.0</td>\n",
       "      <td>10.0</td>\n",
       "    </tr>\n",
       "    <tr>\n",
       "      <th>2</th>\n",
       "      <td>2002</td>\n",
       "      <td>Australia</td>\n",
       "      <td>120</td>\n",
       "      <td>NaN</td>\n",
       "      <td>70.0</td>\n",
       "      <td>16</td>\n",
       "      <td>20.0</td>\n",
       "      <td>NaN</td>\n",
       "    </tr>\n",
       "    <tr>\n",
       "      <th>3</th>\n",
       "      <td>2000</td>\n",
       "      <td>Japan</td>\n",
       "      <td>100</td>\n",
       "      <td>20.0</td>\n",
       "      <td>80.0</td>\n",
       "      <td>8</td>\n",
       "      <td>NaN</td>\n",
       "      <td>NaN</td>\n",
       "    </tr>\n",
       "    <tr>\n",
       "      <th>4</th>\n",
       "      <td>2001</td>\n",
       "      <td>Japan</td>\n",
       "      <td>95</td>\n",
       "      <td>25.0</td>\n",
       "      <td>70.0</td>\n",
       "      <td>9</td>\n",
       "      <td>-5.0</td>\n",
       "      <td>5.0</td>\n",
       "    </tr>\n",
       "    <tr>\n",
       "      <th>5</th>\n",
       "      <td>2002</td>\n",
       "      <td>Japan</td>\n",
       "      <td>93</td>\n",
       "      <td>21.0</td>\n",
       "      <td>72.0</td>\n",
       "      <td>10</td>\n",
       "      <td>-2.0</td>\n",
       "      <td>-4.0</td>\n",
       "    </tr>\n",
       "    <tr>\n",
       "      <th>6</th>\n",
       "      <td>2000</td>\n",
       "      <td>UK</td>\n",
       "      <td>100</td>\n",
       "      <td>30.0</td>\n",
       "      <td>70.0</td>\n",
       "      <td>11</td>\n",
       "      <td>NaN</td>\n",
       "      <td>NaN</td>\n",
       "    </tr>\n",
       "    <tr>\n",
       "      <th>7</th>\n",
       "      <td>2001</td>\n",
       "      <td>UK</td>\n",
       "      <td>110</td>\n",
       "      <td>39.0</td>\n",
       "      <td>71.0</td>\n",
       "      <td>12</td>\n",
       "      <td>10.0</td>\n",
       "      <td>9.0</td>\n",
       "    </tr>\n",
       "    <tr>\n",
       "      <th>8</th>\n",
       "      <td>2002</td>\n",
       "      <td>UK</td>\n",
       "      <td>115</td>\n",
       "      <td>55.0</td>\n",
       "      <td>NaN</td>\n",
       "      <td>14</td>\n",
       "      <td>5.0</td>\n",
       "      <td>16.0</td>\n",
       "    </tr>\n",
       "  </tbody>\n",
       "</table>\n",
       "</div>"
      ],
      "text/plain": [
       "   year    country  gdp   inv   con  pop  gdp_diff  inv_diff\n",
       "0  2000  Australia   90  30.0  50.0   10       NaN       NaN\n",
       "1  2001  Australia  100  40.0  80.0   11      10.0      10.0\n",
       "2  2002  Australia  120   NaN  70.0   16      20.0       NaN\n",
       "3  2000      Japan  100  20.0  80.0    8       NaN       NaN\n",
       "4  2001      Japan   95  25.0  70.0    9      -5.0       5.0\n",
       "5  2002      Japan   93  21.0  72.0   10      -2.0      -4.0\n",
       "6  2000         UK  100  30.0  70.0   11       NaN       NaN\n",
       "7  2001         UK  110  39.0  71.0   12      10.0       9.0\n",
       "8  2002         UK  115  55.0   NaN   14       5.0      16.0"
      ]
     },
     "execution_count": 21,
     "metadata": {},
     "output_type": "execute_result"
    }
   ],
   "source": [
    "pd.merge(df, df_diff, left_index=True, right_index=True, suffixes=('', '_diff'))"
   ]
  },
  {
   "cell_type": "code",
   "execution_count": 22,
   "metadata": {
    "hidden": true
   },
   "outputs": [],
   "source": [
    "crime2 = wooldridge.data('crime2')"
   ]
  },
  {
   "cell_type": "code",
   "execution_count": 23,
   "metadata": {
    "hidden": true,
    "tags": [
     "output_scroll"
    ]
   },
   "outputs": [
    {
     "name": "stdout",
     "output_type": "stream",
     "text": [
      "name of dataset: crime2\n",
      "no of variables: 34\n",
      "no of observations: 92\n",
      "\n",
      "+----------+----------------------------+\n",
      "| variable | label                      |\n",
      "+----------+----------------------------+\n",
      "| pop      | population                 |\n",
      "| crimes   | total number index crimes  |\n",
      "| unem     | unemployment rate          |\n",
      "| officers | number police officers     |\n",
      "| pcinc    | per capita income          |\n",
      "| west     | =1 if city in west         |\n",
      "| nrtheast | =1 if city in NE           |\n",
      "| south    | =1 if city in south        |\n",
      "| year     | 82 or 87                   |\n",
      "| area     | land area, square miles    |\n",
      "| d87      | =1 if year = 87            |\n",
      "| popden   | people per sq mile         |\n",
      "| crmrte   | crimes per 1000 people     |\n",
      "| offarea  | officers per sq mile       |\n",
      "| lawexpc  | law enforce. expend. pc, $ |\n",
      "| polpc    | police per 1000 people     |\n",
      "| lpop     | log(pop)                   |\n",
      "| loffic   | log(officers)              |\n",
      "| lpcinc   | log(pcinc)                 |\n",
      "| llawexpc | log(lawexpc)               |\n",
      "| lpopden  | log(popden)                |\n",
      "| lcrimes  | log(crimes)                |\n",
      "| larea    | log(area)                  |\n",
      "| lcrmrte  | log(crmrte)                |\n",
      "| clcrimes | change in lcrimes          |\n",
      "| clpop    | change in lpop             |\n",
      "| clcrmrte | change in lcrmrte          |\n",
      "| lpolpc   | log(polpc)                 |\n",
      "| clpolpc  | change in lpolpc           |\n",
      "| cllawexp | change in llawexp          |\n",
      "| cunem    | change in unem             |\n",
      "| clpopden | change in lpopden          |\n",
      "| lcrmrt_1 | lcrmrte lagged             |\n",
      "| ccrmrte  | change in crmrte           |\n",
      "+----------+----------------------------+\n",
      "\n",
      "These data were collected by David Dicicco, a former MSU\n",
      "undergraduate, for a final project. They came from various issues of\n",
      "the County and City Data Book, and are for the years 1982 and 1985.\n",
      "Unfortunately, I do not have the list of cities.\n"
     ]
    }
   ],
   "source": [
    "wooldridge.data('crime2', description=True)"
   ]
  },
  {
   "cell_type": "code",
   "execution_count": 24,
   "metadata": {
    "hidden": true,
    "tags": [
     "output_scroll"
    ]
   },
   "outputs": [
    {
     "data": {
      "text/html": [
       "<div>\n",
       "<style scoped>\n",
       "    .dataframe tbody tr th:only-of-type {\n",
       "        vertical-align: middle;\n",
       "    }\n",
       "\n",
       "    .dataframe tbody tr th {\n",
       "        vertical-align: top;\n",
       "    }\n",
       "\n",
       "    .dataframe thead th {\n",
       "        text-align: right;\n",
       "    }\n",
       "</style>\n",
       "<table border=\"1\" class=\"dataframe\">\n",
       "  <thead>\n",
       "    <tr style=\"text-align: right;\">\n",
       "      <th></th>\n",
       "      <th>pop</th>\n",
       "      <th>crimes</th>\n",
       "      <th>unem</th>\n",
       "      <th>officers</th>\n",
       "      <th>pcinc</th>\n",
       "      <th>west</th>\n",
       "      <th>nrtheast</th>\n",
       "      <th>south</th>\n",
       "      <th>year</th>\n",
       "      <th>area</th>\n",
       "      <th>...</th>\n",
       "      <th>clcrimes</th>\n",
       "      <th>clpop</th>\n",
       "      <th>clcrmrte</th>\n",
       "      <th>lpolpc</th>\n",
       "      <th>clpolpc</th>\n",
       "      <th>cllawexp</th>\n",
       "      <th>cunem</th>\n",
       "      <th>clpopden</th>\n",
       "      <th>lcrmrt_1</th>\n",
       "      <th>ccrmrte</th>\n",
       "    </tr>\n",
       "  </thead>\n",
       "  <tbody>\n",
       "    <tr>\n",
       "      <th>0</th>\n",
       "      <td>229528.0</td>\n",
       "      <td>17136.0</td>\n",
       "      <td>8.2</td>\n",
       "      <td>326</td>\n",
       "      <td>8532</td>\n",
       "      <td>1</td>\n",
       "      <td>0</td>\n",
       "      <td>0</td>\n",
       "      <td>82</td>\n",
       "      <td>44.599998</td>\n",
       "      <td>...</td>\n",
       "      <td>NaN</td>\n",
       "      <td>NaN</td>\n",
       "      <td>NaN</td>\n",
       "      <td>0.350872</td>\n",
       "      <td>NaN</td>\n",
       "      <td>NaN</td>\n",
       "      <td>NaN</td>\n",
       "      <td>NaN</td>\n",
       "      <td>NaN</td>\n",
       "      <td>NaN</td>\n",
       "    </tr>\n",
       "    <tr>\n",
       "      <th>1</th>\n",
       "      <td>246815.0</td>\n",
       "      <td>17306.0</td>\n",
       "      <td>3.7</td>\n",
       "      <td>321</td>\n",
       "      <td>12155</td>\n",
       "      <td>1</td>\n",
       "      <td>0</td>\n",
       "      <td>0</td>\n",
       "      <td>87</td>\n",
       "      <td>44.599998</td>\n",
       "      <td>...</td>\n",
       "      <td>0.009871</td>\n",
       "      <td>0.072614</td>\n",
       "      <td>-0.062743</td>\n",
       "      <td>0.262802</td>\n",
       "      <td>-0.08807</td>\n",
       "      <td>0.977952</td>\n",
       "      <td>-4.5</td>\n",
       "      <td>0.072615</td>\n",
       "      <td>4.312912</td>\n",
       "      <td>-4.540268</td>\n",
       "    </tr>\n",
       "    <tr>\n",
       "      <th>2</th>\n",
       "      <td>814054.0</td>\n",
       "      <td>75654.0</td>\n",
       "      <td>8.1</td>\n",
       "      <td>1621</td>\n",
       "      <td>7551</td>\n",
       "      <td>1</td>\n",
       "      <td>0</td>\n",
       "      <td>0</td>\n",
       "      <td>82</td>\n",
       "      <td>375.000000</td>\n",
       "      <td>...</td>\n",
       "      <td>NaN</td>\n",
       "      <td>NaN</td>\n",
       "      <td>NaN</td>\n",
       "      <td>0.688772</td>\n",
       "      <td>NaN</td>\n",
       "      <td>NaN</td>\n",
       "      <td>NaN</td>\n",
       "      <td>NaN</td>\n",
       "      <td>NaN</td>\n",
       "      <td>NaN</td>\n",
       "    </tr>\n",
       "    <tr>\n",
       "      <th>3</th>\n",
       "      <td>933177.0</td>\n",
       "      <td>83960.0</td>\n",
       "      <td>5.4</td>\n",
       "      <td>1803</td>\n",
       "      <td>11363</td>\n",
       "      <td>1</td>\n",
       "      <td>0</td>\n",
       "      <td>0</td>\n",
       "      <td>87</td>\n",
       "      <td>375.000000</td>\n",
       "      <td>...</td>\n",
       "      <td>0.104170</td>\n",
       "      <td>0.136568</td>\n",
       "      <td>-0.032398</td>\n",
       "      <td>0.658612</td>\n",
       "      <td>-0.03016</td>\n",
       "      <td>0.200762</td>\n",
       "      <td>-2.7</td>\n",
       "      <td>0.136568</td>\n",
       "      <td>4.531899</td>\n",
       "      <td>-2.962654</td>\n",
       "    </tr>\n",
       "    <tr>\n",
       "      <th>4</th>\n",
       "      <td>374974.0</td>\n",
       "      <td>31352.0</td>\n",
       "      <td>9.0</td>\n",
       "      <td>633</td>\n",
       "      <td>8343</td>\n",
       "      <td>1</td>\n",
       "      <td>0</td>\n",
       "      <td>0</td>\n",
       "      <td>82</td>\n",
       "      <td>49.799999</td>\n",
       "      <td>...</td>\n",
       "      <td>NaN</td>\n",
       "      <td>NaN</td>\n",
       "      <td>NaN</td>\n",
       "      <td>0.523614</td>\n",
       "      <td>NaN</td>\n",
       "      <td>NaN</td>\n",
       "      <td>NaN</td>\n",
       "      <td>NaN</td>\n",
       "      <td>NaN</td>\n",
       "      <td>NaN</td>\n",
       "    </tr>\n",
       "  </tbody>\n",
       "</table>\n",
       "<p>5 rows × 34 columns</p>\n",
       "</div>"
      ],
      "text/plain": [
       "        pop   crimes  unem  officers  pcinc  west  nrtheast  south  year  \\\n",
       "0  229528.0  17136.0   8.2       326   8532     1         0      0    82   \n",
       "1  246815.0  17306.0   3.7       321  12155     1         0      0    87   \n",
       "2  814054.0  75654.0   8.1      1621   7551     1         0      0    82   \n",
       "3  933177.0  83960.0   5.4      1803  11363     1         0      0    87   \n",
       "4  374974.0  31352.0   9.0       633   8343     1         0      0    82   \n",
       "\n",
       "         area  ...  clcrimes     clpop  clcrmrte    lpolpc  clpolpc  cllawexp  \\\n",
       "0   44.599998  ...       NaN       NaN       NaN  0.350872      NaN       NaN   \n",
       "1   44.599998  ...  0.009871  0.072614 -0.062743  0.262802 -0.08807  0.977952   \n",
       "2  375.000000  ...       NaN       NaN       NaN  0.688772      NaN       NaN   \n",
       "3  375.000000  ...  0.104170  0.136568 -0.032398  0.658612 -0.03016  0.200762   \n",
       "4   49.799999  ...       NaN       NaN       NaN  0.523614      NaN       NaN   \n",
       "\n",
       "   cunem  clpopden  lcrmrt_1   ccrmrte  \n",
       "0    NaN       NaN       NaN       NaN  \n",
       "1   -4.5  0.072615  4.312912 -4.540268  \n",
       "2    NaN       NaN       NaN       NaN  \n",
       "3   -2.7  0.136568  4.531899 -2.962654  \n",
       "4    NaN       NaN       NaN       NaN  \n",
       "\n",
       "[5 rows x 34 columns]"
      ]
     },
     "execution_count": 24,
     "metadata": {},
     "output_type": "execute_result"
    }
   ],
   "source": [
    "crime2.head()"
   ]
  },
  {
   "cell_type": "code",
   "execution_count": 25,
   "metadata": {
    "hidden": true
   },
   "outputs": [],
   "source": [
    "# 観察単位の数\n",
    "n = len(crime2)/2\n",
    "\n",
    "# 観察単位ID用のリスト作成 [1,2,3,4....]\n",
    "lst = [i for i in range(1,int(n)+1)]\n",
    "\n",
    "# 観察単位ID用のリスト作成 [1,1,2,2,3,3,4,4....]\n",
    "country_list = pd.Series(lst).repeat(2).to_list()"
   ]
  },
  {
   "cell_type": "code",
   "execution_count": 26,
   "metadata": {
    "hidden": true
   },
   "outputs": [
    {
     "data": {
      "text/html": [
       "<div>\n",
       "<style scoped>\n",
       "    .dataframe tbody tr th:only-of-type {\n",
       "        vertical-align: middle;\n",
       "    }\n",
       "\n",
       "    .dataframe tbody tr th {\n",
       "        vertical-align: top;\n",
       "    }\n",
       "\n",
       "    .dataframe thead th {\n",
       "        text-align: right;\n",
       "    }\n",
       "</style>\n",
       "<table border=\"1\" class=\"dataframe\">\n",
       "  <thead>\n",
       "    <tr style=\"text-align: right;\">\n",
       "      <th></th>\n",
       "      <th>county</th>\n",
       "      <th>year</th>\n",
       "    </tr>\n",
       "  </thead>\n",
       "  <tbody>\n",
       "    <tr>\n",
       "      <th>0</th>\n",
       "      <td>1</td>\n",
       "      <td>82</td>\n",
       "    </tr>\n",
       "    <tr>\n",
       "      <th>1</th>\n",
       "      <td>1</td>\n",
       "      <td>87</td>\n",
       "    </tr>\n",
       "    <tr>\n",
       "      <th>2</th>\n",
       "      <td>2</td>\n",
       "      <td>82</td>\n",
       "    </tr>\n",
       "    <tr>\n",
       "      <th>3</th>\n",
       "      <td>2</td>\n",
       "      <td>87</td>\n",
       "    </tr>\n",
       "    <tr>\n",
       "      <th>4</th>\n",
       "      <td>3</td>\n",
       "      <td>82</td>\n",
       "    </tr>\n",
       "  </tbody>\n",
       "</table>\n",
       "</div>"
      ],
      "text/plain": [
       "   county  year\n",
       "0       1    82\n",
       "1       1    87\n",
       "2       2    82\n",
       "3       2    87\n",
       "4       3    82"
      ]
     },
     "execution_count": 26,
     "metadata": {},
     "output_type": "execute_result"
    }
   ],
   "source": [
    "crime2['county'] = country_list  # 追加\n",
    "\n",
    "crime2.loc[:,['county','year']].head()  # 確認"
   ]
  },
  {
   "cell_type": "code",
   "execution_count": 27,
   "metadata": {
    "hidden": true
   },
   "outputs": [
    {
     "data": {
      "text/html": [
       "<div>\n",
       "<style scoped>\n",
       "    .dataframe tbody tr th:only-of-type {\n",
       "        vertical-align: middle;\n",
       "    }\n",
       "\n",
       "    .dataframe tbody tr th {\n",
       "        vertical-align: top;\n",
       "    }\n",
       "\n",
       "    .dataframe thead th {\n",
       "        text-align: right;\n",
       "    }\n",
       "</style>\n",
       "<table border=\"1\" class=\"dataframe\">\n",
       "  <thead>\n",
       "    <tr style=\"text-align: right;\">\n",
       "      <th></th>\n",
       "      <th>unem_diff</th>\n",
       "      <th>crmrte_diff</th>\n",
       "    </tr>\n",
       "  </thead>\n",
       "  <tbody>\n",
       "    <tr>\n",
       "      <th>0</th>\n",
       "      <td>NaN</td>\n",
       "      <td>NaN</td>\n",
       "    </tr>\n",
       "    <tr>\n",
       "      <th>1</th>\n",
       "      <td>-4.5</td>\n",
       "      <td>-4.540268</td>\n",
       "    </tr>\n",
       "    <tr>\n",
       "      <th>2</th>\n",
       "      <td>NaN</td>\n",
       "      <td>NaN</td>\n",
       "    </tr>\n",
       "    <tr>\n",
       "      <th>3</th>\n",
       "      <td>-2.7</td>\n",
       "      <td>-2.962654</td>\n",
       "    </tr>\n",
       "    <tr>\n",
       "      <th>4</th>\n",
       "      <td>NaN</td>\n",
       "      <td>NaN</td>\n",
       "    </tr>\n",
       "  </tbody>\n",
       "</table>\n",
       "</div>"
      ],
      "text/plain": [
       "   unem_diff  crmrte_diff\n",
       "0        NaN          NaN\n",
       "1       -4.5    -4.540268\n",
       "2        NaN          NaN\n",
       "3       -2.7    -2.962654\n",
       "4        NaN          NaN"
      ]
     },
     "execution_count": 27,
     "metadata": {},
     "output_type": "execute_result"
    }
   ],
   "source": [
    "var = ['unem', 'crmrte']  # groupbyで差分を取る列の指定\n",
    "\n",
    "names = {'unem':'unem_diff', 'crmrte':'crmrte_diff'}  # 差分の列のラベル\n",
    "\n",
    "crime2_diff = crime2.groupby('county')[var].diff().rename(columns=names)\n",
    "\n",
    "crime2_diff.head()"
   ]
  },
  {
   "cell_type": "code",
   "execution_count": 28,
   "metadata": {
    "hidden": true
   },
   "outputs": [
    {
     "name": "stdout",
     "output_type": "stream",
     "text": [
      "==============================================================================\n",
      "                 coef    std err          t      P>|t|      [0.025      0.975]\n",
      "------------------------------------------------------------------------------\n",
      "Intercept     15.4022      4.702      3.276      0.002       5.926      24.879\n",
      "unem_diff      2.2180      0.878      2.527      0.015       0.449       3.987\n",
      "==============================================================================\n"
     ]
    }
   ],
   "source": [
    "formula_1 = 'crmrte_diff ~ unem_diff'\n",
    "\n",
    "result_1 = ols(formula_1, crime2_diff).fit()\n",
    "\n",
    "print(result_1.summary().tables[1])"
   ]
  },
  {
   "cell_type": "code",
   "execution_count": 29,
   "metadata": {
    "hidden": true
   },
   "outputs": [
    {
     "data": {
      "text/plain": [
       "0.007594658874412463"
      ]
     },
     "execution_count": 29,
     "metadata": {},
     "output_type": "execute_result"
    }
   ],
   "source": [
    "t_value = result_1.tvalues['unem_diff']  # t値\n",
    "\n",
    "dof = result_1.df_resid  # 自由度 n-k-1\n",
    "\n",
    "1-t.cdf(t_value, dof)  # p値の計算"
   ]
  },
  {
   "cell_type": "code",
   "execution_count": 30,
   "metadata": {
    "hidden": true
   },
   "outputs": [
    {
     "name": "stdout",
     "output_type": "stream",
     "text": [
      "==============================================================================\n",
      "                 coef    std err          t      P>|t|      [0.025      0.975]\n",
      "------------------------------------------------------------------------------\n",
      "Intercept     93.4202     12.739      7.333      0.000      68.107     118.733\n",
      "d87            7.9404      7.975      0.996      0.322      -7.906      23.787\n",
      "unem           0.4265      1.188      0.359      0.720      -1.935       2.788\n",
      "==============================================================================\n"
     ]
    }
   ],
   "source": [
    "formula_ols_1 = 'crmrte ~ d87 + unem'\n",
    "\n",
    "result_ols_1 = ols(formula_ols_1, crime2).fit()\n",
    "\n",
    "print(result_ols_1.summary().tables[1])"
   ]
  },
  {
   "cell_type": "code",
   "execution_count": 31,
   "metadata": {
    "hidden": true
   },
   "outputs": [
    {
     "name": "stdout",
     "output_type": "stream",
     "text": [
      "==============================================================================\n",
      "                 coef    std err          t      P>|t|      [0.025      0.975]\n",
      "------------------------------------------------------------------------------\n",
      "Intercept    103.2434      8.059     12.811      0.000      87.233     119.253\n",
      "unem          -0.3077      0.932     -0.330      0.742      -2.159       1.543\n",
      "==============================================================================\n"
     ]
    }
   ],
   "source": [
    "formula_ols_2 = 'crmrte ~ unem'\n",
    "\n",
    "result_ols_2 = ols(formula_ols_2, crime2).fit()\n",
    "\n",
    "print(result_ols_2.summary().tables[1])"
   ]
  },
  {
   "cell_type": "code",
   "execution_count": 32,
   "metadata": {
    "hidden": true,
    "tags": [
     "output_scroll"
    ]
   },
   "outputs": [
    {
     "data": {
      "text/html": [
       "<div>\n",
       "<style scoped>\n",
       "    .dataframe tbody tr th:only-of-type {\n",
       "        vertical-align: middle;\n",
       "    }\n",
       "\n",
       "    .dataframe tbody tr th {\n",
       "        vertical-align: top;\n",
       "    }\n",
       "\n",
       "    .dataframe thead th {\n",
       "        text-align: right;\n",
       "    }\n",
       "</style>\n",
       "<table border=\"1\" class=\"dataframe\">\n",
       "  <thead>\n",
       "    <tr style=\"text-align: right;\">\n",
       "      <th></th>\n",
       "      <th>county</th>\n",
       "      <th>year</th>\n",
       "      <th>crmrte</th>\n",
       "      <th>prbarr</th>\n",
       "      <th>prbconv</th>\n",
       "      <th>prbpris</th>\n",
       "      <th>avgsen</th>\n",
       "      <th>polpc</th>\n",
       "      <th>density</th>\n",
       "      <th>taxpc</th>\n",
       "      <th>...</th>\n",
       "      <th>lpctymle</th>\n",
       "      <th>lpctmin</th>\n",
       "      <th>clcrmrte</th>\n",
       "      <th>clprbarr</th>\n",
       "      <th>clprbcon</th>\n",
       "      <th>clprbpri</th>\n",
       "      <th>clavgsen</th>\n",
       "      <th>clpolpc</th>\n",
       "      <th>cltaxpc</th>\n",
       "      <th>clmix</th>\n",
       "    </tr>\n",
       "  </thead>\n",
       "  <tbody>\n",
       "    <tr>\n",
       "      <th>0</th>\n",
       "      <td>1</td>\n",
       "      <td>81</td>\n",
       "      <td>0.039885</td>\n",
       "      <td>0.289696</td>\n",
       "      <td>0.402062</td>\n",
       "      <td>0.472222</td>\n",
       "      <td>5.61</td>\n",
       "      <td>0.001787</td>\n",
       "      <td>2.307159</td>\n",
       "      <td>25.697630</td>\n",
       "      <td>...</td>\n",
       "      <td>-2.433870</td>\n",
       "      <td>3.006608</td>\n",
       "      <td>NaN</td>\n",
       "      <td>NaN</td>\n",
       "      <td>NaN</td>\n",
       "      <td>NaN</td>\n",
       "      <td>NaN</td>\n",
       "      <td>NaN</td>\n",
       "      <td>NaN</td>\n",
       "      <td>NaN</td>\n",
       "    </tr>\n",
       "    <tr>\n",
       "      <th>1</th>\n",
       "      <td>1</td>\n",
       "      <td>82</td>\n",
       "      <td>0.038345</td>\n",
       "      <td>0.338111</td>\n",
       "      <td>0.433005</td>\n",
       "      <td>0.506993</td>\n",
       "      <td>5.59</td>\n",
       "      <td>0.001767</td>\n",
       "      <td>2.330254</td>\n",
       "      <td>24.874252</td>\n",
       "      <td>...</td>\n",
       "      <td>-2.449038</td>\n",
       "      <td>3.006608</td>\n",
       "      <td>-0.039376</td>\n",
       "      <td>0.154542</td>\n",
       "      <td>0.074143</td>\n",
       "      <td>0.071048</td>\n",
       "      <td>-0.003571</td>\n",
       "      <td>-0.011364</td>\n",
       "      <td>-0.032565</td>\n",
       "      <td>0.030857</td>\n",
       "    </tr>\n",
       "    <tr>\n",
       "      <th>2</th>\n",
       "      <td>1</td>\n",
       "      <td>83</td>\n",
       "      <td>0.030305</td>\n",
       "      <td>0.330449</td>\n",
       "      <td>0.525703</td>\n",
       "      <td>0.479705</td>\n",
       "      <td>5.80</td>\n",
       "      <td>0.001836</td>\n",
       "      <td>2.341801</td>\n",
       "      <td>26.451443</td>\n",
       "      <td>...</td>\n",
       "      <td>-2.464036</td>\n",
       "      <td>3.006608</td>\n",
       "      <td>-0.235316</td>\n",
       "      <td>-0.022922</td>\n",
       "      <td>0.193987</td>\n",
       "      <td>-0.055326</td>\n",
       "      <td>0.036879</td>\n",
       "      <td>0.038413</td>\n",
       "      <td>0.061477</td>\n",
       "      <td>-0.244732</td>\n",
       "    </tr>\n",
       "    <tr>\n",
       "      <th>3</th>\n",
       "      <td>1</td>\n",
       "      <td>84</td>\n",
       "      <td>0.034726</td>\n",
       "      <td>0.362525</td>\n",
       "      <td>0.604706</td>\n",
       "      <td>0.520104</td>\n",
       "      <td>6.89</td>\n",
       "      <td>0.001886</td>\n",
       "      <td>2.346420</td>\n",
       "      <td>26.842348</td>\n",
       "      <td>...</td>\n",
       "      <td>-2.478925</td>\n",
       "      <td>3.006608</td>\n",
       "      <td>0.136180</td>\n",
       "      <td>0.092641</td>\n",
       "      <td>0.140006</td>\n",
       "      <td>0.080857</td>\n",
       "      <td>0.172213</td>\n",
       "      <td>0.026930</td>\n",
       "      <td>0.014670</td>\n",
       "      <td>-0.027331</td>\n",
       "    </tr>\n",
       "    <tr>\n",
       "      <th>4</th>\n",
       "      <td>1</td>\n",
       "      <td>85</td>\n",
       "      <td>0.036573</td>\n",
       "      <td>0.325395</td>\n",
       "      <td>0.578723</td>\n",
       "      <td>0.497059</td>\n",
       "      <td>6.55</td>\n",
       "      <td>0.001924</td>\n",
       "      <td>2.364896</td>\n",
       "      <td>28.140337</td>\n",
       "      <td>...</td>\n",
       "      <td>-2.497306</td>\n",
       "      <td>3.006608</td>\n",
       "      <td>0.051825</td>\n",
       "      <td>-0.108054</td>\n",
       "      <td>-0.043918</td>\n",
       "      <td>-0.045320</td>\n",
       "      <td>-0.050606</td>\n",
       "      <td>0.020199</td>\n",
       "      <td>0.047223</td>\n",
       "      <td>0.172125</td>\n",
       "    </tr>\n",
       "  </tbody>\n",
       "</table>\n",
       "<p>5 rows × 59 columns</p>\n",
       "</div>"
      ],
      "text/plain": [
       "   county  year    crmrte    prbarr   prbconv   prbpris  avgsen     polpc  \\\n",
       "0       1    81  0.039885  0.289696  0.402062  0.472222    5.61  0.001787   \n",
       "1       1    82  0.038345  0.338111  0.433005  0.506993    5.59  0.001767   \n",
       "2       1    83  0.030305  0.330449  0.525703  0.479705    5.80  0.001836   \n",
       "3       1    84  0.034726  0.362525  0.604706  0.520104    6.89  0.001886   \n",
       "4       1    85  0.036573  0.325395  0.578723  0.497059    6.55  0.001924   \n",
       "\n",
       "    density      taxpc  ...  lpctymle   lpctmin  clcrmrte  clprbarr  clprbcon  \\\n",
       "0  2.307159  25.697630  ... -2.433870  3.006608       NaN       NaN       NaN   \n",
       "1  2.330254  24.874252  ... -2.449038  3.006608 -0.039376  0.154542  0.074143   \n",
       "2  2.341801  26.451443  ... -2.464036  3.006608 -0.235316 -0.022922  0.193987   \n",
       "3  2.346420  26.842348  ... -2.478925  3.006608  0.136180  0.092641  0.140006   \n",
       "4  2.364896  28.140337  ... -2.497306  3.006608  0.051825 -0.108054 -0.043918   \n",
       "\n",
       "   clprbpri  clavgsen   clpolpc   cltaxpc     clmix  \n",
       "0       NaN       NaN       NaN       NaN       NaN  \n",
       "1  0.071048 -0.003571 -0.011364 -0.032565  0.030857  \n",
       "2 -0.055326  0.036879  0.038413  0.061477 -0.244732  \n",
       "3  0.080857  0.172213  0.026930  0.014670 -0.027331  \n",
       "4 -0.045320 -0.050606  0.020199  0.047223  0.172125  \n",
       "\n",
       "[5 rows x 59 columns]"
      ]
     },
     "execution_count": 32,
     "metadata": {},
     "output_type": "execute_result"
    }
   ],
   "source": [
    "crime4 = wooldridge.data('crime4')\n",
    "crime4.head()"
   ]
  },
  {
   "cell_type": "code",
   "execution_count": 33,
   "metadata": {
    "hidden": true,
    "tags": [
     "output_scroll"
    ]
   },
   "outputs": [
    {
     "name": "stdout",
     "output_type": "stream",
     "text": [
      "name of dataset: crime4\n",
      "no of variables: 59\n",
      "no of observations: 630\n",
      "\n",
      "+----------+---------------------------------+\n",
      "| variable | label                           |\n",
      "+----------+---------------------------------+\n",
      "| county   | county identifier               |\n",
      "| year     | 81 to 87                        |\n",
      "| crmrte   | crimes committed per person     |\n",
      "| prbarr   | 'probability' of arrest         |\n",
      "| prbconv  | 'probability' of conviction     |\n",
      "| prbpris  | 'probability' of prison sentenc |\n",
      "| avgsen   | avg. sentence, days             |\n",
      "| polpc    | police per capita               |\n",
      "| density  | people per sq. mile             |\n",
      "| taxpc    | tax revenue per capita          |\n",
      "| west     | =1 if in western N.C.           |\n",
      "| central  | =1 if in central N.C.           |\n",
      "| urban    | =1 if in SMSA                   |\n",
      "| pctmin80 | perc. minority, 1980            |\n",
      "| wcon     | weekly wage, construction       |\n",
      "| wtuc     | wkly wge, trns, util, commun    |\n",
      "| wtrd     | wkly wge, whlesle, retail trade |\n",
      "| wfir     | wkly wge, fin, ins, real est    |\n",
      "| wser     | wkly wge, service industry      |\n",
      "| wmfg     | wkly wge, manufacturing         |\n",
      "| wfed     | wkly wge, fed employees         |\n",
      "| wsta     | wkly wge, state employees       |\n",
      "| wloc     | wkly wge, local gov emps        |\n",
      "| mix      | offense mix: face-to-face/other |\n",
      "| pctymle  | percent young male              |\n",
      "| d82      | =1 if year == 82                |\n",
      "| d83      | =1 if year == 83                |\n",
      "| d84      | =1 if year == 84                |\n",
      "| d85      | =1 if year == 85                |\n",
      "| d86      | =1 if year == 86                |\n",
      "| d87      | =1 if year == 87                |\n",
      "| lcrmrte  | log(crmrte)                     |\n",
      "| lprbarr  | log(prbarr)                     |\n",
      "| lprbconv | log(prbconv)                    |\n",
      "| lprbpris | log(prbpris)                    |\n",
      "| lavgsen  | log(avgsen)                     |\n",
      "| lpolpc   | log(polpc)                      |\n",
      "| ldensity | log(density)                    |\n",
      "| ltaxpc   | log(taxpc)                      |\n",
      "| lwcon    | log(wcon)                       |\n",
      "| lwtuc    | log(wtuc)                       |\n",
      "| lwtrd    | log(wtrd)                       |\n",
      "| lwfir    | log(wfir)                       |\n",
      "| lwser    | log(wser)                       |\n",
      "| lwmfg    | log(wmfg)                       |\n",
      "| lwfed    | log(wfed)                       |\n",
      "| lwsta    | log(wsta)                       |\n",
      "| lwloc    | log(wloc)                       |\n",
      "| lmix     | log(mix)                        |\n",
      "| lpctymle | log(pctymle)                    |\n",
      "| lpctmin  | log(pctmin)                     |\n",
      "| clcrmrte | lcrmrte - lcrmrte[_n-1]         |\n",
      "| clprbarr | lprbarr - lprbarr[_n-1]         |\n",
      "| clprbcon | lprbconv - lprbconv[_n-1]       |\n",
      "| clprbpri | lprbpri - lprbpri[t-1]          |\n",
      "| clavgsen | lavgsen - lavgsen[t-1]          |\n",
      "| clpolpc  | lpolpc - lpolpc[t-1]            |\n",
      "| cltaxpc  | ltaxpc - ltaxpc[t-1]            |\n",
      "| clmix    | lmix - lmix[t-1]                |\n",
      "+----------+---------------------------------+\n",
      "\n",
      "From C. Cornwell and W. Trumball (1994), “Estimating the Economic\n",
      "Model of Crime with Panel Data,” Review of Economics and Statistics\n",
      "76, 360-366. Professor Cornwell kindly provided the data.\n"
     ]
    }
   ],
   "source": [
    "wooldridge.data('crime4', description=True)"
   ]
  },
  {
   "cell_type": "code",
   "execution_count": 34,
   "metadata": {
    "hidden": true
   },
   "outputs": [],
   "source": [
    "# グループ化\n",
    "crime4_group = crime4.groupby('county')\n",
    "\n",
    "# 差分を計算したい変数\n",
    "var = ['lcrmrte', 'lprbarr', 'lprbconv', 'lprbpris', 'lavgsen', 'lpolpc']\n",
    "\n",
    "# 差分のDataFrame\n",
    "crime4_diff = crime4_group[var].diff()\n",
    "\n",
    "# DataFrameの結合\n",
    "crime4 = pd.merge(crime4, crime4_diff, \n",
    "                  left_index=True, right_index=True,\n",
    "                  suffixes=('','_diff'))"
   ]
  },
  {
   "cell_type": "code",
   "execution_count": 35,
   "metadata": {
    "hidden": true
   },
   "outputs": [],
   "source": [
    "formula_2 = 'lcrmrte_diff ~ d83 + d84 + d85 + d86 + d87 + \\\n",
    "                            lprbarr_diff + lprbconv_diff + \\\n",
    "                            lprbpris_diff + lavgsen_diff + \\\n",
    "                            lpolpc_diff'"
   ]
  },
  {
   "cell_type": "code",
   "execution_count": 36,
   "metadata": {
    "hidden": true
   },
   "outputs": [
    {
     "name": "stdout",
     "output_type": "stream",
     "text": [
      "=================================================================================\n",
      "                    coef    std err          t      P>|t|      [0.025      0.975]\n",
      "---------------------------------------------------------------------------------\n",
      "Intercept         0.0077      0.017      0.452      0.651      -0.026       0.041\n",
      "d83              -0.0999      0.024     -4.179      0.000      -0.147      -0.053\n",
      "d84              -0.0479      0.024     -2.040      0.042      -0.094      -0.002\n",
      "d85              -0.0046      0.023     -0.196      0.845      -0.051       0.042\n",
      "d86               0.0275      0.024      1.139      0.255      -0.020       0.075\n",
      "d87               0.0408      0.024      1.672      0.095      -0.007       0.089\n",
      "lprbarr_diff     -0.3275      0.030    -10.924      0.000      -0.386      -0.269\n",
      "lprbconv_diff    -0.2381      0.018    -13.058      0.000      -0.274      -0.202\n",
      "lprbpris_diff    -0.1650      0.026     -6.356      0.000      -0.216      -0.114\n",
      "lavgsen_diff     -0.0218      0.022     -0.985      0.325      -0.065       0.022\n",
      "lpolpc_diff       0.3984      0.027     14.821      0.000       0.346       0.451\n",
      "=================================================================================\n"
     ]
    }
   ],
   "source": [
    "result_2 = ols(formula_2, crime4).fit()\n",
    "\n",
    "print(result_2.summary().tables[1])"
   ]
  }
 ],
 "metadata": {
  "celltoolbar": "Tags",
  "kernelspec": {
   "display_name": "latest",
   "language": "python",
   "name": "latest"
  },
  "language_info": {
   "codemirror_mode": {
    "name": "ipython",
    "version": 3
   },
   "file_extension": ".py",
   "mimetype": "text/x-python",
   "name": "python",
   "nbconvert_exporter": "python",
   "pygments_lexer": "ipython3",
   "version": "3.8.3"
  },
  "nteract": {
   "version": "0.23.3"
  },
  "toc": {
   "base_numbering": 1,
   "nav_menu": {},
   "number_sections": true,
   "sideBar": true,
   "skip_h1_title": false,
   "title_cell": "Table of Contents",
   "title_sidebar": "Contents",
   "toc_cell": false,
   "toc_position": {},
   "toc_section_display": true,
   "toc_window_display": false
  }
 },
 "nbformat": 4,
 "nbformat_minor": 2
}