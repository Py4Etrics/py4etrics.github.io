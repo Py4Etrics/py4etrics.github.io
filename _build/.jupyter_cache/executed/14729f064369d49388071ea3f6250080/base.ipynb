{
 "cells": [
  {
   "cell_type": "code",
   "execution_count": 1,
   "metadata": {},
   "outputs": [],
   "source": [
    "import numpy as np\n",
    "from scipy.stats import norm, gaussian_kde\n",
    "import matplotlib.pyplot as plt\n",
    "import pandas as pd\n",
    "from linearmodels.panel.data import PanelData\n",
    "from linearmodels.panel import PanelOLS, PooledOLS, RandomEffects, compare\n",
    "from collections import OrderedDict\n",
    "import wooldridge\n",
    "from statsmodels.formula.api import ols"
   ]
  },
  {
   "cell_type": "code",
   "execution_count": 2,
   "metadata": {
    "hidden": true,
    "tags": [
     "output_scroll"
    ]
   },
   "outputs": [
    {
     "name": "stdout",
     "output_type": "stream",
     "text": [
      "name of dataset: wagepan\n",
      "no of variables: 44\n",
      "no of observations: 4360\n",
      "\n",
      "+----------+------------------------+\n",
      "| variable | label                  |\n",
      "+----------+------------------------+\n",
      "| nr       | person identifier      |\n",
      "| year     | 1980 to 1987           |\n",
      "| agric    | =1 if in agriculture   |\n",
      "| black    | =1 if black            |\n",
      "| bus      |                        |\n",
      "| construc | =1 if in construction  |\n",
      "| ent      |                        |\n",
      "| exper    | labor mkt experience   |\n",
      "| fin      |                        |\n",
      "| hisp     | =1 if Hispanic         |\n",
      "| poorhlth | =1 if in poor health   |\n",
      "| hours    | annual hours worked    |\n",
      "| manuf    | =1 if in manufacturing |\n",
      "| married  | =1 if married          |\n",
      "| min      |                        |\n",
      "| nrthcen  | =1 if north central    |\n",
      "| nrtheast | =1 if north east       |\n",
      "| occ1     |                        |\n",
      "| occ2     |                        |\n",
      "| occ3     |                        |\n",
      "| occ4     |                        |\n",
      "| occ5     |                        |\n",
      "| occ6     |                        |\n",
      "| occ7     |                        |\n",
      "| occ8     |                        |\n",
      "| occ9     |                        |\n",
      "| per      |                        |\n",
      "| pro      |                        |\n",
      "| pub      |                        |\n",
      "| rur      |                        |\n",
      "| south    | =1 if south            |\n",
      "| educ     | years of schooling     |\n",
      "| tra      |                        |\n",
      "| trad     |                        |\n",
      "| union    | =1 if in union         |\n",
      "| lwage    | log(wage)              |\n",
      "| d81      | =1 if year == 1981     |\n",
      "| d82      |                        |\n",
      "| d83      |                        |\n",
      "| d84      |                        |\n",
      "| d85      |                        |\n",
      "| d86      |                        |\n",
      "| d87      |                        |\n",
      "| expersq  | exper^2                |\n",
      "+----------+------------------------+\n",
      "\n",
      "F. Vella and M. Verbeek (1998), “Whose Wages Do Unions Raise? A\n",
      "Dynamic Model of Unionism and Wage Rate Determination for Young Men,”\n",
      "Journal of Applied Econometrics 13, 163-183. I obtained the data from\n",
      "the Journal of Applied Econometrics data archive at\n",
      "http://qed.econ.queensu.ca/jae/. This is generally a nice resource for\n",
      "undergraduates looking to replicate or extend a published study.\n"
     ]
    }
   ],
   "source": [
    "wagepan = wooldridge.data('wagepan')\n",
    "wooldridge.data('wagepan', description=True)"
   ]
  },
  {
   "cell_type": "code",
   "execution_count": 3,
   "metadata": {
    "hidden": true
   },
   "outputs": [
    {
     "name": "stdout",
     "output_type": "stream",
     "text": [
      "married: 0.04668\n",
      "union: 0.08\n",
      "expersq: -0.005185\n",
      "d81: 0.1512\n",
      "d82: 0.253\n",
      "d83: 0.3544\n",
      "d84: 0.4901\n",
      "d85: 0.6175\n",
      "d86: 0.7655\n",
      "d87: 0.925\n"
     ]
    }
   ],
   "source": [
    "# 説明変数のリスト\n",
    "exog = ['married','union','expersq','d81','d82','d83','d84','d85','d86','d87']\n",
    "\n",
    "# 全ての変数のリスト\n",
    "var = ['lwage']+exog\n",
    "\n",
    "# 使う変数だけで構成されるDataFrame\n",
    "df = wagepan.loc[:,['nr']+var]\n",
    "\n",
    "# varの平均からの乖離を計算（下の説明（１）を参照）\n",
    "df_g = df.groupby('nr')\n",
    "df_mean = df_g[var].transform('mean')\n",
    "df_md = df.loc[:,var]-df_mean\n",
    "\n",
    "# 説明変数の行列（下の説明（２）を参照）\n",
    "X = df_md.loc[:,exog].values\n",
    "\n",
    "# 被説明変数のベクトル\n",
    "Y = df_md.loc[:,'lwage'].values\n",
    "\n",
    "# OLSの計算\n",
    "params = np.linalg.inv((X.T)@X)@(X.T)@Y\n",
    "\n",
    "# 結果の表示（下の説明（３）を参照）\n",
    "for idx, name in enumerate(exog):\n",
    "    print(f'{name}: {params[idx]:.4}')"
   ]
  },
  {
   "cell_type": "code",
   "execution_count": 4,
   "metadata": {
    "hidden": true
   },
   "outputs": [],
   "source": [
    "wagepan = wagepan.set_index(['nr','year'],drop=False)"
   ]
  },
  {
   "cell_type": "code",
   "execution_count": 5,
   "metadata": {
    "hidden": true,
    "tags": [
     "output_scroll"
    ]
   },
   "outputs": [
    {
     "data": {
      "text/html": [
       "<div>\n",
       "<style scoped>\n",
       "    .dataframe tbody tr th:only-of-type {\n",
       "        vertical-align: middle;\n",
       "    }\n",
       "\n",
       "    .dataframe tbody tr th {\n",
       "        vertical-align: top;\n",
       "    }\n",
       "\n",
       "    .dataframe thead th {\n",
       "        text-align: right;\n",
       "    }\n",
       "</style>\n",
       "<table border=\"1\" class=\"dataframe\">\n",
       "  <thead>\n",
       "    <tr style=\"text-align: right;\">\n",
       "      <th></th>\n",
       "      <th></th>\n",
       "      <th>nr</th>\n",
       "      <th>year</th>\n",
       "      <th>agric</th>\n",
       "      <th>black</th>\n",
       "      <th>bus</th>\n",
       "      <th>construc</th>\n",
       "      <th>ent</th>\n",
       "      <th>exper</th>\n",
       "      <th>fin</th>\n",
       "      <th>hisp</th>\n",
       "      <th>...</th>\n",
       "      <th>union</th>\n",
       "      <th>lwage</th>\n",
       "      <th>d81</th>\n",
       "      <th>d82</th>\n",
       "      <th>d83</th>\n",
       "      <th>d84</th>\n",
       "      <th>d85</th>\n",
       "      <th>d86</th>\n",
       "      <th>d87</th>\n",
       "      <th>expersq</th>\n",
       "    </tr>\n",
       "    <tr>\n",
       "      <th>nr</th>\n",
       "      <th>year</th>\n",
       "      <th></th>\n",
       "      <th></th>\n",
       "      <th></th>\n",
       "      <th></th>\n",
       "      <th></th>\n",
       "      <th></th>\n",
       "      <th></th>\n",
       "      <th></th>\n",
       "      <th></th>\n",
       "      <th></th>\n",
       "      <th></th>\n",
       "      <th></th>\n",
       "      <th></th>\n",
       "      <th></th>\n",
       "      <th></th>\n",
       "      <th></th>\n",
       "      <th></th>\n",
       "      <th></th>\n",
       "      <th></th>\n",
       "      <th></th>\n",
       "      <th></th>\n",
       "    </tr>\n",
       "  </thead>\n",
       "  <tbody>\n",
       "    <tr>\n",
       "      <th rowspan=\"5\" valign=\"top\">13</th>\n",
       "      <th>1980</th>\n",
       "      <td>13</td>\n",
       "      <td>1980</td>\n",
       "      <td>0</td>\n",
       "      <td>0</td>\n",
       "      <td>1</td>\n",
       "      <td>0</td>\n",
       "      <td>0</td>\n",
       "      <td>1</td>\n",
       "      <td>0</td>\n",
       "      <td>0</td>\n",
       "      <td>...</td>\n",
       "      <td>0</td>\n",
       "      <td>1.197540</td>\n",
       "      <td>0</td>\n",
       "      <td>0</td>\n",
       "      <td>0</td>\n",
       "      <td>0</td>\n",
       "      <td>0</td>\n",
       "      <td>0</td>\n",
       "      <td>0</td>\n",
       "      <td>1</td>\n",
       "    </tr>\n",
       "    <tr>\n",
       "      <th>1981</th>\n",
       "      <td>13</td>\n",
       "      <td>1981</td>\n",
       "      <td>0</td>\n",
       "      <td>0</td>\n",
       "      <td>0</td>\n",
       "      <td>0</td>\n",
       "      <td>0</td>\n",
       "      <td>2</td>\n",
       "      <td>0</td>\n",
       "      <td>0</td>\n",
       "      <td>...</td>\n",
       "      <td>1</td>\n",
       "      <td>1.853060</td>\n",
       "      <td>1</td>\n",
       "      <td>0</td>\n",
       "      <td>0</td>\n",
       "      <td>0</td>\n",
       "      <td>0</td>\n",
       "      <td>0</td>\n",
       "      <td>0</td>\n",
       "      <td>4</td>\n",
       "    </tr>\n",
       "    <tr>\n",
       "      <th>1982</th>\n",
       "      <td>13</td>\n",
       "      <td>1982</td>\n",
       "      <td>0</td>\n",
       "      <td>0</td>\n",
       "      <td>1</td>\n",
       "      <td>0</td>\n",
       "      <td>0</td>\n",
       "      <td>3</td>\n",
       "      <td>0</td>\n",
       "      <td>0</td>\n",
       "      <td>...</td>\n",
       "      <td>0</td>\n",
       "      <td>1.344462</td>\n",
       "      <td>0</td>\n",
       "      <td>1</td>\n",
       "      <td>0</td>\n",
       "      <td>0</td>\n",
       "      <td>0</td>\n",
       "      <td>0</td>\n",
       "      <td>0</td>\n",
       "      <td>9</td>\n",
       "    </tr>\n",
       "    <tr>\n",
       "      <th>1983</th>\n",
       "      <td>13</td>\n",
       "      <td>1983</td>\n",
       "      <td>0</td>\n",
       "      <td>0</td>\n",
       "      <td>1</td>\n",
       "      <td>0</td>\n",
       "      <td>0</td>\n",
       "      <td>4</td>\n",
       "      <td>0</td>\n",
       "      <td>0</td>\n",
       "      <td>...</td>\n",
       "      <td>0</td>\n",
       "      <td>1.433213</td>\n",
       "      <td>0</td>\n",
       "      <td>0</td>\n",
       "      <td>1</td>\n",
       "      <td>0</td>\n",
       "      <td>0</td>\n",
       "      <td>0</td>\n",
       "      <td>0</td>\n",
       "      <td>16</td>\n",
       "    </tr>\n",
       "    <tr>\n",
       "      <th>1984</th>\n",
       "      <td>13</td>\n",
       "      <td>1984</td>\n",
       "      <td>0</td>\n",
       "      <td>0</td>\n",
       "      <td>0</td>\n",
       "      <td>0</td>\n",
       "      <td>0</td>\n",
       "      <td>5</td>\n",
       "      <td>0</td>\n",
       "      <td>0</td>\n",
       "      <td>...</td>\n",
       "      <td>0</td>\n",
       "      <td>1.568125</td>\n",
       "      <td>0</td>\n",
       "      <td>0</td>\n",
       "      <td>0</td>\n",
       "      <td>1</td>\n",
       "      <td>0</td>\n",
       "      <td>0</td>\n",
       "      <td>0</td>\n",
       "      <td>25</td>\n",
       "    </tr>\n",
       "  </tbody>\n",
       "</table>\n",
       "<p>5 rows × 44 columns</p>\n",
       "</div>"
      ],
      "text/plain": [
       "         nr  year  agric  black  bus  construc  ent  exper  fin  hisp  ...  \\\n",
       "nr year                                                                ...   \n",
       "13 1980  13  1980      0      0    1         0    0      1    0     0  ...   \n",
       "   1981  13  1981      0      0    0         0    0      2    0     0  ...   \n",
       "   1982  13  1982      0      0    1         0    0      3    0     0  ...   \n",
       "   1983  13  1983      0      0    1         0    0      4    0     0  ...   \n",
       "   1984  13  1984      0      0    0         0    0      5    0     0  ...   \n",
       "\n",
       "         union     lwage  d81  d82  d83  d84  d85  d86  d87  expersq  \n",
       "nr year                                                               \n",
       "13 1980      0  1.197540    0    0    0    0    0    0    0        1  \n",
       "   1981      1  1.853060    1    0    0    0    0    0    0        4  \n",
       "   1982      0  1.344462    0    1    0    0    0    0    0        9  \n",
       "   1983      0  1.433213    0    0    1    0    0    0    0       16  \n",
       "   1984      0  1.568125    0    0    0    1    0    0    0       25  \n",
       "\n",
       "[5 rows x 44 columns]"
      ]
     },
     "execution_count": 5,
     "metadata": {},
     "output_type": "execute_result"
    }
   ],
   "source": [
    "wagepan.head()"
   ]
  },
  {
   "cell_type": "code",
   "execution_count": 6,
   "metadata": {
    "hidden": true,
    "tags": [
     "output_scroll"
    ]
   },
   "outputs": [
    {
     "name": "stdout",
     "output_type": "stream",
     "text": [
      "<class 'pandas.core.frame.DataFrame'>\n",
      "MultiIndex: 4360 entries, (13, 1980) to (12548, 1987)\n",
      "Data columns (total 44 columns):\n",
      " #   Column    Non-Null Count  Dtype  \n",
      "---  ------    --------------  -----  \n",
      " 0   nr        4360 non-null   int64  \n",
      " 1   year      4360 non-null   int64  \n",
      " 2   agric     4360 non-null   int64  \n",
      " 3   black     4360 non-null   int64  \n",
      " 4   bus       4360 non-null   int64  \n",
      " 5   construc  4360 non-null   int64  \n",
      " 6   ent       4360 non-null   int64  \n",
      " 7   exper     4360 non-null   int64  \n",
      " 8   fin       4360 non-null   int64  \n",
      " 9   hisp      4360 non-null   int64  \n",
      " 10  poorhlth  4360 non-null   int64  \n",
      " 11  hours     4360 non-null   int64  \n",
      " 12  manuf     4360 non-null   int64  \n",
      " 13  married   4360 non-null   int64  \n",
      " 14  min       4360 non-null   int64  \n",
      " 15  nrthcen   4360 non-null   int64  \n",
      " 16  nrtheast  4360 non-null   int64  \n",
      " 17  occ1      4360 non-null   int64  \n",
      " 18  occ2      4360 non-null   int64  \n",
      " 19  occ3      4360 non-null   int64  \n",
      " 20  occ4      4360 non-null   int64  \n",
      " 21  occ5      4360 non-null   int64  \n",
      " 22  occ6      4360 non-null   int64  \n",
      " 23  occ7      4360 non-null   int64  \n",
      " 24  occ8      4360 non-null   int64  \n",
      " 25  occ9      4360 non-null   int64  \n",
      " 26  per       4360 non-null   int64  \n",
      " 27  pro       4360 non-null   int64  \n",
      " 28  pub       4360 non-null   int64  \n",
      " 29  rur       4360 non-null   int64  \n",
      " 30  south     4360 non-null   int64  \n",
      " 31  educ      4360 non-null   int64  \n",
      " 32  tra       4360 non-null   int64  \n",
      " 33  trad      4360 non-null   int64  \n",
      " 34  union     4360 non-null   int64  \n",
      " 35  lwage     4360 non-null   float64\n",
      " 36  d81       4360 non-null   int64  \n",
      " 37  d82       4360 non-null   int64  \n",
      " 38  d83       4360 non-null   int64  \n",
      " 39  d84       4360 non-null   int64  \n",
      " 40  d85       4360 non-null   int64  \n",
      " 41  d86       4360 non-null   int64  \n",
      " 42  d87       4360 non-null   int64  \n",
      " 43  expersq   4360 non-null   int64  \n",
      "dtypes: float64(1), int64(43)\n",
      "memory usage: 1.5 MB\n"
     ]
    }
   ],
   "source": [
    "wagepan.info()"
   ]
  },
  {
   "cell_type": "code",
   "execution_count": 7,
   "metadata": {
    "hidden": true
   },
   "outputs": [
    {
     "name": "stderr",
     "output_type": "stream",
     "text": [
      "/Users/Tetsu/anaconda3/envs/latest/lib/python3.8/site-packages/linearmodels/panel/data.py:98: FutureWarning: is_categorical is deprecated and will be removed in a future version.  Use is_categorical_dtype instead\n",
      "  if is_categorical(s):\n"
     ]
    },
    {
     "data": {
      "text/plain": [
       "(44, 8, 545)"
      ]
     },
     "execution_count": 7,
     "metadata": {},
     "output_type": "execute_result"
    }
   ],
   "source": [
    "wagepanp = PanelData(wagepan)\n",
    "wagepanp.shape"
   ]
  },
  {
   "cell_type": "code",
   "execution_count": 8,
   "metadata": {
    "hidden": true
   },
   "outputs": [
    {
     "data": {
      "text/plain": [
       "True"
      ]
     },
     "execution_count": 8,
     "metadata": {},
     "output_type": "execute_result"
    }
   ],
   "source": [
    "(wagepanp.count()==wagepanp.nobs).all().all()"
   ]
  },
  {
   "cell_type": "code",
   "execution_count": 9,
   "metadata": {
    "hidden": true
   },
   "outputs": [],
   "source": [
    "formula_fe = 'lwage ~ married + union + expersq \\\n",
    "                      +d81+d82+d83+d84+d85+d86+d87 + EntityEffects'"
   ]
  },
  {
   "cell_type": "code",
   "execution_count": 10,
   "metadata": {
    "hidden": true
   },
   "outputs": [
    {
     "name": "stderr",
     "output_type": "stream",
     "text": [
      "/Users/Tetsu/anaconda3/envs/latest/lib/python3.8/site-packages/linearmodels/panel/data.py:98: FutureWarning: is_categorical is deprecated and will be removed in a future version.  Use is_categorical_dtype instead\n",
      "  if is_categorical(s):\n"
     ]
    }
   ],
   "source": [
    "mod_fe = PanelOLS.from_formula(formula_fe, data=wagepan)"
   ]
  },
  {
   "cell_type": "code",
   "execution_count": 11,
   "metadata": {
    "hidden": true
   },
   "outputs": [],
   "source": [
    "result_fe = mod_fe.fit()"
   ]
  },
  {
   "cell_type": "code",
   "execution_count": 12,
   "metadata": {
    "hidden": true
   },
   "outputs": [
    {
     "name": "stdout",
     "output_type": "stream",
     "text": [
      "                             Parameter Estimates                              \n",
      "==============================================================================\n",
      "            Parameter  Std. Err.     T-stat    P-value    Lower CI    Upper CI\n",
      "------------------------------------------------------------------------------\n",
      "married        0.0467     0.0183     2.5494     0.0108      0.0108      0.0826\n",
      "union          0.0800     0.0193     4.1430     0.0000      0.0421      0.1179\n",
      "expersq       -0.0052     0.0007    -7.3612     0.0000     -0.0066     -0.0038\n",
      "d81            0.1512     0.0219     6.8883     0.0000      0.1082      0.1942\n",
      "d82            0.2530     0.0244     10.360     0.0000      0.2051      0.3008\n",
      "d83            0.3544     0.0292     12.121     0.0000      0.2971      0.4118\n",
      "d84            0.4901     0.0362     13.529     0.0000      0.4191      0.5611\n",
      "d85            0.6175     0.0452     13.648     0.0000      0.5288      0.7062\n",
      "d86            0.7655     0.0561     13.638     0.0000      0.6555      0.8755\n",
      "d87            0.9250     0.0688     13.450     0.0000      0.7902      1.0599\n",
      "==============================================================================\n"
     ]
    }
   ],
   "source": [
    "print(result_fe.summary.tables[1])"
   ]
  },
  {
   "cell_type": "code",
   "execution_count": 13,
   "metadata": {
    "hidden": true
   },
   "outputs": [
    {
     "name": "stdout",
     "output_type": "stream",
     "text": [
      "                          PanelOLS Estimation Summary                           \n",
      "================================================================================\n",
      "Dep. Variable:                  lwage   R-squared:                        0.1806\n",
      "Estimator:                   PanelOLS   R-squared (Between):              0.2386\n",
      "No. Observations:                4360   R-squared (Within):               0.1806\n",
      "Date:                Sun, Oct 04 2020   R-squared (Overall):              0.2361\n",
      "Time:                        22:02:52   Log-likelihood                   -1324.8\n",
      "Cov. Estimator:            Unadjusted                                           \n",
      "                                        F-statistic:                      83.851\n",
      "Entities:                         545   P-value                           0.0000\n",
      "Avg Obs:                       8.0000   Distribution:                 F(10,3805)\n",
      "Min Obs:                       8.0000                                           \n",
      "Max Obs:                       8.0000   F-statistic (robust):             83.851\n",
      "                                        P-value                           0.0000\n",
      "Time periods:                       8   Distribution:                 F(10,3805)\n",
      "Avg Obs:                       545.00                                           \n",
      "Min Obs:                       545.00                                           \n",
      "Max Obs:                       545.00                                           \n",
      "                                                                                \n",
      "================================================================================\n"
     ]
    }
   ],
   "source": [
    "print(result_fe.summary.tables[0])"
   ]
  },
  {
   "cell_type": "code",
   "execution_count": 14,
   "metadata": {
    "hidden": true
   },
   "outputs": [
    {
     "name": "stdout",
     "output_type": "stream",
     "text": [
      "                          PanelOLS Estimation Summary                           \n",
      "================================================================================\n",
      "Dep. Variable:                  lwage   R-squared:                        0.0216\n",
      "Estimator:                   PanelOLS   R-squared (Between):             -0.2717\n",
      "No. Observations:                4360   R-squared (Within):              -0.4809\n",
      "Date:                Sun, Oct 04 2020   R-squared (Overall):             -0.2808\n",
      "Time:                        22:02:52   Log-likelihood                   -1324.8\n",
      "Cov. Estimator:            Unadjusted                                           \n",
      "                                        F-statistic:                      27.959\n",
      "Entities:                         545   P-value                           0.0000\n",
      "Avg Obs:                       8.0000   Distribution:                  F(3,3805)\n",
      "Min Obs:                       8.0000                                           \n",
      "Max Obs:                       8.0000   F-statistic (robust):             27.959\n",
      "                                        P-value                           0.0000\n",
      "Time periods:                       8   Distribution:                  F(3,3805)\n",
      "Avg Obs:                       545.00                                           \n",
      "Min Obs:                       545.00                                           \n",
      "Max Obs:                       545.00                                           \n",
      "                                                                                \n",
      "                             Parameter Estimates                              \n",
      "==============================================================================\n",
      "            Parameter  Std. Err.     T-stat    P-value    Lower CI    Upper CI\n",
      "------------------------------------------------------------------------------\n",
      "married        0.0467     0.0183     2.5494     0.0108      0.0108      0.0826\n",
      "union          0.0800     0.0193     4.1430     0.0000      0.0421      0.1179\n",
      "expersq       -0.0052     0.0007    -7.3612     0.0000     -0.0066     -0.0038\n",
      "==============================================================================\n",
      "\n",
      "F-test for Poolability: 10.067\n",
      "P-value: 0.0000\n",
      "Distribution: F(551,3805)\n",
      "\n",
      "Included effects: Entity, Time\n"
     ]
    }
   ],
   "source": [
    "formula_fe2 = 'lwage ~ married + union + expersq + TimeEffects + EntityEffects'\n",
    "result_fe2 = PanelOLS.from_formula(formula_fe2, data=wagepan).fit()\n",
    "print(result_fe2)"
   ]
  },
  {
   "cell_type": "code",
   "execution_count": 15,
   "metadata": {
    "hidden": true
   },
   "outputs": [],
   "source": [
    "formula_dum = 'lwage ~  1 + married + union + expersq \\\n",
    "                        +d81+d82+d83+d84+d85+d86+d87 + C(nr)'"
   ]
  },
  {
   "cell_type": "code",
   "execution_count": 16,
   "metadata": {
    "hidden": true
   },
   "outputs": [
    {
     "name": "stderr",
     "output_type": "stream",
     "text": [
      "/Users/Tetsu/anaconda3/envs/latest/lib/python3.8/site-packages/linearmodels/panel/data.py:98: FutureWarning: is_categorical is deprecated and will be removed in a future version.  Use is_categorical_dtype instead\n",
      "  if is_categorical(s):\n"
     ]
    }
   ],
   "source": [
    "result_dum = PooledOLS.from_formula(formula_dum, data=wagepan).fit()"
   ]
  },
  {
   "cell_type": "code",
   "execution_count": 17,
   "metadata": {
    "hidden": true
   },
   "outputs": [
    {
     "data": {
      "text/plain": [
       "Intercept    0.933291\n",
       "married      0.046680\n",
       "union        0.080002\n",
       "expersq     -0.005185\n",
       "d81          0.151191\n",
       "d82          0.252971\n",
       "d83          0.354444\n",
       "d84          0.490115\n",
       "d85          0.617482\n",
       "d86          0.765497\n",
       "d87          0.925025\n",
       "Name: parameter, dtype: float64"
      ]
     },
     "execution_count": 17,
     "metadata": {},
     "output_type": "execute_result"
    }
   ],
   "source": [
    "filter = (result_dum.params.index.str.contains('nr') == False).tolist()\n",
    "result_dum.params[filter]"
   ]
  },
  {
   "cell_type": "code",
   "execution_count": 18,
   "metadata": {
    "hidden": true
   },
   "outputs": [],
   "source": [
    "formula_re = 'lwage ~ 1 + married + union + expersq \\\n",
    "                        + exper + educ + black + hisp \\\n",
    "                        +d81+d82+d83+d84+d85+d86+d87'"
   ]
  },
  {
   "cell_type": "code",
   "execution_count": 19,
   "metadata": {
    "hidden": true
   },
   "outputs": [],
   "source": [
    "result_re = RandomEffects.from_formula(formula_re, data=wagepan).fit()"
   ]
  },
  {
   "cell_type": "code",
   "execution_count": 20,
   "metadata": {
    "hidden": true
   },
   "outputs": [
    {
     "name": "stdout",
     "output_type": "stream",
     "text": [
      "                             Parameter Estimates                              \n",
      "==============================================================================\n",
      "            Parameter  Std. Err.     T-stat    P-value    Lower CI    Upper CI\n",
      "------------------------------------------------------------------------------\n",
      "Intercept      0.0234     0.1514     0.1546     0.8771     -0.2735      0.3203\n",
      "married        0.0638     0.0168     3.8035     0.0001      0.0309      0.0967\n",
      "union          0.1059     0.0179     5.9289     0.0000      0.0709      0.1409\n",
      "expersq       -0.0047     0.0007    -6.8623     0.0000     -0.0061     -0.0034\n",
      "exper          0.1058     0.0154     6.8706     0.0000      0.0756      0.1361\n",
      "educ           0.0919     0.0107     8.5744     0.0000      0.0709      0.1129\n",
      "black         -0.1394     0.0480    -2.9054     0.0037     -0.2334     -0.0453\n",
      "hisp           0.0217     0.0428     0.5078     0.6116     -0.0622      0.1057\n",
      "d81            0.0404     0.0247     1.6362     0.1019     -0.0080      0.0889\n",
      "d82            0.0309     0.0324     0.9519     0.3412     -0.0327      0.0944\n",
      "d83            0.0202     0.0417     0.4840     0.6284     -0.0616      0.1020\n",
      "d84            0.0430     0.0515     0.8350     0.4037     -0.0580      0.1440\n",
      "d85            0.0577     0.0615     0.9383     0.3482     -0.0629      0.1782\n",
      "d86            0.0918     0.0716     1.2834     0.1994     -0.0485      0.2321\n",
      "d87            0.1348     0.0817     1.6504     0.0989     -0.0253      0.2950\n",
      "==============================================================================\n"
     ]
    }
   ],
   "source": [
    "print(result_re.summary.tables[1])"
   ]
  },
  {
   "cell_type": "code",
   "execution_count": 21,
   "metadata": {
    "hidden": true
   },
   "outputs": [
    {
     "data": {
      "text/plain": [
       "theta    0.645059\n",
       "Name: 13, dtype: float64"
      ]
     },
     "execution_count": 21,
     "metadata": {},
     "output_type": "execute_result"
    }
   ],
   "source": [
    "result_re.theta.iloc[0,:]"
   ]
  },
  {
   "cell_type": "code",
   "execution_count": 22,
   "metadata": {
    "hidden": true
   },
   "outputs": [
    {
     "data": {
      "text/plain": [
       "Effects                   0.106946\n",
       "Residual                  0.123324\n",
       "Percent due to Effects    0.464438\n",
       "Name: Variance Decomposition, dtype: float64"
      ]
     },
     "execution_count": 22,
     "metadata": {},
     "output_type": "execute_result"
    }
   ],
   "source": [
    "result_re.variance_decomposition"
   ]
  },
  {
   "cell_type": "code",
   "execution_count": 23,
   "metadata": {
    "hidden": true
   },
   "outputs": [],
   "source": [
    "def add_col_mean(dframe, ori_col, new_col):  # (1)\n",
    "    \n",
    "    dict = dframe.groupby(level=0)[ori_col].mean().to_dict()  # (2)\n",
    "    mean = dframe.index.get_level_values(0).to_series().map(dict).tolist()  # (3)\n",
    "    dframe.loc[:,new_col] = mean  # (4)\n",
    "    \n",
    "    return dframe   # (5)"
   ]
  },
  {
   "cell_type": "code",
   "execution_count": 24,
   "metadata": {
    "hidden": true
   },
   "outputs": [],
   "source": [
    "wagepan = add_col_mean(wagepan, 'married', 'married_mean')\n",
    "wagepan = add_col_mean(wagepan, 'union', 'union_mean')\n",
    "wagepan = add_col_mean(wagepan, 'expersq', 'expersq_mean')"
   ]
  },
  {
   "cell_type": "code",
   "execution_count": 25,
   "metadata": {
    "hidden": true
   },
   "outputs": [
    {
     "name": "stdout",
     "output_type": "stream",
     "text": [
      "                        RandomEffects Estimation Summary                        \n",
      "================================================================================\n",
      "Dep. Variable:                  lwage   R-squared:                        0.1711\n",
      "Estimator:              RandomEffects   R-squared (Between):              0.0967\n",
      "No. Observations:                4360   R-squared (Within):               0.1806\n",
      "Date:                Sun, Oct 04 2020   R-squared (Overall):              0.1355\n",
      "Time:                        22:02:53   Log-likelihood                   -1609.8\n",
      "Cov. Estimator:            Unadjusted                                           \n",
      "                                        F-statistic:                      69.027\n",
      "Entities:                         545   P-value                           0.0000\n",
      "Avg Obs:                       8.0000   Distribution:                 F(13,4346)\n",
      "Min Obs:                       8.0000                                           \n",
      "Max Obs:                       8.0000   F-statistic (robust):             69.027\n",
      "                                        P-value                           0.0000\n",
      "Time periods:                       8   Distribution:                 F(13,4346)\n",
      "Avg Obs:                       545.00                                           \n",
      "Min Obs:                       545.00                                           \n",
      "Max Obs:                       545.00                                           \n",
      "                                                                                \n",
      "                              Parameter Estimates                               \n",
      "================================================================================\n",
      "              Parameter  Std. Err.     T-stat    P-value    Lower CI    Upper CI\n",
      "--------------------------------------------------------------------------------\n",
      "Intercept        1.1537     0.0502     22.979     0.0000      1.0552      1.2521\n",
      "married          0.0467     0.0183     2.5522     0.0107      0.0108      0.0825\n",
      "union            0.0800     0.0193     4.1475     0.0000      0.0422      0.1178\n",
      "expersq         -0.0052     0.0007    -7.3693     0.0000     -0.0066     -0.0038\n",
      "married_mean     0.1618     0.0469     3.4518     0.0006      0.0699      0.2536\n",
      "union_mean       0.1612     0.0526     3.0653     0.0022      0.0581      0.2644\n",
      "expersq_mean     0.0032     0.0009     3.4362     0.0006      0.0014      0.0050\n",
      "d81              0.1512     0.0219     6.8959     0.0000      0.1082      0.1942\n",
      "d82              0.2530     0.0244     10.371     0.0000      0.2052      0.3008\n",
      "d83              0.3544     0.0292     12.134     0.0000      0.2972      0.4117\n",
      "d84              0.4901     0.0362     13.544     0.0000      0.4192      0.5611\n",
      "d85              0.6175     0.0452     13.663     0.0000      0.5289      0.7061\n",
      "d86              0.7655     0.0561     13.654     0.0000      0.6556      0.8754\n",
      "d87              0.9250     0.0687     13.465     0.0000      0.7903      1.0597\n",
      "================================================================================\n"
     ]
    }
   ],
   "source": [
    "formula_cre = 'lwage ~ 1 + married + union + expersq \\\n",
    "                         + married_mean + union_mean + expersq_mean \\\n",
    "                         +d81+d82+d83+d84+d85+d86+d87'\n",
    "\n",
    "result_cre = RandomEffects.from_formula(formula_cre, data=wagepan).fit()\n",
    "\n",
    "print(result_cre)"
   ]
  },
  {
   "cell_type": "code",
   "execution_count": 26,
   "metadata": {
    "hidden": true
   },
   "outputs": [
    {
     "data": {
      "text/plain": [
       "Linear Equality Hypothesis Test\n",
       "H0: Linear equality constraint is valid\n",
       "Statistic: 35.6454\n",
       "P-value: 0.0000\n",
       "Distributed: chi2(3)\n",
       "WaldTestStatistic, id: 0x7fc0a1d7dc70"
      ]
     },
     "execution_count": 26,
     "metadata": {},
     "output_type": "execute_result"
    }
   ],
   "source": [
    "# 検定する係数の値を設定する\n",
    "restriction = 'married_mean = union_mean = expersq_mean = 0'\n",
    "\n",
    "# 検定結果を表示する\n",
    "result_cre.wald_test(formula=restriction)"
   ]
  },
  {
   "cell_type": "code",
   "execution_count": 27,
   "metadata": {
    "hidden": true
   },
   "outputs": [
    {
     "name": "stdout",
     "output_type": "stream",
     "text": [
      "                              Parameter Estimates                               \n",
      "================================================================================\n",
      "              Parameter  Std. Err.     T-stat    P-value    Lower CI    Upper CI\n",
      "--------------------------------------------------------------------------------\n",
      "Intercept       -0.1288     0.1583    -0.8140     0.4157     -0.4391      0.1814\n",
      "married          0.0467     0.0183     2.5520     0.0107      0.0108      0.0825\n",
      "union            0.0800     0.0193     4.1473     0.0000      0.0422      0.1178\n",
      "expersq         -0.0052     0.0007    -7.3689     0.0000     -0.0066     -0.0038\n",
      "exper           -0.0504     0.0507    -0.9947     0.3200     -0.1499      0.0490\n",
      "educ             0.0946     0.0110     8.6115     0.0000      0.0731      0.1161\n",
      "black           -0.1388     0.0492    -2.8193     0.0048     -0.2353     -0.0423\n",
      "hisp             0.0048     0.0430     0.1110     0.9116     -0.0795      0.0891\n",
      "married_mean     0.0970     0.0454     2.1382     0.0326      0.0081      0.1859\n",
      "union_mean       0.1907     0.0507     3.7591     0.0002      0.0912      0.2901\n",
      "expersq_mean     0.0103     0.0033     3.1135     0.0019      0.0038      0.0168\n",
      "d81              0.2016     0.0552     3.6497     0.0003      0.0933      0.3099\n",
      "d82              0.3538     0.1043     3.3923     0.0007      0.1493      0.5583\n",
      "d83              0.5058     0.1549     3.2650     0.0011      0.2021      0.8094\n",
      "d84              0.6919     0.2060     3.3580     0.0008      0.2879      1.0958\n",
      "d85              0.8697     0.2575     3.3768     0.0007      0.3648      1.3746\n",
      "d86              1.0681     0.3094     3.4525     0.0006      0.4616      1.6746\n",
      "d87              1.2781     0.3615     3.5351     0.0004      0.5693      1.9869\n",
      "================================================================================\n"
     ]
    }
   ],
   "source": [
    "formula_cre2 = 'lwage ~ 1 + married + union + expersq \\\n",
    "                          + exper + educ + black + hisp \\\n",
    "                          + married_mean + union_mean + expersq_mean \\\n",
    "                          +d81+d82+d83+d84+d85+d86+d87'\n",
    "\n",
    "result_cre2 = RandomEffects.from_formula(formula_cre2, data=wagepan).fit()\n",
    "\n",
    "print(result_cre2.summary.tables[1])"
   ]
  },
  {
   "cell_type": "code",
   "execution_count": 28,
   "metadata": {
    "hidden": true
   },
   "outputs": [
    {
     "data": {
      "text/plain": [
       "Linear Equality Hypothesis Test\n",
       "H0: Linear equality constraint is valid\n",
       "Statistic: 26.0233\n",
       "P-value: 0.0000\n",
       "Distributed: chi2(3)\n",
       "WaldTestStatistic, id: 0x7fc0a2c70ac0"
      ]
     },
     "execution_count": 28,
     "metadata": {},
     "output_type": "execute_result"
    }
   ],
   "source": [
    "result_cre2.wald_test(formula=restriction)"
   ]
  },
  {
   "cell_type": "code",
   "execution_count": 29,
   "metadata": {
    "hidden": true
   },
   "outputs": [
    {
     "name": "stdout",
     "output_type": "stream",
     "text": [
      "                             Parameter Estimates                              \n",
      "==============================================================================\n",
      "            Parameter  Std. Err.     T-stat    P-value    Lower CI    Upper CI\n",
      "------------------------------------------------------------------------------\n",
      "Intercept      0.0921     0.0783     1.1761     0.2396     -0.0614      0.2455\n",
      "married        0.1083     0.0157     6.8997     0.0000      0.0775      0.1390\n",
      "union          0.1825     0.0172     10.635     0.0000      0.1488      0.2161\n",
      "expersq       -0.0024     0.0008    -2.9413     0.0033     -0.0040     -0.0008\n",
      "exper          0.0672     0.0137     4.9095     0.0000      0.0404      0.0941\n",
      "educ           0.0913     0.0052     17.442     0.0000      0.0811      0.1016\n",
      "black         -0.1392     0.0236    -5.9049     0.0000     -0.1855     -0.0930\n",
      "hisp           0.0160     0.0208     0.7703     0.4412     -0.0248      0.0568\n",
      "d81            0.0583     0.0304     1.9214     0.0548     -0.0012      0.1178\n",
      "d82            0.0628     0.0332     1.8900     0.0588     -0.0023      0.1279\n",
      "d83            0.0620     0.0367     1.6915     0.0908     -0.0099      0.1339\n",
      "d84            0.0905     0.0401     2.2566     0.0241      0.0119      0.1691\n",
      "d85            0.1092     0.0434     2.5200     0.0118      0.0243      0.1942\n",
      "d86            0.1420     0.0464     3.0580     0.0022      0.0509      0.2330\n",
      "d87            0.1738     0.0494     3.5165     0.0004      0.0769      0.2707\n",
      "==============================================================================\n"
     ]
    }
   ],
   "source": [
    "formula_pool = 'lwage ~ 1 + married + union + expersq \\\n",
    "                        + exper + educ + black + hisp \\\n",
    "                        +d81+d82+d83+d84+d85+d86+d87'\n",
    "\n",
    "result_pool = PooledOLS.from_formula(formula_pool, data=wagepan).fit()\n",
    "\n",
    "print(result_pool.summary.tables[1])"
   ]
  },
  {
   "cell_type": "code",
   "execution_count": 30,
   "metadata": {
    "hidden": true
   },
   "outputs": [],
   "source": [
    "res = {'Pooled OLS':result_pool,\n",
    "       'FE': result_fe,\n",
    "       'RE': result_re,\n",
    "       'CRE': result_cre2\n",
    "      }\n",
    "\n",
    "# compare(res)"
   ]
  },
  {
   "cell_type": "code",
   "execution_count": 31,
   "metadata": {
    "hidden": true,
    "tags": [
     "output_scroll"
    ]
   },
   "outputs": [
    {
     "name": "stdout",
     "output_type": "stream",
     "text": [
      "                                     Model Comparison                                    \n",
      "=========================================================================================\n",
      "                            Pooled OLS             FE                RE               CRE\n",
      "-----------------------------------------------------------------------------------------\n",
      "Dep. Variable                    lwage          lwage             lwage             lwage\n",
      "Estimator                    PooledOLS       PanelOLS     RandomEffects     RandomEffects\n",
      "No. Observations                  4360           4360              4360              4360\n",
      "Cov. Est.                   Unadjusted     Unadjusted        Unadjusted        Unadjusted\n",
      "R-squared                       0.1893         0.1806            0.1806            0.1855\n",
      "R-Squared (Within)              0.1692         0.1806            0.1799            0.1806\n",
      "R-Squared (Between)             0.2066         0.2386            0.1853            0.2192\n",
      "R-Squared (Overall)             0.1893         0.2361            0.1828            0.2013\n",
      "F-statistic                     72.459         83.851            68.409            58.165\n",
      "P-value (F-stat)                0.0000         0.0000            0.0000            0.0000\n",
      "=====================     ============   ============   ===============   ===============\n",
      "Intercept                       0.0921                           0.0234           -0.1288\n",
      "                              (1.1761)                         (0.1546)         (-0.8140)\n",
      "married                         0.1083         0.0467            0.0638            0.0467\n",
      "                              (6.8997)       (2.5494)          (3.8035)          (2.5520)\n",
      "union                           0.1825         0.0800            0.1059            0.0800\n",
      "                              (10.635)       (4.1430)          (5.9289)          (4.1473)\n",
      "expersq                        -0.0024        -0.0052           -0.0047           -0.0052\n",
      "                             (-2.9413)      (-7.3612)         (-6.8623)         (-7.3689)\n",
      "exper                           0.0672                           0.1058           -0.0504\n",
      "                              (4.9095)                         (6.8706)         (-0.9947)\n",
      "educ                            0.0913                           0.0919            0.0946\n",
      "                              (17.442)                         (8.5744)          (8.6115)\n",
      "black                          -0.1392                          -0.1394           -0.1388\n",
      "                             (-5.9049)                        (-2.9054)         (-2.8193)\n",
      "hisp                            0.0160                           0.0217            0.0048\n",
      "                              (0.7703)                         (0.5078)          (0.1110)\n",
      "d81                             0.0583         0.1512            0.0404            0.2016\n",
      "                              (1.9214)       (6.8883)          (1.6362)          (3.6497)\n",
      "d82                             0.0628         0.2530            0.0309            0.3538\n",
      "                              (1.8900)       (10.360)          (0.9519)          (3.3923)\n",
      "d83                             0.0620         0.3544            0.0202            0.5058\n",
      "                              (1.6915)       (12.121)          (0.4840)          (3.2650)\n",
      "d84                             0.0905         0.4901            0.0430            0.6919\n",
      "                              (2.2566)       (13.529)          (0.8350)          (3.3580)\n",
      "d85                             0.1092         0.6175            0.0577            0.8697\n",
      "                              (2.5200)       (13.648)          (0.9383)          (3.3768)\n",
      "d86                             0.1420         0.7655            0.0918            1.0681\n",
      "                              (3.0580)       (13.638)          (1.2834)          (3.4525)\n",
      "d87                             0.1738         0.9250            0.1348            1.2781\n",
      "                              (3.5165)       (13.450)          (1.6504)          (3.5351)\n",
      "married_mean                                                                       0.0970\n",
      "                                                                                 (2.1382)\n",
      "union_mean                                                                         0.1907\n",
      "                                                                                 (3.7591)\n",
      "expersq_mean                                                                       0.0103\n",
      "                                                                                 (3.1135)\n",
      "======================= ============== ============== ================= =================\n",
      "Effects                                        Entity                                    \n",
      "-----------------------------------------------------------------------------------------\n",
      "\n",
      "T-stats reported in parentheses\n"
     ]
    }
   ],
   "source": [
    "res_ordered = OrderedDict(res)\n",
    "print(compare(res_ordered))"
   ]
  },
  {
   "cell_type": "code",
   "execution_count": 32,
   "metadata": {
    "hidden": true
   },
   "outputs": [],
   "source": [
    "b0 = 1  # 定数項\n",
    "b1 = 2  # スロープ係数"
   ]
  },
  {
   "cell_type": "code",
   "execution_count": 33,
   "metadata": {
    "hidden": true
   },
   "outputs": [],
   "source": [
    "N = 100  # 観察単位の数\n",
    "T = 5  # 時間数\n",
    "ai = np.linspace(0,10,N)  # 観察単位の異質性"
   ]
  },
  {
   "cell_type": "code",
   "execution_count": 34,
   "metadata": {
    "hidden": true
   },
   "outputs": [],
   "source": [
    "df_sim = pd.DataFrame()  # 空のDataFrame\n",
    "\n",
    "for (idx,a) in enumerate(ai):\n",
    "    \n",
    "    x = norm.rvs(a,1,size=T)  # T個のaが平均となるランダムな数\n",
    "    u = norm.rvs(0,1,size=T)  # 誤差項\n",
    "    y = b0 + b1*x + a + u  # 被説明変数\n",
    "    df_idx = pd.DataFrame({'id':[idx]*T,    # 観察個体のID\n",
    "                         'time':np.array(range(T))+2000,\n",
    "                         'Y':y,\n",
    "                         'X':x,\n",
    "                         'ai':[a]*T})\n",
    "    df_sim = pd.concat([df_sim,df_idx])"
   ]
  },
  {
   "cell_type": "code",
   "execution_count": 35,
   "metadata": {
    "hidden": true
   },
   "outputs": [
    {
     "data": {
      "text/html": [
       "<div>\n",
       "<style scoped>\n",
       "    .dataframe tbody tr th:only-of-type {\n",
       "        vertical-align: middle;\n",
       "    }\n",
       "\n",
       "    .dataframe tbody tr th {\n",
       "        vertical-align: top;\n",
       "    }\n",
       "\n",
       "    .dataframe thead th {\n",
       "        text-align: right;\n",
       "    }\n",
       "</style>\n",
       "<table border=\"1\" class=\"dataframe\">\n",
       "  <thead>\n",
       "    <tr style=\"text-align: right;\">\n",
       "      <th></th>\n",
       "      <th></th>\n",
       "      <th>Y</th>\n",
       "      <th>X</th>\n",
       "      <th>ai</th>\n",
       "    </tr>\n",
       "    <tr>\n",
       "      <th>id</th>\n",
       "      <th>time</th>\n",
       "      <th></th>\n",
       "      <th></th>\n",
       "      <th></th>\n",
       "    </tr>\n",
       "  </thead>\n",
       "  <tbody>\n",
       "    <tr>\n",
       "      <th rowspan=\"5\" valign=\"top\">0</th>\n",
       "      <th>2000</th>\n",
       "      <td>2.409791</td>\n",
       "      <td>1.265950</td>\n",
       "      <td>0.0</td>\n",
       "    </tr>\n",
       "    <tr>\n",
       "      <th>2001</th>\n",
       "      <td>2.643009</td>\n",
       "      <td>0.185675</td>\n",
       "      <td>0.0</td>\n",
       "    </tr>\n",
       "    <tr>\n",
       "      <th>2002</th>\n",
       "      <td>-0.707936</td>\n",
       "      <td>-0.733003</td>\n",
       "      <td>0.0</td>\n",
       "    </tr>\n",
       "    <tr>\n",
       "      <th>2003</th>\n",
       "      <td>4.209790</td>\n",
       "      <td>1.386730</td>\n",
       "      <td>0.0</td>\n",
       "    </tr>\n",
       "    <tr>\n",
       "      <th>2004</th>\n",
       "      <td>0.354344</td>\n",
       "      <td>-0.307892</td>\n",
       "      <td>0.0</td>\n",
       "    </tr>\n",
       "  </tbody>\n",
       "</table>\n",
       "</div>"
      ],
      "text/plain": [
       "                Y         X   ai\n",
       "id time                         \n",
       "0  2000  2.409791  1.265950  0.0\n",
       "   2001  2.643009  0.185675  0.0\n",
       "   2002 -0.707936 -0.733003  0.0\n",
       "   2003  4.209790  1.386730  0.0\n",
       "   2004  0.354344 -0.307892  0.0"
      ]
     },
     "execution_count": 35,
     "metadata": {},
     "output_type": "execute_result"
    }
   ],
   "source": [
    "# id と time の列を 整数型に変換（省いても問題ない）\n",
    "df_sim['id'] = df_sim['id'].astype(int)\n",
    "df_sim['time'] = df_sim['time'].astype(int)\n",
    "\n",
    "# MultiIndex化\n",
    "df_sim = df_sim.set_index(['id','time'])\n",
    "\n",
    "df_sim.head()"
   ]
  },
  {
   "cell_type": "code",
   "execution_count": 36,
   "metadata": {
    "hidden": true
   },
   "outputs": [
    {
     "name": "stdout",
     "output_type": "stream",
     "text": [
      "                             Parameter Estimates                              \n",
      "==============================================================================\n",
      "            Parameter  Std. Err.     T-stat    P-value    Lower CI    Upper CI\n",
      "------------------------------------------------------------------------------\n",
      "X              2.0482     0.0553     37.018     0.0000      1.9394      2.1570\n",
      "==============================================================================\n"
     ]
    },
    {
     "name": "stderr",
     "output_type": "stream",
     "text": [
      "/Users/Tetsu/anaconda3/envs/latest/lib/python3.8/site-packages/linearmodels/panel/data.py:98: FutureWarning: is_categorical is deprecated and will be removed in a future version.  Use is_categorical_dtype instead\n",
      "  if is_categorical(s):\n"
     ]
    }
   ],
   "source": [
    "form_sim_fe = 'Y ~ X + EntityEffects'\n",
    "\n",
    "sim_fe = PanelOLS.from_formula(form_sim_fe, data=df_sim).fit()\n",
    "\n",
    "print(sim_fe.summary.tables[1])"
   ]
  },
  {
   "cell_type": "code",
   "execution_count": 37,
   "metadata": {
    "hidden": true
   },
   "outputs": [
    {
     "name": "stdout",
     "output_type": "stream",
     "text": [
      "                             Parameter Estimates                              \n",
      "==============================================================================\n",
      "            Parameter  Std. Err.     T-stat    P-value    Lower CI    Upper CI\n",
      "------------------------------------------------------------------------------\n",
      "Intercept      1.7778     0.1338     13.287     0.0000      1.5149      2.0406\n",
      "X              2.8523     0.0228     124.92     0.0000      2.8074      2.8971\n",
      "==============================================================================\n",
      "theta: [0.21052027]\n"
     ]
    }
   ],
   "source": [
    "form_sim_re = 'Y ~ 1 + X'\n",
    "\n",
    "sim_re = RandomEffects.from_formula(form_sim_re, data=df_sim).fit()\n",
    "\n",
    "print(sim_re.summary.tables[1])\n",
    "print('theta:', sim_re.theta.iloc[0,:].values)"
   ]
  },
  {
   "cell_type": "code",
   "execution_count": 38,
   "metadata": {
    "hidden": true
   },
   "outputs": [],
   "source": [
    "df_sim = add_col_mean(df_sim, 'X', 'X_mean')"
   ]
  },
  {
   "cell_type": "code",
   "execution_count": 39,
   "metadata": {
    "hidden": true
   },
   "outputs": [
    {
     "name": "stdout",
     "output_type": "stream",
     "text": [
      "                             Parameter Estimates                              \n",
      "==============================================================================\n",
      "            Parameter  Std. Err.     T-stat    P-value    Lower CI    Upper CI\n",
      "------------------------------------------------------------------------------\n",
      "Intercept      1.2603     0.1154     10.919     0.0000      1.0335      1.4871\n",
      "X              2.0482     0.0553     37.046     0.0000      1.9396      2.1569\n",
      "X_mean         0.9088     0.0588     15.454     0.0000      0.7933      1.0243\n",
      "==============================================================================\n"
     ]
    }
   ],
   "source": [
    "form_sim_cre = 'Y ~ 1 + X + X_mean'\n",
    "\n",
    "sim_cre = RandomEffects.from_formula(form_sim_cre, data=df_sim).fit()\n",
    "\n",
    "print(sim_cre.summary.tables[1])"
   ]
  },
  {
   "cell_type": "code",
   "execution_count": 40,
   "metadata": {
    "hidden": true
   },
   "outputs": [
    {
     "name": "stdout",
     "output_type": "stream",
     "text": [
      "                             Parameter Estimates                              \n",
      "==============================================================================\n",
      "            Parameter  Std. Err.     T-stat    P-value    Lower CI    Upper CI\n",
      "------------------------------------------------------------------------------\n",
      "Intercept      1.5975     0.1123     14.223     0.0000      1.3768      1.8182\n",
      "X              2.8888     0.0193     149.76     0.0000      2.8509      2.9267\n",
      "==============================================================================\n"
     ]
    }
   ],
   "source": [
    "form_sim_pool = 'Y ~ 1 + X'\n",
    "\n",
    "sim_pool = PooledOLS.from_formula(form_sim_pool, data=df_sim).fit()\n",
    "\n",
    "print(sim_pool.summary.tables[1])"
   ]
  },
  {
   "cell_type": "code",
   "execution_count": 41,
   "metadata": {
    "hidden": true
   },
   "outputs": [],
   "source": [
    "N = 100  # 観察単位数\n",
    "T = 5  # 年数\n",
    "R = 100  # シミュレーションの回数\n",
    "ai = np.linspace(0,10,N)  # 観察単位の異質性"
   ]
  },
  {
   "cell_type": "code",
   "execution_count": 42,
   "metadata": {
    "hidden": true
   },
   "outputs": [],
   "source": [
    "bhat_fe_list = []  # FE推定値を入れるための空のリスト\n",
    "bhat_re_list = []  # RE推定値を入れるための空のリスト\n",
    "bhat_pool_list = []  # Pooled OLS推定値を入れるための空のリスト\n",
    "\n",
    "for _ in range(R):  # Rの値は下のコードで使わないので\"_\"に設定する\n",
    "    \n",
    "    df = pd.DataFrame()  # 空のDataFrame\n",
    "\n",
    "    # データの生成\n",
    "    for (idx,a) in enumerate(ai):\n",
    "        x = norm.rvs(a,1,size=T)  # T個のaが平均となるランダムな数\n",
    "        u = norm.rvs(0,1,size=T)  # T個の誤差項\n",
    "        y = b0 + b1*x + a + u  # T個の被説明変数\n",
    "        df_idx = pd.DataFrame({'id':[idx]*T,      # DataFrameへ表の追加\n",
    "                             'time':np.array(range(T))+2000,\n",
    "                             'Y':y,\n",
    "                             'X':x,\n",
    "                             'ai':[a]*T})\n",
    "        df = pd.concat([df,df_idx])\n",
    "        \n",
    "    # RE推定\n",
    "    df_re = df.set_index(['id','time'])  # MultiIndex化\n",
    "    form_sim_re = 'Y ~ 1 + X'\n",
    "    sim_re = RandomEffects.from_formula(form_sim_re, data=df_re).fit()\n",
    "    bhat_re_list.append(sim_re.params[1])\n",
    "\n",
    "    # FE推定\n",
    "    df_fe = df.loc[:,['Y','X']] - df.groupby('id')[['Y','X']].transform('mean')\n",
    "    Yfe = df_fe.loc[:,'Y'].values\n",
    "    Xfe = df_fe.loc[:,'X'].values[:,None]  # [:,None]は(N*T,1)の行列に変換\n",
    "    bhat_fe = (np.linalg.inv(Xfe.T@Xfe)@Xfe.T@Yfe)[0]\n",
    "    bhat_fe_list.append(bhat_fe)\n",
    "    \n",
    "    # Pooled OLS推定\n",
    "    c = np.ones(N*T)\n",
    "    Xpool = np.stack([c, df.loc[:,'X'].values], axis=1)\n",
    "    Ypool = df.loc[:,'Y'].values\n",
    "    bhat_pool = (np.linalg.inv(Xpool.T@Xpool)@Xpool.T@Ypool)[1]\n",
    "    bhat_pool_list.append(bhat_pool)"
   ]
  },
  {
   "cell_type": "code",
   "execution_count": 43,
   "metadata": {
    "hidden": true
   },
   "outputs": [
    {
     "data": {
      "image/png": "[encoded data removed]",
      "text/plain": [
       "<Figure size 432x288 with 1 Axes>"
      ]
     },
     "metadata": {
      "needs_background": "light"
     },
     "output_type": "display_data"
    }
   ],
   "source": [
    "xx=np.linspace(1.6,3.1,num=100)  # 図を作成するために横軸の値を設定\n",
    "\n",
    "kde_model_fe=gaussian_kde(bhat_fe_list)  # FE推定量のカーネル密度関数を計算\n",
    "\n",
    "kde_model_re=gaussian_kde(bhat_re_list)  # RE推定量のカーネル密度関数を計算\n",
    "\n",
    "kde_model_pool=gaussian_kde(bhat_pool_list)  # Pooled OLS推定量のカーネル密度関数を計算\n",
    "\n",
    "plt.plot(xx, kde_model_fe(xx), 'g-', label='FE')  # FE推定量の分布プロット\n",
    "plt.plot(xx, kde_model_re(xx),'r-', label='RE')  # RE推定量の分布プロット\n",
    "plt.plot(xx, kde_model_pool(xx),'k-', label='Pooled OLS')  # RE推定量の分布プロット\n",
    "plt.axvline(x=b1,linestyle='dashed')  # 真の値での垂直線\n",
    "plt.ylabel('Kernel Density')  # 縦軸のラベル\n",
    "plt.legend()  # 凡例\n",
    "pass"
   ]
  },
  {
   "cell_type": "code",
   "execution_count": 44,
   "metadata": {
    "hidden": true
   },
   "outputs": [],
   "source": [
    "# 残差\n",
    "u_hat = result_fe.resids.values.flatten()\n",
    "\n",
    "# 被説明変数の予測値\n",
    "y_hat = result_fe.fitted_values.values.flatten()\n",
    "\n",
    "# DataFrameの作成\n",
    "df_white = pd.DataFrame({'u_hat':u_hat,'y_hat':y_hat})"
   ]
  },
  {
   "cell_type": "code",
   "execution_count": 45,
   "metadata": {
    "hidden": true
   },
   "outputs": [
    {
     "name": "stdout",
     "output_type": "stream",
     "text": [
      "=================================================================================\n",
      "                    coef    std err          t      P>|t|      [0.025      0.975]\n",
      "---------------------------------------------------------------------------------\n",
      "Intercept         0.1172      0.010     11.249      0.000       0.097       0.138\n",
      "y_hat            -0.0205      0.048     -0.428      0.668      -0.114       0.073\n",
      "I(y_hat ** 2)    -0.0550      0.099     -0.557      0.577      -0.248       0.138\n",
      "=================================================================================\n",
      "F検定のp値： 0.4354339447413128\n"
     ]
    }
   ],
   "source": [
    "form_white = 'I(u_hat**2) ~ y_hat + I(y_hat**2)'\n",
    "\n",
    "res_white = ols(form_white, data=df_white).fit()\n",
    "\n",
    "print(res_white.summary().tables[1])\n",
    "print('F検定のp値：',res_white.f_pvalue)"
   ]
  },
  {
   "cell_type": "code",
   "execution_count": 46,
   "metadata": {
    "hidden": true
   },
   "outputs": [
    {
     "data": {
      "image/png": "[encoded data removed]",
      "text/plain": [
       "<Figure size 432x288 with 1 Axes>"
      ]
     },
     "metadata": {
      "needs_background": "light"
     },
     "output_type": "display_data"
    }
   ],
   "source": [
    "b0 = res_white.params[0] # beta0\n",
    "b1 = res_white.params[1] # beta1\n",
    "b2 = res_white.params[2] # beta2\n",
    "\n",
    "xx = np.linspace(min(y_hat), max(y_hat), 100) # x軸の値\n",
    "z = b0 + b1*xx + b1*xx**2  # 検定に使った式\n",
    "\n",
    "plt.scatter(y_hat, u_hat**2)  # u_hat, y_hatの散布図\n",
    "plt.plot(xx, z, 'red', linewidth=3)  # 検定の式の曲線\n",
    "plt.xlabel('y_hat')\n",
    "plt.ylabel('u_hat^2')\n",
    "pass"
   ]
  },
  {
   "cell_type": "code",
   "execution_count": 47,
   "metadata": {
    "hidden": true
   },
   "outputs": [
    {
     "name": "stdout",
     "output_type": "stream",
     "text": [
      "                             Parameter Estimates                              \n",
      "==============================================================================\n",
      "            Parameter  Std. Err.     T-stat    P-value    Lower CI    Upper CI\n",
      "------------------------------------------------------------------------------\n",
      "married        0.0467     0.0210     2.2245     0.0262      0.0055      0.0878\n",
      "union          0.0800     0.0227     3.5209     0.0004      0.0355      0.1246\n",
      "expersq       -0.0052     0.0008    -6.4058     0.0000     -0.0068     -0.0036\n",
      "d81            0.1512     0.0255     5.9195     0.0000      0.1011      0.2013\n",
      "d82            0.2530     0.0286     8.8340     0.0000      0.1968      0.3091\n",
      "d83            0.3544     0.0348     10.177     0.0000      0.2862      0.4227\n",
      "d84            0.4901     0.0454     10.792     0.0000      0.4011      0.5792\n",
      "d85            0.6175     0.0568     10.879     0.0000      0.5062      0.7288\n",
      "d86            0.7655     0.0712     10.755     0.0000      0.6259      0.9050\n",
      "d87            0.9250     0.0840     11.015     0.0000      0.7604      1.0897\n",
      "==============================================================================\n"
     ]
    },
    {
     "name": "stderr",
     "output_type": "stream",
     "text": [
      "/Users/Tetsu/anaconda3/envs/latest/lib/python3.8/site-packages/linearmodels/panel/data.py:98: FutureWarning: is_categorical is deprecated and will be removed in a future version.  Use is_categorical_dtype instead\n",
      "  if is_categorical(s):\n"
     ]
    }
   ],
   "source": [
    "mod_fe_clus1 = PanelOLS.from_formula(formula_fe, data=wagepan)\n",
    "\n",
    "res_fe_clus1 = mod_fe_clus1.fit(cov_type='clustered', cluster_entity=True)\n",
    "\n",
    "print(res_fe_clus1.summary.tables[1])"
   ]
  },
  {
   "cell_type": "code",
   "execution_count": 48,
   "metadata": {
    "hidden": true
   },
   "outputs": [
    {
     "name": "stdout",
     "output_type": "stream",
     "text": [
      "                             Parameter Estimates                              \n",
      "==============================================================================\n",
      "            Parameter  Std. Err.     T-stat    P-value    Lower CI    Upper CI\n",
      "------------------------------------------------------------------------------\n",
      "married        0.0467     0.0165     2.8312     0.0047      0.0144      0.0790\n",
      "union          0.0800     0.0234     3.4242     0.0006      0.0342      0.1258\n",
      "expersq       -0.0052     0.0008    -6.6189     0.0000     -0.0067     -0.0036\n",
      "d81            0.1512     0.0066     23.020     0.0000      0.1383      0.1641\n",
      "d82            0.2530     0.0168     15.027     0.0000      0.2200      0.2860\n",
      "d83            0.3544     0.0255     13.886     0.0000      0.3044      0.4045\n",
      "d84            0.4901     0.0374     13.113     0.0000      0.4168      0.5634\n",
      "d85            0.6175     0.0499     12.366     0.0000      0.5196      0.7154\n",
      "d86            0.7655     0.0646     11.858     0.0000      0.6389      0.8921\n",
      "d87            0.9250     0.0776     11.913     0.0000      0.7728      1.0773\n",
      "==============================================================================\n"
     ]
    }
   ],
   "source": [
    "mod_fe_clus2 = PanelOLS.from_formula(formula_fe, data=wagepan)\n",
    "\n",
    "res_fe_clus2 = mod_fe_clus2.fit(cov_type='clustered', cluster_entity=True, cluster_time=True)\n",
    "\n",
    "print(res_fe_clus2.summary.tables[1])"
   ]
  }
 ],
 "metadata": {
  "celltoolbar": "Tags",
  "kernelspec": {
   "display_name": "latest",
   "language": "python",
   "name": "latest"
  },
  "language_info": {
   "codemirror_mode": {
    "name": "ipython",
    "version": 3
   },
   "file_extension": ".py",
   "mimetype": "text/x-python",
   "name": "python",
   "nbconvert_exporter": "python",
   "pygments_lexer": "ipython3",
   "version": "3.8.5"
  },
  "toc": {
   "base_numbering": 1,
   "nav_menu": {},
   "number_sections": true,
   "sideBar": true,
   "skip_h1_title": false,
   "title_cell": "Table of Contents",
   "title_sidebar": "Contents",
   "toc_cell": false,
   "toc_position": {},
   "toc_section_display": true,
   "toc_window_display": false
  }
 },
 "nbformat": 4,
 "nbformat_minor": 2
}